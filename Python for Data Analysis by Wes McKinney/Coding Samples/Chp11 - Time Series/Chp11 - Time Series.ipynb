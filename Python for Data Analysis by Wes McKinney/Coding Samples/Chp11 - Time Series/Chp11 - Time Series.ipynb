{
 "cells": [
  {
   "cell_type": "markdown",
   "metadata": {},
   "source": [
    "Time series data is an important form of structured data in many different fields, such\n",
    "as finance, economics, ecology, neuroscience, and physics. Anything that is observed\n",
    "or measured at many points in time forms a time series. Many time series are fixed\n",
    "frequency, which is to say that data points occur at regular intervals according to some\n",
    "rule, such as every 15 seconds, every 5 minutes, or once per month. Time series can\n",
    "also be irregular without a fixed unit of time or offset between units.`"
   ]
  },
  {
   "cell_type": "markdown",
   "metadata": {},
   "source": [
    "How you mark and refer to time series data depends on the application, and you may have one of the following:\n",
    "1. Timestamps, specific instants in time\n",
    "2. Fixed periods, such as the month January 2007 or the full year 2010\n",
    "3. Intervals of time, indicated by a start and end timestamp. Periods can be thought of as special cases of intervals\n",
    "4. Experiment or elapsed time; each timestamp is a measure of time relative to a particular start time (e.g., the diameter of a cookie baking each second since being placed in the oven)\n"
   ]
  },
  {
   "cell_type": "code",
   "execution_count": 1,
   "metadata": {},
   "outputs": [],
   "source": [
    "import numpy as np\n",
    "import pandas as pd"
   ]
  },
  {
   "cell_type": "code",
   "execution_count": 2,
   "metadata": {},
   "outputs": [],
   "source": [
    "import matplotlib.pyplot as plt\n",
    "import seaborn as sns\n",
    "\n",
    "%matplotlib inline"
   ]
  },
  {
   "cell_type": "markdown",
   "metadata": {},
   "source": [
    "# 11.1 Date and Time Data Types and Tools"
   ]
  },
  {
   "cell_type": "code",
   "execution_count": 3,
   "metadata": {},
   "outputs": [],
   "source": [
    "from datetime import datetime"
   ]
  },
  {
   "cell_type": "code",
   "execution_count": 17,
   "metadata": {},
   "outputs": [],
   "source": [
    "now = datetime.now()"
   ]
  },
  {
   "cell_type": "code",
   "execution_count": 18,
   "metadata": {},
   "outputs": [
    {
     "name": "stdout",
     "output_type": "stream",
     "text": [
      "2020-07-20 11:24:55.911926\n"
     ]
    }
   ],
   "source": [
    "print(now)"
   ]
  },
  {
   "cell_type": "code",
   "execution_count": 23,
   "metadata": {},
   "outputs": [
    {
     "data": {
      "text/plain": [
       "2020"
      ]
     },
     "execution_count": 23,
     "metadata": {},
     "output_type": "execute_result"
    }
   ],
   "source": [
    "now.year"
   ]
  },
  {
   "cell_type": "code",
   "execution_count": 24,
   "metadata": {},
   "outputs": [
    {
     "data": {
      "text/plain": [
       "20"
      ]
     },
     "execution_count": 24,
     "metadata": {},
     "output_type": "execute_result"
    }
   ],
   "source": [
    "now.day"
   ]
  },
  {
   "cell_type": "code",
   "execution_count": 25,
   "metadata": {},
   "outputs": [
    {
     "data": {
      "text/plain": [
       "7"
      ]
     },
     "execution_count": 25,
     "metadata": {},
     "output_type": "execute_result"
    }
   ],
   "source": [
    "now.month"
   ]
  },
  {
   "cell_type": "code",
   "execution_count": 26,
   "metadata": {},
   "outputs": [
    {
     "data": {
      "text/plain": [
       "(2020, 20, 7)"
      ]
     },
     "execution_count": 26,
     "metadata": {},
     "output_type": "execute_result"
    }
   ],
   "source": [
    "now.year, now.day, now.month"
   ]
  },
  {
   "cell_type": "code",
   "execution_count": 32,
   "metadata": {},
   "outputs": [
    {
     "data": {
      "text/plain": [
       "datetime.timedelta(days=1981, seconds=60120)"
      ]
     },
     "execution_count": 32,
     "metadata": {},
     "output_type": "execute_result"
    }
   ],
   "source": [
    "delta = datetime(2020, 7, 20) - datetime(2015, 2, 15, 7, 18)\n",
    "delta"
   ]
  },
  {
   "cell_type": "code",
   "execution_count": 35,
   "metadata": {},
   "outputs": [
    {
     "data": {
      "text/plain": [
       "1981"
      ]
     },
     "execution_count": 35,
     "metadata": {},
     "output_type": "execute_result"
    }
   ],
   "source": [
    "delta.days"
   ]
  },
  {
   "cell_type": "code",
   "execution_count": 36,
   "metadata": {},
   "outputs": [
    {
     "data": {
      "text/plain": [
       "60120"
      ]
     },
     "execution_count": 36,
     "metadata": {},
     "output_type": "execute_result"
    }
   ],
   "source": [
    "delta.seconds"
   ]
  },
  {
   "cell_type": "code",
   "execution_count": 37,
   "metadata": {},
   "outputs": [],
   "source": [
    "from datetime import timedelta"
   ]
  },
  {
   "cell_type": "code",
   "execution_count": 38,
   "metadata": {},
   "outputs": [],
   "source": [
    "start = datetime(1998, 8, 24)"
   ]
  },
  {
   "cell_type": "code",
   "execution_count": 39,
   "metadata": {},
   "outputs": [
    {
     "data": {
      "text/plain": [
       "datetime.datetime(1998, 8, 22, 0, 0)"
      ]
     },
     "execution_count": 39,
     "metadata": {},
     "output_type": "execute_result"
    }
   ],
   "source": [
    "start + timedelta(-2)"
   ]
  },
  {
   "cell_type": "code",
   "execution_count": 40,
   "metadata": {},
   "outputs": [
    {
     "data": {
      "text/plain": [
       "datetime.datetime(1998, 8, 28, 0, 0)"
      ]
     },
     "execution_count": 40,
     "metadata": {},
     "output_type": "execute_result"
    }
   ],
   "source": [
    "start - 2 * timedelta(-2)"
   ]
  },
  {
   "cell_type": "markdown",
   "metadata": {},
   "source": [
    "*See Table 11-1. Types in datetime module*"
   ]
  },
  {
   "cell_type": "markdown",
   "metadata": {},
   "source": [
    "![Types in datetime module](Img/11.1.png)"
   ]
  },
  {
   "cell_type": "markdown",
   "metadata": {},
   "source": [
    "## Converting Between String and Datetime"
   ]
  },
  {
   "cell_type": "code",
   "execution_count": 42,
   "metadata": {},
   "outputs": [],
   "source": [
    "stamp = datetime(2020, 8, 24)"
   ]
  },
  {
   "cell_type": "code",
   "execution_count": 44,
   "metadata": {},
   "outputs": [
    {
     "data": {
      "text/plain": [
       "'2020-08-24 00:00:00'"
      ]
     },
     "execution_count": 44,
     "metadata": {},
     "output_type": "execute_result"
    }
   ],
   "source": [
    "str(stamp)"
   ]
  },
  {
   "cell_type": "code",
   "execution_count": 45,
   "metadata": {},
   "outputs": [
    {
     "data": {
      "text/plain": [
       "'2020-08-24'"
      ]
     },
     "execution_count": 45,
     "metadata": {},
     "output_type": "execute_result"
    }
   ],
   "source": [
    "# Converting stamp-time into stamp-str\n",
    "stamp.strftime('%Y-%m-%d')"
   ]
  },
  {
   "cell_type": "markdown",
   "metadata": {},
   "source": [
    "*See Table 11-2 for a complete list of the format codes present in Chp2*"
   ]
  },
  {
   "cell_type": "code",
   "execution_count": 46,
   "metadata": {},
   "outputs": [],
   "source": [
    "value = '2020-08-24'"
   ]
  },
  {
   "cell_type": "code",
   "execution_count": 49,
   "metadata": {},
   "outputs": [],
   "source": [
    "stamp = datetime.strptime(value, '%Y-%m-%d')"
   ]
  },
  {
   "cell_type": "code",
   "execution_count": 50,
   "metadata": {},
   "outputs": [
    {
     "data": {
      "text/plain": [
       "datetime.datetime(2020, 8, 24, 0, 0)"
      ]
     },
     "execution_count": 50,
     "metadata": {},
     "output_type": "execute_result"
    }
   ],
   "source": [
    "stamp"
   ]
  },
  {
   "cell_type": "code",
   "execution_count": 53,
   "metadata": {},
   "outputs": [],
   "source": [
    "datelists = ['2020-02-24', '2019-08-15', '2018-04-18']"
   ]
  },
  {
   "cell_type": "code",
   "execution_count": 55,
   "metadata": {},
   "outputs": [
    {
     "data": {
      "text/plain": [
       "[datetime.datetime(2020, 2, 24, 0, 0),\n",
       " datetime.datetime(2019, 8, 15, 0, 0),\n",
       " datetime.datetime(2018, 4, 18, 0, 0)]"
      ]
     },
     "execution_count": 55,
     "metadata": {},
     "output_type": "execute_result"
    }
   ],
   "source": [
    "[datetime.strptime(x, '%Y-%m-%d') for x in datelists]   "
   ]
  },
  {
   "cell_type": "markdown",
   "metadata": {},
   "source": [
    "**datetime.strptime** is a good way to parse a date with a known format. However, it\n",
    "can be a bit annoying to have to write a format spec each time, especially for common\n",
    "date formats. In this case, you can use the **parser.parse** method in the third-party\n",
    "dateutil package (this is installed automatically when you install pandas):"
   ]
  },
  {
   "cell_type": "code",
   "execution_count": 56,
   "metadata": {},
   "outputs": [],
   "source": [
    "from dateutil.parser import parse"
   ]
  },
  {
   "cell_type": "code",
   "execution_count": 57,
   "metadata": {},
   "outputs": [
    {
     "data": {
      "text/plain": [
       "datetime.datetime(1998, 8, 24, 0, 0)"
      ]
     },
     "execution_count": 57,
     "metadata": {},
     "output_type": "execute_result"
    }
   ],
   "source": [
    "parse('1998-08-24')"
   ]
  },
  {
   "cell_type": "code",
   "execution_count": 63,
   "metadata": {},
   "outputs": [
    {
     "data": {
      "text/plain": [
       "datetime.datetime(1998, 8, 24, 4, 3)"
      ]
     },
     "execution_count": 63,
     "metadata": {},
     "output_type": "execute_result"
    }
   ],
   "source": [
    "parse('August 24 1998 4:03 AM')"
   ]
  },
  {
   "cell_type": "code",
   "execution_count": 71,
   "metadata": {},
   "outputs": [
    {
     "data": {
      "text/plain": [
       "datetime.datetime(2011, 12, 26, 0, 0)"
      ]
     },
     "execution_count": 71,
     "metadata": {},
     "output_type": "execute_result"
    }
   ],
   "source": [
    "parse('26/12/2011')"
   ]
  },
  {
   "cell_type": "code",
   "execution_count": 72,
   "metadata": {},
   "outputs": [
    {
     "data": {
      "text/plain": [
       "datetime.datetime(2011, 12, 6, 0, 0)"
      ]
     },
     "execution_count": 72,
     "metadata": {},
     "output_type": "execute_result"
    }
   ],
   "source": [
    "parse('6/12/2011', dayfirst=True)"
   ]
  },
  {
   "cell_type": "code",
   "execution_count": 73,
   "metadata": {},
   "outputs": [],
   "source": [
    "datestrs = ['2011-07-06 12:00:00', '2011-08-06 00:00:00']"
   ]
  },
  {
   "cell_type": "code",
   "execution_count": 77,
   "metadata": {},
   "outputs": [
    {
     "data": {
      "text/plain": [
       "DatetimeIndex(['2011-07-06 12:00:00', '2011-08-06 00:00:00'], dtype='datetime64[ns]', freq=None)"
      ]
     },
     "execution_count": 77,
     "metadata": {},
     "output_type": "execute_result"
    }
   ],
   "source": [
    "stamp = pd.to_datetime(datestrs)\n",
    "stamp"
   ]
  },
  {
   "cell_type": "code",
   "execution_count": 78,
   "metadata": {},
   "outputs": [
    {
     "data": {
      "text/plain": [
       "DatetimeIndex(['2011-07-06 12:00:00', '2011-08-06 00:00:00', 'NaT'], dtype='datetime64[ns]', freq=None)"
      ]
     },
     "execution_count": 78,
     "metadata": {},
     "output_type": "execute_result"
    }
   ],
   "source": [
    "stamp = pd.to_datetime(datestrs + [None])\n",
    "stamp"
   ]
  },
  {
   "cell_type": "code",
   "execution_count": 79,
   "metadata": {},
   "outputs": [
    {
     "data": {
      "text/plain": [
       "NaT"
      ]
     },
     "execution_count": 79,
     "metadata": {},
     "output_type": "execute_result"
    }
   ],
   "source": [
    "stamp[2]"
   ]
  },
  {
   "cell_type": "markdown",
   "metadata": {},
   "source": [
    "**NaT** (Not a Time) is pandas’s null value for timestamp data."
   ]
  },
  {
   "cell_type": "markdown",
   "metadata": {},
   "source": [
    "*See Table 11-3. Locale-specific date formatting*"
   ]
  },
  {
   "cell_type": "markdown",
   "metadata": {},
   "source": [
    "![Locale-specific date formatting](Img/11.3.png)"
   ]
  },
  {
   "cell_type": "markdown",
   "metadata": {},
   "source": [
    "# 11.2 Time Series Basics"
   ]
  },
  {
   "cell_type": "markdown",
   "metadata": {},
   "source": [
    "A basic kind of time series object in pandas is a Series indexed by timestamps, which\n",
    "is often represented external to pandas as Python strings or datetime objects"
   ]
  },
  {
   "cell_type": "code",
   "execution_count": 84,
   "metadata": {},
   "outputs": [],
   "source": [
    "dates = [datetime(2011, 1, 2), datetime(2011, 1, 5), datetime(2011, 1, 7),\n",
    "         datetime(2011, 1, 8), datetime(2011, 1, 10), datetime(2011, 1, 12)]"
   ]
  },
  {
   "cell_type": "code",
   "execution_count": 89,
   "metadata": {},
   "outputs": [],
   "source": [
    "ts = pd.Series(np.random.randn(6), index=dates)"
   ]
  },
  {
   "cell_type": "code",
   "execution_count": 90,
   "metadata": {},
   "outputs": [
    {
     "data": {
      "text/plain": [
       "2011-01-02   -0.115575\n",
       "2011-01-05    1.649951\n",
       "2011-01-07   -2.462054\n",
       "2011-01-08   -1.649965\n",
       "2011-01-10   -1.292433\n",
       "2011-01-12    0.244163\n",
       "dtype: float64"
      ]
     },
     "execution_count": 90,
     "metadata": {},
     "output_type": "execute_result"
    }
   ],
   "source": [
    "ts"
   ]
  },
  {
   "cell_type": "code",
   "execution_count": 91,
   "metadata": {},
   "outputs": [
    {
     "data": {
      "text/plain": [
       "DatetimeIndex(['2011-01-02', '2011-01-05', '2011-01-07', '2011-01-08',\n",
       "               '2011-01-10', '2011-01-12'],\n",
       "              dtype='datetime64[ns]', freq=None)"
      ]
     },
     "execution_count": 91,
     "metadata": {},
     "output_type": "execute_result"
    }
   ],
   "source": [
    "ts.index"
   ]
  },
  {
   "cell_type": "code",
   "execution_count": 92,
   "metadata": {},
   "outputs": [
    {
     "data": {
      "text/plain": [
       "2011-01-02   -0.115575\n",
       "2011-01-07   -2.462054\n",
       "2011-01-10   -1.292433\n",
       "dtype: float64"
      ]
     },
     "execution_count": 92,
     "metadata": {},
     "output_type": "execute_result"
    }
   ],
   "source": [
    "ts[::2]"
   ]
  },
  {
   "cell_type": "code",
   "execution_count": 93,
   "metadata": {},
   "outputs": [
    {
     "data": {
      "text/plain": [
       "2011-01-02   -0.231150\n",
       "2011-01-05         NaN\n",
       "2011-01-07   -4.924108\n",
       "2011-01-08         NaN\n",
       "2011-01-10   -2.584866\n",
       "2011-01-12         NaN\n",
       "dtype: float64"
      ]
     },
     "execution_count": 93,
     "metadata": {},
     "output_type": "execute_result"
    }
   ],
   "source": [
    "ts + ts[::2]"
   ]
  },
  {
   "cell_type": "code",
   "execution_count": 95,
   "metadata": {},
   "outputs": [
    {
     "data": {
      "text/plain": [
       "dtype('<M8[ns]')"
      ]
     },
     "execution_count": 95,
     "metadata": {},
     "output_type": "execute_result"
    }
   ],
   "source": [
    "ts.index.dtype"
   ]
  },
  {
   "cell_type": "code",
   "execution_count": 97,
   "metadata": {},
   "outputs": [],
   "source": [
    "stamp = ts.index[0]"
   ]
  },
  {
   "cell_type": "code",
   "execution_count": 98,
   "metadata": {},
   "outputs": [
    {
     "data": {
      "text/plain": [
       "Timestamp('2011-01-02 00:00:00')"
      ]
     },
     "execution_count": 98,
     "metadata": {},
     "output_type": "execute_result"
    }
   ],
   "source": [
    "stamp"
   ]
  },
  {
   "cell_type": "markdown",
   "metadata": {},
   "source": [
    "## Indexing, Selection, Subsetting"
   ]
  },
  {
   "cell_type": "code",
   "execution_count": 103,
   "metadata": {},
   "outputs": [],
   "source": [
    "stamp = ts.index[2]"
   ]
  },
  {
   "cell_type": "code",
   "execution_count": 104,
   "metadata": {},
   "outputs": [
    {
     "data": {
      "text/plain": [
       "-2.462053885890917"
      ]
     },
     "execution_count": 104,
     "metadata": {},
     "output_type": "execute_result"
    }
   ],
   "source": [
    "ts[stamp]"
   ]
  },
  {
   "cell_type": "code",
   "execution_count": 105,
   "metadata": {},
   "outputs": [
    {
     "data": {
      "text/plain": [
       "2011-01-02   -0.115575\n",
       "2011-01-05    1.649951\n",
       "2011-01-07   -2.462054\n",
       "2011-01-08   -1.649965\n",
       "2011-01-10   -1.292433\n",
       "2011-01-12    0.244163\n",
       "dtype: float64"
      ]
     },
     "execution_count": 105,
     "metadata": {},
     "output_type": "execute_result"
    }
   ],
   "source": [
    "ts"
   ]
  },
  {
   "cell_type": "code",
   "execution_count": 106,
   "metadata": {},
   "outputs": [
    {
     "data": {
      "text/plain": [
       "-1.2924328091862354"
      ]
     },
     "execution_count": 106,
     "metadata": {},
     "output_type": "execute_result"
    }
   ],
   "source": [
    "ts['1/10/2011'] #you can also pass a string that is interpretable as a date"
   ]
  },
  {
   "cell_type": "code",
   "execution_count": 109,
   "metadata": {},
   "outputs": [
    {
     "data": {
      "text/plain": [
       "-1.2924328091862354"
      ]
     },
     "execution_count": 109,
     "metadata": {},
     "output_type": "execute_result"
    }
   ],
   "source": [
    "ts['20110110'] #you can also pass a string that is interpretable as a date"
   ]
  },
  {
   "cell_type": "code",
   "execution_count": 110,
   "metadata": {},
   "outputs": [],
   "source": [
    "lts = pd.Series(np.random.randn(1000), index=pd.date_range('1/1/2010', periods=1000))"
   ]
  },
  {
   "cell_type": "code",
   "execution_count": 111,
   "metadata": {},
   "outputs": [
    {
     "data": {
      "text/plain": [
       "2010-01-01   -0.887836\n",
       "2010-01-02    1.358469\n",
       "2010-01-03   -0.594992\n",
       "2010-01-04    1.745589\n",
       "2010-01-05   -0.574138\n",
       "                ...   \n",
       "2012-09-22    0.038806\n",
       "2012-09-23   -1.689092\n",
       "2012-09-24    0.263320\n",
       "2012-09-25    0.637088\n",
       "2012-09-26   -0.136430\n",
       "Freq: D, Length: 1000, dtype: float64"
      ]
     },
     "execution_count": 111,
     "metadata": {},
     "output_type": "execute_result"
    }
   ],
   "source": [
    "lts"
   ]
  },
  {
   "cell_type": "code",
   "execution_count": 112,
   "metadata": {},
   "outputs": [
    {
     "data": {
      "text/plain": [
       "2011-01-01    0.233362\n",
       "2011-01-02   -1.638986\n",
       "2011-01-03    0.105603\n",
       "2011-01-04    0.686798\n",
       "2011-01-05    0.414685\n",
       "                ...   \n",
       "2011-12-27   -1.194920\n",
       "2011-12-28    1.304034\n",
       "2011-12-29    0.921509\n",
       "2011-12-30   -1.219101\n",
       "2011-12-31   -0.850703\n",
       "Freq: D, Length: 365, dtype: float64"
      ]
     },
     "execution_count": 112,
     "metadata": {},
     "output_type": "execute_result"
    }
   ],
   "source": [
    "lts['2011']"
   ]
  },
  {
   "cell_type": "code",
   "execution_count": 116,
   "metadata": {},
   "outputs": [
    {
     "data": {
      "text/plain": [
       "2011-08-01   -0.488186\n",
       "2011-08-02   -0.704139\n",
       "2011-08-03   -0.997885\n",
       "2011-08-04    0.985268\n",
       "2011-08-05    1.269453\n",
       "2011-08-06   -0.786984\n",
       "2011-08-07    0.536157\n",
       "2011-08-08    0.627609\n",
       "2011-08-09   -0.566383\n",
       "2011-08-10    0.721205\n",
       "2011-08-11   -0.238393\n",
       "2011-08-12    0.063682\n",
       "2011-08-13   -1.667524\n",
       "2011-08-14    0.978698\n",
       "2011-08-15   -0.836981\n",
       "2011-08-16   -1.731711\n",
       "2011-08-17    0.939709\n",
       "2011-08-18   -0.575420\n",
       "2011-08-19   -0.375245\n",
       "2011-08-20    0.386578\n",
       "2011-08-21    0.344467\n",
       "2011-08-22   -0.853468\n",
       "2011-08-23    1.201829\n",
       "2011-08-24   -0.089071\n",
       "2011-08-25    0.017278\n",
       "2011-08-26   -2.005134\n",
       "2011-08-27    1.443558\n",
       "2011-08-28    0.034308\n",
       "2011-08-29   -1.483223\n",
       "2011-08-30    1.419453\n",
       "2011-08-31   -0.201764\n",
       "Freq: D, dtype: float64"
      ]
     },
     "execution_count": 116,
     "metadata": {},
     "output_type": "execute_result"
    }
   ],
   "source": [
    "lts['2011-08']"
   ]
  },
  {
   "cell_type": "code",
   "execution_count": 120,
   "metadata": {},
   "outputs": [
    {
     "data": {
      "text/plain": [
       "2011-06-01    0.722423\n",
       "2011-06-02    0.977205\n",
       "2011-06-03   -1.189621\n",
       "2011-06-04    0.343135\n",
       "2011-06-05    2.132609\n",
       "                ...   \n",
       "2012-09-22    0.038806\n",
       "2012-09-23   -1.689092\n",
       "2012-09-24    0.263320\n",
       "2012-09-25    0.637088\n",
       "2012-09-26   -0.136430\n",
       "Freq: D, Length: 484, dtype: float64"
      ]
     },
     "execution_count": 120,
     "metadata": {},
     "output_type": "execute_result"
    }
   ],
   "source": [
    "lts[datetime(2011, 6, 1):]"
   ]
  },
  {
   "cell_type": "code",
   "execution_count": 121,
   "metadata": {},
   "outputs": [
    {
     "data": {
      "text/plain": [
       "2011-06-01    0.722423\n",
       "2011-06-02    0.977205\n",
       "2011-06-03   -1.189621\n",
       "2011-06-04    0.343135\n",
       "2011-06-05    2.132609\n",
       "                ...   \n",
       "2012-09-22    0.038806\n",
       "2012-09-23   -1.689092\n",
       "2012-09-24    0.263320\n",
       "2012-09-25    0.637088\n",
       "2012-09-26   -0.136430\n",
       "Freq: D, Length: 484, dtype: float64"
      ]
     },
     "execution_count": 121,
     "metadata": {},
     "output_type": "execute_result"
    }
   ],
   "source": [
    "lts['2011-06-01':]"
   ]
  },
  {
   "cell_type": "code",
   "execution_count": 126,
   "metadata": {},
   "outputs": [
    {
     "data": {
      "text/plain": [
       "2011-08-25    0.017278\n",
       "2011-08-26   -2.005134\n",
       "2011-08-27    1.443558\n",
       "2011-08-28    0.034308\n",
       "2011-08-29   -1.483223\n",
       "                ...   \n",
       "2012-08-20    2.183054\n",
       "2012-08-21    0.036474\n",
       "2012-08-22    0.743651\n",
       "2012-08-23   -1.626381\n",
       "2012-08-24   -0.250551\n",
       "Freq: D, Length: 366, dtype: float64"
      ]
     },
     "execution_count": 126,
     "metadata": {},
     "output_type": "execute_result"
    }
   ],
   "source": [
    "lts['2011-08-25':'2012-08-24']"
   ]
  },
  {
   "cell_type": "markdown",
   "metadata": {},
   "source": [
    "As before, you can pass either a string date, **datetime**, or timestamp. Remember that\n",
    "slicing in this manner produces views on the source time series like slicing NumPy\n",
    "arrays. This means that no data is copied and modifications on the slice will be reflec‐\n",
    "ted in the original data."
   ]
  },
  {
   "cell_type": "markdown",
   "metadata": {},
   "source": [
    "There is an equivalent instance method, truncate, that slices a Series between two\n",
    "dates"
   ]
  },
  {
   "cell_type": "code",
   "execution_count": 128,
   "metadata": {},
   "outputs": [
    {
     "data": {
      "text/plain": [
       "2012-08-01    1.167278\n",
       "2012-08-02    0.068496\n",
       "2012-08-03    1.765299\n",
       "2012-08-04   -2.099291\n",
       "2012-08-05    0.291564\n",
       "2012-08-06    1.392684\n",
       "2012-08-07   -0.201388\n",
       "2012-08-08   -2.995515\n",
       "2012-08-09   -0.509542\n",
       "2012-08-10    0.131930\n",
       "2012-08-11   -0.923551\n",
       "2012-08-12    2.313246\n",
       "2012-08-13    0.191619\n",
       "2012-08-14   -0.305479\n",
       "2012-08-15    0.768651\n",
       "2012-08-16   -1.153979\n",
       "2012-08-17    1.694728\n",
       "2012-08-18    0.094561\n",
       "2012-08-19    1.726559\n",
       "2012-08-20    2.183054\n",
       "2012-08-21    0.036474\n",
       "2012-08-22    0.743651\n",
       "2012-08-23   -1.626381\n",
       "2012-08-24   -0.250551\n",
       "2012-08-25   -0.585316\n",
       "2012-08-26   -0.016837\n",
       "2012-08-27    1.073179\n",
       "2012-08-28    0.796280\n",
       "2012-08-29   -1.229766\n",
       "2012-08-30    0.693535\n",
       "2012-08-31   -0.932928\n",
       "2012-09-01    0.643632\n",
       "2012-09-02   -0.224287\n",
       "2012-09-03   -0.415292\n",
       "2012-09-04    0.083396\n",
       "2012-09-05    0.075680\n",
       "2012-09-06    0.459317\n",
       "2012-09-07   -2.204199\n",
       "2012-09-08    0.049365\n",
       "2012-09-09   -0.895895\n",
       "2012-09-10    1.197555\n",
       "2012-09-11    1.197341\n",
       "2012-09-12   -0.452108\n",
       "2012-09-13    1.471879\n",
       "2012-09-14   -0.724265\n",
       "2012-09-15   -1.824234\n",
       "2012-09-16    0.826416\n",
       "2012-09-17    0.352379\n",
       "2012-09-18    2.228724\n",
       "2012-09-19    0.830504\n",
       "2012-09-20   -1.066704\n",
       "2012-09-21   -0.257000\n",
       "2012-09-22    0.038806\n",
       "2012-09-23   -1.689092\n",
       "2012-09-24    0.263320\n",
       "2012-09-25    0.637088\n",
       "2012-09-26   -0.136430\n",
       "Freq: D, dtype: float64"
      ]
     },
     "execution_count": 128,
     "metadata": {},
     "output_type": "execute_result"
    }
   ],
   "source": [
    "lts.truncate(before='2012-08-01')"
   ]
  },
  {
   "cell_type": "code",
   "execution_count": 133,
   "metadata": {},
   "outputs": [],
   "source": [
    "dates = pd.date_range('2012-08-05', periods=100, freq='W-WED')"
   ]
  },
  {
   "cell_type": "code",
   "execution_count": 135,
   "metadata": {},
   "outputs": [],
   "source": [
    "long_df = pd.DataFrame(np.random.randn(100,4), index=dates, columns=['NY', 'KHI', 'DEL', 'ANK'])"
   ]
  },
  {
   "cell_type": "code",
   "execution_count": 136,
   "metadata": {},
   "outputs": [
    {
     "data": {
      "text/html": [
       "<div>\n",
       "<style scoped>\n",
       "    .dataframe tbody tr th:only-of-type {\n",
       "        vertical-align: middle;\n",
       "    }\n",
       "\n",
       "    .dataframe tbody tr th {\n",
       "        vertical-align: top;\n",
       "    }\n",
       "\n",
       "    .dataframe thead th {\n",
       "        text-align: right;\n",
       "    }\n",
       "</style>\n",
       "<table border=\"1\" class=\"dataframe\">\n",
       "  <thead>\n",
       "    <tr style=\"text-align: right;\">\n",
       "      <th></th>\n",
       "      <th>NY</th>\n",
       "      <th>KHI</th>\n",
       "      <th>DEL</th>\n",
       "      <th>ANK</th>\n",
       "    </tr>\n",
       "  </thead>\n",
       "  <tbody>\n",
       "    <tr>\n",
       "      <th>2012-08-08</th>\n",
       "      <td>1.405694</td>\n",
       "      <td>0.118228</td>\n",
       "      <td>2.712276</td>\n",
       "      <td>1.918814</td>\n",
       "    </tr>\n",
       "    <tr>\n",
       "      <th>2012-08-15</th>\n",
       "      <td>-1.559010</td>\n",
       "      <td>-0.571948</td>\n",
       "      <td>-0.036434</td>\n",
       "      <td>-1.705900</td>\n",
       "    </tr>\n",
       "    <tr>\n",
       "      <th>2012-08-22</th>\n",
       "      <td>2.124025</td>\n",
       "      <td>0.329116</td>\n",
       "      <td>0.805366</td>\n",
       "      <td>-0.562864</td>\n",
       "    </tr>\n",
       "    <tr>\n",
       "      <th>2012-08-29</th>\n",
       "      <td>-0.283042</td>\n",
       "      <td>1.389906</td>\n",
       "      <td>-0.677782</td>\n",
       "      <td>0.169700</td>\n",
       "    </tr>\n",
       "    <tr>\n",
       "      <th>2012-09-05</th>\n",
       "      <td>0.808404</td>\n",
       "      <td>-1.028570</td>\n",
       "      <td>0.489753</td>\n",
       "      <td>0.337929</td>\n",
       "    </tr>\n",
       "    <tr>\n",
       "      <th>...</th>\n",
       "      <td>...</td>\n",
       "      <td>...</td>\n",
       "      <td>...</td>\n",
       "      <td>...</td>\n",
       "    </tr>\n",
       "    <tr>\n",
       "      <th>2014-06-04</th>\n",
       "      <td>-0.570335</td>\n",
       "      <td>0.315681</td>\n",
       "      <td>-0.004869</td>\n",
       "      <td>-0.548640</td>\n",
       "    </tr>\n",
       "    <tr>\n",
       "      <th>2014-06-11</th>\n",
       "      <td>0.423229</td>\n",
       "      <td>-0.754539</td>\n",
       "      <td>-0.905362</td>\n",
       "      <td>-0.621869</td>\n",
       "    </tr>\n",
       "    <tr>\n",
       "      <th>2014-06-18</th>\n",
       "      <td>-0.736397</td>\n",
       "      <td>1.252538</td>\n",
       "      <td>-0.839161</td>\n",
       "      <td>-1.201307</td>\n",
       "    </tr>\n",
       "    <tr>\n",
       "      <th>2014-06-25</th>\n",
       "      <td>-0.550854</td>\n",
       "      <td>-0.355272</td>\n",
       "      <td>-1.205977</td>\n",
       "      <td>-0.282236</td>\n",
       "    </tr>\n",
       "    <tr>\n",
       "      <th>2014-07-02</th>\n",
       "      <td>1.242100</td>\n",
       "      <td>1.064789</td>\n",
       "      <td>0.703194</td>\n",
       "      <td>-0.579937</td>\n",
       "    </tr>\n",
       "  </tbody>\n",
       "</table>\n",
       "<p>100 rows × 4 columns</p>\n",
       "</div>"
      ],
      "text/plain": [
       "                  NY       KHI       DEL       ANK\n",
       "2012-08-08  1.405694  0.118228  2.712276  1.918814\n",
       "2012-08-15 -1.559010 -0.571948 -0.036434 -1.705900\n",
       "2012-08-22  2.124025  0.329116  0.805366 -0.562864\n",
       "2012-08-29 -0.283042  1.389906 -0.677782  0.169700\n",
       "2012-09-05  0.808404 -1.028570  0.489753  0.337929\n",
       "...              ...       ...       ...       ...\n",
       "2014-06-04 -0.570335  0.315681 -0.004869 -0.548640\n",
       "2014-06-11  0.423229 -0.754539 -0.905362 -0.621869\n",
       "2014-06-18 -0.736397  1.252538 -0.839161 -1.201307\n",
       "2014-06-25 -0.550854 -0.355272 -1.205977 -0.282236\n",
       "2014-07-02  1.242100  1.064789  0.703194 -0.579937\n",
       "\n",
       "[100 rows x 4 columns]"
      ]
     },
     "execution_count": 136,
     "metadata": {},
     "output_type": "execute_result"
    }
   ],
   "source": [
    "long_df"
   ]
  },
  {
   "cell_type": "code",
   "execution_count": 139,
   "metadata": {},
   "outputs": [
    {
     "data": {
      "text/html": [
       "<div>\n",
       "<style scoped>\n",
       "    .dataframe tbody tr th:only-of-type {\n",
       "        vertical-align: middle;\n",
       "    }\n",
       "\n",
       "    .dataframe tbody tr th {\n",
       "        vertical-align: top;\n",
       "    }\n",
       "\n",
       "    .dataframe thead th {\n",
       "        text-align: right;\n",
       "    }\n",
       "</style>\n",
       "<table border=\"1\" class=\"dataframe\">\n",
       "  <thead>\n",
       "    <tr style=\"text-align: right;\">\n",
       "      <th></th>\n",
       "      <th>NY</th>\n",
       "      <th>KHI</th>\n",
       "      <th>DEL</th>\n",
       "      <th>ANK</th>\n",
       "    </tr>\n",
       "  </thead>\n",
       "  <tbody>\n",
       "    <tr>\n",
       "      <th>2013-08-07</th>\n",
       "      <td>0.492894</td>\n",
       "      <td>-0.621687</td>\n",
       "      <td>0.755777</td>\n",
       "      <td>-1.929348</td>\n",
       "    </tr>\n",
       "    <tr>\n",
       "      <th>2013-08-14</th>\n",
       "      <td>0.040749</td>\n",
       "      <td>-0.752769</td>\n",
       "      <td>-0.004053</td>\n",
       "      <td>-0.918692</td>\n",
       "    </tr>\n",
       "    <tr>\n",
       "      <th>2013-08-21</th>\n",
       "      <td>0.807032</td>\n",
       "      <td>-0.530670</td>\n",
       "      <td>1.045536</td>\n",
       "      <td>-1.443252</td>\n",
       "    </tr>\n",
       "    <tr>\n",
       "      <th>2013-08-28</th>\n",
       "      <td>0.047445</td>\n",
       "      <td>2.433065</td>\n",
       "      <td>-2.084200</td>\n",
       "      <td>-0.558682</td>\n",
       "    </tr>\n",
       "  </tbody>\n",
       "</table>\n",
       "</div>"
      ],
      "text/plain": [
       "                  NY       KHI       DEL       ANK\n",
       "2013-08-07  0.492894 -0.621687  0.755777 -1.929348\n",
       "2013-08-14  0.040749 -0.752769 -0.004053 -0.918692\n",
       "2013-08-21  0.807032 -0.530670  1.045536 -1.443252\n",
       "2013-08-28  0.047445  2.433065 -2.084200 -0.558682"
      ]
     },
     "execution_count": 139,
     "metadata": {},
     "output_type": "execute_result"
    }
   ],
   "source": [
    "long_df.loc['2013-08']"
   ]
  },
  {
   "cell_type": "markdown",
   "metadata": {},
   "source": [
    "## Time Series with Duplicate Indices"
   ]
  },
  {
   "cell_type": "markdown",
   "metadata": {},
   "source": [
    "In some applications, there may be multiple data observations falling on a particular\n",
    "timestamp"
   ]
  },
  {
   "cell_type": "code",
   "execution_count": 140,
   "metadata": {},
   "outputs": [],
   "source": [
    "dates = pd.DatetimeIndex(['1/1/2000', '1/2/2000', '1/2/2000', '1/2/2000', '1/3/2000'])"
   ]
  },
  {
   "cell_type": "code",
   "execution_count": 141,
   "metadata": {},
   "outputs": [
    {
     "data": {
      "text/plain": [
       "DatetimeIndex(['2000-01-01', '2000-01-02', '2000-01-02', '2000-01-02',\n",
       "               '2000-01-03'],\n",
       "              dtype='datetime64[ns]', freq=None)"
      ]
     },
     "execution_count": 141,
     "metadata": {},
     "output_type": "execute_result"
    }
   ],
   "source": [
    "dates"
   ]
  },
  {
   "cell_type": "code",
   "execution_count": 144,
   "metadata": {},
   "outputs": [
    {
     "data": {
      "text/plain": [
       "2000-01-01   -0.519137\n",
       "2000-01-02   -0.958715\n",
       "2000-01-02    0.936128\n",
       "2000-01-02   -0.552168\n",
       "2000-01-03    0.333420\n",
       "dtype: float64"
      ]
     },
     "execution_count": 144,
     "metadata": {},
     "output_type": "execute_result"
    }
   ],
   "source": [
    "dup_ts = pd.Series(np.random.randn(len(dates)), index=dates)\n",
    "dup_ts"
   ]
  },
  {
   "cell_type": "code",
   "execution_count": 146,
   "metadata": {},
   "outputs": [
    {
     "data": {
      "text/plain": [
       "False"
      ]
     },
     "execution_count": 146,
     "metadata": {},
     "output_type": "execute_result"
    }
   ],
   "source": [
    "dup_ts.index.is_unique #means that index has dupplicate value"
   ]
  },
  {
   "cell_type": "code",
   "execution_count": 149,
   "metadata": {},
   "outputs": [
    {
     "data": {
      "text/plain": [
       "2000-01-02   -0.958715\n",
       "2000-01-02    0.936128\n",
       "2000-01-02   -0.552168\n",
       "dtype: float64"
      ]
     },
     "execution_count": 149,
     "metadata": {},
     "output_type": "execute_result"
    }
   ],
   "source": [
    "dup_ts['2000-01-02']"
   ]
  },
  {
   "cell_type": "code",
   "execution_count": 154,
   "metadata": {},
   "outputs": [
    {
     "data": {
      "text/plain": [
       "2000-01-01    1\n",
       "2000-01-02    3\n",
       "2000-01-03    1\n",
       "dtype: int64"
      ]
     },
     "execution_count": 154,
     "metadata": {},
     "output_type": "execute_result"
    }
   ],
   "source": [
    "dup_ts.groupby(level=0).count()"
   ]
  },
  {
   "cell_type": "markdown",
   "metadata": {},
   "source": [
    "# 11.3 Date Ranges, Frequencies, and Shifting"
   ]
  },
  {
   "cell_type": "code",
   "execution_count": 164,
   "metadata": {},
   "outputs": [],
   "source": [
    "ts = long_df['NY']"
   ]
  },
  {
   "cell_type": "code",
   "execution_count": 165,
   "metadata": {},
   "outputs": [
    {
     "data": {
      "text/plain": [
       "2012-08-08    1.405694\n",
       "2012-08-15   -1.559010\n",
       "2012-08-22    2.124025\n",
       "2012-08-29   -0.283042\n",
       "2012-09-05    0.808404\n",
       "                ...   \n",
       "2014-06-04   -0.570335\n",
       "2014-06-11    0.423229\n",
       "2014-06-18   -0.736397\n",
       "2014-06-25   -0.550854\n",
       "2014-07-02    1.242100\n",
       "Freq: W-WED, Name: NY, Length: 100, dtype: float64"
      ]
     },
     "execution_count": 165,
     "metadata": {},
     "output_type": "execute_result"
    }
   ],
   "source": [
    "ts"
   ]
  },
  {
   "cell_type": "code",
   "execution_count": 166,
   "metadata": {},
   "outputs": [],
   "source": [
    "resampler = ts.resample('D') #The string 'D' is interpreted as daily frequency."
   ]
  },
  {
   "cell_type": "markdown",
   "metadata": {},
   "source": [
    "## Generating Date Ranges"
   ]
  },
  {
   "cell_type": "code",
   "execution_count": 177,
   "metadata": {},
   "outputs": [],
   "source": [
    "index = pd.date_range(start='1998-08-24', end='1998-12-24')"
   ]
  },
  {
   "cell_type": "code",
   "execution_count": 178,
   "metadata": {},
   "outputs": [
    {
     "data": {
      "text/plain": [
       "DatetimeIndex(['1998-08-24', '1998-08-25', '1998-08-26', '1998-08-27',\n",
       "               '1998-08-28', '1998-08-29', '1998-08-30', '1998-08-31',\n",
       "               '1998-09-01', '1998-09-02',\n",
       "               ...\n",
       "               '1998-12-15', '1998-12-16', '1998-12-17', '1998-12-18',\n",
       "               '1998-12-19', '1998-12-20', '1998-12-21', '1998-12-22',\n",
       "               '1998-12-23', '1998-12-24'],\n",
       "              dtype='datetime64[ns]', length=123, freq='D')"
      ]
     },
     "execution_count": 178,
     "metadata": {},
     "output_type": "execute_result"
    }
   ],
   "source": [
    "index"
   ]
  },
  {
   "cell_type": "code",
   "execution_count": 179,
   "metadata": {},
   "outputs": [
    {
     "data": {
      "text/plain": [
       "DatetimeIndex(['1998-08-24', '1998-08-25', '1998-08-26', '1998-08-27',\n",
       "               '1998-08-28', '1998-08-29', '1998-08-30', '1998-08-31',\n",
       "               '1998-09-01', '1998-09-02', '1998-09-03', '1998-09-04',\n",
       "               '1998-09-05', '1998-09-06', '1998-09-07', '1998-09-08',\n",
       "               '1998-09-09', '1998-09-10', '1998-09-11', '1998-09-12'],\n",
       "              dtype='datetime64[ns]', freq='D')"
      ]
     },
     "execution_count": 179,
     "metadata": {},
     "output_type": "execute_result"
    }
   ],
   "source": [
    "pd.date_range(start='1998-08-24', periods=20)"
   ]
  },
  {
   "cell_type": "code",
   "execution_count": 182,
   "metadata": {},
   "outputs": [
    {
     "data": {
      "text/plain": [
       "DatetimeIndex(['2019-07-21', '2019-07-22', '2019-07-23', '2019-07-24',\n",
       "               '2019-07-25', '2019-07-26', '2019-07-27', '2019-07-28',\n",
       "               '2019-07-29', '2019-07-30',\n",
       "               ...\n",
       "               '2020-07-11', '2020-07-12', '2020-07-13', '2020-07-14',\n",
       "               '2020-07-15', '2020-07-16', '2020-07-17', '2020-07-18',\n",
       "               '2020-07-19', '2020-07-20'],\n",
       "              dtype='datetime64[ns]', length=366, freq='D')"
      ]
     },
     "execution_count": 182,
     "metadata": {},
     "output_type": "execute_result"
    }
   ],
   "source": [
    "pd.date_range(end='2020-07-20', periods=366)"
   ]
  },
  {
   "cell_type": "code",
   "execution_count": 184,
   "metadata": {},
   "outputs": [
    {
     "data": {
      "text/plain": [
       "DatetimeIndex(['2019-04-30', '2019-05-31', '2019-06-28', '2019-07-31',\n",
       "               '2019-08-30', '2019-09-30', '2019-10-31', '2019-11-29',\n",
       "               '2019-12-31', '2020-01-31', '2020-02-28', '2020-03-31',\n",
       "               '2020-04-30', '2020-05-29', '2020-06-30'],\n",
       "              dtype='datetime64[ns]', freq='BM')"
      ]
     },
     "execution_count": 184,
     "metadata": {},
     "output_type": "execute_result"
    }
   ],
   "source": [
    "#'BM' frequency is business end of month\n",
    "pd.date_range(end='2020-07-20', periods=15, freq='BM')"
   ]
  },
  {
   "cell_type": "markdown",
   "metadata": {},
   "source": [
    "*See Table 11-4. Base time series frequencies (not comprehensive)*"
   ]
  },
  {
   "cell_type": "markdown",
   "metadata": {},
   "source": [
    "![Base time series frequencies](Img/11.4.png)"
   ]
  },
  {
   "cell_type": "code",
   "execution_count": 187,
   "metadata": {},
   "outputs": [
    {
     "data": {
      "text/plain": [
       "DatetimeIndex(['2020-07-20 13:02:54', '2020-07-21 13:02:54',\n",
       "               '2020-07-22 13:02:54', '2020-07-23 13:02:54',\n",
       "               '2020-07-24 13:02:54', '2020-07-25 13:02:54',\n",
       "               '2020-07-26 13:02:54', '2020-07-27 13:02:54',\n",
       "               '2020-07-28 13:02:54', '2020-07-29 13:02:54'],\n",
       "              dtype='datetime64[ns]', freq='D')"
      ]
     },
     "execution_count": 187,
     "metadata": {},
     "output_type": "execute_result"
    }
   ],
   "source": [
    "pd.date_range(start='20/07/2020 13:02:54', periods=10)"
   ]
  },
  {
   "cell_type": "code",
   "execution_count": 188,
   "metadata": {},
   "outputs": [
    {
     "data": {
      "text/plain": [
       "DatetimeIndex(['2020-07-20', '2020-07-21', '2020-07-22', '2020-07-23',\n",
       "               '2020-07-24', '2020-07-25', '2020-07-26', '2020-07-27',\n",
       "               '2020-07-28', '2020-07-29'],\n",
       "              dtype='datetime64[ns]', freq='D')"
      ]
     },
     "execution_count": 188,
     "metadata": {},
     "output_type": "execute_result"
    }
   ],
   "source": [
    "pd.date_range(start='20/07/2020 13:02:54', periods=10, normalize=True)"
   ]
  },
  {
   "cell_type": "markdown",
   "metadata": {},
   "source": [
    "# Frequencies and Date Offsets"
   ]
  },
  {
   "cell_type": "code",
   "execution_count": 194,
   "metadata": {},
   "outputs": [
    {
     "data": {
      "text/plain": [
       "DatetimeIndex(['2020-07-20 00:00:00', '2020-07-20 04:00:00',\n",
       "               '2020-07-20 08:00:00', '2020-07-20 12:00:00',\n",
       "               '2020-07-20 16:00:00', '2020-07-20 20:00:00',\n",
       "               '2020-07-21 00:00:00', '2020-07-21 04:00:00',\n",
       "               '2020-07-21 08:00:00', '2020-07-21 12:00:00',\n",
       "               '2020-07-21 16:00:00', '2020-07-21 20:00:00',\n",
       "               '2020-07-22 00:00:00', '2020-07-22 04:00:00',\n",
       "               '2020-07-22 08:00:00', '2020-07-22 12:00:00',\n",
       "               '2020-07-22 16:00:00', '2020-07-22 20:00:00',\n",
       "               '2020-07-23 00:00:00'],\n",
       "              dtype='datetime64[ns]', freq='4H')"
      ]
     },
     "execution_count": 194,
     "metadata": {},
     "output_type": "execute_result"
    }
   ],
   "source": [
    "pd.date_range('20/07/2020', '23/07/2020', freq='4H')"
   ]
  },
  {
   "cell_type": "code",
   "execution_count": 197,
   "metadata": {},
   "outputs": [
    {
     "data": {
      "text/plain": [
       "DatetimeIndex(['2020-07-20 00:00:00', '2020-07-20 01:30:00',\n",
       "               '2020-07-20 03:00:00', '2020-07-20 04:30:00',\n",
       "               '2020-07-20 06:00:00', '2020-07-20 07:30:00',\n",
       "               '2020-07-20 09:00:00', '2020-07-20 10:30:00',\n",
       "               '2020-07-20 12:00:00', '2020-07-20 13:30:00',\n",
       "               '2020-07-20 15:00:00', '2020-07-20 16:30:00',\n",
       "               '2020-07-20 18:00:00', '2020-07-20 19:30:00',\n",
       "               '2020-07-20 21:00:00', '2020-07-20 22:30:00',\n",
       "               '2020-07-21 00:00:00', '2020-07-21 01:30:00',\n",
       "               '2020-07-21 03:00:00', '2020-07-21 04:30:00',\n",
       "               '2020-07-21 06:00:00', '2020-07-21 07:30:00',\n",
       "               '2020-07-21 09:00:00', '2020-07-21 10:30:00',\n",
       "               '2020-07-21 12:00:00', '2020-07-21 13:30:00',\n",
       "               '2020-07-21 15:00:00', '2020-07-21 16:30:00',\n",
       "               '2020-07-21 18:00:00', '2020-07-21 19:30:00',\n",
       "               '2020-07-21 21:00:00', '2020-07-21 22:30:00',\n",
       "               '2020-07-22 00:00:00', '2020-07-22 01:30:00',\n",
       "               '2020-07-22 03:00:00', '2020-07-22 04:30:00',\n",
       "               '2020-07-22 06:00:00', '2020-07-22 07:30:00',\n",
       "               '2020-07-22 09:00:00', '2020-07-22 10:30:00',\n",
       "               '2020-07-22 12:00:00', '2020-07-22 13:30:00',\n",
       "               '2020-07-22 15:00:00', '2020-07-22 16:30:00',\n",
       "               '2020-07-22 18:00:00', '2020-07-22 19:30:00',\n",
       "               '2020-07-22 21:00:00', '2020-07-22 22:30:00',\n",
       "               '2020-07-23 00:00:00'],\n",
       "              dtype='datetime64[ns]', freq='90T')"
      ]
     },
     "execution_count": 197,
     "metadata": {},
     "output_type": "execute_result"
    }
   ],
   "source": [
    "pd.date_range('20/07/2020', '23/07/2020', freq='1H30Min')"
   ]
  },
  {
   "cell_type": "markdown",
   "metadata": {},
   "source": [
    "### Week of month dates"
   ]
  },
  {
   "cell_type": "markdown",
   "metadata": {},
   "source": [
    "One useful frequency class is “week of month,” starting with WOM. This enables you to\n",
    "get dates like the third Friday of each month"
   ]
  },
  {
   "cell_type": "code",
   "execution_count": 200,
   "metadata": {},
   "outputs": [
    {
     "data": {
      "text/plain": [
       "DatetimeIndex(['2020-02-07', '2020-03-06', '2020-04-03', '2020-05-01',\n",
       "               '2020-06-05', '2020-07-03', '2020-08-07', '2020-09-04',\n",
       "               '2020-10-02', '2020-11-06', '2020-12-04'],\n",
       "              dtype='datetime64[ns]', freq='WOM-1FRI')"
      ]
     },
     "execution_count": 200,
     "metadata": {},
     "output_type": "execute_result"
    }
   ],
   "source": [
    "pd.date_range('2020-01-21', '2020-12-21', freq='WOM-1FRI')"
   ]
  },
  {
   "cell_type": "markdown",
   "metadata": {},
   "source": [
    "## Shifting (Leading and Lagging) Data"
   ]
  },
  {
   "cell_type": "code",
   "execution_count": null,
   "metadata": {},
   "outputs": [],
   "source": []
  }
 ],
 "metadata": {
  "kernelspec": {
   "display_name": "Python 3",
   "language": "python",
   "name": "python3"
  },
  "language_info": {
   "codemirror_mode": {
    "name": "ipython",
    "version": 3
   },
   "file_extension": ".py",
   "mimetype": "text/x-python",
   "name": "python",
   "nbconvert_exporter": "python",
   "pygments_lexer": "ipython3",
   "version": "3.7.6"
  }
 },
 "nbformat": 4,
 "nbformat_minor": 4
}
