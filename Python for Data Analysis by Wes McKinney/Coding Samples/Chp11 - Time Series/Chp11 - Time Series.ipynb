{
 "cells": [
  {
   "cell_type": "markdown",
   "metadata": {},
   "source": [
    "Time series data is an important form of structured data in many different fields, such\n",
    "as finance, economics, ecology, neuroscience, and physics. Anything that is observed\n",
    "or measured at many points in time forms a time series. Many time series are fixed\n",
    "frequency, which is to say that data points occur at regular intervals according to some\n",
    "rule, such as every 15 seconds, every 5 minutes, or once per month. Time series can\n",
    "also be irregular without a fixed unit of time or offset between units.`"
   ]
  },
  {
   "cell_type": "markdown",
   "metadata": {},
   "source": [
    "How you mark and refer to time series data depends on the application, and you may have one of the following:\n",
    "1. Timestamps, specific instants in time\n",
    "2. Fixed periods, such as the month January 2007 or the full year 2010\n",
    "3. Intervals of time, indicated by a start and end timestamp. Periods can be thought of as special cases of intervals\n",
    "4. Experiment or elapsed time; each timestamp is a measure of time relative to a particular start time (e.g., the diameter of a cookie baking each second since being placed in the oven)\n"
   ]
  },
  {
   "cell_type": "code",
   "execution_count": 1,
   "metadata": {},
   "outputs": [],
   "source": [
    "import numpy as np\n",
    "import pandas as pd"
   ]
  },
  {
   "cell_type": "code",
   "execution_count": 2,
   "metadata": {},
   "outputs": [],
   "source": [
    "import matplotlib.pyplot as plt\n",
    "import seaborn as sns\n",
    "\n",
    "%matplotlib inline"
   ]
  },
  {
   "cell_type": "markdown",
   "metadata": {},
   "source": [
    "# 11.1 Date and Time Data Types and Tools"
   ]
  },
  {
   "cell_type": "code",
   "execution_count": 3,
   "metadata": {},
   "outputs": [],
   "source": [
    "from datetime import datetime"
   ]
  },
  {
   "cell_type": "code",
   "execution_count": 4,
   "metadata": {},
   "outputs": [],
   "source": [
    "now = datetime.now()"
   ]
  },
  {
   "cell_type": "code",
   "execution_count": 5,
   "metadata": {},
   "outputs": [
    {
     "name": "stdout",
     "output_type": "stream",
     "text": [
      "2020-07-22 10:28:51.471055\n"
     ]
    }
   ],
   "source": [
    "print(now)"
   ]
  },
  {
   "cell_type": "code",
   "execution_count": 6,
   "metadata": {},
   "outputs": [
    {
     "data": {
      "text/plain": [
       "2020"
      ]
     },
     "execution_count": 6,
     "metadata": {},
     "output_type": "execute_result"
    }
   ],
   "source": [
    "now.year"
   ]
  },
  {
   "cell_type": "code",
   "execution_count": 7,
   "metadata": {},
   "outputs": [
    {
     "data": {
      "text/plain": [
       "22"
      ]
     },
     "execution_count": 7,
     "metadata": {},
     "output_type": "execute_result"
    }
   ],
   "source": [
    "now.day"
   ]
  },
  {
   "cell_type": "code",
   "execution_count": 8,
   "metadata": {},
   "outputs": [
    {
     "data": {
      "text/plain": [
       "7"
      ]
     },
     "execution_count": 8,
     "metadata": {},
     "output_type": "execute_result"
    }
   ],
   "source": [
    "now.month"
   ]
  },
  {
   "cell_type": "code",
   "execution_count": 9,
   "metadata": {},
   "outputs": [
    {
     "data": {
      "text/plain": [
       "(2020, 22, 7)"
      ]
     },
     "execution_count": 9,
     "metadata": {},
     "output_type": "execute_result"
    }
   ],
   "source": [
    "now.year, now.day, now.month"
   ]
  },
  {
   "cell_type": "code",
   "execution_count": 10,
   "metadata": {},
   "outputs": [
    {
     "data": {
      "text/plain": [
       "datetime.timedelta(days=1981, seconds=60120)"
      ]
     },
     "execution_count": 10,
     "metadata": {},
     "output_type": "execute_result"
    }
   ],
   "source": [
    "delta = datetime(2020, 7, 20) - datetime(2015, 2, 15, 7, 18)\n",
    "delta"
   ]
  },
  {
   "cell_type": "code",
   "execution_count": 11,
   "metadata": {},
   "outputs": [
    {
     "data": {
      "text/plain": [
       "1981"
      ]
     },
     "execution_count": 11,
     "metadata": {},
     "output_type": "execute_result"
    }
   ],
   "source": [
    "delta.days"
   ]
  },
  {
   "cell_type": "code",
   "execution_count": 12,
   "metadata": {},
   "outputs": [
    {
     "data": {
      "text/plain": [
       "60120"
      ]
     },
     "execution_count": 12,
     "metadata": {},
     "output_type": "execute_result"
    }
   ],
   "source": [
    "delta.seconds"
   ]
  },
  {
   "cell_type": "code",
   "execution_count": 13,
   "metadata": {},
   "outputs": [],
   "source": [
    "from datetime import timedelta"
   ]
  },
  {
   "cell_type": "code",
   "execution_count": 14,
   "metadata": {},
   "outputs": [],
   "source": [
    "start = datetime(1998, 8, 24)"
   ]
  },
  {
   "cell_type": "code",
   "execution_count": 15,
   "metadata": {},
   "outputs": [
    {
     "data": {
      "text/plain": [
       "datetime.datetime(1998, 8, 22, 0, 0)"
      ]
     },
     "execution_count": 15,
     "metadata": {},
     "output_type": "execute_result"
    }
   ],
   "source": [
    "start + timedelta(-2)"
   ]
  },
  {
   "cell_type": "code",
   "execution_count": 16,
   "metadata": {},
   "outputs": [
    {
     "data": {
      "text/plain": [
       "datetime.datetime(1998, 8, 28, 0, 0)"
      ]
     },
     "execution_count": 16,
     "metadata": {},
     "output_type": "execute_result"
    }
   ],
   "source": [
    "start - 2 * timedelta(-2)"
   ]
  },
  {
   "cell_type": "markdown",
   "metadata": {},
   "source": [
    "*See Table 11-1. Types in datetime module*"
   ]
  },
  {
   "cell_type": "markdown",
   "metadata": {},
   "source": [
    "![Types in datetime module](Img/11.1.png)"
   ]
  },
  {
   "cell_type": "markdown",
   "metadata": {},
   "source": [
    "## Converting Between String and Datetime"
   ]
  },
  {
   "cell_type": "code",
   "execution_count": 17,
   "metadata": {},
   "outputs": [],
   "source": [
    "stamp = datetime(2020, 8, 24)"
   ]
  },
  {
   "cell_type": "code",
   "execution_count": 18,
   "metadata": {},
   "outputs": [
    {
     "data": {
      "text/plain": [
       "'2020-08-24 00:00:00'"
      ]
     },
     "execution_count": 18,
     "metadata": {},
     "output_type": "execute_result"
    }
   ],
   "source": [
    "str(stamp)"
   ]
  },
  {
   "cell_type": "code",
   "execution_count": 19,
   "metadata": {},
   "outputs": [
    {
     "data": {
      "text/plain": [
       "'2020-08-24'"
      ]
     },
     "execution_count": 19,
     "metadata": {},
     "output_type": "execute_result"
    }
   ],
   "source": [
    "# Converting stamp-time into stamp-str\n",
    "stamp.strftime('%Y-%m-%d')"
   ]
  },
  {
   "cell_type": "markdown",
   "metadata": {},
   "source": [
    "*See Table 11-2 for a complete list of the format codes present in Chp2*"
   ]
  },
  {
   "cell_type": "code",
   "execution_count": 20,
   "metadata": {},
   "outputs": [],
   "source": [
    "value = '2020-08-24'"
   ]
  },
  {
   "cell_type": "code",
   "execution_count": 21,
   "metadata": {},
   "outputs": [],
   "source": [
    "stamp = datetime.strptime(value, '%Y-%m-%d')"
   ]
  },
  {
   "cell_type": "code",
   "execution_count": 22,
   "metadata": {},
   "outputs": [
    {
     "data": {
      "text/plain": [
       "datetime.datetime(2020, 8, 24, 0, 0)"
      ]
     },
     "execution_count": 22,
     "metadata": {},
     "output_type": "execute_result"
    }
   ],
   "source": [
    "stamp"
   ]
  },
  {
   "cell_type": "code",
   "execution_count": 23,
   "metadata": {},
   "outputs": [],
   "source": [
    "datelists = ['2020-02-24', '2019-08-15', '2018-04-18']"
   ]
  },
  {
   "cell_type": "code",
   "execution_count": 24,
   "metadata": {},
   "outputs": [
    {
     "data": {
      "text/plain": [
       "[datetime.datetime(2020, 2, 24, 0, 0),\n",
       " datetime.datetime(2019, 8, 15, 0, 0),\n",
       " datetime.datetime(2018, 4, 18, 0, 0)]"
      ]
     },
     "execution_count": 24,
     "metadata": {},
     "output_type": "execute_result"
    }
   ],
   "source": [
    "[datetime.strptime(x, '%Y-%m-%d') for x in datelists]   "
   ]
  },
  {
   "cell_type": "markdown",
   "metadata": {},
   "source": [
    "**datetime.strptime** is a good way to parse a date with a known format. However, it\n",
    "can be a bit annoying to have to write a format spec each time, especially for common\n",
    "date formats. In this case, you can use the **parser.parse** method in the third-party\n",
    "dateutil package (this is installed automatically when you install pandas):"
   ]
  },
  {
   "cell_type": "code",
   "execution_count": 25,
   "metadata": {},
   "outputs": [],
   "source": [
    "from dateutil.parser import parse"
   ]
  },
  {
   "cell_type": "code",
   "execution_count": 26,
   "metadata": {},
   "outputs": [
    {
     "data": {
      "text/plain": [
       "datetime.datetime(1998, 8, 24, 0, 0)"
      ]
     },
     "execution_count": 26,
     "metadata": {},
     "output_type": "execute_result"
    }
   ],
   "source": [
    "parse('1998-08-24')"
   ]
  },
  {
   "cell_type": "code",
   "execution_count": 27,
   "metadata": {},
   "outputs": [
    {
     "data": {
      "text/plain": [
       "datetime.datetime(1998, 8, 24, 4, 3)"
      ]
     },
     "execution_count": 27,
     "metadata": {},
     "output_type": "execute_result"
    }
   ],
   "source": [
    "parse('August 24 1998 4:03 AM')"
   ]
  },
  {
   "cell_type": "code",
   "execution_count": 28,
   "metadata": {},
   "outputs": [
    {
     "data": {
      "text/plain": [
       "datetime.datetime(2011, 12, 26, 0, 0)"
      ]
     },
     "execution_count": 28,
     "metadata": {},
     "output_type": "execute_result"
    }
   ],
   "source": [
    "parse('26/12/2011')"
   ]
  },
  {
   "cell_type": "code",
   "execution_count": 29,
   "metadata": {},
   "outputs": [
    {
     "data": {
      "text/plain": [
       "datetime.datetime(2011, 12, 6, 0, 0)"
      ]
     },
     "execution_count": 29,
     "metadata": {},
     "output_type": "execute_result"
    }
   ],
   "source": [
    "parse('6/12/2011', dayfirst=True)"
   ]
  },
  {
   "cell_type": "code",
   "execution_count": 30,
   "metadata": {},
   "outputs": [],
   "source": [
    "datestrs = ['2011-07-06 12:00:00', '2011-08-06 00:00:00']"
   ]
  },
  {
   "cell_type": "code",
   "execution_count": 31,
   "metadata": {},
   "outputs": [
    {
     "data": {
      "text/plain": [
       "DatetimeIndex(['2011-07-06 12:00:00', '2011-08-06 00:00:00'], dtype='datetime64[ns]', freq=None)"
      ]
     },
     "execution_count": 31,
     "metadata": {},
     "output_type": "execute_result"
    }
   ],
   "source": [
    "stamp = pd.to_datetime(datestrs)\n",
    "stamp"
   ]
  },
  {
   "cell_type": "code",
   "execution_count": 32,
   "metadata": {},
   "outputs": [
    {
     "data": {
      "text/plain": [
       "DatetimeIndex(['2011-07-06 12:00:00', '2011-08-06 00:00:00', 'NaT'], dtype='datetime64[ns]', freq=None)"
      ]
     },
     "execution_count": 32,
     "metadata": {},
     "output_type": "execute_result"
    }
   ],
   "source": [
    "stamp = pd.to_datetime(datestrs + [None])\n",
    "stamp"
   ]
  },
  {
   "cell_type": "code",
   "execution_count": 33,
   "metadata": {},
   "outputs": [
    {
     "data": {
      "text/plain": [
       "NaT"
      ]
     },
     "execution_count": 33,
     "metadata": {},
     "output_type": "execute_result"
    }
   ],
   "source": [
    "stamp[2]"
   ]
  },
  {
   "cell_type": "markdown",
   "metadata": {},
   "source": [
    "**NaT** (Not a Time) is pandas’s null value for timestamp data."
   ]
  },
  {
   "cell_type": "markdown",
   "metadata": {},
   "source": [
    "*See Table 11-3. Locale-specific date formatting*"
   ]
  },
  {
   "cell_type": "markdown",
   "metadata": {},
   "source": [
    "![Locale-specific date formatting](Img/11.3.png)"
   ]
  },
  {
   "cell_type": "markdown",
   "metadata": {},
   "source": [
    "# 11.2 Time Series Basics"
   ]
  },
  {
   "cell_type": "markdown",
   "metadata": {},
   "source": [
    "A basic kind of time series object in pandas is a Series indexed by timestamps, which\n",
    "is often represented external to pandas as Python strings or datetime objects"
   ]
  },
  {
   "cell_type": "code",
   "execution_count": 34,
   "metadata": {},
   "outputs": [],
   "source": [
    "dates = [datetime(2011, 1, 2), datetime(2011, 1, 5), datetime(2011, 1, 7),\n",
    "         datetime(2011, 1, 8), datetime(2011, 1, 10), datetime(2011, 1, 12)]"
   ]
  },
  {
   "cell_type": "code",
   "execution_count": 35,
   "metadata": {},
   "outputs": [],
   "source": [
    "ts = pd.Series(np.random.randn(6), index=dates)"
   ]
  },
  {
   "cell_type": "code",
   "execution_count": 36,
   "metadata": {},
   "outputs": [
    {
     "data": {
      "text/plain": [
       "2011-01-02   -1.003231\n",
       "2011-01-05   -1.496920\n",
       "2011-01-07    1.048115\n",
       "2011-01-08   -0.147966\n",
       "2011-01-10   -1.547044\n",
       "2011-01-12   -0.609347\n",
       "dtype: float64"
      ]
     },
     "execution_count": 36,
     "metadata": {},
     "output_type": "execute_result"
    }
   ],
   "source": [
    "ts"
   ]
  },
  {
   "cell_type": "code",
   "execution_count": 37,
   "metadata": {},
   "outputs": [
    {
     "data": {
      "text/plain": [
       "DatetimeIndex(['2011-01-02', '2011-01-05', '2011-01-07', '2011-01-08',\n",
       "               '2011-01-10', '2011-01-12'],\n",
       "              dtype='datetime64[ns]', freq=None)"
      ]
     },
     "execution_count": 37,
     "metadata": {},
     "output_type": "execute_result"
    }
   ],
   "source": [
    "ts.index"
   ]
  },
  {
   "cell_type": "code",
   "execution_count": 38,
   "metadata": {},
   "outputs": [
    {
     "data": {
      "text/plain": [
       "2011-01-02   -1.003231\n",
       "2011-01-07    1.048115\n",
       "2011-01-10   -1.547044\n",
       "dtype: float64"
      ]
     },
     "execution_count": 38,
     "metadata": {},
     "output_type": "execute_result"
    }
   ],
   "source": [
    "ts[::2]"
   ]
  },
  {
   "cell_type": "code",
   "execution_count": 39,
   "metadata": {},
   "outputs": [
    {
     "data": {
      "text/plain": [
       "2011-01-02   -2.006462\n",
       "2011-01-05         NaN\n",
       "2011-01-07    2.096229\n",
       "2011-01-08         NaN\n",
       "2011-01-10   -3.094089\n",
       "2011-01-12         NaN\n",
       "dtype: float64"
      ]
     },
     "execution_count": 39,
     "metadata": {},
     "output_type": "execute_result"
    }
   ],
   "source": [
    "ts + ts[::2]"
   ]
  },
  {
   "cell_type": "code",
   "execution_count": 40,
   "metadata": {},
   "outputs": [
    {
     "data": {
      "text/plain": [
       "dtype('<M8[ns]')"
      ]
     },
     "execution_count": 40,
     "metadata": {},
     "output_type": "execute_result"
    }
   ],
   "source": [
    "ts.index.dtype"
   ]
  },
  {
   "cell_type": "code",
   "execution_count": 41,
   "metadata": {},
   "outputs": [],
   "source": [
    "stamp = ts.index[0]"
   ]
  },
  {
   "cell_type": "code",
   "execution_count": 42,
   "metadata": {},
   "outputs": [
    {
     "data": {
      "text/plain": [
       "Timestamp('2011-01-02 00:00:00')"
      ]
     },
     "execution_count": 42,
     "metadata": {},
     "output_type": "execute_result"
    }
   ],
   "source": [
    "stamp"
   ]
  },
  {
   "cell_type": "markdown",
   "metadata": {},
   "source": [
    "## Indexing, Selection, Subsetting"
   ]
  },
  {
   "cell_type": "code",
   "execution_count": 43,
   "metadata": {},
   "outputs": [],
   "source": [
    "stamp = ts.index[2]"
   ]
  },
  {
   "cell_type": "code",
   "execution_count": 44,
   "metadata": {},
   "outputs": [
    {
     "data": {
      "text/plain": [
       "1.04811451630194"
      ]
     },
     "execution_count": 44,
     "metadata": {},
     "output_type": "execute_result"
    }
   ],
   "source": [
    "ts[stamp]"
   ]
  },
  {
   "cell_type": "code",
   "execution_count": 45,
   "metadata": {},
   "outputs": [
    {
     "data": {
      "text/plain": [
       "2011-01-02   -1.003231\n",
       "2011-01-05   -1.496920\n",
       "2011-01-07    1.048115\n",
       "2011-01-08   -0.147966\n",
       "2011-01-10   -1.547044\n",
       "2011-01-12   -0.609347\n",
       "dtype: float64"
      ]
     },
     "execution_count": 45,
     "metadata": {},
     "output_type": "execute_result"
    }
   ],
   "source": [
    "ts"
   ]
  },
  {
   "cell_type": "code",
   "execution_count": 46,
   "metadata": {},
   "outputs": [
    {
     "data": {
      "text/plain": [
       "-1.5470443682420807"
      ]
     },
     "execution_count": 46,
     "metadata": {},
     "output_type": "execute_result"
    }
   ],
   "source": [
    "ts['1/10/2011'] #you can also pass a string that is interpretable as a date"
   ]
  },
  {
   "cell_type": "code",
   "execution_count": 47,
   "metadata": {},
   "outputs": [
    {
     "data": {
      "text/plain": [
       "-1.5470443682420807"
      ]
     },
     "execution_count": 47,
     "metadata": {},
     "output_type": "execute_result"
    }
   ],
   "source": [
    "ts['20110110'] #you can also pass a string that is interpretable as a date"
   ]
  },
  {
   "cell_type": "code",
   "execution_count": 48,
   "metadata": {},
   "outputs": [],
   "source": [
    "lts = pd.Series(np.random.randn(1000), index=pd.date_range('1/1/2010', periods=1000))"
   ]
  },
  {
   "cell_type": "code",
   "execution_count": 49,
   "metadata": {},
   "outputs": [
    {
     "data": {
      "text/plain": [
       "2010-01-01   -0.237766\n",
       "2010-01-02   -0.205763\n",
       "2010-01-03   -1.325449\n",
       "2010-01-04   -0.178484\n",
       "2010-01-05   -1.082852\n",
       "                ...   \n",
       "2012-09-22   -2.275846\n",
       "2012-09-23    0.484376\n",
       "2012-09-24   -0.224740\n",
       "2012-09-25    2.769927\n",
       "2012-09-26   -0.777445\n",
       "Freq: D, Length: 1000, dtype: float64"
      ]
     },
     "execution_count": 49,
     "metadata": {},
     "output_type": "execute_result"
    }
   ],
   "source": [
    "lts"
   ]
  },
  {
   "cell_type": "code",
   "execution_count": 50,
   "metadata": {},
   "outputs": [
    {
     "data": {
      "text/plain": [
       "2011-01-01    0.971550\n",
       "2011-01-02    1.764501\n",
       "2011-01-03    0.111590\n",
       "2011-01-04    0.757759\n",
       "2011-01-05    0.119378\n",
       "                ...   \n",
       "2011-12-27   -0.880609\n",
       "2011-12-28    0.816993\n",
       "2011-12-29   -1.166560\n",
       "2011-12-30   -0.654165\n",
       "2011-12-31   -0.317054\n",
       "Freq: D, Length: 365, dtype: float64"
      ]
     },
     "execution_count": 50,
     "metadata": {},
     "output_type": "execute_result"
    }
   ],
   "source": [
    "lts['2011']"
   ]
  },
  {
   "cell_type": "code",
   "execution_count": 51,
   "metadata": {},
   "outputs": [
    {
     "data": {
      "text/plain": [
       "2011-08-01   -0.072023\n",
       "2011-08-02    0.260193\n",
       "2011-08-03   -0.857947\n",
       "2011-08-04   -0.985321\n",
       "2011-08-05   -1.035861\n",
       "2011-08-06    0.947934\n",
       "2011-08-07    0.322522\n",
       "2011-08-08   -0.447591\n",
       "2011-08-09   -0.437198\n",
       "2011-08-10   -0.130740\n",
       "2011-08-11    0.285199\n",
       "2011-08-12    0.893606\n",
       "2011-08-13    0.296886\n",
       "2011-08-14   -0.909039\n",
       "2011-08-15    0.366267\n",
       "2011-08-16   -1.306282\n",
       "2011-08-17   -0.314006\n",
       "2011-08-18   -0.356406\n",
       "2011-08-19    0.052704\n",
       "2011-08-20    1.526965\n",
       "2011-08-21   -2.570644\n",
       "2011-08-22    0.738963\n",
       "2011-08-23   -0.926996\n",
       "2011-08-24    3.470344\n",
       "2011-08-25   -0.772374\n",
       "2011-08-26   -0.265936\n",
       "2011-08-27    0.832243\n",
       "2011-08-28   -0.863703\n",
       "2011-08-29    0.772414\n",
       "2011-08-30   -0.554472\n",
       "2011-08-31   -1.619850\n",
       "Freq: D, dtype: float64"
      ]
     },
     "execution_count": 51,
     "metadata": {},
     "output_type": "execute_result"
    }
   ],
   "source": [
    "lts['2011-08']"
   ]
  },
  {
   "cell_type": "code",
   "execution_count": 52,
   "metadata": {},
   "outputs": [
    {
     "data": {
      "text/plain": [
       "2011-06-01   -1.276456\n",
       "2011-06-02    0.233991\n",
       "2011-06-03    0.881760\n",
       "2011-06-04   -0.382703\n",
       "2011-06-05    1.472987\n",
       "                ...   \n",
       "2012-09-22   -2.275846\n",
       "2012-09-23    0.484376\n",
       "2012-09-24   -0.224740\n",
       "2012-09-25    2.769927\n",
       "2012-09-26   -0.777445\n",
       "Freq: D, Length: 484, dtype: float64"
      ]
     },
     "execution_count": 52,
     "metadata": {},
     "output_type": "execute_result"
    }
   ],
   "source": [
    "lts[datetime(2011, 6, 1):]"
   ]
  },
  {
   "cell_type": "code",
   "execution_count": 53,
   "metadata": {},
   "outputs": [
    {
     "data": {
      "text/plain": [
       "2011-06-01   -1.276456\n",
       "2011-06-02    0.233991\n",
       "2011-06-03    0.881760\n",
       "2011-06-04   -0.382703\n",
       "2011-06-05    1.472987\n",
       "                ...   \n",
       "2012-09-22   -2.275846\n",
       "2012-09-23    0.484376\n",
       "2012-09-24   -0.224740\n",
       "2012-09-25    2.769927\n",
       "2012-09-26   -0.777445\n",
       "Freq: D, Length: 484, dtype: float64"
      ]
     },
     "execution_count": 53,
     "metadata": {},
     "output_type": "execute_result"
    }
   ],
   "source": [
    "lts['2011-06-01':]"
   ]
  },
  {
   "cell_type": "code",
   "execution_count": 54,
   "metadata": {},
   "outputs": [
    {
     "data": {
      "text/plain": [
       "2011-08-25   -0.772374\n",
       "2011-08-26   -0.265936\n",
       "2011-08-27    0.832243\n",
       "2011-08-28   -0.863703\n",
       "2011-08-29    0.772414\n",
       "                ...   \n",
       "2012-08-20    0.832725\n",
       "2012-08-21    0.940275\n",
       "2012-08-22    0.692549\n",
       "2012-08-23   -0.637598\n",
       "2012-08-24   -0.407290\n",
       "Freq: D, Length: 366, dtype: float64"
      ]
     },
     "execution_count": 54,
     "metadata": {},
     "output_type": "execute_result"
    }
   ],
   "source": [
    "lts['2011-08-25':'2012-08-24']"
   ]
  },
  {
   "cell_type": "markdown",
   "metadata": {},
   "source": [
    "As before, you can pass either a string date, **datetime**, or timestamp. Remember that\n",
    "slicing in this manner produces views on the source time series like slicing NumPy\n",
    "arrays. This means that no data is copied and modifications on the slice will be reflec‐\n",
    "ted in the original data."
   ]
  },
  {
   "cell_type": "markdown",
   "metadata": {},
   "source": [
    "There is an equivalent instance method, truncate, that slices a Series between two\n",
    "dates"
   ]
  },
  {
   "cell_type": "code",
   "execution_count": 55,
   "metadata": {},
   "outputs": [
    {
     "data": {
      "text/plain": [
       "2012-08-01    0.448356\n",
       "2012-08-02    0.124522\n",
       "2012-08-03    1.953035\n",
       "2012-08-04    0.427994\n",
       "2012-08-05    0.790907\n",
       "2012-08-06    1.518593\n",
       "2012-08-07    0.250939\n",
       "2012-08-08    1.275271\n",
       "2012-08-09   -0.494953\n",
       "2012-08-10    0.622048\n",
       "2012-08-11    0.596488\n",
       "2012-08-12   -1.189778\n",
       "2012-08-13   -0.388949\n",
       "2012-08-14    2.245498\n",
       "2012-08-15    1.789944\n",
       "2012-08-16   -1.180911\n",
       "2012-08-17   -2.958566\n",
       "2012-08-18    1.396545\n",
       "2012-08-19    0.726929\n",
       "2012-08-20    0.832725\n",
       "2012-08-21    0.940275\n",
       "2012-08-22    0.692549\n",
       "2012-08-23   -0.637598\n",
       "2012-08-24   -0.407290\n",
       "2012-08-25    0.838208\n",
       "2012-08-26   -0.641766\n",
       "2012-08-27    1.837654\n",
       "2012-08-28   -0.849455\n",
       "2012-08-29   -0.246347\n",
       "2012-08-30   -0.409388\n",
       "2012-08-31   -0.454661\n",
       "2012-09-01    0.365459\n",
       "2012-09-02   -0.759928\n",
       "2012-09-03   -0.755244\n",
       "2012-09-04   -0.280597\n",
       "2012-09-05   -0.068298\n",
       "2012-09-06   -0.535106\n",
       "2012-09-07   -0.926304\n",
       "2012-09-08   -0.324994\n",
       "2012-09-09   -0.070286\n",
       "2012-09-10    1.127199\n",
       "2012-09-11    0.749904\n",
       "2012-09-12    0.269056\n",
       "2012-09-13   -0.340789\n",
       "2012-09-14   -1.606910\n",
       "2012-09-15    0.737068\n",
       "2012-09-16   -0.870818\n",
       "2012-09-17    0.426315\n",
       "2012-09-18   -0.309937\n",
       "2012-09-19    1.180394\n",
       "2012-09-20    1.948426\n",
       "2012-09-21   -0.948475\n",
       "2012-09-22   -2.275846\n",
       "2012-09-23    0.484376\n",
       "2012-09-24   -0.224740\n",
       "2012-09-25    2.769927\n",
       "2012-09-26   -0.777445\n",
       "Freq: D, dtype: float64"
      ]
     },
     "execution_count": 55,
     "metadata": {},
     "output_type": "execute_result"
    }
   ],
   "source": [
    "lts.truncate(before='2012-08-01')"
   ]
  },
  {
   "cell_type": "code",
   "execution_count": 56,
   "metadata": {},
   "outputs": [],
   "source": [
    "dates = pd.date_range('2012-08-05', periods=100, freq='W-WED')"
   ]
  },
  {
   "cell_type": "code",
   "execution_count": 57,
   "metadata": {},
   "outputs": [],
   "source": [
    "long_df = pd.DataFrame(np.random.randn(100,4), index=dates, columns=['NY', 'KHI', 'DEL', 'ANK'])"
   ]
  },
  {
   "cell_type": "code",
   "execution_count": 58,
   "metadata": {},
   "outputs": [
    {
     "data": {
      "text/html": [
       "<div>\n",
       "<style scoped>\n",
       "    .dataframe tbody tr th:only-of-type {\n",
       "        vertical-align: middle;\n",
       "    }\n",
       "\n",
       "    .dataframe tbody tr th {\n",
       "        vertical-align: top;\n",
       "    }\n",
       "\n",
       "    .dataframe thead th {\n",
       "        text-align: right;\n",
       "    }\n",
       "</style>\n",
       "<table border=\"1\" class=\"dataframe\">\n",
       "  <thead>\n",
       "    <tr style=\"text-align: right;\">\n",
       "      <th></th>\n",
       "      <th>NY</th>\n",
       "      <th>KHI</th>\n",
       "      <th>DEL</th>\n",
       "      <th>ANK</th>\n",
       "    </tr>\n",
       "  </thead>\n",
       "  <tbody>\n",
       "    <tr>\n",
       "      <th>2012-08-08</th>\n",
       "      <td>-1.036047</td>\n",
       "      <td>2.637510</td>\n",
       "      <td>0.437063</td>\n",
       "      <td>0.046689</td>\n",
       "    </tr>\n",
       "    <tr>\n",
       "      <th>2012-08-15</th>\n",
       "      <td>1.782631</td>\n",
       "      <td>-0.375070</td>\n",
       "      <td>0.603835</td>\n",
       "      <td>-0.231214</td>\n",
       "    </tr>\n",
       "    <tr>\n",
       "      <th>2012-08-22</th>\n",
       "      <td>-0.027000</td>\n",
       "      <td>0.023360</td>\n",
       "      <td>1.101765</td>\n",
       "      <td>0.762517</td>\n",
       "    </tr>\n",
       "    <tr>\n",
       "      <th>2012-08-29</th>\n",
       "      <td>1.418819</td>\n",
       "      <td>-1.207805</td>\n",
       "      <td>-2.119166</td>\n",
       "      <td>-0.079623</td>\n",
       "    </tr>\n",
       "    <tr>\n",
       "      <th>2012-09-05</th>\n",
       "      <td>0.800157</td>\n",
       "      <td>-0.456457</td>\n",
       "      <td>-0.531727</td>\n",
       "      <td>0.192759</td>\n",
       "    </tr>\n",
       "    <tr>\n",
       "      <th>...</th>\n",
       "      <td>...</td>\n",
       "      <td>...</td>\n",
       "      <td>...</td>\n",
       "      <td>...</td>\n",
       "    </tr>\n",
       "    <tr>\n",
       "      <th>2014-06-04</th>\n",
       "      <td>0.135334</td>\n",
       "      <td>0.512010</td>\n",
       "      <td>0.072383</td>\n",
       "      <td>-0.460687</td>\n",
       "    </tr>\n",
       "    <tr>\n",
       "      <th>2014-06-11</th>\n",
       "      <td>-1.189303</td>\n",
       "      <td>1.227403</td>\n",
       "      <td>1.764791</td>\n",
       "      <td>-0.090979</td>\n",
       "    </tr>\n",
       "    <tr>\n",
       "      <th>2014-06-18</th>\n",
       "      <td>-1.723334</td>\n",
       "      <td>-0.467451</td>\n",
       "      <td>1.680970</td>\n",
       "      <td>-0.740675</td>\n",
       "    </tr>\n",
       "    <tr>\n",
       "      <th>2014-06-25</th>\n",
       "      <td>0.404951</td>\n",
       "      <td>-0.283153</td>\n",
       "      <td>-0.324911</td>\n",
       "      <td>-0.442905</td>\n",
       "    </tr>\n",
       "    <tr>\n",
       "      <th>2014-07-02</th>\n",
       "      <td>2.029791</td>\n",
       "      <td>-0.417851</td>\n",
       "      <td>-0.718603</td>\n",
       "      <td>1.018387</td>\n",
       "    </tr>\n",
       "  </tbody>\n",
       "</table>\n",
       "<p>100 rows × 4 columns</p>\n",
       "</div>"
      ],
      "text/plain": [
       "                  NY       KHI       DEL       ANK\n",
       "2012-08-08 -1.036047  2.637510  0.437063  0.046689\n",
       "2012-08-15  1.782631 -0.375070  0.603835 -0.231214\n",
       "2012-08-22 -0.027000  0.023360  1.101765  0.762517\n",
       "2012-08-29  1.418819 -1.207805 -2.119166 -0.079623\n",
       "2012-09-05  0.800157 -0.456457 -0.531727  0.192759\n",
       "...              ...       ...       ...       ...\n",
       "2014-06-04  0.135334  0.512010  0.072383 -0.460687\n",
       "2014-06-11 -1.189303  1.227403  1.764791 -0.090979\n",
       "2014-06-18 -1.723334 -0.467451  1.680970 -0.740675\n",
       "2014-06-25  0.404951 -0.283153 -0.324911 -0.442905\n",
       "2014-07-02  2.029791 -0.417851 -0.718603  1.018387\n",
       "\n",
       "[100 rows x 4 columns]"
      ]
     },
     "execution_count": 58,
     "metadata": {},
     "output_type": "execute_result"
    }
   ],
   "source": [
    "long_df"
   ]
  },
  {
   "cell_type": "code",
   "execution_count": 59,
   "metadata": {},
   "outputs": [
    {
     "data": {
      "text/html": [
       "<div>\n",
       "<style scoped>\n",
       "    .dataframe tbody tr th:only-of-type {\n",
       "        vertical-align: middle;\n",
       "    }\n",
       "\n",
       "    .dataframe tbody tr th {\n",
       "        vertical-align: top;\n",
       "    }\n",
       "\n",
       "    .dataframe thead th {\n",
       "        text-align: right;\n",
       "    }\n",
       "</style>\n",
       "<table border=\"1\" class=\"dataframe\">\n",
       "  <thead>\n",
       "    <tr style=\"text-align: right;\">\n",
       "      <th></th>\n",
       "      <th>NY</th>\n",
       "      <th>KHI</th>\n",
       "      <th>DEL</th>\n",
       "      <th>ANK</th>\n",
       "    </tr>\n",
       "  </thead>\n",
       "  <tbody>\n",
       "    <tr>\n",
       "      <th>2013-08-07</th>\n",
       "      <td>-0.318618</td>\n",
       "      <td>-0.127524</td>\n",
       "      <td>1.559932</td>\n",
       "      <td>1.673422</td>\n",
       "    </tr>\n",
       "    <tr>\n",
       "      <th>2013-08-14</th>\n",
       "      <td>-0.561744</td>\n",
       "      <td>1.461550</td>\n",
       "      <td>-0.994221</td>\n",
       "      <td>0.989295</td>\n",
       "    </tr>\n",
       "    <tr>\n",
       "      <th>2013-08-21</th>\n",
       "      <td>-1.277445</td>\n",
       "      <td>-0.206639</td>\n",
       "      <td>1.803574</td>\n",
       "      <td>-1.574962</td>\n",
       "    </tr>\n",
       "    <tr>\n",
       "      <th>2013-08-28</th>\n",
       "      <td>0.373524</td>\n",
       "      <td>0.666678</td>\n",
       "      <td>1.312168</td>\n",
       "      <td>-0.391453</td>\n",
       "    </tr>\n",
       "  </tbody>\n",
       "</table>\n",
       "</div>"
      ],
      "text/plain": [
       "                  NY       KHI       DEL       ANK\n",
       "2013-08-07 -0.318618 -0.127524  1.559932  1.673422\n",
       "2013-08-14 -0.561744  1.461550 -0.994221  0.989295\n",
       "2013-08-21 -1.277445 -0.206639  1.803574 -1.574962\n",
       "2013-08-28  0.373524  0.666678  1.312168 -0.391453"
      ]
     },
     "execution_count": 59,
     "metadata": {},
     "output_type": "execute_result"
    }
   ],
   "source": [
    "long_df.loc['2013-08']"
   ]
  },
  {
   "cell_type": "markdown",
   "metadata": {},
   "source": [
    "## Time Series with Duplicate Indices"
   ]
  },
  {
   "cell_type": "markdown",
   "metadata": {},
   "source": [
    "In some applications, there may be multiple data observations falling on a particular\n",
    "timestamp"
   ]
  },
  {
   "cell_type": "code",
   "execution_count": 60,
   "metadata": {},
   "outputs": [],
   "source": [
    "dates = pd.DatetimeIndex(['1/1/2000', '1/2/2000', '1/2/2000', '1/2/2000', '1/3/2000'])"
   ]
  },
  {
   "cell_type": "code",
   "execution_count": 61,
   "metadata": {},
   "outputs": [
    {
     "data": {
      "text/plain": [
       "DatetimeIndex(['2000-01-01', '2000-01-02', '2000-01-02', '2000-01-02',\n",
       "               '2000-01-03'],\n",
       "              dtype='datetime64[ns]', freq=None)"
      ]
     },
     "execution_count": 61,
     "metadata": {},
     "output_type": "execute_result"
    }
   ],
   "source": [
    "dates"
   ]
  },
  {
   "cell_type": "code",
   "execution_count": 62,
   "metadata": {},
   "outputs": [
    {
     "data": {
      "text/plain": [
       "2000-01-01    1.753368\n",
       "2000-01-02   -0.354485\n",
       "2000-01-02    1.441901\n",
       "2000-01-02   -0.207880\n",
       "2000-01-03    0.775163\n",
       "dtype: float64"
      ]
     },
     "execution_count": 62,
     "metadata": {},
     "output_type": "execute_result"
    }
   ],
   "source": [
    "dup_ts = pd.Series(np.random.randn(len(dates)), index=dates)\n",
    "dup_ts"
   ]
  },
  {
   "cell_type": "code",
   "execution_count": 63,
   "metadata": {},
   "outputs": [
    {
     "data": {
      "text/plain": [
       "False"
      ]
     },
     "execution_count": 63,
     "metadata": {},
     "output_type": "execute_result"
    }
   ],
   "source": [
    "dup_ts.index.is_unique #means that index has dupplicate value"
   ]
  },
  {
   "cell_type": "code",
   "execution_count": 64,
   "metadata": {},
   "outputs": [
    {
     "data": {
      "text/plain": [
       "2000-01-02   -0.354485\n",
       "2000-01-02    1.441901\n",
       "2000-01-02   -0.207880\n",
       "dtype: float64"
      ]
     },
     "execution_count": 64,
     "metadata": {},
     "output_type": "execute_result"
    }
   ],
   "source": [
    "dup_ts['2000-01-02']"
   ]
  },
  {
   "cell_type": "code",
   "execution_count": 65,
   "metadata": {},
   "outputs": [
    {
     "data": {
      "text/plain": [
       "2000-01-01    1\n",
       "2000-01-02    3\n",
       "2000-01-03    1\n",
       "dtype: int64"
      ]
     },
     "execution_count": 65,
     "metadata": {},
     "output_type": "execute_result"
    }
   ],
   "source": [
    "dup_ts.groupby(level=0).count()"
   ]
  },
  {
   "cell_type": "markdown",
   "metadata": {},
   "source": [
    "# 11.3 Date Ranges, Frequencies, and Shifting"
   ]
  },
  {
   "cell_type": "code",
   "execution_count": 66,
   "metadata": {},
   "outputs": [],
   "source": [
    "ts = long_df['NY']"
   ]
  },
  {
   "cell_type": "code",
   "execution_count": 67,
   "metadata": {},
   "outputs": [
    {
     "data": {
      "text/plain": [
       "2012-08-08   -1.036047\n",
       "2012-08-15    1.782631\n",
       "2012-08-22   -0.027000\n",
       "2012-08-29    1.418819\n",
       "2012-09-05    0.800157\n",
       "                ...   \n",
       "2014-06-04    0.135334\n",
       "2014-06-11   -1.189303\n",
       "2014-06-18   -1.723334\n",
       "2014-06-25    0.404951\n",
       "2014-07-02    2.029791\n",
       "Freq: W-WED, Name: NY, Length: 100, dtype: float64"
      ]
     },
     "execution_count": 67,
     "metadata": {},
     "output_type": "execute_result"
    }
   ],
   "source": [
    "ts"
   ]
  },
  {
   "cell_type": "code",
   "execution_count": 68,
   "metadata": {},
   "outputs": [],
   "source": [
    "resampler = ts.resample('D') #The string 'D' is interpreted as daily frequency."
   ]
  },
  {
   "cell_type": "markdown",
   "metadata": {},
   "source": [
    "## Generating Date Ranges"
   ]
  },
  {
   "cell_type": "code",
   "execution_count": 69,
   "metadata": {},
   "outputs": [],
   "source": [
    "index = pd.date_range(start='1998-08-24', end='1998-12-24')"
   ]
  },
  {
   "cell_type": "code",
   "execution_count": 70,
   "metadata": {},
   "outputs": [
    {
     "data": {
      "text/plain": [
       "DatetimeIndex(['1998-08-24', '1998-08-25', '1998-08-26', '1998-08-27',\n",
       "               '1998-08-28', '1998-08-29', '1998-08-30', '1998-08-31',\n",
       "               '1998-09-01', '1998-09-02',\n",
       "               ...\n",
       "               '1998-12-15', '1998-12-16', '1998-12-17', '1998-12-18',\n",
       "               '1998-12-19', '1998-12-20', '1998-12-21', '1998-12-22',\n",
       "               '1998-12-23', '1998-12-24'],\n",
       "              dtype='datetime64[ns]', length=123, freq='D')"
      ]
     },
     "execution_count": 70,
     "metadata": {},
     "output_type": "execute_result"
    }
   ],
   "source": [
    "index"
   ]
  },
  {
   "cell_type": "code",
   "execution_count": 71,
   "metadata": {},
   "outputs": [
    {
     "data": {
      "text/plain": [
       "DatetimeIndex(['1998-08-24', '1998-08-25', '1998-08-26', '1998-08-27',\n",
       "               '1998-08-28', '1998-08-29', '1998-08-30', '1998-08-31',\n",
       "               '1998-09-01', '1998-09-02', '1998-09-03', '1998-09-04',\n",
       "               '1998-09-05', '1998-09-06', '1998-09-07', '1998-09-08',\n",
       "               '1998-09-09', '1998-09-10', '1998-09-11', '1998-09-12'],\n",
       "              dtype='datetime64[ns]', freq='D')"
      ]
     },
     "execution_count": 71,
     "metadata": {},
     "output_type": "execute_result"
    }
   ],
   "source": [
    "pd.date_range(start='1998-08-24', periods=20)"
   ]
  },
  {
   "cell_type": "code",
   "execution_count": 72,
   "metadata": {},
   "outputs": [
    {
     "data": {
      "text/plain": [
       "DatetimeIndex(['2019-07-21', '2019-07-22', '2019-07-23', '2019-07-24',\n",
       "               '2019-07-25', '2019-07-26', '2019-07-27', '2019-07-28',\n",
       "               '2019-07-29', '2019-07-30',\n",
       "               ...\n",
       "               '2020-07-11', '2020-07-12', '2020-07-13', '2020-07-14',\n",
       "               '2020-07-15', '2020-07-16', '2020-07-17', '2020-07-18',\n",
       "               '2020-07-19', '2020-07-20'],\n",
       "              dtype='datetime64[ns]', length=366, freq='D')"
      ]
     },
     "execution_count": 72,
     "metadata": {},
     "output_type": "execute_result"
    }
   ],
   "source": [
    "pd.date_range(end='2020-07-20', periods=366)"
   ]
  },
  {
   "cell_type": "code",
   "execution_count": 73,
   "metadata": {},
   "outputs": [
    {
     "data": {
      "text/plain": [
       "DatetimeIndex(['2019-04-30', '2019-05-31', '2019-06-28', '2019-07-31',\n",
       "               '2019-08-30', '2019-09-30', '2019-10-31', '2019-11-29',\n",
       "               '2019-12-31', '2020-01-31', '2020-02-28', '2020-03-31',\n",
       "               '2020-04-30', '2020-05-29', '2020-06-30'],\n",
       "              dtype='datetime64[ns]', freq='BM')"
      ]
     },
     "execution_count": 73,
     "metadata": {},
     "output_type": "execute_result"
    }
   ],
   "source": [
    "#'BM' frequency is business end of month\n",
    "pd.date_range(end='2020-07-20', periods=15, freq='BM')"
   ]
  },
  {
   "cell_type": "markdown",
   "metadata": {},
   "source": [
    "*See Table 11-4. Base time series frequencies (not comprehensive)*"
   ]
  },
  {
   "cell_type": "markdown",
   "metadata": {},
   "source": [
    "![Base time series frequencies](Img/11.4.png)"
   ]
  },
  {
   "cell_type": "code",
   "execution_count": 74,
   "metadata": {},
   "outputs": [
    {
     "data": {
      "text/plain": [
       "DatetimeIndex(['2020-07-20 13:02:54', '2020-07-21 13:02:54',\n",
       "               '2020-07-22 13:02:54', '2020-07-23 13:02:54',\n",
       "               '2020-07-24 13:02:54', '2020-07-25 13:02:54',\n",
       "               '2020-07-26 13:02:54', '2020-07-27 13:02:54',\n",
       "               '2020-07-28 13:02:54', '2020-07-29 13:02:54'],\n",
       "              dtype='datetime64[ns]', freq='D')"
      ]
     },
     "execution_count": 74,
     "metadata": {},
     "output_type": "execute_result"
    }
   ],
   "source": [
    "pd.date_range(start='20/07/2020 13:02:54', periods=10)"
   ]
  },
  {
   "cell_type": "code",
   "execution_count": 75,
   "metadata": {},
   "outputs": [
    {
     "data": {
      "text/plain": [
       "DatetimeIndex(['2020-07-20', '2020-07-21', '2020-07-22', '2020-07-23',\n",
       "               '2020-07-24', '2020-07-25', '2020-07-26', '2020-07-27',\n",
       "               '2020-07-28', '2020-07-29'],\n",
       "              dtype='datetime64[ns]', freq='D')"
      ]
     },
     "execution_count": 75,
     "metadata": {},
     "output_type": "execute_result"
    }
   ],
   "source": [
    "pd.date_range(start='20/07/2020 13:02:54', periods=10, normalize=True)"
   ]
  },
  {
   "cell_type": "markdown",
   "metadata": {},
   "source": [
    "# Frequencies and Date Offsets"
   ]
  },
  {
   "cell_type": "code",
   "execution_count": 76,
   "metadata": {},
   "outputs": [
    {
     "data": {
      "text/plain": [
       "DatetimeIndex(['2020-07-20 00:00:00', '2020-07-20 04:00:00',\n",
       "               '2020-07-20 08:00:00', '2020-07-20 12:00:00',\n",
       "               '2020-07-20 16:00:00', '2020-07-20 20:00:00',\n",
       "               '2020-07-21 00:00:00', '2020-07-21 04:00:00',\n",
       "               '2020-07-21 08:00:00', '2020-07-21 12:00:00',\n",
       "               '2020-07-21 16:00:00', '2020-07-21 20:00:00',\n",
       "               '2020-07-22 00:00:00', '2020-07-22 04:00:00',\n",
       "               '2020-07-22 08:00:00', '2020-07-22 12:00:00',\n",
       "               '2020-07-22 16:00:00', '2020-07-22 20:00:00',\n",
       "               '2020-07-23 00:00:00'],\n",
       "              dtype='datetime64[ns]', freq='4H')"
      ]
     },
     "execution_count": 76,
     "metadata": {},
     "output_type": "execute_result"
    }
   ],
   "source": [
    "pd.date_range('20/07/2020', '23/07/2020', freq='4H')"
   ]
  },
  {
   "cell_type": "code",
   "execution_count": 77,
   "metadata": {},
   "outputs": [
    {
     "data": {
      "text/plain": [
       "DatetimeIndex(['2020-07-20 00:00:00', '2020-07-20 01:30:00',\n",
       "               '2020-07-20 03:00:00', '2020-07-20 04:30:00',\n",
       "               '2020-07-20 06:00:00', '2020-07-20 07:30:00',\n",
       "               '2020-07-20 09:00:00', '2020-07-20 10:30:00',\n",
       "               '2020-07-20 12:00:00', '2020-07-20 13:30:00',\n",
       "               '2020-07-20 15:00:00', '2020-07-20 16:30:00',\n",
       "               '2020-07-20 18:00:00', '2020-07-20 19:30:00',\n",
       "               '2020-07-20 21:00:00', '2020-07-20 22:30:00',\n",
       "               '2020-07-21 00:00:00', '2020-07-21 01:30:00',\n",
       "               '2020-07-21 03:00:00', '2020-07-21 04:30:00',\n",
       "               '2020-07-21 06:00:00', '2020-07-21 07:30:00',\n",
       "               '2020-07-21 09:00:00', '2020-07-21 10:30:00',\n",
       "               '2020-07-21 12:00:00', '2020-07-21 13:30:00',\n",
       "               '2020-07-21 15:00:00', '2020-07-21 16:30:00',\n",
       "               '2020-07-21 18:00:00', '2020-07-21 19:30:00',\n",
       "               '2020-07-21 21:00:00', '2020-07-21 22:30:00',\n",
       "               '2020-07-22 00:00:00', '2020-07-22 01:30:00',\n",
       "               '2020-07-22 03:00:00', '2020-07-22 04:30:00',\n",
       "               '2020-07-22 06:00:00', '2020-07-22 07:30:00',\n",
       "               '2020-07-22 09:00:00', '2020-07-22 10:30:00',\n",
       "               '2020-07-22 12:00:00', '2020-07-22 13:30:00',\n",
       "               '2020-07-22 15:00:00', '2020-07-22 16:30:00',\n",
       "               '2020-07-22 18:00:00', '2020-07-22 19:30:00',\n",
       "               '2020-07-22 21:00:00', '2020-07-22 22:30:00',\n",
       "               '2020-07-23 00:00:00'],\n",
       "              dtype='datetime64[ns]', freq='90T')"
      ]
     },
     "execution_count": 77,
     "metadata": {},
     "output_type": "execute_result"
    }
   ],
   "source": [
    "pd.date_range('20/07/2020', '23/07/2020', freq='1H30Min')"
   ]
  },
  {
   "cell_type": "markdown",
   "metadata": {},
   "source": [
    "### Week of month dates"
   ]
  },
  {
   "cell_type": "markdown",
   "metadata": {},
   "source": [
    "One useful frequency class is “week of month,” starting with WOM. This enables you to\n",
    "get dates like the third Friday of each month"
   ]
  },
  {
   "cell_type": "code",
   "execution_count": 78,
   "metadata": {},
   "outputs": [
    {
     "data": {
      "text/plain": [
       "DatetimeIndex(['2020-02-07', '2020-03-06', '2020-04-03', '2020-05-01',\n",
       "               '2020-06-05', '2020-07-03', '2020-08-07', '2020-09-04',\n",
       "               '2020-10-02', '2020-11-06', '2020-12-04'],\n",
       "              dtype='datetime64[ns]', freq='WOM-1FRI')"
      ]
     },
     "execution_count": 78,
     "metadata": {},
     "output_type": "execute_result"
    }
   ],
   "source": [
    "pd.date_range('2020-01-21', '2020-12-21', freq='WOM-1FRI')"
   ]
  },
  {
   "cell_type": "markdown",
   "metadata": {},
   "source": [
    "## Shifting (Leading and Lagging) Data"
   ]
  },
  {
   "cell_type": "markdown",
   "metadata": {},
   "source": [
    "“Shifting” refers to moving data backward and forward through time. Both Series and\n",
    "DataFrame have a shift method for doing naive shifts forward or backward, leaving\n",
    "the index unmodified"
   ]
  },
  {
   "cell_type": "code",
   "execution_count": 80,
   "metadata": {},
   "outputs": [],
   "source": [
    "ts = pd.Series(np.random.randn(6), index=pd.date_range('1/1/2000', periods=6, freq='M'))"
   ]
  },
  {
   "cell_type": "code",
   "execution_count": 81,
   "metadata": {},
   "outputs": [
    {
     "data": {
      "text/plain": [
       "2000-01-31   -0.036674\n",
       "2000-02-29   -1.313310\n",
       "2000-03-31    0.446429\n",
       "2000-04-30   -0.690893\n",
       "2000-05-31   -0.339031\n",
       "2000-06-30   -0.824358\n",
       "Freq: M, dtype: float64"
      ]
     },
     "execution_count": 81,
     "metadata": {},
     "output_type": "execute_result"
    }
   ],
   "source": [
    "ts"
   ]
  },
  {
   "cell_type": "code",
   "execution_count": 82,
   "metadata": {},
   "outputs": [
    {
     "data": {
      "text/plain": [
       "2000-01-31         NaN\n",
       "2000-02-29         NaN\n",
       "2000-03-31   -0.036674\n",
       "2000-04-30   -1.313310\n",
       "2000-05-31    0.446429\n",
       "2000-06-30   -0.690893\n",
       "Freq: M, dtype: float64"
      ]
     },
     "execution_count": 82,
     "metadata": {},
     "output_type": "execute_result"
    }
   ],
   "source": [
    "ts.shift(2)"
   ]
  },
  {
   "cell_type": "code",
   "execution_count": 83,
   "metadata": {},
   "outputs": [
    {
     "data": {
      "text/plain": [
       "2000-01-31    0.446429\n",
       "2000-02-29   -0.690893\n",
       "2000-03-31   -0.339031\n",
       "2000-04-30   -0.824358\n",
       "2000-05-31         NaN\n",
       "2000-06-30         NaN\n",
       "Freq: M, dtype: float64"
      ]
     },
     "execution_count": 83,
     "metadata": {},
     "output_type": "execute_result"
    }
   ],
   "source": [
    "ts.shift(-2)"
   ]
  },
  {
   "cell_type": "code",
   "execution_count": 84,
   "metadata": {},
   "outputs": [
    {
     "data": {
      "text/plain": [
       "2000-01-31          NaN\n",
       "2000-02-29    34.810729\n",
       "2000-03-31    -1.339927\n",
       "2000-04-30    -2.547598\n",
       "2000-05-31    -0.509286\n",
       "2000-06-30     1.431513\n",
       "Freq: M, dtype: float64"
      ]
     },
     "execution_count": 84,
     "metadata": {},
     "output_type": "execute_result"
    }
   ],
   "source": [
    "ts / ts.shift(1) - 1    "
   ]
  },
  {
   "cell_type": "code",
   "execution_count": 87,
   "metadata": {},
   "outputs": [
    {
     "data": {
      "text/plain": [
       "2000-03-31   -0.036674\n",
       "2000-04-30   -1.313310\n",
       "2000-05-31    0.446429\n",
       "2000-06-30   -0.690893\n",
       "2000-07-31   -0.339031\n",
       "2000-08-31   -0.824358\n",
       "Freq: M, dtype: float64"
      ]
     },
     "execution_count": 87,
     "metadata": {},
     "output_type": "execute_result"
    }
   ],
   "source": [
    "#if the frequency is known, it can be passed to shift to advance the timestamps instead of data\n",
    "ts.shift(2, freq='M')"
   ]
  },
  {
   "cell_type": "code",
   "execution_count": 88,
   "metadata": {},
   "outputs": [
    {
     "data": {
      "text/plain": [
       "2000-02-03   -0.036674\n",
       "2000-03-03   -1.313310\n",
       "2000-04-03    0.446429\n",
       "2000-05-03   -0.690893\n",
       "2000-06-03   -0.339031\n",
       "2000-07-03   -0.824358\n",
       "dtype: float64"
      ]
     },
     "execution_count": 88,
     "metadata": {},
     "output_type": "execute_result"
    }
   ],
   "source": [
    "ts.shift(3, freq='D')"
   ]
  },
  {
   "cell_type": "code",
   "execution_count": 89,
   "metadata": {},
   "outputs": [
    {
     "data": {
      "text/plain": [
       "2000-01-31 01:30:00   -0.036674\n",
       "2000-02-29 01:30:00   -1.313310\n",
       "2000-03-31 01:30:00    0.446429\n",
       "2000-04-30 01:30:00   -0.690893\n",
       "2000-05-31 01:30:00   -0.339031\n",
       "2000-06-30 01:30:00   -0.824358\n",
       "Freq: M, dtype: float64"
      ]
     },
     "execution_count": 89,
     "metadata": {},
     "output_type": "execute_result"
    }
   ],
   "source": [
    "ts.shift(1, freq='90T') #The T here stands for minutes. (90T -> 90 Minutes)"
   ]
  },
  {
   "cell_type": "markdown",
   "metadata": {},
   "source": [
    "### Shifting dates with offsets"
   ]
  },
  {
   "cell_type": "code",
   "execution_count": 90,
   "metadata": {},
   "outputs": [],
   "source": [
    "from pandas.tseries.offsets import MonthEnd, Day"
   ]
  },
  {
   "cell_type": "code",
   "execution_count": 99,
   "metadata": {},
   "outputs": [
    {
     "data": {
      "text/plain": [
       "datetime.datetime(2020, 11, 17, 0, 0)"
      ]
     },
     "execution_count": 99,
     "metadata": {},
     "output_type": "execute_result"
    }
   ],
   "source": [
    "now = datetime(2020, 11, 17)\n",
    "now"
   ]
  },
  {
   "cell_type": "code",
   "execution_count": 94,
   "metadata": {},
   "outputs": [
    {
     "data": {
      "text/plain": [
       "Timestamp('2020-11-20 00:00:00')"
      ]
     },
     "execution_count": 94,
     "metadata": {},
     "output_type": "execute_result"
    }
   ],
   "source": [
    "now + 3 * Day()"
   ]
  },
  {
   "cell_type": "code",
   "execution_count": 98,
   "metadata": {},
   "outputs": [
    {
     "data": {
      "text/plain": [
       "Timestamp('2020-11-30 00:00:00')"
      ]
     },
     "execution_count": 98,
     "metadata": {},
     "output_type": "execute_result"
    }
   ],
   "source": [
    "now + MonthEnd()"
   ]
  },
  {
   "cell_type": "code",
   "execution_count": 102,
   "metadata": {},
   "outputs": [
    {
     "data": {
      "text/plain": [
       "Timestamp('2020-12-31 00:00:00')"
      ]
     },
     "execution_count": 102,
     "metadata": {},
     "output_type": "execute_result"
    }
   ],
   "source": [
    "now + MonthEnd(2)"
   ]
  },
  {
   "cell_type": "code",
   "execution_count": 103,
   "metadata": {},
   "outputs": [
    {
     "data": {
      "text/plain": [
       "Timestamp('2021-01-31 00:00:00')"
      ]
     },
     "execution_count": 103,
     "metadata": {},
     "output_type": "execute_result"
    }
   ],
   "source": [
    "now + MonthEnd(3)"
   ]
  },
  {
   "cell_type": "code",
   "execution_count": 104,
   "metadata": {},
   "outputs": [],
   "source": [
    "offset = MonthEnd()"
   ]
  },
  {
   "cell_type": "code",
   "execution_count": 105,
   "metadata": {},
   "outputs": [
    {
     "data": {
      "text/plain": [
       "Timestamp('2020-11-30 00:00:00')"
      ]
     },
     "execution_count": 105,
     "metadata": {},
     "output_type": "execute_result"
    }
   ],
   "source": [
    "offset.rollforward(now)"
   ]
  },
  {
   "cell_type": "code",
   "execution_count": 106,
   "metadata": {},
   "outputs": [
    {
     "data": {
      "text/plain": [
       "Timestamp('2020-10-31 00:00:00')"
      ]
     },
     "execution_count": 106,
     "metadata": {},
     "output_type": "execute_result"
    }
   ],
   "source": [
    "offset.rollback(now)"
   ]
  },
  {
   "cell_type": "code",
   "execution_count": 107,
   "metadata": {},
   "outputs": [],
   "source": [
    "ts = pd.Series(np.random.randn(10), index=pd.date_range('22/07/2020', periods=10, freq='4d'))"
   ]
  },
  {
   "cell_type": "code",
   "execution_count": 108,
   "metadata": {},
   "outputs": [
    {
     "data": {
      "text/plain": [
       "2020-07-22   -0.149694\n",
       "2020-07-26    0.992339\n",
       "2020-07-30    0.910226\n",
       "2020-08-03    0.496291\n",
       "2020-08-07    0.118034\n",
       "2020-08-11    0.144852\n",
       "2020-08-15   -2.548091\n",
       "2020-08-19    0.114010\n",
       "2020-08-23    2.199712\n",
       "2020-08-27   -1.314360\n",
       "Freq: 4D, dtype: float64"
      ]
     },
     "execution_count": 108,
     "metadata": {},
     "output_type": "execute_result"
    }
   ],
   "source": [
    "ts"
   ]
  },
  {
   "cell_type": "code",
   "execution_count": 110,
   "metadata": {},
   "outputs": [
    {
     "data": {
      "text/plain": [
       "2020-07-31    3\n",
       "2020-08-31    7\n",
       "dtype: int64"
      ]
     },
     "execution_count": 110,
     "metadata": {},
     "output_type": "execute_result"
    }
   ],
   "source": [
    "ts.groupby(offset.rollforward).count()"
   ]
  },
  {
   "cell_type": "code",
   "execution_count": 111,
   "metadata": {},
   "outputs": [
    {
     "data": {
      "text/plain": [
       "2020-07-31    0.584290\n",
       "2020-08-31   -0.112793\n",
       "dtype: float64"
      ]
     },
     "execution_count": 111,
     "metadata": {},
     "output_type": "execute_result"
    }
   ],
   "source": [
    "ts.groupby(offset.rollforward).mean()"
   ]
  },
  {
   "cell_type": "code",
   "execution_count": 113,
   "metadata": {},
   "outputs": [
    {
     "data": {
      "text/plain": [
       "2020-07-31    0.584290\n",
       "2020-08-31   -0.112793\n",
       "Freq: M, dtype: float64"
      ]
     },
     "execution_count": 113,
     "metadata": {},
     "output_type": "execute_result"
    }
   ],
   "source": [
    "ts.resample('M').mean()"
   ]
  },
  {
   "cell_type": "code",
   "execution_count": 114,
   "metadata": {},
   "outputs": [
    {
     "data": {
      "text/plain": [
       "2020-07-31    3\n",
       "2020-08-31    7\n",
       "Freq: M, dtype: int64"
      ]
     },
     "execution_count": 114,
     "metadata": {},
     "output_type": "execute_result"
    }
   ],
   "source": [
    "ts.resample('M').count()"
   ]
  },
  {
   "cell_type": "markdown",
   "metadata": {},
   "source": [
    "# 11.4 Time Zone Handling"
   ]
  },
  {
   "cell_type": "code",
   "execution_count": 115,
   "metadata": {},
   "outputs": [],
   "source": [
    "import pytz"
   ]
  },
  {
   "cell_type": "code",
   "execution_count": 117,
   "metadata": {},
   "outputs": [
    {
     "data": {
      "text/plain": [
       "['US/Eastern', 'US/Hawaii', 'US/Mountain', 'US/Pacific', 'UTC']"
      ]
     },
     "execution_count": 117,
     "metadata": {},
     "output_type": "execute_result"
    }
   ],
   "source": [
    "pytz.common_timezones[-5:]"
   ]
  },
  {
   "cell_type": "code",
   "execution_count": 121,
   "metadata": {},
   "outputs": [
    {
     "data": {
      "text/plain": [
       "<DstTzInfo 'America/New_York' LMT-1 day, 19:04:00 STD>"
      ]
     },
     "execution_count": 121,
     "metadata": {},
     "output_type": "execute_result"
    }
   ],
   "source": [
    "tz = pytz.timezone('America/New_York')\n",
    "tz"
   ]
  },
  {
   "cell_type": "markdown",
   "metadata": {},
   "source": [
    "## Time Zone Localization and Conversion"
   ]
  },
  {
   "cell_type": "code",
   "execution_count": 142,
   "metadata": {},
   "outputs": [],
   "source": [
    "ts = pd.Series(np.random.randn(10), index=pd.date_range('22/07/2020 11:45', periods=10, freq='D'))"
   ]
  },
  {
   "cell_type": "code",
   "execution_count": 143,
   "metadata": {},
   "outputs": [
    {
     "data": {
      "text/plain": [
       "2020-07-22 11:45:00   -1.361026\n",
       "2020-07-23 11:45:00    0.213966\n",
       "2020-07-24 11:45:00    0.920189\n",
       "2020-07-25 11:45:00    0.511554\n",
       "2020-07-26 11:45:00   -0.862784\n",
       "2020-07-27 11:45:00   -0.447586\n",
       "2020-07-28 11:45:00    0.240678\n",
       "2020-07-29 11:45:00   -0.772703\n",
       "2020-07-30 11:45:00   -0.786570\n",
       "2020-07-31 11:45:00   -0.481367\n",
       "Freq: D, dtype: float64"
      ]
     },
     "execution_count": 143,
     "metadata": {},
     "output_type": "execute_result"
    }
   ],
   "source": [
    "ts"
   ]
  },
  {
   "cell_type": "code",
   "execution_count": 144,
   "metadata": {},
   "outputs": [
    {
     "name": "stdout",
     "output_type": "stream",
     "text": [
      "None\n"
     ]
    }
   ],
   "source": [
    "print(ts.index.tz)"
   ]
  },
  {
   "cell_type": "code",
   "execution_count": 145,
   "metadata": {},
   "outputs": [],
   "source": [
    "ts_UTC = pd.Series(np.random.randn(10), index=pd.date_range('22/07/2020 11:45', periods=10, freq='D', tz='UTC'))"
   ]
  },
  {
   "cell_type": "code",
   "execution_count": 146,
   "metadata": {},
   "outputs": [
    {
     "data": {
      "text/plain": [
       "2020-07-22 11:45:00+00:00    0.327405\n",
       "2020-07-23 11:45:00+00:00    1.070646\n",
       "2020-07-24 11:45:00+00:00    0.691818\n",
       "2020-07-25 11:45:00+00:00   -0.228348\n",
       "2020-07-26 11:45:00+00:00   -0.963303\n",
       "2020-07-27 11:45:00+00:00    0.543780\n",
       "2020-07-28 11:45:00+00:00   -1.185834\n",
       "2020-07-29 11:45:00+00:00   -0.997104\n",
       "2020-07-30 11:45:00+00:00    0.585770\n",
       "2020-07-31 11:45:00+00:00    0.258532\n",
       "Freq: D, dtype: float64"
      ]
     },
     "execution_count": 146,
     "metadata": {},
     "output_type": "execute_result"
    }
   ],
   "source": [
    "ts_UTC"
   ]
  },
  {
   "cell_type": "markdown",
   "metadata": {},
   "source": [
    "Conversion from naive to localized is handled by the tz_localize method"
   ]
  },
  {
   "cell_type": "code",
   "execution_count": 147,
   "metadata": {},
   "outputs": [],
   "source": [
    "ts_UTC = ts.tz_localize('UTC')"
   ]
  },
  {
   "cell_type": "code",
   "execution_count": 148,
   "metadata": {},
   "outputs": [
    {
     "data": {
      "text/plain": [
       "2020-07-22 11:45:00+00:00   -1.361026\n",
       "2020-07-23 11:45:00+00:00    0.213966\n",
       "2020-07-24 11:45:00+00:00    0.920189\n",
       "2020-07-25 11:45:00+00:00    0.511554\n",
       "2020-07-26 11:45:00+00:00   -0.862784\n",
       "2020-07-27 11:45:00+00:00   -0.447586\n",
       "2020-07-28 11:45:00+00:00    0.240678\n",
       "2020-07-29 11:45:00+00:00   -0.772703\n",
       "2020-07-30 11:45:00+00:00   -0.786570\n",
       "2020-07-31 11:45:00+00:00   -0.481367\n",
       "Freq: D, dtype: float64"
      ]
     },
     "execution_count": 148,
     "metadata": {},
     "output_type": "execute_result"
    }
   ],
   "source": [
    "ts_UTC"
   ]
  },
  {
   "cell_type": "code",
   "execution_count": 152,
   "metadata": {},
   "outputs": [
    {
     "data": {
      "text/plain": [
       "<UTC>"
      ]
     },
     "execution_count": 152,
     "metadata": {},
     "output_type": "execute_result"
    }
   ],
   "source": [
    "ts_UTC.index.tz"
   ]
  },
  {
   "cell_type": "markdown",
   "metadata": {},
   "source": [
    "Once a time series has been localized to a particular time zone, it can be converted to\n",
    "another time zone with tz_convert:"
   ]
  },
  {
   "cell_type": "code",
   "execution_count": 153,
   "metadata": {},
   "outputs": [
    {
     "data": {
      "text/plain": [
       "2020-07-22 07:45:00-04:00   -1.361026\n",
       "2020-07-23 07:45:00-04:00    0.213966\n",
       "2020-07-24 07:45:00-04:00    0.920189\n",
       "2020-07-25 07:45:00-04:00    0.511554\n",
       "2020-07-26 07:45:00-04:00   -0.862784\n",
       "2020-07-27 07:45:00-04:00   -0.447586\n",
       "2020-07-28 07:45:00-04:00    0.240678\n",
       "2020-07-29 07:45:00-04:00   -0.772703\n",
       "2020-07-30 07:45:00-04:00   -0.786570\n",
       "2020-07-31 07:45:00-04:00   -0.481367\n",
       "Freq: D, dtype: float64"
      ]
     },
     "execution_count": 153,
     "metadata": {},
     "output_type": "execute_result"
    }
   ],
   "source": [
    "ts_UTC.tz_convert('America/New_York')"
   ]
  },
  {
   "cell_type": "code",
   "execution_count": 154,
   "metadata": {},
   "outputs": [],
   "source": [
    "ts_eastern = ts.tz_localize('America/New_York')"
   ]
  },
  {
   "cell_type": "code",
   "execution_count": 155,
   "metadata": {},
   "outputs": [
    {
     "data": {
      "text/plain": [
       "2020-07-22 11:45:00-04:00   -1.361026\n",
       "2020-07-23 11:45:00-04:00    0.213966\n",
       "2020-07-24 11:45:00-04:00    0.920189\n",
       "2020-07-25 11:45:00-04:00    0.511554\n",
       "2020-07-26 11:45:00-04:00   -0.862784\n",
       "2020-07-27 11:45:00-04:00   -0.447586\n",
       "2020-07-28 11:45:00-04:00    0.240678\n",
       "2020-07-29 11:45:00-04:00   -0.772703\n",
       "2020-07-30 11:45:00-04:00   -0.786570\n",
       "2020-07-31 11:45:00-04:00   -0.481367\n",
       "Freq: D, dtype: float64"
      ]
     },
     "execution_count": 155,
     "metadata": {},
     "output_type": "execute_result"
    }
   ],
   "source": [
    "ts_eastern"
   ]
  },
  {
   "cell_type": "code",
   "execution_count": 156,
   "metadata": {},
   "outputs": [
    {
     "data": {
      "text/plain": [
       "2020-07-22 15:45:00+00:00   -1.361026\n",
       "2020-07-23 15:45:00+00:00    0.213966\n",
       "2020-07-24 15:45:00+00:00    0.920189\n",
       "2020-07-25 15:45:00+00:00    0.511554\n",
       "2020-07-26 15:45:00+00:00   -0.862784\n",
       "2020-07-27 15:45:00+00:00   -0.447586\n",
       "2020-07-28 15:45:00+00:00    0.240678\n",
       "2020-07-29 15:45:00+00:00   -0.772703\n",
       "2020-07-30 15:45:00+00:00   -0.786570\n",
       "2020-07-31 15:45:00+00:00   -0.481367\n",
       "Freq: D, dtype: float64"
      ]
     },
     "execution_count": 156,
     "metadata": {},
     "output_type": "execute_result"
    }
   ],
   "source": [
    "ts_eastern.tz_convert('UTC')"
   ]
  },
  {
   "cell_type": "code",
   "execution_count": 157,
   "metadata": {},
   "outputs": [
    {
     "data": {
      "text/plain": [
       "2020-07-22 17:45:00+02:00   -1.361026\n",
       "2020-07-23 17:45:00+02:00    0.213966\n",
       "2020-07-24 17:45:00+02:00    0.920189\n",
       "2020-07-25 17:45:00+02:00    0.511554\n",
       "2020-07-26 17:45:00+02:00   -0.862784\n",
       "2020-07-27 17:45:00+02:00   -0.447586\n",
       "2020-07-28 17:45:00+02:00    0.240678\n",
       "2020-07-29 17:45:00+02:00   -0.772703\n",
       "2020-07-30 17:45:00+02:00   -0.786570\n",
       "2020-07-31 17:45:00+02:00   -0.481367\n",
       "Freq: D, dtype: float64"
      ]
     },
     "execution_count": 157,
     "metadata": {},
     "output_type": "execute_result"
    }
   ],
   "source": [
    "ts_eastern.tz_convert('Europe/Berlin')"
   ]
  },
  {
   "cell_type": "code",
   "execution_count": 162,
   "metadata": {},
   "outputs": [
    {
     "data": {
      "text/plain": [
       "2020-07-22 20:45:00+05:00   -1.361026\n",
       "2020-07-23 20:45:00+05:00    0.213966\n",
       "2020-07-24 20:45:00+05:00    0.920189\n",
       "2020-07-25 20:45:00+05:00    0.511554\n",
       "2020-07-26 20:45:00+05:00   -0.862784\n",
       "2020-07-27 20:45:00+05:00   -0.447586\n",
       "2020-07-28 20:45:00+05:00    0.240678\n",
       "2020-07-29 20:45:00+05:00   -0.772703\n",
       "2020-07-30 20:45:00+05:00   -0.786570\n",
       "2020-07-31 20:45:00+05:00   -0.481367\n",
       "Freq: D, dtype: float64"
      ]
     },
     "execution_count": 162,
     "metadata": {},
     "output_type": "execute_result"
    }
   ],
   "source": [
    "ts_eastern.tz_convert('Asia/Karachi')"
   ]
  },
  {
   "cell_type": "code",
   "execution_count": 165,
   "metadata": {},
   "outputs": [
    {
     "data": {
      "text/plain": [
       "2020-07-22 23:45:00+08:00   -1.361026\n",
       "2020-07-23 23:45:00+08:00    0.213966\n",
       "2020-07-24 23:45:00+08:00    0.920189\n",
       "2020-07-25 23:45:00+08:00    0.511554\n",
       "2020-07-26 23:45:00+08:00   -0.862784\n",
       "2020-07-27 23:45:00+08:00   -0.447586\n",
       "2020-07-28 23:45:00+08:00    0.240678\n",
       "2020-07-29 23:45:00+08:00   -0.772703\n",
       "2020-07-30 23:45:00+08:00   -0.786570\n",
       "2020-07-31 23:45:00+08:00   -0.481367\n",
       "Freq: D, dtype: float64"
      ]
     },
     "execution_count": 165,
     "metadata": {},
     "output_type": "execute_result"
    }
   ],
   "source": [
    "ts_eastern.tz_convert('Asia/Shanghai')"
   ]
  },
  {
   "cell_type": "markdown",
   "metadata": {},
   "source": [
    "## Operations with Time Zone−Aware Timestamp Objects"
   ]
  },
  {
   "cell_type": "code",
   "execution_count": 166,
   "metadata": {},
   "outputs": [],
   "source": [
    "stamp = pd.Timestamp('2020-08-24 04:00')"
   ]
  },
  {
   "cell_type": "code",
   "execution_count": 170,
   "metadata": {},
   "outputs": [
    {
     "data": {
      "text/plain": [
       "Timestamp('2020-08-24 04:00:00+0000', tz='UTC')"
      ]
     },
     "execution_count": 170,
     "metadata": {},
     "output_type": "execute_result"
    }
   ],
   "source": [
    "stamp_utc = stamp.tz_localize('UTC')\n",
    "stamp_utc"
   ]
  },
  {
   "cell_type": "code",
   "execution_count": 171,
   "metadata": {},
   "outputs": [
    {
     "data": {
      "text/plain": [
       "Timestamp('2020-08-24 09:00:00+0500', tz='Asia/Karachi')"
      ]
     },
     "execution_count": 171,
     "metadata": {},
     "output_type": "execute_result"
    }
   ],
   "source": [
    "stamp_utc.tz_convert('Asia/Karachi')"
   ]
  },
  {
   "cell_type": "code",
   "execution_count": 178,
   "metadata": {},
   "outputs": [
    {
     "data": {
      "text/plain": [
       "Timestamp('2020-08-24 04:00:00+0500', tz='Asia/Karachi')"
      ]
     },
     "execution_count": 178,
     "metadata": {},
     "output_type": "execute_result"
    }
   ],
   "source": [
    "stamp_KHI = pd.Timestamp('2020-08-24 04:00', tz='Asia/Karachi')\n",
    "stamp_KHI"
   ]
  },
  {
   "cell_type": "markdown",
   "metadata": {},
   "source": [
    "Time zone–aware Timestamp objects internally store a UTC timestamp value as nano‐\n",
    "seconds since the Unix epoch (January 1, 1970); this UTC value is invariant between\n",
    "time zone conversions"
   ]
  },
  {
   "cell_type": "code",
   "execution_count": 176,
   "metadata": {},
   "outputs": [
    {
     "data": {
      "text/plain": [
       "1598241600000000000"
      ]
     },
     "execution_count": 176,
     "metadata": {},
     "output_type": "execute_result"
    }
   ],
   "source": [
    "stamp_utc.value"
   ]
  },
  {
   "cell_type": "code",
   "execution_count": 177,
   "metadata": {},
   "outputs": [
    {
     "data": {
      "text/plain": [
       "1598241600000000000"
      ]
     },
     "execution_count": 177,
     "metadata": {},
     "output_type": "execute_result"
    }
   ],
   "source": [
    "stamp_utc.tz_convert('America/New_York').value"
   ]
  },
  {
   "cell_type": "code",
   "execution_count": 179,
   "metadata": {},
   "outputs": [],
   "source": [
    "from pandas.tseries.offsets import Hour"
   ]
  },
  {
   "cell_type": "code",
   "execution_count": 183,
   "metadata": {},
   "outputs": [],
   "source": [
    "t_stamp = pd.Timestamp('2020-08-24 09:00', tz='Asia/Karachi')"
   ]
  },
  {
   "cell_type": "code",
   "execution_count": 184,
   "metadata": {},
   "outputs": [
    {
     "data": {
      "text/plain": [
       "Timestamp('2020-08-24 09:00:00+0500', tz='Asia/Karachi')"
      ]
     },
     "execution_count": 184,
     "metadata": {},
     "output_type": "execute_result"
    }
   ],
   "source": [
    "t_stamp"
   ]
  },
  {
   "cell_type": "code",
   "execution_count": 185,
   "metadata": {},
   "outputs": [
    {
     "data": {
      "text/plain": [
       "Timestamp('2020-08-24 10:00:00+0500', tz='Asia/Karachi')"
      ]
     },
     "execution_count": 185,
     "metadata": {},
     "output_type": "execute_result"
    }
   ],
   "source": [
    "t_stamp + Hour()"
   ]
  },
  {
   "cell_type": "code",
   "execution_count": 189,
   "metadata": {},
   "outputs": [
    {
     "data": {
      "text/plain": [
       "Timestamp('2020-08-25 00:00:00+0500', tz='Asia/Karachi')"
      ]
     },
     "execution_count": 189,
     "metadata": {},
     "output_type": "execute_result"
    }
   ],
   "source": [
    "t_stamp + Hour(15)"
   ]
  },
  {
   "cell_type": "code",
   "execution_count": 196,
   "metadata": {},
   "outputs": [],
   "source": [
    "stamp = pd.Timestamp('2012-11-04 00:30', tz='US/Eastern')"
   ]
  },
  {
   "cell_type": "code",
   "execution_count": 197,
   "metadata": {},
   "outputs": [
    {
     "data": {
      "text/plain": [
       "Timestamp('2012-11-04 00:30:00-0400', tz='US/Eastern')"
      ]
     },
     "execution_count": 197,
     "metadata": {},
     "output_type": "execute_result"
    }
   ],
   "source": [
    "stamp"
   ]
  },
  {
   "cell_type": "code",
   "execution_count": 198,
   "metadata": {},
   "outputs": [
    {
     "data": {
      "text/plain": [
       "Timestamp('2012-11-04 01:30:00-0500', tz='US/Eastern')"
      ]
     },
     "execution_count": 198,
     "metadata": {},
     "output_type": "execute_result"
    }
   ],
   "source": [
    "stamp + 2 * Hour()"
   ]
  },
  {
   "cell_type": "markdown",
   "metadata": {},
   "source": [
    "## Operations Between Different Time Zones"
   ]
  },
  {
   "cell_type": "code",
   "execution_count": 199,
   "metadata": {},
   "outputs": [],
   "source": [
    "ts = pd.Series(np.random.randn(10), index=pd.date_range('22/07/2020 9:30', freq='B', periods=10))"
   ]
  },
  {
   "cell_type": "code",
   "execution_count": 200,
   "metadata": {},
   "outputs": [
    {
     "data": {
      "text/plain": [
       "2020-07-22 09:30:00    1.179796\n",
       "2020-07-23 09:30:00    0.437467\n",
       "2020-07-24 09:30:00   -0.156221\n",
       "2020-07-27 09:30:00    0.462077\n",
       "2020-07-28 09:30:00   -0.831943\n",
       "2020-07-29 09:30:00   -0.338552\n",
       "2020-07-30 09:30:00    0.194236\n",
       "2020-07-31 09:30:00   -0.181359\n",
       "2020-08-03 09:30:00    0.481387\n",
       "2020-08-04 09:30:00   -1.762461\n",
       "Freq: B, dtype: float64"
      ]
     },
     "execution_count": 200,
     "metadata": {},
     "output_type": "execute_result"
    }
   ],
   "source": [
    "ts"
   ]
  },
  {
   "cell_type": "code",
   "execution_count": 203,
   "metadata": {},
   "outputs": [
    {
     "data": {
      "text/plain": [
       "2020-07-22 09:30:00-04:00    1.179796\n",
       "2020-07-23 09:30:00-04:00    0.437467\n",
       "2020-07-24 09:30:00-04:00   -0.156221\n",
       "2020-07-27 09:30:00-04:00    0.462077\n",
       "2020-07-28 09:30:00-04:00   -0.831943\n",
       "2020-07-29 09:30:00-04:00   -0.338552\n",
       "2020-07-30 09:30:00-04:00    0.194236\n",
       "Freq: B, dtype: float64"
      ]
     },
     "execution_count": 203,
     "metadata": {},
     "output_type": "execute_result"
    }
   ],
   "source": [
    "ts1 = ts[:7].tz_localize('US/Eastern')\n",
    "ts1"
   ]
  },
  {
   "cell_type": "code",
   "execution_count": 204,
   "metadata": {},
   "outputs": [
    {
     "data": {
      "text/plain": [
       "2020-07-24 09:30:00-04:00   -0.156221\n",
       "2020-07-27 09:30:00-04:00    0.462077\n",
       "2020-07-28 09:30:00-04:00   -0.831943\n",
       "2020-07-29 09:30:00-04:00   -0.338552\n",
       "2020-07-30 09:30:00-04:00    0.194236\n",
       "2020-07-31 09:30:00-04:00   -0.181359\n",
       "2020-08-03 09:30:00-04:00    0.481387\n",
       "2020-08-04 09:30:00-04:00   -1.762461\n",
       "Freq: B, dtype: float64"
      ]
     },
     "execution_count": 204,
     "metadata": {},
     "output_type": "execute_result"
    }
   ],
   "source": [
    "ts2 = ts[2:].tz_localize('US/Eastern')\n",
    "ts2"
   ]
  },
  {
   "cell_type": "code",
   "execution_count": 206,
   "metadata": {},
   "outputs": [
    {
     "data": {
      "text/plain": [
       "DatetimeIndex(['2020-07-22 09:30:00-04:00', '2020-07-23 09:30:00-04:00',\n",
       "               '2020-07-24 09:30:00-04:00', '2020-07-27 09:30:00-04:00',\n",
       "               '2020-07-28 09:30:00-04:00', '2020-07-29 09:30:00-04:00',\n",
       "               '2020-07-30 09:30:00-04:00', '2020-07-31 09:30:00-04:00',\n",
       "               '2020-08-03 09:30:00-04:00', '2020-08-04 09:30:00-04:00'],\n",
       "              dtype='datetime64[ns, US/Eastern]', freq='B')"
      ]
     },
     "execution_count": 206,
     "metadata": {},
     "output_type": "execute_result"
    }
   ],
   "source": [
    "result = ts1 + ts2\n",
    "result.index"
   ]
  },
  {
   "cell_type": "code",
   "execution_count": null,
   "metadata": {},
   "outputs": [],
   "source": []
  }
 ],
 "metadata": {
  "kernelspec": {
   "display_name": "Python 3",
   "language": "python",
   "name": "python3"
  },
  "language_info": {
   "codemirror_mode": {
    "name": "ipython",
    "version": 3
   },
   "file_extension": ".py",
   "mimetype": "text/x-python",
   "name": "python",
   "nbconvert_exporter": "python",
   "pygments_lexer": "ipython3",
   "version": "3.7.6"
  }
 },
 "nbformat": 4,
 "nbformat_minor": 4
}
