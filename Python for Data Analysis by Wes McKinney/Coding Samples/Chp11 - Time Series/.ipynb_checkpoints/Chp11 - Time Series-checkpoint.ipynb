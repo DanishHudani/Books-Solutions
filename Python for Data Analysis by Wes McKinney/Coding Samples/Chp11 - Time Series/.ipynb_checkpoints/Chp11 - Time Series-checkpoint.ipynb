{
 "cells": [
  {
   "cell_type": "markdown",
   "metadata": {},
   "source": [
    "Time series data is an important form of structured data in many different fields, such\n",
    "as finance, economics, ecology, neuroscience, and physics. Anything that is observed\n",
    "or measured at many points in time forms a time series. Many time series are fixed\n",
    "frequency, which is to say that data points occur at regular intervals according to some\n",
    "rule, such as every 15 seconds, every 5 minutes, or once per month. Time series can\n",
    "also be irregular without a fixed unit of time or offset between units.`"
   ]
  },
  {
   "cell_type": "markdown",
   "metadata": {},
   "source": [
    "How you mark and refer to time series data depends on the application, and you may have one of the following:\n",
    "1. Timestamps, specific instants in time\n",
    "2. Fixed periods, such as the month January 2007 or the full year 2010\n",
    "3. Intervals of time, indicated by a start and end timestamp. Periods can be thought of as special cases of intervals\n",
    "4. Experiment or elapsed time; each timestamp is a measure of time relative to a particular start time (e.g., the diameter of a cookie baking each second since being placed in the oven)\n"
   ]
  },
  {
   "cell_type": "code",
   "execution_count": 1,
   "metadata": {},
   "outputs": [],
   "source": [
    "import numpy as np\n",
    "import pandas as pd"
   ]
  },
  {
   "cell_type": "code",
   "execution_count": 2,
   "metadata": {},
   "outputs": [],
   "source": [
    "import matplotlib.pyplot as plt\n",
    "import seaborn as sns\n",
    "\n",
    "%matplotlib inline"
   ]
  },
  {
   "cell_type": "markdown",
   "metadata": {},
   "source": [
    "# 11.1 Date and Time Data Types and Tools"
   ]
  },
  {
   "cell_type": "code",
   "execution_count": 3,
   "metadata": {},
   "outputs": [],
   "source": [
    "from datetime import datetime"
   ]
  },
  {
   "cell_type": "code",
   "execution_count": 4,
   "metadata": {},
   "outputs": [],
   "source": [
    "now = datetime.now()"
   ]
  },
  {
   "cell_type": "code",
   "execution_count": 5,
   "metadata": {},
   "outputs": [
    {
     "name": "stdout",
     "output_type": "stream",
     "text": [
      "2020-07-24 11:19:23.472291\n"
     ]
    }
   ],
   "source": [
    "print(now)"
   ]
  },
  {
   "cell_type": "code",
   "execution_count": 6,
   "metadata": {},
   "outputs": [
    {
     "data": {
      "text/plain": [
       "2020"
      ]
     },
     "execution_count": 6,
     "metadata": {},
     "output_type": "execute_result"
    }
   ],
   "source": [
    "now.year"
   ]
  },
  {
   "cell_type": "code",
   "execution_count": 7,
   "metadata": {},
   "outputs": [
    {
     "data": {
      "text/plain": [
       "24"
      ]
     },
     "execution_count": 7,
     "metadata": {},
     "output_type": "execute_result"
    }
   ],
   "source": [
    "now.day"
   ]
  },
  {
   "cell_type": "code",
   "execution_count": 8,
   "metadata": {},
   "outputs": [
    {
     "data": {
      "text/plain": [
       "7"
      ]
     },
     "execution_count": 8,
     "metadata": {},
     "output_type": "execute_result"
    }
   ],
   "source": [
    "now.month"
   ]
  },
  {
   "cell_type": "code",
   "execution_count": 9,
   "metadata": {},
   "outputs": [
    {
     "data": {
      "text/plain": [
       "(2020, 24, 7)"
      ]
     },
     "execution_count": 9,
     "metadata": {},
     "output_type": "execute_result"
    }
   ],
   "source": [
    "now.year, now.day, now.month"
   ]
  },
  {
   "cell_type": "code",
   "execution_count": 10,
   "metadata": {},
   "outputs": [
    {
     "data": {
      "text/plain": [
       "datetime.timedelta(days=1981, seconds=60120)"
      ]
     },
     "execution_count": 10,
     "metadata": {},
     "output_type": "execute_result"
    }
   ],
   "source": [
    "delta = datetime(2020, 7, 20) - datetime(2015, 2, 15, 7, 18)\n",
    "delta"
   ]
  },
  {
   "cell_type": "code",
   "execution_count": 11,
   "metadata": {},
   "outputs": [
    {
     "data": {
      "text/plain": [
       "1981"
      ]
     },
     "execution_count": 11,
     "metadata": {},
     "output_type": "execute_result"
    }
   ],
   "source": [
    "delta.days"
   ]
  },
  {
   "cell_type": "code",
   "execution_count": 12,
   "metadata": {},
   "outputs": [
    {
     "data": {
      "text/plain": [
       "60120"
      ]
     },
     "execution_count": 12,
     "metadata": {},
     "output_type": "execute_result"
    }
   ],
   "source": [
    "delta.seconds"
   ]
  },
  {
   "cell_type": "code",
   "execution_count": 13,
   "metadata": {},
   "outputs": [],
   "source": [
    "from datetime import timedelta"
   ]
  },
  {
   "cell_type": "code",
   "execution_count": 14,
   "metadata": {},
   "outputs": [],
   "source": [
    "start = datetime(1998, 8, 24)"
   ]
  },
  {
   "cell_type": "code",
   "execution_count": 15,
   "metadata": {},
   "outputs": [
    {
     "data": {
      "text/plain": [
       "datetime.datetime(1998, 8, 22, 0, 0)"
      ]
     },
     "execution_count": 15,
     "metadata": {},
     "output_type": "execute_result"
    }
   ],
   "source": [
    "start + timedelta(-2)"
   ]
  },
  {
   "cell_type": "code",
   "execution_count": 16,
   "metadata": {},
   "outputs": [
    {
     "data": {
      "text/plain": [
       "datetime.datetime(1998, 8, 28, 0, 0)"
      ]
     },
     "execution_count": 16,
     "metadata": {},
     "output_type": "execute_result"
    }
   ],
   "source": [
    "start - 2 * timedelta(-2)"
   ]
  },
  {
   "cell_type": "markdown",
   "metadata": {},
   "source": [
    "*See Table 11-1. Types in datetime module*"
   ]
  },
  {
   "cell_type": "markdown",
   "metadata": {},
   "source": [
    "![Types in datetime module](Img/11.1.png)"
   ]
  },
  {
   "cell_type": "markdown",
   "metadata": {},
   "source": [
    "## Converting Between String and Datetime"
   ]
  },
  {
   "cell_type": "code",
   "execution_count": 17,
   "metadata": {},
   "outputs": [],
   "source": [
    "stamp = datetime(2020, 8, 24)"
   ]
  },
  {
   "cell_type": "code",
   "execution_count": 18,
   "metadata": {},
   "outputs": [
    {
     "data": {
      "text/plain": [
       "'2020-08-24 00:00:00'"
      ]
     },
     "execution_count": 18,
     "metadata": {},
     "output_type": "execute_result"
    }
   ],
   "source": [
    "str(stamp)"
   ]
  },
  {
   "cell_type": "code",
   "execution_count": 19,
   "metadata": {},
   "outputs": [
    {
     "data": {
      "text/plain": [
       "'2020-08-24'"
      ]
     },
     "execution_count": 19,
     "metadata": {},
     "output_type": "execute_result"
    }
   ],
   "source": [
    "# Converting stamp-time into stamp-str\n",
    "stamp.strftime('%Y-%m-%d')"
   ]
  },
  {
   "cell_type": "markdown",
   "metadata": {},
   "source": [
    "*See Table 11-2 for a complete list of the format codes present in Chp2*"
   ]
  },
  {
   "cell_type": "code",
   "execution_count": 20,
   "metadata": {},
   "outputs": [],
   "source": [
    "value = '2020-08-24'"
   ]
  },
  {
   "cell_type": "code",
   "execution_count": 21,
   "metadata": {},
   "outputs": [],
   "source": [
    "stamp = datetime.strptime(value, '%Y-%m-%d')"
   ]
  },
  {
   "cell_type": "code",
   "execution_count": 22,
   "metadata": {},
   "outputs": [
    {
     "data": {
      "text/plain": [
       "datetime.datetime(2020, 8, 24, 0, 0)"
      ]
     },
     "execution_count": 22,
     "metadata": {},
     "output_type": "execute_result"
    }
   ],
   "source": [
    "stamp"
   ]
  },
  {
   "cell_type": "code",
   "execution_count": 23,
   "metadata": {},
   "outputs": [],
   "source": [
    "datelists = ['2020-02-24', '2019-08-15', '2018-04-18']"
   ]
  },
  {
   "cell_type": "code",
   "execution_count": 24,
   "metadata": {},
   "outputs": [
    {
     "data": {
      "text/plain": [
       "[datetime.datetime(2020, 2, 24, 0, 0),\n",
       " datetime.datetime(2019, 8, 15, 0, 0),\n",
       " datetime.datetime(2018, 4, 18, 0, 0)]"
      ]
     },
     "execution_count": 24,
     "metadata": {},
     "output_type": "execute_result"
    }
   ],
   "source": [
    "[datetime.strptime(x, '%Y-%m-%d') for x in datelists]   "
   ]
  },
  {
   "cell_type": "markdown",
   "metadata": {},
   "source": [
    "**datetime.strptime** is a good way to parse a date with a known format. However, it\n",
    "can be a bit annoying to have to write a format spec each time, especially for common\n",
    "date formats. In this case, you can use the **parser.parse** method in the third-party\n",
    "dateutil package (this is installed automatically when you install pandas):"
   ]
  },
  {
   "cell_type": "code",
   "execution_count": 25,
   "metadata": {},
   "outputs": [],
   "source": [
    "from dateutil.parser import parse"
   ]
  },
  {
   "cell_type": "code",
   "execution_count": 26,
   "metadata": {},
   "outputs": [
    {
     "data": {
      "text/plain": [
       "datetime.datetime(1998, 8, 24, 0, 0)"
      ]
     },
     "execution_count": 26,
     "metadata": {},
     "output_type": "execute_result"
    }
   ],
   "source": [
    "parse('1998-08-24')"
   ]
  },
  {
   "cell_type": "code",
   "execution_count": 27,
   "metadata": {},
   "outputs": [
    {
     "data": {
      "text/plain": [
       "datetime.datetime(1998, 8, 24, 4, 3)"
      ]
     },
     "execution_count": 27,
     "metadata": {},
     "output_type": "execute_result"
    }
   ],
   "source": [
    "parse('August 24 1998 4:03 AM')"
   ]
  },
  {
   "cell_type": "code",
   "execution_count": 28,
   "metadata": {},
   "outputs": [
    {
     "data": {
      "text/plain": [
       "datetime.datetime(2011, 12, 26, 0, 0)"
      ]
     },
     "execution_count": 28,
     "metadata": {},
     "output_type": "execute_result"
    }
   ],
   "source": [
    "parse('26/12/2011')"
   ]
  },
  {
   "cell_type": "code",
   "execution_count": 29,
   "metadata": {},
   "outputs": [
    {
     "data": {
      "text/plain": [
       "datetime.datetime(2011, 12, 6, 0, 0)"
      ]
     },
     "execution_count": 29,
     "metadata": {},
     "output_type": "execute_result"
    }
   ],
   "source": [
    "parse('6/12/2011', dayfirst=True)"
   ]
  },
  {
   "cell_type": "code",
   "execution_count": 30,
   "metadata": {},
   "outputs": [],
   "source": [
    "datestrs = ['2011-07-06 12:00:00', '2011-08-06 00:00:00']"
   ]
  },
  {
   "cell_type": "code",
   "execution_count": 31,
   "metadata": {},
   "outputs": [
    {
     "data": {
      "text/plain": [
       "DatetimeIndex(['2011-07-06 12:00:00', '2011-08-06 00:00:00'], dtype='datetime64[ns]', freq=None)"
      ]
     },
     "execution_count": 31,
     "metadata": {},
     "output_type": "execute_result"
    }
   ],
   "source": [
    "stamp = pd.to_datetime(datestrs)\n",
    "stamp"
   ]
  },
  {
   "cell_type": "code",
   "execution_count": 32,
   "metadata": {},
   "outputs": [
    {
     "data": {
      "text/plain": [
       "DatetimeIndex(['2011-07-06 12:00:00', '2011-08-06 00:00:00', 'NaT'], dtype='datetime64[ns]', freq=None)"
      ]
     },
     "execution_count": 32,
     "metadata": {},
     "output_type": "execute_result"
    }
   ],
   "source": [
    "stamp = pd.to_datetime(datestrs + [None])\n",
    "stamp"
   ]
  },
  {
   "cell_type": "code",
   "execution_count": 33,
   "metadata": {},
   "outputs": [
    {
     "data": {
      "text/plain": [
       "NaT"
      ]
     },
     "execution_count": 33,
     "metadata": {},
     "output_type": "execute_result"
    }
   ],
   "source": [
    "stamp[2]"
   ]
  },
  {
   "cell_type": "markdown",
   "metadata": {},
   "source": [
    "**NaT** (Not a Time) is pandas’s null value for timestamp data."
   ]
  },
  {
   "cell_type": "markdown",
   "metadata": {},
   "source": [
    "*See Table 11-3. Locale-specific date formatting*"
   ]
  },
  {
   "cell_type": "markdown",
   "metadata": {},
   "source": [
    "![Locale-specific date formatting](Img/11.3.png)"
   ]
  },
  {
   "cell_type": "markdown",
   "metadata": {},
   "source": [
    "# 11.2 Time Series Basics"
   ]
  },
  {
   "cell_type": "markdown",
   "metadata": {},
   "source": [
    "A basic kind of time series object in pandas is a Series indexed by timestamps, which\n",
    "is often represented external to pandas as Python strings or datetime objects"
   ]
  },
  {
   "cell_type": "code",
   "execution_count": 34,
   "metadata": {},
   "outputs": [],
   "source": [
    "dates = [datetime(2011, 1, 2), datetime(2011, 1, 5), datetime(2011, 1, 7),\n",
    "         datetime(2011, 1, 8), datetime(2011, 1, 10), datetime(2011, 1, 12)]"
   ]
  },
  {
   "cell_type": "code",
   "execution_count": 35,
   "metadata": {},
   "outputs": [],
   "source": [
    "ts = pd.Series(np.random.randn(6), index=dates)"
   ]
  },
  {
   "cell_type": "code",
   "execution_count": 36,
   "metadata": {},
   "outputs": [
    {
     "data": {
      "text/plain": [
       "2011-01-02   -0.699464\n",
       "2011-01-05   -0.244297\n",
       "2011-01-07   -0.090951\n",
       "2011-01-08    0.470042\n",
       "2011-01-10   -0.793374\n",
       "2011-01-12    1.393132\n",
       "dtype: float64"
      ]
     },
     "execution_count": 36,
     "metadata": {},
     "output_type": "execute_result"
    }
   ],
   "source": [
    "ts"
   ]
  },
  {
   "cell_type": "code",
   "execution_count": 37,
   "metadata": {},
   "outputs": [
    {
     "data": {
      "text/plain": [
       "DatetimeIndex(['2011-01-02', '2011-01-05', '2011-01-07', '2011-01-08',\n",
       "               '2011-01-10', '2011-01-12'],\n",
       "              dtype='datetime64[ns]', freq=None)"
      ]
     },
     "execution_count": 37,
     "metadata": {},
     "output_type": "execute_result"
    }
   ],
   "source": [
    "ts.index"
   ]
  },
  {
   "cell_type": "code",
   "execution_count": 38,
   "metadata": {},
   "outputs": [
    {
     "data": {
      "text/plain": [
       "2011-01-02   -0.699464\n",
       "2011-01-07   -0.090951\n",
       "2011-01-10   -0.793374\n",
       "dtype: float64"
      ]
     },
     "execution_count": 38,
     "metadata": {},
     "output_type": "execute_result"
    }
   ],
   "source": [
    "ts[::2]"
   ]
  },
  {
   "cell_type": "code",
   "execution_count": 39,
   "metadata": {},
   "outputs": [
    {
     "data": {
      "text/plain": [
       "2011-01-02   -1.398929\n",
       "2011-01-05         NaN\n",
       "2011-01-07   -0.181902\n",
       "2011-01-08         NaN\n",
       "2011-01-10   -1.586747\n",
       "2011-01-12         NaN\n",
       "dtype: float64"
      ]
     },
     "execution_count": 39,
     "metadata": {},
     "output_type": "execute_result"
    }
   ],
   "source": [
    "ts + ts[::2]"
   ]
  },
  {
   "cell_type": "code",
   "execution_count": 40,
   "metadata": {},
   "outputs": [
    {
     "data": {
      "text/plain": [
       "dtype('<M8[ns]')"
      ]
     },
     "execution_count": 40,
     "metadata": {},
     "output_type": "execute_result"
    }
   ],
   "source": [
    "ts.index.dtype"
   ]
  },
  {
   "cell_type": "code",
   "execution_count": 41,
   "metadata": {},
   "outputs": [],
   "source": [
    "stamp = ts.index[0]"
   ]
  },
  {
   "cell_type": "code",
   "execution_count": 42,
   "metadata": {},
   "outputs": [
    {
     "data": {
      "text/plain": [
       "Timestamp('2011-01-02 00:00:00')"
      ]
     },
     "execution_count": 42,
     "metadata": {},
     "output_type": "execute_result"
    }
   ],
   "source": [
    "stamp"
   ]
  },
  {
   "cell_type": "markdown",
   "metadata": {},
   "source": [
    "## Indexing, Selection, Subsetting"
   ]
  },
  {
   "cell_type": "code",
   "execution_count": 43,
   "metadata": {},
   "outputs": [],
   "source": [
    "stamp = ts.index[2]"
   ]
  },
  {
   "cell_type": "code",
   "execution_count": 44,
   "metadata": {},
   "outputs": [
    {
     "data": {
      "text/plain": [
       "-0.0909509204561012"
      ]
     },
     "execution_count": 44,
     "metadata": {},
     "output_type": "execute_result"
    }
   ],
   "source": [
    "ts[stamp]"
   ]
  },
  {
   "cell_type": "code",
   "execution_count": 45,
   "metadata": {},
   "outputs": [
    {
     "data": {
      "text/plain": [
       "2011-01-02   -0.699464\n",
       "2011-01-05   -0.244297\n",
       "2011-01-07   -0.090951\n",
       "2011-01-08    0.470042\n",
       "2011-01-10   -0.793374\n",
       "2011-01-12    1.393132\n",
       "dtype: float64"
      ]
     },
     "execution_count": 45,
     "metadata": {},
     "output_type": "execute_result"
    }
   ],
   "source": [
    "ts"
   ]
  },
  {
   "cell_type": "code",
   "execution_count": 46,
   "metadata": {},
   "outputs": [
    {
     "data": {
      "text/plain": [
       "-0.7933736746179036"
      ]
     },
     "execution_count": 46,
     "metadata": {},
     "output_type": "execute_result"
    }
   ],
   "source": [
    "ts['1/10/2011'] #you can also pass a string that is interpretable as a date"
   ]
  },
  {
   "cell_type": "code",
   "execution_count": 47,
   "metadata": {},
   "outputs": [
    {
     "data": {
      "text/plain": [
       "-0.7933736746179036"
      ]
     },
     "execution_count": 47,
     "metadata": {},
     "output_type": "execute_result"
    }
   ],
   "source": [
    "ts['20110110'] #you can also pass a string that is interpretable as a date"
   ]
  },
  {
   "cell_type": "code",
   "execution_count": 48,
   "metadata": {},
   "outputs": [],
   "source": [
    "lts = pd.Series(np.random.randn(1000), index=pd.date_range('1/1/2010', periods=1000))"
   ]
  },
  {
   "cell_type": "code",
   "execution_count": 49,
   "metadata": {},
   "outputs": [
    {
     "data": {
      "text/plain": [
       "2010-01-01   -0.704709\n",
       "2010-01-02    1.837383\n",
       "2010-01-03    0.341071\n",
       "2010-01-04    0.097742\n",
       "2010-01-05   -0.407447\n",
       "                ...   \n",
       "2012-09-22   -0.059790\n",
       "2012-09-23   -0.798842\n",
       "2012-09-24    0.753077\n",
       "2012-09-25    1.906760\n",
       "2012-09-26    0.259137\n",
       "Freq: D, Length: 1000, dtype: float64"
      ]
     },
     "execution_count": 49,
     "metadata": {},
     "output_type": "execute_result"
    }
   ],
   "source": [
    "lts"
   ]
  },
  {
   "cell_type": "code",
   "execution_count": 50,
   "metadata": {},
   "outputs": [
    {
     "data": {
      "text/plain": [
       "2011-01-01   -0.645778\n",
       "2011-01-02   -0.418975\n",
       "2011-01-03    1.311760\n",
       "2011-01-04   -0.008814\n",
       "2011-01-05   -1.828030\n",
       "                ...   \n",
       "2011-12-27   -1.085650\n",
       "2011-12-28   -1.127711\n",
       "2011-12-29   -0.755337\n",
       "2011-12-30   -0.928072\n",
       "2011-12-31   -0.132062\n",
       "Freq: D, Length: 365, dtype: float64"
      ]
     },
     "execution_count": 50,
     "metadata": {},
     "output_type": "execute_result"
    }
   ],
   "source": [
    "lts['2011']"
   ]
  },
  {
   "cell_type": "code",
   "execution_count": 51,
   "metadata": {},
   "outputs": [
    {
     "data": {
      "text/plain": [
       "2011-08-01    1.335937\n",
       "2011-08-02   -0.780176\n",
       "2011-08-03    0.484633\n",
       "2011-08-04   -1.480517\n",
       "2011-08-05   -1.021160\n",
       "2011-08-06    1.671527\n",
       "2011-08-07    0.062445\n",
       "2011-08-08   -2.455676\n",
       "2011-08-09    0.895652\n",
       "2011-08-10   -0.455883\n",
       "2011-08-11    0.227093\n",
       "2011-08-12   -1.926669\n",
       "2011-08-13   -1.114323\n",
       "2011-08-14    0.177597\n",
       "2011-08-15   -0.830138\n",
       "2011-08-16    0.319179\n",
       "2011-08-17    1.270361\n",
       "2011-08-18    1.022314\n",
       "2011-08-19   -0.933780\n",
       "2011-08-20   -0.019454\n",
       "2011-08-21    0.649744\n",
       "2011-08-22   -1.018291\n",
       "2011-08-23   -1.439373\n",
       "2011-08-24   -0.437573\n",
       "2011-08-25   -0.020791\n",
       "2011-08-26   -0.775818\n",
       "2011-08-27   -0.326353\n",
       "2011-08-28   -0.903611\n",
       "2011-08-29   -0.757056\n",
       "2011-08-30    0.289583\n",
       "2011-08-31   -1.465563\n",
       "Freq: D, dtype: float64"
      ]
     },
     "execution_count": 51,
     "metadata": {},
     "output_type": "execute_result"
    }
   ],
   "source": [
    "lts['2011-08']"
   ]
  },
  {
   "cell_type": "code",
   "execution_count": 52,
   "metadata": {},
   "outputs": [
    {
     "data": {
      "text/plain": [
       "2011-06-01    0.668646\n",
       "2011-06-02    1.938513\n",
       "2011-06-03    0.089917\n",
       "2011-06-04    0.120984\n",
       "2011-06-05    1.295813\n",
       "                ...   \n",
       "2012-09-22   -0.059790\n",
       "2012-09-23   -0.798842\n",
       "2012-09-24    0.753077\n",
       "2012-09-25    1.906760\n",
       "2012-09-26    0.259137\n",
       "Freq: D, Length: 484, dtype: float64"
      ]
     },
     "execution_count": 52,
     "metadata": {},
     "output_type": "execute_result"
    }
   ],
   "source": [
    "lts[datetime(2011, 6, 1):]"
   ]
  },
  {
   "cell_type": "code",
   "execution_count": 53,
   "metadata": {},
   "outputs": [
    {
     "data": {
      "text/plain": [
       "2011-06-01    0.668646\n",
       "2011-06-02    1.938513\n",
       "2011-06-03    0.089917\n",
       "2011-06-04    0.120984\n",
       "2011-06-05    1.295813\n",
       "                ...   \n",
       "2012-09-22   -0.059790\n",
       "2012-09-23   -0.798842\n",
       "2012-09-24    0.753077\n",
       "2012-09-25    1.906760\n",
       "2012-09-26    0.259137\n",
       "Freq: D, Length: 484, dtype: float64"
      ]
     },
     "execution_count": 53,
     "metadata": {},
     "output_type": "execute_result"
    }
   ],
   "source": [
    "lts['2011-06-01':]"
   ]
  },
  {
   "cell_type": "code",
   "execution_count": 54,
   "metadata": {},
   "outputs": [
    {
     "data": {
      "text/plain": [
       "2011-08-25   -0.020791\n",
       "2011-08-26   -0.775818\n",
       "2011-08-27   -0.326353\n",
       "2011-08-28   -0.903611\n",
       "2011-08-29   -0.757056\n",
       "                ...   \n",
       "2012-08-20    0.136220\n",
       "2012-08-21   -0.106766\n",
       "2012-08-22    1.510062\n",
       "2012-08-23   -1.600990\n",
       "2012-08-24    0.816536\n",
       "Freq: D, Length: 366, dtype: float64"
      ]
     },
     "execution_count": 54,
     "metadata": {},
     "output_type": "execute_result"
    }
   ],
   "source": [
    "lts['2011-08-25':'2012-08-24']"
   ]
  },
  {
   "cell_type": "markdown",
   "metadata": {},
   "source": [
    "As before, you can pass either a string date, **datetime**, or timestamp. Remember that\n",
    "slicing in this manner produces views on the source time series like slicing NumPy\n",
    "arrays. This means that no data is copied and modifications on the slice will be reflec‐\n",
    "ted in the original data."
   ]
  },
  {
   "cell_type": "markdown",
   "metadata": {},
   "source": [
    "There is an equivalent instance method, truncate, that slices a Series between two\n",
    "dates"
   ]
  },
  {
   "cell_type": "code",
   "execution_count": 55,
   "metadata": {},
   "outputs": [
    {
     "data": {
      "text/plain": [
       "2012-08-01   -0.792636\n",
       "2012-08-02   -0.559781\n",
       "2012-08-03    1.586659\n",
       "2012-08-04   -2.100676\n",
       "2012-08-05    1.013318\n",
       "2012-08-06    1.060719\n",
       "2012-08-07   -1.027838\n",
       "2012-08-08    0.492660\n",
       "2012-08-09    0.098847\n",
       "2012-08-10    0.890107\n",
       "2012-08-11    1.734957\n",
       "2012-08-12    0.809867\n",
       "2012-08-13   -0.772731\n",
       "2012-08-14    1.258249\n",
       "2012-08-15    0.046875\n",
       "2012-08-16   -2.215258\n",
       "2012-08-17   -0.235623\n",
       "2012-08-18   -0.984774\n",
       "2012-08-19   -0.737829\n",
       "2012-08-20    0.136220\n",
       "2012-08-21   -0.106766\n",
       "2012-08-22    1.510062\n",
       "2012-08-23   -1.600990\n",
       "2012-08-24    0.816536\n",
       "2012-08-25   -0.615603\n",
       "2012-08-26   -0.157884\n",
       "2012-08-27    0.361055\n",
       "2012-08-28   -1.629209\n",
       "2012-08-29    0.210977\n",
       "2012-08-30    1.522766\n",
       "2012-08-31    1.374927\n",
       "2012-09-01   -1.155710\n",
       "2012-09-02    1.538894\n",
       "2012-09-03    1.231100\n",
       "2012-09-04   -0.560104\n",
       "2012-09-05   -0.403327\n",
       "2012-09-06   -0.647365\n",
       "2012-09-07   -0.074291\n",
       "2012-09-08   -0.207328\n",
       "2012-09-09    0.474394\n",
       "2012-09-10   -0.007620\n",
       "2012-09-11   -2.181787\n",
       "2012-09-12   -0.605994\n",
       "2012-09-13    0.860353\n",
       "2012-09-14    0.181718\n",
       "2012-09-15   -0.519441\n",
       "2012-09-16   -1.797759\n",
       "2012-09-17    0.653703\n",
       "2012-09-18    1.278495\n",
       "2012-09-19    0.557401\n",
       "2012-09-20   -0.855392\n",
       "2012-09-21    0.699089\n",
       "2012-09-22   -0.059790\n",
       "2012-09-23   -0.798842\n",
       "2012-09-24    0.753077\n",
       "2012-09-25    1.906760\n",
       "2012-09-26    0.259137\n",
       "Freq: D, dtype: float64"
      ]
     },
     "execution_count": 55,
     "metadata": {},
     "output_type": "execute_result"
    }
   ],
   "source": [
    "lts.truncate(before='2012-08-01')"
   ]
  },
  {
   "cell_type": "code",
   "execution_count": 56,
   "metadata": {},
   "outputs": [],
   "source": [
    "dates = pd.date_range('2012-08-05', periods=100, freq='W-WED')"
   ]
  },
  {
   "cell_type": "code",
   "execution_count": 57,
   "metadata": {},
   "outputs": [],
   "source": [
    "long_df = pd.DataFrame(np.random.randn(100,4), index=dates, columns=['NY', 'KHI', 'DEL', 'ANK'])"
   ]
  },
  {
   "cell_type": "code",
   "execution_count": 58,
   "metadata": {},
   "outputs": [
    {
     "data": {
      "text/html": [
       "<div>\n",
       "<style scoped>\n",
       "    .dataframe tbody tr th:only-of-type {\n",
       "        vertical-align: middle;\n",
       "    }\n",
       "\n",
       "    .dataframe tbody tr th {\n",
       "        vertical-align: top;\n",
       "    }\n",
       "\n",
       "    .dataframe thead th {\n",
       "        text-align: right;\n",
       "    }\n",
       "</style>\n",
       "<table border=\"1\" class=\"dataframe\">\n",
       "  <thead>\n",
       "    <tr style=\"text-align: right;\">\n",
       "      <th></th>\n",
       "      <th>NY</th>\n",
       "      <th>KHI</th>\n",
       "      <th>DEL</th>\n",
       "      <th>ANK</th>\n",
       "    </tr>\n",
       "  </thead>\n",
       "  <tbody>\n",
       "    <tr>\n",
       "      <th>2012-08-08</th>\n",
       "      <td>-1.249639</td>\n",
       "      <td>-1.525235</td>\n",
       "      <td>0.420306</td>\n",
       "      <td>-0.728155</td>\n",
       "    </tr>\n",
       "    <tr>\n",
       "      <th>2012-08-15</th>\n",
       "      <td>-0.330611</td>\n",
       "      <td>-0.141644</td>\n",
       "      <td>-0.317756</td>\n",
       "      <td>1.424945</td>\n",
       "    </tr>\n",
       "    <tr>\n",
       "      <th>2012-08-22</th>\n",
       "      <td>-1.223875</td>\n",
       "      <td>0.397424</td>\n",
       "      <td>-0.339153</td>\n",
       "      <td>1.490641</td>\n",
       "    </tr>\n",
       "    <tr>\n",
       "      <th>2012-08-29</th>\n",
       "      <td>-0.023177</td>\n",
       "      <td>0.424403</td>\n",
       "      <td>-0.341877</td>\n",
       "      <td>-0.361665</td>\n",
       "    </tr>\n",
       "    <tr>\n",
       "      <th>2012-09-05</th>\n",
       "      <td>-0.311759</td>\n",
       "      <td>2.038592</td>\n",
       "      <td>0.194954</td>\n",
       "      <td>0.228798</td>\n",
       "    </tr>\n",
       "    <tr>\n",
       "      <th>...</th>\n",
       "      <td>...</td>\n",
       "      <td>...</td>\n",
       "      <td>...</td>\n",
       "      <td>...</td>\n",
       "    </tr>\n",
       "    <tr>\n",
       "      <th>2014-06-04</th>\n",
       "      <td>-1.798256</td>\n",
       "      <td>0.487355</td>\n",
       "      <td>-0.679435</td>\n",
       "      <td>0.206497</td>\n",
       "    </tr>\n",
       "    <tr>\n",
       "      <th>2014-06-11</th>\n",
       "      <td>-1.565414</td>\n",
       "      <td>-1.148157</td>\n",
       "      <td>-0.020673</td>\n",
       "      <td>-0.329483</td>\n",
       "    </tr>\n",
       "    <tr>\n",
       "      <th>2014-06-18</th>\n",
       "      <td>0.919673</td>\n",
       "      <td>0.451790</td>\n",
       "      <td>1.553959</td>\n",
       "      <td>-1.005787</td>\n",
       "    </tr>\n",
       "    <tr>\n",
       "      <th>2014-06-25</th>\n",
       "      <td>0.204322</td>\n",
       "      <td>-1.017883</td>\n",
       "      <td>-0.727417</td>\n",
       "      <td>1.310982</td>\n",
       "    </tr>\n",
       "    <tr>\n",
       "      <th>2014-07-02</th>\n",
       "      <td>0.234815</td>\n",
       "      <td>0.757724</td>\n",
       "      <td>0.053100</td>\n",
       "      <td>-0.091135</td>\n",
       "    </tr>\n",
       "  </tbody>\n",
       "</table>\n",
       "<p>100 rows × 4 columns</p>\n",
       "</div>"
      ],
      "text/plain": [
       "                  NY       KHI       DEL       ANK\n",
       "2012-08-08 -1.249639 -1.525235  0.420306 -0.728155\n",
       "2012-08-15 -0.330611 -0.141644 -0.317756  1.424945\n",
       "2012-08-22 -1.223875  0.397424 -0.339153  1.490641\n",
       "2012-08-29 -0.023177  0.424403 -0.341877 -0.361665\n",
       "2012-09-05 -0.311759  2.038592  0.194954  0.228798\n",
       "...              ...       ...       ...       ...\n",
       "2014-06-04 -1.798256  0.487355 -0.679435  0.206497\n",
       "2014-06-11 -1.565414 -1.148157 -0.020673 -0.329483\n",
       "2014-06-18  0.919673  0.451790  1.553959 -1.005787\n",
       "2014-06-25  0.204322 -1.017883 -0.727417  1.310982\n",
       "2014-07-02  0.234815  0.757724  0.053100 -0.091135\n",
       "\n",
       "[100 rows x 4 columns]"
      ]
     },
     "execution_count": 58,
     "metadata": {},
     "output_type": "execute_result"
    }
   ],
   "source": [
    "long_df"
   ]
  },
  {
   "cell_type": "code",
   "execution_count": 59,
   "metadata": {},
   "outputs": [
    {
     "data": {
      "text/html": [
       "<div>\n",
       "<style scoped>\n",
       "    .dataframe tbody tr th:only-of-type {\n",
       "        vertical-align: middle;\n",
       "    }\n",
       "\n",
       "    .dataframe tbody tr th {\n",
       "        vertical-align: top;\n",
       "    }\n",
       "\n",
       "    .dataframe thead th {\n",
       "        text-align: right;\n",
       "    }\n",
       "</style>\n",
       "<table border=\"1\" class=\"dataframe\">\n",
       "  <thead>\n",
       "    <tr style=\"text-align: right;\">\n",
       "      <th></th>\n",
       "      <th>NY</th>\n",
       "      <th>KHI</th>\n",
       "      <th>DEL</th>\n",
       "      <th>ANK</th>\n",
       "    </tr>\n",
       "  </thead>\n",
       "  <tbody>\n",
       "    <tr>\n",
       "      <th>2013-08-07</th>\n",
       "      <td>-0.035862</td>\n",
       "      <td>-0.226761</td>\n",
       "      <td>-0.160398</td>\n",
       "      <td>1.368164</td>\n",
       "    </tr>\n",
       "    <tr>\n",
       "      <th>2013-08-14</th>\n",
       "      <td>-0.246879</td>\n",
       "      <td>1.309640</td>\n",
       "      <td>-0.163837</td>\n",
       "      <td>0.141942</td>\n",
       "    </tr>\n",
       "    <tr>\n",
       "      <th>2013-08-21</th>\n",
       "      <td>-0.532962</td>\n",
       "      <td>0.423667</td>\n",
       "      <td>-0.550816</td>\n",
       "      <td>2.442256</td>\n",
       "    </tr>\n",
       "    <tr>\n",
       "      <th>2013-08-28</th>\n",
       "      <td>0.000713</td>\n",
       "      <td>-2.008464</td>\n",
       "      <td>-2.257860</td>\n",
       "      <td>-0.019136</td>\n",
       "    </tr>\n",
       "  </tbody>\n",
       "</table>\n",
       "</div>"
      ],
      "text/plain": [
       "                  NY       KHI       DEL       ANK\n",
       "2013-08-07 -0.035862 -0.226761 -0.160398  1.368164\n",
       "2013-08-14 -0.246879  1.309640 -0.163837  0.141942\n",
       "2013-08-21 -0.532962  0.423667 -0.550816  2.442256\n",
       "2013-08-28  0.000713 -2.008464 -2.257860 -0.019136"
      ]
     },
     "execution_count": 59,
     "metadata": {},
     "output_type": "execute_result"
    }
   ],
   "source": [
    "long_df.loc['2013-08']"
   ]
  },
  {
   "cell_type": "markdown",
   "metadata": {},
   "source": [
    "## Time Series with Duplicate Indices"
   ]
  },
  {
   "cell_type": "markdown",
   "metadata": {},
   "source": [
    "In some applications, there may be multiple data observations falling on a particular\n",
    "timestamp"
   ]
  },
  {
   "cell_type": "code",
   "execution_count": 60,
   "metadata": {},
   "outputs": [],
   "source": [
    "dates = pd.DatetimeIndex(['1/1/2000', '1/2/2000', '1/2/2000', '1/2/2000', '1/3/2000'])"
   ]
  },
  {
   "cell_type": "code",
   "execution_count": 61,
   "metadata": {},
   "outputs": [
    {
     "data": {
      "text/plain": [
       "DatetimeIndex(['2000-01-01', '2000-01-02', '2000-01-02', '2000-01-02',\n",
       "               '2000-01-03'],\n",
       "              dtype='datetime64[ns]', freq=None)"
      ]
     },
     "execution_count": 61,
     "metadata": {},
     "output_type": "execute_result"
    }
   ],
   "source": [
    "dates"
   ]
  },
  {
   "cell_type": "code",
   "execution_count": 62,
   "metadata": {},
   "outputs": [
    {
     "data": {
      "text/plain": [
       "2000-01-01   -1.991019\n",
       "2000-01-02    0.901127\n",
       "2000-01-02    0.070804\n",
       "2000-01-02    1.429537\n",
       "2000-01-03    0.057691\n",
       "dtype: float64"
      ]
     },
     "execution_count": 62,
     "metadata": {},
     "output_type": "execute_result"
    }
   ],
   "source": [
    "dup_ts = pd.Series(np.random.randn(len(dates)), index=dates)\n",
    "dup_ts"
   ]
  },
  {
   "cell_type": "code",
   "execution_count": 63,
   "metadata": {},
   "outputs": [
    {
     "data": {
      "text/plain": [
       "False"
      ]
     },
     "execution_count": 63,
     "metadata": {},
     "output_type": "execute_result"
    }
   ],
   "source": [
    "dup_ts.index.is_unique #means that index has dupplicate value"
   ]
  },
  {
   "cell_type": "code",
   "execution_count": 64,
   "metadata": {},
   "outputs": [
    {
     "data": {
      "text/plain": [
       "2000-01-02    0.901127\n",
       "2000-01-02    0.070804\n",
       "2000-01-02    1.429537\n",
       "dtype: float64"
      ]
     },
     "execution_count": 64,
     "metadata": {},
     "output_type": "execute_result"
    }
   ],
   "source": [
    "dup_ts['2000-01-02']"
   ]
  },
  {
   "cell_type": "code",
   "execution_count": 65,
   "metadata": {},
   "outputs": [
    {
     "data": {
      "text/plain": [
       "2000-01-01    1\n",
       "2000-01-02    3\n",
       "2000-01-03    1\n",
       "dtype: int64"
      ]
     },
     "execution_count": 65,
     "metadata": {},
     "output_type": "execute_result"
    }
   ],
   "source": [
    "dup_ts.groupby(level=0).count()"
   ]
  },
  {
   "cell_type": "markdown",
   "metadata": {},
   "source": [
    "# 11.3 Date Ranges, Frequencies, and Shifting"
   ]
  },
  {
   "cell_type": "code",
   "execution_count": 66,
   "metadata": {},
   "outputs": [],
   "source": [
    "ts = long_df['NY']"
   ]
  },
  {
   "cell_type": "code",
   "execution_count": 67,
   "metadata": {},
   "outputs": [
    {
     "data": {
      "text/plain": [
       "2012-08-08   -1.249639\n",
       "2012-08-15   -0.330611\n",
       "2012-08-22   -1.223875\n",
       "2012-08-29   -0.023177\n",
       "2012-09-05   -0.311759\n",
       "                ...   \n",
       "2014-06-04   -1.798256\n",
       "2014-06-11   -1.565414\n",
       "2014-06-18    0.919673\n",
       "2014-06-25    0.204322\n",
       "2014-07-02    0.234815\n",
       "Freq: W-WED, Name: NY, Length: 100, dtype: float64"
      ]
     },
     "execution_count": 67,
     "metadata": {},
     "output_type": "execute_result"
    }
   ],
   "source": [
    "ts"
   ]
  },
  {
   "cell_type": "code",
   "execution_count": 68,
   "metadata": {},
   "outputs": [],
   "source": [
    "resampler = ts.resample('D') #The string 'D' is interpreted as daily frequency."
   ]
  },
  {
   "cell_type": "markdown",
   "metadata": {},
   "source": [
    "## Generating Date Ranges"
   ]
  },
  {
   "cell_type": "code",
   "execution_count": 69,
   "metadata": {},
   "outputs": [],
   "source": [
    "index = pd.date_range(start='1998-08-24', end='1998-12-24')"
   ]
  },
  {
   "cell_type": "code",
   "execution_count": 70,
   "metadata": {},
   "outputs": [
    {
     "data": {
      "text/plain": [
       "DatetimeIndex(['1998-08-24', '1998-08-25', '1998-08-26', '1998-08-27',\n",
       "               '1998-08-28', '1998-08-29', '1998-08-30', '1998-08-31',\n",
       "               '1998-09-01', '1998-09-02',\n",
       "               ...\n",
       "               '1998-12-15', '1998-12-16', '1998-12-17', '1998-12-18',\n",
       "               '1998-12-19', '1998-12-20', '1998-12-21', '1998-12-22',\n",
       "               '1998-12-23', '1998-12-24'],\n",
       "              dtype='datetime64[ns]', length=123, freq='D')"
      ]
     },
     "execution_count": 70,
     "metadata": {},
     "output_type": "execute_result"
    }
   ],
   "source": [
    "index"
   ]
  },
  {
   "cell_type": "code",
   "execution_count": 71,
   "metadata": {},
   "outputs": [
    {
     "data": {
      "text/plain": [
       "DatetimeIndex(['1998-08-24', '1998-08-25', '1998-08-26', '1998-08-27',\n",
       "               '1998-08-28', '1998-08-29', '1998-08-30', '1998-08-31',\n",
       "               '1998-09-01', '1998-09-02', '1998-09-03', '1998-09-04',\n",
       "               '1998-09-05', '1998-09-06', '1998-09-07', '1998-09-08',\n",
       "               '1998-09-09', '1998-09-10', '1998-09-11', '1998-09-12'],\n",
       "              dtype='datetime64[ns]', freq='D')"
      ]
     },
     "execution_count": 71,
     "metadata": {},
     "output_type": "execute_result"
    }
   ],
   "source": [
    "pd.date_range(start='1998-08-24', periods=20)"
   ]
  },
  {
   "cell_type": "code",
   "execution_count": 72,
   "metadata": {},
   "outputs": [
    {
     "data": {
      "text/plain": [
       "DatetimeIndex(['2019-07-21', '2019-07-22', '2019-07-23', '2019-07-24',\n",
       "               '2019-07-25', '2019-07-26', '2019-07-27', '2019-07-28',\n",
       "               '2019-07-29', '2019-07-30',\n",
       "               ...\n",
       "               '2020-07-11', '2020-07-12', '2020-07-13', '2020-07-14',\n",
       "               '2020-07-15', '2020-07-16', '2020-07-17', '2020-07-18',\n",
       "               '2020-07-19', '2020-07-20'],\n",
       "              dtype='datetime64[ns]', length=366, freq='D')"
      ]
     },
     "execution_count": 72,
     "metadata": {},
     "output_type": "execute_result"
    }
   ],
   "source": [
    "pd.date_range(end='2020-07-20', periods=366)"
   ]
  },
  {
   "cell_type": "code",
   "execution_count": 73,
   "metadata": {},
   "outputs": [
    {
     "data": {
      "text/plain": [
       "DatetimeIndex(['2019-04-30', '2019-05-31', '2019-06-28', '2019-07-31',\n",
       "               '2019-08-30', '2019-09-30', '2019-10-31', '2019-11-29',\n",
       "               '2019-12-31', '2020-01-31', '2020-02-28', '2020-03-31',\n",
       "               '2020-04-30', '2020-05-29', '2020-06-30'],\n",
       "              dtype='datetime64[ns]', freq='BM')"
      ]
     },
     "execution_count": 73,
     "metadata": {},
     "output_type": "execute_result"
    }
   ],
   "source": [
    "#'BM' frequency is business end of month\n",
    "pd.date_range(end='2020-07-20', periods=15, freq='BM')"
   ]
  },
  {
   "cell_type": "markdown",
   "metadata": {},
   "source": [
    "*See Table 11-4. Base time series frequencies (not comprehensive)*"
   ]
  },
  {
   "cell_type": "markdown",
   "metadata": {},
   "source": [
    "![Base time series frequencies](Img/11.4.png)"
   ]
  },
  {
   "cell_type": "code",
   "execution_count": 74,
   "metadata": {},
   "outputs": [
    {
     "data": {
      "text/plain": [
       "DatetimeIndex(['2020-07-20 13:02:54', '2020-07-21 13:02:54',\n",
       "               '2020-07-22 13:02:54', '2020-07-23 13:02:54',\n",
       "               '2020-07-24 13:02:54', '2020-07-25 13:02:54',\n",
       "               '2020-07-26 13:02:54', '2020-07-27 13:02:54',\n",
       "               '2020-07-28 13:02:54', '2020-07-29 13:02:54'],\n",
       "              dtype='datetime64[ns]', freq='D')"
      ]
     },
     "execution_count": 74,
     "metadata": {},
     "output_type": "execute_result"
    }
   ],
   "source": [
    "pd.date_range(start='20/07/2020 13:02:54', periods=10)"
   ]
  },
  {
   "cell_type": "code",
   "execution_count": 75,
   "metadata": {},
   "outputs": [
    {
     "data": {
      "text/plain": [
       "DatetimeIndex(['2020-07-20', '2020-07-21', '2020-07-22', '2020-07-23',\n",
       "               '2020-07-24', '2020-07-25', '2020-07-26', '2020-07-27',\n",
       "               '2020-07-28', '2020-07-29'],\n",
       "              dtype='datetime64[ns]', freq='D')"
      ]
     },
     "execution_count": 75,
     "metadata": {},
     "output_type": "execute_result"
    }
   ],
   "source": [
    "pd.date_range(start='20/07/2020 13:02:54', periods=10, normalize=True)"
   ]
  },
  {
   "cell_type": "markdown",
   "metadata": {},
   "source": [
    "# Frequencies and Date Offsets"
   ]
  },
  {
   "cell_type": "code",
   "execution_count": 76,
   "metadata": {},
   "outputs": [
    {
     "data": {
      "text/plain": [
       "DatetimeIndex(['2020-07-20 00:00:00', '2020-07-20 04:00:00',\n",
       "               '2020-07-20 08:00:00', '2020-07-20 12:00:00',\n",
       "               '2020-07-20 16:00:00', '2020-07-20 20:00:00',\n",
       "               '2020-07-21 00:00:00', '2020-07-21 04:00:00',\n",
       "               '2020-07-21 08:00:00', '2020-07-21 12:00:00',\n",
       "               '2020-07-21 16:00:00', '2020-07-21 20:00:00',\n",
       "               '2020-07-22 00:00:00', '2020-07-22 04:00:00',\n",
       "               '2020-07-22 08:00:00', '2020-07-22 12:00:00',\n",
       "               '2020-07-22 16:00:00', '2020-07-22 20:00:00',\n",
       "               '2020-07-23 00:00:00'],\n",
       "              dtype='datetime64[ns]', freq='4H')"
      ]
     },
     "execution_count": 76,
     "metadata": {},
     "output_type": "execute_result"
    }
   ],
   "source": [
    "pd.date_range('20/07/2020', '23/07/2020', freq='4H')"
   ]
  },
  {
   "cell_type": "code",
   "execution_count": 77,
   "metadata": {},
   "outputs": [
    {
     "data": {
      "text/plain": [
       "DatetimeIndex(['2020-07-20 00:00:00', '2020-07-20 01:30:00',\n",
       "               '2020-07-20 03:00:00', '2020-07-20 04:30:00',\n",
       "               '2020-07-20 06:00:00', '2020-07-20 07:30:00',\n",
       "               '2020-07-20 09:00:00', '2020-07-20 10:30:00',\n",
       "               '2020-07-20 12:00:00', '2020-07-20 13:30:00',\n",
       "               '2020-07-20 15:00:00', '2020-07-20 16:30:00',\n",
       "               '2020-07-20 18:00:00', '2020-07-20 19:30:00',\n",
       "               '2020-07-20 21:00:00', '2020-07-20 22:30:00',\n",
       "               '2020-07-21 00:00:00', '2020-07-21 01:30:00',\n",
       "               '2020-07-21 03:00:00', '2020-07-21 04:30:00',\n",
       "               '2020-07-21 06:00:00', '2020-07-21 07:30:00',\n",
       "               '2020-07-21 09:00:00', '2020-07-21 10:30:00',\n",
       "               '2020-07-21 12:00:00', '2020-07-21 13:30:00',\n",
       "               '2020-07-21 15:00:00', '2020-07-21 16:30:00',\n",
       "               '2020-07-21 18:00:00', '2020-07-21 19:30:00',\n",
       "               '2020-07-21 21:00:00', '2020-07-21 22:30:00',\n",
       "               '2020-07-22 00:00:00', '2020-07-22 01:30:00',\n",
       "               '2020-07-22 03:00:00', '2020-07-22 04:30:00',\n",
       "               '2020-07-22 06:00:00', '2020-07-22 07:30:00',\n",
       "               '2020-07-22 09:00:00', '2020-07-22 10:30:00',\n",
       "               '2020-07-22 12:00:00', '2020-07-22 13:30:00',\n",
       "               '2020-07-22 15:00:00', '2020-07-22 16:30:00',\n",
       "               '2020-07-22 18:00:00', '2020-07-22 19:30:00',\n",
       "               '2020-07-22 21:00:00', '2020-07-22 22:30:00',\n",
       "               '2020-07-23 00:00:00'],\n",
       "              dtype='datetime64[ns]', freq='90T')"
      ]
     },
     "execution_count": 77,
     "metadata": {},
     "output_type": "execute_result"
    }
   ],
   "source": [
    "pd.date_range('20/07/2020', '23/07/2020', freq='1H30Min')"
   ]
  },
  {
   "cell_type": "markdown",
   "metadata": {},
   "source": [
    "### Week of month dates"
   ]
  },
  {
   "cell_type": "markdown",
   "metadata": {},
   "source": [
    "One useful frequency class is “week of month,” starting with WOM. This enables you to\n",
    "get dates like the third Friday of each month"
   ]
  },
  {
   "cell_type": "code",
   "execution_count": 78,
   "metadata": {},
   "outputs": [
    {
     "data": {
      "text/plain": [
       "DatetimeIndex(['2020-02-07', '2020-03-06', '2020-04-03', '2020-05-01',\n",
       "               '2020-06-05', '2020-07-03', '2020-08-07', '2020-09-04',\n",
       "               '2020-10-02', '2020-11-06', '2020-12-04'],\n",
       "              dtype='datetime64[ns]', freq='WOM-1FRI')"
      ]
     },
     "execution_count": 78,
     "metadata": {},
     "output_type": "execute_result"
    }
   ],
   "source": [
    "pd.date_range('2020-01-21', '2020-12-21', freq='WOM-1FRI')"
   ]
  },
  {
   "cell_type": "markdown",
   "metadata": {},
   "source": [
    "## Shifting (Leading and Lagging) Data"
   ]
  },
  {
   "cell_type": "markdown",
   "metadata": {},
   "source": [
    "“Shifting” refers to moving data backward and forward through time. Both Series and\n",
    "DataFrame have a shift method for doing naive shifts forward or backward, leaving\n",
    "the index unmodified"
   ]
  },
  {
   "cell_type": "code",
   "execution_count": 79,
   "metadata": {},
   "outputs": [],
   "source": [
    "ts = pd.Series(np.random.randn(6), index=pd.date_range('1/1/2000', periods=6, freq='M'))"
   ]
  },
  {
   "cell_type": "code",
   "execution_count": 80,
   "metadata": {},
   "outputs": [
    {
     "data": {
      "text/plain": [
       "2000-01-31   -0.142454\n",
       "2000-02-29   -0.376542\n",
       "2000-03-31    0.155485\n",
       "2000-04-30    0.738031\n",
       "2000-05-31    0.543161\n",
       "2000-06-30    0.520999\n",
       "Freq: M, dtype: float64"
      ]
     },
     "execution_count": 80,
     "metadata": {},
     "output_type": "execute_result"
    }
   ],
   "source": [
    "ts"
   ]
  },
  {
   "cell_type": "code",
   "execution_count": 81,
   "metadata": {},
   "outputs": [
    {
     "data": {
      "text/plain": [
       "2000-01-31         NaN\n",
       "2000-02-29         NaN\n",
       "2000-03-31   -0.142454\n",
       "2000-04-30   -0.376542\n",
       "2000-05-31    0.155485\n",
       "2000-06-30    0.738031\n",
       "Freq: M, dtype: float64"
      ]
     },
     "execution_count": 81,
     "metadata": {},
     "output_type": "execute_result"
    }
   ],
   "source": [
    "ts.shift(2)"
   ]
  },
  {
   "cell_type": "code",
   "execution_count": 82,
   "metadata": {},
   "outputs": [
    {
     "data": {
      "text/plain": [
       "2000-01-31    0.155485\n",
       "2000-02-29    0.738031\n",
       "2000-03-31    0.543161\n",
       "2000-04-30    0.520999\n",
       "2000-05-31         NaN\n",
       "2000-06-30         NaN\n",
       "Freq: M, dtype: float64"
      ]
     },
     "execution_count": 82,
     "metadata": {},
     "output_type": "execute_result"
    }
   ],
   "source": [
    "ts.shift(-2)"
   ]
  },
  {
   "cell_type": "code",
   "execution_count": 83,
   "metadata": {},
   "outputs": [
    {
     "data": {
      "text/plain": [
       "2000-01-31         NaN\n",
       "2000-02-29    1.643256\n",
       "2000-03-31   -1.412930\n",
       "2000-04-30    3.746625\n",
       "2000-05-31   -0.264041\n",
       "2000-06-30   -0.040800\n",
       "Freq: M, dtype: float64"
      ]
     },
     "execution_count": 83,
     "metadata": {},
     "output_type": "execute_result"
    }
   ],
   "source": [
    "ts / ts.shift(1) - 1    "
   ]
  },
  {
   "cell_type": "code",
   "execution_count": 84,
   "metadata": {},
   "outputs": [
    {
     "data": {
      "text/plain": [
       "2000-03-31   -0.142454\n",
       "2000-04-30   -0.376542\n",
       "2000-05-31    0.155485\n",
       "2000-06-30    0.738031\n",
       "2000-07-31    0.543161\n",
       "2000-08-31    0.520999\n",
       "Freq: M, dtype: float64"
      ]
     },
     "execution_count": 84,
     "metadata": {},
     "output_type": "execute_result"
    }
   ],
   "source": [
    "#if the frequency is known, it can be passed to shift to advance the timestamps instead of data\n",
    "ts.shift(2, freq='M')"
   ]
  },
  {
   "cell_type": "code",
   "execution_count": 85,
   "metadata": {},
   "outputs": [
    {
     "data": {
      "text/plain": [
       "2000-02-03   -0.142454\n",
       "2000-03-03   -0.376542\n",
       "2000-04-03    0.155485\n",
       "2000-05-03    0.738031\n",
       "2000-06-03    0.543161\n",
       "2000-07-03    0.520999\n",
       "dtype: float64"
      ]
     },
     "execution_count": 85,
     "metadata": {},
     "output_type": "execute_result"
    }
   ],
   "source": [
    "ts.shift(3, freq='D')"
   ]
  },
  {
   "cell_type": "code",
   "execution_count": 86,
   "metadata": {},
   "outputs": [
    {
     "data": {
      "text/plain": [
       "2000-01-31 01:30:00   -0.142454\n",
       "2000-02-29 01:30:00   -0.376542\n",
       "2000-03-31 01:30:00    0.155485\n",
       "2000-04-30 01:30:00    0.738031\n",
       "2000-05-31 01:30:00    0.543161\n",
       "2000-06-30 01:30:00    0.520999\n",
       "Freq: M, dtype: float64"
      ]
     },
     "execution_count": 86,
     "metadata": {},
     "output_type": "execute_result"
    }
   ],
   "source": [
    "ts.shift(1, freq='90T') #The T here stands for minutes. (90T -> 90 Minutes)"
   ]
  },
  {
   "cell_type": "markdown",
   "metadata": {},
   "source": [
    "### Shifting dates with offsets"
   ]
  },
  {
   "cell_type": "code",
   "execution_count": 87,
   "metadata": {},
   "outputs": [],
   "source": [
    "from pandas.tseries.offsets import MonthEnd, Day"
   ]
  },
  {
   "cell_type": "code",
   "execution_count": 88,
   "metadata": {},
   "outputs": [
    {
     "data": {
      "text/plain": [
       "datetime.datetime(2020, 11, 17, 0, 0)"
      ]
     },
     "execution_count": 88,
     "metadata": {},
     "output_type": "execute_result"
    }
   ],
   "source": [
    "now = datetime(2020, 11, 17)\n",
    "now"
   ]
  },
  {
   "cell_type": "code",
   "execution_count": 89,
   "metadata": {},
   "outputs": [
    {
     "data": {
      "text/plain": [
       "Timestamp('2020-11-20 00:00:00')"
      ]
     },
     "execution_count": 89,
     "metadata": {},
     "output_type": "execute_result"
    }
   ],
   "source": [
    "now + 3 * Day()"
   ]
  },
  {
   "cell_type": "code",
   "execution_count": 90,
   "metadata": {},
   "outputs": [
    {
     "data": {
      "text/plain": [
       "Timestamp('2020-11-30 00:00:00')"
      ]
     },
     "execution_count": 90,
     "metadata": {},
     "output_type": "execute_result"
    }
   ],
   "source": [
    "now + MonthEnd()"
   ]
  },
  {
   "cell_type": "code",
   "execution_count": 91,
   "metadata": {},
   "outputs": [
    {
     "data": {
      "text/plain": [
       "Timestamp('2020-12-31 00:00:00')"
      ]
     },
     "execution_count": 91,
     "metadata": {},
     "output_type": "execute_result"
    }
   ],
   "source": [
    "now + MonthEnd(2)"
   ]
  },
  {
   "cell_type": "code",
   "execution_count": 92,
   "metadata": {},
   "outputs": [
    {
     "data": {
      "text/plain": [
       "Timestamp('2021-01-31 00:00:00')"
      ]
     },
     "execution_count": 92,
     "metadata": {},
     "output_type": "execute_result"
    }
   ],
   "source": [
    "now + MonthEnd(3)"
   ]
  },
  {
   "cell_type": "code",
   "execution_count": 93,
   "metadata": {},
   "outputs": [],
   "source": [
    "offset = MonthEnd()"
   ]
  },
  {
   "cell_type": "code",
   "execution_count": 94,
   "metadata": {},
   "outputs": [
    {
     "data": {
      "text/plain": [
       "Timestamp('2020-11-30 00:00:00')"
      ]
     },
     "execution_count": 94,
     "metadata": {},
     "output_type": "execute_result"
    }
   ],
   "source": [
    "offset.rollforward(now)"
   ]
  },
  {
   "cell_type": "code",
   "execution_count": 95,
   "metadata": {},
   "outputs": [
    {
     "data": {
      "text/plain": [
       "Timestamp('2020-10-31 00:00:00')"
      ]
     },
     "execution_count": 95,
     "metadata": {},
     "output_type": "execute_result"
    }
   ],
   "source": [
    "offset.rollback(now)"
   ]
  },
  {
   "cell_type": "code",
   "execution_count": 96,
   "metadata": {},
   "outputs": [],
   "source": [
    "ts = pd.Series(np.random.randn(10), index=pd.date_range('22/07/2020', periods=10, freq='4d'))"
   ]
  },
  {
   "cell_type": "code",
   "execution_count": 97,
   "metadata": {},
   "outputs": [
    {
     "data": {
      "text/plain": [
       "2020-07-22    1.571859\n",
       "2020-07-26   -0.195805\n",
       "2020-07-30    0.941375\n",
       "2020-08-03    1.298535\n",
       "2020-08-07    0.265367\n",
       "2020-08-11   -0.917245\n",
       "2020-08-15    1.606037\n",
       "2020-08-19    1.178282\n",
       "2020-08-23   -1.313130\n",
       "2020-08-27   -0.344982\n",
       "Freq: 4D, dtype: float64"
      ]
     },
     "execution_count": 97,
     "metadata": {},
     "output_type": "execute_result"
    }
   ],
   "source": [
    "ts"
   ]
  },
  {
   "cell_type": "code",
   "execution_count": 98,
   "metadata": {},
   "outputs": [
    {
     "data": {
      "text/plain": [
       "2020-07-31    3\n",
       "2020-08-31    7\n",
       "dtype: int64"
      ]
     },
     "execution_count": 98,
     "metadata": {},
     "output_type": "execute_result"
    }
   ],
   "source": [
    "ts.groupby(offset.rollforward).count()"
   ]
  },
  {
   "cell_type": "code",
   "execution_count": 99,
   "metadata": {},
   "outputs": [
    {
     "data": {
      "text/plain": [
       "2020-07-31    0.772476\n",
       "2020-08-31    0.253266\n",
       "dtype: float64"
      ]
     },
     "execution_count": 99,
     "metadata": {},
     "output_type": "execute_result"
    }
   ],
   "source": [
    "ts.groupby(offset.rollforward).mean()"
   ]
  },
  {
   "cell_type": "code",
   "execution_count": 100,
   "metadata": {},
   "outputs": [
    {
     "data": {
      "text/plain": [
       "2020-07-31    0.772476\n",
       "2020-08-31    0.253266\n",
       "Freq: M, dtype: float64"
      ]
     },
     "execution_count": 100,
     "metadata": {},
     "output_type": "execute_result"
    }
   ],
   "source": [
    "ts.resample('M').mean()"
   ]
  },
  {
   "cell_type": "code",
   "execution_count": 101,
   "metadata": {},
   "outputs": [
    {
     "data": {
      "text/plain": [
       "2020-07-31    3\n",
       "2020-08-31    7\n",
       "Freq: M, dtype: int64"
      ]
     },
     "execution_count": 101,
     "metadata": {},
     "output_type": "execute_result"
    }
   ],
   "source": [
    "ts.resample('M').count()"
   ]
  },
  {
   "cell_type": "markdown",
   "metadata": {},
   "source": [
    "# 11.4 Time Zone Handling"
   ]
  },
  {
   "cell_type": "code",
   "execution_count": 102,
   "metadata": {},
   "outputs": [],
   "source": [
    "import pytz"
   ]
  },
  {
   "cell_type": "code",
   "execution_count": 103,
   "metadata": {},
   "outputs": [
    {
     "data": {
      "text/plain": [
       "['US/Eastern', 'US/Hawaii', 'US/Mountain', 'US/Pacific', 'UTC']"
      ]
     },
     "execution_count": 103,
     "metadata": {},
     "output_type": "execute_result"
    }
   ],
   "source": [
    "pytz.common_timezones[-5:]"
   ]
  },
  {
   "cell_type": "code",
   "execution_count": 104,
   "metadata": {},
   "outputs": [
    {
     "data": {
      "text/plain": [
       "<DstTzInfo 'America/New_York' LMT-1 day, 19:04:00 STD>"
      ]
     },
     "execution_count": 104,
     "metadata": {},
     "output_type": "execute_result"
    }
   ],
   "source": [
    "tz = pytz.timezone('America/New_York')\n",
    "tz"
   ]
  },
  {
   "cell_type": "markdown",
   "metadata": {},
   "source": [
    "## Time Zone Localization and Conversion"
   ]
  },
  {
   "cell_type": "code",
   "execution_count": 105,
   "metadata": {},
   "outputs": [],
   "source": [
    "ts = pd.Series(np.random.randn(10), index=pd.date_range('22/07/2020 11:45', periods=10, freq='D'))"
   ]
  },
  {
   "cell_type": "code",
   "execution_count": 106,
   "metadata": {},
   "outputs": [
    {
     "data": {
      "text/plain": [
       "2020-07-22 11:45:00    0.465961\n",
       "2020-07-23 11:45:00   -0.863147\n",
       "2020-07-24 11:45:00   -2.243858\n",
       "2020-07-25 11:45:00    0.137871\n",
       "2020-07-26 11:45:00   -0.684332\n",
       "2020-07-27 11:45:00   -1.353112\n",
       "2020-07-28 11:45:00   -0.332444\n",
       "2020-07-29 11:45:00   -0.665797\n",
       "2020-07-30 11:45:00    0.538120\n",
       "2020-07-31 11:45:00    0.212053\n",
       "Freq: D, dtype: float64"
      ]
     },
     "execution_count": 106,
     "metadata": {},
     "output_type": "execute_result"
    }
   ],
   "source": [
    "ts"
   ]
  },
  {
   "cell_type": "code",
   "execution_count": 107,
   "metadata": {},
   "outputs": [
    {
     "name": "stdout",
     "output_type": "stream",
     "text": [
      "None\n"
     ]
    }
   ],
   "source": [
    "print(ts.index.tz)"
   ]
  },
  {
   "cell_type": "code",
   "execution_count": 108,
   "metadata": {},
   "outputs": [],
   "source": [
    "ts_UTC = pd.Series(np.random.randn(10), index=pd.date_range('22/07/2020 11:45', periods=10, freq='D', tz='UTC'))"
   ]
  },
  {
   "cell_type": "code",
   "execution_count": 109,
   "metadata": {},
   "outputs": [
    {
     "data": {
      "text/plain": [
       "2020-07-22 11:45:00+00:00   -1.420882\n",
       "2020-07-23 11:45:00+00:00    0.533981\n",
       "2020-07-24 11:45:00+00:00   -0.455333\n",
       "2020-07-25 11:45:00+00:00   -1.568052\n",
       "2020-07-26 11:45:00+00:00   -1.130101\n",
       "2020-07-27 11:45:00+00:00   -0.295514\n",
       "2020-07-28 11:45:00+00:00    1.155441\n",
       "2020-07-29 11:45:00+00:00    0.354106\n",
       "2020-07-30 11:45:00+00:00   -1.002802\n",
       "2020-07-31 11:45:00+00:00   -0.530954\n",
       "Freq: D, dtype: float64"
      ]
     },
     "execution_count": 109,
     "metadata": {},
     "output_type": "execute_result"
    }
   ],
   "source": [
    "ts_UTC"
   ]
  },
  {
   "cell_type": "markdown",
   "metadata": {},
   "source": [
    "Conversion from naive to localized is handled by the tz_localize method"
   ]
  },
  {
   "cell_type": "code",
   "execution_count": 110,
   "metadata": {},
   "outputs": [],
   "source": [
    "ts_UTC = ts.tz_localize('UTC')"
   ]
  },
  {
   "cell_type": "code",
   "execution_count": 111,
   "metadata": {},
   "outputs": [
    {
     "data": {
      "text/plain": [
       "2020-07-22 11:45:00+00:00    0.465961\n",
       "2020-07-23 11:45:00+00:00   -0.863147\n",
       "2020-07-24 11:45:00+00:00   -2.243858\n",
       "2020-07-25 11:45:00+00:00    0.137871\n",
       "2020-07-26 11:45:00+00:00   -0.684332\n",
       "2020-07-27 11:45:00+00:00   -1.353112\n",
       "2020-07-28 11:45:00+00:00   -0.332444\n",
       "2020-07-29 11:45:00+00:00   -0.665797\n",
       "2020-07-30 11:45:00+00:00    0.538120\n",
       "2020-07-31 11:45:00+00:00    0.212053\n",
       "Freq: D, dtype: float64"
      ]
     },
     "execution_count": 111,
     "metadata": {},
     "output_type": "execute_result"
    }
   ],
   "source": [
    "ts_UTC"
   ]
  },
  {
   "cell_type": "code",
   "execution_count": 112,
   "metadata": {},
   "outputs": [
    {
     "data": {
      "text/plain": [
       "<UTC>"
      ]
     },
     "execution_count": 112,
     "metadata": {},
     "output_type": "execute_result"
    }
   ],
   "source": [
    "ts_UTC.index.tz"
   ]
  },
  {
   "cell_type": "markdown",
   "metadata": {},
   "source": [
    "Once a time series has been localized to a particular time zone, it can be converted to\n",
    "another time zone with tz_convert:"
   ]
  },
  {
   "cell_type": "code",
   "execution_count": 113,
   "metadata": {},
   "outputs": [
    {
     "data": {
      "text/plain": [
       "2020-07-22 07:45:00-04:00    0.465961\n",
       "2020-07-23 07:45:00-04:00   -0.863147\n",
       "2020-07-24 07:45:00-04:00   -2.243858\n",
       "2020-07-25 07:45:00-04:00    0.137871\n",
       "2020-07-26 07:45:00-04:00   -0.684332\n",
       "2020-07-27 07:45:00-04:00   -1.353112\n",
       "2020-07-28 07:45:00-04:00   -0.332444\n",
       "2020-07-29 07:45:00-04:00   -0.665797\n",
       "2020-07-30 07:45:00-04:00    0.538120\n",
       "2020-07-31 07:45:00-04:00    0.212053\n",
       "Freq: D, dtype: float64"
      ]
     },
     "execution_count": 113,
     "metadata": {},
     "output_type": "execute_result"
    }
   ],
   "source": [
    "ts_UTC.tz_convert('America/New_York')"
   ]
  },
  {
   "cell_type": "code",
   "execution_count": 114,
   "metadata": {},
   "outputs": [],
   "source": [
    "ts_eastern = ts.tz_localize('America/New_York')"
   ]
  },
  {
   "cell_type": "code",
   "execution_count": 115,
   "metadata": {},
   "outputs": [
    {
     "data": {
      "text/plain": [
       "2020-07-22 11:45:00-04:00    0.465961\n",
       "2020-07-23 11:45:00-04:00   -0.863147\n",
       "2020-07-24 11:45:00-04:00   -2.243858\n",
       "2020-07-25 11:45:00-04:00    0.137871\n",
       "2020-07-26 11:45:00-04:00   -0.684332\n",
       "2020-07-27 11:45:00-04:00   -1.353112\n",
       "2020-07-28 11:45:00-04:00   -0.332444\n",
       "2020-07-29 11:45:00-04:00   -0.665797\n",
       "2020-07-30 11:45:00-04:00    0.538120\n",
       "2020-07-31 11:45:00-04:00    0.212053\n",
       "Freq: D, dtype: float64"
      ]
     },
     "execution_count": 115,
     "metadata": {},
     "output_type": "execute_result"
    }
   ],
   "source": [
    "ts_eastern"
   ]
  },
  {
   "cell_type": "code",
   "execution_count": 116,
   "metadata": {},
   "outputs": [
    {
     "data": {
      "text/plain": [
       "2020-07-22 15:45:00+00:00    0.465961\n",
       "2020-07-23 15:45:00+00:00   -0.863147\n",
       "2020-07-24 15:45:00+00:00   -2.243858\n",
       "2020-07-25 15:45:00+00:00    0.137871\n",
       "2020-07-26 15:45:00+00:00   -0.684332\n",
       "2020-07-27 15:45:00+00:00   -1.353112\n",
       "2020-07-28 15:45:00+00:00   -0.332444\n",
       "2020-07-29 15:45:00+00:00   -0.665797\n",
       "2020-07-30 15:45:00+00:00    0.538120\n",
       "2020-07-31 15:45:00+00:00    0.212053\n",
       "Freq: D, dtype: float64"
      ]
     },
     "execution_count": 116,
     "metadata": {},
     "output_type": "execute_result"
    }
   ],
   "source": [
    "ts_eastern.tz_convert('UTC')"
   ]
  },
  {
   "cell_type": "code",
   "execution_count": 117,
   "metadata": {},
   "outputs": [
    {
     "data": {
      "text/plain": [
       "2020-07-22 17:45:00+02:00    0.465961\n",
       "2020-07-23 17:45:00+02:00   -0.863147\n",
       "2020-07-24 17:45:00+02:00   -2.243858\n",
       "2020-07-25 17:45:00+02:00    0.137871\n",
       "2020-07-26 17:45:00+02:00   -0.684332\n",
       "2020-07-27 17:45:00+02:00   -1.353112\n",
       "2020-07-28 17:45:00+02:00   -0.332444\n",
       "2020-07-29 17:45:00+02:00   -0.665797\n",
       "2020-07-30 17:45:00+02:00    0.538120\n",
       "2020-07-31 17:45:00+02:00    0.212053\n",
       "Freq: D, dtype: float64"
      ]
     },
     "execution_count": 117,
     "metadata": {},
     "output_type": "execute_result"
    }
   ],
   "source": [
    "ts_eastern.tz_convert('Europe/Berlin')"
   ]
  },
  {
   "cell_type": "code",
   "execution_count": 118,
   "metadata": {},
   "outputs": [
    {
     "data": {
      "text/plain": [
       "2020-07-22 20:45:00+05:00    0.465961\n",
       "2020-07-23 20:45:00+05:00   -0.863147\n",
       "2020-07-24 20:45:00+05:00   -2.243858\n",
       "2020-07-25 20:45:00+05:00    0.137871\n",
       "2020-07-26 20:45:00+05:00   -0.684332\n",
       "2020-07-27 20:45:00+05:00   -1.353112\n",
       "2020-07-28 20:45:00+05:00   -0.332444\n",
       "2020-07-29 20:45:00+05:00   -0.665797\n",
       "2020-07-30 20:45:00+05:00    0.538120\n",
       "2020-07-31 20:45:00+05:00    0.212053\n",
       "Freq: D, dtype: float64"
      ]
     },
     "execution_count": 118,
     "metadata": {},
     "output_type": "execute_result"
    }
   ],
   "source": [
    "ts_eastern.tz_convert('Asia/Karachi')"
   ]
  },
  {
   "cell_type": "code",
   "execution_count": 119,
   "metadata": {},
   "outputs": [
    {
     "data": {
      "text/plain": [
       "2020-07-22 23:45:00+08:00    0.465961\n",
       "2020-07-23 23:45:00+08:00   -0.863147\n",
       "2020-07-24 23:45:00+08:00   -2.243858\n",
       "2020-07-25 23:45:00+08:00    0.137871\n",
       "2020-07-26 23:45:00+08:00   -0.684332\n",
       "2020-07-27 23:45:00+08:00   -1.353112\n",
       "2020-07-28 23:45:00+08:00   -0.332444\n",
       "2020-07-29 23:45:00+08:00   -0.665797\n",
       "2020-07-30 23:45:00+08:00    0.538120\n",
       "2020-07-31 23:45:00+08:00    0.212053\n",
       "Freq: D, dtype: float64"
      ]
     },
     "execution_count": 119,
     "metadata": {},
     "output_type": "execute_result"
    }
   ],
   "source": [
    "ts_eastern.tz_convert('Asia/Shanghai')"
   ]
  },
  {
   "cell_type": "markdown",
   "metadata": {},
   "source": [
    "## Operations with Time Zone−Aware Timestamp Objects"
   ]
  },
  {
   "cell_type": "code",
   "execution_count": 120,
   "metadata": {},
   "outputs": [],
   "source": [
    "stamp = pd.Timestamp('2020-08-24 04:00')"
   ]
  },
  {
   "cell_type": "code",
   "execution_count": 121,
   "metadata": {},
   "outputs": [
    {
     "data": {
      "text/plain": [
       "Timestamp('2020-08-24 04:00:00+0000', tz='UTC')"
      ]
     },
     "execution_count": 121,
     "metadata": {},
     "output_type": "execute_result"
    }
   ],
   "source": [
    "stamp_utc = stamp.tz_localize('UTC')\n",
    "stamp_utc"
   ]
  },
  {
   "cell_type": "code",
   "execution_count": 122,
   "metadata": {},
   "outputs": [
    {
     "data": {
      "text/plain": [
       "Timestamp('2020-08-24 09:00:00+0500', tz='Asia/Karachi')"
      ]
     },
     "execution_count": 122,
     "metadata": {},
     "output_type": "execute_result"
    }
   ],
   "source": [
    "stamp_utc.tz_convert('Asia/Karachi')"
   ]
  },
  {
   "cell_type": "code",
   "execution_count": 123,
   "metadata": {},
   "outputs": [
    {
     "data": {
      "text/plain": [
       "Timestamp('2020-08-24 04:00:00+0500', tz='Asia/Karachi')"
      ]
     },
     "execution_count": 123,
     "metadata": {},
     "output_type": "execute_result"
    }
   ],
   "source": [
    "stamp_KHI = pd.Timestamp('2020-08-24 04:00', tz='Asia/Karachi')\n",
    "stamp_KHI"
   ]
  },
  {
   "cell_type": "markdown",
   "metadata": {},
   "source": [
    "Time zone–aware Timestamp objects internally store a UTC timestamp value as nano‐\n",
    "seconds since the Unix epoch (January 1, 1970); this UTC value is invariant between\n",
    "time zone conversions"
   ]
  },
  {
   "cell_type": "code",
   "execution_count": 124,
   "metadata": {},
   "outputs": [
    {
     "data": {
      "text/plain": [
       "1598241600000000000"
      ]
     },
     "execution_count": 124,
     "metadata": {},
     "output_type": "execute_result"
    }
   ],
   "source": [
    "stamp_utc.value"
   ]
  },
  {
   "cell_type": "code",
   "execution_count": 125,
   "metadata": {},
   "outputs": [
    {
     "data": {
      "text/plain": [
       "1598241600000000000"
      ]
     },
     "execution_count": 125,
     "metadata": {},
     "output_type": "execute_result"
    }
   ],
   "source": [
    "stamp_utc.tz_convert('America/New_York').value"
   ]
  },
  {
   "cell_type": "code",
   "execution_count": 126,
   "metadata": {},
   "outputs": [],
   "source": [
    "from pandas.tseries.offsets import Hour"
   ]
  },
  {
   "cell_type": "code",
   "execution_count": 127,
   "metadata": {},
   "outputs": [],
   "source": [
    "t_stamp = pd.Timestamp('2020-08-24 09:00', tz='Asia/Karachi')"
   ]
  },
  {
   "cell_type": "code",
   "execution_count": 128,
   "metadata": {},
   "outputs": [
    {
     "data": {
      "text/plain": [
       "Timestamp('2020-08-24 09:00:00+0500', tz='Asia/Karachi')"
      ]
     },
     "execution_count": 128,
     "metadata": {},
     "output_type": "execute_result"
    }
   ],
   "source": [
    "t_stamp"
   ]
  },
  {
   "cell_type": "code",
   "execution_count": 129,
   "metadata": {},
   "outputs": [
    {
     "data": {
      "text/plain": [
       "Timestamp('2020-08-24 10:00:00+0500', tz='Asia/Karachi')"
      ]
     },
     "execution_count": 129,
     "metadata": {},
     "output_type": "execute_result"
    }
   ],
   "source": [
    "t_stamp + Hour()"
   ]
  },
  {
   "cell_type": "code",
   "execution_count": 130,
   "metadata": {},
   "outputs": [
    {
     "data": {
      "text/plain": [
       "Timestamp('2020-08-25 00:00:00+0500', tz='Asia/Karachi')"
      ]
     },
     "execution_count": 130,
     "metadata": {},
     "output_type": "execute_result"
    }
   ],
   "source": [
    "t_stamp + Hour(15)"
   ]
  },
  {
   "cell_type": "code",
   "execution_count": 131,
   "metadata": {},
   "outputs": [],
   "source": [
    "stamp = pd.Timestamp('2012-11-04 00:30', tz='US/Eastern')"
   ]
  },
  {
   "cell_type": "code",
   "execution_count": 132,
   "metadata": {},
   "outputs": [
    {
     "data": {
      "text/plain": [
       "Timestamp('2012-11-04 00:30:00-0400', tz='US/Eastern')"
      ]
     },
     "execution_count": 132,
     "metadata": {},
     "output_type": "execute_result"
    }
   ],
   "source": [
    "stamp"
   ]
  },
  {
   "cell_type": "code",
   "execution_count": 133,
   "metadata": {},
   "outputs": [
    {
     "data": {
      "text/plain": [
       "Timestamp('2012-11-04 01:30:00-0500', tz='US/Eastern')"
      ]
     },
     "execution_count": 133,
     "metadata": {},
     "output_type": "execute_result"
    }
   ],
   "source": [
    "stamp + 2 * Hour()"
   ]
  },
  {
   "cell_type": "markdown",
   "metadata": {},
   "source": [
    "## Operations Between Different Time Zones"
   ]
  },
  {
   "cell_type": "code",
   "execution_count": 134,
   "metadata": {},
   "outputs": [],
   "source": [
    "ts = pd.Series(np.random.randn(10), index=pd.date_range('22/07/2020 9:30', freq='B', periods=10))"
   ]
  },
  {
   "cell_type": "code",
   "execution_count": 135,
   "metadata": {},
   "outputs": [
    {
     "data": {
      "text/plain": [
       "2020-07-22 09:30:00   -0.087394\n",
       "2020-07-23 09:30:00   -1.668032\n",
       "2020-07-24 09:30:00    2.751867\n",
       "2020-07-27 09:30:00    0.761674\n",
       "2020-07-28 09:30:00   -0.862198\n",
       "2020-07-29 09:30:00    1.421057\n",
       "2020-07-30 09:30:00   -0.991912\n",
       "2020-07-31 09:30:00   -0.879898\n",
       "2020-08-03 09:30:00    1.212179\n",
       "2020-08-04 09:30:00    0.065789\n",
       "Freq: B, dtype: float64"
      ]
     },
     "execution_count": 135,
     "metadata": {},
     "output_type": "execute_result"
    }
   ],
   "source": [
    "ts"
   ]
  },
  {
   "cell_type": "code",
   "execution_count": 136,
   "metadata": {},
   "outputs": [
    {
     "data": {
      "text/plain": [
       "2020-07-22 09:30:00-04:00   -0.087394\n",
       "2020-07-23 09:30:00-04:00   -1.668032\n",
       "2020-07-24 09:30:00-04:00    2.751867\n",
       "2020-07-27 09:30:00-04:00    0.761674\n",
       "2020-07-28 09:30:00-04:00   -0.862198\n",
       "2020-07-29 09:30:00-04:00    1.421057\n",
       "2020-07-30 09:30:00-04:00   -0.991912\n",
       "Freq: B, dtype: float64"
      ]
     },
     "execution_count": 136,
     "metadata": {},
     "output_type": "execute_result"
    }
   ],
   "source": [
    "ts1 = ts[:7].tz_localize('US/Eastern')\n",
    "ts1"
   ]
  },
  {
   "cell_type": "code",
   "execution_count": 137,
   "metadata": {},
   "outputs": [
    {
     "data": {
      "text/plain": [
       "2020-07-24 09:30:00-04:00    2.751867\n",
       "2020-07-27 09:30:00-04:00    0.761674\n",
       "2020-07-28 09:30:00-04:00   -0.862198\n",
       "2020-07-29 09:30:00-04:00    1.421057\n",
       "2020-07-30 09:30:00-04:00   -0.991912\n",
       "2020-07-31 09:30:00-04:00   -0.879898\n",
       "2020-08-03 09:30:00-04:00    1.212179\n",
       "2020-08-04 09:30:00-04:00    0.065789\n",
       "Freq: B, dtype: float64"
      ]
     },
     "execution_count": 137,
     "metadata": {},
     "output_type": "execute_result"
    }
   ],
   "source": [
    "ts2 = ts[2:].tz_localize('US/Eastern')\n",
    "ts2"
   ]
  },
  {
   "cell_type": "code",
   "execution_count": 138,
   "metadata": {},
   "outputs": [
    {
     "data": {
      "text/plain": [
       "DatetimeIndex(['2020-07-22 09:30:00-04:00', '2020-07-23 09:30:00-04:00',\n",
       "               '2020-07-24 09:30:00-04:00', '2020-07-27 09:30:00-04:00',\n",
       "               '2020-07-28 09:30:00-04:00', '2020-07-29 09:30:00-04:00',\n",
       "               '2020-07-30 09:30:00-04:00', '2020-07-31 09:30:00-04:00',\n",
       "               '2020-08-03 09:30:00-04:00', '2020-08-04 09:30:00-04:00'],\n",
       "              dtype='datetime64[ns, US/Eastern]', freq='B')"
      ]
     },
     "execution_count": 138,
     "metadata": {},
     "output_type": "execute_result"
    }
   ],
   "source": [
    "result = ts1 + ts2\n",
    "result.index"
   ]
  },
  {
   "cell_type": "markdown",
   "metadata": {},
   "source": [
    "# 11.5 Periods and Period Arithmetic"
   ]
  },
  {
   "cell_type": "markdown",
   "metadata": {},
   "source": [
    "*Periods* represent timespans, like days, months, quarters, or years. "
   ]
  },
  {
   "cell_type": "code",
   "execution_count": 139,
   "metadata": {},
   "outputs": [],
   "source": [
    "p = pd.Period(2018, freq='A-DEC')"
   ]
  },
  {
   "cell_type": "code",
   "execution_count": 140,
   "metadata": {},
   "outputs": [
    {
     "data": {
      "text/plain": [
       "Period('2018', 'A-DEC')"
      ]
     },
     "execution_count": 140,
     "metadata": {},
     "output_type": "execute_result"
    }
   ],
   "source": [
    "p"
   ]
  },
  {
   "cell_type": "markdown",
   "metadata": {},
   "source": [
    "In the above case, the Period object represents the full timespan from January 1, 2018, to\n",
    "December 31, 2018, inclusive"
   ]
  },
  {
   "cell_type": "code",
   "execution_count": 142,
   "metadata": {},
   "outputs": [
    {
     "data": {
      "text/plain": [
       "Period('2020', 'A-DEC')"
      ]
     },
     "execution_count": 142,
     "metadata": {},
     "output_type": "execute_result"
    }
   ],
   "source": [
    "p + 2 "
   ]
  },
  {
   "cell_type": "code",
   "execution_count": 144,
   "metadata": {},
   "outputs": [
    {
     "data": {
      "text/plain": [
       "Period('2011', 'A-DEC')"
      ]
     },
     "execution_count": 144,
     "metadata": {},
     "output_type": "execute_result"
    }
   ],
   "source": [
    "p - 7"
   ]
  },
  {
   "cell_type": "code",
   "execution_count": 145,
   "metadata": {},
   "outputs": [
    {
     "data": {
      "text/plain": [
       "<2 * YearEnds: month=12>"
      ]
     },
     "execution_count": 145,
     "metadata": {},
     "output_type": "execute_result"
    }
   ],
   "source": [
    "pd.Period(2020, freq='A-DEC') - p"
   ]
  },
  {
   "cell_type": "code",
   "execution_count": 147,
   "metadata": {},
   "outputs": [],
   "source": [
    "rng = pd.period_range('2000-01-01', '2000-06-30', freq='M')"
   ]
  },
  {
   "cell_type": "code",
   "execution_count": 148,
   "metadata": {},
   "outputs": [
    {
     "data": {
      "text/plain": [
       "PeriodIndex(['2000-01', '2000-02', '2000-03', '2000-04', '2000-05', '2000-06'], dtype='period[M]', freq='M')"
      ]
     },
     "execution_count": 148,
     "metadata": {},
     "output_type": "execute_result"
    }
   ],
   "source": [
    "rng"
   ]
  },
  {
   "cell_type": "code",
   "execution_count": 158,
   "metadata": {},
   "outputs": [
    {
     "data": {
      "text/plain": [
       "2000-01    0.629161\n",
       "2000-02    0.443245\n",
       "2000-03    0.372908\n",
       "2000-04    0.504169\n",
       "2000-05    0.253219\n",
       "2000-06    0.441228\n",
       "Freq: M, dtype: float64"
      ]
     },
     "execution_count": 158,
     "metadata": {},
     "output_type": "execute_result"
    }
   ],
   "source": [
    "pd.Series(data=np.random.random(6), index=rng)"
   ]
  },
  {
   "cell_type": "code",
   "execution_count": 159,
   "metadata": {},
   "outputs": [],
   "source": [
    "values = ['2001Q3', '2002Q2', '2003Q3']"
   ]
  },
  {
   "cell_type": "code",
   "execution_count": 161,
   "metadata": {},
   "outputs": [
    {
     "data": {
      "text/plain": [
       "PeriodIndex(['2001Q3', '2002Q2', '2003Q3'], dtype='period[Q-DEC]', freq='Q-DEC')"
      ]
     },
     "execution_count": 161,
     "metadata": {},
     "output_type": "execute_result"
    }
   ],
   "source": [
    "pd.PeriodIndex(values, freq='Q-DEC')"
   ]
  },
  {
   "cell_type": "markdown",
   "metadata": {},
   "source": [
    "## Period Frequency Conversion"
   ]
  },
  {
   "cell_type": "markdown",
   "metadata": {},
   "source": [
    "Periods and PeriodIndex objects can be converted to another frequency with their **asfreq** method."
   ]
  },
  {
   "cell_type": "code",
   "execution_count": 163,
   "metadata": {},
   "outputs": [],
   "source": [
    "p = pd.Period('2008', freq='A-DEC')"
   ]
  },
  {
   "cell_type": "code",
   "execution_count": 164,
   "metadata": {},
   "outputs": [
    {
     "data": {
      "text/plain": [
       "Period('2008', 'A-DEC')"
      ]
     },
     "execution_count": 164,
     "metadata": {},
     "output_type": "execute_result"
    }
   ],
   "source": [
    "p"
   ]
  },
  {
   "cell_type": "code",
   "execution_count": 165,
   "metadata": {},
   "outputs": [
    {
     "data": {
      "text/plain": [
       "Period('2008-01', 'M')"
      ]
     },
     "execution_count": 165,
     "metadata": {},
     "output_type": "execute_result"
    }
   ],
   "source": [
    "p.asfreq('M', how='start')"
   ]
  },
  {
   "cell_type": "code",
   "execution_count": 167,
   "metadata": {},
   "outputs": [
    {
     "data": {
      "text/plain": [
       "Period('2008-12', 'M')"
      ]
     },
     "execution_count": 167,
     "metadata": {},
     "output_type": "execute_result"
    }
   ],
   "source": [
    "p.asfreq('M', how='end')"
   ]
  },
  {
   "cell_type": "code",
   "execution_count": 168,
   "metadata": {},
   "outputs": [],
   "source": [
    "p = pd.Period(2010, freq='A-JUN')"
   ]
  },
  {
   "cell_type": "code",
   "execution_count": 169,
   "metadata": {},
   "outputs": [
    {
     "data": {
      "text/plain": [
       "Period('2010', 'A-JUN')"
      ]
     },
     "execution_count": 169,
     "metadata": {},
     "output_type": "execute_result"
    }
   ],
   "source": [
    "p"
   ]
  },
  {
   "cell_type": "code",
   "execution_count": 170,
   "metadata": {},
   "outputs": [
    {
     "data": {
      "text/plain": [
       "Period('2009-07', 'M')"
      ]
     },
     "execution_count": 170,
     "metadata": {},
     "output_type": "execute_result"
    }
   ],
   "source": [
    "p.asfreq('M', how='start')"
   ]
  },
  {
   "cell_type": "code",
   "execution_count": 171,
   "metadata": {},
   "outputs": [
    {
     "data": {
      "text/plain": [
       "Period('2010-06', 'M')"
      ]
     },
     "execution_count": 171,
     "metadata": {},
     "output_type": "execute_result"
    }
   ],
   "source": [
    "p.asfreq('M', how='end')"
   ]
  },
  {
   "cell_type": "code",
   "execution_count": 172,
   "metadata": {},
   "outputs": [],
   "source": [
    "p = pd.Period('Aug-2020', freq='M')"
   ]
  },
  {
   "cell_type": "code",
   "execution_count": 173,
   "metadata": {},
   "outputs": [
    {
     "data": {
      "text/plain": [
       "Period('2020-08', 'M')"
      ]
     },
     "execution_count": 173,
     "metadata": {},
     "output_type": "execute_result"
    }
   ],
   "source": [
    "p"
   ]
  },
  {
   "cell_type": "code",
   "execution_count": 182,
   "metadata": {},
   "outputs": [
    {
     "data": {
      "text/plain": [
       "Period('2021', 'A-JUN')"
      ]
     },
     "execution_count": 182,
     "metadata": {},
     "output_type": "execute_result"
    }
   ],
   "source": [
    "p.asfreq('A-JUN')"
   ]
  },
  {
   "cell_type": "code",
   "execution_count": 183,
   "metadata": {},
   "outputs": [],
   "source": [
    "rng = pd.period_range('2010', '2020', freq='A-DEC')"
   ]
  },
  {
   "cell_type": "code",
   "execution_count": 184,
   "metadata": {},
   "outputs": [],
   "source": [
    "ts = pd.Series(data=np.random.randn(len(rng)), index=rng)"
   ]
  },
  {
   "cell_type": "code",
   "execution_count": 185,
   "metadata": {},
   "outputs": [
    {
     "data": {
      "text/plain": [
       "2010   -0.295352\n",
       "2011    1.860815\n",
       "2012    0.015717\n",
       "2013   -0.375502\n",
       "2014    0.416370\n",
       "2015    0.274343\n",
       "2016    0.511785\n",
       "2017    1.918298\n",
       "2018   -0.398792\n",
       "2019   -0.434031\n",
       "2020   -0.046855\n",
       "Freq: A-DEC, dtype: float64"
      ]
     },
     "execution_count": 185,
     "metadata": {},
     "output_type": "execute_result"
    }
   ],
   "source": [
    "ts"
   ]
  },
  {
   "cell_type": "code",
   "execution_count": 192,
   "metadata": {},
   "outputs": [
    {
     "data": {
      "text/plain": [
       "2010-01-01   -0.295352\n",
       "2011-01-01    1.860815\n",
       "2012-01-01    0.015717\n",
       "2013-01-01   -0.375502\n",
       "2014-01-01    0.416370\n",
       "2015-01-01    0.274343\n",
       "2016-01-01    0.511785\n",
       "2017-01-01    1.918298\n",
       "2018-01-01   -0.398792\n",
       "2019-01-01   -0.434031\n",
       "2020-01-01   -0.046855\n",
       "Freq: D, dtype: float64"
      ]
     },
     "execution_count": 192,
     "metadata": {},
     "output_type": "execute_result"
    }
   ],
   "source": [
    "ts.asfreq('M', how='start').asfreq('D', how='start')"
   ]
  },
  {
   "cell_type": "code",
   "execution_count": 195,
   "metadata": {},
   "outputs": [
    {
     "data": {
      "text/plain": [
       "2010-12-31   -0.295352\n",
       "2011-12-30    1.860815\n",
       "2012-12-31    0.015717\n",
       "2013-12-31   -0.375502\n",
       "2014-12-31    0.416370\n",
       "2015-12-31    0.274343\n",
       "2016-12-30    0.511785\n",
       "2017-12-29    1.918298\n",
       "2018-12-31   -0.398792\n",
       "2019-12-31   -0.434031\n",
       "2020-12-31   -0.046855\n",
       "Freq: B, dtype: float64"
      ]
     },
     "execution_count": 195,
     "metadata": {},
     "output_type": "execute_result"
    }
   ],
   "source": [
    "ts.asfreq('B')"
   ]
  },
  {
   "cell_type": "markdown",
   "metadata": {},
   "source": [
    "## Quarterly Period Frequencies"
   ]
  },
  {
   "cell_type": "markdown",
   "metadata": {},
   "source": [
    "Quarterly data is standard in accounting, finance, and other fields. Much quarterly\n",
    "data is reported relative to a fiscal year end, typically the last calendar or business day\n",
    "of one of the 12 months of the year"
   ]
  },
  {
   "cell_type": "code",
   "execution_count": 206,
   "metadata": {},
   "outputs": [],
   "source": [
    "p = pd.Period('2012Q4', freq='Q-JAN')"
   ]
  },
  {
   "cell_type": "code",
   "execution_count": 207,
   "metadata": {},
   "outputs": [
    {
     "data": {
      "text/plain": [
       "Period('2012Q4', 'Q-JAN')"
      ]
     },
     "execution_count": 207,
     "metadata": {},
     "output_type": "execute_result"
    }
   ],
   "source": [
    "p"
   ]
  },
  {
   "cell_type": "code",
   "execution_count": 208,
   "metadata": {},
   "outputs": [
    {
     "data": {
      "text/plain": [
       "Period('2011-11-01', 'D')"
      ]
     },
     "execution_count": 208,
     "metadata": {},
     "output_type": "execute_result"
    }
   ],
   "source": [
    "p.asfreq('D', 'start')"
   ]
  },
  {
   "cell_type": "code",
   "execution_count": 209,
   "metadata": {},
   "outputs": [
    {
     "data": {
      "text/plain": [
       "Period('2012-01-31', 'D')"
      ]
     },
     "execution_count": 209,
     "metadata": {},
     "output_type": "execute_result"
    }
   ],
   "source": [
    "p.asfreq('D', 'end')"
   ]
  },
  {
   "cell_type": "code",
   "execution_count": 218,
   "metadata": {},
   "outputs": [],
   "source": [
    "p4pm = (p.asfreq('B', 'e')-1).asfreq('T', 's') + 16*60"
   ]
  },
  {
   "cell_type": "code",
   "execution_count": 219,
   "metadata": {},
   "outputs": [
    {
     "data": {
      "text/plain": [
       "Period('2012-01-30 16:00', 'T')"
      ]
     },
     "execution_count": 219,
     "metadata": {},
     "output_type": "execute_result"
    }
   ],
   "source": [
    "p4pm"
   ]
  },
  {
   "cell_type": "code",
   "execution_count": 220,
   "metadata": {},
   "outputs": [
    {
     "data": {
      "text/plain": [
       "Timestamp('2012-01-30 16:00:00')"
      ]
     },
     "execution_count": 220,
     "metadata": {},
     "output_type": "execute_result"
    }
   ],
   "source": [
    "p4pm.to_timestamp()"
   ]
  },
  {
   "cell_type": "code",
   "execution_count": 221,
   "metadata": {},
   "outputs": [],
   "source": [
    "rng = pd.period_range('2018Q3', '2020Q4', freq='Q-JAN')"
   ]
  },
  {
   "cell_type": "code",
   "execution_count": 223,
   "metadata": {},
   "outputs": [],
   "source": [
    "ts = pd.Series(np.random.randn(len(rng)), index=rng)"
   ]
  },
  {
   "cell_type": "code",
   "execution_count": 224,
   "metadata": {},
   "outputs": [
    {
     "data": {
      "text/plain": [
       "2018Q3   -0.494310\n",
       "2018Q4    0.116757\n",
       "2019Q1    0.335931\n",
       "2019Q2    1.045650\n",
       "2019Q3   -0.267613\n",
       "2019Q4   -0.582756\n",
       "2020Q1   -0.011221\n",
       "2020Q2   -0.887878\n",
       "2020Q3    0.079652\n",
       "2020Q4    1.568490\n",
       "Freq: Q-JAN, dtype: float64"
      ]
     },
     "execution_count": 224,
     "metadata": {},
     "output_type": "execute_result"
    }
   ],
   "source": [
    "ts"
   ]
  },
  {
   "cell_type": "code",
   "execution_count": 230,
   "metadata": {},
   "outputs": [],
   "source": [
    "new_rng = (rng.asfreq('B', 'e') - 1).asfreq('T', 's') + 16*60"
   ]
  },
  {
   "cell_type": "code",
   "execution_count": 231,
   "metadata": {},
   "outputs": [
    {
     "data": {
      "text/plain": [
       "PeriodIndex(['2017-10-30 16:00', '2018-01-30 16:00', '2018-04-27 16:00',\n",
       "             '2018-07-30 16:00', '2018-10-30 16:00', '2019-01-30 16:00',\n",
       "             '2019-04-29 16:00', '2019-07-30 16:00', '2019-10-30 16:00',\n",
       "             '2020-01-30 16:00'],\n",
       "            dtype='period[T]', freq='T')"
      ]
     },
     "execution_count": 231,
     "metadata": {},
     "output_type": "execute_result"
    }
   ],
   "source": [
    "new_rng"
   ]
  },
  {
   "cell_type": "code",
   "execution_count": 234,
   "metadata": {},
   "outputs": [],
   "source": [
    "ts.index = new_rng.to_timestamp()"
   ]
  },
  {
   "cell_type": "code",
   "execution_count": 235,
   "metadata": {},
   "outputs": [
    {
     "data": {
      "text/plain": [
       "2017-10-30 16:00:00   -0.494310\n",
       "2018-01-30 16:00:00    0.116757\n",
       "2018-04-27 16:00:00    0.335931\n",
       "2018-07-30 16:00:00    1.045650\n",
       "2018-10-30 16:00:00   -0.267613\n",
       "2019-01-30 16:00:00   -0.582756\n",
       "2019-04-29 16:00:00   -0.011221\n",
       "2019-07-30 16:00:00   -0.887878\n",
       "2019-10-30 16:00:00    0.079652\n",
       "2020-01-30 16:00:00    1.568490\n",
       "dtype: float64"
      ]
     },
     "execution_count": 235,
     "metadata": {},
     "output_type": "execute_result"
    }
   ],
   "source": [
    "ts"
   ]
  },
  {
   "cell_type": "markdown",
   "metadata": {},
   "source": [
    "## Converting Timestamps to Periods (and Back)"
   ]
  },
  {
   "cell_type": "code",
   "execution_count": 244,
   "metadata": {},
   "outputs": [],
   "source": [
    "rng = pd.date_range('2000-01-01', periods=5, freq='M')"
   ]
  },
  {
   "cell_type": "code",
   "execution_count": 245,
   "metadata": {},
   "outputs": [],
   "source": [
    "ts = pd.Series(data=np.arange(len(rng)), index=rng)"
   ]
  },
  {
   "cell_type": "code",
   "execution_count": 246,
   "metadata": {},
   "outputs": [
    {
     "data": {
      "text/plain": [
       "2000-01-31    0\n",
       "2000-02-29    1\n",
       "2000-03-31    2\n",
       "2000-04-30    3\n",
       "2000-05-31    4\n",
       "Freq: M, dtype: int32"
      ]
     },
     "execution_count": 246,
     "metadata": {},
     "output_type": "execute_result"
    }
   ],
   "source": [
    "ts"
   ]
  },
  {
   "cell_type": "code",
   "execution_count": 248,
   "metadata": {},
   "outputs": [],
   "source": [
    "pts = ts.to_period()"
   ]
  },
  {
   "cell_type": "code",
   "execution_count": 249,
   "metadata": {},
   "outputs": [
    {
     "data": {
      "text/plain": [
       "2000-01    0\n",
       "2000-02    1\n",
       "2000-03    2\n",
       "2000-04    3\n",
       "2000-05    4\n",
       "Freq: M, dtype: int32"
      ]
     },
     "execution_count": 249,
     "metadata": {},
     "output_type": "execute_result"
    }
   ],
   "source": [
    "pts"
   ]
  },
  {
   "cell_type": "code",
   "execution_count": 257,
   "metadata": {},
   "outputs": [
    {
     "data": {
      "text/plain": [
       "2000-01-31 23:59:59.999999999    0\n",
       "2000-02-29 23:59:59.999999999    1\n",
       "2000-03-31 23:59:59.999999999    2\n",
       "2000-04-30 23:59:59.999999999    3\n",
       "2000-05-31 23:59:59.999999999    4\n",
       "Freq: M, dtype: int32"
      ]
     },
     "execution_count": 257,
     "metadata": {},
     "output_type": "execute_result"
    }
   ],
   "source": [
    "pts.to_timestamp(how='end')"
   ]
  },
  {
   "cell_type": "markdown",
   "metadata": {},
   "source": [
    "## Creating a PeriodIndex from Arrays"
   ]
  },
  {
   "cell_type": "code",
   "execution_count": 337,
   "metadata": {},
   "outputs": [],
   "source": [
    "data = pd.read_csv('macrodata.csv')"
   ]
  },
  {
   "cell_type": "code",
   "execution_count": 338,
   "metadata": {},
   "outputs": [
    {
     "data": {
      "text/html": [
       "<div>\n",
       "<style scoped>\n",
       "    .dataframe tbody tr th:only-of-type {\n",
       "        vertical-align: middle;\n",
       "    }\n",
       "\n",
       "    .dataframe tbody tr th {\n",
       "        vertical-align: top;\n",
       "    }\n",
       "\n",
       "    .dataframe thead th {\n",
       "        text-align: right;\n",
       "    }\n",
       "</style>\n",
       "<table border=\"1\" class=\"dataframe\">\n",
       "  <thead>\n",
       "    <tr style=\"text-align: right;\">\n",
       "      <th></th>\n",
       "      <th>year</th>\n",
       "      <th>quarter</th>\n",
       "      <th>realgdp</th>\n",
       "      <th>realcons</th>\n",
       "      <th>realinv</th>\n",
       "      <th>realgovt</th>\n",
       "      <th>realdpi</th>\n",
       "      <th>cpi</th>\n",
       "      <th>m1</th>\n",
       "      <th>tbilrate</th>\n",
       "      <th>unemp</th>\n",
       "      <th>pop</th>\n",
       "      <th>infl</th>\n",
       "      <th>realint</th>\n",
       "    </tr>\n",
       "  </thead>\n",
       "  <tbody>\n",
       "    <tr>\n",
       "      <th>0</th>\n",
       "      <td>1959.0</td>\n",
       "      <td>1.0</td>\n",
       "      <td>2710.349</td>\n",
       "      <td>1707.4</td>\n",
       "      <td>286.898</td>\n",
       "      <td>470.045</td>\n",
       "      <td>1886.9</td>\n",
       "      <td>28.98</td>\n",
       "      <td>139.7</td>\n",
       "      <td>2.82</td>\n",
       "      <td>5.8</td>\n",
       "      <td>177.146</td>\n",
       "      <td>0.00</td>\n",
       "      <td>0.00</td>\n",
       "    </tr>\n",
       "    <tr>\n",
       "      <th>1</th>\n",
       "      <td>1959.0</td>\n",
       "      <td>2.0</td>\n",
       "      <td>2778.801</td>\n",
       "      <td>1733.7</td>\n",
       "      <td>310.859</td>\n",
       "      <td>481.301</td>\n",
       "      <td>1919.7</td>\n",
       "      <td>29.15</td>\n",
       "      <td>141.7</td>\n",
       "      <td>3.08</td>\n",
       "      <td>5.1</td>\n",
       "      <td>177.830</td>\n",
       "      <td>2.34</td>\n",
       "      <td>0.74</td>\n",
       "    </tr>\n",
       "    <tr>\n",
       "      <th>2</th>\n",
       "      <td>1959.0</td>\n",
       "      <td>3.0</td>\n",
       "      <td>2775.488</td>\n",
       "      <td>1751.8</td>\n",
       "      <td>289.226</td>\n",
       "      <td>491.260</td>\n",
       "      <td>1916.4</td>\n",
       "      <td>29.35</td>\n",
       "      <td>140.5</td>\n",
       "      <td>3.82</td>\n",
       "      <td>5.3</td>\n",
       "      <td>178.657</td>\n",
       "      <td>2.74</td>\n",
       "      <td>1.09</td>\n",
       "    </tr>\n",
       "    <tr>\n",
       "      <th>3</th>\n",
       "      <td>1959.0</td>\n",
       "      <td>4.0</td>\n",
       "      <td>2785.204</td>\n",
       "      <td>1753.7</td>\n",
       "      <td>299.356</td>\n",
       "      <td>484.052</td>\n",
       "      <td>1931.3</td>\n",
       "      <td>29.37</td>\n",
       "      <td>140.0</td>\n",
       "      <td>4.33</td>\n",
       "      <td>5.6</td>\n",
       "      <td>179.386</td>\n",
       "      <td>0.27</td>\n",
       "      <td>4.06</td>\n",
       "    </tr>\n",
       "    <tr>\n",
       "      <th>4</th>\n",
       "      <td>1960.0</td>\n",
       "      <td>1.0</td>\n",
       "      <td>2847.699</td>\n",
       "      <td>1770.5</td>\n",
       "      <td>331.722</td>\n",
       "      <td>462.199</td>\n",
       "      <td>1955.5</td>\n",
       "      <td>29.54</td>\n",
       "      <td>139.6</td>\n",
       "      <td>3.50</td>\n",
       "      <td>5.2</td>\n",
       "      <td>180.007</td>\n",
       "      <td>2.31</td>\n",
       "      <td>1.19</td>\n",
       "    </tr>\n",
       "  </tbody>\n",
       "</table>\n",
       "</div>"
      ],
      "text/plain": [
       "     year  quarter   realgdp  realcons  realinv  realgovt  realdpi    cpi  \\\n",
       "0  1959.0      1.0  2710.349    1707.4  286.898   470.045   1886.9  28.98   \n",
       "1  1959.0      2.0  2778.801    1733.7  310.859   481.301   1919.7  29.15   \n",
       "2  1959.0      3.0  2775.488    1751.8  289.226   491.260   1916.4  29.35   \n",
       "3  1959.0      4.0  2785.204    1753.7  299.356   484.052   1931.3  29.37   \n",
       "4  1960.0      1.0  2847.699    1770.5  331.722   462.199   1955.5  29.54   \n",
       "\n",
       "      m1  tbilrate  unemp      pop  infl  realint  \n",
       "0  139.7      2.82    5.8  177.146  0.00     0.00  \n",
       "1  141.7      3.08    5.1  177.830  2.34     0.74  \n",
       "2  140.5      3.82    5.3  178.657  2.74     1.09  \n",
       "3  140.0      4.33    5.6  179.386  0.27     4.06  \n",
       "4  139.6      3.50    5.2  180.007  2.31     1.19  "
      ]
     },
     "execution_count": 338,
     "metadata": {},
     "output_type": "execute_result"
    }
   ],
   "source": [
    "data.head()"
   ]
  },
  {
   "cell_type": "code",
   "execution_count": 339,
   "metadata": {},
   "outputs": [
    {
     "data": {
      "text/plain": [
       "0      1959.0\n",
       "1      1959.0\n",
       "2      1959.0\n",
       "3      1959.0\n",
       "4      1960.0\n",
       "        ...  \n",
       "198    2008.0\n",
       "199    2008.0\n",
       "200    2009.0\n",
       "201    2009.0\n",
       "202    2009.0\n",
       "Name: year, Length: 203, dtype: float64"
      ]
     },
     "execution_count": 339,
     "metadata": {},
     "output_type": "execute_result"
    }
   ],
   "source": [
    "data['year']"
   ]
  },
  {
   "cell_type": "code",
   "execution_count": 340,
   "metadata": {},
   "outputs": [
    {
     "data": {
      "text/plain": [
       "0      1.0\n",
       "1      2.0\n",
       "2      3.0\n",
       "3      4.0\n",
       "4      1.0\n",
       "      ... \n",
       "198    3.0\n",
       "199    4.0\n",
       "200    1.0\n",
       "201    2.0\n",
       "202    3.0\n",
       "Name: quarter, Length: 203, dtype: float64"
      ]
     },
     "execution_count": 340,
     "metadata": {},
     "output_type": "execute_result"
    }
   ],
   "source": [
    "data['quarter']"
   ]
  },
  {
   "cell_type": "code",
   "execution_count": 341,
   "metadata": {},
   "outputs": [],
   "source": [
    "index = pd.PeriodIndex(year=data['year'], quarter=data['quarter'], freq='Q-DEC')"
   ]
  },
  {
   "cell_type": "code",
   "execution_count": 342,
   "metadata": {},
   "outputs": [],
   "source": [
    "data.index = index"
   ]
  },
  {
   "cell_type": "code",
   "execution_count": 343,
   "metadata": {},
   "outputs": [
    {
     "data": {
      "text/html": [
       "<div>\n",
       "<style scoped>\n",
       "    .dataframe tbody tr th:only-of-type {\n",
       "        vertical-align: middle;\n",
       "    }\n",
       "\n",
       "    .dataframe tbody tr th {\n",
       "        vertical-align: top;\n",
       "    }\n",
       "\n",
       "    .dataframe thead th {\n",
       "        text-align: right;\n",
       "    }\n",
       "</style>\n",
       "<table border=\"1\" class=\"dataframe\">\n",
       "  <thead>\n",
       "    <tr style=\"text-align: right;\">\n",
       "      <th></th>\n",
       "      <th>year</th>\n",
       "      <th>quarter</th>\n",
       "      <th>realgdp</th>\n",
       "      <th>realcons</th>\n",
       "      <th>realinv</th>\n",
       "      <th>realgovt</th>\n",
       "      <th>realdpi</th>\n",
       "      <th>cpi</th>\n",
       "      <th>m1</th>\n",
       "      <th>tbilrate</th>\n",
       "      <th>unemp</th>\n",
       "      <th>pop</th>\n",
       "      <th>infl</th>\n",
       "      <th>realint</th>\n",
       "    </tr>\n",
       "  </thead>\n",
       "  <tbody>\n",
       "    <tr>\n",
       "      <th>1959Q1</th>\n",
       "      <td>1959.0</td>\n",
       "      <td>1.0</td>\n",
       "      <td>2710.349</td>\n",
       "      <td>1707.4</td>\n",
       "      <td>286.898</td>\n",
       "      <td>470.045</td>\n",
       "      <td>1886.9</td>\n",
       "      <td>28.98</td>\n",
       "      <td>139.7</td>\n",
       "      <td>2.82</td>\n",
       "      <td>5.8</td>\n",
       "      <td>177.146</td>\n",
       "      <td>0.00</td>\n",
       "      <td>0.00</td>\n",
       "    </tr>\n",
       "    <tr>\n",
       "      <th>1959Q2</th>\n",
       "      <td>1959.0</td>\n",
       "      <td>2.0</td>\n",
       "      <td>2778.801</td>\n",
       "      <td>1733.7</td>\n",
       "      <td>310.859</td>\n",
       "      <td>481.301</td>\n",
       "      <td>1919.7</td>\n",
       "      <td>29.15</td>\n",
       "      <td>141.7</td>\n",
       "      <td>3.08</td>\n",
       "      <td>5.1</td>\n",
       "      <td>177.830</td>\n",
       "      <td>2.34</td>\n",
       "      <td>0.74</td>\n",
       "    </tr>\n",
       "    <tr>\n",
       "      <th>1959Q3</th>\n",
       "      <td>1959.0</td>\n",
       "      <td>3.0</td>\n",
       "      <td>2775.488</td>\n",
       "      <td>1751.8</td>\n",
       "      <td>289.226</td>\n",
       "      <td>491.260</td>\n",
       "      <td>1916.4</td>\n",
       "      <td>29.35</td>\n",
       "      <td>140.5</td>\n",
       "      <td>3.82</td>\n",
       "      <td>5.3</td>\n",
       "      <td>178.657</td>\n",
       "      <td>2.74</td>\n",
       "      <td>1.09</td>\n",
       "    </tr>\n",
       "    <tr>\n",
       "      <th>1959Q4</th>\n",
       "      <td>1959.0</td>\n",
       "      <td>4.0</td>\n",
       "      <td>2785.204</td>\n",
       "      <td>1753.7</td>\n",
       "      <td>299.356</td>\n",
       "      <td>484.052</td>\n",
       "      <td>1931.3</td>\n",
       "      <td>29.37</td>\n",
       "      <td>140.0</td>\n",
       "      <td>4.33</td>\n",
       "      <td>5.6</td>\n",
       "      <td>179.386</td>\n",
       "      <td>0.27</td>\n",
       "      <td>4.06</td>\n",
       "    </tr>\n",
       "    <tr>\n",
       "      <th>1960Q1</th>\n",
       "      <td>1960.0</td>\n",
       "      <td>1.0</td>\n",
       "      <td>2847.699</td>\n",
       "      <td>1770.5</td>\n",
       "      <td>331.722</td>\n",
       "      <td>462.199</td>\n",
       "      <td>1955.5</td>\n",
       "      <td>29.54</td>\n",
       "      <td>139.6</td>\n",
       "      <td>3.50</td>\n",
       "      <td>5.2</td>\n",
       "      <td>180.007</td>\n",
       "      <td>2.31</td>\n",
       "      <td>1.19</td>\n",
       "    </tr>\n",
       "  </tbody>\n",
       "</table>\n",
       "</div>"
      ],
      "text/plain": [
       "          year  quarter   realgdp  realcons  realinv  realgovt  realdpi  \\\n",
       "1959Q1  1959.0      1.0  2710.349    1707.4  286.898   470.045   1886.9   \n",
       "1959Q2  1959.0      2.0  2778.801    1733.7  310.859   481.301   1919.7   \n",
       "1959Q3  1959.0      3.0  2775.488    1751.8  289.226   491.260   1916.4   \n",
       "1959Q4  1959.0      4.0  2785.204    1753.7  299.356   484.052   1931.3   \n",
       "1960Q1  1960.0      1.0  2847.699    1770.5  331.722   462.199   1955.5   \n",
       "\n",
       "          cpi     m1  tbilrate  unemp      pop  infl  realint  \n",
       "1959Q1  28.98  139.7      2.82    5.8  177.146  0.00     0.00  \n",
       "1959Q2  29.15  141.7      3.08    5.1  177.830  2.34     0.74  \n",
       "1959Q3  29.35  140.5      3.82    5.3  178.657  2.74     1.09  \n",
       "1959Q4  29.37  140.0      4.33    5.6  179.386  0.27     4.06  \n",
       "1960Q1  29.54  139.6      3.50    5.2  180.007  2.31     1.19  "
      ]
     },
     "execution_count": 343,
     "metadata": {},
     "output_type": "execute_result"
    }
   ],
   "source": [
    "data.head()"
   ]
  },
  {
   "cell_type": "code",
   "execution_count": 364,
   "metadata": {},
   "outputs": [],
   "source": [
    "data['year'] = pd.to_datetime(data['year'], format='%Y')"
   ]
  },
  {
   "cell_type": "code",
   "execution_count": 370,
   "metadata": {},
   "outputs": [
    {
     "data": {
      "text/html": [
       "<div>\n",
       "<style scoped>\n",
       "    .dataframe tbody tr th:only-of-type {\n",
       "        vertical-align: middle;\n",
       "    }\n",
       "\n",
       "    .dataframe tbody tr th {\n",
       "        vertical-align: top;\n",
       "    }\n",
       "\n",
       "    .dataframe thead th {\n",
       "        text-align: right;\n",
       "    }\n",
       "</style>\n",
       "<table border=\"1\" class=\"dataframe\">\n",
       "  <thead>\n",
       "    <tr style=\"text-align: right;\">\n",
       "      <th></th>\n",
       "      <th>year</th>\n",
       "      <th>quarter</th>\n",
       "      <th>realgdp</th>\n",
       "      <th>realcons</th>\n",
       "      <th>realinv</th>\n",
       "      <th>realgovt</th>\n",
       "      <th>realdpi</th>\n",
       "      <th>cpi</th>\n",
       "      <th>m1</th>\n",
       "      <th>tbilrate</th>\n",
       "      <th>unemp</th>\n",
       "      <th>pop</th>\n",
       "      <th>infl</th>\n",
       "      <th>realint</th>\n",
       "    </tr>\n",
       "  </thead>\n",
       "  <tbody>\n",
       "    <tr>\n",
       "      <th>1959Q1</th>\n",
       "      <td>1959-01-01</td>\n",
       "      <td>1.0</td>\n",
       "      <td>2710.349</td>\n",
       "      <td>1707.4</td>\n",
       "      <td>286.898</td>\n",
       "      <td>470.045</td>\n",
       "      <td>1886.9</td>\n",
       "      <td>28.98</td>\n",
       "      <td>139.7</td>\n",
       "      <td>2.82</td>\n",
       "      <td>5.8</td>\n",
       "      <td>177.146</td>\n",
       "      <td>0.00</td>\n",
       "      <td>0.00</td>\n",
       "    </tr>\n",
       "    <tr>\n",
       "      <th>1959Q2</th>\n",
       "      <td>1959-01-01</td>\n",
       "      <td>2.0</td>\n",
       "      <td>2778.801</td>\n",
       "      <td>1733.7</td>\n",
       "      <td>310.859</td>\n",
       "      <td>481.301</td>\n",
       "      <td>1919.7</td>\n",
       "      <td>29.15</td>\n",
       "      <td>141.7</td>\n",
       "      <td>3.08</td>\n",
       "      <td>5.1</td>\n",
       "      <td>177.830</td>\n",
       "      <td>2.34</td>\n",
       "      <td>0.74</td>\n",
       "    </tr>\n",
       "    <tr>\n",
       "      <th>1959Q3</th>\n",
       "      <td>1959-01-01</td>\n",
       "      <td>3.0</td>\n",
       "      <td>2775.488</td>\n",
       "      <td>1751.8</td>\n",
       "      <td>289.226</td>\n",
       "      <td>491.260</td>\n",
       "      <td>1916.4</td>\n",
       "      <td>29.35</td>\n",
       "      <td>140.5</td>\n",
       "      <td>3.82</td>\n",
       "      <td>5.3</td>\n",
       "      <td>178.657</td>\n",
       "      <td>2.74</td>\n",
       "      <td>1.09</td>\n",
       "    </tr>\n",
       "    <tr>\n",
       "      <th>1959Q4</th>\n",
       "      <td>1959-01-01</td>\n",
       "      <td>4.0</td>\n",
       "      <td>2785.204</td>\n",
       "      <td>1753.7</td>\n",
       "      <td>299.356</td>\n",
       "      <td>484.052</td>\n",
       "      <td>1931.3</td>\n",
       "      <td>29.37</td>\n",
       "      <td>140.0</td>\n",
       "      <td>4.33</td>\n",
       "      <td>5.6</td>\n",
       "      <td>179.386</td>\n",
       "      <td>0.27</td>\n",
       "      <td>4.06</td>\n",
       "    </tr>\n",
       "    <tr>\n",
       "      <th>1960Q1</th>\n",
       "      <td>1960-01-01</td>\n",
       "      <td>1.0</td>\n",
       "      <td>2847.699</td>\n",
       "      <td>1770.5</td>\n",
       "      <td>331.722</td>\n",
       "      <td>462.199</td>\n",
       "      <td>1955.5</td>\n",
       "      <td>29.54</td>\n",
       "      <td>139.6</td>\n",
       "      <td>3.50</td>\n",
       "      <td>5.2</td>\n",
       "      <td>180.007</td>\n",
       "      <td>2.31</td>\n",
       "      <td>1.19</td>\n",
       "    </tr>\n",
       "  </tbody>\n",
       "</table>\n",
       "</div>"
      ],
      "text/plain": [
       "             year  quarter   realgdp  realcons  realinv  realgovt  realdpi  \\\n",
       "1959Q1 1959-01-01      1.0  2710.349    1707.4  286.898   470.045   1886.9   \n",
       "1959Q2 1959-01-01      2.0  2778.801    1733.7  310.859   481.301   1919.7   \n",
       "1959Q3 1959-01-01      3.0  2775.488    1751.8  289.226   491.260   1916.4   \n",
       "1959Q4 1959-01-01      4.0  2785.204    1753.7  299.356   484.052   1931.3   \n",
       "1960Q1 1960-01-01      1.0  2847.699    1770.5  331.722   462.199   1955.5   \n",
       "\n",
       "          cpi     m1  tbilrate  unemp      pop  infl  realint  \n",
       "1959Q1  28.98  139.7      2.82    5.8  177.146  0.00     0.00  \n",
       "1959Q2  29.15  141.7      3.08    5.1  177.830  2.34     0.74  \n",
       "1959Q3  29.35  140.5      3.82    5.3  178.657  2.74     1.09  \n",
       "1959Q4  29.37  140.0      4.33    5.6  179.386  0.27     4.06  \n",
       "1960Q1  29.54  139.6      3.50    5.2  180.007  2.31     1.19  "
      ]
     },
     "execution_count": 370,
     "metadata": {},
     "output_type": "execute_result"
    }
   ],
   "source": [
    "data.head()"
   ]
  },
  {
   "cell_type": "markdown",
   "metadata": {},
   "source": [
    "# 11.6 Resampling and Frequency Conversion"
   ]
  },
  {
   "cell_type": "code",
   "execution_count": null,
   "metadata": {},
   "outputs": [],
   "source": []
  }
 ],
 "metadata": {
  "kernelspec": {
   "display_name": "Python 3",
   "language": "python",
   "name": "python3"
  },
  "language_info": {
   "codemirror_mode": {
    "name": "ipython",
    "version": 3
   },
   "file_extension": ".py",
   "mimetype": "text/x-python",
   "name": "python",
   "nbconvert_exporter": "python",
   "pygments_lexer": "ipython3",
   "version": "3.7.6"
  }
 },
 "nbformat": 4,
 "nbformat_minor": 4
}
