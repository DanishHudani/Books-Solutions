{
 "cells": [
  {
   "cell_type": "markdown",
   "metadata": {},
   "source": [
    "# 6.1 Reading and Writing Data in Text Format"
   ]
  },
  {
   "cell_type": "markdown",
   "metadata": {},
   "source": [
    "Table 6-1. Parsing functions in pandas"
   ]
  },
  {
   "cell_type": "code",
   "execution_count": 1,
   "metadata": {},
   "outputs": [],
   "source": [
    "import numpy as np\n",
    "import pandas as pd\n",
    "import matplotlib.pyplot as plt"
   ]
  },
  {
   "cell_type": "code",
   "execution_count": 2,
   "metadata": {},
   "outputs": [
    {
     "data": {
      "text/plain": [
       "'D:\\\\Learning from Books\\\\Python Book Solutions\\\\Python for Data Analysis by Wes McKinney\\\\Coding Practice\\\\Chp6 - Data Loading, Storage, and File Formats'"
      ]
     },
     "execution_count": 2,
     "metadata": {},
     "output_type": "execute_result"
    }
   ],
   "source": [
    "pwd"
   ]
  },
  {
   "cell_type": "code",
   "execution_count": 3,
   "metadata": {},
   "outputs": [],
   "source": [
    "df = pd.read_csv('D:\\\\Learning from Books\\\\Python Book Solutions\\\\Python for Data Analysis by Wes McKinney\\\\Coding Practice\\\\Chp6 - Data Loading, Storage, and File Formats\\\\ex1.csv')"
   ]
  },
  {
   "cell_type": "code",
   "execution_count": 4,
   "metadata": {},
   "outputs": [
    {
     "data": {
      "text/html": [
       "<div>\n",
       "<style scoped>\n",
       "    .dataframe tbody tr th:only-of-type {\n",
       "        vertical-align: middle;\n",
       "    }\n",
       "\n",
       "    .dataframe tbody tr th {\n",
       "        vertical-align: top;\n",
       "    }\n",
       "\n",
       "    .dataframe thead th {\n",
       "        text-align: right;\n",
       "    }\n",
       "</style>\n",
       "<table border=\"1\" class=\"dataframe\">\n",
       "  <thead>\n",
       "    <tr style=\"text-align: right;\">\n",
       "      <th></th>\n",
       "      <th>a</th>\n",
       "      <th>b</th>\n",
       "      <th>c</th>\n",
       "      <th>d</th>\n",
       "      <th>message</th>\n",
       "    </tr>\n",
       "  </thead>\n",
       "  <tbody>\n",
       "    <tr>\n",
       "      <th>0</th>\n",
       "      <td>1</td>\n",
       "      <td>2</td>\n",
       "      <td>3</td>\n",
       "      <td>4</td>\n",
       "      <td>hello</td>\n",
       "    </tr>\n",
       "    <tr>\n",
       "      <th>1</th>\n",
       "      <td>5</td>\n",
       "      <td>6</td>\n",
       "      <td>7</td>\n",
       "      <td>8</td>\n",
       "      <td>world</td>\n",
       "    </tr>\n",
       "    <tr>\n",
       "      <th>2</th>\n",
       "      <td>9</td>\n",
       "      <td>10</td>\n",
       "      <td>11</td>\n",
       "      <td>12</td>\n",
       "      <td>foo</td>\n",
       "    </tr>\n",
       "  </tbody>\n",
       "</table>\n",
       "</div>"
      ],
      "text/plain": [
       "   a   b   c   d message\n",
       "0  1   2   3   4   hello\n",
       "1  5   6   7   8   world\n",
       "2  9  10  11  12     foo"
      ]
     },
     "execution_count": 4,
     "metadata": {},
     "output_type": "execute_result"
    }
   ],
   "source": [
    "df"
   ]
  },
  {
   "cell_type": "code",
   "execution_count": 5,
   "metadata": {},
   "outputs": [],
   "source": [
    "df = pd.read_table('D:\\\\Learning from Books\\\\Python Book Solutions\\\\Python for Data Analysis by Wes McKinney\\\\Coding Practice\\\\Chp6 - Data Loading, Storage, and File Formats\\\\ex1.csv',\n",
    "                   sep=',')"
   ]
  },
  {
   "cell_type": "code",
   "execution_count": 6,
   "metadata": {},
   "outputs": [
    {
     "data": {
      "text/html": [
       "<div>\n",
       "<style scoped>\n",
       "    .dataframe tbody tr th:only-of-type {\n",
       "        vertical-align: middle;\n",
       "    }\n",
       "\n",
       "    .dataframe tbody tr th {\n",
       "        vertical-align: top;\n",
       "    }\n",
       "\n",
       "    .dataframe thead th {\n",
       "        text-align: right;\n",
       "    }\n",
       "</style>\n",
       "<table border=\"1\" class=\"dataframe\">\n",
       "  <thead>\n",
       "    <tr style=\"text-align: right;\">\n",
       "      <th></th>\n",
       "      <th>a</th>\n",
       "      <th>b</th>\n",
       "      <th>c</th>\n",
       "      <th>d</th>\n",
       "      <th>message</th>\n",
       "    </tr>\n",
       "  </thead>\n",
       "  <tbody>\n",
       "    <tr>\n",
       "      <th>0</th>\n",
       "      <td>1</td>\n",
       "      <td>2</td>\n",
       "      <td>3</td>\n",
       "      <td>4</td>\n",
       "      <td>hello</td>\n",
       "    </tr>\n",
       "    <tr>\n",
       "      <th>1</th>\n",
       "      <td>5</td>\n",
       "      <td>6</td>\n",
       "      <td>7</td>\n",
       "      <td>8</td>\n",
       "      <td>world</td>\n",
       "    </tr>\n",
       "    <tr>\n",
       "      <th>2</th>\n",
       "      <td>9</td>\n",
       "      <td>10</td>\n",
       "      <td>11</td>\n",
       "      <td>12</td>\n",
       "      <td>foo</td>\n",
       "    </tr>\n",
       "  </tbody>\n",
       "</table>\n",
       "</div>"
      ],
      "text/plain": [
       "   a   b   c   d message\n",
       "0  1   2   3   4   hello\n",
       "1  5   6   7   8   world\n",
       "2  9  10  11  12     foo"
      ]
     },
     "execution_count": 6,
     "metadata": {},
     "output_type": "execute_result"
    }
   ],
   "source": [
    "df"
   ]
  },
  {
   "cell_type": "code",
   "execution_count": 7,
   "metadata": {},
   "outputs": [],
   "source": [
    "df = pd.read_csv('D:\\\\Learning from Books\\\\Python Book Solutions\\\\Python for Data Analysis by Wes McKinney\\\\Coding Practice\\\\Chp6 - Data Loading, Storage, and File Formats\\\\ex1.csv', \n",
    "                header=None)"
   ]
  },
  {
   "cell_type": "code",
   "execution_count": 8,
   "metadata": {},
   "outputs": [
    {
     "data": {
      "text/html": [
       "<div>\n",
       "<style scoped>\n",
       "    .dataframe tbody tr th:only-of-type {\n",
       "        vertical-align: middle;\n",
       "    }\n",
       "\n",
       "    .dataframe tbody tr th {\n",
       "        vertical-align: top;\n",
       "    }\n",
       "\n",
       "    .dataframe thead th {\n",
       "        text-align: right;\n",
       "    }\n",
       "</style>\n",
       "<table border=\"1\" class=\"dataframe\">\n",
       "  <thead>\n",
       "    <tr style=\"text-align: right;\">\n",
       "      <th></th>\n",
       "      <th>0</th>\n",
       "      <th>1</th>\n",
       "      <th>2</th>\n",
       "      <th>3</th>\n",
       "      <th>4</th>\n",
       "    </tr>\n",
       "  </thead>\n",
       "  <tbody>\n",
       "    <tr>\n",
       "      <th>0</th>\n",
       "      <td>a</td>\n",
       "      <td>b</td>\n",
       "      <td>c</td>\n",
       "      <td>d</td>\n",
       "      <td>message</td>\n",
       "    </tr>\n",
       "    <tr>\n",
       "      <th>1</th>\n",
       "      <td>1</td>\n",
       "      <td>2</td>\n",
       "      <td>3</td>\n",
       "      <td>4</td>\n",
       "      <td>hello</td>\n",
       "    </tr>\n",
       "    <tr>\n",
       "      <th>2</th>\n",
       "      <td>5</td>\n",
       "      <td>6</td>\n",
       "      <td>7</td>\n",
       "      <td>8</td>\n",
       "      <td>world</td>\n",
       "    </tr>\n",
       "    <tr>\n",
       "      <th>3</th>\n",
       "      <td>9</td>\n",
       "      <td>10</td>\n",
       "      <td>11</td>\n",
       "      <td>12</td>\n",
       "      <td>foo</td>\n",
       "    </tr>\n",
       "  </tbody>\n",
       "</table>\n",
       "</div>"
      ],
      "text/plain": [
       "   0   1   2   3        4\n",
       "0  a   b   c   d  message\n",
       "1  1   2   3   4    hello\n",
       "2  5   6   7   8    world\n",
       "3  9  10  11  12      foo"
      ]
     },
     "execution_count": 8,
     "metadata": {},
     "output_type": "execute_result"
    }
   ],
   "source": [
    "df"
   ]
  },
  {
   "cell_type": "code",
   "execution_count": 9,
   "metadata": {},
   "outputs": [],
   "source": [
    "df = pd.read_csv('ex2.csv')"
   ]
  },
  {
   "cell_type": "code",
   "execution_count": 10,
   "metadata": {},
   "outputs": [
    {
     "data": {
      "text/html": [
       "<div>\n",
       "<style scoped>\n",
       "    .dataframe tbody tr th:only-of-type {\n",
       "        vertical-align: middle;\n",
       "    }\n",
       "\n",
       "    .dataframe tbody tr th {\n",
       "        vertical-align: top;\n",
       "    }\n",
       "\n",
       "    .dataframe thead th {\n",
       "        text-align: right;\n",
       "    }\n",
       "</style>\n",
       "<table border=\"1\" class=\"dataframe\">\n",
       "  <thead>\n",
       "    <tr style=\"text-align: right;\">\n",
       "      <th></th>\n",
       "      <th>1</th>\n",
       "      <th>2</th>\n",
       "      <th>3</th>\n",
       "      <th>4</th>\n",
       "      <th>hello</th>\n",
       "    </tr>\n",
       "  </thead>\n",
       "  <tbody>\n",
       "    <tr>\n",
       "      <th>0</th>\n",
       "      <td>5</td>\n",
       "      <td>6</td>\n",
       "      <td>7</td>\n",
       "      <td>8</td>\n",
       "      <td>world</td>\n",
       "    </tr>\n",
       "    <tr>\n",
       "      <th>1</th>\n",
       "      <td>9</td>\n",
       "      <td>10</td>\n",
       "      <td>11</td>\n",
       "      <td>12</td>\n",
       "      <td>foo</td>\n",
       "    </tr>\n",
       "  </tbody>\n",
       "</table>\n",
       "</div>"
      ],
      "text/plain": [
       "   1   2   3   4  hello\n",
       "0  5   6   7   8  world\n",
       "1  9  10  11  12    foo"
      ]
     },
     "execution_count": 10,
     "metadata": {},
     "output_type": "execute_result"
    }
   ],
   "source": [
    "df"
   ]
  },
  {
   "cell_type": "code",
   "execution_count": 11,
   "metadata": {},
   "outputs": [],
   "source": [
    "df = pd.read_csv('ex2.csv', header=None)"
   ]
  },
  {
   "cell_type": "code",
   "execution_count": 12,
   "metadata": {},
   "outputs": [
    {
     "data": {
      "text/html": [
       "<div>\n",
       "<style scoped>\n",
       "    .dataframe tbody tr th:only-of-type {\n",
       "        vertical-align: middle;\n",
       "    }\n",
       "\n",
       "    .dataframe tbody tr th {\n",
       "        vertical-align: top;\n",
       "    }\n",
       "\n",
       "    .dataframe thead th {\n",
       "        text-align: right;\n",
       "    }\n",
       "</style>\n",
       "<table border=\"1\" class=\"dataframe\">\n",
       "  <thead>\n",
       "    <tr style=\"text-align: right;\">\n",
       "      <th></th>\n",
       "      <th>0</th>\n",
       "      <th>1</th>\n",
       "      <th>2</th>\n",
       "      <th>3</th>\n",
       "      <th>4</th>\n",
       "    </tr>\n",
       "  </thead>\n",
       "  <tbody>\n",
       "    <tr>\n",
       "      <th>0</th>\n",
       "      <td>1</td>\n",
       "      <td>2</td>\n",
       "      <td>3</td>\n",
       "      <td>4</td>\n",
       "      <td>hello</td>\n",
       "    </tr>\n",
       "    <tr>\n",
       "      <th>1</th>\n",
       "      <td>5</td>\n",
       "      <td>6</td>\n",
       "      <td>7</td>\n",
       "      <td>8</td>\n",
       "      <td>world</td>\n",
       "    </tr>\n",
       "    <tr>\n",
       "      <th>2</th>\n",
       "      <td>9</td>\n",
       "      <td>10</td>\n",
       "      <td>11</td>\n",
       "      <td>12</td>\n",
       "      <td>foo</td>\n",
       "    </tr>\n",
       "  </tbody>\n",
       "</table>\n",
       "</div>"
      ],
      "text/plain": [
       "   0   1   2   3      4\n",
       "0  1   2   3   4  hello\n",
       "1  5   6   7   8  world\n",
       "2  9  10  11  12    foo"
      ]
     },
     "execution_count": 12,
     "metadata": {},
     "output_type": "execute_result"
    }
   ],
   "source": [
    "df"
   ]
  },
  {
   "cell_type": "code",
   "execution_count": 13,
   "metadata": {},
   "outputs": [],
   "source": [
    "df = pd.read_csv('ex2.csv', header=None, names=['a', 'b', 'c', 'd', 'message'])"
   ]
  },
  {
   "cell_type": "code",
   "execution_count": 14,
   "metadata": {},
   "outputs": [
    {
     "data": {
      "text/html": [
       "<div>\n",
       "<style scoped>\n",
       "    .dataframe tbody tr th:only-of-type {\n",
       "        vertical-align: middle;\n",
       "    }\n",
       "\n",
       "    .dataframe tbody tr th {\n",
       "        vertical-align: top;\n",
       "    }\n",
       "\n",
       "    .dataframe thead th {\n",
       "        text-align: right;\n",
       "    }\n",
       "</style>\n",
       "<table border=\"1\" class=\"dataframe\">\n",
       "  <thead>\n",
       "    <tr style=\"text-align: right;\">\n",
       "      <th></th>\n",
       "      <th>a</th>\n",
       "      <th>b</th>\n",
       "      <th>c</th>\n",
       "      <th>d</th>\n",
       "      <th>message</th>\n",
       "    </tr>\n",
       "  </thead>\n",
       "  <tbody>\n",
       "    <tr>\n",
       "      <th>0</th>\n",
       "      <td>1</td>\n",
       "      <td>2</td>\n",
       "      <td>3</td>\n",
       "      <td>4</td>\n",
       "      <td>hello</td>\n",
       "    </tr>\n",
       "    <tr>\n",
       "      <th>1</th>\n",
       "      <td>5</td>\n",
       "      <td>6</td>\n",
       "      <td>7</td>\n",
       "      <td>8</td>\n",
       "      <td>world</td>\n",
       "    </tr>\n",
       "    <tr>\n",
       "      <th>2</th>\n",
       "      <td>9</td>\n",
       "      <td>10</td>\n",
       "      <td>11</td>\n",
       "      <td>12</td>\n",
       "      <td>foo</td>\n",
       "    </tr>\n",
       "  </tbody>\n",
       "</table>\n",
       "</div>"
      ],
      "text/plain": [
       "   a   b   c   d message\n",
       "0  1   2   3   4   hello\n",
       "1  5   6   7   8   world\n",
       "2  9  10  11  12     foo"
      ]
     },
     "execution_count": 14,
     "metadata": {},
     "output_type": "execute_result"
    }
   ],
   "source": [
    "df"
   ]
  },
  {
   "cell_type": "code",
   "execution_count": 15,
   "metadata": {},
   "outputs": [],
   "source": [
    "df = pd.read_csv('ex2.csv', header=None, names=['a', 'b', 'c', 'd', 'message'], index_col='message')"
   ]
  },
  {
   "cell_type": "code",
   "execution_count": 16,
   "metadata": {},
   "outputs": [
    {
     "data": {
      "text/html": [
       "<div>\n",
       "<style scoped>\n",
       "    .dataframe tbody tr th:only-of-type {\n",
       "        vertical-align: middle;\n",
       "    }\n",
       "\n",
       "    .dataframe tbody tr th {\n",
       "        vertical-align: top;\n",
       "    }\n",
       "\n",
       "    .dataframe thead th {\n",
       "        text-align: right;\n",
       "    }\n",
       "</style>\n",
       "<table border=\"1\" class=\"dataframe\">\n",
       "  <thead>\n",
       "    <tr style=\"text-align: right;\">\n",
       "      <th></th>\n",
       "      <th>a</th>\n",
       "      <th>b</th>\n",
       "      <th>c</th>\n",
       "      <th>d</th>\n",
       "    </tr>\n",
       "    <tr>\n",
       "      <th>message</th>\n",
       "      <th></th>\n",
       "      <th></th>\n",
       "      <th></th>\n",
       "      <th></th>\n",
       "    </tr>\n",
       "  </thead>\n",
       "  <tbody>\n",
       "    <tr>\n",
       "      <th>hello</th>\n",
       "      <td>1</td>\n",
       "      <td>2</td>\n",
       "      <td>3</td>\n",
       "      <td>4</td>\n",
       "    </tr>\n",
       "    <tr>\n",
       "      <th>world</th>\n",
       "      <td>5</td>\n",
       "      <td>6</td>\n",
       "      <td>7</td>\n",
       "      <td>8</td>\n",
       "    </tr>\n",
       "    <tr>\n",
       "      <th>foo</th>\n",
       "      <td>9</td>\n",
       "      <td>10</td>\n",
       "      <td>11</td>\n",
       "      <td>12</td>\n",
       "    </tr>\n",
       "  </tbody>\n",
       "</table>\n",
       "</div>"
      ],
      "text/plain": [
       "         a   b   c   d\n",
       "message               \n",
       "hello    1   2   3   4\n",
       "world    5   6   7   8\n",
       "foo      9  10  11  12"
      ]
     },
     "execution_count": 16,
     "metadata": {},
     "output_type": "execute_result"
    }
   ],
   "source": [
    "df"
   ]
  },
  {
   "cell_type": "code",
   "execution_count": 17,
   "metadata": {},
   "outputs": [],
   "source": [
    "df = pd.read_csv('ex3.csv', index_col=['key1', 'key2'])"
   ]
  },
  {
   "cell_type": "code",
   "execution_count": 18,
   "metadata": {},
   "outputs": [
    {
     "data": {
      "text/html": [
       "<div>\n",
       "<style scoped>\n",
       "    .dataframe tbody tr th:only-of-type {\n",
       "        vertical-align: middle;\n",
       "    }\n",
       "\n",
       "    .dataframe tbody tr th {\n",
       "        vertical-align: top;\n",
       "    }\n",
       "\n",
       "    .dataframe thead th {\n",
       "        text-align: right;\n",
       "    }\n",
       "</style>\n",
       "<table border=\"1\" class=\"dataframe\">\n",
       "  <thead>\n",
       "    <tr style=\"text-align: right;\">\n",
       "      <th></th>\n",
       "      <th></th>\n",
       "      <th>value1</th>\n",
       "      <th>value2</th>\n",
       "    </tr>\n",
       "    <tr>\n",
       "      <th>key1</th>\n",
       "      <th>key2</th>\n",
       "      <th></th>\n",
       "      <th></th>\n",
       "    </tr>\n",
       "  </thead>\n",
       "  <tbody>\n",
       "    <tr>\n",
       "      <th rowspan=\"4\" valign=\"top\">one</th>\n",
       "      <th>a</th>\n",
       "      <td>1</td>\n",
       "      <td>2</td>\n",
       "    </tr>\n",
       "    <tr>\n",
       "      <th>b</th>\n",
       "      <td>3</td>\n",
       "      <td>4</td>\n",
       "    </tr>\n",
       "    <tr>\n",
       "      <th>c</th>\n",
       "      <td>5</td>\n",
       "      <td>6</td>\n",
       "    </tr>\n",
       "    <tr>\n",
       "      <th>d</th>\n",
       "      <td>7</td>\n",
       "      <td>8</td>\n",
       "    </tr>\n",
       "    <tr>\n",
       "      <th rowspan=\"4\" valign=\"top\">two</th>\n",
       "      <th>a</th>\n",
       "      <td>9</td>\n",
       "      <td>10</td>\n",
       "    </tr>\n",
       "    <tr>\n",
       "      <th>b</th>\n",
       "      <td>11</td>\n",
       "      <td>12</td>\n",
       "    </tr>\n",
       "    <tr>\n",
       "      <th>c</th>\n",
       "      <td>13</td>\n",
       "      <td>14</td>\n",
       "    </tr>\n",
       "    <tr>\n",
       "      <th>d</th>\n",
       "      <td>15</td>\n",
       "      <td>16</td>\n",
       "    </tr>\n",
       "  </tbody>\n",
       "</table>\n",
       "</div>"
      ],
      "text/plain": [
       "           value1  value2\n",
       "key1 key2                \n",
       "one  a          1       2\n",
       "     b          3       4\n",
       "     c          5       6\n",
       "     d          7       8\n",
       "two  a          9      10\n",
       "     b         11      12\n",
       "     c         13      14\n",
       "     d         15      16"
      ]
     },
     "execution_count": 18,
     "metadata": {},
     "output_type": "execute_result"
    }
   ],
   "source": [
    "df"
   ]
  },
  {
   "cell_type": "code",
   "execution_count": 19,
   "metadata": {},
   "outputs": [
    {
     "data": {
      "text/plain": [
       "['\\tA \\tB \\tC\\n',\n",
       " 'aaa -0.264438 -1.026059 -0.619500\\n',\n",
       " 'bbb 0.927272 0.302904 -0.032399\\n',\n",
       " 'ccc -0.264273 -0.386314 -0.217601\\n',\n",
       " 'ddd -0.871858 -0.348382 1.100491\\n']"
      ]
     },
     "execution_count": 19,
     "metadata": {},
     "output_type": "execute_result"
    }
   ],
   "source": [
    "list(open('ex4.txt'))"
   ]
  },
  {
   "cell_type": "code",
   "execution_count": 20,
   "metadata": {},
   "outputs": [
    {
     "data": {
      "text/html": [
       "<div>\n",
       "<style scoped>\n",
       "    .dataframe tbody tr th:only-of-type {\n",
       "        vertical-align: middle;\n",
       "    }\n",
       "\n",
       "    .dataframe tbody tr th {\n",
       "        vertical-align: top;\n",
       "    }\n",
       "\n",
       "    .dataframe thead th {\n",
       "        text-align: right;\n",
       "    }\n",
       "</style>\n",
       "<table border=\"1\" class=\"dataframe\">\n",
       "  <thead>\n",
       "    <tr style=\"text-align: right;\">\n",
       "      <th></th>\n",
       "      <th>A</th>\n",
       "      <th>B</th>\n",
       "      <th>C</th>\n",
       "    </tr>\n",
       "  </thead>\n",
       "  <tbody>\n",
       "    <tr>\n",
       "      <th>aaa</th>\n",
       "      <td>-0.264438</td>\n",
       "      <td>-1.026059</td>\n",
       "      <td>-0.619500</td>\n",
       "    </tr>\n",
       "    <tr>\n",
       "      <th>bbb</th>\n",
       "      <td>0.927272</td>\n",
       "      <td>0.302904</td>\n",
       "      <td>-0.032399</td>\n",
       "    </tr>\n",
       "    <tr>\n",
       "      <th>ccc</th>\n",
       "      <td>-0.264273</td>\n",
       "      <td>-0.386314</td>\n",
       "      <td>-0.217601</td>\n",
       "    </tr>\n",
       "    <tr>\n",
       "      <th>ddd</th>\n",
       "      <td>-0.871858</td>\n",
       "      <td>-0.348382</td>\n",
       "      <td>1.100491</td>\n",
       "    </tr>\n",
       "  </tbody>\n",
       "</table>\n",
       "</div>"
      ],
      "text/plain": [
       "            A         B         C\n",
       "aaa -0.264438 -1.026059 -0.619500\n",
       "bbb  0.927272  0.302904 -0.032399\n",
       "ccc -0.264273 -0.386314 -0.217601\n",
       "ddd -0.871858 -0.348382  1.100491"
      ]
     },
     "execution_count": 20,
     "metadata": {},
     "output_type": "execute_result"
    }
   ],
   "source": [
    "pd.read_table('ex4.txt', sep='\\s+') #'\\s+' -> \\(means one) s(means whitespace) +(means more times), whitespace one or more times"
   ]
  },
  {
   "cell_type": "code",
   "execution_count": 21,
   "metadata": {},
   "outputs": [
    {
     "data": {
      "text/plain": [
       "['# hey!\\n',\n",
       " 'a,b,c,d,message\\n',\n",
       " '# just wanted to make things more difficult for you\\n',\n",
       " '# who reads CSV files with computers, anyway?\\n',\n",
       " '1,2,3,4,hello\\n',\n",
       " '5,6,7,8,world\\n',\n",
       " '9,10,11,12,foo\\n']"
      ]
     },
     "execution_count": 21,
     "metadata": {},
     "output_type": "execute_result"
    }
   ],
   "source": [
    "list(open('ex5.csv'))"
   ]
  },
  {
   "cell_type": "code",
   "execution_count": 22,
   "metadata": {},
   "outputs": [
    {
     "data": {
      "text/html": [
       "<div>\n",
       "<style scoped>\n",
       "    .dataframe tbody tr th:only-of-type {\n",
       "        vertical-align: middle;\n",
       "    }\n",
       "\n",
       "    .dataframe tbody tr th {\n",
       "        vertical-align: top;\n",
       "    }\n",
       "\n",
       "    .dataframe thead th {\n",
       "        text-align: right;\n",
       "    }\n",
       "</style>\n",
       "<table border=\"1\" class=\"dataframe\">\n",
       "  <thead>\n",
       "    <tr style=\"text-align: right;\">\n",
       "      <th></th>\n",
       "      <th>a</th>\n",
       "      <th>b</th>\n",
       "      <th>c</th>\n",
       "      <th>d</th>\n",
       "      <th>message</th>\n",
       "    </tr>\n",
       "  </thead>\n",
       "  <tbody>\n",
       "    <tr>\n",
       "      <th>0</th>\n",
       "      <td>1</td>\n",
       "      <td>2</td>\n",
       "      <td>3</td>\n",
       "      <td>4</td>\n",
       "      <td>hello</td>\n",
       "    </tr>\n",
       "    <tr>\n",
       "      <th>1</th>\n",
       "      <td>5</td>\n",
       "      <td>6</td>\n",
       "      <td>7</td>\n",
       "      <td>8</td>\n",
       "      <td>world</td>\n",
       "    </tr>\n",
       "    <tr>\n",
       "      <th>2</th>\n",
       "      <td>9</td>\n",
       "      <td>10</td>\n",
       "      <td>11</td>\n",
       "      <td>12</td>\n",
       "      <td>foo</td>\n",
       "    </tr>\n",
       "  </tbody>\n",
       "</table>\n",
       "</div>"
      ],
      "text/plain": [
       "   a   b   c   d message\n",
       "0  1   2   3   4   hello\n",
       "1  5   6   7   8   world\n",
       "2  9  10  11  12     foo"
      ]
     },
     "execution_count": 22,
     "metadata": {},
     "output_type": "execute_result"
    }
   ],
   "source": [
    "pd.read_csv('ex5.csv', skiprows=[0,2,3])"
   ]
  },
  {
   "cell_type": "code",
   "execution_count": 23,
   "metadata": {},
   "outputs": [
    {
     "data": {
      "text/plain": [
       "['something,a,b,c,d,message\\n',\n",
       " 'one,1,2,3,4,NA\\n',\n",
       " 'two,5,6,,8,world\\n',\n",
       " 'three,9,10,11,12,foo']"
      ]
     },
     "execution_count": 23,
     "metadata": {},
     "output_type": "execute_result"
    }
   ],
   "source": [
    "list(open('ex6.csv'))"
   ]
  },
  {
   "cell_type": "markdown",
   "metadata": {},
   "source": [
    "By default, pandas uses a set of commonly occurring sentinels,\n",
    "such as NA and NULL"
   ]
  },
  {
   "cell_type": "code",
   "execution_count": 24,
   "metadata": {},
   "outputs": [],
   "source": [
    "result = pd.read_csv('ex6.csv')"
   ]
  },
  {
   "cell_type": "code",
   "execution_count": 25,
   "metadata": {},
   "outputs": [
    {
     "data": {
      "text/html": [
       "<div>\n",
       "<style scoped>\n",
       "    .dataframe tbody tr th:only-of-type {\n",
       "        vertical-align: middle;\n",
       "    }\n",
       "\n",
       "    .dataframe tbody tr th {\n",
       "        vertical-align: top;\n",
       "    }\n",
       "\n",
       "    .dataframe thead th {\n",
       "        text-align: right;\n",
       "    }\n",
       "</style>\n",
       "<table border=\"1\" class=\"dataframe\">\n",
       "  <thead>\n",
       "    <tr style=\"text-align: right;\">\n",
       "      <th></th>\n",
       "      <th>something</th>\n",
       "      <th>a</th>\n",
       "      <th>b</th>\n",
       "      <th>c</th>\n",
       "      <th>d</th>\n",
       "      <th>message</th>\n",
       "    </tr>\n",
       "  </thead>\n",
       "  <tbody>\n",
       "    <tr>\n",
       "      <th>0</th>\n",
       "      <td>one</td>\n",
       "      <td>1</td>\n",
       "      <td>2</td>\n",
       "      <td>3.0</td>\n",
       "      <td>4</td>\n",
       "      <td>NaN</td>\n",
       "    </tr>\n",
       "    <tr>\n",
       "      <th>1</th>\n",
       "      <td>two</td>\n",
       "      <td>5</td>\n",
       "      <td>6</td>\n",
       "      <td>NaN</td>\n",
       "      <td>8</td>\n",
       "      <td>world</td>\n",
       "    </tr>\n",
       "    <tr>\n",
       "      <th>2</th>\n",
       "      <td>three</td>\n",
       "      <td>9</td>\n",
       "      <td>10</td>\n",
       "      <td>11.0</td>\n",
       "      <td>12</td>\n",
       "      <td>foo</td>\n",
       "    </tr>\n",
       "  </tbody>\n",
       "</table>\n",
       "</div>"
      ],
      "text/plain": [
       "  something  a   b     c   d message\n",
       "0       one  1   2   3.0   4     NaN\n",
       "1       two  5   6   NaN   8   world\n",
       "2     three  9  10  11.0  12     foo"
      ]
     },
     "execution_count": 25,
     "metadata": {},
     "output_type": "execute_result"
    }
   ],
   "source": [
    "result"
   ]
  },
  {
   "cell_type": "code",
   "execution_count": 26,
   "metadata": {},
   "outputs": [
    {
     "data": {
      "text/html": [
       "<div>\n",
       "<style scoped>\n",
       "    .dataframe tbody tr th:only-of-type {\n",
       "        vertical-align: middle;\n",
       "    }\n",
       "\n",
       "    .dataframe tbody tr th {\n",
       "        vertical-align: top;\n",
       "    }\n",
       "\n",
       "    .dataframe thead th {\n",
       "        text-align: right;\n",
       "    }\n",
       "</style>\n",
       "<table border=\"1\" class=\"dataframe\">\n",
       "  <thead>\n",
       "    <tr style=\"text-align: right;\">\n",
       "      <th></th>\n",
       "      <th>something</th>\n",
       "      <th>a</th>\n",
       "      <th>b</th>\n",
       "      <th>c</th>\n",
       "      <th>d</th>\n",
       "      <th>message</th>\n",
       "    </tr>\n",
       "  </thead>\n",
       "  <tbody>\n",
       "    <tr>\n",
       "      <th>0</th>\n",
       "      <td>False</td>\n",
       "      <td>False</td>\n",
       "      <td>False</td>\n",
       "      <td>False</td>\n",
       "      <td>False</td>\n",
       "      <td>True</td>\n",
       "    </tr>\n",
       "    <tr>\n",
       "      <th>1</th>\n",
       "      <td>False</td>\n",
       "      <td>False</td>\n",
       "      <td>False</td>\n",
       "      <td>True</td>\n",
       "      <td>False</td>\n",
       "      <td>False</td>\n",
       "    </tr>\n",
       "    <tr>\n",
       "      <th>2</th>\n",
       "      <td>False</td>\n",
       "      <td>False</td>\n",
       "      <td>False</td>\n",
       "      <td>False</td>\n",
       "      <td>False</td>\n",
       "      <td>False</td>\n",
       "    </tr>\n",
       "  </tbody>\n",
       "</table>\n",
       "</div>"
      ],
      "text/plain": [
       "   something      a      b      c      d  message\n",
       "0      False  False  False  False  False     True\n",
       "1      False  False  False   True  False    False\n",
       "2      False  False  False  False  False    False"
      ]
     },
     "execution_count": 26,
     "metadata": {},
     "output_type": "execute_result"
    }
   ],
   "source": [
    "pd.isnull(result)"
   ]
  },
  {
   "cell_type": "code",
   "execution_count": 27,
   "metadata": {},
   "outputs": [],
   "source": [
    "result = pd.read_csv('ex6.csv',na_values=[5]) #Will convert all value 5 to NaN"
   ]
  },
  {
   "cell_type": "code",
   "execution_count": 28,
   "metadata": {},
   "outputs": [
    {
     "data": {
      "text/html": [
       "<div>\n",
       "<style scoped>\n",
       "    .dataframe tbody tr th:only-of-type {\n",
       "        vertical-align: middle;\n",
       "    }\n",
       "\n",
       "    .dataframe tbody tr th {\n",
       "        vertical-align: top;\n",
       "    }\n",
       "\n",
       "    .dataframe thead th {\n",
       "        text-align: right;\n",
       "    }\n",
       "</style>\n",
       "<table border=\"1\" class=\"dataframe\">\n",
       "  <thead>\n",
       "    <tr style=\"text-align: right;\">\n",
       "      <th></th>\n",
       "      <th>something</th>\n",
       "      <th>a</th>\n",
       "      <th>b</th>\n",
       "      <th>c</th>\n",
       "      <th>d</th>\n",
       "      <th>message</th>\n",
       "    </tr>\n",
       "  </thead>\n",
       "  <tbody>\n",
       "    <tr>\n",
       "      <th>0</th>\n",
       "      <td>one</td>\n",
       "      <td>1.0</td>\n",
       "      <td>2</td>\n",
       "      <td>3.0</td>\n",
       "      <td>4</td>\n",
       "      <td>NaN</td>\n",
       "    </tr>\n",
       "    <tr>\n",
       "      <th>1</th>\n",
       "      <td>two</td>\n",
       "      <td>NaN</td>\n",
       "      <td>6</td>\n",
       "      <td>NaN</td>\n",
       "      <td>8</td>\n",
       "      <td>world</td>\n",
       "    </tr>\n",
       "    <tr>\n",
       "      <th>2</th>\n",
       "      <td>three</td>\n",
       "      <td>9.0</td>\n",
       "      <td>10</td>\n",
       "      <td>11.0</td>\n",
       "      <td>12</td>\n",
       "      <td>foo</td>\n",
       "    </tr>\n",
       "  </tbody>\n",
       "</table>\n",
       "</div>"
      ],
      "text/plain": [
       "  something    a   b     c   d message\n",
       "0       one  1.0   2   3.0   4     NaN\n",
       "1       two  NaN   6   NaN   8   world\n",
       "2     three  9.0  10  11.0  12     foo"
      ]
     },
     "execution_count": 28,
     "metadata": {},
     "output_type": "execute_result"
    }
   ],
   "source": [
    "result"
   ]
  },
  {
   "cell_type": "code",
   "execution_count": 29,
   "metadata": {},
   "outputs": [],
   "source": [
    "sentinels = {'something':['one'], 'message':['NULL', 'foo']}\n",
    "result = pd.read_csv('ex6.csv',na_values=sentinels)"
   ]
  },
  {
   "cell_type": "code",
   "execution_count": 30,
   "metadata": {},
   "outputs": [
    {
     "data": {
      "text/html": [
       "<div>\n",
       "<style scoped>\n",
       "    .dataframe tbody tr th:only-of-type {\n",
       "        vertical-align: middle;\n",
       "    }\n",
       "\n",
       "    .dataframe tbody tr th {\n",
       "        vertical-align: top;\n",
       "    }\n",
       "\n",
       "    .dataframe thead th {\n",
       "        text-align: right;\n",
       "    }\n",
       "</style>\n",
       "<table border=\"1\" class=\"dataframe\">\n",
       "  <thead>\n",
       "    <tr style=\"text-align: right;\">\n",
       "      <th></th>\n",
       "      <th>something</th>\n",
       "      <th>a</th>\n",
       "      <th>b</th>\n",
       "      <th>c</th>\n",
       "      <th>d</th>\n",
       "      <th>message</th>\n",
       "    </tr>\n",
       "  </thead>\n",
       "  <tbody>\n",
       "    <tr>\n",
       "      <th>0</th>\n",
       "      <td>NaN</td>\n",
       "      <td>1</td>\n",
       "      <td>2</td>\n",
       "      <td>3.0</td>\n",
       "      <td>4</td>\n",
       "      <td>NaN</td>\n",
       "    </tr>\n",
       "    <tr>\n",
       "      <th>1</th>\n",
       "      <td>two</td>\n",
       "      <td>5</td>\n",
       "      <td>6</td>\n",
       "      <td>NaN</td>\n",
       "      <td>8</td>\n",
       "      <td>world</td>\n",
       "    </tr>\n",
       "    <tr>\n",
       "      <th>2</th>\n",
       "      <td>three</td>\n",
       "      <td>9</td>\n",
       "      <td>10</td>\n",
       "      <td>11.0</td>\n",
       "      <td>12</td>\n",
       "      <td>NaN</td>\n",
       "    </tr>\n",
       "  </tbody>\n",
       "</table>\n",
       "</div>"
      ],
      "text/plain": [
       "  something  a   b     c   d message\n",
       "0       NaN  1   2   3.0   4     NaN\n",
       "1       two  5   6   NaN   8   world\n",
       "2     three  9  10  11.0  12     NaN"
      ]
     },
     "execution_count": 30,
     "metadata": {},
     "output_type": "execute_result"
    }
   ],
   "source": [
    "result"
   ]
  },
  {
   "cell_type": "markdown",
   "metadata": {},
   "source": [
    "Table 6-2. Some read_csv/read_table function arguments"
   ]
  },
  {
   "cell_type": "code",
   "execution_count": 31,
   "metadata": {},
   "outputs": [],
   "source": [
    "result = pd.read_csv('ex6.csv', converters={'b':lambda x: int(x)*100})"
   ]
  },
  {
   "cell_type": "code",
   "execution_count": 32,
   "metadata": {},
   "outputs": [
    {
     "data": {
      "text/html": [
       "<div>\n",
       "<style scoped>\n",
       "    .dataframe tbody tr th:only-of-type {\n",
       "        vertical-align: middle;\n",
       "    }\n",
       "\n",
       "    .dataframe tbody tr th {\n",
       "        vertical-align: top;\n",
       "    }\n",
       "\n",
       "    .dataframe thead th {\n",
       "        text-align: right;\n",
       "    }\n",
       "</style>\n",
       "<table border=\"1\" class=\"dataframe\">\n",
       "  <thead>\n",
       "    <tr style=\"text-align: right;\">\n",
       "      <th></th>\n",
       "      <th>something</th>\n",
       "      <th>a</th>\n",
       "      <th>b</th>\n",
       "      <th>c</th>\n",
       "      <th>d</th>\n",
       "      <th>message</th>\n",
       "    </tr>\n",
       "  </thead>\n",
       "  <tbody>\n",
       "    <tr>\n",
       "      <th>0</th>\n",
       "      <td>one</td>\n",
       "      <td>1</td>\n",
       "      <td>200</td>\n",
       "      <td>3.0</td>\n",
       "      <td>4</td>\n",
       "      <td>NaN</td>\n",
       "    </tr>\n",
       "    <tr>\n",
       "      <th>1</th>\n",
       "      <td>two</td>\n",
       "      <td>5</td>\n",
       "      <td>600</td>\n",
       "      <td>NaN</td>\n",
       "      <td>8</td>\n",
       "      <td>world</td>\n",
       "    </tr>\n",
       "    <tr>\n",
       "      <th>2</th>\n",
       "      <td>three</td>\n",
       "      <td>9</td>\n",
       "      <td>1000</td>\n",
       "      <td>11.0</td>\n",
       "      <td>12</td>\n",
       "      <td>foo</td>\n",
       "    </tr>\n",
       "  </tbody>\n",
       "</table>\n",
       "</div>"
      ],
      "text/plain": [
       "  something  a     b     c   d message\n",
       "0       one  1   200   3.0   4     NaN\n",
       "1       two  5   600   NaN   8   world\n",
       "2     three  9  1000  11.0  12     foo"
      ]
     },
     "execution_count": 32,
     "metadata": {},
     "output_type": "execute_result"
    }
   ],
   "source": [
    "result"
   ]
  },
  {
   "cell_type": "code",
   "execution_count": 33,
   "metadata": {},
   "outputs": [],
   "source": [
    "result = pd.read_csv('ex6.csv', nrows=1)"
   ]
  },
  {
   "cell_type": "code",
   "execution_count": 34,
   "metadata": {},
   "outputs": [
    {
     "data": {
      "text/html": [
       "<div>\n",
       "<style scoped>\n",
       "    .dataframe tbody tr th:only-of-type {\n",
       "        vertical-align: middle;\n",
       "    }\n",
       "\n",
       "    .dataframe tbody tr th {\n",
       "        vertical-align: top;\n",
       "    }\n",
       "\n",
       "    .dataframe thead th {\n",
       "        text-align: right;\n",
       "    }\n",
       "</style>\n",
       "<table border=\"1\" class=\"dataframe\">\n",
       "  <thead>\n",
       "    <tr style=\"text-align: right;\">\n",
       "      <th></th>\n",
       "      <th>something</th>\n",
       "      <th>a</th>\n",
       "      <th>b</th>\n",
       "      <th>c</th>\n",
       "      <th>d</th>\n",
       "      <th>message</th>\n",
       "    </tr>\n",
       "  </thead>\n",
       "  <tbody>\n",
       "    <tr>\n",
       "      <th>0</th>\n",
       "      <td>one</td>\n",
       "      <td>1</td>\n",
       "      <td>2</td>\n",
       "      <td>3</td>\n",
       "      <td>4</td>\n",
       "      <td>NaN</td>\n",
       "    </tr>\n",
       "  </tbody>\n",
       "</table>\n",
       "</div>"
      ],
      "text/plain": [
       "  something  a  b  c  d  message\n",
       "0       one  1  2  3  4      NaN"
      ]
     },
     "execution_count": 34,
     "metadata": {},
     "output_type": "execute_result"
    }
   ],
   "source": [
    "result"
   ]
  },
  {
   "cell_type": "markdown",
   "metadata": {},
   "source": [
    "## Reading Text Files in Pieces"
   ]
  },
  {
   "cell_type": "markdown",
   "metadata": {},
   "source": [
    "When processing very large files or figuring out the right set of arguments to correctly process a large file, you may only want to read in a small piece of a file or iterate\n",
    "through smaller chunks of the file."
   ]
  },
  {
   "cell_type": "code",
   "execution_count": 35,
   "metadata": {},
   "outputs": [],
   "source": [
    "pd.options.display.max_rows=20"
   ]
  },
  {
   "cell_type": "code",
   "execution_count": 36,
   "metadata": {},
   "outputs": [],
   "source": [
    "result = pd.read_csv('ex7.csv')"
   ]
  },
  {
   "cell_type": "code",
   "execution_count": 37,
   "metadata": {},
   "outputs": [
    {
     "data": {
      "text/html": [
       "<div>\n",
       "<style scoped>\n",
       "    .dataframe tbody tr th:only-of-type {\n",
       "        vertical-align: middle;\n",
       "    }\n",
       "\n",
       "    .dataframe tbody tr th {\n",
       "        vertical-align: top;\n",
       "    }\n",
       "\n",
       "    .dataframe thead th {\n",
       "        text-align: right;\n",
       "    }\n",
       "</style>\n",
       "<table border=\"1\" class=\"dataframe\">\n",
       "  <thead>\n",
       "    <tr style=\"text-align: right;\">\n",
       "      <th></th>\n",
       "      <th>one</th>\n",
       "      <th>two</th>\n",
       "      <th>three</th>\n",
       "      <th>four</th>\n",
       "      <th>key</th>\n",
       "    </tr>\n",
       "  </thead>\n",
       "  <tbody>\n",
       "    <tr>\n",
       "      <th>0</th>\n",
       "      <td>0.467976</td>\n",
       "      <td>-0.038649</td>\n",
       "      <td>-0.295344</td>\n",
       "      <td>-1.824726</td>\n",
       "      <td>L</td>\n",
       "    </tr>\n",
       "    <tr>\n",
       "      <th>1</th>\n",
       "      <td>-0.358893</td>\n",
       "      <td>1.404453</td>\n",
       "      <td>0.704965</td>\n",
       "      <td>-0.200638</td>\n",
       "      <td>B</td>\n",
       "    </tr>\n",
       "    <tr>\n",
       "      <th>2</th>\n",
       "      <td>-0.501840</td>\n",
       "      <td>0.659254</td>\n",
       "      <td>-0.421691</td>\n",
       "      <td>-0.057688</td>\n",
       "      <td>G</td>\n",
       "    </tr>\n",
       "    <tr>\n",
       "      <th>3</th>\n",
       "      <td>0.204886</td>\n",
       "      <td>1.074134</td>\n",
       "      <td>1.388361</td>\n",
       "      <td>-0.982404</td>\n",
       "      <td>R</td>\n",
       "    </tr>\n",
       "    <tr>\n",
       "      <th>4</th>\n",
       "      <td>0.354628</td>\n",
       "      <td>-0.133116</td>\n",
       "      <td>0.283763</td>\n",
       "      <td>-0.837063</td>\n",
       "      <td>Q</td>\n",
       "    </tr>\n",
       "    <tr>\n",
       "      <th>...</th>\n",
       "      <td>...</td>\n",
       "      <td>...</td>\n",
       "      <td>...</td>\n",
       "      <td>...</td>\n",
       "      <td>...</td>\n",
       "    </tr>\n",
       "    <tr>\n",
       "      <th>9995</th>\n",
       "      <td>2.311896</td>\n",
       "      <td>-0.417070</td>\n",
       "      <td>-1.409599</td>\n",
       "      <td>-0.515821</td>\n",
       "      <td>L</td>\n",
       "    </tr>\n",
       "    <tr>\n",
       "      <th>9996</th>\n",
       "      <td>-0.479893</td>\n",
       "      <td>-0.650419</td>\n",
       "      <td>0.745152</td>\n",
       "      <td>-0.646038</td>\n",
       "      <td>E</td>\n",
       "    </tr>\n",
       "    <tr>\n",
       "      <th>9997</th>\n",
       "      <td>0.523331</td>\n",
       "      <td>0.787112</td>\n",
       "      <td>0.486066</td>\n",
       "      <td>1.093156</td>\n",
       "      <td>K</td>\n",
       "    </tr>\n",
       "    <tr>\n",
       "      <th>9998</th>\n",
       "      <td>-0.362559</td>\n",
       "      <td>0.598894</td>\n",
       "      <td>-1.843201</td>\n",
       "      <td>0.887292</td>\n",
       "      <td>G</td>\n",
       "    </tr>\n",
       "    <tr>\n",
       "      <th>9999</th>\n",
       "      <td>-0.096376</td>\n",
       "      <td>-1.012999</td>\n",
       "      <td>-0.657431</td>\n",
       "      <td>-0.573315</td>\n",
       "      <td>0</td>\n",
       "    </tr>\n",
       "  </tbody>\n",
       "</table>\n",
       "<p>10000 rows × 5 columns</p>\n",
       "</div>"
      ],
      "text/plain": [
       "           one       two     three      four key\n",
       "0     0.467976 -0.038649 -0.295344 -1.824726   L\n",
       "1    -0.358893  1.404453  0.704965 -0.200638   B\n",
       "2    -0.501840  0.659254 -0.421691 -0.057688   G\n",
       "3     0.204886  1.074134  1.388361 -0.982404   R\n",
       "4     0.354628 -0.133116  0.283763 -0.837063   Q\n",
       "...        ...       ...       ...       ...  ..\n",
       "9995  2.311896 -0.417070 -1.409599 -0.515821   L\n",
       "9996 -0.479893 -0.650419  0.745152 -0.646038   E\n",
       "9997  0.523331  0.787112  0.486066  1.093156   K\n",
       "9998 -0.362559  0.598894 -1.843201  0.887292   G\n",
       "9999 -0.096376 -1.012999 -0.657431 -0.573315   0\n",
       "\n",
       "[10000 rows x 5 columns]"
      ]
     },
     "execution_count": 37,
     "metadata": {},
     "output_type": "execute_result"
    }
   ],
   "source": [
    "result"
   ]
  },
  {
   "cell_type": "code",
   "execution_count": 38,
   "metadata": {},
   "outputs": [
    {
     "data": {
      "text/html": [
       "<div>\n",
       "<style scoped>\n",
       "    .dataframe tbody tr th:only-of-type {\n",
       "        vertical-align: middle;\n",
       "    }\n",
       "\n",
       "    .dataframe tbody tr th {\n",
       "        vertical-align: top;\n",
       "    }\n",
       "\n",
       "    .dataframe thead th {\n",
       "        text-align: right;\n",
       "    }\n",
       "</style>\n",
       "<table border=\"1\" class=\"dataframe\">\n",
       "  <thead>\n",
       "    <tr style=\"text-align: right;\">\n",
       "      <th></th>\n",
       "      <th>one</th>\n",
       "      <th>two</th>\n",
       "      <th>three</th>\n",
       "      <th>four</th>\n",
       "      <th>key</th>\n",
       "    </tr>\n",
       "  </thead>\n",
       "  <tbody>\n",
       "    <tr>\n",
       "      <th>0</th>\n",
       "      <td>0.467976</td>\n",
       "      <td>-0.038649</td>\n",
       "      <td>-0.295344</td>\n",
       "      <td>-1.824726</td>\n",
       "      <td>L</td>\n",
       "    </tr>\n",
       "    <tr>\n",
       "      <th>1</th>\n",
       "      <td>-0.358893</td>\n",
       "      <td>1.404453</td>\n",
       "      <td>0.704965</td>\n",
       "      <td>-0.200638</td>\n",
       "      <td>B</td>\n",
       "    </tr>\n",
       "    <tr>\n",
       "      <th>2</th>\n",
       "      <td>-0.501840</td>\n",
       "      <td>0.659254</td>\n",
       "      <td>-0.421691</td>\n",
       "      <td>-0.057688</td>\n",
       "      <td>G</td>\n",
       "    </tr>\n",
       "    <tr>\n",
       "      <th>3</th>\n",
       "      <td>0.204886</td>\n",
       "      <td>1.074134</td>\n",
       "      <td>1.388361</td>\n",
       "      <td>-0.982404</td>\n",
       "      <td>R</td>\n",
       "    </tr>\n",
       "    <tr>\n",
       "      <th>4</th>\n",
       "      <td>0.354628</td>\n",
       "      <td>-0.133116</td>\n",
       "      <td>0.283763</td>\n",
       "      <td>-0.837063</td>\n",
       "      <td>Q</td>\n",
       "    </tr>\n",
       "    <tr>\n",
       "      <th>5</th>\n",
       "      <td>1.817480</td>\n",
       "      <td>0.742273</td>\n",
       "      <td>0.419395</td>\n",
       "      <td>-2.251035</td>\n",
       "      <td>Q</td>\n",
       "    </tr>\n",
       "    <tr>\n",
       "      <th>6</th>\n",
       "      <td>-0.776764</td>\n",
       "      <td>0.935518</td>\n",
       "      <td>-0.332872</td>\n",
       "      <td>-1.875641</td>\n",
       "      <td>U</td>\n",
       "    </tr>\n",
       "    <tr>\n",
       "      <th>7</th>\n",
       "      <td>-0.913135</td>\n",
       "      <td>1.530624</td>\n",
       "      <td>-0.572657</td>\n",
       "      <td>0.477252</td>\n",
       "      <td>K</td>\n",
       "    </tr>\n",
       "    <tr>\n",
       "      <th>8</th>\n",
       "      <td>0.358480</td>\n",
       "      <td>-0.497572</td>\n",
       "      <td>-0.367016</td>\n",
       "      <td>0.507702</td>\n",
       "      <td>S</td>\n",
       "    </tr>\n",
       "  </tbody>\n",
       "</table>\n",
       "</div>"
      ],
      "text/plain": [
       "        one       two     three      four key\n",
       "0  0.467976 -0.038649 -0.295344 -1.824726   L\n",
       "1 -0.358893  1.404453  0.704965 -0.200638   B\n",
       "2 -0.501840  0.659254 -0.421691 -0.057688   G\n",
       "3  0.204886  1.074134  1.388361 -0.982404   R\n",
       "4  0.354628 -0.133116  0.283763 -0.837063   Q\n",
       "5  1.817480  0.742273  0.419395 -2.251035   Q\n",
       "6 -0.776764  0.935518 -0.332872 -1.875641   U\n",
       "7 -0.913135  1.530624 -0.572657  0.477252   K\n",
       "8  0.358480 -0.497572 -0.367016  0.507702   S"
      ]
     },
     "execution_count": 38,
     "metadata": {},
     "output_type": "execute_result"
    }
   ],
   "source": [
    "pd.read_csv('ex7.csv', nrows=9)"
   ]
  },
  {
   "cell_type": "code",
   "execution_count": 39,
   "metadata": {},
   "outputs": [],
   "source": [
    "chunker = pd.read_csv('ex7.csv', chunksize=1000)"
   ]
  },
  {
   "cell_type": "code",
   "execution_count": 40,
   "metadata": {},
   "outputs": [
    {
     "data": {
      "text/plain": [
       "<pandas.io.parsers.TextFileReader at 0x1a2b908ed48>"
      ]
     },
     "execution_count": 40,
     "metadata": {},
     "output_type": "execute_result"
    }
   ],
   "source": [
    "chunker"
   ]
  },
  {
   "cell_type": "code",
   "execution_count": 41,
   "metadata": {},
   "outputs": [
    {
     "name": "stderr",
     "output_type": "stream",
     "text": [
      "C:\\Users\\ABC\\anaconda3\\lib\\site-packages\\ipykernel_launcher.py:1: DeprecationWarning: The default dtype for empty Series will be 'object' instead of 'float64' in a future version. Specify a dtype explicitly to silence this warning.\n",
      "  \"\"\"Entry point for launching an IPython kernel.\n"
     ]
    },
    {
     "data": {
      "text/plain": [
       "Series([], dtype: float64)"
      ]
     },
     "execution_count": 41,
     "metadata": {},
     "output_type": "execute_result"
    }
   ],
   "source": [
    "tot=pd.Series([])\n",
    "tot"
   ]
  },
  {
   "cell_type": "code",
   "execution_count": 42,
   "metadata": {},
   "outputs": [],
   "source": [
    "for piece in chunker:\n",
    "    tot = tot.add(piece['key'].value_counts(), fill_value=0)"
   ]
  },
  {
   "cell_type": "code",
   "execution_count": 43,
   "metadata": {},
   "outputs": [],
   "source": [
    "tot = tot.sort_values(ascending=False)"
   ]
  },
  {
   "cell_type": "code",
   "execution_count": 44,
   "metadata": {},
   "outputs": [
    {
     "data": {
      "text/plain": [
       "E    368.0\n",
       "X    364.0\n",
       "L    346.0\n",
       "O    343.0\n",
       "Q    340.0\n",
       "M    338.0\n",
       "J    337.0\n",
       "F    335.0\n",
       "K    334.0\n",
       "H    330.0\n",
       "dtype: float64"
      ]
     },
     "execution_count": 44,
     "metadata": {},
     "output_type": "execute_result"
    }
   ],
   "source": [
    "tot[:10]"
   ]
  },
  {
   "cell_type": "code",
   "execution_count": 45,
   "metadata": {
    "scrolled": true
   },
   "outputs": [
    {
     "data": {
      "text/plain": [
       "E    368.0\n",
       "X    364.0\n",
       "L    346.0\n",
       "O    343.0\n",
       "Q    340.0\n",
       "     ...  \n",
       "5    157.0\n",
       "2    152.0\n",
       "0    151.0\n",
       "9    150.0\n",
       "1    146.0\n",
       "Length: 36, dtype: float64"
      ]
     },
     "execution_count": 45,
     "metadata": {},
     "output_type": "execute_result"
    }
   ],
   "source": [
    "tot"
   ]
  },
  {
   "cell_type": "markdown",
   "metadata": {},
   "source": [
    "## Writing Data to Text Format"
   ]
  },
  {
   "cell_type": "code",
   "execution_count": 46,
   "metadata": {},
   "outputs": [],
   "source": [
    "result = pd.read_csv('ex6.csv')"
   ]
  },
  {
   "cell_type": "code",
   "execution_count": 47,
   "metadata": {},
   "outputs": [
    {
     "data": {
      "text/html": [
       "<div>\n",
       "<style scoped>\n",
       "    .dataframe tbody tr th:only-of-type {\n",
       "        vertical-align: middle;\n",
       "    }\n",
       "\n",
       "    .dataframe tbody tr th {\n",
       "        vertical-align: top;\n",
       "    }\n",
       "\n",
       "    .dataframe thead th {\n",
       "        text-align: right;\n",
       "    }\n",
       "</style>\n",
       "<table border=\"1\" class=\"dataframe\">\n",
       "  <thead>\n",
       "    <tr style=\"text-align: right;\">\n",
       "      <th></th>\n",
       "      <th>something</th>\n",
       "      <th>a</th>\n",
       "      <th>b</th>\n",
       "      <th>c</th>\n",
       "      <th>d</th>\n",
       "      <th>message</th>\n",
       "    </tr>\n",
       "  </thead>\n",
       "  <tbody>\n",
       "    <tr>\n",
       "      <th>0</th>\n",
       "      <td>one</td>\n",
       "      <td>1</td>\n",
       "      <td>2</td>\n",
       "      <td>3.0</td>\n",
       "      <td>4</td>\n",
       "      <td>NaN</td>\n",
       "    </tr>\n",
       "    <tr>\n",
       "      <th>1</th>\n",
       "      <td>two</td>\n",
       "      <td>5</td>\n",
       "      <td>6</td>\n",
       "      <td>NaN</td>\n",
       "      <td>8</td>\n",
       "      <td>world</td>\n",
       "    </tr>\n",
       "    <tr>\n",
       "      <th>2</th>\n",
       "      <td>three</td>\n",
       "      <td>9</td>\n",
       "      <td>10</td>\n",
       "      <td>11.0</td>\n",
       "      <td>12</td>\n",
       "      <td>foo</td>\n",
       "    </tr>\n",
       "  </tbody>\n",
       "</table>\n",
       "</div>"
      ],
      "text/plain": [
       "  something  a   b     c   d message\n",
       "0       one  1   2   3.0   4     NaN\n",
       "1       two  5   6   NaN   8   world\n",
       "2     three  9  10  11.0  12     foo"
      ]
     },
     "execution_count": 47,
     "metadata": {},
     "output_type": "execute_result"
    }
   ],
   "source": [
    "result"
   ]
  },
  {
   "cell_type": "code",
   "execution_count": 48,
   "metadata": {},
   "outputs": [],
   "source": [
    "result.to_csv('out.csv')"
   ]
  },
  {
   "cell_type": "code",
   "execution_count": 49,
   "metadata": {},
   "outputs": [],
   "source": [
    "import sys"
   ]
  },
  {
   "cell_type": "code",
   "execution_count": 50,
   "metadata": {},
   "outputs": [
    {
     "name": "stdout",
     "output_type": "stream",
     "text": [
      "|something|a|b|c|d|message\r\n",
      "0|one|1|2|3.0|4|\r\n",
      "1|two|5|6||8|world\r\n",
      "2|three|9|10|11.0|12|foo\r\n"
     ]
    }
   ],
   "source": [
    "result.to_csv(sys.stdout, sep='|')"
   ]
  },
  {
   "cell_type": "code",
   "execution_count": 51,
   "metadata": {},
   "outputs": [
    {
     "name": "stdout",
     "output_type": "stream",
     "text": [
      "|something|a|b|c|d|message\r\n",
      "0|one|1|2|3.0|4|NaN\r\n",
      "1|two|5|6|NaN|8|world\r\n",
      "2|three|9|10|11.0|12|foo\r\n"
     ]
    }
   ],
   "source": [
    "result.to_csv(sys.stdout, sep='|', na_rep='NaN')"
   ]
  },
  {
   "cell_type": "code",
   "execution_count": 52,
   "metadata": {},
   "outputs": [
    {
     "data": {
      "text/html": [
       "<div>\n",
       "<style scoped>\n",
       "    .dataframe tbody tr th:only-of-type {\n",
       "        vertical-align: middle;\n",
       "    }\n",
       "\n",
       "    .dataframe tbody tr th {\n",
       "        vertical-align: top;\n",
       "    }\n",
       "\n",
       "    .dataframe thead th {\n",
       "        text-align: right;\n",
       "    }\n",
       "</style>\n",
       "<table border=\"1\" class=\"dataframe\">\n",
       "  <thead>\n",
       "    <tr style=\"text-align: right;\">\n",
       "      <th></th>\n",
       "      <th>something</th>\n",
       "      <th>a</th>\n",
       "      <th>b</th>\n",
       "      <th>c</th>\n",
       "      <th>d</th>\n",
       "      <th>message</th>\n",
       "    </tr>\n",
       "  </thead>\n",
       "  <tbody>\n",
       "    <tr>\n",
       "      <th>0</th>\n",
       "      <td>one</td>\n",
       "      <td>1</td>\n",
       "      <td>2</td>\n",
       "      <td>3.0</td>\n",
       "      <td>4</td>\n",
       "      <td>NaN</td>\n",
       "    </tr>\n",
       "    <tr>\n",
       "      <th>1</th>\n",
       "      <td>two</td>\n",
       "      <td>5</td>\n",
       "      <td>6</td>\n",
       "      <td>NaN</td>\n",
       "      <td>8</td>\n",
       "      <td>world</td>\n",
       "    </tr>\n",
       "    <tr>\n",
       "      <th>2</th>\n",
       "      <td>three</td>\n",
       "      <td>9</td>\n",
       "      <td>10</td>\n",
       "      <td>11.0</td>\n",
       "      <td>12</td>\n",
       "      <td>foo</td>\n",
       "    </tr>\n",
       "  </tbody>\n",
       "</table>\n",
       "</div>"
      ],
      "text/plain": [
       "  something  a   b     c   d message\n",
       "0       one  1   2   3.0   4     NaN\n",
       "1       two  5   6   NaN   8   world\n",
       "2     three  9  10  11.0  12     foo"
      ]
     },
     "execution_count": 52,
     "metadata": {},
     "output_type": "execute_result"
    }
   ],
   "source": [
    "result"
   ]
  },
  {
   "cell_type": "code",
   "execution_count": 53,
   "metadata": {},
   "outputs": [],
   "source": [
    "result.to_csv('out2.csv', header=False, index=False, na_rep='NaN')"
   ]
  },
  {
   "cell_type": "code",
   "execution_count": 54,
   "metadata": {},
   "outputs": [
    {
     "name": "stdout",
     "output_type": "stream",
     "text": [
      "one,1,2,3.0,4,NaN\r\n",
      "two,5,6,NaN,8,world\r\n",
      "three,9,10,11.0,12,foo\r\n"
     ]
    }
   ],
   "source": [
    "result.to_csv(sys.stdout, header=False, index=False, na_rep='NaN')"
   ]
  },
  {
   "cell_type": "code",
   "execution_count": 55,
   "metadata": {},
   "outputs": [],
   "source": [
    "dates = pd.date_range('1/1/2000', periods=10)"
   ]
  },
  {
   "cell_type": "code",
   "execution_count": 56,
   "metadata": {},
   "outputs": [],
   "source": [
    "ser = pd.Series(data=np.arange(10), index=dates)"
   ]
  },
  {
   "cell_type": "code",
   "execution_count": 57,
   "metadata": {},
   "outputs": [
    {
     "data": {
      "text/plain": [
       "2000-01-01    0\n",
       "2000-01-02    1\n",
       "2000-01-03    2\n",
       "2000-01-04    3\n",
       "2000-01-05    4\n",
       "2000-01-06    5\n",
       "2000-01-07    6\n",
       "2000-01-08    7\n",
       "2000-01-09    8\n",
       "2000-01-10    9\n",
       "Freq: D, dtype: int32"
      ]
     },
     "execution_count": 57,
     "metadata": {},
     "output_type": "execute_result"
    }
   ],
   "source": [
    "ser"
   ]
  },
  {
   "cell_type": "code",
   "execution_count": 58,
   "metadata": {},
   "outputs": [],
   "source": [
    "ser.to_csv('out3.csv', header=False)"
   ]
  },
  {
   "cell_type": "code",
   "execution_count": 59,
   "metadata": {},
   "outputs": [
    {
     "name": "stdout",
     "output_type": "stream",
     "text": [
      "2000-01-01,0\r\n",
      "2000-01-02,1\r\n",
      "2000-01-03,2\r\n",
      "2000-01-04,3\r\n",
      "2000-01-05,4\r\n",
      "2000-01-06,5\r\n",
      "2000-01-07,6\r\n",
      "2000-01-08,7\r\n",
      "2000-01-09,8\r\n",
      "2000-01-10,9\r\n"
     ]
    }
   ],
   "source": [
    "ser.to_csv(sys.stdout, header=False)"
   ]
  },
  {
   "cell_type": "markdown",
   "metadata": {},
   "source": [
    "## Working with Delimited Formats"
   ]
  },
  {
   "cell_type": "code",
   "execution_count": 60,
   "metadata": {},
   "outputs": [],
   "source": [
    "import csv"
   ]
  },
  {
   "cell_type": "code",
   "execution_count": 61,
   "metadata": {},
   "outputs": [],
   "source": [
    "f = open('ex8.csv')"
   ]
  },
  {
   "cell_type": "code",
   "execution_count": 62,
   "metadata": {},
   "outputs": [
    {
     "data": {
      "text/plain": [
       "<_io.TextIOWrapper name='ex8.csv' mode='r' encoding='cp1252'>"
      ]
     },
     "execution_count": 62,
     "metadata": {},
     "output_type": "execute_result"
    }
   ],
   "source": [
    "f"
   ]
  },
  {
   "cell_type": "code",
   "execution_count": 63,
   "metadata": {},
   "outputs": [],
   "source": [
    "reader = csv.reader(f)"
   ]
  },
  {
   "cell_type": "code",
   "execution_count": 64,
   "metadata": {},
   "outputs": [
    {
     "data": {
      "text/plain": [
       "<_csv.reader at 0x1a2b90a5f98>"
      ]
     },
     "execution_count": 64,
     "metadata": {},
     "output_type": "execute_result"
    }
   ],
   "source": [
    "reader"
   ]
  },
  {
   "cell_type": "code",
   "execution_count": 65,
   "metadata": {},
   "outputs": [],
   "source": [
    "with open('ex8.csv') as f:\n",
    "    lines = list(csv.reader(f))"
   ]
  },
  {
   "cell_type": "code",
   "execution_count": 66,
   "metadata": {},
   "outputs": [
    {
     "data": {
      "text/plain": [
       "[['one;two;three'], ['1;2;3'], ['4;5;6'], ['7;8;9']]"
      ]
     },
     "execution_count": 66,
     "metadata": {},
     "output_type": "execute_result"
    }
   ],
   "source": [
    "lines"
   ]
  },
  {
   "cell_type": "code",
   "execution_count": 67,
   "metadata": {},
   "outputs": [],
   "source": [
    "header, values = lines[0], lines[1:]"
   ]
  },
  {
   "cell_type": "code",
   "execution_count": 68,
   "metadata": {
    "scrolled": true
   },
   "outputs": [
    {
     "data": {
      "text/plain": [
       "['one;two;three']"
      ]
     },
     "execution_count": 68,
     "metadata": {},
     "output_type": "execute_result"
    }
   ],
   "source": [
    "header"
   ]
  },
  {
   "cell_type": "code",
   "execution_count": 69,
   "metadata": {},
   "outputs": [
    {
     "data": {
      "text/plain": [
       "[['1;2;3'], ['4;5;6'], ['7;8;9']]"
      ]
     },
     "execution_count": 69,
     "metadata": {},
     "output_type": "execute_result"
    }
   ],
   "source": [
    "values"
   ]
  },
  {
   "cell_type": "code",
   "execution_count": 70,
   "metadata": {},
   "outputs": [],
   "source": [
    "data_dict = {h: v for h, v in zip(header, zip(*values))}"
   ]
  },
  {
   "cell_type": "code",
   "execution_count": 71,
   "metadata": {
    "scrolled": true
   },
   "outputs": [
    {
     "data": {
      "text/plain": [
       "{'one;two;three': ('1;2;3', '4;5;6', '7;8;9')}"
      ]
     },
     "execution_count": 71,
     "metadata": {},
     "output_type": "execute_result"
    }
   ],
   "source": [
    "data_dict"
   ]
  },
  {
   "cell_type": "code",
   "execution_count": 72,
   "metadata": {},
   "outputs": [],
   "source": [
    "f = open('ex8.csv')"
   ]
  },
  {
   "cell_type": "code",
   "execution_count": 73,
   "metadata": {
    "scrolled": false
   },
   "outputs": [],
   "source": [
    "class my_dialect(csv.Dialect):\n",
    "    lineterminator = '\\n'\n",
    "    delimiter = ';'\n",
    "    quotechar = '\"'\n",
    "    quoting = csv.QUOTE_MINIMAL\n",
    "reader = csv.reader(f, dialect=my_dialect)"
   ]
  },
  {
   "cell_type": "code",
   "execution_count": 74,
   "metadata": {},
   "outputs": [],
   "source": [
    "reader = csv.reader(f, delimiter='|')"
   ]
  },
  {
   "cell_type": "markdown",
   "metadata": {},
   "source": [
    "Table 6-3. CSV dialect options"
   ]
  },
  {
   "cell_type": "code",
   "execution_count": 75,
   "metadata": {},
   "outputs": [],
   "source": [
    "with open('ex8.csv', 'w') as f:\n",
    "    writer = csv.writer(f, dialect=my_dialect)\n",
    "    writer.writerow(('one', 'two', 'three'))\n",
    "    writer.writerow(('1', '2', '3'))\n",
    "    writer.writerow(('4', '5', '6'))\n",
    "    writer.writerow(('7', '8', '9'))"
   ]
  },
  {
   "cell_type": "markdown",
   "metadata": {},
   "source": [
    "## JSON Data"
   ]
  },
  {
   "cell_type": "code",
   "execution_count": 76,
   "metadata": {},
   "outputs": [],
   "source": [
    "#JSON -> Java Script Object Notation\n",
    "obj = \"\"\"\n",
    "{\"name\": \"Wes\",\n",
    " \"places_lived\": [\"United States\", \"Spain\", \"Germany\"],\n",
    " \"pet\": null,\n",
    " \"siblings\": [{\"name\": \"Scott\", \"age\": 30, \"pets\": [\"Zeus\", \"Zuko\"]},\n",
    " {\"name\": \"Katie\", \"age\": 38,\n",
    " \"pets\": [\"Sixes\", \"Stache\", \"Cisco\"]}]\n",
    "}\n",
    "\"\"\""
   ]
  },
  {
   "cell_type": "code",
   "execution_count": 77,
   "metadata": {},
   "outputs": [
    {
     "data": {
      "text/plain": [
       "'\\n{\"name\": \"Wes\",\\n \"places_lived\": [\"United States\", \"Spain\", \"Germany\"],\\n \"pet\": null,\\n \"siblings\": [{\"name\": \"Scott\", \"age\": 30, \"pets\": [\"Zeus\", \"Zuko\"]},\\n {\"name\": \"Katie\", \"age\": 38,\\n \"pets\": [\"Sixes\", \"Stache\", \"Cisco\"]}]\\n}\\n'"
      ]
     },
     "execution_count": 77,
     "metadata": {},
     "output_type": "execute_result"
    }
   ],
   "source": [
    "obj"
   ]
  },
  {
   "cell_type": "code",
   "execution_count": 78,
   "metadata": {},
   "outputs": [],
   "source": [
    "import json"
   ]
  },
  {
   "cell_type": "code",
   "execution_count": 79,
   "metadata": {},
   "outputs": [],
   "source": [
    "result = json.loads(obj) #Loading JSON data to Python Dict format"
   ]
  },
  {
   "cell_type": "code",
   "execution_count": 80,
   "metadata": {},
   "outputs": [
    {
     "data": {
      "text/plain": [
       "{'name': 'Wes',\n",
       " 'places_lived': ['United States', 'Spain', 'Germany'],\n",
       " 'pet': None,\n",
       " 'siblings': [{'name': 'Scott', 'age': 30, 'pets': ['Zeus', 'Zuko']},\n",
       "  {'name': 'Katie', 'age': 38, 'pets': ['Sixes', 'Stache', 'Cisco']}]}"
      ]
     },
     "execution_count": 80,
     "metadata": {},
     "output_type": "execute_result"
    }
   ],
   "source": [
    "result"
   ]
  },
  {
   "cell_type": "code",
   "execution_count": 81,
   "metadata": {},
   "outputs": [],
   "source": [
    "asjson = json.dumps(result) #Loading Python Dict to JSON format"
   ]
  },
  {
   "cell_type": "code",
   "execution_count": 82,
   "metadata": {},
   "outputs": [
    {
     "data": {
      "text/plain": [
       "'{\"name\": \"Wes\", \"places_lived\": [\"United States\", \"Spain\", \"Germany\"], \"pet\": null, \"siblings\": [{\"name\": \"Scott\", \"age\": 30, \"pets\": [\"Zeus\", \"Zuko\"]}, {\"name\": \"Katie\", \"age\": 38, \"pets\": [\"Sixes\", \"Stache\", \"Cisco\"]}]}'"
      ]
     },
     "execution_count": 82,
     "metadata": {},
     "output_type": "execute_result"
    }
   ],
   "source": [
    "asjson"
   ]
  },
  {
   "cell_type": "code",
   "execution_count": 83,
   "metadata": {},
   "outputs": [
    {
     "data": {
      "text/plain": [
       "['[{\"a\": 1, \"b\": 2, \"c\": 3},\\n',\n",
       " ' {\"a\": 4, \"b\": 5, \"c\": 6},\\n',\n",
       " ' {\"a\": 7, \"b\": 8, \"c\": 9}]\\n']"
      ]
     },
     "execution_count": 83,
     "metadata": {},
     "output_type": "execute_result"
    }
   ],
   "source": [
    "list(open('example.json'))"
   ]
  },
  {
   "cell_type": "code",
   "execution_count": 84,
   "metadata": {},
   "outputs": [],
   "source": [
    "data = pd.read_json('example.json')"
   ]
  },
  {
   "cell_type": "code",
   "execution_count": 85,
   "metadata": {},
   "outputs": [
    {
     "data": {
      "text/html": [
       "<div>\n",
       "<style scoped>\n",
       "    .dataframe tbody tr th:only-of-type {\n",
       "        vertical-align: middle;\n",
       "    }\n",
       "\n",
       "    .dataframe tbody tr th {\n",
       "        vertical-align: top;\n",
       "    }\n",
       "\n",
       "    .dataframe thead th {\n",
       "        text-align: right;\n",
       "    }\n",
       "</style>\n",
       "<table border=\"1\" class=\"dataframe\">\n",
       "  <thead>\n",
       "    <tr style=\"text-align: right;\">\n",
       "      <th></th>\n",
       "      <th>a</th>\n",
       "      <th>b</th>\n",
       "      <th>c</th>\n",
       "    </tr>\n",
       "  </thead>\n",
       "  <tbody>\n",
       "    <tr>\n",
       "      <th>0</th>\n",
       "      <td>1</td>\n",
       "      <td>2</td>\n",
       "      <td>3</td>\n",
       "    </tr>\n",
       "    <tr>\n",
       "      <th>1</th>\n",
       "      <td>4</td>\n",
       "      <td>5</td>\n",
       "      <td>6</td>\n",
       "    </tr>\n",
       "    <tr>\n",
       "      <th>2</th>\n",
       "      <td>7</td>\n",
       "      <td>8</td>\n",
       "      <td>9</td>\n",
       "    </tr>\n",
       "  </tbody>\n",
       "</table>\n",
       "</div>"
      ],
      "text/plain": [
       "   a  b  c\n",
       "0  1  2  3\n",
       "1  4  5  6\n",
       "2  7  8  9"
      ]
     },
     "execution_count": 85,
     "metadata": {},
     "output_type": "execute_result"
    }
   ],
   "source": [
    "data"
   ]
  },
  {
   "cell_type": "code",
   "execution_count": 86,
   "metadata": {},
   "outputs": [
    {
     "name": "stdout",
     "output_type": "stream",
     "text": [
      "{\"a\":{\"0\":1,\"1\":4,\"2\":7},\"b\":{\"0\":2,\"1\":5,\"2\":8},\"c\":{\"0\":3,\"1\":6,\"2\":9}}\n"
     ]
    }
   ],
   "source": [
    "print(data.to_json())"
   ]
  },
  {
   "cell_type": "code",
   "execution_count": 87,
   "metadata": {},
   "outputs": [
    {
     "name": "stdout",
     "output_type": "stream",
     "text": [
      "[{\"a\":1,\"b\":2,\"c\":3},{\"a\":4,\"b\":5,\"c\":6},{\"a\":7,\"b\":8,\"c\":9}]\n"
     ]
    }
   ],
   "source": [
    "print(data.to_json(orient='records'))"
   ]
  },
  {
   "cell_type": "markdown",
   "metadata": {},
   "source": [
    "## XML and HTML: Web Scraping"
   ]
  },
  {
   "cell_type": "code",
   "execution_count": 88,
   "metadata": {},
   "outputs": [],
   "source": [
    "tables = pd.read_html('https://www.fdic.gov/bank/individual/failed/banklist.html')"
   ]
  },
  {
   "cell_type": "code",
   "execution_count": 89,
   "metadata": {},
   "outputs": [
    {
     "data": {
      "text/plain": [
       "1"
      ]
     },
     "execution_count": 89,
     "metadata": {},
     "output_type": "execute_result"
    }
   ],
   "source": [
    "len(tables)"
   ]
  },
  {
   "cell_type": "code",
   "execution_count": 90,
   "metadata": {},
   "outputs": [],
   "source": [
    "failures = tables[0]"
   ]
  },
  {
   "cell_type": "code",
   "execution_count": 91,
   "metadata": {},
   "outputs": [
    {
     "data": {
      "text/html": [
       "<div>\n",
       "<style scoped>\n",
       "    .dataframe tbody tr th:only-of-type {\n",
       "        vertical-align: middle;\n",
       "    }\n",
       "\n",
       "    .dataframe tbody tr th {\n",
       "        vertical-align: top;\n",
       "    }\n",
       "\n",
       "    .dataframe thead th {\n",
       "        text-align: right;\n",
       "    }\n",
       "</style>\n",
       "<table border=\"1\" class=\"dataframe\">\n",
       "  <thead>\n",
       "    <tr style=\"text-align: right;\">\n",
       "      <th></th>\n",
       "      <th>Bank Name</th>\n",
       "      <th>City</th>\n",
       "      <th>ST</th>\n",
       "      <th>CERT</th>\n",
       "      <th>Acquiring Institution</th>\n",
       "      <th>Closing Date</th>\n",
       "    </tr>\n",
       "  </thead>\n",
       "  <tbody>\n",
       "    <tr>\n",
       "      <th>0</th>\n",
       "      <td>The First State Bank</td>\n",
       "      <td>Barboursville</td>\n",
       "      <td>WV</td>\n",
       "      <td>14361</td>\n",
       "      <td>MVB Bank, Inc.</td>\n",
       "      <td>April 3, 2020</td>\n",
       "    </tr>\n",
       "    <tr>\n",
       "      <th>1</th>\n",
       "      <td>Ericson State Bank</td>\n",
       "      <td>Ericson</td>\n",
       "      <td>NE</td>\n",
       "      <td>18265</td>\n",
       "      <td>Farmers and Merchants Bank</td>\n",
       "      <td>February 14, 2020</td>\n",
       "    </tr>\n",
       "    <tr>\n",
       "      <th>2</th>\n",
       "      <td>City National Bank of New Jersey</td>\n",
       "      <td>Newark</td>\n",
       "      <td>NJ</td>\n",
       "      <td>21111</td>\n",
       "      <td>Industrial Bank</td>\n",
       "      <td>November 1, 2019</td>\n",
       "    </tr>\n",
       "    <tr>\n",
       "      <th>3</th>\n",
       "      <td>Resolute Bank</td>\n",
       "      <td>Maumee</td>\n",
       "      <td>OH</td>\n",
       "      <td>58317</td>\n",
       "      <td>Buckeye State Bank</td>\n",
       "      <td>October 25, 2019</td>\n",
       "    </tr>\n",
       "    <tr>\n",
       "      <th>4</th>\n",
       "      <td>Louisa Community Bank</td>\n",
       "      <td>Louisa</td>\n",
       "      <td>KY</td>\n",
       "      <td>58112</td>\n",
       "      <td>Kentucky Farmers Bank Corporation</td>\n",
       "      <td>October 25, 2019</td>\n",
       "    </tr>\n",
       "  </tbody>\n",
       "</table>\n",
       "</div>"
      ],
      "text/plain": [
       "                          Bank Name           City  ST   CERT  \\\n",
       "0              The First State Bank  Barboursville  WV  14361   \n",
       "1                Ericson State Bank        Ericson  NE  18265   \n",
       "2  City National Bank of New Jersey         Newark  NJ  21111   \n",
       "3                     Resolute Bank         Maumee  OH  58317   \n",
       "4             Louisa Community Bank         Louisa  KY  58112   \n",
       "\n",
       "               Acquiring Institution       Closing Date  \n",
       "0                     MVB Bank, Inc.      April 3, 2020  \n",
       "1         Farmers and Merchants Bank  February 14, 2020  \n",
       "2                    Industrial Bank   November 1, 2019  \n",
       "3                 Buckeye State Bank   October 25, 2019  \n",
       "4  Kentucky Farmers Bank Corporation   October 25, 2019  "
      ]
     },
     "execution_count": 91,
     "metadata": {},
     "output_type": "execute_result"
    }
   ],
   "source": [
    "failures.head()"
   ]
  },
  {
   "cell_type": "code",
   "execution_count": 92,
   "metadata": {},
   "outputs": [
    {
     "data": {
      "text/plain": [
       "Index(['Bank Name', 'City', 'ST', 'CERT', 'Acquiring Institution',\n",
       "       'Closing Date'],\n",
       "      dtype='object')"
      ]
     },
     "execution_count": 92,
     "metadata": {},
     "output_type": "execute_result"
    }
   ],
   "source": [
    "failures.columns"
   ]
  },
  {
   "cell_type": "code",
   "execution_count": 93,
   "metadata": {},
   "outputs": [
    {
     "data": {
      "text/plain": [
       "(561, 6)"
      ]
     },
     "execution_count": 93,
     "metadata": {},
     "output_type": "execute_result"
    }
   ],
   "source": [
    "failures.shape"
   ]
  },
  {
   "cell_type": "code",
   "execution_count": 94,
   "metadata": {},
   "outputs": [],
   "source": [
    "close_timestamp = pd.to_datetime(failures['Closing Date'])"
   ]
  },
  {
   "cell_type": "code",
   "execution_count": 95,
   "metadata": {
    "scrolled": true
   },
   "outputs": [
    {
     "data": {
      "text/plain": [
       "0     2020-04-03\n",
       "1     2020-02-14\n",
       "2     2019-11-01\n",
       "3     2019-10-25\n",
       "4     2019-10-25\n",
       "         ...    \n",
       "556   2001-07-27\n",
       "557   2001-05-03\n",
       "558   2001-02-02\n",
       "559   2000-12-14\n",
       "560   2000-10-13\n",
       "Name: Closing Date, Length: 561, dtype: datetime64[ns]"
      ]
     },
     "execution_count": 95,
     "metadata": {},
     "output_type": "execute_result"
    }
   ],
   "source": [
    "close_timestamp"
   ]
  },
  {
   "cell_type": "code",
   "execution_count": 96,
   "metadata": {
    "scrolled": true
   },
   "outputs": [
    {
     "data": {
      "text/plain": [
       "2010    157\n",
       "2009    140\n",
       "2011     92\n",
       "2012     51\n",
       "2008     25\n",
       "2013     24\n",
       "2014     18\n",
       "2002     11\n",
       "2017      8\n",
       "2015      8\n",
       "2016      5\n",
       "2001      4\n",
       "2019      4\n",
       "2004      4\n",
       "2007      3\n",
       "2003      3\n",
       "2020      2\n",
       "2000      2\n",
       "Name: Closing Date, dtype: int64"
      ]
     },
     "execution_count": 96,
     "metadata": {},
     "output_type": "execute_result"
    }
   ],
   "source": [
    "close_timestamp.dt.year.value_counts()"
   ]
  },
  {
   "cell_type": "markdown",
   "metadata": {},
   "source": [
    "### Parsing XML with lxml.objectify"
   ]
  },
  {
   "cell_type": "markdown",
   "metadata": {},
   "source": [
    "XML (eXtensible Markup Language)"
   ]
  },
  {
   "cell_type": "code",
   "execution_count": 97,
   "metadata": {},
   "outputs": [],
   "source": [
    "from lxml import objectify"
   ]
  },
  {
   "cell_type": "code",
   "execution_count": 103,
   "metadata": {},
   "outputs": [],
   "source": [
    "path = 'D:\\Learning from Books\\Python Book Solutions\\Python for Data Analysis by Wes McKinney\\Coding Practice\\Chp6 - Data Loading, Storage, and File Formats\\Performance_MNR.xml'"
   ]
  },
  {
   "cell_type": "code",
   "execution_count": 104,
   "metadata": {},
   "outputs": [],
   "source": [
    "parsed = objectify.parse(open(path))\n",
    "root = parsed.getroot()"
   ]
  },
  {
   "cell_type": "code",
   "execution_count": 107,
   "metadata": {},
   "outputs": [],
   "source": [
    "data=[]"
   ]
  },
  {
   "cell_type": "code",
   "execution_count": 108,
   "metadata": {},
   "outputs": [],
   "source": [
    "skip_fields = ['PARENT_SEQ', 'INDICATOR_SEQ', 'DESIRED_CHANGE', 'DECIMAL_PLACES']"
   ]
  },
  {
   "cell_type": "code",
   "execution_count": 111,
   "metadata": {},
   "outputs": [],
   "source": [
    "for elt in root.INDICATOR:\n",
    "    el_data = {}\n",
    "    for child in elt.getchildren():\n",
    "        if child.tag in skip_fields:\n",
    "            continue\n",
    "        el_data[child.tag] = child.pyval\n",
    "    data.append(el_data)"
   ]
  },
  {
   "cell_type": "code",
   "execution_count": 114,
   "metadata": {},
   "outputs": [],
   "source": [
    "perf = pd.DataFrame(data)"
   ]
  },
  {
   "cell_type": "code",
   "execution_count": 115,
   "metadata": {},
   "outputs": [
    {
     "data": {
      "text/html": [
       "<div>\n",
       "<style scoped>\n",
       "    .dataframe tbody tr th:only-of-type {\n",
       "        vertical-align: middle;\n",
       "    }\n",
       "\n",
       "    .dataframe tbody tr th {\n",
       "        vertical-align: top;\n",
       "    }\n",
       "\n",
       "    .dataframe thead th {\n",
       "        text-align: right;\n",
       "    }\n",
       "</style>\n",
       "<table border=\"1\" class=\"dataframe\">\n",
       "  <thead>\n",
       "    <tr style=\"text-align: right;\">\n",
       "      <th></th>\n",
       "      <th>AGENCY_NAME</th>\n",
       "      <th>INDICATOR_NAME</th>\n",
       "      <th>DESCRIPTION</th>\n",
       "      <th>PERIOD_YEAR</th>\n",
       "      <th>PERIOD_MONTH</th>\n",
       "      <th>CATEGORY</th>\n",
       "      <th>FREQUENCY</th>\n",
       "      <th>INDICATOR_UNIT</th>\n",
       "      <th>YTD_TARGET</th>\n",
       "      <th>YTD_ACTUAL</th>\n",
       "      <th>MONTHLY_TARGET</th>\n",
       "      <th>MONTHLY_ACTUAL</th>\n",
       "    </tr>\n",
       "  </thead>\n",
       "  <tbody>\n",
       "    <tr>\n",
       "      <th>0</th>\n",
       "      <td>Metro-North Railroad</td>\n",
       "      <td>On-Time Performance (West of Hudson)</td>\n",
       "      <td>Percent of commuter trains that arrive at thei...</td>\n",
       "      <td>2008</td>\n",
       "      <td>1</td>\n",
       "      <td>Service Indicators</td>\n",
       "      <td>M</td>\n",
       "      <td>%</td>\n",
       "      <td>95</td>\n",
       "      <td>96.9</td>\n",
       "      <td>95</td>\n",
       "      <td>96.9</td>\n",
       "    </tr>\n",
       "    <tr>\n",
       "      <th>1</th>\n",
       "      <td>Metro-North Railroad</td>\n",
       "      <td>On-Time Performance (West of Hudson)</td>\n",
       "      <td>Percent of commuter trains that arrive at thei...</td>\n",
       "      <td>2008</td>\n",
       "      <td>2</td>\n",
       "      <td>Service Indicators</td>\n",
       "      <td>M</td>\n",
       "      <td>%</td>\n",
       "      <td>95</td>\n",
       "      <td>96</td>\n",
       "      <td>95</td>\n",
       "      <td>95</td>\n",
       "    </tr>\n",
       "    <tr>\n",
       "      <th>2</th>\n",
       "      <td>Metro-North Railroad</td>\n",
       "      <td>On-Time Performance (West of Hudson)</td>\n",
       "      <td>Percent of commuter trains that arrive at thei...</td>\n",
       "      <td>2008</td>\n",
       "      <td>3</td>\n",
       "      <td>Service Indicators</td>\n",
       "      <td>M</td>\n",
       "      <td>%</td>\n",
       "      <td>95</td>\n",
       "      <td>96.3</td>\n",
       "      <td>95</td>\n",
       "      <td>96.9</td>\n",
       "    </tr>\n",
       "    <tr>\n",
       "      <th>3</th>\n",
       "      <td>Metro-North Railroad</td>\n",
       "      <td>On-Time Performance (West of Hudson)</td>\n",
       "      <td>Percent of commuter trains that arrive at thei...</td>\n",
       "      <td>2008</td>\n",
       "      <td>4</td>\n",
       "      <td>Service Indicators</td>\n",
       "      <td>M</td>\n",
       "      <td>%</td>\n",
       "      <td>95</td>\n",
       "      <td>96.8</td>\n",
       "      <td>95</td>\n",
       "      <td>98.3</td>\n",
       "    </tr>\n",
       "    <tr>\n",
       "      <th>4</th>\n",
       "      <td>Metro-North Railroad</td>\n",
       "      <td>On-Time Performance (West of Hudson)</td>\n",
       "      <td>Percent of commuter trains that arrive at thei...</td>\n",
       "      <td>2008</td>\n",
       "      <td>5</td>\n",
       "      <td>Service Indicators</td>\n",
       "      <td>M</td>\n",
       "      <td>%</td>\n",
       "      <td>95</td>\n",
       "      <td>96.6</td>\n",
       "      <td>95</td>\n",
       "      <td>95.8</td>\n",
       "    </tr>\n",
       "    <tr>\n",
       "      <th>...</th>\n",
       "      <td>...</td>\n",
       "      <td>...</td>\n",
       "      <td>...</td>\n",
       "      <td>...</td>\n",
       "      <td>...</td>\n",
       "      <td>...</td>\n",
       "      <td>...</td>\n",
       "      <td>...</td>\n",
       "      <td>...</td>\n",
       "      <td>...</td>\n",
       "      <td>...</td>\n",
       "      <td>...</td>\n",
       "    </tr>\n",
       "    <tr>\n",
       "      <th>643</th>\n",
       "      <td>Metro-North Railroad</td>\n",
       "      <td>Escalator Availability</td>\n",
       "      <td>Percent of the time that escalators are operat...</td>\n",
       "      <td>2011</td>\n",
       "      <td>8</td>\n",
       "      <td>Service Indicators</td>\n",
       "      <td>M</td>\n",
       "      <td>%</td>\n",
       "      <td>97</td>\n",
       "      <td></td>\n",
       "      <td>97</td>\n",
       "      <td></td>\n",
       "    </tr>\n",
       "    <tr>\n",
       "      <th>644</th>\n",
       "      <td>Metro-North Railroad</td>\n",
       "      <td>Escalator Availability</td>\n",
       "      <td>Percent of the time that escalators are operat...</td>\n",
       "      <td>2011</td>\n",
       "      <td>9</td>\n",
       "      <td>Service Indicators</td>\n",
       "      <td>M</td>\n",
       "      <td>%</td>\n",
       "      <td>97</td>\n",
       "      <td></td>\n",
       "      <td>97</td>\n",
       "      <td></td>\n",
       "    </tr>\n",
       "    <tr>\n",
       "      <th>645</th>\n",
       "      <td>Metro-North Railroad</td>\n",
       "      <td>Escalator Availability</td>\n",
       "      <td>Percent of the time that escalators are operat...</td>\n",
       "      <td>2011</td>\n",
       "      <td>10</td>\n",
       "      <td>Service Indicators</td>\n",
       "      <td>M</td>\n",
       "      <td>%</td>\n",
       "      <td>97</td>\n",
       "      <td></td>\n",
       "      <td>97</td>\n",
       "      <td></td>\n",
       "    </tr>\n",
       "    <tr>\n",
       "      <th>646</th>\n",
       "      <td>Metro-North Railroad</td>\n",
       "      <td>Escalator Availability</td>\n",
       "      <td>Percent of the time that escalators are operat...</td>\n",
       "      <td>2011</td>\n",
       "      <td>11</td>\n",
       "      <td>Service Indicators</td>\n",
       "      <td>M</td>\n",
       "      <td>%</td>\n",
       "      <td>97</td>\n",
       "      <td></td>\n",
       "      <td>97</td>\n",
       "      <td></td>\n",
       "    </tr>\n",
       "    <tr>\n",
       "      <th>647</th>\n",
       "      <td>Metro-North Railroad</td>\n",
       "      <td>Escalator Availability</td>\n",
       "      <td>Percent of the time that escalators are operat...</td>\n",
       "      <td>2011</td>\n",
       "      <td>12</td>\n",
       "      <td>Service Indicators</td>\n",
       "      <td>M</td>\n",
       "      <td>%</td>\n",
       "      <td>97</td>\n",
       "      <td></td>\n",
       "      <td>97</td>\n",
       "      <td></td>\n",
       "    </tr>\n",
       "  </tbody>\n",
       "</table>\n",
       "<p>648 rows × 12 columns</p>\n",
       "</div>"
      ],
      "text/plain": [
       "              AGENCY_NAME                        INDICATOR_NAME  \\\n",
       "0    Metro-North Railroad  On-Time Performance (West of Hudson)   \n",
       "1    Metro-North Railroad  On-Time Performance (West of Hudson)   \n",
       "2    Metro-North Railroad  On-Time Performance (West of Hudson)   \n",
       "3    Metro-North Railroad  On-Time Performance (West of Hudson)   \n",
       "4    Metro-North Railroad  On-Time Performance (West of Hudson)   \n",
       "..                    ...                                   ...   \n",
       "643  Metro-North Railroad                Escalator Availability   \n",
       "644  Metro-North Railroad                Escalator Availability   \n",
       "645  Metro-North Railroad                Escalator Availability   \n",
       "646  Metro-North Railroad                Escalator Availability   \n",
       "647  Metro-North Railroad                Escalator Availability   \n",
       "\n",
       "                                           DESCRIPTION  PERIOD_YEAR  \\\n",
       "0    Percent of commuter trains that arrive at thei...         2008   \n",
       "1    Percent of commuter trains that arrive at thei...         2008   \n",
       "2    Percent of commuter trains that arrive at thei...         2008   \n",
       "3    Percent of commuter trains that arrive at thei...         2008   \n",
       "4    Percent of commuter trains that arrive at thei...         2008   \n",
       "..                                                 ...          ...   \n",
       "643  Percent of the time that escalators are operat...         2011   \n",
       "644  Percent of the time that escalators are operat...         2011   \n",
       "645  Percent of the time that escalators are operat...         2011   \n",
       "646  Percent of the time that escalators are operat...         2011   \n",
       "647  Percent of the time that escalators are operat...         2011   \n",
       "\n",
       "     PERIOD_MONTH            CATEGORY FREQUENCY INDICATOR_UNIT YTD_TARGET  \\\n",
       "0               1  Service Indicators         M              %         95   \n",
       "1               2  Service Indicators         M              %         95   \n",
       "2               3  Service Indicators         M              %         95   \n",
       "3               4  Service Indicators         M              %         95   \n",
       "4               5  Service Indicators         M              %         95   \n",
       "..            ...                 ...       ...            ...        ...   \n",
       "643             8  Service Indicators         M              %         97   \n",
       "644             9  Service Indicators         M              %         97   \n",
       "645            10  Service Indicators         M              %         97   \n",
       "646            11  Service Indicators         M              %         97   \n",
       "647            12  Service Indicators         M              %         97   \n",
       "\n",
       "    YTD_ACTUAL MONTHLY_TARGET MONTHLY_ACTUAL  \n",
       "0         96.9             95           96.9  \n",
       "1           96             95             95  \n",
       "2         96.3             95           96.9  \n",
       "3         96.8             95           98.3  \n",
       "4         96.6             95           95.8  \n",
       "..         ...            ...            ...  \n",
       "643                        97                 \n",
       "644                        97                 \n",
       "645                        97                 \n",
       "646                        97                 \n",
       "647                        97                 \n",
       "\n",
       "[648 rows x 12 columns]"
      ]
     },
     "execution_count": 115,
     "metadata": {},
     "output_type": "execute_result"
    }
   ],
   "source": [
    "perf"
   ]
  },
  {
   "cell_type": "code",
   "execution_count": 117,
   "metadata": {},
   "outputs": [
    {
     "data": {
      "text/html": [
       "<div>\n",
       "<style scoped>\n",
       "    .dataframe tbody tr th:only-of-type {\n",
       "        vertical-align: middle;\n",
       "    }\n",
       "\n",
       "    .dataframe tbody tr th {\n",
       "        vertical-align: top;\n",
       "    }\n",
       "\n",
       "    .dataframe thead th {\n",
       "        text-align: right;\n",
       "    }\n",
       "</style>\n",
       "<table border=\"1\" class=\"dataframe\">\n",
       "  <thead>\n",
       "    <tr style=\"text-align: right;\">\n",
       "      <th></th>\n",
       "      <th>AGENCY_NAME</th>\n",
       "      <th>INDICATOR_NAME</th>\n",
       "      <th>DESCRIPTION</th>\n",
       "      <th>PERIOD_YEAR</th>\n",
       "      <th>PERIOD_MONTH</th>\n",
       "      <th>CATEGORY</th>\n",
       "      <th>FREQUENCY</th>\n",
       "      <th>INDICATOR_UNIT</th>\n",
       "      <th>YTD_TARGET</th>\n",
       "      <th>YTD_ACTUAL</th>\n",
       "      <th>MONTHLY_TARGET</th>\n",
       "      <th>MONTHLY_ACTUAL</th>\n",
       "    </tr>\n",
       "  </thead>\n",
       "  <tbody>\n",
       "    <tr>\n",
       "      <th>0</th>\n",
       "      <td>Metro-North Railroad</td>\n",
       "      <td>On-Time Performance (West of Hudson)</td>\n",
       "      <td>Percent of commuter trains that arrive at thei...</td>\n",
       "      <td>2008</td>\n",
       "      <td>1</td>\n",
       "      <td>Service Indicators</td>\n",
       "      <td>M</td>\n",
       "      <td>%</td>\n",
       "      <td>95</td>\n",
       "      <td>96.9</td>\n",
       "      <td>95</td>\n",
       "      <td>96.9</td>\n",
       "    </tr>\n",
       "    <tr>\n",
       "      <th>1</th>\n",
       "      <td>Metro-North Railroad</td>\n",
       "      <td>On-Time Performance (West of Hudson)</td>\n",
       "      <td>Percent of commuter trains that arrive at thei...</td>\n",
       "      <td>2008</td>\n",
       "      <td>2</td>\n",
       "      <td>Service Indicators</td>\n",
       "      <td>M</td>\n",
       "      <td>%</td>\n",
       "      <td>95</td>\n",
       "      <td>96</td>\n",
       "      <td>95</td>\n",
       "      <td>95</td>\n",
       "    </tr>\n",
       "    <tr>\n",
       "      <th>2</th>\n",
       "      <td>Metro-North Railroad</td>\n",
       "      <td>On-Time Performance (West of Hudson)</td>\n",
       "      <td>Percent of commuter trains that arrive at thei...</td>\n",
       "      <td>2008</td>\n",
       "      <td>3</td>\n",
       "      <td>Service Indicators</td>\n",
       "      <td>M</td>\n",
       "      <td>%</td>\n",
       "      <td>95</td>\n",
       "      <td>96.3</td>\n",
       "      <td>95</td>\n",
       "      <td>96.9</td>\n",
       "    </tr>\n",
       "    <tr>\n",
       "      <th>3</th>\n",
       "      <td>Metro-North Railroad</td>\n",
       "      <td>On-Time Performance (West of Hudson)</td>\n",
       "      <td>Percent of commuter trains that arrive at thei...</td>\n",
       "      <td>2008</td>\n",
       "      <td>4</td>\n",
       "      <td>Service Indicators</td>\n",
       "      <td>M</td>\n",
       "      <td>%</td>\n",
       "      <td>95</td>\n",
       "      <td>96.8</td>\n",
       "      <td>95</td>\n",
       "      <td>98.3</td>\n",
       "    </tr>\n",
       "    <tr>\n",
       "      <th>4</th>\n",
       "      <td>Metro-North Railroad</td>\n",
       "      <td>On-Time Performance (West of Hudson)</td>\n",
       "      <td>Percent of commuter trains that arrive at thei...</td>\n",
       "      <td>2008</td>\n",
       "      <td>5</td>\n",
       "      <td>Service Indicators</td>\n",
       "      <td>M</td>\n",
       "      <td>%</td>\n",
       "      <td>95</td>\n",
       "      <td>96.6</td>\n",
       "      <td>95</td>\n",
       "      <td>95.8</td>\n",
       "    </tr>\n",
       "  </tbody>\n",
       "</table>\n",
       "</div>"
      ],
      "text/plain": [
       "            AGENCY_NAME                        INDICATOR_NAME  \\\n",
       "0  Metro-North Railroad  On-Time Performance (West of Hudson)   \n",
       "1  Metro-North Railroad  On-Time Performance (West of Hudson)   \n",
       "2  Metro-North Railroad  On-Time Performance (West of Hudson)   \n",
       "3  Metro-North Railroad  On-Time Performance (West of Hudson)   \n",
       "4  Metro-North Railroad  On-Time Performance (West of Hudson)   \n",
       "\n",
       "                                         DESCRIPTION  PERIOD_YEAR  \\\n",
       "0  Percent of commuter trains that arrive at thei...         2008   \n",
       "1  Percent of commuter trains that arrive at thei...         2008   \n",
       "2  Percent of commuter trains that arrive at thei...         2008   \n",
       "3  Percent of commuter trains that arrive at thei...         2008   \n",
       "4  Percent of commuter trains that arrive at thei...         2008   \n",
       "\n",
       "   PERIOD_MONTH            CATEGORY FREQUENCY INDICATOR_UNIT YTD_TARGET  \\\n",
       "0             1  Service Indicators         M              %         95   \n",
       "1             2  Service Indicators         M              %         95   \n",
       "2             3  Service Indicators         M              %         95   \n",
       "3             4  Service Indicators         M              %         95   \n",
       "4             5  Service Indicators         M              %         95   \n",
       "\n",
       "  YTD_ACTUAL MONTHLY_TARGET MONTHLY_ACTUAL  \n",
       "0       96.9             95           96.9  \n",
       "1         96             95             95  \n",
       "2       96.3             95           96.9  \n",
       "3       96.8             95           98.3  \n",
       "4       96.6             95           95.8  "
      ]
     },
     "execution_count": 117,
     "metadata": {},
     "output_type": "execute_result"
    }
   ],
   "source": [
    "perf.head()"
   ]
  },
  {
   "cell_type": "code",
   "execution_count": 118,
   "metadata": {},
   "outputs": [],
   "source": [
    "from io import StringIO"
   ]
  },
  {
   "cell_type": "code",
   "execution_count": 119,
   "metadata": {},
   "outputs": [],
   "source": [
    "path = '<a href=\"https://www.google.com/\">Google</a>'"
   ]
  },
  {
   "cell_type": "code",
   "execution_count": 121,
   "metadata": {},
   "outputs": [],
   "source": [
    "root = objectify.parse(StringIO(path)).getroot()"
   ]
  },
  {
   "cell_type": "code",
   "execution_count": 122,
   "metadata": {},
   "outputs": [
    {
     "data": {
      "text/plain": [
       "<Element a at 0x1a2bb9ed808>"
      ]
     },
     "execution_count": 122,
     "metadata": {},
     "output_type": "execute_result"
    }
   ],
   "source": [
    "root"
   ]
  },
  {
   "cell_type": "code",
   "execution_count": 123,
   "metadata": {},
   "outputs": [
    {
     "data": {
      "text/plain": [
       "'https://www.google.com/'"
      ]
     },
     "execution_count": 123,
     "metadata": {},
     "output_type": "execute_result"
    }
   ],
   "source": [
    "root.get('href')"
   ]
  },
  {
   "cell_type": "code",
   "execution_count": 125,
   "metadata": {},
   "outputs": [
    {
     "data": {
      "text/plain": [
       "'Google'"
      ]
     },
     "execution_count": 125,
     "metadata": {},
     "output_type": "execute_result"
    }
   ],
   "source": [
    "root.text"
   ]
  },
  {
   "cell_type": "markdown",
   "metadata": {},
   "source": [
    "# 6.2 Binary Data Formats"
   ]
  },
  {
   "cell_type": "code",
   "execution_count": 126,
   "metadata": {},
   "outputs": [],
   "source": [
    "df = pd.read_csv('ex1.csv')"
   ]
  },
  {
   "cell_type": "code",
   "execution_count": 131,
   "metadata": {},
   "outputs": [
    {
     "data": {
      "text/html": [
       "<div>\n",
       "<style scoped>\n",
       "    .dataframe tbody tr th:only-of-type {\n",
       "        vertical-align: middle;\n",
       "    }\n",
       "\n",
       "    .dataframe tbody tr th {\n",
       "        vertical-align: top;\n",
       "    }\n",
       "\n",
       "    .dataframe thead th {\n",
       "        text-align: right;\n",
       "    }\n",
       "</style>\n",
       "<table border=\"1\" class=\"dataframe\">\n",
       "  <thead>\n",
       "    <tr style=\"text-align: right;\">\n",
       "      <th></th>\n",
       "      <th>a</th>\n",
       "      <th>b</th>\n",
       "      <th>c</th>\n",
       "      <th>d</th>\n",
       "      <th>message</th>\n",
       "    </tr>\n",
       "  </thead>\n",
       "  <tbody>\n",
       "    <tr>\n",
       "      <th>0</th>\n",
       "      <td>1</td>\n",
       "      <td>2</td>\n",
       "      <td>3</td>\n",
       "      <td>4</td>\n",
       "      <td>hello</td>\n",
       "    </tr>\n",
       "    <tr>\n",
       "      <th>1</th>\n",
       "      <td>5</td>\n",
       "      <td>6</td>\n",
       "      <td>7</td>\n",
       "      <td>8</td>\n",
       "      <td>world</td>\n",
       "    </tr>\n",
       "    <tr>\n",
       "      <th>2</th>\n",
       "      <td>9</td>\n",
       "      <td>10</td>\n",
       "      <td>11</td>\n",
       "      <td>12</td>\n",
       "      <td>foo</td>\n",
       "    </tr>\n",
       "  </tbody>\n",
       "</table>\n",
       "</div>"
      ],
      "text/plain": [
       "   a   b   c   d message\n",
       "0  1   2   3   4   hello\n",
       "1  5   6   7   8   world\n",
       "2  9  10  11  12     foo"
      ]
     },
     "execution_count": 131,
     "metadata": {},
     "output_type": "execute_result"
    }
   ],
   "source": [
    "df"
   ]
  },
  {
   "cell_type": "markdown",
   "metadata": {},
   "source": [
    "Pickle is a module used for serializabilty to convert python data object in serial stream of characters."
   ]
  },
  {
   "cell_type": "code",
   "execution_count": 128,
   "metadata": {},
   "outputs": [],
   "source": [
    "df.to_pickle('ex1_pickle')"
   ]
  },
  {
   "cell_type": "code",
   "execution_count": 129,
   "metadata": {},
   "outputs": [],
   "source": [
    "df2 = pd.read_pickle('ex1_pickle')"
   ]
  },
  {
   "cell_type": "code",
   "execution_count": 130,
   "metadata": {},
   "outputs": [
    {
     "data": {
      "text/html": [
       "<div>\n",
       "<style scoped>\n",
       "    .dataframe tbody tr th:only-of-type {\n",
       "        vertical-align: middle;\n",
       "    }\n",
       "\n",
       "    .dataframe tbody tr th {\n",
       "        vertical-align: top;\n",
       "    }\n",
       "\n",
       "    .dataframe thead th {\n",
       "        text-align: right;\n",
       "    }\n",
       "</style>\n",
       "<table border=\"1\" class=\"dataframe\">\n",
       "  <thead>\n",
       "    <tr style=\"text-align: right;\">\n",
       "      <th></th>\n",
       "      <th>a</th>\n",
       "      <th>b</th>\n",
       "      <th>c</th>\n",
       "      <th>d</th>\n",
       "      <th>message</th>\n",
       "    </tr>\n",
       "  </thead>\n",
       "  <tbody>\n",
       "    <tr>\n",
       "      <th>0</th>\n",
       "      <td>1</td>\n",
       "      <td>2</td>\n",
       "      <td>3</td>\n",
       "      <td>4</td>\n",
       "      <td>hello</td>\n",
       "    </tr>\n",
       "    <tr>\n",
       "      <th>1</th>\n",
       "      <td>5</td>\n",
       "      <td>6</td>\n",
       "      <td>7</td>\n",
       "      <td>8</td>\n",
       "      <td>world</td>\n",
       "    </tr>\n",
       "    <tr>\n",
       "      <th>2</th>\n",
       "      <td>9</td>\n",
       "      <td>10</td>\n",
       "      <td>11</td>\n",
       "      <td>12</td>\n",
       "      <td>foo</td>\n",
       "    </tr>\n",
       "  </tbody>\n",
       "</table>\n",
       "</div>"
      ],
      "text/plain": [
       "   a   b   c   d message\n",
       "0  1   2   3   4   hello\n",
       "1  5   6   7   8   world\n",
       "2  9  10  11  12     foo"
      ]
     },
     "execution_count": 130,
     "metadata": {},
     "output_type": "execute_result"
    }
   ],
   "source": [
    "df2"
   ]
  },
  {
   "cell_type": "markdown",
   "metadata": {},
   "source": [
    "## Using HDF5 Format"
   ]
  },
  {
   "cell_type": "markdown",
   "metadata": {},
   "source": [
    "The “HDF” in HDF5 stands for hierarchical data format. HDF5 is a well-regarded file format intended for storing large quantities of scientific\n",
    "array data. "
   ]
  },
  {
   "cell_type": "code",
   "execution_count": 132,
   "metadata": {},
   "outputs": [],
   "source": [
    "df = pd.DataFrame({'a': np.random.randn(100)})"
   ]
  },
  {
   "cell_type": "code",
   "execution_count": 133,
   "metadata": {},
   "outputs": [
    {
     "data": {
      "text/html": [
       "<div>\n",
       "<style scoped>\n",
       "    .dataframe tbody tr th:only-of-type {\n",
       "        vertical-align: middle;\n",
       "    }\n",
       "\n",
       "    .dataframe tbody tr th {\n",
       "        vertical-align: top;\n",
       "    }\n",
       "\n",
       "    .dataframe thead th {\n",
       "        text-align: right;\n",
       "    }\n",
       "</style>\n",
       "<table border=\"1\" class=\"dataframe\">\n",
       "  <thead>\n",
       "    <tr style=\"text-align: right;\">\n",
       "      <th></th>\n",
       "      <th>a</th>\n",
       "    </tr>\n",
       "  </thead>\n",
       "  <tbody>\n",
       "    <tr>\n",
       "      <th>0</th>\n",
       "      <td>0.120529</td>\n",
       "    </tr>\n",
       "    <tr>\n",
       "      <th>1</th>\n",
       "      <td>1.555121</td>\n",
       "    </tr>\n",
       "    <tr>\n",
       "      <th>2</th>\n",
       "      <td>0.221475</td>\n",
       "    </tr>\n",
       "    <tr>\n",
       "      <th>3</th>\n",
       "      <td>0.323995</td>\n",
       "    </tr>\n",
       "    <tr>\n",
       "      <th>4</th>\n",
       "      <td>-0.881134</td>\n",
       "    </tr>\n",
       "    <tr>\n",
       "      <th>...</th>\n",
       "      <td>...</td>\n",
       "    </tr>\n",
       "    <tr>\n",
       "      <th>95</th>\n",
       "      <td>-1.311547</td>\n",
       "    </tr>\n",
       "    <tr>\n",
       "      <th>96</th>\n",
       "      <td>-0.033747</td>\n",
       "    </tr>\n",
       "    <tr>\n",
       "      <th>97</th>\n",
       "      <td>-0.243855</td>\n",
       "    </tr>\n",
       "    <tr>\n",
       "      <th>98</th>\n",
       "      <td>-0.160024</td>\n",
       "    </tr>\n",
       "    <tr>\n",
       "      <th>99</th>\n",
       "      <td>-0.155541</td>\n",
       "    </tr>\n",
       "  </tbody>\n",
       "</table>\n",
       "<p>100 rows × 1 columns</p>\n",
       "</div>"
      ],
      "text/plain": [
       "           a\n",
       "0   0.120529\n",
       "1   1.555121\n",
       "2   0.221475\n",
       "3   0.323995\n",
       "4  -0.881134\n",
       "..       ...\n",
       "95 -1.311547\n",
       "96 -0.033747\n",
       "97 -0.243855\n",
       "98 -0.160024\n",
       "99 -0.155541\n",
       "\n",
       "[100 rows x 1 columns]"
      ]
     },
     "execution_count": 133,
     "metadata": {},
     "output_type": "execute_result"
    }
   ],
   "source": [
    "df"
   ]
  },
  {
   "cell_type": "code",
   "execution_count": 136,
   "metadata": {},
   "outputs": [],
   "source": [
    "import h5py"
   ]
  },
  {
   "cell_type": "code",
   "execution_count": 138,
   "metadata": {},
   "outputs": [],
   "source": [
    "d1 = np.random.random(size=(1000,20))"
   ]
  },
  {
   "cell_type": "code",
   "execution_count": 145,
   "metadata": {},
   "outputs": [
    {
     "data": {
      "text/plain": [
       "(1000, 20)"
      ]
     },
     "execution_count": 145,
     "metadata": {},
     "output_type": "execute_result"
    }
   ],
   "source": [
    "d1.shape"
   ]
  },
  {
   "cell_type": "code",
   "execution_count": 146,
   "metadata": {},
   "outputs": [],
   "source": [
    "d2 = np.random.random(size=(1000,200))"
   ]
  },
  {
   "cell_type": "code",
   "execution_count": 147,
   "metadata": {},
   "outputs": [
    {
     "data": {
      "text/plain": [
       "(1000, 200)"
      ]
     },
     "execution_count": 147,
     "metadata": {},
     "output_type": "execute_result"
    }
   ],
   "source": [
    "d2.shape"
   ]
  },
  {
   "cell_type": "code",
   "execution_count": 148,
   "metadata": {},
   "outputs": [],
   "source": [
    "hf = h5py.File('data.h5', 'w')"
   ]
  },
  {
   "cell_type": "code",
   "execution_count": 151,
   "metadata": {},
   "outputs": [
    {
     "data": {
      "text/plain": [
       "<HDF5 dataset \"data_set1\": shape (1000, 20), type \"<f8\">"
      ]
     },
     "execution_count": 151,
     "metadata": {},
     "output_type": "execute_result"
    }
   ],
   "source": [
    "hf.create_dataset('data_set1', data=d1)"
   ]
  },
  {
   "cell_type": "code",
   "execution_count": 152,
   "metadata": {},
   "outputs": [
    {
     "data": {
      "text/plain": [
       "<HDF5 dataset \"data_set2\": shape (1000, 200), type \"<f8\">"
      ]
     },
     "execution_count": 152,
     "metadata": {},
     "output_type": "execute_result"
    }
   ],
   "source": [
    "hf.create_dataset('data_set2', data=d2)"
   ]
  },
  {
   "cell_type": "code",
   "execution_count": 153,
   "metadata": {},
   "outputs": [],
   "source": [
    "hf.close()"
   ]
  },
  {
   "cell_type": "code",
   "execution_count": 154,
   "metadata": {},
   "outputs": [],
   "source": [
    "hf = h5py.File('data.h5', 'r')"
   ]
  },
  {
   "cell_type": "code",
   "execution_count": 155,
   "metadata": {},
   "outputs": [
    {
     "data": {
      "text/plain": [
       "<KeysViewHDF5 ['data_set1', 'data_set2']>"
      ]
     },
     "execution_count": 155,
     "metadata": {},
     "output_type": "execute_result"
    }
   ],
   "source": [
    "hf.keys()"
   ]
  },
  {
   "cell_type": "code",
   "execution_count": 156,
   "metadata": {},
   "outputs": [],
   "source": [
    "n1 = hf.get('data_set1')"
   ]
  },
  {
   "cell_type": "code",
   "execution_count": 157,
   "metadata": {},
   "outputs": [
    {
     "data": {
      "text/plain": [
       "<HDF5 dataset \"data_set1\": shape (1000, 20), type \"<f8\">"
      ]
     },
     "execution_count": 157,
     "metadata": {},
     "output_type": "execute_result"
    }
   ],
   "source": [
    "n1"
   ]
  },
  {
   "cell_type": "code",
   "execution_count": 158,
   "metadata": {},
   "outputs": [],
   "source": [
    "n1 = np.array(n1)"
   ]
  },
  {
   "cell_type": "code",
   "execution_count": 159,
   "metadata": {},
   "outputs": [
    {
     "data": {
      "text/plain": [
       "array([[0.76853693, 0.83352346, 0.95412016, ..., 0.2170643 , 0.19811873,\n",
       "        0.15931744],\n",
       "       [0.78178852, 0.53652385, 0.93298853, ..., 0.9252314 , 0.6506316 ,\n",
       "        0.74806727],\n",
       "       [0.31891824, 0.01903655, 0.76597477, ..., 0.66090125, 0.92185808,\n",
       "        0.86844108],\n",
       "       ...,\n",
       "       [0.31886707, 0.8045823 , 0.95827227, ..., 0.89644588, 0.13108838,\n",
       "        0.41186011],\n",
       "       [0.66595011, 0.33342658, 0.08071331, ..., 0.70287937, 0.29614373,\n",
       "        0.51229341],\n",
       "       [0.64243391, 0.54985703, 0.0856332 , ..., 0.2231183 , 0.60994592,\n",
       "        0.40691665]])"
      ]
     },
     "execution_count": 159,
     "metadata": {},
     "output_type": "execute_result"
    }
   ],
   "source": [
    "n1"
   ]
  },
  {
   "cell_type": "code",
   "execution_count": 161,
   "metadata": {},
   "outputs": [],
   "source": [
    "d1 = np.random.random((100, 33))"
   ]
  },
  {
   "cell_type": "code",
   "execution_count": 162,
   "metadata": {},
   "outputs": [],
   "source": [
    "d2 = np.random.random((1000, 333))"
   ]
  },
  {
   "cell_type": "code",
   "execution_count": 163,
   "metadata": {},
   "outputs": [],
   "source": [
    "d3 = np.random.random((10000, 3333))"
   ]
  },
  {
   "cell_type": "code",
   "execution_count": 164,
   "metadata": {},
   "outputs": [],
   "source": [
    "hf = h5py.File('data2.h5', 'w')"
   ]
  },
  {
   "cell_type": "code",
   "execution_count": 165,
   "metadata": {},
   "outputs": [],
   "source": [
    "g1 = hf.create_group('group_1')"
   ]
  },
  {
   "cell_type": "code",
   "execution_count": 168,
   "metadata": {},
   "outputs": [
    {
     "data": {
      "text/plain": [
       "<HDF5 dataset \"data1\": shape (100, 33), type \"<f8\">"
      ]
     },
     "execution_count": 168,
     "metadata": {},
     "output_type": "execute_result"
    }
   ],
   "source": [
    "g1.create_dataset('data1', data=d1)"
   ]
  },
  {
   "cell_type": "code",
   "execution_count": 169,
   "metadata": {},
   "outputs": [],
   "source": [
    "g2 = hf.create_group('group_2')"
   ]
  },
  {
   "cell_type": "code",
   "execution_count": 170,
   "metadata": {},
   "outputs": [
    {
     "data": {
      "text/plain": [
       "<HDF5 dataset \"data2\": shape (1000, 333), type \"<f8\">"
      ]
     },
     "execution_count": 170,
     "metadata": {},
     "output_type": "execute_result"
    }
   ],
   "source": [
    "g2.create_dataset('data2', data=d2)"
   ]
  },
  {
   "cell_type": "code",
   "execution_count": 171,
   "metadata": {},
   "outputs": [],
   "source": [
    "g3 = hf.create_group('group_3/subfolder')"
   ]
  },
  {
   "cell_type": "code",
   "execution_count": 172,
   "metadata": {},
   "outputs": [
    {
     "data": {
      "text/plain": [
       "<HDF5 dataset \"data3\": shape (10000, 3333), type \"<f8\">"
      ]
     },
     "execution_count": 172,
     "metadata": {},
     "output_type": "execute_result"
    }
   ],
   "source": [
    "g3.create_dataset('data3', data=d3)"
   ]
  },
  {
   "cell_type": "code",
   "execution_count": 174,
   "metadata": {},
   "outputs": [
    {
     "data": {
      "text/plain": [
       "<KeysViewHDF5 ['group_1', 'group_2', 'group_3']>"
      ]
     },
     "execution_count": 174,
     "metadata": {},
     "output_type": "execute_result"
    }
   ],
   "source": [
    "hf.keys()"
   ]
  },
  {
   "cell_type": "code",
   "execution_count": 176,
   "metadata": {},
   "outputs": [
    {
     "data": {
      "text/plain": [
       "<KeysViewHDF5 ['data1']>"
      ]
     },
     "execution_count": 176,
     "metadata": {},
     "output_type": "execute_result"
    }
   ],
   "source": [
    "hf['group_1'].keys()"
   ]
  },
  {
   "cell_type": "code",
   "execution_count": 177,
   "metadata": {},
   "outputs": [
    {
     "data": {
      "text/plain": [
       "<KeysViewHDF5 ['data2']>"
      ]
     },
     "execution_count": 177,
     "metadata": {},
     "output_type": "execute_result"
    }
   ],
   "source": [
    "hf['group_2'].keys()"
   ]
  },
  {
   "cell_type": "code",
   "execution_count": 180,
   "metadata": {},
   "outputs": [
    {
     "data": {
      "text/plain": [
       "<KeysViewHDF5 ['data3']>"
      ]
     },
     "execution_count": 180,
     "metadata": {},
     "output_type": "execute_result"
    }
   ],
   "source": [
    "hf['group_3/subfolder'].keys()"
   ]
  },
  {
   "cell_type": "markdown",
   "metadata": {},
   "source": [
    "pd.HDF5 not wokring used h5py."
   ]
  },
  {
   "cell_type": "markdown",
   "metadata": {},
   "source": [
    "HDF5 is not a database. It is best suited for write-once, read-many\n",
    "datasets. While data can be added to a file at any time, if multiple\n",
    "writers do so simultaneously, the file can become corrupted.\n"
   ]
  },
  {
   "cell_type": "markdown",
   "metadata": {},
   "source": [
    "## Reading Microsoft Excel Files"
   ]
  },
  {
   "cell_type": "code",
   "execution_count": 193,
   "metadata": {},
   "outputs": [],
   "source": [
    "xlsx = pd.ExcelFile('ex1.xlsx')"
   ]
  },
  {
   "cell_type": "code",
   "execution_count": 194,
   "metadata": {},
   "outputs": [
    {
     "data": {
      "text/html": [
       "<div>\n",
       "<style scoped>\n",
       "    .dataframe tbody tr th:only-of-type {\n",
       "        vertical-align: middle;\n",
       "    }\n",
       "\n",
       "    .dataframe tbody tr th {\n",
       "        vertical-align: top;\n",
       "    }\n",
       "\n",
       "    .dataframe thead th {\n",
       "        text-align: right;\n",
       "    }\n",
       "</style>\n",
       "<table border=\"1\" class=\"dataframe\">\n",
       "  <thead>\n",
       "    <tr style=\"text-align: right;\">\n",
       "      <th></th>\n",
       "      <th>Unnamed: 0</th>\n",
       "      <th>a</th>\n",
       "      <th>b</th>\n",
       "      <th>c</th>\n",
       "      <th>d</th>\n",
       "      <th>message</th>\n",
       "    </tr>\n",
       "  </thead>\n",
       "  <tbody>\n",
       "    <tr>\n",
       "      <th>0</th>\n",
       "      <td>0</td>\n",
       "      <td>1</td>\n",
       "      <td>2</td>\n",
       "      <td>3</td>\n",
       "      <td>4</td>\n",
       "      <td>hello</td>\n",
       "    </tr>\n",
       "    <tr>\n",
       "      <th>1</th>\n",
       "      <td>1</td>\n",
       "      <td>5</td>\n",
       "      <td>6</td>\n",
       "      <td>7</td>\n",
       "      <td>8</td>\n",
       "      <td>world</td>\n",
       "    </tr>\n",
       "    <tr>\n",
       "      <th>2</th>\n",
       "      <td>2</td>\n",
       "      <td>9</td>\n",
       "      <td>10</td>\n",
       "      <td>11</td>\n",
       "      <td>12</td>\n",
       "      <td>foo</td>\n",
       "    </tr>\n",
       "  </tbody>\n",
       "</table>\n",
       "</div>"
      ],
      "text/plain": [
       "   Unnamed: 0  a   b   c   d message\n",
       "0           0  1   2   3   4   hello\n",
       "1           1  5   6   7   8   world\n",
       "2           2  9  10  11  12     foo"
      ]
     },
     "execution_count": 194,
     "metadata": {},
     "output_type": "execute_result"
    }
   ],
   "source": [
    "pd.read_excel(xlsx, sheet_name='Sheet1')"
   ]
  },
  {
   "cell_type": "code",
   "execution_count": 195,
   "metadata": {},
   "outputs": [
    {
     "data": {
      "text/html": [
       "<div>\n",
       "<style scoped>\n",
       "    .dataframe tbody tr th:only-of-type {\n",
       "        vertical-align: middle;\n",
       "    }\n",
       "\n",
       "    .dataframe tbody tr th {\n",
       "        vertical-align: top;\n",
       "    }\n",
       "\n",
       "    .dataframe thead th {\n",
       "        text-align: right;\n",
       "    }\n",
       "</style>\n",
       "<table border=\"1\" class=\"dataframe\">\n",
       "  <thead>\n",
       "    <tr style=\"text-align: right;\">\n",
       "      <th></th>\n",
       "      <th>Unnamed: 0</th>\n",
       "      <th>a</th>\n",
       "      <th>b</th>\n",
       "      <th>c</th>\n",
       "      <th>d</th>\n",
       "      <th>message</th>\n",
       "    </tr>\n",
       "  </thead>\n",
       "  <tbody>\n",
       "    <tr>\n",
       "      <th>0</th>\n",
       "      <td>0</td>\n",
       "      <td>1</td>\n",
       "      <td>2</td>\n",
       "      <td>3</td>\n",
       "      <td>4</td>\n",
       "      <td>hello</td>\n",
       "    </tr>\n",
       "    <tr>\n",
       "      <th>1</th>\n",
       "      <td>1</td>\n",
       "      <td>5</td>\n",
       "      <td>6</td>\n",
       "      <td>7</td>\n",
       "      <td>8</td>\n",
       "      <td>world</td>\n",
       "    </tr>\n",
       "    <tr>\n",
       "      <th>2</th>\n",
       "      <td>2</td>\n",
       "      <td>9</td>\n",
       "      <td>10</td>\n",
       "      <td>11</td>\n",
       "      <td>12</td>\n",
       "      <td>foo</td>\n",
       "    </tr>\n",
       "  </tbody>\n",
       "</table>\n",
       "</div>"
      ],
      "text/plain": [
       "   Unnamed: 0  a   b   c   d message\n",
       "0           0  1   2   3   4   hello\n",
       "1           1  5   6   7   8   world\n",
       "2           2  9  10  11  12     foo"
      ]
     },
     "execution_count": 195,
     "metadata": {},
     "output_type": "execute_result"
    }
   ],
   "source": [
    "pd.read_excel('ex1.xlsx', sheet_name='Sheet1')"
   ]
  },
  {
   "cell_type": "code",
   "execution_count": 197,
   "metadata": {},
   "outputs": [],
   "source": [
    "writer = pd.ExcelWriter('ex2.xlsx')"
   ]
  },
  {
   "cell_type": "code",
   "execution_count": 198,
   "metadata": {},
   "outputs": [],
   "source": [
    "perf.to_excel(writer, sheet_name='Sheet1')"
   ]
  },
  {
   "cell_type": "code",
   "execution_count": 199,
   "metadata": {},
   "outputs": [],
   "source": [
    "writer.save()"
   ]
  },
  {
   "cell_type": "code",
   "execution_count": 201,
   "metadata": {},
   "outputs": [],
   "source": [
    "failures.to_excel('List_of_Failed_Banks.xlsx', sheet_name='Sheet1') #Easy way"
   ]
  },
  {
   "cell_type": "markdown",
   "metadata": {},
   "source": [
    "# 6.3 Interacting with Web APIs"
   ]
  },
  {
   "cell_type": "code",
   "execution_count": 202,
   "metadata": {},
   "outputs": [],
   "source": [
    "import requests"
   ]
  },
  {
   "cell_type": "code",
   "execution_count": 203,
   "metadata": {},
   "outputs": [],
   "source": [
    "url = 'https://api.github.com/repos/pandas-dev/pandas/issues'"
   ]
  },
  {
   "cell_type": "code",
   "execution_count": 204,
   "metadata": {},
   "outputs": [],
   "source": [
    "response = requests.get(url)"
   ]
  },
  {
   "cell_type": "code",
   "execution_count": 206,
   "metadata": {},
   "outputs": [
    {
     "data": {
      "text/plain": [
       "<Response [200]>"
      ]
     },
     "execution_count": 206,
     "metadata": {},
     "output_type": "execute_result"
    }
   ],
   "source": [
    "response"
   ]
  },
  {
   "cell_type": "code",
   "execution_count": 207,
   "metadata": {},
   "outputs": [],
   "source": [
    "data = response.json()"
   ]
  },
  {
   "cell_type": "code",
   "execution_count": 208,
   "metadata": {},
   "outputs": [
    {
     "data": {
      "text/plain": [
       "[{'url': 'https://api.github.com/repos/pandas-dev/pandas/issues/34423',\n",
       "  'repository_url': 'https://api.github.com/repos/pandas-dev/pandas',\n",
       "  'labels_url': 'https://api.github.com/repos/pandas-dev/pandas/issues/34423/labels{/name}',\n",
       "  'comments_url': 'https://api.github.com/repos/pandas-dev/pandas/issues/34423/comments',\n",
       "  'events_url': 'https://api.github.com/repos/pandas-dev/pandas/issues/34423/events',\n",
       "  'html_url': 'https://github.com/pandas-dev/pandas/pull/34423',\n",
       "  'id': 626204029,\n",
       "  'node_id': 'MDExOlB1bGxSZXF1ZXN0NDI0MjM5OTEz',\n",
       "  'number': 34423,\n",
       "  'title': 'BUG: Fix failing MacPython 32bit wheels for groupby rolling',\n",
       "  'user': {'login': 'mroeschke',\n",
       "   'id': 10647082,\n",
       "   'node_id': 'MDQ6VXNlcjEwNjQ3MDgy',\n",
       "   'avatar_url': 'https://avatars0.githubusercontent.com/u/10647082?v=4',\n",
       "   'gravatar_id': '',\n",
       "   'url': 'https://api.github.com/users/mroeschke',\n",
       "   'html_url': 'https://github.com/mroeschke',\n",
       "   'followers_url': 'https://api.github.com/users/mroeschke/followers',\n",
       "   'following_url': 'https://api.github.com/users/mroeschke/following{/other_user}',\n",
       "   'gists_url': 'https://api.github.com/users/mroeschke/gists{/gist_id}',\n",
       "   'starred_url': 'https://api.github.com/users/mroeschke/starred{/owner}{/repo}',\n",
       "   'subscriptions_url': 'https://api.github.com/users/mroeschke/subscriptions',\n",
       "   'organizations_url': 'https://api.github.com/users/mroeschke/orgs',\n",
       "   'repos_url': 'https://api.github.com/users/mroeschke/repos',\n",
       "   'events_url': 'https://api.github.com/users/mroeschke/events{/privacy}',\n",
       "   'received_events_url': 'https://api.github.com/users/mroeschke/received_events',\n",
       "   'type': 'User',\n",
       "   'site_admin': False},\n",
       "  'labels': [{'id': 563047854,\n",
       "    'node_id': 'MDU6TGFiZWw1NjMwNDc4NTQ=',\n",
       "    'url': 'https://api.github.com/repos/pandas-dev/pandas/labels/32bit',\n",
       "    'name': '32bit',\n",
       "    'color': '0e8a16',\n",
       "    'default': False,\n",
       "    'description': 'Issues specific to 32-bit systems.'},\n",
       "   {'id': 76811,\n",
       "    'node_id': 'MDU6TGFiZWw3NjgxMQ==',\n",
       "    'url': 'https://api.github.com/repos/pandas-dev/pandas/labels/Bug',\n",
       "    'name': 'Bug',\n",
       "    'color': 'e10c02',\n",
       "    'default': False,\n",
       "    'description': None},\n",
       "   {'id': 1045950827,\n",
       "    'node_id': 'MDU6TGFiZWwxMDQ1OTUwODI3',\n",
       "    'url': 'https://api.github.com/repos/pandas-dev/pandas/labels/Window',\n",
       "    'name': 'Window',\n",
       "    'color': 'd4c5f9',\n",
       "    'default': False,\n",
       "    'description': 'rolling, ewma, expanding'}],\n",
       "  'state': 'open',\n",
       "  'locked': False,\n",
       "  'assignee': None,\n",
       "  'assignees': [],\n",
       "  'milestone': None,\n",
       "  'comments': 0,\n",
       "  'created_at': '2020-05-28T04:26:34Z',\n",
       "  'updated_at': '2020-05-28T04:26:56Z',\n",
       "  'closed_at': None,\n",
       "  'author_association': 'MEMBER',\n",
       "  'pull_request': {'url': 'https://api.github.com/repos/pandas-dev/pandas/pulls/34423',\n",
       "   'html_url': 'https://github.com/pandas-dev/pandas/pull/34423',\n",
       "   'diff_url': 'https://github.com/pandas-dev/pandas/pull/34423.diff',\n",
       "   'patch_url': 'https://github.com/pandas-dev/pandas/pull/34423.patch'},\n",
       "  'body': '- [x] closes #34410\\r\\n- [ ] tests added / passed\\r\\n- [x] passes `black pandas`\\r\\n- [x] passes `git diff upstream/master -u -- \"*.py\" | flake8 --diff`\\r\\n\\r\\nWhat would be the best way to validate that this fixes the MacPython/pandas-wheels @TomAugspurger '},\n",
       " {'url': 'https://api.github.com/repos/pandas-dev/pandas/issues/34422',\n",
       "  'repository_url': 'https://api.github.com/repos/pandas-dev/pandas',\n",
       "  'labels_url': 'https://api.github.com/repos/pandas-dev/pandas/issues/34422/labels{/name}',\n",
       "  'comments_url': 'https://api.github.com/repos/pandas-dev/pandas/issues/34422/comments',\n",
       "  'events_url': 'https://api.github.com/repos/pandas-dev/pandas/issues/34422/events',\n",
       "  'html_url': 'https://github.com/pandas-dev/pandas/issues/34422',\n",
       "  'id': 626197784,\n",
       "  'node_id': 'MDU6SXNzdWU2MjYxOTc3ODQ=',\n",
       "  'number': 34422,\n",
       "  'title': 'BUG: SeriesGroupBy works with any column name specified in NamedAgg',\n",
       "  'user': {'login': 'gurukiran07',\n",
       "   'id': 47276342,\n",
       "   'node_id': 'MDQ6VXNlcjQ3Mjc2MzQy',\n",
       "   'avatar_url': 'https://avatars0.githubusercontent.com/u/47276342?v=4',\n",
       "   'gravatar_id': '',\n",
       "   'url': 'https://api.github.com/users/gurukiran07',\n",
       "   'html_url': 'https://github.com/gurukiran07',\n",
       "   'followers_url': 'https://api.github.com/users/gurukiran07/followers',\n",
       "   'following_url': 'https://api.github.com/users/gurukiran07/following{/other_user}',\n",
       "   'gists_url': 'https://api.github.com/users/gurukiran07/gists{/gist_id}',\n",
       "   'starred_url': 'https://api.github.com/users/gurukiran07/starred{/owner}{/repo}',\n",
       "   'subscriptions_url': 'https://api.github.com/users/gurukiran07/subscriptions',\n",
       "   'organizations_url': 'https://api.github.com/users/gurukiran07/orgs',\n",
       "   'repos_url': 'https://api.github.com/users/gurukiran07/repos',\n",
       "   'events_url': 'https://api.github.com/users/gurukiran07/events{/privacy}',\n",
       "   'received_events_url': 'https://api.github.com/users/gurukiran07/received_events',\n",
       "   'type': 'User',\n",
       "   'site_admin': False},\n",
       "  'labels': [{'id': 76811,\n",
       "    'node_id': 'MDU6TGFiZWw3NjgxMQ==',\n",
       "    'url': 'https://api.github.com/repos/pandas-dev/pandas/labels/Bug',\n",
       "    'name': 'Bug',\n",
       "    'color': 'e10c02',\n",
       "    'default': False,\n",
       "    'description': None},\n",
       "   {'id': 1954720290,\n",
       "    'node_id': 'MDU6TGFiZWwxOTU0NzIwMjkw',\n",
       "    'url': 'https://api.github.com/repos/pandas-dev/pandas/labels/Needs%20Triage',\n",
       "    'name': 'Needs Triage',\n",
       "    'color': '0052cc',\n",
       "    'default': False,\n",
       "    'description': 'Issue that has not been reviewed by a pandas team member'}],\n",
       "  'state': 'open',\n",
       "  'locked': False,\n",
       "  'assignee': None,\n",
       "  'assignees': [],\n",
       "  'milestone': None,\n",
       "  'comments': 0,\n",
       "  'created_at': '2020-05-28T04:09:08Z',\n",
       "  'updated_at': '2020-05-28T04:09:08Z',\n",
       "  'closed_at': None,\n",
       "  'author_association': 'NONE',\n",
       "  'body': \"- [x] I have checked that this issue has not already been reported.\\r\\n\\r\\n- [x] I have confirmed this bug exists on the latest version of pandas.\\r\\n\\r\\n- [ ] (optional) I have confirmed this bug exists on the master branch of pandas.\\r\\n\\r\\n---\\r\\n\\r\\n#### Code Sample, a copy-pastable example\\r\\n\\r\\n```python3\\r\\ns = pd.Series([1,1,2,2,3,3,4,5])\\r\\n\\r\\ns.groupby(s.values).agg(one = pd.NamedAgg(column='anything',aggfunc='sum'))\\r\\n   one\\r\\n1    2\\r\\n2    4\\r\\n3    6\\r\\n4    4\\r\\n5    5\\r\\n\\r\\ns.groupby(s.values).agg(one=('something','sum'))\\r\\n\\r\\n   one\\r\\n1    2\\r\\n2    4\\r\\n3    6\\r\\n4    4\\r\\n5    5\\r\\n```\\r\\n\\r\\n#### Problem description\\r\\n\\r\\nFor `SeriesGroupBy.agg` named aggregation, it accepts any column name as mentioned in the above examples but Series doesn't have any columns.\\r\\n\\r\\n#### Expected Output\\r\\nAfter discussing with @TomAugspurger and @MarcoGorelli in another issue #34380 regarding this issue in the comments, We came to a solution that \\r\\n> So for SeriesGroupBy.agg, if there are any tuples or NamedAgg present in kwargs then I think we should raise.\\r\\nDisallowing `NamedAgg` and tuples with `SeriesGroupBy`.\\r\\n```python3\\r\\ns.groupby(s.values).agg(one = pd.NamedAgg(column='anything',aggfunc='sum'))\\r\\n# Error should be raised.\\r\\ns.groupby(s.values).agg(one=('something','sum'))\\r\\n# Error should be raised.\\r\\n```\\r\\n#### Output of ``pd.show_versions()``\\r\\n\\r\\n<details>\\r\\n\\r\\nINSTALLED VERSIONS\\r\\n------------------\\r\\ncommit           : None\\r\\npython           : 3.7.4.final.0\\r\\npython-bits      : 64\\r\\nOS               : Windows\\r\\nOS-release       : 10\\r\\nmachine          : AMD64\\r\\nprocessor        : Intel64 Family 6 Model 94 Stepping 3, GenuineIntel\\r\\nbyteorder        : little\\r\\nLC_ALL           : None\\r\\nLANG             : None\\r\\nLOCALE           : None.None\\r\\n\\r\\npandas           : 1.0.3\\r\\nnumpy            : 1.18.3\\r\\npytz             : 2019.3\\r\\ndateutil         : 2.8.1\\r\\npip              : 20.1.1\\r\\nsetuptools       : 46.1.3\\r\\nCython           : None\\r\\npytest           : None\\r\\nhypothesis       : None\\r\\nsphinx           : None\\r\\nblosc            : None\\r\\nfeather          : None\\r\\nxlsxwriter       : None\\r\\nlxml.etree       : None\\r\\nhtml5lib         : None\\r\\npymysql          : None\\r\\npsycopg2         : None\\r\\njinja2           : 2.11.2\\r\\nIPython          : 7.13.0\\r\\npandas_datareader: None\\r\\nbs4              : None\\r\\nbottleneck       : None\\r\\nfastparquet      : None\\r\\ngcsfs            : None\\r\\nlxml.etree       : None\\r\\nmatplotlib       : 3.2.1\\r\\nnumexpr          : None\\r\\nodfpy            : None\\r\\nopenpyxl         : None\\r\\npandas_gbq       : None\\r\\npyarrow          : None\\r\\npytables         : None\\r\\npytest           : None\\r\\npyxlsb           : None\\r\\ns3fs             : None\\r\\nscipy            : 1.4.1\\r\\nsqlalchemy       : None\\r\\ntables           : None\\r\\ntabulate         : None\\r\\nxarray           : None\\r\\nxlrd             : 1.2.0\\r\\nxlwt             : None\\r\\nxlsxwriter       : None\\r\\nnumba            : None\\r\\n\\r\\n</details>\\r\\n\"},\n",
       " {'url': 'https://api.github.com/repos/pandas-dev/pandas/issues/34421',\n",
       "  'repository_url': 'https://api.github.com/repos/pandas-dev/pandas',\n",
       "  'labels_url': 'https://api.github.com/repos/pandas-dev/pandas/issues/34421/labels{/name}',\n",
       "  'comments_url': 'https://api.github.com/repos/pandas-dev/pandas/issues/34421/comments',\n",
       "  'events_url': 'https://api.github.com/repos/pandas-dev/pandas/issues/34421/events',\n",
       "  'html_url': 'https://github.com/pandas-dev/pandas/pull/34421',\n",
       "  'id': 626180510,\n",
       "  'node_id': 'MDExOlB1bGxSZXF1ZXN0NDI0MjIyMDc1',\n",
       "  'number': 34421,\n",
       "  'title': 'BUG: taking slices in _slice_take_blocks_ax0',\n",
       "  'user': {'login': 'jbrockmendel',\n",
       "   'id': 8078968,\n",
       "   'node_id': 'MDQ6VXNlcjgwNzg5Njg=',\n",
       "   'avatar_url': 'https://avatars1.githubusercontent.com/u/8078968?v=4',\n",
       "   'gravatar_id': '',\n",
       "   'url': 'https://api.github.com/users/jbrockmendel',\n",
       "   'html_url': 'https://github.com/jbrockmendel',\n",
       "   'followers_url': 'https://api.github.com/users/jbrockmendel/followers',\n",
       "   'following_url': 'https://api.github.com/users/jbrockmendel/following{/other_user}',\n",
       "   'gists_url': 'https://api.github.com/users/jbrockmendel/gists{/gist_id}',\n",
       "   'starred_url': 'https://api.github.com/users/jbrockmendel/starred{/owner}{/repo}',\n",
       "   'subscriptions_url': 'https://api.github.com/users/jbrockmendel/subscriptions',\n",
       "   'organizations_url': 'https://api.github.com/users/jbrockmendel/orgs',\n",
       "   'repos_url': 'https://api.github.com/users/jbrockmendel/repos',\n",
       "   'events_url': 'https://api.github.com/users/jbrockmendel/events{/privacy}',\n",
       "   'received_events_url': 'https://api.github.com/users/jbrockmendel/received_events',\n",
       "   'type': 'User',\n",
       "   'site_admin': False},\n",
       "  'labels': [],\n",
       "  'state': 'open',\n",
       "  'locked': False,\n",
       "  'assignee': None,\n",
       "  'assignees': [],\n",
       "  'milestone': None,\n",
       "  'comments': 0,\n",
       "  'created_at': '2020-05-28T03:16:31Z',\n",
       "  'updated_at': '2020-05-28T03:16:31Z',\n",
       "  'closed_at': None,\n",
       "  'author_association': 'MEMBER',\n",
       "  'pull_request': {'url': 'https://api.github.com/repos/pandas-dev/pandas/pulls/34421',\n",
       "   'html_url': 'https://github.com/pandas-dev/pandas/pull/34421',\n",
       "   'diff_url': 'https://github.com/pandas-dev/pandas/pull/34421.diff',\n",
       "   'patch_url': 'https://github.com/pandas-dev/pandas/pull/34421.patch'},\n",
       "  'body': '- [x] closes #34367\\r\\n- [x] tests added / passed\\r\\n- [x] passes `black pandas`\\r\\n- [x] passes `git diff upstream/master -u -- \"*.py\" | flake8 --diff`\\r\\n- [ ] whatsnew entry\\r\\n'},\n",
       " {'url': 'https://api.github.com/repos/pandas-dev/pandas/issues/34420',\n",
       "  'repository_url': 'https://api.github.com/repos/pandas-dev/pandas',\n",
       "  'labels_url': 'https://api.github.com/repos/pandas-dev/pandas/issues/34420/labels{/name}',\n",
       "  'comments_url': 'https://api.github.com/repos/pandas-dev/pandas/issues/34420/comments',\n",
       "  'events_url': 'https://api.github.com/repos/pandas-dev/pandas/issues/34420/events',\n",
       "  'html_url': 'https://github.com/pandas-dev/pandas/pull/34420',\n",
       "  'id': 626160397,\n",
       "  'node_id': 'MDExOlB1bGxSZXF1ZXN0NDI0MjA2Nzcw',\n",
       "  'number': 34420,\n",
       "  'title': 'REF: move to_offset to liboffsets',\n",
       "  'user': {'login': 'jbrockmendel',\n",
       "   'id': 8078968,\n",
       "   'node_id': 'MDQ6VXNlcjgwNzg5Njg=',\n",
       "   'avatar_url': 'https://avatars1.githubusercontent.com/u/8078968?v=4',\n",
       "   'gravatar_id': '',\n",
       "   'url': 'https://api.github.com/users/jbrockmendel',\n",
       "   'html_url': 'https://github.com/jbrockmendel',\n",
       "   'followers_url': 'https://api.github.com/users/jbrockmendel/followers',\n",
       "   'following_url': 'https://api.github.com/users/jbrockmendel/following{/other_user}',\n",
       "   'gists_url': 'https://api.github.com/users/jbrockmendel/gists{/gist_id}',\n",
       "   'starred_url': 'https://api.github.com/users/jbrockmendel/starred{/owner}{/repo}',\n",
       "   'subscriptions_url': 'https://api.github.com/users/jbrockmendel/subscriptions',\n",
       "   'organizations_url': 'https://api.github.com/users/jbrockmendel/orgs',\n",
       "   'repos_url': 'https://api.github.com/users/jbrockmendel/repos',\n",
       "   'events_url': 'https://api.github.com/users/jbrockmendel/events{/privacy}',\n",
       "   'received_events_url': 'https://api.github.com/users/jbrockmendel/received_events',\n",
       "   'type': 'User',\n",
       "   'site_admin': False},\n",
       "  'labels': [],\n",
       "  'state': 'open',\n",
       "  'locked': False,\n",
       "  'assignee': None,\n",
       "  'assignees': [],\n",
       "  'milestone': None,\n",
       "  'comments': 0,\n",
       "  'created_at': '2020-05-28T02:16:20Z',\n",
       "  'updated_at': '2020-05-28T03:20:31Z',\n",
       "  'closed_at': None,\n",
       "  'author_association': 'MEMBER',\n",
       "  'pull_request': {'url': 'https://api.github.com/repos/pandas-dev/pandas/pulls/34420',\n",
       "   'html_url': 'https://github.com/pandas-dev/pandas/pull/34420',\n",
       "   'diff_url': 'https://github.com/pandas-dev/pandas/pull/34420.diff',\n",
       "   'patch_url': 'https://github.com/pandas-dev/pandas/pull/34420.patch'},\n",
       "  'body': ''},\n",
       " {'url': 'https://api.github.com/repos/pandas-dev/pandas/issues/34419',\n",
       "  'repository_url': 'https://api.github.com/repos/pandas-dev/pandas',\n",
       "  'labels_url': 'https://api.github.com/repos/pandas-dev/pandas/issues/34419/labels{/name}',\n",
       "  'comments_url': 'https://api.github.com/repos/pandas-dev/pandas/issues/34419/comments',\n",
       "  'events_url': 'https://api.github.com/repos/pandas-dev/pandas/issues/34419/events',\n",
       "  'html_url': 'https://github.com/pandas-dev/pandas/pull/34419',\n",
       "  'id': 626122785,\n",
       "  'node_id': 'MDExOlB1bGxSZXF1ZXN0NDI0MTc5MTkx',\n",
       "  'number': 34419,\n",
       "  'title': 'REF: make remaining offset classes cdef',\n",
       "  'user': {'login': 'jbrockmendel',\n",
       "   'id': 8078968,\n",
       "   'node_id': 'MDQ6VXNlcjgwNzg5Njg=',\n",
       "   'avatar_url': 'https://avatars1.githubusercontent.com/u/8078968?v=4',\n",
       "   'gravatar_id': '',\n",
       "   'url': 'https://api.github.com/users/jbrockmendel',\n",
       "   'html_url': 'https://github.com/jbrockmendel',\n",
       "   'followers_url': 'https://api.github.com/users/jbrockmendel/followers',\n",
       "   'following_url': 'https://api.github.com/users/jbrockmendel/following{/other_user}',\n",
       "   'gists_url': 'https://api.github.com/users/jbrockmendel/gists{/gist_id}',\n",
       "   'starred_url': 'https://api.github.com/users/jbrockmendel/starred{/owner}{/repo}',\n",
       "   'subscriptions_url': 'https://api.github.com/users/jbrockmendel/subscriptions',\n",
       "   'organizations_url': 'https://api.github.com/users/jbrockmendel/orgs',\n",
       "   'repos_url': 'https://api.github.com/users/jbrockmendel/repos',\n",
       "   'events_url': 'https://api.github.com/users/jbrockmendel/events{/privacy}',\n",
       "   'received_events_url': 'https://api.github.com/users/jbrockmendel/received_events',\n",
       "   'type': 'User',\n",
       "   'site_admin': False},\n",
       "  'labels': [],\n",
       "  'state': 'open',\n",
       "  'locked': False,\n",
       "  'assignee': None,\n",
       "  'assignees': [],\n",
       "  'milestone': None,\n",
       "  'comments': 0,\n",
       "  'created_at': '2020-05-28T00:20:04Z',\n",
       "  'updated_at': '2020-05-28T00:20:04Z',\n",
       "  'closed_at': None,\n",
       "  'author_association': 'MEMBER',\n",
       "  'pull_request': {'url': 'https://api.github.com/repos/pandas-dev/pandas/pulls/34419',\n",
       "   'html_url': 'https://github.com/pandas-dev/pandas/pull/34419',\n",
       "   'diff_url': 'https://github.com/pandas-dev/pandas/pull/34419.diff',\n",
       "   'patch_url': 'https://github.com/pandas-dev/pandas/pull/34419.patch'},\n",
       "  'body': 'After this its just down to\\r\\n\\r\\n1) a pass to clean up pickle-based kludges that were needed when these were mixed python/cython\\r\\n2) privatize things in liboffsets no longer needed externally\\r\\n3) move to_offset int liboffsets'},\n",
       " {'url': 'https://api.github.com/repos/pandas-dev/pandas/issues/34418',\n",
       "  'repository_url': 'https://api.github.com/repos/pandas-dev/pandas',\n",
       "  'labels_url': 'https://api.github.com/repos/pandas-dev/pandas/issues/34418/labels{/name}',\n",
       "  'comments_url': 'https://api.github.com/repos/pandas-dev/pandas/issues/34418/comments',\n",
       "  'events_url': 'https://api.github.com/repos/pandas-dev/pandas/issues/34418/events',\n",
       "  'html_url': 'https://github.com/pandas-dev/pandas/pull/34418',\n",
       "  'id': 626098711,\n",
       "  'node_id': 'MDExOlB1bGxSZXF1ZXN0NDI0MTYwNjM0',\n",
       "  'number': 34418,\n",
       "  'title': 'DEPR: deprecate non keyword arguments in read_excel',\n",
       "  'user': {'login': 'topper-123',\n",
       "   'id': 26364415,\n",
       "   'node_id': 'MDQ6VXNlcjI2MzY0NDE1',\n",
       "   'avatar_url': 'https://avatars1.githubusercontent.com/u/26364415?v=4',\n",
       "   'gravatar_id': '',\n",
       "   'url': 'https://api.github.com/users/topper-123',\n",
       "   'html_url': 'https://github.com/topper-123',\n",
       "   'followers_url': 'https://api.github.com/users/topper-123/followers',\n",
       "   'following_url': 'https://api.github.com/users/topper-123/following{/other_user}',\n",
       "   'gists_url': 'https://api.github.com/users/topper-123/gists{/gist_id}',\n",
       "   'starred_url': 'https://api.github.com/users/topper-123/starred{/owner}{/repo}',\n",
       "   'subscriptions_url': 'https://api.github.com/users/topper-123/subscriptions',\n",
       "   'organizations_url': 'https://api.github.com/users/topper-123/orgs',\n",
       "   'repos_url': 'https://api.github.com/users/topper-123/repos',\n",
       "   'events_url': 'https://api.github.com/users/topper-123/events{/privacy}',\n",
       "   'received_events_url': 'https://api.github.com/users/topper-123/received_events',\n",
       "   'type': 'User',\n",
       "   'site_admin': False},\n",
       "  'labels': [{'id': 1741841389,\n",
       "    'node_id': 'MDU6TGFiZWwxNzQxODQxMzg5',\n",
       "    'url': 'https://api.github.com/repos/pandas-dev/pandas/labels/API%20-%20Consistency',\n",
       "    'name': 'API - Consistency',\n",
       "    'color': 'b60205',\n",
       "    'default': False,\n",
       "    'description': 'Internal Consistency of API/Behavior'},\n",
       "   {'id': 49254273,\n",
       "    'node_id': 'MDU6TGFiZWw0OTI1NDI3Mw==',\n",
       "    'url': 'https://api.github.com/repos/pandas-dev/pandas/labels/IO%20Excel',\n",
       "    'name': 'IO Excel',\n",
       "    'color': 'bfe5bf',\n",
       "    'default': False,\n",
       "    'description': 'read_excel, to_excel'}],\n",
       "  'state': 'open',\n",
       "  'locked': False,\n",
       "  'assignee': None,\n",
       "  'assignees': [],\n",
       "  'milestone': {'url': 'https://api.github.com/repos/pandas-dev/pandas/milestones/68',\n",
       "   'html_url': 'https://github.com/pandas-dev/pandas/milestone/68',\n",
       "   'labels_url': 'https://api.github.com/repos/pandas-dev/pandas/milestones/68/labels',\n",
       "   'id': 4894670,\n",
       "   'node_id': 'MDk6TWlsZXN0b25lNDg5NDY3MA==',\n",
       "   'number': 68,\n",
       "   'title': '1.1',\n",
       "   'description': 'after 1.0',\n",
       "   'creator': {'login': 'jreback',\n",
       "    'id': 953992,\n",
       "    'node_id': 'MDQ6VXNlcjk1Mzk5Mg==',\n",
       "    'avatar_url': 'https://avatars2.githubusercontent.com/u/953992?v=4',\n",
       "    'gravatar_id': '',\n",
       "    'url': 'https://api.github.com/users/jreback',\n",
       "    'html_url': 'https://github.com/jreback',\n",
       "    'followers_url': 'https://api.github.com/users/jreback/followers',\n",
       "    'following_url': 'https://api.github.com/users/jreback/following{/other_user}',\n",
       "    'gists_url': 'https://api.github.com/users/jreback/gists{/gist_id}',\n",
       "    'starred_url': 'https://api.github.com/users/jreback/starred{/owner}{/repo}',\n",
       "    'subscriptions_url': 'https://api.github.com/users/jreback/subscriptions',\n",
       "    'organizations_url': 'https://api.github.com/users/jreback/orgs',\n",
       "    'repos_url': 'https://api.github.com/users/jreback/repos',\n",
       "    'events_url': 'https://api.github.com/users/jreback/events{/privacy}',\n",
       "    'received_events_url': 'https://api.github.com/users/jreback/received_events',\n",
       "    'type': 'User',\n",
       "    'site_admin': False},\n",
       "   'open_issues': 128,\n",
       "   'closed_issues': 1746,\n",
       "   'state': 'open',\n",
       "   'created_at': '2019-12-02T12:52:48Z',\n",
       "   'updated_at': '2020-05-28T06:02:27Z',\n",
       "   'due_on': '2020-08-01T07:00:00Z',\n",
       "   'closed_at': None},\n",
       "  'comments': 0,\n",
       "  'created_at': '2020-05-27T23:15:39Z',\n",
       "  'updated_at': '2020-05-28T07:30:20Z',\n",
       "  'closed_at': None,\n",
       "  'author_association': 'CONTRIBUTOR',\n",
       "  'pull_request': {'url': 'https://api.github.com/repos/pandas-dev/pandas/pulls/34418',\n",
       "   'html_url': 'https://github.com/pandas-dev/pandas/pull/34418',\n",
       "   'diff_url': 'https://github.com/pandas-dev/pandas/pull/34418.diff',\n",
       "   'patch_url': 'https://github.com/pandas-dev/pandas/pull/34418.patch'},\n",
       "  'body': 'Follow-up to #27573.\\r\\n\\r\\nAllows two non-keyword arguments, ``io`` and ``sheet_name``. I think ``sheet_name`` is quite often (e.g. Interactively) supplied without being a keyword argument and requiring it will just be needlessly annoying.\\r\\n\\r\\nAlso some clean-up in pandas/tests/io/excel.'},\n",
       " {'url': 'https://api.github.com/repos/pandas-dev/pandas/issues/34417',\n",
       "  'repository_url': 'https://api.github.com/repos/pandas-dev/pandas',\n",
       "  'labels_url': 'https://api.github.com/repos/pandas-dev/pandas/issues/34417/labels{/name}',\n",
       "  'comments_url': 'https://api.github.com/repos/pandas-dev/pandas/issues/34417/comments',\n",
       "  'events_url': 'https://api.github.com/repos/pandas-dev/pandas/issues/34417/events',\n",
       "  'html_url': 'https://github.com/pandas-dev/pandas/pull/34417',\n",
       "  'id': 626023731,\n",
       "  'node_id': 'MDExOlB1bGxSZXF1ZXN0NDI0MTA4ODMy',\n",
       "  'number': 34417,\n",
       "  'title': 'TST closes #28980 Certain comparison operations misbehaving for period dtype',\n",
       "  'user': {'login': 'OlivierLuG',\n",
       "   'id': 59281854,\n",
       "   'node_id': 'MDQ6VXNlcjU5MjgxODU0',\n",
       "   'avatar_url': 'https://avatars2.githubusercontent.com/u/59281854?v=4',\n",
       "   'gravatar_id': '',\n",
       "   'url': 'https://api.github.com/users/OlivierLuG',\n",
       "   'html_url': 'https://github.com/OlivierLuG',\n",
       "   'followers_url': 'https://api.github.com/users/OlivierLuG/followers',\n",
       "   'following_url': 'https://api.github.com/users/OlivierLuG/following{/other_user}',\n",
       "   'gists_url': 'https://api.github.com/users/OlivierLuG/gists{/gist_id}',\n",
       "   'starred_url': 'https://api.github.com/users/OlivierLuG/starred{/owner}{/repo}',\n",
       "   'subscriptions_url': 'https://api.github.com/users/OlivierLuG/subscriptions',\n",
       "   'organizations_url': 'https://api.github.com/users/OlivierLuG/orgs',\n",
       "   'repos_url': 'https://api.github.com/users/OlivierLuG/repos',\n",
       "   'events_url': 'https://api.github.com/users/OlivierLuG/events{/privacy}',\n",
       "   'received_events_url': 'https://api.github.com/users/OlivierLuG/received_events',\n",
       "   'type': 'User',\n",
       "   'site_admin': False},\n",
       "  'labels': [{'id': 60635328,\n",
       "    'node_id': 'MDU6TGFiZWw2MDYzNTMyOA==',\n",
       "    'url': 'https://api.github.com/repos/pandas-dev/pandas/labels/Period',\n",
       "    'name': 'Period',\n",
       "    'color': 'eb6420',\n",
       "    'default': False,\n",
       "    'description': 'Period data type'},\n",
       "   {'id': 127685,\n",
       "    'node_id': 'MDU6TGFiZWwxMjc2ODU=',\n",
       "    'url': 'https://api.github.com/repos/pandas-dev/pandas/labels/Testing',\n",
       "    'name': 'Testing',\n",
       "    'color': 'C4A000',\n",
       "    'default': False,\n",
       "    'description': 'Custom testing functions or related to the test suite'}],\n",
       "  'state': 'open',\n",
       "  'locked': False,\n",
       "  'assignee': None,\n",
       "  'assignees': [],\n",
       "  'milestone': {'url': 'https://api.github.com/repos/pandas-dev/pandas/milestones/68',\n",
       "   'html_url': 'https://github.com/pandas-dev/pandas/milestone/68',\n",
       "   'labels_url': 'https://api.github.com/repos/pandas-dev/pandas/milestones/68/labels',\n",
       "   'id': 4894670,\n",
       "   'node_id': 'MDk6TWlsZXN0b25lNDg5NDY3MA==',\n",
       "   'number': 68,\n",
       "   'title': '1.1',\n",
       "   'description': 'after 1.0',\n",
       "   'creator': {'login': 'jreback',\n",
       "    'id': 953992,\n",
       "    'node_id': 'MDQ6VXNlcjk1Mzk5Mg==',\n",
       "    'avatar_url': 'https://avatars2.githubusercontent.com/u/953992?v=4',\n",
       "    'gravatar_id': '',\n",
       "    'url': 'https://api.github.com/users/jreback',\n",
       "    'html_url': 'https://github.com/jreback',\n",
       "    'followers_url': 'https://api.github.com/users/jreback/followers',\n",
       "    'following_url': 'https://api.github.com/users/jreback/following{/other_user}',\n",
       "    'gists_url': 'https://api.github.com/users/jreback/gists{/gist_id}',\n",
       "    'starred_url': 'https://api.github.com/users/jreback/starred{/owner}{/repo}',\n",
       "    'subscriptions_url': 'https://api.github.com/users/jreback/subscriptions',\n",
       "    'organizations_url': 'https://api.github.com/users/jreback/orgs',\n",
       "    'repos_url': 'https://api.github.com/users/jreback/repos',\n",
       "    'events_url': 'https://api.github.com/users/jreback/events{/privacy}',\n",
       "    'received_events_url': 'https://api.github.com/users/jreback/received_events',\n",
       "    'type': 'User',\n",
       "    'site_admin': False},\n",
       "   'open_issues': 128,\n",
       "   'closed_issues': 1746,\n",
       "   'state': 'open',\n",
       "   'created_at': '2019-12-02T12:52:48Z',\n",
       "   'updated_at': '2020-05-28T06:02:27Z',\n",
       "   'due_on': '2020-08-01T07:00:00Z',\n",
       "   'closed_at': None},\n",
       "  'comments': 2,\n",
       "  'created_at': '2020-05-27T20:54:29Z',\n",
       "  'updated_at': '2020-05-28T04:39:24Z',\n",
       "  'closed_at': None,\n",
       "  'author_association': 'CONTRIBUTOR',\n",
       "  'pull_request': {'url': 'https://api.github.com/repos/pandas-dev/pandas/pulls/34417',\n",
       "   'html_url': 'https://github.com/pandas-dev/pandas/pull/34417',\n",
       "   'diff_url': 'https://github.com/pandas-dev/pandas/pull/34417.diff',\n",
       "   'patch_url': 'https://github.com/pandas-dev/pandas/pull/34417.patch'},\n",
       "  'body': 'I\\'ve added test to compare `pd.Series([...], dtype=\"period[A-DEC]\")`  to dtype `str`, `bool`, `int`, `float` and `None`.\\r\\n\\r\\n- [ x ] closes #28980\\r\\n- [ 5 ] tests added / passed\\r\\n- [ x ] passes `black pandas`\\r\\n- [ x ] passes `git diff upstream/master -u -- \"*.py\" | flake8 --diff`\\r\\n'},\n",
       " {'url': 'https://api.github.com/repos/pandas-dev/pandas/issues/34416',\n",
       "  'repository_url': 'https://api.github.com/repos/pandas-dev/pandas',\n",
       "  'labels_url': 'https://api.github.com/repos/pandas-dev/pandas/issues/34416/labels{/name}',\n",
       "  'comments_url': 'https://api.github.com/repos/pandas-dev/pandas/issues/34416/comments',\n",
       "  'events_url': 'https://api.github.com/repos/pandas-dev/pandas/issues/34416/events',\n",
       "  'html_url': 'https://github.com/pandas-dev/pandas/pull/34416',\n",
       "  'id': 625991196,\n",
       "  'node_id': 'MDExOlB1bGxSZXF1ZXN0NDI0MDg0Nzgz',\n",
       "  'number': 34416,\n",
       "  'title': 'Macpython 32 bit build fixup',\n",
       "  'user': {'login': 'TomAugspurger',\n",
       "   'id': 1312546,\n",
       "   'node_id': 'MDQ6VXNlcjEzMTI1NDY=',\n",
       "   'avatar_url': 'https://avatars3.githubusercontent.com/u/1312546?v=4',\n",
       "   'gravatar_id': '',\n",
       "   'url': 'https://api.github.com/users/TomAugspurger',\n",
       "   'html_url': 'https://github.com/TomAugspurger',\n",
       "   'followers_url': 'https://api.github.com/users/TomAugspurger/followers',\n",
       "   'following_url': 'https://api.github.com/users/TomAugspurger/following{/other_user}',\n",
       "   'gists_url': 'https://api.github.com/users/TomAugspurger/gists{/gist_id}',\n",
       "   'starred_url': 'https://api.github.com/users/TomAugspurger/starred{/owner}{/repo}',\n",
       "   'subscriptions_url': 'https://api.github.com/users/TomAugspurger/subscriptions',\n",
       "   'organizations_url': 'https://api.github.com/users/TomAugspurger/orgs',\n",
       "   'repos_url': 'https://api.github.com/users/TomAugspurger/repos',\n",
       "   'events_url': 'https://api.github.com/users/TomAugspurger/events{/privacy}',\n",
       "   'received_events_url': 'https://api.github.com/users/TomAugspurger/received_events',\n",
       "   'type': 'User',\n",
       "   'site_admin': False},\n",
       "  'labels': [{'id': 563047854,\n",
       "    'node_id': 'MDU6TGFiZWw1NjMwNDc4NTQ=',\n",
       "    'url': 'https://api.github.com/repos/pandas-dev/pandas/labels/32bit',\n",
       "    'name': '32bit',\n",
       "    'color': '0e8a16',\n",
       "    'default': False,\n",
       "    'description': 'Issues specific to 32-bit systems.'},\n",
       "   {'id': 129350,\n",
       "    'node_id': 'MDU6TGFiZWwxMjkzNTA=',\n",
       "    'url': 'https://api.github.com/repos/pandas-dev/pandas/labels/Build',\n",
       "    'name': 'Build',\n",
       "    'color': '75507B',\n",
       "    'default': False,\n",
       "    'description': 'Library building on various platforms'}],\n",
       "  'state': 'open',\n",
       "  'locked': False,\n",
       "  'assignee': None,\n",
       "  'assignees': [],\n",
       "  'milestone': {'url': 'https://api.github.com/repos/pandas-dev/pandas/milestones/68',\n",
       "   'html_url': 'https://github.com/pandas-dev/pandas/milestone/68',\n",
       "   'labels_url': 'https://api.github.com/repos/pandas-dev/pandas/milestones/68/labels',\n",
       "   'id': 4894670,\n",
       "   'node_id': 'MDk6TWlsZXN0b25lNDg5NDY3MA==',\n",
       "   'number': 68,\n",
       "   'title': '1.1',\n",
       "   'description': 'after 1.0',\n",
       "   'creator': {'login': 'jreback',\n",
       "    'id': 953992,\n",
       "    'node_id': 'MDQ6VXNlcjk1Mzk5Mg==',\n",
       "    'avatar_url': 'https://avatars2.githubusercontent.com/u/953992?v=4',\n",
       "    'gravatar_id': '',\n",
       "    'url': 'https://api.github.com/users/jreback',\n",
       "    'html_url': 'https://github.com/jreback',\n",
       "    'followers_url': 'https://api.github.com/users/jreback/followers',\n",
       "    'following_url': 'https://api.github.com/users/jreback/following{/other_user}',\n",
       "    'gists_url': 'https://api.github.com/users/jreback/gists{/gist_id}',\n",
       "    'starred_url': 'https://api.github.com/users/jreback/starred{/owner}{/repo}',\n",
       "    'subscriptions_url': 'https://api.github.com/users/jreback/subscriptions',\n",
       "    'organizations_url': 'https://api.github.com/users/jreback/orgs',\n",
       "    'repos_url': 'https://api.github.com/users/jreback/repos',\n",
       "    'events_url': 'https://api.github.com/users/jreback/events{/privacy}',\n",
       "    'received_events_url': 'https://api.github.com/users/jreback/received_events',\n",
       "    'type': 'User',\n",
       "    'site_admin': False},\n",
       "   'open_issues': 128,\n",
       "   'closed_issues': 1746,\n",
       "   'state': 'open',\n",
       "   'created_at': '2019-12-02T12:52:48Z',\n",
       "   'updated_at': '2020-05-28T06:02:27Z',\n",
       "   'due_on': '2020-08-01T07:00:00Z',\n",
       "   'closed_at': None},\n",
       "  'comments': 3,\n",
       "  'created_at': '2020-05-27T20:00:26Z',\n",
       "  'updated_at': '2020-05-28T01:51:58Z',\n",
       "  'closed_at': None,\n",
       "  'author_association': 'CONTRIBUTOR',\n",
       "  'pull_request': {'url': 'https://api.github.com/repos/pandas-dev/pandas/pulls/34416',\n",
       "   'html_url': 'https://github.com/pandas-dev/pandas/pull/34416',\n",
       "   'diff_url': 'https://github.com/pandas-dev/pandas/pull/34416.diff',\n",
       "   'patch_url': 'https://github.com/pandas-dev/pandas/pull/34416.patch'},\n",
       "  'body': 'Closes #34114 \\r\\n\\r\\ncc @jbrockmendel and @WillAyd. I have no idea if this is correct, but it builds.'},\n",
       " {'url': 'https://api.github.com/repos/pandas-dev/pandas/issues/34414',\n",
       "  'repository_url': 'https://api.github.com/repos/pandas-dev/pandas',\n",
       "  'labels_url': 'https://api.github.com/repos/pandas-dev/pandas/issues/34414/labels{/name}',\n",
       "  'comments_url': 'https://api.github.com/repos/pandas-dev/pandas/issues/34414/comments',\n",
       "  'events_url': 'https://api.github.com/repos/pandas-dev/pandas/issues/34414/events',\n",
       "  'html_url': 'https://github.com/pandas-dev/pandas/pull/34414',\n",
       "  'id': 625934316,\n",
       "  'node_id': 'MDExOlB1bGxSZXF1ZXN0NDI0MDQxOTQy',\n",
       "  'number': 34414,\n",
       "  'title': '33814 merge partial index and index fails empty result',\n",
       "  'user': {'login': 'phofl',\n",
       "   'id': 61934744,\n",
       "   'node_id': 'MDQ6VXNlcjYxOTM0NzQ0',\n",
       "   'avatar_url': 'https://avatars1.githubusercontent.com/u/61934744?v=4',\n",
       "   'gravatar_id': '',\n",
       "   'url': 'https://api.github.com/users/phofl',\n",
       "   'html_url': 'https://github.com/phofl',\n",
       "   'followers_url': 'https://api.github.com/users/phofl/followers',\n",
       "   'following_url': 'https://api.github.com/users/phofl/following{/other_user}',\n",
       "   'gists_url': 'https://api.github.com/users/phofl/gists{/gist_id}',\n",
       "   'starred_url': 'https://api.github.com/users/phofl/starred{/owner}{/repo}',\n",
       "   'subscriptions_url': 'https://api.github.com/users/phofl/subscriptions',\n",
       "   'organizations_url': 'https://api.github.com/users/phofl/orgs',\n",
       "   'repos_url': 'https://api.github.com/users/phofl/repos',\n",
       "   'events_url': 'https://api.github.com/users/phofl/events{/privacy}',\n",
       "   'received_events_url': 'https://api.github.com/users/phofl/received_events',\n",
       "   'type': 'User',\n",
       "   'site_admin': False},\n",
       "  'labels': [{'id': 76811,\n",
       "    'node_id': 'MDU6TGFiZWw3NjgxMQ==',\n",
       "    'url': 'https://api.github.com/repos/pandas-dev/pandas/labels/Bug',\n",
       "    'name': 'Bug',\n",
       "    'color': 'e10c02',\n",
       "    'default': False,\n",
       "    'description': None},\n",
       "   {'id': 13098779,\n",
       "    'node_id': 'MDU6TGFiZWwxMzA5ODc3OQ==',\n",
       "    'url': 'https://api.github.com/repos/pandas-dev/pandas/labels/Reshaping',\n",
       "    'name': 'Reshaping',\n",
       "    'color': '02d7e1',\n",
       "    'default': False,\n",
       "    'description': 'Concat, Merge/Join, Stack/Unstack'}],\n",
       "  'state': 'open',\n",
       "  'locked': False,\n",
       "  'assignee': None,\n",
       "  'assignees': [],\n",
       "  'milestone': None,\n",
       "  'comments': 0,\n",
       "  'created_at': '2020-05-27T18:35:11Z',\n",
       "  'updated_at': '2020-05-28T00:05:07Z',\n",
       "  'closed_at': None,\n",
       "  'author_association': 'CONTRIBUTOR',\n",
       "  'pull_request': {'url': 'https://api.github.com/repos/pandas-dev/pandas/pulls/34414',\n",
       "   'html_url': 'https://github.com/pandas-dev/pandas/pull/34414',\n",
       "   'diff_url': 'https://github.com/pandas-dev/pandas/pull/34414.diff',\n",
       "   'patch_url': 'https://github.com/pandas-dev/pandas/pull/34414.patch'},\n",
       "  'body': '- [x] closes #33814\\r\\n- [x] tests added / passed\\r\\n- [x] passes `black pandas`\\r\\n- [x] passes `git diff upstream/master -u -- \"*.py\" | flake8 --diff`\\r\\n- [x] whatsnew entry\\r\\n\\r\\nThe Issue was caused when setting the name of an numpy array.'},\n",
       " {'url': 'https://api.github.com/repos/pandas-dev/pandas/issues/34413',\n",
       "  'repository_url': 'https://api.github.com/repos/pandas-dev/pandas',\n",
       "  'labels_url': 'https://api.github.com/repos/pandas-dev/pandas/issues/34413/labels{/name}',\n",
       "  'comments_url': 'https://api.github.com/repos/pandas-dev/pandas/issues/34413/comments',\n",
       "  'events_url': 'https://api.github.com/repos/pandas-dev/pandas/issues/34413/events',\n",
       "  'html_url': 'https://github.com/pandas-dev/pandas/issues/34413',\n",
       "  'id': 625894910,\n",
       "  'node_id': 'MDU6SXNzdWU2MjU4OTQ5MTA=',\n",
       "  'number': 34413,\n",
       "  'title': 'TST: slow test_nearest_upsample_with_limit with tzlocal',\n",
       "  'user': {'login': 'jbrockmendel',\n",
       "   'id': 8078968,\n",
       "   'node_id': 'MDQ6VXNlcjgwNzg5Njg=',\n",
       "   'avatar_url': 'https://avatars1.githubusercontent.com/u/8078968?v=4',\n",
       "   'gravatar_id': '',\n",
       "   'url': 'https://api.github.com/users/jbrockmendel',\n",
       "   'html_url': 'https://github.com/jbrockmendel',\n",
       "   'followers_url': 'https://api.github.com/users/jbrockmendel/followers',\n",
       "   'following_url': 'https://api.github.com/users/jbrockmendel/following{/other_user}',\n",
       "   'gists_url': 'https://api.github.com/users/jbrockmendel/gists{/gist_id}',\n",
       "   'starred_url': 'https://api.github.com/users/jbrockmendel/starred{/owner}{/repo}',\n",
       "   'subscriptions_url': 'https://api.github.com/users/jbrockmendel/subscriptions',\n",
       "   'organizations_url': 'https://api.github.com/users/jbrockmendel/orgs',\n",
       "   'repos_url': 'https://api.github.com/users/jbrockmendel/repos',\n",
       "   'events_url': 'https://api.github.com/users/jbrockmendel/events{/privacy}',\n",
       "   'received_events_url': 'https://api.github.com/users/jbrockmendel/received_events',\n",
       "   'type': 'User',\n",
       "   'site_admin': False},\n",
       "  'labels': [{'id': 76811,\n",
       "    'node_id': 'MDU6TGFiZWw3NjgxMQ==',\n",
       "    'url': 'https://api.github.com/repos/pandas-dev/pandas/labels/Bug',\n",
       "    'name': 'Bug',\n",
       "    'color': 'e10c02',\n",
       "    'default': False,\n",
       "    'description': None},\n",
       "   {'id': 1954720290,\n",
       "    'node_id': 'MDU6TGFiZWwxOTU0NzIwMjkw',\n",
       "    'url': 'https://api.github.com/repos/pandas-dev/pandas/labels/Needs%20Triage',\n",
       "    'name': 'Needs Triage',\n",
       "    'color': '0052cc',\n",
       "    'default': False,\n",
       "    'description': 'Issue that has not been reviewed by a pandas team member'}],\n",
       "  'state': 'open',\n",
       "  'locked': False,\n",
       "  'assignee': None,\n",
       "  'assignees': [],\n",
       "  'milestone': None,\n",
       "  'comments': 3,\n",
       "  'created_at': '2020-05-27T17:40:13Z',\n",
       "  'updated_at': '2020-05-27T20:31:40Z',\n",
       "  'closed_at': None,\n",
       "  'author_association': 'MEMBER',\n",
       "  'body': \"Doing `pytest pandas/tests --skip-slow --durations=10` the top two entries are\\r\\n\\r\\n```\\r\\n71.76s call     pandas/tests/resample/test_datetime_index.py::test_nearest_upsample_with_limit[tzlocal()-30S-Y]\\r\\n59.86s call     pandas/tests/resample/test_datetime_index.py::test_nearest_upsample_with_limit[tzlocal()-30S-10M]\\r\\n```\\r\\n\\r\\nBecause this uses the tz_aware_fixture, there isn't a trivial way to add a pytest.mark.slow to this, but figuring something out may be worthwhile.\"},\n",
       " {'url': 'https://api.github.com/repos/pandas-dev/pandas/issues/34412',\n",
       "  'repository_url': 'https://api.github.com/repos/pandas-dev/pandas',\n",
       "  'labels_url': 'https://api.github.com/repos/pandas-dev/pandas/issues/34412/labels{/name}',\n",
       "  'comments_url': 'https://api.github.com/repos/pandas-dev/pandas/issues/34412/comments',\n",
       "  'events_url': 'https://api.github.com/repos/pandas-dev/pandas/issues/34412/events',\n",
       "  'html_url': 'https://github.com/pandas-dev/pandas/issues/34412',\n",
       "  'id': 625893234,\n",
       "  'node_id': 'MDU6SXNzdWU2MjU4OTMyMzQ=',\n",
       "  'number': 34412,\n",
       "  'title': 'DOC:/USAGE: Resulting Index when merging over indices',\n",
       "  'user': {'login': 'phofl',\n",
       "   'id': 61934744,\n",
       "   'node_id': 'MDQ6VXNlcjYxOTM0NzQ0',\n",
       "   'avatar_url': 'https://avatars1.githubusercontent.com/u/61934744?v=4',\n",
       "   'gravatar_id': '',\n",
       "   'url': 'https://api.github.com/users/phofl',\n",
       "   'html_url': 'https://github.com/phofl',\n",
       "   'followers_url': 'https://api.github.com/users/phofl/followers',\n",
       "   'following_url': 'https://api.github.com/users/phofl/following{/other_user}',\n",
       "   'gists_url': 'https://api.github.com/users/phofl/gists{/gist_id}',\n",
       "   'starred_url': 'https://api.github.com/users/phofl/starred{/owner}{/repo}',\n",
       "   'subscriptions_url': 'https://api.github.com/users/phofl/subscriptions',\n",
       "   'organizations_url': 'https://api.github.com/users/phofl/orgs',\n",
       "   'repos_url': 'https://api.github.com/users/phofl/repos',\n",
       "   'events_url': 'https://api.github.com/users/phofl/events{/privacy}',\n",
       "   'received_events_url': 'https://api.github.com/users/phofl/received_events',\n",
       "   'type': 'User',\n",
       "   'site_admin': False},\n",
       "  'labels': [{'id': 134699,\n",
       "    'node_id': 'MDU6TGFiZWwxMzQ2OTk=',\n",
       "    'url': 'https://api.github.com/repos/pandas-dev/pandas/labels/Docs',\n",
       "    'name': 'Docs',\n",
       "    'color': '3465A4',\n",
       "    'default': False,\n",
       "    'description': None},\n",
       "   {'id': 1954720290,\n",
       "    'node_id': 'MDU6TGFiZWwxOTU0NzIwMjkw',\n",
       "    'url': 'https://api.github.com/repos/pandas-dev/pandas/labels/Needs%20Triage',\n",
       "    'name': 'Needs Triage',\n",
       "    'color': '0052cc',\n",
       "    'default': False,\n",
       "    'description': 'Issue that has not been reviewed by a pandas team member'}],\n",
       "  'state': 'open',\n",
       "  'locked': False,\n",
       "  'assignee': None,\n",
       "  'assignees': [],\n",
       "  'milestone': None,\n",
       "  'comments': 0,\n",
       "  'created_at': '2020-05-27T17:38:44Z',\n",
       "  'updated_at': '2020-05-27T17:38:44Z',\n",
       "  'closed_at': None,\n",
       "  'author_association': 'CONTRIBUTOR',\n",
       "  'body': '#### Location of the documentation\\r\\n\\r\\nhttps://dev.pandas.io/docs/reference/api/pandas.DataFrame.merge.html\\r\\n\\r\\n#### Documentation problem\\r\\n\\r\\nThere is no documentation on this case\\r\\n\\r\\n#### Suggested fix for documentation\\r\\n\\r\\nI\\'m a bit confused about the behavior here, because I don\\'t know what to expect. When I perform the merge as shown below, I would expect that both operations return the same output.\\r\\n\\r\\n```\\r\\nleft = pd.DataFrame({\\'a\\': [1, 2], \\'b\\': [1, 1], \"l\": [22, 23]}).set_index([\\'a\\', \\'b\\'])\\r\\nright = pd.DataFrame({\\'b\\': [1], \"r\": [12]}).set_index([\\'b\\'])\\r\\nprint(pd.merge(left, right, left_on=[\\'b\\'], right_index=True, how=\"left\"))\\r\\nprint(pd.merge(left, right, left_on=[\\'b\\'], right_on=[\"b\"], how=\"left\"))\\r\\n```\\r\\n\\r\\nBut the Index of both results differs. The first merge has the same index as the left `DataFrame` while the second merge has only `b` as index. As a result, the index from the second merge is no longer unique.\\r\\n\\r\\n**First Merge:**\\r\\n```\\r\\n      l   r\\r\\na b        \\r\\n1 1  22  12\\r\\n2 1  23  12\\r\\n```\\r\\n\\r\\n**Second Merge:**\\r\\n\\r\\n```\\r\\n    l   r\\r\\nb        \\r\\n1  22  12\\r\\n1  23  12\\r\\n```\\r\\n\\r\\n**If** this is the desired behavior, we should adjust the documentation to show this. If it is not, I would file an BUG issue. We should adjust the documentation nevertheless. I would add an example with an index join to show the right behavior.\\r\\n'},\n",
       " {'url': 'https://api.github.com/repos/pandas-dev/pandas/issues/34411',\n",
       "  'repository_url': 'https://api.github.com/repos/pandas-dev/pandas',\n",
       "  'labels_url': 'https://api.github.com/repos/pandas-dev/pandas/issues/34411/labels{/name}',\n",
       "  'comments_url': 'https://api.github.com/repos/pandas-dev/pandas/issues/34411/comments',\n",
       "  'events_url': 'https://api.github.com/repos/pandas-dev/pandas/issues/34411/events',\n",
       "  'html_url': 'https://github.com/pandas-dev/pandas/issues/34411',\n",
       "  'id': 625868961,\n",
       "  'node_id': 'MDU6SXNzdWU2MjU4Njg5NjE=',\n",
       "  'number': 34411,\n",
       "  'title': 'BUG: pd.read_sql returns empty list if query has no results and chunksize is set',\n",
       "  'user': {'login': 'JohanKahrstrom',\n",
       "   'id': 1926144,\n",
       "   'node_id': 'MDQ6VXNlcjE5MjYxNDQ=',\n",
       "   'avatar_url': 'https://avatars2.githubusercontent.com/u/1926144?v=4',\n",
       "   'gravatar_id': '',\n",
       "   'url': 'https://api.github.com/users/JohanKahrstrom',\n",
       "   'html_url': 'https://github.com/JohanKahrstrom',\n",
       "   'followers_url': 'https://api.github.com/users/JohanKahrstrom/followers',\n",
       "   'following_url': 'https://api.github.com/users/JohanKahrstrom/following{/other_user}',\n",
       "   'gists_url': 'https://api.github.com/users/JohanKahrstrom/gists{/gist_id}',\n",
       "   'starred_url': 'https://api.github.com/users/JohanKahrstrom/starred{/owner}{/repo}',\n",
       "   'subscriptions_url': 'https://api.github.com/users/JohanKahrstrom/subscriptions',\n",
       "   'organizations_url': 'https://api.github.com/users/JohanKahrstrom/orgs',\n",
       "   'repos_url': 'https://api.github.com/users/JohanKahrstrom/repos',\n",
       "   'events_url': 'https://api.github.com/users/JohanKahrstrom/events{/privacy}',\n",
       "   'received_events_url': 'https://api.github.com/users/JohanKahrstrom/received_events',\n",
       "   'type': 'User',\n",
       "   'site_admin': False},\n",
       "  'labels': [{'id': 76811,\n",
       "    'node_id': 'MDU6TGFiZWw3NjgxMQ==',\n",
       "    'url': 'https://api.github.com/repos/pandas-dev/pandas/labels/Bug',\n",
       "    'name': 'Bug',\n",
       "    'color': 'e10c02',\n",
       "    'default': False,\n",
       "    'description': None},\n",
       "   {'id': 1954720290,\n",
       "    'node_id': 'MDU6TGFiZWwxOTU0NzIwMjkw',\n",
       "    'url': 'https://api.github.com/repos/pandas-dev/pandas/labels/Needs%20Triage',\n",
       "    'name': 'Needs Triage',\n",
       "    'color': '0052cc',\n",
       "    'default': False,\n",
       "    'description': 'Issue that has not been reviewed by a pandas team member'}],\n",
       "  'state': 'open',\n",
       "  'locked': False,\n",
       "  'assignee': None,\n",
       "  'assignees': [],\n",
       "  'milestone': None,\n",
       "  'comments': 0,\n",
       "  'created_at': '2020-05-27T17:02:36Z',\n",
       "  'updated_at': '2020-05-27T17:02:36Z',\n",
       "  'closed_at': None,\n",
       "  'author_association': 'NONE',\n",
       "  'body': '- [ x] I have checked that this issue has not already been reported.\\r\\n\\r\\n- [ x] I have confirmed this bug exists on the latest version of pandas.\\r\\n\\r\\n- [x ] (optional) I have confirmed this bug exists on the master branch of pandas.\\r\\n\\r\\n---\\r\\n\\r\\n**Note**: Please read [this guide](https://matthewrocklin.com/blog/work/2018/02/28/minimal-bug-reports) detailing how to provide the necessary information for us to reproduce your bug.\\r\\n\\r\\n#### Code Sample, a copy-pastable example\\r\\n\\r\\n```python\\r\\nimport pandas as pd\\r\\nimport sqlite3\\r\\n\\r\\n# Create empty test table in memory\\r\\nconn = sqlite3.connect(\\':memory:\\')\\r\\nconn.cursor().execute(\\'CREATE TABLE test (column_1 INTEGER);\\')\\r\\n\\r\\n# Run the query without chunksize, works as expected\\r\\npd.read_sql(\\'select * from test\\', conn)\\r\\n\\r\\n# Run the query with chunksize, returns generator as expected\\r\\npd.read_sql(\\'select * from test\\', conn, chunksize=5)\\r\\n\\r\\n# However, the generator is empty\\r\\nlist(pd.read_sql(\\'select * from test\\', conn, chunksize=5))\\r\\n\\r\\n# I would expect, that for all cases where chunksize isn\\'t necessary,\\r\\n# than the following two lines would return exactly the same\\r\\n# result, but the second throws \"ValueError: No objects to concatenate\"\\r\\npd.read_sql(\\'select * from test\\', conn)\\r\\n\\r\\npd.concat(pd.read_sql(\\'select * from test\\', conn, chunksize=5))\\r\\n```\\r\\n\\r\\n\\r\\n#### Problem description\\r\\n\\r\\nIn many cases, returning zero rows is an expected result, and the code should run fine on the returned DataFrame (iterating over it, getting all values in a row, etc.).\\r\\n\\r\\nThe current behaviour instead returns an empty list, with no information about for example the columns in the dataframe.\\r\\n\\r\\n#### Expected Output\\r\\n\\r\\nThe expected output would be a list containing a single empty dataframe, with the correct column metadata. I would expect that for all queries that run fine without chunkbite being set, the following equality should hold:\\r\\n\\r\\n```\\r\\npd.testing.assert_frame_equal(\\r\\n    pd.read_sql(query, conn),\\r\\n    pd.concat(pd.read_sql(query, conn, chunksize=5))\\r\\n)\\r\\n```\\r\\n\\r\\n#### Output of ``pd.show_versions()``\\r\\n\\r\\n<details>\\r\\n\\r\\nINSTALLED VERSIONS\\r\\n------------------\\r\\ncommit           : 333db4b765f8e88c0c2392943cb7d6c6013dc6e8\\r\\npython           : 3.8.2.final.0\\r\\npython-bits      : 64\\r\\nOS               : Darwin\\r\\nOS-release       : 18.7.0\\r\\nVersion          : Darwin Kernel Version 18.7.0: Thu Jan 23 06:52:12 PST 2020; root:xnu-4903.278.25~1/RELEASE_X86_64\\r\\nmachine          : x86_64\\r\\nprocessor        : i386\\r\\nbyteorder        : little\\r\\nLC_ALL           : None\\r\\nLANG             : en_GB.UTF-8\\r\\nLOCALE           : en_GB.UTF-8\\r\\n\\r\\npandas           : 1.1.0.dev0+1685.g333db4b76.dirty\\r\\nnumpy            : 1.18.4\\r\\npytz             : 2020.1\\r\\ndateutil         : 2.8.1\\r\\npip              : 20.1.1\\r\\nsetuptools       : 46.4.0.post20200518\\r\\nCython           : 0.29.19\\r\\npytest           : 5.4.2\\r\\nhypothesis       : 5.16.0\\r\\nsphinx           : 3.0.4\\r\\nblosc            : None\\r\\nfeather          : None\\r\\nxlsxwriter       : 1.2.8\\r\\nlxml.etree       : 4.5.1\\r\\nhtml5lib         : 1.0.1\\r\\npymysql          : None\\r\\npsycopg2         : None\\r\\njinja2           : 2.11.2\\r\\nIPython          : 7.14.0\\r\\npandas_datareader: None\\r\\nbs4              : 4.9.1\\r\\nbottleneck       : 1.3.2\\r\\nfastparquet      : 0.4.0\\r\\ngcsfs            : None\\r\\nmatplotlib       : 3.2.1\\r\\nnumexpr          : 2.7.1\\r\\nodfpy            : None\\r\\nopenpyxl         : 3.0.3\\r\\npandas_gbq       : None\\r\\npyarrow          : 0.17.1\\r\\npytables         : None\\r\\npyxlsb           : None\\r\\ns3fs             : 0.4.2\\r\\nscipy            : 1.4.1\\r\\nsqlalchemy       : 1.3.17\\r\\ntables           : 3.6.1\\r\\ntabulate         : 0.8.7\\r\\nxarray           : 0.15.1\\r\\nxlrd             : 1.2.0\\r\\nxlwt             : 1.3.0\\r\\nnumba            : 0.48.0\\r\\n\\r\\n</details>\\r\\n'},\n",
       " {'url': 'https://api.github.com/repos/pandas-dev/pandas/issues/34410',\n",
       "  'repository_url': 'https://api.github.com/repos/pandas-dev/pandas',\n",
       "  'labels_url': 'https://api.github.com/repos/pandas-dev/pandas/issues/34410/labels{/name}',\n",
       "  'comments_url': 'https://api.github.com/repos/pandas-dev/pandas/issues/34410/comments',\n",
       "  'events_url': 'https://api.github.com/repos/pandas-dev/pandas/issues/34410/events',\n",
       "  'html_url': 'https://github.com/pandas-dev/pandas/issues/34410',\n",
       "  'id': 625845600,\n",
       "  'node_id': 'MDU6SXNzdWU2MjU4NDU2MDA=',\n",
       "  'number': 34410,\n",
       "  'title': '32-bit compat issues in MacPython/pandas-wheels',\n",
       "  'user': {'login': 'TomAugspurger',\n",
       "   'id': 1312546,\n",
       "   'node_id': 'MDQ6VXNlcjEzMTI1NDY=',\n",
       "   'avatar_url': 'https://avatars3.githubusercontent.com/u/1312546?v=4',\n",
       "   'gravatar_id': '',\n",
       "   'url': 'https://api.github.com/users/TomAugspurger',\n",
       "   'html_url': 'https://github.com/TomAugspurger',\n",
       "   'followers_url': 'https://api.github.com/users/TomAugspurger/followers',\n",
       "   'following_url': 'https://api.github.com/users/TomAugspurger/following{/other_user}',\n",
       "   'gists_url': 'https://api.github.com/users/TomAugspurger/gists{/gist_id}',\n",
       "   'starred_url': 'https://api.github.com/users/TomAugspurger/starred{/owner}{/repo}',\n",
       "   'subscriptions_url': 'https://api.github.com/users/TomAugspurger/subscriptions',\n",
       "   'organizations_url': 'https://api.github.com/users/TomAugspurger/orgs',\n",
       "   'repos_url': 'https://api.github.com/users/TomAugspurger/repos',\n",
       "   'events_url': 'https://api.github.com/users/TomAugspurger/events{/privacy}',\n",
       "   'received_events_url': 'https://api.github.com/users/TomAugspurger/received_events',\n",
       "   'type': 'User',\n",
       "   'site_admin': False},\n",
       "  'labels': [{'id': 563047854,\n",
       "    'node_id': 'MDU6TGFiZWw1NjMwNDc4NTQ=',\n",
       "    'url': 'https://api.github.com/repos/pandas-dev/pandas/labels/32bit',\n",
       "    'name': '32bit',\n",
       "    'color': '0e8a16',\n",
       "    'default': False,\n",
       "    'description': 'Issues specific to 32-bit systems.'},\n",
       "   {'id': 76811,\n",
       "    'node_id': 'MDU6TGFiZWw3NjgxMQ==',\n",
       "    'url': 'https://api.github.com/repos/pandas-dev/pandas/labels/Bug',\n",
       "    'name': 'Bug',\n",
       "    'color': 'e10c02',\n",
       "    'default': False,\n",
       "    'description': None}],\n",
       "  'state': 'open',\n",
       "  'locked': False,\n",
       "  'assignee': None,\n",
       "  'assignees': [],\n",
       "  'milestone': None,\n",
       "  'comments': 0,\n",
       "  'created_at': '2020-05-27T16:29:45Z',\n",
       "  'updated_at': '2020-05-27T16:29:59Z',\n",
       "  'closed_at': None,\n",
       "  'author_association': 'CONTRIBUTOR',\n",
       "  'body': 'https://dev.azure.com/pandas-dev/pandas-wheels/_build/results?buildId=36222&view=logs&j=c0130b29-789d-5a3c-6978-10796a508a7f&t=e120bc6c-1f5e-5a41-8f0a-1d992cd2fbfb&l=1400\\r\\n\\r\\nA couple classes of failures\\r\\n\\r\\n```\\r\\n2020-05-27T03:46:00.4640450Z ______________ test_multiple_agg_funcs[rolling-2-expected_vals0] ______________\\r\\n2020-05-27T03:46:00.4640874Z [gw0] win32 -- Python 3.7.7 D:\\\\a\\\\1\\\\s\\\\test_venv\\\\Scripts\\\\python.exe\\r\\n2020-05-27T03:46:00.4641216Z \\r\\n2020-05-27T03:46:00.4641446Z func = \\'rolling\\', window_size = 2\\r\\n2020-05-27T03:46:00.4641974Z expected_vals = [[nan, nan, nan, nan], [15.0, 20.0, 25.0, 20.0], [25.0, 30.0, 35.0, 30.0], [nan, nan, nan, nan], [20.0, 30.0, 35.0, 30.0], [35.0, 40.0, 60.0, 40.0], ...]\\r\\n2020-05-27T03:46:00.4642426Z \\r\\n2020-05-27T03:46:00.4642646Z     @pytest.mark.parametrize(\\r\\n2020-05-27T03:46:00.4642970Z         \"func,window_size,expected_vals\",\\r\\n2020-05-27T03:46:00.4643468Z         [\\r\\n2020-05-27T03:46:00.4643722Z             (\\r\\n2020-05-27T03:46:00.4643997Z                 \"rolling\",\\r\\n2020-05-27T03:46:00.4644235Z                 2,\\r\\n2020-05-27T03:46:00.4644500Z                 [\\r\\n2020-05-27T03:46:00.4644818Z                     [np.nan, np.nan, np.nan, np.nan],\\r\\n2020-05-27T03:46:00.4645140Z                     [15.0, 20.0, 25.0, 20.0],\\r\\n2020-05-27T03:46:00.4645482Z                     [25.0, 30.0, 35.0, 30.0],\\r\\n2020-05-27T03:46:00.4645799Z                     [np.nan, np.nan, np.nan, np.nan],\\r\\n2020-05-27T03:46:00.4646157Z                     [20.0, 30.0, 35.0, 30.0],\\r\\n2020-05-27T03:46:00.4646503Z                     [35.0, 40.0, 60.0, 40.0],\\r\\n2020-05-27T03:46:00.4646811Z                     [60.0, 80.0, 85.0, 80],\\r\\n2020-05-27T03:46:00.4647113Z                 ],\\r\\n2020-05-27T03:46:00.4647372Z             ),\\r\\n2020-05-27T03:46:00.4647589Z             (\\r\\n2020-05-27T03:46:00.4647855Z                 \"expanding\",\\r\\n2020-05-27T03:46:00.4648104Z                 None,\\r\\n2020-05-27T03:46:00.4648376Z                 [\\r\\n2020-05-27T03:46:00.4648680Z                     [10.0, 10.0, 20.0, 20.0],\\r\\n2020-05-27T03:46:00.4648983Z                     [15.0, 20.0, 25.0, 20.0],\\r\\n2020-05-27T03:46:00.4649326Z                     [20.0, 30.0, 30.0, 20.0],\\r\\n2020-05-27T03:46:00.4649670Z                     [10.0, 10.0, 30.0, 30.0],\\r\\n2020-05-27T03:46:00.4649972Z                     [20.0, 30.0, 35.0, 30.0],\\r\\n2020-05-27T03:46:00.4650322Z                     [26.666667, 40.0, 50.0, 30.0],\\r\\n2020-05-27T03:46:00.4650683Z                     [40.0, 80.0, 60.0, 30.0],\\r\\n2020-05-27T03:46:00.4650946Z                 ],\\r\\n2020-05-27T03:46:00.4651208Z             ),\\r\\n2020-05-27T03:46:00.4651414Z         ],\\r\\n2020-05-27T03:46:00.4651646Z     )\\r\\n2020-05-27T03:46:00.4651997Z     def test_multiple_agg_funcs(func, window_size, expected_vals):\\r\\n2020-05-27T03:46:00.4652328Z         # GH 15072\\r\\n2020-05-27T03:46:00.4652605Z         df = pd.DataFrame(\\r\\n2020-05-27T03:46:00.4652839Z             [\\r\\n2020-05-27T03:46:00.4653114Z                 [\"A\", 10, 20],\\r\\n2020-05-27T03:46:00.4653414Z                 [\"A\", 20, 30],\\r\\n2020-05-27T03:46:00.4653669Z                 [\"A\", 30, 40],\\r\\n2020-05-27T03:46:00.4653966Z                 [\"B\", 10, 30],\\r\\n2020-05-27T03:46:00.4654266Z                 [\"B\", 30, 40],\\r\\n2020-05-27T03:46:00.4654520Z                 [\"B\", 40, 80],\\r\\n2020-05-27T03:46:00.4654822Z                 [\"B\", 80, 90],\\r\\n2020-05-27T03:46:00.4655056Z             ],\\r\\n2020-05-27T03:46:00.4655354Z             columns=[\"stock\", \"low\", \"high\"],\\r\\n2020-05-27T03:46:00.4655642Z         )\\r\\n2020-05-27T03:46:00.4655833Z     \\r\\n2020-05-27T03:46:00.4656116Z         f = getattr(df.groupby(\"stock\"), func)\\r\\n2020-05-27T03:46:00.4656545Z         if window_size:\\r\\n2020-05-27T03:46:00.4656817Z             window = f(window_size)\\r\\n2020-05-27T03:46:00.4657104Z         else:\\r\\n2020-05-27T03:46:00.4657337Z             window = f()\\r\\n2020-05-27T03:46:00.4657591Z     \\r\\n2020-05-27T03:46:00.4657872Z         index = pd.MultiIndex.from_tuples(\\r\\n2020-05-27T03:46:00.4658235Z             [(\"A\", 0), (\"A\", 1), (\"A\", 2), (\"B\", 3), (\"B\", 4), (\"B\", 5), (\"B\", 6)],\\r\\n2020-05-27T03:46:00.4658625Z             names=[\"stock\", None],\\r\\n2020-05-27T03:46:00.4658902Z         )\\r\\n2020-05-27T03:46:00.4659155Z         columns = pd.MultiIndex.from_tuples(\\r\\n2020-05-27T03:46:00.4659548Z             [(\"low\", \"mean\"), (\"low\", \"max\"), (\"high\", \"mean\"), (\"high\", \"min\")]\\r\\n2020-05-27T03:46:00.4659860Z         )\\r\\n2020-05-27T03:46:00.4660195Z         expected = pd.DataFrame(expected_vals, index=index, columns=columns)\\r\\n2020-05-27T03:46:00.4660526Z     \\r\\n2020-05-27T03:46:00.4660750Z         result = window.agg(\\r\\n2020-05-27T03:46:00.4661122Z >           OrderedDict(((\"low\", [\"mean\", \"max\"]), (\"high\", [\"mean\", \"min\"])))\\r\\n2020-05-27T03:46:00.4661464Z         )\\r\\n2020-05-27T03:46:00.4661630Z \\r\\n2020-05-27T03:46:00.4661965Z test_venv\\\\lib\\\\site-packages\\\\pandas\\\\tests\\\\window\\\\test_api.py:346: \\r\\n2020-05-27T03:46:00.4662381Z _ _ _ _ _ _ _ _ _ _ _ _ _ _ _ _ _ _ _ _ _ _ _ _ _ _ _ _ _ _ _ _ _ _ _ _ _ _ _ _\\r\\n2020-05-27T03:46:00.4662906Z test_venv\\\\lib\\\\site-packages\\\\pandas\\\\core\\\\window\\\\rolling.py:2033: in aggregate\\r\\n2020-05-27T03:46:00.4663339Z     return super().aggregate(func, *args, **kwargs)\\r\\n2020-05-27T03:46:00.4663730Z test_venv\\\\lib\\\\site-packages\\\\pandas\\\\core\\\\window\\\\rolling.py:603: in aggregate\\r\\n2020-05-27T03:46:00.4664169Z     result, how = self._aggregate(func, *args, **kwargs)\\r\\n2020-05-27T03:46:00.4664599Z test_venv\\\\lib\\\\site-packages\\\\pandas\\\\core\\\\base.py:417: in _aggregate\\r\\n2020-05-27T03:46:00.4664941Z     result = _agg(arg, _agg_1dim)\\r\\n2020-05-27T03:46:00.4665315Z test_venv\\\\lib\\\\site-packages\\\\pandas\\\\core\\\\base.py:384: in _agg\\r\\n2020-05-27T03:46:00.4665658Z     result[fname] = func(fname, agg_how)\\r\\n2020-05-27T03:46:00.4666056Z test_venv\\\\lib\\\\site-packages\\\\pandas\\\\core\\\\base.py:368: in _agg_1dim\\r\\n2020-05-27T03:46:00.4666433Z     return colg.aggregate(how)\\r\\n2020-05-27T03:46:00.4666793Z test_venv\\\\lib\\\\site-packages\\\\pandas\\\\core\\\\window\\\\rolling.py:2033: in aggregate\\r\\n2020-05-27T03:46:00.4667225Z     return super().aggregate(func, *args, **kwargs)\\r\\n2020-05-27T03:46:00.4667657Z test_venv\\\\lib\\\\site-packages\\\\pandas\\\\core\\\\window\\\\rolling.py:603: in aggregate\\r\\n2020-05-27T03:46:00.4668054Z     result, how = self._aggregate(func, *args, **kwargs)\\r\\n2020-05-27T03:46:00.4668471Z test_venv\\\\lib\\\\site-packages\\\\pandas\\\\core\\\\base.py:475: in _aggregate\\r\\n2020-05-27T03:46:00.4668902Z     return self._aggregate_multiple_funcs(arg, _axis=_axis), None\\r\\n2020-05-27T03:46:00.4669286Z _ _ _ _ _ _ _ _ _ _ _ _ _ _ _ _ _ _ _ _ _ _ _ _ _ _ _ _ _ _ _ _ _ _ _ _ _ _ _ _\\r\\n2020-05-27T03:46:00.4669590Z \\r\\n2020-05-27T03:46:00.4669874Z self = RollingGroupby [window=2,center=False,axis=0], arg = [\\'mean\\', \\'max\\']\\r\\n2020-05-27T03:46:00.4670218Z _axis = 0\\r\\n2020-05-27T03:46:00.4670378Z \\r\\n2020-05-27T03:46:00.4670690Z     def _aggregate_multiple_funcs(self, arg, _axis):\\r\\n2020-05-27T03:46:00.4671087Z         from pandas.core.reshape.concat import concat\\r\\n2020-05-27T03:46:00.4671345Z     \\r\\n2020-05-27T03:46:00.4671605Z         if _axis != 0:\\r\\n2020-05-27T03:46:00.4671974Z             raise NotImplementedError(\"axis other than 0 is not supported\")\\r\\n2020-05-27T03:46:00.4672267Z     \\r\\n2020-05-27T03:46:00.4672562Z         if self._selected_obj.ndim == 1:\\r\\n2020-05-27T03:46:00.4672862Z             obj = self._selected_obj\\r\\n2020-05-27T03:46:00.4673151Z         else:\\r\\n2020-05-27T03:46:00.4673452Z             obj = self._obj_with_exclusions\\r\\n2020-05-27T03:46:00.4673697Z     \\r\\n2020-05-27T03:46:00.4673941Z         results = []\\r\\n2020-05-27T03:46:00.4674209Z         keys = []\\r\\n2020-05-27T03:46:00.4674412Z     \\r\\n2020-05-27T03:46:00.4674664Z         # degenerate case\\r\\n2020-05-27T03:46:00.4674921Z         if obj.ndim == 1:\\r\\n2020-05-27T03:46:00.4675282Z             for a in arg:\\r\\n2020-05-27T03:46:00.4675640Z                 colg = self._gotitem(obj.name, ndim=1, subset=obj)\\r\\n2020-05-27T03:46:00.4675954Z                 try:\\r\\n2020-05-27T03:46:00.4676277Z                     new_res = colg.aggregate(a)\\r\\n2020-05-27T03:46:00.4676528Z     \\r\\n2020-05-27T03:46:00.4676805Z                 except TypeError:\\r\\n2020-05-27T03:46:00.4677111Z                     pass\\r\\n2020-05-27T03:46:00.4677359Z                 else:\\r\\n2020-05-27T03:46:00.4677673Z                     results.append(new_res)\\r\\n2020-05-27T03:46:00.4677958Z     \\r\\n2020-05-27T03:46:00.4678210Z                     # make sure we find a good name\\r\\n2020-05-27T03:46:00.4678584Z                     name = com.get_callable_name(a) or a\\r\\n2020-05-27T03:46:00.4678891Z                     keys.append(name)\\r\\n2020-05-27T03:46:00.4679164Z     \\r\\n2020-05-27T03:46:00.4679405Z         # multiples\\r\\n2020-05-27T03:46:00.4679630Z         else:\\r\\n2020-05-27T03:46:00.4679957Z             for index, col in enumerate(obj):\\r\\n2020-05-27T03:46:00.4680401Z                 colg = self._gotitem(col, ndim=1, subset=obj.iloc[:, index])\\r\\n2020-05-27T03:46:00.4680756Z                 try:\\r\\n2020-05-27T03:46:00.4681075Z                     new_res = colg.aggregate(arg)\\r\\n2020-05-27T03:46:00.4681407Z                 except (TypeError, DataError):\\r\\n2020-05-27T03:46:00.4681737Z                     pass\\r\\n2020-05-27T03:46:00.4682119Z                 except ValueError as err:\\r\\n2020-05-27T03:46:00.4682422Z                     # cannot aggregate\\r\\n2020-05-27T03:46:00.4682818Z                     if \"Must produce aggregated value\" in str(err):\\r\\n2020-05-27T03:46:00.4683257Z                         # raised directly in _aggregate_named\\r\\n2020-05-27T03:46:00.4683562Z                         pass\\r\\n2020-05-27T03:46:00.4683915Z                     elif \"no results\" in str(err):\\r\\n2020-05-27T03:46:00.4684337Z                         # raised directly in _aggregate_multiple_funcs\\r\\n2020-05-27T03:46:00.4684653Z                         pass\\r\\n2020-05-27T03:46:00.4684954Z                     else:\\r\\n2020-05-27T03:46:00.4685220Z                         raise\\r\\n2020-05-27T03:46:00.4685512Z                 else:\\r\\n2020-05-27T03:46:00.4685823Z                     results.append(new_res)\\r\\n2020-05-27T03:46:00.4686109Z                     keys.append(col)\\r\\n2020-05-27T03:46:00.4686378Z     \\r\\n2020-05-27T03:46:00.4686628Z         # if we are empty\\r\\n2020-05-27T03:46:00.4686893Z         if not len(results):\\r\\n2020-05-27T03:46:00.4687219Z >           raise ValueError(\"no results\")\\r\\n2020-05-27T03:46:00.4687514Z E           ValueError: no results\\r\\n2020-05-27T03:46:00.4687767Z \\r\\n2020-05-27T03:46:00.4688056Z test_venv\\\\lib\\\\site-packages\\\\pandas\\\\core\\\\base.py:540: ValueError\\r\\n2020-05-27T03:46:00.4900327Z ________________ test_rolling_apply_args_kwargs[args_kwargs0] _________________\\r\\n2020-05-27T03:46:00.4910069Z [gw0] win32 -- Python 3.7.7 D:\\\\a\\\\1\\\\s\\\\test_venv\\\\Scripts\\\\python.exe\\r\\n2020-05-27T03:46:00.4913683Z \\r\\n2020-05-27T03:46:00.4916587Z args_kwargs = [None, {\\'par\\': 10}]\\r\\n2020-05-27T03:46:00.4920984Z \\r\\n2020-05-27T03:46:00.4932595Z     @pytest.mark.parametrize(\"args_kwargs\", [[None, {\"par\": 10}], [(10,), None]])\\r\\n2020-05-27T03:46:00.4934841Z     def test_rolling_apply_args_kwargs(args_kwargs):\\r\\n2020-05-27T03:46:00.4935692Z         # GH 33433\\r\\n2020-05-27T03:46:00.4936381Z         def foo(x, par):\\r\\n2020-05-27T03:46:00.4937029Z             return np.sum(x + par)\\r\\n2020-05-27T03:46:00.4937700Z     \\r\\n2020-05-27T03:46:00.4938401Z         df = DataFrame({\"gr\": [1, 1], \"a\": [1, 2]})\\r\\n2020-05-27T03:46:00.4939052Z     \\r\\n2020-05-27T03:46:00.4939885Z         idx = Index([\"gr\", \"a\"])\\r\\n2020-05-27T03:46:00.4940561Z         expected = DataFrame([[11.0, 11.0], [11.0, 12.0]], columns=idx)\\r\\n2020-05-27T03:46:00.4941155Z     \\r\\n2020-05-27T03:46:00.4941805Z         result = df.rolling(1).apply(foo, args=args_kwargs[0], kwargs=args_kwargs[1])\\r\\n2020-05-27T03:46:00.4942523Z         tm.assert_frame_equal(result, expected)\\r\\n2020-05-27T03:46:00.4943122Z     \\r\\n2020-05-27T03:46:00.4943684Z         result = df.rolling(1).apply(foo, args=(10,))\\r\\n2020-05-27T03:46:00.4945113Z     \\r\\n2020-05-27T03:46:00.4945760Z         midx = MultiIndex.from_tuples([(1, 0), (1, 1)], names=[\"gr\", None])\\r\\n2020-05-27T03:46:00.4946452Z         expected = Series([11.0, 12.0], index=midx, name=\"a\")\\r\\n2020-05-27T03:46:00.4947078Z     \\r\\n2020-05-27T03:46:00.4947685Z         gb_rolling = df.groupby(\"gr\")[\"a\"].rolling(1)\\r\\n2020-05-27T03:46:00.4948255Z     \\r\\n2020-05-27T03:46:00.4949192Z >       result = gb_rolling.apply(foo, args=args_kwargs[0], kwargs=args_kwargs[1])\\r\\n2020-05-27T03:46:00.4949774Z \\r\\n2020-05-27T03:46:00.4950430Z test_venv\\\\lib\\\\site-packages\\\\pandas\\\\tests\\\\window\\\\test_apply.py:165: \\r\\n2020-05-27T03:46:00.4951199Z _ _ _ _ _ _ _ _ _ _ _ _ _ _ _ _ _ _ _ _ _ _ _ _ _ _ _ _ _ _ _ _ _ _ _ _ _ _ _ _\\r\\n2020-05-27T03:46:00.4951938Z test_venv\\\\lib\\\\site-packages\\\\pandas\\\\core\\\\window\\\\rolling.py:2067: in apply\\r\\n2020-05-27T03:46:00.4952625Z     kwargs=kwargs,\\r\\n2020-05-27T03:46:00.4953353Z test_venv\\\\lib\\\\site-packages\\\\pandas\\\\core\\\\window\\\\rolling.py:1391: in apply\\r\\n2020-05-27T03:46:00.4954036Z     kwargs=kwargs,\\r\\n2020-05-27T03:46:00.4954689Z test_venv\\\\lib\\\\site-packages\\\\pandas\\\\core\\\\window\\\\rolling.py:2196: in _apply\\r\\n2020-05-27T03:46:00.4955365Z     **kwargs,\\r\\n2020-05-27T03:46:00.4956044Z test_venv\\\\lib\\\\site-packages\\\\pandas\\\\core\\\\window\\\\rolling.py:589: in _apply\\r\\n2020-05-27T03:46:00.4956693Z     result = calc(values)\\r\\n2020-05-27T03:46:00.4957386Z test_venv\\\\lib\\\\site-packages\\\\pandas\\\\core\\\\window\\\\rolling.py:575: in calc\\r\\n2020-05-27T03:46:00.4958198Z     closed=self.closed,\\r\\n2020-05-27T03:46:00.4958846Z _ _ _ _ _ _ _ _ _ _ _ _ _ _ _ _ _ _ _ _ _ _ _ _ _ _ _ _ _ _ _ _ _ _ _ _ _ _ _ _\\r\\n2020-05-27T03:46:00.4959456Z \\r\\n2020-05-27T03:46:00.4960053Z self = <pandas.core.window.indexers.GroupbyRollingIndexer object at 0x3A34FA30>\\r\\n2020-05-27T03:46:00.4960788Z num_values = 2, min_periods = None, center = False, closed = None\\r\\n2020-05-27T03:46:00.4961381Z \\r\\n2020-05-27T03:46:00.4961909Z     @Appender(get_window_bounds_doc)\\r\\n2020-05-27T03:46:00.4962523Z     def get_window_bounds(\\r\\n2020-05-27T03:46:00.4963100Z         self,\\r\\n2020-05-27T03:46:00.4963652Z         num_values: int = 0,\\r\\n2020-05-27T03:46:00.4964290Z         min_periods: Optional[int] = None,\\r\\n2020-05-27T03:46:00.4964946Z         center: Optional[bool] = None,\\r\\n2020-05-27T03:46:00.4965552Z         closed: Optional[str] = None,\\r\\n2020-05-27T03:46:00.4966208Z     ) -> Tuple[np.ndarray, np.ndarray]:\\r\\n2020-05-27T03:46:00.4966908Z         # 1) For each group, get the indices that belong to the group\\r\\n2020-05-27T03:46:00.4967605Z         # 2) Use the indices to calculate the start & end bounds of the window\\r\\n2020-05-27T03:46:00.4968322Z         # 3) Append the window bounds in group order\\r\\n2020-05-27T03:46:00.4968991Z         start_arrays = []\\r\\n2020-05-27T03:46:00.4969583Z         end_arrays = []\\r\\n2020-05-27T03:46:00.4970143Z         window_indicies_start = 0\\r\\n2020-05-27T03:46:00.4970823Z         for key, indicies in self.groupby_indicies.items():\\r\\n2020-05-27T03:46:00.4971539Z             if self.index_array is not None:\\r\\n2020-05-27T03:46:00.4972196Z                 index_array = self.index_array.take(indicies)\\r\\n2020-05-27T03:46:00.4972843Z             else:\\r\\n2020-05-27T03:46:00.4973467Z                 index_array = self.index_array\\r\\n2020-05-27T03:46:00.4974075Z             indexer = self.rolling_indexer(\\r\\n2020-05-27T03:46:00.4974759Z                 index_array=index_array, window_size=self.window_size,\\r\\n2020-05-27T03:46:00.4975407Z             )\\r\\n2020-05-27T03:46:00.4975981Z             start, end = indexer.get_window_bounds(\\r\\n2020-05-27T03:46:00.4976661Z                 len(indicies), min_periods, center, closed\\r\\n2020-05-27T03:46:00.4977281Z             )\\r\\n2020-05-27T03:46:00.4977908Z             # Cannot use groupby_indicies as they might not be monotonic with the object\\r\\n2020-05-27T03:46:00.4978599Z             # we\\'re rolling over\\r\\n2020-05-27T03:46:00.4979224Z             window_indicies = np.arange(\\r\\n2020-05-27T03:46:00.4979816Z                 window_indicies_start,\\r\\n2020-05-27T03:46:00.4980472Z                 window_indicies_start + len(indicies),\\r\\n2020-05-27T03:46:00.4981202Z                 dtype=np.int64,\\r\\n2020-05-27T03:46:00.4981747Z             )\\r\\n2020-05-27T03:46:00.4982364Z             window_indicies_start += len(indicies)\\r\\n2020-05-27T03:46:00.4983051Z             # Extend as we\\'ll be slicing window like [start, end)\\r\\n2020-05-27T03:46:00.4983789Z             window_indicies = np.append(window_indicies, [window_indicies[-1] + 1])\\r\\n2020-05-27T03:46:00.4984532Z >           start_arrays.append(window_indicies.take(start))\\r\\n2020-05-27T03:46:00.4985326Z E           TypeError: Cannot cast array data from dtype(\\'int64\\') to dtype(\\'int32\\') according to the rule \\'safe\\'\\r\\n2020-05-27T03:46:00.4986013Z \\r\\n```'},\n",
       " {'url': 'https://api.github.com/repos/pandas-dev/pandas/issues/34407',\n",
       "  'repository_url': 'https://api.github.com/repos/pandas-dev/pandas',\n",
       "  'labels_url': 'https://api.github.com/repos/pandas-dev/pandas/issues/34407/labels{/name}',\n",
       "  'comments_url': 'https://api.github.com/repos/pandas-dev/pandas/issues/34407/comments',\n",
       "  'events_url': 'https://api.github.com/repos/pandas-dev/pandas/issues/34407/events',\n",
       "  'html_url': 'https://github.com/pandas-dev/pandas/pull/34407',\n",
       "  'id': 625729424,\n",
       "  'node_id': 'MDExOlB1bGxSZXF1ZXN0NDIzODc4Njg1',\n",
       "  'number': 34407,\n",
       "  'title': 'Revert \"CLN: _consolidate_inplace less\"',\n",
       "  'user': {'login': 'jorisvandenbossche',\n",
       "   'id': 1020496,\n",
       "   'node_id': 'MDQ6VXNlcjEwMjA0OTY=',\n",
       "   'avatar_url': 'https://avatars2.githubusercontent.com/u/1020496?v=4',\n",
       "   'gravatar_id': '',\n",
       "   'url': 'https://api.github.com/users/jorisvandenbossche',\n",
       "   'html_url': 'https://github.com/jorisvandenbossche',\n",
       "   'followers_url': 'https://api.github.com/users/jorisvandenbossche/followers',\n",
       "   'following_url': 'https://api.github.com/users/jorisvandenbossche/following{/other_user}',\n",
       "   'gists_url': 'https://api.github.com/users/jorisvandenbossche/gists{/gist_id}',\n",
       "   'starred_url': 'https://api.github.com/users/jorisvandenbossche/starred{/owner}{/repo}',\n",
       "   'subscriptions_url': 'https://api.github.com/users/jorisvandenbossche/subscriptions',\n",
       "   'organizations_url': 'https://api.github.com/users/jorisvandenbossche/orgs',\n",
       "   'repos_url': 'https://api.github.com/users/jorisvandenbossche/repos',\n",
       "   'events_url': 'https://api.github.com/users/jorisvandenbossche/events{/privacy}',\n",
       "   'received_events_url': 'https://api.github.com/users/jorisvandenbossche/received_events',\n",
       "   'type': 'User',\n",
       "   'site_admin': False},\n",
       "  'labels': [{'id': 211029535,\n",
       "    'node_id': 'MDU6TGFiZWwyMTEwMjk1MzU=',\n",
       "    'url': 'https://api.github.com/repos/pandas-dev/pandas/labels/Clean',\n",
       "    'name': 'Clean',\n",
       "    'color': '207de5',\n",
       "    'default': False,\n",
       "    'description': None},\n",
       "   {'id': 49094459,\n",
       "    'node_id': 'MDU6TGFiZWw0OTA5NDQ1OQ==',\n",
       "    'url': 'https://api.github.com/repos/pandas-dev/pandas/labels/Internals',\n",
       "    'name': 'Internals',\n",
       "    'color': 'fbca04',\n",
       "    'default': False,\n",
       "    'description': 'Related to non-user accessible pandas implementation'}],\n",
       "  'state': 'open',\n",
       "  'locked': False,\n",
       "  'assignee': None,\n",
       "  'assignees': [],\n",
       "  'milestone': {'url': 'https://api.github.com/repos/pandas-dev/pandas/milestones/68',\n",
       "   'html_url': 'https://github.com/pandas-dev/pandas/milestone/68',\n",
       "   'labels_url': 'https://api.github.com/repos/pandas-dev/pandas/milestones/68/labels',\n",
       "   'id': 4894670,\n",
       "   'node_id': 'MDk6TWlsZXN0b25lNDg5NDY3MA==',\n",
       "   'number': 68,\n",
       "   'title': '1.1',\n",
       "   'description': 'after 1.0',\n",
       "   'creator': {'login': 'jreback',\n",
       "    'id': 953992,\n",
       "    'node_id': 'MDQ6VXNlcjk1Mzk5Mg==',\n",
       "    'avatar_url': 'https://avatars2.githubusercontent.com/u/953992?v=4',\n",
       "    'gravatar_id': '',\n",
       "    'url': 'https://api.github.com/users/jreback',\n",
       "    'html_url': 'https://github.com/jreback',\n",
       "    'followers_url': 'https://api.github.com/users/jreback/followers',\n",
       "    'following_url': 'https://api.github.com/users/jreback/following{/other_user}',\n",
       "    'gists_url': 'https://api.github.com/users/jreback/gists{/gist_id}',\n",
       "    'starred_url': 'https://api.github.com/users/jreback/starred{/owner}{/repo}',\n",
       "    'subscriptions_url': 'https://api.github.com/users/jreback/subscriptions',\n",
       "    'organizations_url': 'https://api.github.com/users/jreback/orgs',\n",
       "    'repos_url': 'https://api.github.com/users/jreback/repos',\n",
       "    'events_url': 'https://api.github.com/users/jreback/events{/privacy}',\n",
       "    'received_events_url': 'https://api.github.com/users/jreback/received_events',\n",
       "    'type': 'User',\n",
       "    'site_admin': False},\n",
       "   'open_issues': 128,\n",
       "   'closed_issues': 1746,\n",
       "   'state': 'open',\n",
       "   'created_at': '2019-12-02T12:52:48Z',\n",
       "   'updated_at': '2020-05-28T06:02:27Z',\n",
       "   'due_on': '2020-08-01T07:00:00Z',\n",
       "   'closed_at': None},\n",
       "  'comments': 8,\n",
       "  'created_at': '2020-05-27T14:09:47Z',\n",
       "  'updated_at': '2020-05-27T20:14:08Z',\n",
       "  'closed_at': None,\n",
       "  'author_association': 'MEMBER',\n",
       "  'pull_request': {'url': 'https://api.github.com/repos/pandas-dev/pandas/pulls/34407',\n",
       "   'html_url': 'https://github.com/pandas-dev/pandas/pull/34407',\n",
       "   'diff_url': 'https://github.com/pandas-dev/pandas/pull/34407.diff',\n",
       "   'patch_url': 'https://github.com/pandas-dev/pandas/pull/34407.patch'},\n",
       "  'body': 'Reverts pandas-dev/pandas#34389'},\n",
       " {'url': 'https://api.github.com/repos/pandas-dev/pandas/issues/34406',\n",
       "  'repository_url': 'https://api.github.com/repos/pandas-dev/pandas',\n",
       "  'labels_url': 'https://api.github.com/repos/pandas-dev/pandas/issues/34406/labels{/name}',\n",
       "  'comments_url': 'https://api.github.com/repos/pandas-dev/pandas/issues/34406/comments',\n",
       "  'events_url': 'https://api.github.com/repos/pandas-dev/pandas/issues/34406/events',\n",
       "  'html_url': 'https://github.com/pandas-dev/pandas/issues/34406',\n",
       "  'id': 625724558,\n",
       "  'node_id': 'MDU6SXNzdWU2MjU3MjQ1NTg=',\n",
       "  'number': 34406,\n",
       "  'title': 'PERF: asv runner is down',\n",
       "  'user': {'login': 'jreback',\n",
       "   'id': 953992,\n",
       "   'node_id': 'MDQ6VXNlcjk1Mzk5Mg==',\n",
       "   'avatar_url': 'https://avatars2.githubusercontent.com/u/953992?v=4',\n",
       "   'gravatar_id': '',\n",
       "   'url': 'https://api.github.com/users/jreback',\n",
       "   'html_url': 'https://github.com/jreback',\n",
       "   'followers_url': 'https://api.github.com/users/jreback/followers',\n",
       "   'following_url': 'https://api.github.com/users/jreback/following{/other_user}',\n",
       "   'gists_url': 'https://api.github.com/users/jreback/gists{/gist_id}',\n",
       "   'starred_url': 'https://api.github.com/users/jreback/starred{/owner}{/repo}',\n",
       "   'subscriptions_url': 'https://api.github.com/users/jreback/subscriptions',\n",
       "   'organizations_url': 'https://api.github.com/users/jreback/orgs',\n",
       "   'repos_url': 'https://api.github.com/users/jreback/repos',\n",
       "   'events_url': 'https://api.github.com/users/jreback/events{/privacy}',\n",
       "   'received_events_url': 'https://api.github.com/users/jreback/received_events',\n",
       "   'type': 'User',\n",
       "   'site_admin': False},\n",
       "  'labels': [{'id': 732775912,\n",
       "    'node_id': 'MDU6TGFiZWw3MzI3NzU5MTI=',\n",
       "    'url': 'https://api.github.com/repos/pandas-dev/pandas/labels/Benchmark',\n",
       "    'name': 'Benchmark',\n",
       "    'color': 'ae68cc',\n",
       "    'default': False,\n",
       "    'description': 'Performance (ASV) benchmarks'}],\n",
       "  'state': 'open',\n",
       "  'locked': False,\n",
       "  'assignee': None,\n",
       "  'assignees': [],\n",
       "  'milestone': {'url': 'https://api.github.com/repos/pandas-dev/pandas/milestones/68',\n",
       "   'html_url': 'https://github.com/pandas-dev/pandas/milestone/68',\n",
       "   'labels_url': 'https://api.github.com/repos/pandas-dev/pandas/milestones/68/labels',\n",
       "   'id': 4894670,\n",
       "   'node_id': 'MDk6TWlsZXN0b25lNDg5NDY3MA==',\n",
       "   'number': 68,\n",
       "   'title': '1.1',\n",
       "   'description': 'after 1.0',\n",
       "   'creator': {'login': 'jreback',\n",
       "    'id': 953992,\n",
       "    'node_id': 'MDQ6VXNlcjk1Mzk5Mg==',\n",
       "    'avatar_url': 'https://avatars2.githubusercontent.com/u/953992?v=4',\n",
       "    'gravatar_id': '',\n",
       "    'url': 'https://api.github.com/users/jreback',\n",
       "    'html_url': 'https://github.com/jreback',\n",
       "    'followers_url': 'https://api.github.com/users/jreback/followers',\n",
       "    'following_url': 'https://api.github.com/users/jreback/following{/other_user}',\n",
       "    'gists_url': 'https://api.github.com/users/jreback/gists{/gist_id}',\n",
       "    'starred_url': 'https://api.github.com/users/jreback/starred{/owner}{/repo}',\n",
       "    'subscriptions_url': 'https://api.github.com/users/jreback/subscriptions',\n",
       "    'organizations_url': 'https://api.github.com/users/jreback/orgs',\n",
       "    'repos_url': 'https://api.github.com/users/jreback/repos',\n",
       "    'events_url': 'https://api.github.com/users/jreback/events{/privacy}',\n",
       "    'received_events_url': 'https://api.github.com/users/jreback/received_events',\n",
       "    'type': 'User',\n",
       "    'site_admin': False},\n",
       "   'open_issues': 128,\n",
       "   'closed_issues': 1746,\n",
       "   'state': 'open',\n",
       "   'created_at': '2019-12-02T12:52:48Z',\n",
       "   'updated_at': '2020-05-28T06:02:27Z',\n",
       "   'due_on': '2020-08-01T07:00:00Z',\n",
       "   'closed_at': None},\n",
       "  'comments': 0,\n",
       "  'created_at': '2020-05-27T14:03:30Z',\n",
       "  'updated_at': '2020-05-27T14:03:30Z',\n",
       "  'closed_at': None,\n",
       "  'author_association': 'CONTRIBUTOR',\n",
       "  'body': 'see https://github.com/pandas-dev/pandas/pull/34389#issuecomment-634641337\\r\\n\\r\\n@TomAugspurger said the asv runner has segfaulted, this is a tracking issue.'},\n",
       " {'url': 'https://api.github.com/repos/pandas-dev/pandas/issues/34403',\n",
       "  'repository_url': 'https://api.github.com/repos/pandas-dev/pandas',\n",
       "  'labels_url': 'https://api.github.com/repos/pandas-dev/pandas/issues/34403/labels{/name}',\n",
       "  'comments_url': 'https://api.github.com/repos/pandas-dev/pandas/issues/34403/comments',\n",
       "  'events_url': 'https://api.github.com/repos/pandas-dev/pandas/issues/34403/events',\n",
       "  'html_url': 'https://github.com/pandas-dev/pandas/issues/34403',\n",
       "  'id': 625495701,\n",
       "  'node_id': 'MDU6SXNzdWU2MjU0OTU3MDE=',\n",
       "  'number': 34403,\n",
       "  'title': 'pandas.core.base.DataError: No numeric types to aggregate',\n",
       "  'user': {'login': 'ishgupta',\n",
       "   'id': 16291603,\n",
       "   'node_id': 'MDQ6VXNlcjE2MjkxNjAz',\n",
       "   'avatar_url': 'https://avatars2.githubusercontent.com/u/16291603?v=4',\n",
       "   'gravatar_id': '',\n",
       "   'url': 'https://api.github.com/users/ishgupta',\n",
       "   'html_url': 'https://github.com/ishgupta',\n",
       "   'followers_url': 'https://api.github.com/users/ishgupta/followers',\n",
       "   'following_url': 'https://api.github.com/users/ishgupta/following{/other_user}',\n",
       "   'gists_url': 'https://api.github.com/users/ishgupta/gists{/gist_id}',\n",
       "   'starred_url': 'https://api.github.com/users/ishgupta/starred{/owner}{/repo}',\n",
       "   'subscriptions_url': 'https://api.github.com/users/ishgupta/subscriptions',\n",
       "   'organizations_url': 'https://api.github.com/users/ishgupta/orgs',\n",
       "   'repos_url': 'https://api.github.com/users/ishgupta/repos',\n",
       "   'events_url': 'https://api.github.com/users/ishgupta/events{/privacy}',\n",
       "   'received_events_url': 'https://api.github.com/users/ishgupta/received_events',\n",
       "   'type': 'User',\n",
       "   'site_admin': False},\n",
       "  'labels': [{'id': 307649777,\n",
       "    'node_id': 'MDU6TGFiZWwzMDc2NDk3Nzc=',\n",
       "    'url': 'https://api.github.com/repos/pandas-dev/pandas/labels/Needs%20Info',\n",
       "    'name': 'Needs Info',\n",
       "    'color': '207de5',\n",
       "    'default': False,\n",
       "    'description': 'Clarification about behavior needed to assess issue'}],\n",
       "  'state': 'open',\n",
       "  'locked': False,\n",
       "  'assignee': None,\n",
       "  'assignees': [],\n",
       "  'milestone': None,\n",
       "  'comments': 2,\n",
       "  'created_at': '2020-05-27T08:37:00Z',\n",
       "  'updated_at': '2020-05-27T20:24:53Z',\n",
       "  'closed_at': None,\n",
       "  'author_association': 'NONE',\n",
       "  'body': \"aggregating a boolean fields doesn't allow averaging the data column in the latest version. Is there a new alternative of doing this for boolean attributes, or it should only be handled by transforming it to a int/float only?\\r\\n\\r\\ndata[ group_fields + [ bool_field ]].groupby( group_fields ).mean() produces the error mentioned in subject.\\r\\n\\r\\n\"},\n",
       " {'url': 'https://api.github.com/repos/pandas-dev/pandas/issues/34402',\n",
       "  'repository_url': 'https://api.github.com/repos/pandas-dev/pandas',\n",
       "  'labels_url': 'https://api.github.com/repos/pandas-dev/pandas/issues/34402/labels{/name}',\n",
       "  'comments_url': 'https://api.github.com/repos/pandas-dev/pandas/issues/34402/comments',\n",
       "  'events_url': 'https://api.github.com/repos/pandas-dev/pandas/issues/34402/events',\n",
       "  'html_url': 'https://github.com/pandas-dev/pandas/pull/34402',\n",
       "  'id': 625467210,\n",
       "  'node_id': 'MDExOlB1bGxSZXF1ZXN0NDIzNjc1MDgw',\n",
       "  'number': 34402,\n",
       "  'title': 'BUG/API: other object type check in Series/DataFrame.equals',\n",
       "  'user': {'login': 'jorisvandenbossche',\n",
       "   'id': 1020496,\n",
       "   'node_id': 'MDQ6VXNlcjEwMjA0OTY=',\n",
       "   'avatar_url': 'https://avatars2.githubusercontent.com/u/1020496?v=4',\n",
       "   'gravatar_id': '',\n",
       "   'url': 'https://api.github.com/users/jorisvandenbossche',\n",
       "   'html_url': 'https://github.com/jorisvandenbossche',\n",
       "   'followers_url': 'https://api.github.com/users/jorisvandenbossche/followers',\n",
       "   'following_url': 'https://api.github.com/users/jorisvandenbossche/following{/other_user}',\n",
       "   'gists_url': 'https://api.github.com/users/jorisvandenbossche/gists{/gist_id}',\n",
       "   'starred_url': 'https://api.github.com/users/jorisvandenbossche/starred{/owner}{/repo}',\n",
       "   'subscriptions_url': 'https://api.github.com/users/jorisvandenbossche/subscriptions',\n",
       "   'organizations_url': 'https://api.github.com/users/jorisvandenbossche/orgs',\n",
       "   'repos_url': 'https://api.github.com/users/jorisvandenbossche/repos',\n",
       "   'events_url': 'https://api.github.com/users/jorisvandenbossche/events{/privacy}',\n",
       "   'received_events_url': 'https://api.github.com/users/jorisvandenbossche/received_events',\n",
       "   'type': 'User',\n",
       "   'site_admin': False},\n",
       "  'labels': [],\n",
       "  'state': 'open',\n",
       "  'locked': False,\n",
       "  'assignee': None,\n",
       "  'assignees': [],\n",
       "  'milestone': {'url': 'https://api.github.com/repos/pandas-dev/pandas/milestones/68',\n",
       "   'html_url': 'https://github.com/pandas-dev/pandas/milestone/68',\n",
       "   'labels_url': 'https://api.github.com/repos/pandas-dev/pandas/milestones/68/labels',\n",
       "   'id': 4894670,\n",
       "   'node_id': 'MDk6TWlsZXN0b25lNDg5NDY3MA==',\n",
       "   'number': 68,\n",
       "   'title': '1.1',\n",
       "   'description': 'after 1.0',\n",
       "   'creator': {'login': 'jreback',\n",
       "    'id': 953992,\n",
       "    'node_id': 'MDQ6VXNlcjk1Mzk5Mg==',\n",
       "    'avatar_url': 'https://avatars2.githubusercontent.com/u/953992?v=4',\n",
       "    'gravatar_id': '',\n",
       "    'url': 'https://api.github.com/users/jreback',\n",
       "    'html_url': 'https://github.com/jreback',\n",
       "    'followers_url': 'https://api.github.com/users/jreback/followers',\n",
       "    'following_url': 'https://api.github.com/users/jreback/following{/other_user}',\n",
       "    'gists_url': 'https://api.github.com/users/jreback/gists{/gist_id}',\n",
       "    'starred_url': 'https://api.github.com/users/jreback/starred{/owner}{/repo}',\n",
       "    'subscriptions_url': 'https://api.github.com/users/jreback/subscriptions',\n",
       "    'organizations_url': 'https://api.github.com/users/jreback/orgs',\n",
       "    'repos_url': 'https://api.github.com/users/jreback/repos',\n",
       "    'events_url': 'https://api.github.com/users/jreback/events{/privacy}',\n",
       "    'received_events_url': 'https://api.github.com/users/jreback/received_events',\n",
       "    'type': 'User',\n",
       "    'site_admin': False},\n",
       "   'open_issues': 128,\n",
       "   'closed_issues': 1746,\n",
       "   'state': 'open',\n",
       "   'created_at': '2019-12-02T12:52:48Z',\n",
       "   'updated_at': '2020-05-28T06:02:27Z',\n",
       "   'due_on': '2020-08-01T07:00:00Z',\n",
       "   'closed_at': None},\n",
       "  'comments': 6,\n",
       "  'created_at': '2020-05-27T07:56:20Z',\n",
       "  'updated_at': '2020-05-28T06:02:32Z',\n",
       "  'closed_at': None,\n",
       "  'author_association': 'MEMBER',\n",
       "  'pull_request': {'url': 'https://api.github.com/repos/pandas-dev/pandas/pulls/34402',\n",
       "   'html_url': 'https://github.com/pandas-dev/pandas/pull/34402',\n",
       "   'diff_url': 'https://github.com/pandas-dev/pandas/pull/34402.diff',\n",
       "   'patch_url': 'https://github.com/pandas-dev/pandas/pull/34402.patch'},\n",
       "  'body': 'xref https://github.com/geopandas/geopandas/issues/1420\\r\\n\\r\\nFirst, this PR is fixing the \"bug\" that we shouldn\\'t rely on `_constructor` being a class that can be used in `isinstance` (see https://github.com/pandas-dev/pandas/issues/32638 for the general discussion about this, this is the only place in our code where `_constructor` is used like this, AFAIK). \\r\\nAnd even if `_constructor` would be a class, it wouldn\\'t necessarily be the correct class to check with (or not more correct than `type(self)`)\\r\\n\\r\\nBut, so this also brings up the API question: what are the \"requirements\" we put on the type of `other` ? Should it be the same type? (as then could also change it to `if not type(self) is type(other): ...`) \\r\\nOr is a subclass sufficient (with `isinstance`) ? \\r\\nThe problem with an isinstance checks with subclasses is that then the order matters (eg `subdf.equals(df)` would not necessarily give the same answer as `df.equals(subdf)`)\\r\\n\\r\\n'},\n",
       " {'url': 'https://api.github.com/repos/pandas-dev/pandas/issues/34399',\n",
       "  'repository_url': 'https://api.github.com/repos/pandas-dev/pandas',\n",
       "  'labels_url': 'https://api.github.com/repos/pandas-dev/pandas/issues/34399/labels{/name}',\n",
       "  'comments_url': 'https://api.github.com/repos/pandas-dev/pandas/issues/34399/comments',\n",
       "  'events_url': 'https://api.github.com/repos/pandas-dev/pandas/issues/34399/events',\n",
       "  'html_url': 'https://github.com/pandas-dev/pandas/pull/34399',\n",
       "  'id': 625323995,\n",
       "  'node_id': 'MDExOlB1bGxSZXF1ZXN0NDIzNTY1MTEy',\n",
       "  'number': 34399,\n",
       "  'title': 'CLN: GH29547 format with f-strings',\n",
       "  'user': {'login': 'matteosantama',\n",
       "   'id': 13473688,\n",
       "   'node_id': 'MDQ6VXNlcjEzNDczNjg4',\n",
       "   'avatar_url': 'https://avatars0.githubusercontent.com/u/13473688?v=4',\n",
       "   'gravatar_id': '',\n",
       "   'url': 'https://api.github.com/users/matteosantama',\n",
       "   'html_url': 'https://github.com/matteosantama',\n",
       "   'followers_url': 'https://api.github.com/users/matteosantama/followers',\n",
       "   'following_url': 'https://api.github.com/users/matteosantama/following{/other_user}',\n",
       "   'gists_url': 'https://api.github.com/users/matteosantama/gists{/gist_id}',\n",
       "   'starred_url': 'https://api.github.com/users/matteosantama/starred{/owner}{/repo}',\n",
       "   'subscriptions_url': 'https://api.github.com/users/matteosantama/subscriptions',\n",
       "   'organizations_url': 'https://api.github.com/users/matteosantama/orgs',\n",
       "   'repos_url': 'https://api.github.com/users/matteosantama/repos',\n",
       "   'events_url': 'https://api.github.com/users/matteosantama/events{/privacy}',\n",
       "   'received_events_url': 'https://api.github.com/users/matteosantama/received_events',\n",
       "   'type': 'User',\n",
       "   'site_admin': False},\n",
       "  'labels': [{'id': 211029535,\n",
       "    'node_id': 'MDU6TGFiZWwyMTEwMjk1MzU=',\n",
       "    'url': 'https://api.github.com/repos/pandas-dev/pandas/labels/Clean',\n",
       "    'name': 'Clean',\n",
       "    'color': '207de5',\n",
       "    'default': False,\n",
       "    'description': None},\n",
       "   {'id': 106935113,\n",
       "    'node_id': 'MDU6TGFiZWwxMDY5MzUxMTM=',\n",
       "    'url': 'https://api.github.com/repos/pandas-dev/pandas/labels/Style',\n",
       "    'name': 'Style',\n",
       "    'color': 'eb6420',\n",
       "    'default': False,\n",
       "    'description': 'Code style, linting, code_checks'}],\n",
       "  'state': 'open',\n",
       "  'locked': False,\n",
       "  'assignee': None,\n",
       "  'assignees': [],\n",
       "  'milestone': {'url': 'https://api.github.com/repos/pandas-dev/pandas/milestones/68',\n",
       "   'html_url': 'https://github.com/pandas-dev/pandas/milestone/68',\n",
       "   'labels_url': 'https://api.github.com/repos/pandas-dev/pandas/milestones/68/labels',\n",
       "   'id': 4894670,\n",
       "   'node_id': 'MDk6TWlsZXN0b25lNDg5NDY3MA==',\n",
       "   'number': 68,\n",
       "   'title': '1.1',\n",
       "   'description': 'after 1.0',\n",
       "   'creator': {'login': 'jreback',\n",
       "    'id': 953992,\n",
       "    'node_id': 'MDQ6VXNlcjk1Mzk5Mg==',\n",
       "    'avatar_url': 'https://avatars2.githubusercontent.com/u/953992?v=4',\n",
       "    'gravatar_id': '',\n",
       "    'url': 'https://api.github.com/users/jreback',\n",
       "    'html_url': 'https://github.com/jreback',\n",
       "    'followers_url': 'https://api.github.com/users/jreback/followers',\n",
       "    'following_url': 'https://api.github.com/users/jreback/following{/other_user}',\n",
       "    'gists_url': 'https://api.github.com/users/jreback/gists{/gist_id}',\n",
       "    'starred_url': 'https://api.github.com/users/jreback/starred{/owner}{/repo}',\n",
       "    'subscriptions_url': 'https://api.github.com/users/jreback/subscriptions',\n",
       "    'organizations_url': 'https://api.github.com/users/jreback/orgs',\n",
       "    'repos_url': 'https://api.github.com/users/jreback/repos',\n",
       "    'events_url': 'https://api.github.com/users/jreback/events{/privacy}',\n",
       "    'received_events_url': 'https://api.github.com/users/jreback/received_events',\n",
       "    'type': 'User',\n",
       "    'site_admin': False},\n",
       "   'open_issues': 128,\n",
       "   'closed_issues': 1746,\n",
       "   'state': 'open',\n",
       "   'created_at': '2019-12-02T12:52:48Z',\n",
       "   'updated_at': '2020-05-28T06:02:27Z',\n",
       "   'due_on': '2020-08-01T07:00:00Z',\n",
       "   'closed_at': None},\n",
       "  'comments': 1,\n",
       "  'created_at': '2020-05-27T02:20:12Z',\n",
       "  'updated_at': '2020-05-28T01:57:30Z',\n",
       "  'closed_at': None,\n",
       "  'author_association': 'CONTRIBUTOR',\n",
       "  'pull_request': {'url': 'https://api.github.com/repos/pandas-dev/pandas/pulls/34399',\n",
       "   'html_url': 'https://github.com/pandas-dev/pandas/pull/34399',\n",
       "   'diff_url': 'https://github.com/pandas-dev/pandas/pull/34399.diff',\n",
       "   'patch_url': 'https://github.com/pandas-dev/pandas/pull/34399.patch'},\n",
       "  'body': \"Sorry all, new PR. Didn't branch off master for the last one. \\r\\n\\r\\n#29547 \"},\n",
       " {'url': 'https://api.github.com/repos/pandas-dev/pandas/issues/34395',\n",
       "  'repository_url': 'https://api.github.com/repos/pandas-dev/pandas',\n",
       "  'labels_url': 'https://api.github.com/repos/pandas-dev/pandas/issues/34395/labels{/name}',\n",
       "  'comments_url': 'https://api.github.com/repos/pandas-dev/pandas/issues/34395/comments',\n",
       "  'events_url': 'https://api.github.com/repos/pandas-dev/pandas/issues/34395/events',\n",
       "  'html_url': 'https://github.com/pandas-dev/pandas/issues/34395',\n",
       "  'id': 625214790,\n",
       "  'node_id': 'MDU6SXNzdWU2MjUyMTQ3OTA=',\n",
       "  'number': 34395,\n",
       "  'title': 'BUG: OverflowError on to_json with numbers larger than sys.maxsize',\n",
       "  'user': {'login': 'kinghuang',\n",
       "   'id': 27340,\n",
       "   'node_id': 'MDQ6VXNlcjI3MzQw',\n",
       "   'avatar_url': 'https://avatars2.githubusercontent.com/u/27340?v=4',\n",
       "   'gravatar_id': '',\n",
       "   'url': 'https://api.github.com/users/kinghuang',\n",
       "   'html_url': 'https://github.com/kinghuang',\n",
       "   'followers_url': 'https://api.github.com/users/kinghuang/followers',\n",
       "   'following_url': 'https://api.github.com/users/kinghuang/following{/other_user}',\n",
       "   'gists_url': 'https://api.github.com/users/kinghuang/gists{/gist_id}',\n",
       "   'starred_url': 'https://api.github.com/users/kinghuang/starred{/owner}{/repo}',\n",
       "   'subscriptions_url': 'https://api.github.com/users/kinghuang/subscriptions',\n",
       "   'organizations_url': 'https://api.github.com/users/kinghuang/orgs',\n",
       "   'repos_url': 'https://api.github.com/users/kinghuang/repos',\n",
       "   'events_url': 'https://api.github.com/users/kinghuang/events{/privacy}',\n",
       "   'received_events_url': 'https://api.github.com/users/kinghuang/received_events',\n",
       "   'type': 'User',\n",
       "   'site_admin': False},\n",
       "  'labels': [{'id': 76811,\n",
       "    'node_id': 'MDU6TGFiZWw3NjgxMQ==',\n",
       "    'url': 'https://api.github.com/repos/pandas-dev/pandas/labels/Bug',\n",
       "    'name': 'Bug',\n",
       "    'color': 'e10c02',\n",
       "    'default': False,\n",
       "    'description': None},\n",
       "   {'id': 49379259,\n",
       "    'node_id': 'MDU6TGFiZWw0OTM3OTI1OQ==',\n",
       "    'url': 'https://api.github.com/repos/pandas-dev/pandas/labels/IO%20JSON',\n",
       "    'name': 'IO JSON',\n",
       "    'color': '207de5',\n",
       "    'default': False,\n",
       "    'description': 'read_json, to_json, json_normalize'}],\n",
       "  'state': 'open',\n",
       "  'locked': False,\n",
       "  'assignee': None,\n",
       "  'assignees': [],\n",
       "  'milestone': None,\n",
       "  'comments': 8,\n",
       "  'created_at': '2020-05-26T21:36:29Z',\n",
       "  'updated_at': '2020-05-28T02:09:17Z',\n",
       "  'closed_at': None,\n",
       "  'author_association': 'NONE',\n",
       "  'body': '- [X] I have checked that this issue has not already been reported.\\r\\n- [X] I have confirmed this bug exists on the latest version of pandas.\\r\\n- [ ] (optional) I have confirmed this bug exists on the master branch of pandas.\\r\\n\\r\\n---\\r\\n\\r\\n**Note**: Please read [this guide](https://matthewrocklin.com/blog/work/2018/02/28/minimal-bug-reports) detailing how to provide the necessary information for us to reproduce your bug.\\r\\n\\r\\n#### Code Sample, a copy-pastable example\\r\\n\\r\\n```python\\r\\nimport sys\\r\\nfrom pandas.io.json import dumps\\r\\n\\r\\ndumps(sys.maxsize)\\r\\ndumps(sys.maxsize + 1)\\r\\n```\\r\\n\\r\\n#### Problem description\\r\\n\\r\\nThe Pandas JSON dumper doesn\\'t seem to handle number values larger than `sys.maxsize` (a word). I have a dataframe that I\\'m trying to write to_json, but it\\'s failing with `OverflowError: int too big to convert`. There are some numbers larger than `9223372036854775807` in it.\\r\\n\\r\\nPassing a `default_handler` doesn\\'t help. It doesn\\'t get called for the error.\\r\\n\\r\\n```python\\r\\n>>> dumps(sys.maxsize)\\r\\n\\'9223372036854775807\\'\\r\\n>>> dumps(sys.maxsize + 1, default_handler=str)\\r\\nTraceback (most recent call last):\\r\\n  File \"<stdin>\", line 1, in <module>\\r\\nOverflowError: int too big to convert\\r\\n```\\r\\n\\r\\n#### Expected Output\\r\\n\\r\\nPython\\'s built-in json module handles large numbers without issues.\\r\\n\\r\\n```python\\r\\n>>> import json\\r\\n>>> json.dumps(sys.maxsize)\\r\\n\\'9223372036854775807\\'\\r\\n>>> json.dumps(sys.maxsize+1)\\r\\n\\'9223372036854775808\\'\\r\\n```\\r\\n\\r\\nI expect Pandas to be able to output large numbers to JSON. An option to use the built-in `json` module instead of `ujson` would be fine.\\r\\n\\r\\n#### Output of ``pd.show_versions()``\\r\\n\\r\\n<details>\\r\\n\\r\\nINSTALLED VERSIONS\\r\\n------------------\\r\\ncommit           : None\\r\\npython           : 3.8.3.final.0\\r\\npython-bits      : 64\\r\\nOS               : Linux\\r\\nOS-release       : 4.19.76-linuxkit\\r\\nmachine          : x86_64\\r\\nprocessor        :\\r\\nbyteorder        : little\\r\\nLC_ALL           : None\\r\\nLANG             : C.UTF-8\\r\\nLOCALE           : en_US.UTF-8\\r\\n\\r\\npandas           : 1.0.3\\r\\nnumpy            : 1.18.2\\r\\npytz             : 2019.3\\r\\ndateutil         : 2.8.1\\r\\npip              : 20.1.1\\r\\nsetuptools       : 46.4.0\\r\\nCython           : None\\r\\npytest           : None\\r\\nhypothesis       : None\\r\\nsphinx           : None\\r\\nblosc            : None\\r\\nfeather          : None\\r\\nxlsxwriter       : None\\r\\nlxml.etree       : None\\r\\nhtml5lib         : None\\r\\npymysql          : None\\r\\npsycopg2         : None\\r\\njinja2           : 2.11.2\\r\\nIPython          : None\\r\\npandas_datareader: None\\r\\nbs4              : None\\r\\nbottleneck       : None\\r\\nfastparquet      : None\\r\\ngcsfs            : None\\r\\nlxml.etree       : None\\r\\nmatplotlib       : None\\r\\nnumexpr          : None\\r\\nodfpy            : None\\r\\nopenpyxl         : None\\r\\npandas_gbq       : None\\r\\npyarrow          : 0.16.0\\r\\npytables         : None\\r\\npytest           : None\\r\\npyxlsb           : None\\r\\ns3fs             : 0.4.2\\r\\nscipy            : None\\r\\nsqlalchemy       : None\\r\\ntables           : None\\r\\ntabulate         : None\\r\\nxarray           : None\\r\\nxlrd             : None\\r\\nxlwt             : None\\r\\nxlsxwriter       : None\\r\\nnumba            : None\\r\\n\\r\\n</details>\\r\\n'},\n",
       " {'url': 'https://api.github.com/repos/pandas-dev/pandas/issues/34394',\n",
       "  'repository_url': 'https://api.github.com/repos/pandas-dev/pandas',\n",
       "  'labels_url': 'https://api.github.com/repos/pandas-dev/pandas/issues/34394/labels{/name}',\n",
       "  'comments_url': 'https://api.github.com/repos/pandas-dev/pandas/issues/34394/comments',\n",
       "  'events_url': 'https://api.github.com/repos/pandas-dev/pandas/issues/34394/events',\n",
       "  'html_url': 'https://github.com/pandas-dev/pandas/pull/34394',\n",
       "  'id': 625172492,\n",
       "  'node_id': 'MDExOlB1bGxSZXF1ZXN0NDIzNDQyNTY4',\n",
       "  'number': 34394,\n",
       "  'title': 'DOC: \"Setting layouts\" plots\\' label size GH34305',\n",
       "  'user': {'login': 'najann',\n",
       "   'id': 47032941,\n",
       "   'node_id': 'MDQ6VXNlcjQ3MDMyOTQx',\n",
       "   'avatar_url': 'https://avatars1.githubusercontent.com/u/47032941?v=4',\n",
       "   'gravatar_id': '',\n",
       "   'url': 'https://api.github.com/users/najann',\n",
       "   'html_url': 'https://github.com/najann',\n",
       "   'followers_url': 'https://api.github.com/users/najann/followers',\n",
       "   'following_url': 'https://api.github.com/users/najann/following{/other_user}',\n",
       "   'gists_url': 'https://api.github.com/users/najann/gists{/gist_id}',\n",
       "   'starred_url': 'https://api.github.com/users/najann/starred{/owner}{/repo}',\n",
       "   'subscriptions_url': 'https://api.github.com/users/najann/subscriptions',\n",
       "   'organizations_url': 'https://api.github.com/users/najann/orgs',\n",
       "   'repos_url': 'https://api.github.com/users/najann/repos',\n",
       "   'events_url': 'https://api.github.com/users/najann/events{/privacy}',\n",
       "   'received_events_url': 'https://api.github.com/users/najann/received_events',\n",
       "   'type': 'User',\n",
       "   'site_admin': False},\n",
       "  'labels': [{'id': 134699,\n",
       "    'node_id': 'MDU6TGFiZWwxMzQ2OTk=',\n",
       "    'url': 'https://api.github.com/repos/pandas-dev/pandas/labels/Docs',\n",
       "    'name': 'Docs',\n",
       "    'color': '3465A4',\n",
       "    'default': False,\n",
       "    'description': None}],\n",
       "  'state': 'open',\n",
       "  'locked': False,\n",
       "  'assignee': None,\n",
       "  'assignees': [],\n",
       "  'milestone': None,\n",
       "  'comments': 0,\n",
       "  'created_at': '2020-05-26T20:19:42Z',\n",
       "  'updated_at': '2020-05-28T06:44:06Z',\n",
       "  'closed_at': None,\n",
       "  'author_association': 'NONE',\n",
       "  'pull_request': {'url': 'https://api.github.com/repos/pandas-dev/pandas/pulls/34394',\n",
       "   'html_url': 'https://github.com/pandas-dev/pandas/pull/34394',\n",
       "   'diff_url': 'https://github.com/pandas-dev/pandas/pull/34394.diff',\n",
       "   'patch_url': 'https://github.com/pandas-dev/pandas/pull/34394.patch'},\n",
       "  'body': '- [X] closes #34305\\r\\n- [ ] tests added / passed\\r\\n- [ ] passes `black pandas`\\r\\n- [ ] passes `git diff upstream/master -u -- \"*.py\" | flake8 --diff`\\r\\n- [ ] whatsnew entry\\r\\n'},\n",
       " {'url': 'https://api.github.com/repos/pandas-dev/pandas/issues/34393',\n",
       "  'repository_url': 'https://api.github.com/repos/pandas-dev/pandas',\n",
       "  'labels_url': 'https://api.github.com/repos/pandas-dev/pandas/issues/34393/labels{/name}',\n",
       "  'comments_url': 'https://api.github.com/repos/pandas-dev/pandas/issues/34393/comments',\n",
       "  'events_url': 'https://api.github.com/repos/pandas-dev/pandas/issues/34393/events',\n",
       "  'html_url': 'https://github.com/pandas-dev/pandas/pull/34393',\n",
       "  'id': 625108884,\n",
       "  'node_id': 'MDExOlB1bGxSZXF1ZXN0NDIzMzkwMDAz',\n",
       "  'number': 34393,\n",
       "  'title': 'DOC: add a semicolon to hide long matplotlib axes return value',\n",
       "  'user': {'login': 'partev',\n",
       "   'id': 23830955,\n",
       "   'node_id': 'MDQ6VXNlcjIzODMwOTU1',\n",
       "   'avatar_url': 'https://avatars3.githubusercontent.com/u/23830955?v=4',\n",
       "   'gravatar_id': '',\n",
       "   'url': 'https://api.github.com/users/partev',\n",
       "   'html_url': 'https://github.com/partev',\n",
       "   'followers_url': 'https://api.github.com/users/partev/followers',\n",
       "   'following_url': 'https://api.github.com/users/partev/following{/other_user}',\n",
       "   'gists_url': 'https://api.github.com/users/partev/gists{/gist_id}',\n",
       "   'starred_url': 'https://api.github.com/users/partev/starred{/owner}{/repo}',\n",
       "   'subscriptions_url': 'https://api.github.com/users/partev/subscriptions',\n",
       "   'organizations_url': 'https://api.github.com/users/partev/orgs',\n",
       "   'repos_url': 'https://api.github.com/users/partev/repos',\n",
       "   'events_url': 'https://api.github.com/users/partev/events{/privacy}',\n",
       "   'received_events_url': 'https://api.github.com/users/partev/received_events',\n",
       "   'type': 'User',\n",
       "   'site_admin': False},\n",
       "  'labels': [{'id': 134699,\n",
       "    'node_id': 'MDU6TGFiZWwxMzQ2OTk=',\n",
       "    'url': 'https://api.github.com/repos/pandas-dev/pandas/labels/Docs',\n",
       "    'name': 'Docs',\n",
       "    'color': '3465A4',\n",
       "    'default': False,\n",
       "    'description': None}],\n",
       "  'state': 'open',\n",
       "  'locked': False,\n",
       "  'assignee': None,\n",
       "  'assignees': [],\n",
       "  'milestone': {'url': 'https://api.github.com/repos/pandas-dev/pandas/milestones/68',\n",
       "   'html_url': 'https://github.com/pandas-dev/pandas/milestone/68',\n",
       "   'labels_url': 'https://api.github.com/repos/pandas-dev/pandas/milestones/68/labels',\n",
       "   'id': 4894670,\n",
       "   'node_id': 'MDk6TWlsZXN0b25lNDg5NDY3MA==',\n",
       "   'number': 68,\n",
       "   'title': '1.1',\n",
       "   'description': 'after 1.0',\n",
       "   'creator': {'login': 'jreback',\n",
       "    'id': 953992,\n",
       "    'node_id': 'MDQ6VXNlcjk1Mzk5Mg==',\n",
       "    'avatar_url': 'https://avatars2.githubusercontent.com/u/953992?v=4',\n",
       "    'gravatar_id': '',\n",
       "    'url': 'https://api.github.com/users/jreback',\n",
       "    'html_url': 'https://github.com/jreback',\n",
       "    'followers_url': 'https://api.github.com/users/jreback/followers',\n",
       "    'following_url': 'https://api.github.com/users/jreback/following{/other_user}',\n",
       "    'gists_url': 'https://api.github.com/users/jreback/gists{/gist_id}',\n",
       "    'starred_url': 'https://api.github.com/users/jreback/starred{/owner}{/repo}',\n",
       "    'subscriptions_url': 'https://api.github.com/users/jreback/subscriptions',\n",
       "    'organizations_url': 'https://api.github.com/users/jreback/orgs',\n",
       "    'repos_url': 'https://api.github.com/users/jreback/repos',\n",
       "    'events_url': 'https://api.github.com/users/jreback/events{/privacy}',\n",
       "    'received_events_url': 'https://api.github.com/users/jreback/received_events',\n",
       "    'type': 'User',\n",
       "    'site_admin': False},\n",
       "   'open_issues': 128,\n",
       "   'closed_issues': 1746,\n",
       "   'state': 'open',\n",
       "   'created_at': '2019-12-02T12:52:48Z',\n",
       "   'updated_at': '2020-05-28T06:02:27Z',\n",
       "   'due_on': '2020-08-01T07:00:00Z',\n",
       "   'closed_at': None},\n",
       "  'comments': 0,\n",
       "  'created_at': '2020-05-26T18:51:37Z',\n",
       "  'updated_at': '2020-05-27T16:28:55Z',\n",
       "  'closed_at': None,\n",
       "  'author_association': 'CONTRIBUTOR',\n",
       "  'pull_request': {'url': 'https://api.github.com/repos/pandas-dev/pandas/pulls/34393',\n",
       "   'html_url': 'https://github.com/pandas-dev/pandas/pull/34393',\n",
       "   'diff_url': 'https://github.com/pandas-dev/pandas/pull/34393.diff',\n",
       "   'patch_url': 'https://github.com/pandas-dev/pandas/pull/34393.patch'},\n",
       "  'body': 'add a semicolon to hide debug messages like:\\r\\nOut[85]: \\r\\narray([[<matplotlib.axes._subplots.AxesSubplot object at 0x7f3d0ad6e3d0>,\\r\\n        <matplotlib.axes._subplots.AxesSubplot object at 0x7f3d0ad4a350>,\\r\\n        <matplotlib.axes._subplots.AxesSubplot object at 0x7f3d0aa10250>,\\r\\n        <matplotlib.axes._subplots.AxesSubplot object at 0x7f3d0a6367d0>],\\r\\n       [<matplotlib.axes._subplots.AxesSubplot object at 0x7f3d088c2d50>,\\r\\n        <matplotlib.axes._subplots.AxesSubplot object at 0x7f3d089ea310>,\\r\\n        <matplotlib.axes._subplots.AxesSubplot object at 0x7f3d08d89890>,\\r\\n        <matplotlib.axes._subplots.AxesSubplot object at 0x7f3d0a76ae10>],\\r\\n       [<matplotlib.axes._subplots.AxesSubplot object at 0x7f3d0a756090>,\\r\\n        <matplotlib.axes._subplots.AxesSubplot object at 0x7f3d0a8dd750>,\\r\\n        <matplotlib.axes._subplots.AxesSubplot object at 0x7f3d096aaed0>,\\r\\n        <matplotlib.axes._subplots.AxesSubplot object at 0x7f3d0937d490>],\\r\\n       [<matplotlib.axes._subplots.AxesSubplot object at 0x7f3d09f49a10>,\\r\\n        <matplotlib.axes._subplots.AxesSubplot object at 0x7f3d0a0551d0>,\\r\\n        <matplotlib.axes._subplots.AxesSubplot object at 0x7f3d0a418550>,\\r\\n        <matplotlib.axes._subplots.AxesSubplot object at 0x7f3d0a6f0ad0>]],\\r\\n      dtype=object)\\r\\nwhich you can see here:\\r\\n\\r\\nhttps://pandas.pydata.org/docs/user_guide/visualization.html\\r\\n\\r\\n- [ ] closes #xxxx\\r\\n- [ ] tests added / passed\\r\\n- [ ] passes `black pandas`\\r\\n- [ ] passes `git diff upstream/master -u -- \"*.py\" | flake8 --diff`\\r\\n- [ ] whatsnew entry\\r\\n'},\n",
       " {'url': 'https://api.github.com/repos/pandas-dev/pandas/issues/34390',\n",
       "  'repository_url': 'https://api.github.com/repos/pandas-dev/pandas',\n",
       "  'labels_url': 'https://api.github.com/repos/pandas-dev/pandas/issues/34390/labels{/name}',\n",
       "  'comments_url': 'https://api.github.com/repos/pandas-dev/pandas/issues/34390/comments',\n",
       "  'events_url': 'https://api.github.com/repos/pandas-dev/pandas/issues/34390/events',\n",
       "  'html_url': 'https://github.com/pandas-dev/pandas/issues/34390',\n",
       "  'id': 625018957,\n",
       "  'node_id': 'MDU6SXNzdWU2MjUwMTg5NTc=',\n",
       "  'number': 34390,\n",
       "  'title': 'BUG: Result of rolling mean depends on more observations than are in window',\n",
       "  'user': {'login': 'cpaulik',\n",
       "   'id': 380927,\n",
       "   'node_id': 'MDQ6VXNlcjM4MDkyNw==',\n",
       "   'avatar_url': 'https://avatars0.githubusercontent.com/u/380927?v=4',\n",
       "   'gravatar_id': '',\n",
       "   'url': 'https://api.github.com/users/cpaulik',\n",
       "   'html_url': 'https://github.com/cpaulik',\n",
       "   'followers_url': 'https://api.github.com/users/cpaulik/followers',\n",
       "   'following_url': 'https://api.github.com/users/cpaulik/following{/other_user}',\n",
       "   'gists_url': 'https://api.github.com/users/cpaulik/gists{/gist_id}',\n",
       "   'starred_url': 'https://api.github.com/users/cpaulik/starred{/owner}{/repo}',\n",
       "   'subscriptions_url': 'https://api.github.com/users/cpaulik/subscriptions',\n",
       "   'organizations_url': 'https://api.github.com/users/cpaulik/orgs',\n",
       "   'repos_url': 'https://api.github.com/users/cpaulik/repos',\n",
       "   'events_url': 'https://api.github.com/users/cpaulik/events{/privacy}',\n",
       "   'received_events_url': 'https://api.github.com/users/cpaulik/received_events',\n",
       "   'type': 'User',\n",
       "   'site_admin': False},\n",
       "  'labels': [{'id': 307649777,\n",
       "    'node_id': 'MDU6TGFiZWwzMDc2NDk3Nzc=',\n",
       "    'url': 'https://api.github.com/repos/pandas-dev/pandas/labels/Needs%20Info',\n",
       "    'name': 'Needs Info',\n",
       "    'color': '207de5',\n",
       "    'default': False,\n",
       "    'description': 'Clarification about behavior needed to assess issue'}],\n",
       "  'state': 'open',\n",
       "  'locked': False,\n",
       "  'assignee': None,\n",
       "  'assignees': [],\n",
       "  'milestone': None,\n",
       "  'comments': 3,\n",
       "  'created_at': '2020-05-26T16:31:34Z',\n",
       "  'updated_at': '2020-05-27T16:30:25Z',\n",
       "  'closed_at': None,\n",
       "  'author_association': 'CONTRIBUTOR',\n",
       "  'body': '#### Code Sample, a copy-pastable example\\r\\n\\r\\n```python\\r\\nimport numpy as np\\r\\nimport pandas as pd\\r\\nimport datetime as dt\\r\\n\\r\\ndata = np.array([0.1552, 0.1746, 0.1932, 0.234 , np.nan, 0.2423, 0.1648,\\r\\n                    np.nan, 0.2148, 0.2081, 0.2313, 0.2011, np.nan, 0.2076,\\r\\n                    0.2096, np.nan, 0.1801, 0.1872, 0.1878, 0.1949, np.nan,\\r\\n                    0.1608, np.nan, np.nan, 0.1793, np.nan, 0.1689, 0.1631,\\r\\n                    np.nan, 0.1586, 0.1531, np.nan, 0.149 , 0.1434, np.nan,\\r\\n                    0.1526, np.nan, 0.1293, 0.1268, np.nan])\\r\\ndates_pandas = pd.date_range(start=dt.date(2020, 3, 24), periods=data.shape[0])\\r\\nser = pd.Series(data, index=dates_pandas)\\r\\nfull_mean = ser.rolling(window=\"20D\",\\r\\n                        min_periods=2,\\r\\n                        center=False,\\r\\n                        closed=\\'both\\').mean()\\r\\nshorter_mean = ser[\\'2020-03-25\\':].rolling(window=\"20D\",\\r\\n                                            min_periods=2,\\r\\n                                            center=False,\\r\\n                                            closed=\\'both\\').mean()\\r\\nprint(full_mean[\\'2020-05-02\\'], full_mean[\\'2020-05-02\\'].round(4))\\r\\nprint(shorter_mean[\\'2020-05-02\\'], shorter_mean[\\'2020-05-02\\'].round(4))\\r\\n```\\r\\n\\r\\n##### Output\\r\\n\\r\\n```\\r\\n0.15664999999999998 0.1566\\r\\n0.15665000000000004 0.1567\\r\\n```\\r\\n\\r\\n#### Problem description\\r\\n\\r\\nThe rolling mean in the example should only take the last 20 values into account. The output for the last day `2020-05-02` does however depend on the inclusion of a value on `2020-03-24`.\\r\\n\\r\\nThis is especially visible if we round the output to the 4 digit precision that the input data has.\\r\\n\\r\\n#### Expected Output\\r\\n\\r\\nBoth running means should be the same value.\\r\\n\\r\\n#### Output of ``pd.show_versions()``\\r\\n\\r\\n<details>\\r\\n\\r\\nINSTALLED VERSIONS\\r\\n------------------\\r\\ncommit           : None\\r\\npython           : 3.6.7.final.0\\r\\npython-bits      : 64\\r\\nOS               : Linux\\r\\nOS-release       : 5.6.12-arch1-1\\r\\nmachine          : x86_64\\r\\nprocessor        : \\r\\nbyteorder        : little\\r\\nLC_ALL           : None\\r\\nLANG             : en_US.UTF-8\\r\\nLOCALE           : en_US.UTF-8\\r\\n\\r\\npandas           : 1.0.3\\r\\nnumpy            : 1.17.3\\r\\npytz             : 2019.3\\r\\ndateutil         : 2.8.1\\r\\npip              : 19.3.1\\r\\nsetuptools       : 41.6.0.post20191101\\r\\nCython           : 0.29.13\\r\\npytest           : 5.3.0\\r\\nhypothesis       : None\\r\\nsphinx           : 2.2.1\\r\\nblosc            : None\\r\\nfeather          : None\\r\\nxlsxwriter       : None\\r\\nlxml.etree       : 4.4.1\\r\\nhtml5lib         : None\\r\\npymysql          : None\\r\\npsycopg2         : 2.8.4 (dt dec pq3 ext lo64)\\r\\njinja2           : 2.10.3\\r\\nIPython          : None\\r\\npandas_datareader: None\\r\\nbs4              : None\\r\\nbottleneck       : None\\r\\nfastparquet      : None\\r\\ngcsfs            : None\\r\\nlxml.etree       : 4.4.1\\r\\nmatplotlib       : 3.1.1\\r\\nnumexpr          : None\\r\\nodfpy            : None\\r\\nopenpyxl         : None\\r\\npandas_gbq       : None\\r\\npyarrow          : None\\r\\npytables         : None\\r\\npytest           : 5.3.0\\r\\npyxlsb           : None\\r\\ns3fs             : None\\r\\nscipy            : 1.3.2\\r\\nsqlalchemy       : 1.3.17\\r\\ntables           : None\\r\\ntabulate         : None\\r\\nxarray           : None\\r\\nxlrd             : None\\r\\nxlwt             : None\\r\\nxlsxwriter       : None\\r\\nnumba            : None\\r\\nNone\\r\\n\\r\\n\\r\\n</details>\\r\\n'},\n",
       " {'url': 'https://api.github.com/repos/pandas-dev/pandas/issues/34388',\n",
       "  'repository_url': 'https://api.github.com/repos/pandas-dev/pandas',\n",
       "  'labels_url': 'https://api.github.com/repos/pandas-dev/pandas/issues/34388/labels{/name}',\n",
       "  'comments_url': 'https://api.github.com/repos/pandas-dev/pandas/issues/34388/comments',\n",
       "  'events_url': 'https://api.github.com/repos/pandas-dev/pandas/issues/34388/events',\n",
       "  'html_url': 'https://github.com/pandas-dev/pandas/issues/34388',\n",
       "  'id': 624952326,\n",
       "  'node_id': 'MDU6SXNzdWU2MjQ5NTIzMjY=',\n",
       "  'number': 34388,\n",
       "  'title': 'BUG: pd.DataFrame.add() does not broadcast across levels, when level is None',\n",
       "  'user': {'login': 'iyer',\n",
       "   'id': 8992201,\n",
       "   'node_id': 'MDQ6VXNlcjg5OTIyMDE=',\n",
       "   'avatar_url': 'https://avatars3.githubusercontent.com/u/8992201?v=4',\n",
       "   'gravatar_id': '',\n",
       "   'url': 'https://api.github.com/users/iyer',\n",
       "   'html_url': 'https://github.com/iyer',\n",
       "   'followers_url': 'https://api.github.com/users/iyer/followers',\n",
       "   'following_url': 'https://api.github.com/users/iyer/following{/other_user}',\n",
       "   'gists_url': 'https://api.github.com/users/iyer/gists{/gist_id}',\n",
       "   'starred_url': 'https://api.github.com/users/iyer/starred{/owner}{/repo}',\n",
       "   'subscriptions_url': 'https://api.github.com/users/iyer/subscriptions',\n",
       "   'organizations_url': 'https://api.github.com/users/iyer/orgs',\n",
       "   'repos_url': 'https://api.github.com/users/iyer/repos',\n",
       "   'events_url': 'https://api.github.com/users/iyer/events{/privacy}',\n",
       "   'received_events_url': 'https://api.github.com/users/iyer/received_events',\n",
       "   'type': 'User',\n",
       "   'site_admin': False},\n",
       "  'labels': [{'id': 76811,\n",
       "    'node_id': 'MDU6TGFiZWw3NjgxMQ==',\n",
       "    'url': 'https://api.github.com/repos/pandas-dev/pandas/labels/Bug',\n",
       "    'name': 'Bug',\n",
       "    'color': 'e10c02',\n",
       "    'default': False,\n",
       "    'description': None},\n",
       "   {'id': 1954720290,\n",
       "    'node_id': 'MDU6TGFiZWwxOTU0NzIwMjkw',\n",
       "    'url': 'https://api.github.com/repos/pandas-dev/pandas/labels/Needs%20Triage',\n",
       "    'name': 'Needs Triage',\n",
       "    'color': '0052cc',\n",
       "    'default': False,\n",
       "    'description': 'Issue that has not been reviewed by a pandas team member'}],\n",
       "  'state': 'open',\n",
       "  'locked': False,\n",
       "  'assignee': None,\n",
       "  'assignees': [],\n",
       "  'milestone': None,\n",
       "  'comments': 1,\n",
       "  'created_at': '2020-05-26T15:01:16Z',\n",
       "  'updated_at': '2020-05-27T21:17:01Z',\n",
       "  'closed_at': None,\n",
       "  'author_association': 'NONE',\n",
       "  'body': \"- [X] I have checked that this issue has not already been reported.\\r\\n\\r\\n- [X] I have confirmed this bug exists on the latest version of pandas.\\r\\n\\r\\n- [X] (optional) I have confirmed this bug exists on the master branch of pandas.\\r\\n\\r\\n---\\r\\n\\r\\n**Note**: Please read [this guide](https://matthewrocklin.com/blog/work/2018/02/28/minimal-bug-reports) detailing how to provide the necessary information for us to reproduce your bug.\\r\\n\\r\\n#### Code Sample, a copy-pastable example\\r\\n\\r\\n```python\\r\\n\\r\\n# create dataframe\\r\\ndf1 = pd.DataFrame({'A': [0, 1, 2], 'B': [1, 2, 3]})\\r\\ndf1.columns.set_names('L1', inplace=True)\\r\\n# create dataframe with multiindex in column\\r\\ndf2 = pd.DataFrame({('A', 'C'): [0, 0, 0], ('A', 'D'): [0, 0, 0]})\\r\\ndf2.columns.set_names(['L1', 'L2'], inplace=True)\\r\\n\\r\\n# returns dataframe of nans\\r\\ndf1.add(df2)\\r\\n# returns dataframe with valid values\\r\\ndf1.add(df2, level=0)\\r\\n\\r\\n```\\r\\n\\r\\n#### Problem description\\r\\n\\r\\nIn pandas 0.23.2 the behavior was correct where level=None was treated as level=0 and being broadcasted. However in  pandas 1.0.3, it appears as though a bug got introduced.\\r\\n\\r\\n#### Expected Output\\r\\n\\r\\nOut[1]: \\r\\n   A   \\r\\n   C  D\\r\\n0  0  0\\r\\n1  1  1\\r\\n2  2  2\\r\\n\\r\\n#### Output of ``pd.show_versions()``\\r\\n\\r\\n<details>\\r\\n\\r\\nINSTALLED VERSIONS\\r\\n------------------\\r\\ncommit           : None\\r\\npython           : 3.7.6.final.0\\r\\npython-bits      : 64\\r\\nOS               : Linux\\r\\nOS-release       : 4.14.13-1.el7.elrepo.x86_64\\r\\nmachine          : x86_64\\r\\nprocessor        : x86_64\\r\\nbyteorder        : little\\r\\nLC_ALL           : None\\r\\nLANG             : en_US.UTF-8\\r\\nLOCALE           : en_US.UTF-8\\r\\n\\r\\npandas           : 1.0.3\\r\\nnumpy            : 1.18.1\\r\\npytz             : 2020.1\\r\\ndateutil         : 2.8.1\\r\\npip              : 20.0.2\\r\\nsetuptools       : 46.4.0.post20200518\\r\\nCython           : 0.29.17\\r\\npytest           : 5.4.2\\r\\nhypothesis       : None\\r\\nsphinx           : 3.0.3\\r\\nblosc            : None\\r\\nfeather          : None\\r\\nxlsxwriter       : None\\r\\nlxml.etree       : 4.5.0\\r\\nhtml5lib         : None\\r\\npymysql          : None\\r\\npsycopg2         : None\\r\\njinja2           : 2.11.2\\r\\nIPython          : 7.13.0\\r\\npandas_datareader: None\\r\\nbs4              : None\\r\\nbottleneck       : 1.3.2\\r\\nfastparquet      : None\\r\\ngcsfs            : None\\r\\nlxml.etree       : 4.5.0\\r\\nmatplotlib       : 3.1.3\\r\\nnumexpr          : 2.7.1\\r\\nodfpy            : None\\r\\nopenpyxl         : None\\r\\npandas_gbq       : None\\r\\npyarrow          : None\\r\\npytables         : None\\r\\npytest           : 5.4.2\\r\\npyxlsb           : None\\r\\ns3fs             : None\\r\\nscipy            : 1.4.1\\r\\nsqlalchemy       : 1.3.17\\r\\ntables           : 3.6.1\\r\\ntabulate         : None\\r\\nxarray           : None\\r\\nxlrd             : 1.2.0\\r\\nxlwt             : 1.3.0\\r\\nxlsxwriter       : None\\r\\nnumba            : 0.49.1\\r\\n\\r\\n</details>\\r\\n\"},\n",
       " {'url': 'https://api.github.com/repos/pandas-dev/pandas/issues/34385',\n",
       "  'repository_url': 'https://api.github.com/repos/pandas-dev/pandas',\n",
       "  'labels_url': 'https://api.github.com/repos/pandas-dev/pandas/issues/34385/labels{/name}',\n",
       "  'comments_url': 'https://api.github.com/repos/pandas-dev/pandas/issues/34385/comments',\n",
       "  'events_url': 'https://api.github.com/repos/pandas-dev/pandas/issues/34385/events',\n",
       "  'html_url': 'https://github.com/pandas-dev/pandas/pull/34385',\n",
       "  'id': 624901482,\n",
       "  'node_id': 'MDExOlB1bGxSZXF1ZXN0NDIzMjIwMzk5',\n",
       "  'number': 34385,\n",
       "  'title': 'use ensure_clean rather than explicit os.remove #34384',\n",
       "  'user': {'login': 'jnecus',\n",
       "   'id': 18306309,\n",
       "   'node_id': 'MDQ6VXNlcjE4MzA2MzA5',\n",
       "   'avatar_url': 'https://avatars2.githubusercontent.com/u/18306309?v=4',\n",
       "   'gravatar_id': '',\n",
       "   'url': 'https://api.github.com/users/jnecus',\n",
       "   'html_url': 'https://github.com/jnecus',\n",
       "   'followers_url': 'https://api.github.com/users/jnecus/followers',\n",
       "   'following_url': 'https://api.github.com/users/jnecus/following{/other_user}',\n",
       "   'gists_url': 'https://api.github.com/users/jnecus/gists{/gist_id}',\n",
       "   'starred_url': 'https://api.github.com/users/jnecus/starred{/owner}{/repo}',\n",
       "   'subscriptions_url': 'https://api.github.com/users/jnecus/subscriptions',\n",
       "   'organizations_url': 'https://api.github.com/users/jnecus/orgs',\n",
       "   'repos_url': 'https://api.github.com/users/jnecus/repos',\n",
       "   'events_url': 'https://api.github.com/users/jnecus/events{/privacy}',\n",
       "   'received_events_url': 'https://api.github.com/users/jnecus/received_events',\n",
       "   'type': 'User',\n",
       "   'site_admin': False},\n",
       "  'labels': [{'id': 127685,\n",
       "    'node_id': 'MDU6TGFiZWwxMjc2ODU=',\n",
       "    'url': 'https://api.github.com/repos/pandas-dev/pandas/labels/Testing',\n",
       "    'name': 'Testing',\n",
       "    'color': 'C4A000',\n",
       "    'default': False,\n",
       "    'description': 'Custom testing functions or related to the test suite'}],\n",
       "  'state': 'open',\n",
       "  'locked': False,\n",
       "  'assignee': None,\n",
       "  'assignees': [],\n",
       "  'milestone': None,\n",
       "  'comments': 4,\n",
       "  'created_at': '2020-05-26T13:53:08Z',\n",
       "  'updated_at': '2020-05-26T16:08:02Z',\n",
       "  'closed_at': None,\n",
       "  'author_association': 'CONTRIBUTOR',\n",
       "  'pull_request': {'url': 'https://api.github.com/repos/pandas-dev/pandas/pulls/34385',\n",
       "   'html_url': 'https://github.com/pandas-dev/pandas/pull/34385',\n",
       "   'diff_url': 'https://github.com/pandas-dev/pandas/pull/34385.diff',\n",
       "   'patch_url': 'https://github.com/pandas-dev/pandas/pull/34385.patch'},\n",
       "  'body': \"I have made a start at this issue #34384. Please let me know if I am along the right lines (beginner contributor).\\r\\n\\r\\nI've left a space in code_checks.sh where I expect to implement the check for instances of 'os.remove' throughout the code.\"},\n",
       " {'url': 'https://api.github.com/repos/pandas-dev/pandas/issues/34384',\n",
       "  'repository_url': 'https://api.github.com/repos/pandas-dev/pandas',\n",
       "  'labels_url': 'https://api.github.com/repos/pandas-dev/pandas/issues/34384/labels{/name}',\n",
       "  'comments_url': 'https://api.github.com/repos/pandas-dev/pandas/issues/34384/comments',\n",
       "  'events_url': 'https://api.github.com/repos/pandas-dev/pandas/issues/34384/events',\n",
       "  'html_url': 'https://github.com/pandas-dev/pandas/issues/34384',\n",
       "  'id': 624868083,\n",
       "  'node_id': 'MDU6SXNzdWU2MjQ4NjgwODM=',\n",
       "  'number': 34384,\n",
       "  'title': 'TST: use ensure_clean rather than explicit os.remove',\n",
       "  'user': {'login': 'jreback',\n",
       "   'id': 953992,\n",
       "   'node_id': 'MDQ6VXNlcjk1Mzk5Mg==',\n",
       "   'avatar_url': 'https://avatars2.githubusercontent.com/u/953992?v=4',\n",
       "   'gravatar_id': '',\n",
       "   'url': 'https://api.github.com/users/jreback',\n",
       "   'html_url': 'https://github.com/jreback',\n",
       "   'followers_url': 'https://api.github.com/users/jreback/followers',\n",
       "   'following_url': 'https://api.github.com/users/jreback/following{/other_user}',\n",
       "   'gists_url': 'https://api.github.com/users/jreback/gists{/gist_id}',\n",
       "   'starred_url': 'https://api.github.com/users/jreback/starred{/owner}{/repo}',\n",
       "   'subscriptions_url': 'https://api.github.com/users/jreback/subscriptions',\n",
       "   'organizations_url': 'https://api.github.com/users/jreback/orgs',\n",
       "   'repos_url': 'https://api.github.com/users/jreback/repos',\n",
       "   'events_url': 'https://api.github.com/users/jreback/events{/privacy}',\n",
       "   'received_events_url': 'https://api.github.com/users/jreback/received_events',\n",
       "   'type': 'User',\n",
       "   'site_admin': False},\n",
       "  'labels': [{'id': 49254273,\n",
       "    'node_id': 'MDU6TGFiZWw0OTI1NDI3Mw==',\n",
       "    'url': 'https://api.github.com/repos/pandas-dev/pandas/labels/IO%20Excel',\n",
       "    'name': 'IO Excel',\n",
       "    'color': 'bfe5bf',\n",
       "    'default': False,\n",
       "    'description': 'read_excel, to_excel'},\n",
       "   {'id': 127685,\n",
       "    'node_id': 'MDU6TGFiZWwxMjc2ODU=',\n",
       "    'url': 'https://api.github.com/repos/pandas-dev/pandas/labels/Testing',\n",
       "    'name': 'Testing',\n",
       "    'color': 'C4A000',\n",
       "    'default': False,\n",
       "    'description': 'Custom testing functions or related to the test suite'},\n",
       "   {'id': 717120670,\n",
       "    'node_id': 'MDU6TGFiZWw3MTcxMjA2NzA=',\n",
       "    'url': 'https://api.github.com/repos/pandas-dev/pandas/labels/good%20first%20issue',\n",
       "    'name': 'good first issue',\n",
       "    'color': '0e8a16',\n",
       "    'default': True,\n",
       "    'description': None}],\n",
       "  'state': 'open',\n",
       "  'locked': False,\n",
       "  'assignee': {'login': 'jnecus',\n",
       "   'id': 18306309,\n",
       "   'node_id': 'MDQ6VXNlcjE4MzA2MzA5',\n",
       "   'avatar_url': 'https://avatars2.githubusercontent.com/u/18306309?v=4',\n",
       "   'gravatar_id': '',\n",
       "   'url': 'https://api.github.com/users/jnecus',\n",
       "   'html_url': 'https://github.com/jnecus',\n",
       "   'followers_url': 'https://api.github.com/users/jnecus/followers',\n",
       "   'following_url': 'https://api.github.com/users/jnecus/following{/other_user}',\n",
       "   'gists_url': 'https://api.github.com/users/jnecus/gists{/gist_id}',\n",
       "   'starred_url': 'https://api.github.com/users/jnecus/starred{/owner}{/repo}',\n",
       "   'subscriptions_url': 'https://api.github.com/users/jnecus/subscriptions',\n",
       "   'organizations_url': 'https://api.github.com/users/jnecus/orgs',\n",
       "   'repos_url': 'https://api.github.com/users/jnecus/repos',\n",
       "   'events_url': 'https://api.github.com/users/jnecus/events{/privacy}',\n",
       "   'received_events_url': 'https://api.github.com/users/jnecus/received_events',\n",
       "   'type': 'User',\n",
       "   'site_admin': False},\n",
       "  'assignees': [{'login': 'jnecus',\n",
       "    'id': 18306309,\n",
       "    'node_id': 'MDQ6VXNlcjE4MzA2MzA5',\n",
       "    'avatar_url': 'https://avatars2.githubusercontent.com/u/18306309?v=4',\n",
       "    'gravatar_id': '',\n",
       "    'url': 'https://api.github.com/users/jnecus',\n",
       "    'html_url': 'https://github.com/jnecus',\n",
       "    'followers_url': 'https://api.github.com/users/jnecus/followers',\n",
       "    'following_url': 'https://api.github.com/users/jnecus/following{/other_user}',\n",
       "    'gists_url': 'https://api.github.com/users/jnecus/gists{/gist_id}',\n",
       "    'starred_url': 'https://api.github.com/users/jnecus/starred{/owner}{/repo}',\n",
       "    'subscriptions_url': 'https://api.github.com/users/jnecus/subscriptions',\n",
       "    'organizations_url': 'https://api.github.com/users/jnecus/orgs',\n",
       "    'repos_url': 'https://api.github.com/users/jnecus/repos',\n",
       "    'events_url': 'https://api.github.com/users/jnecus/events{/privacy}',\n",
       "    'received_events_url': 'https://api.github.com/users/jnecus/received_events',\n",
       "    'type': 'User',\n",
       "    'site_admin': False}],\n",
       "  'milestone': {'url': 'https://api.github.com/repos/pandas-dev/pandas/milestones/32',\n",
       "   'html_url': 'https://github.com/pandas-dev/pandas/milestone/32',\n",
       "   'labels_url': 'https://api.github.com/repos/pandas-dev/pandas/milestones/32/labels',\n",
       "   'id': 933188,\n",
       "   'node_id': 'MDk6TWlsZXN0b25lOTMzMTg4',\n",
       "   'number': 32,\n",
       "   'title': 'Contributions Welcome',\n",
       "   'description': 'Changes that would be nice to have in the next release. These issues are not blocking. They will be pushed to the next release if no one has time to fix them.',\n",
       "   'creator': {'login': 'jreback',\n",
       "    'id': 953992,\n",
       "    'node_id': 'MDQ6VXNlcjk1Mzk5Mg==',\n",
       "    'avatar_url': 'https://avatars2.githubusercontent.com/u/953992?v=4',\n",
       "    'gravatar_id': '',\n",
       "    'url': 'https://api.github.com/users/jreback',\n",
       "    'html_url': 'https://github.com/jreback',\n",
       "    'followers_url': 'https://api.github.com/users/jreback/followers',\n",
       "    'following_url': 'https://api.github.com/users/jreback/following{/other_user}',\n",
       "    'gists_url': 'https://api.github.com/users/jreback/gists{/gist_id}',\n",
       "    'starred_url': 'https://api.github.com/users/jreback/starred{/owner}{/repo}',\n",
       "    'subscriptions_url': 'https://api.github.com/users/jreback/subscriptions',\n",
       "    'organizations_url': 'https://api.github.com/users/jreback/orgs',\n",
       "    'repos_url': 'https://api.github.com/users/jreback/repos',\n",
       "    'events_url': 'https://api.github.com/users/jreback/events{/privacy}',\n",
       "    'received_events_url': 'https://api.github.com/users/jreback/received_events',\n",
       "    'type': 'User',\n",
       "    'site_admin': False},\n",
       "   'open_issues': 1151,\n",
       "   'closed_issues': 588,\n",
       "   'state': 'open',\n",
       "   'created_at': '2015-01-13T10:53:19Z',\n",
       "   'updated_at': '2020-05-27T23:11:47Z',\n",
       "   'due_on': None,\n",
       "   'closed_at': None},\n",
       "  'comments': 1,\n",
       "  'created_at': '2020-05-26T13:04:56Z',\n",
       "  'updated_at': '2020-05-26T13:25:18Z',\n",
       "  'closed_at': None,\n",
       "  'author_association': 'CONTRIBUTOR',\n",
       "  'body': '```\\r\\n~/pandas-dev$ grep -r os.remove pandas/tests/\\r\\npandas/tests/io/excel/test_openpyxl.py:    os.remove(filename)\\r\\npandas/tests/io/excel/test_writers.py:    #     os.remove(filename)\\r\\npandas/tests/io/excel/test_writers.py:    #     os.remove(filename)\\r\\npandas/tests/io/pytables/common.py:            os.remove(path)\\r\\n```\\r\\n\\r\\nwe should also create a rule in code_checks.sh to avoid doing this in the future'},\n",
       " {'url': 'https://api.github.com/repos/pandas-dev/pandas/issues/34383',\n",
       "  'repository_url': 'https://api.github.com/repos/pandas-dev/pandas',\n",
       "  'labels_url': 'https://api.github.com/repos/pandas-dev/pandas/issues/34383/labels{/name}',\n",
       "  'comments_url': 'https://api.github.com/repos/pandas-dev/pandas/issues/34383/comments',\n",
       "  'events_url': 'https://api.github.com/repos/pandas-dev/pandas/issues/34383/events',\n",
       "  'html_url': 'https://github.com/pandas-dev/pandas/issues/34383',\n",
       "  'id': 624732202,\n",
       "  'node_id': 'MDU6SXNzdWU2MjQ3MzIyMDI=',\n",
       "  'number': 34383,\n",
       "  'title': 'DOC: Indexing and selecting data and the use of mask/where',\n",
       "  'user': {'login': 'psteinb',\n",
       "   'id': 1465603,\n",
       "   'node_id': 'MDQ6VXNlcjE0NjU2MDM=',\n",
       "   'avatar_url': 'https://avatars1.githubusercontent.com/u/1465603?v=4',\n",
       "   'gravatar_id': '',\n",
       "   'url': 'https://api.github.com/users/psteinb',\n",
       "   'html_url': 'https://github.com/psteinb',\n",
       "   'followers_url': 'https://api.github.com/users/psteinb/followers',\n",
       "   'following_url': 'https://api.github.com/users/psteinb/following{/other_user}',\n",
       "   'gists_url': 'https://api.github.com/users/psteinb/gists{/gist_id}',\n",
       "   'starred_url': 'https://api.github.com/users/psteinb/starred{/owner}{/repo}',\n",
       "   'subscriptions_url': 'https://api.github.com/users/psteinb/subscriptions',\n",
       "   'organizations_url': 'https://api.github.com/users/psteinb/orgs',\n",
       "   'repos_url': 'https://api.github.com/users/psteinb/repos',\n",
       "   'events_url': 'https://api.github.com/users/psteinb/events{/privacy}',\n",
       "   'received_events_url': 'https://api.github.com/users/psteinb/received_events',\n",
       "   'type': 'User',\n",
       "   'site_admin': False},\n",
       "  'labels': [{'id': 134699,\n",
       "    'node_id': 'MDU6TGFiZWwxMzQ2OTk=',\n",
       "    'url': 'https://api.github.com/repos/pandas-dev/pandas/labels/Docs',\n",
       "    'name': 'Docs',\n",
       "    'color': '3465A4',\n",
       "    'default': False,\n",
       "    'description': None},\n",
       "   {'id': 2822098,\n",
       "    'node_id': 'MDU6TGFiZWwyODIyMDk4',\n",
       "    'url': 'https://api.github.com/repos/pandas-dev/pandas/labels/Indexing',\n",
       "    'name': 'Indexing',\n",
       "    'color': '0b02e1',\n",
       "    'default': False,\n",
       "    'description': 'Related to indexing on series/frames, not to indexes themselves'}],\n",
       "  'state': 'open',\n",
       "  'locked': False,\n",
       "  'assignee': None,\n",
       "  'assignees': [],\n",
       "  'milestone': {'url': 'https://api.github.com/repos/pandas-dev/pandas/milestones/32',\n",
       "   'html_url': 'https://github.com/pandas-dev/pandas/milestone/32',\n",
       "   'labels_url': 'https://api.github.com/repos/pandas-dev/pandas/milestones/32/labels',\n",
       "   'id': 933188,\n",
       "   'node_id': 'MDk6TWlsZXN0b25lOTMzMTg4',\n",
       "   'number': 32,\n",
       "   'title': 'Contributions Welcome',\n",
       "   'description': 'Changes that would be nice to have in the next release. These issues are not blocking. They will be pushed to the next release if no one has time to fix them.',\n",
       "   'creator': {'login': 'jreback',\n",
       "    'id': 953992,\n",
       "    'node_id': 'MDQ6VXNlcjk1Mzk5Mg==',\n",
       "    'avatar_url': 'https://avatars2.githubusercontent.com/u/953992?v=4',\n",
       "    'gravatar_id': '',\n",
       "    'url': 'https://api.github.com/users/jreback',\n",
       "    'html_url': 'https://github.com/jreback',\n",
       "    'followers_url': 'https://api.github.com/users/jreback/followers',\n",
       "    'following_url': 'https://api.github.com/users/jreback/following{/other_user}',\n",
       "    'gists_url': 'https://api.github.com/users/jreback/gists{/gist_id}',\n",
       "    'starred_url': 'https://api.github.com/users/jreback/starred{/owner}{/repo}',\n",
       "    'subscriptions_url': 'https://api.github.com/users/jreback/subscriptions',\n",
       "    'organizations_url': 'https://api.github.com/users/jreback/orgs',\n",
       "    'repos_url': 'https://api.github.com/users/jreback/repos',\n",
       "    'events_url': 'https://api.github.com/users/jreback/events{/privacy}',\n",
       "    'received_events_url': 'https://api.github.com/users/jreback/received_events',\n",
       "    'type': 'User',\n",
       "    'site_admin': False},\n",
       "   'open_issues': 1151,\n",
       "   'closed_issues': 588,\n",
       "   'state': 'open',\n",
       "   'created_at': '2015-01-13T10:53:19Z',\n",
       "   'updated_at': '2020-05-27T23:11:47Z',\n",
       "   'due_on': None,\n",
       "   'closed_at': None},\n",
       "  'comments': 2,\n",
       "  'created_at': '2020-05-26T09:18:32Z',\n",
       "  'updated_at': '2020-05-26T13:01:58Z',\n",
       "  'closed_at': None,\n",
       "  'author_association': 'NONE',\n",
       "  'body': \"#### Location of the documentation\\r\\n\\r\\nhttps://pandas.pydata.org/pandas-docs/stable/user_guide/indexing.html#evaluation-order-matters\\r\\n\\r\\n#### Documentation problem\\r\\n\\r\\nThe documentation talks about how **not** to use `dfb['c'][dfb['a'].str.startswith('o')] = 42` for assignment of multiple values to a `pandas.Series` or `pandas.DataFrame` column. it does however fail to make a concrete suggestion how to do it given the example. \\r\\n\\r\\n#### Suggested fix for documentation\\r\\n\\r\\nI suggest to mention the `pandas.Series.where` and `pandas.Series.mask` methods here in order to show how the assignment can be done, i.e. by adding an example like:\\r\\n\\r\\n```python\\r\\ndfb['c'].mask(dfb['a'].str.startswith('o'), 42)\\r\\n```\\r\\nwhich performs the desired assigment of rows matching `o` to `42`. I am happy to contribute this as a PR myself.\"},\n",
       " {'url': 'https://api.github.com/repos/pandas-dev/pandas/issues/34381',\n",
       "  'repository_url': 'https://api.github.com/repos/pandas-dev/pandas',\n",
       "  'labels_url': 'https://api.github.com/repos/pandas-dev/pandas/issues/34381/labels{/name}',\n",
       "  'comments_url': 'https://api.github.com/repos/pandas-dev/pandas/issues/34381/comments',\n",
       "  'events_url': 'https://api.github.com/repos/pandas-dev/pandas/issues/34381/events',\n",
       "  'html_url': 'https://github.com/pandas-dev/pandas/issues/34381',\n",
       "  'id': 624672502,\n",
       "  'node_id': 'MDU6SXNzdWU2MjQ2NzI1MDI=',\n",
       "  'number': 34381,\n",
       "  'title': 'BUG: pd.tseries.frequencies.to_offset() does not really provide a DateOffset object',\n",
       "  'user': {'login': 'meteoDaniel',\n",
       "   'id': 27021858,\n",
       "   'node_id': 'MDQ6VXNlcjI3MDIxODU4',\n",
       "   'avatar_url': 'https://avatars1.githubusercontent.com/u/27021858?v=4',\n",
       "   'gravatar_id': '',\n",
       "   'url': 'https://api.github.com/users/meteoDaniel',\n",
       "   'html_url': 'https://github.com/meteoDaniel',\n",
       "   'followers_url': 'https://api.github.com/users/meteoDaniel/followers',\n",
       "   'following_url': 'https://api.github.com/users/meteoDaniel/following{/other_user}',\n",
       "   'gists_url': 'https://api.github.com/users/meteoDaniel/gists{/gist_id}',\n",
       "   'starred_url': 'https://api.github.com/users/meteoDaniel/starred{/owner}{/repo}',\n",
       "   'subscriptions_url': 'https://api.github.com/users/meteoDaniel/subscriptions',\n",
       "   'organizations_url': 'https://api.github.com/users/meteoDaniel/orgs',\n",
       "   'repos_url': 'https://api.github.com/users/meteoDaniel/repos',\n",
       "   'events_url': 'https://api.github.com/users/meteoDaniel/events{/privacy}',\n",
       "   'received_events_url': 'https://api.github.com/users/meteoDaniel/received_events',\n",
       "   'type': 'User',\n",
       "   'site_admin': False},\n",
       "  'labels': [{'id': 76811,\n",
       "    'node_id': 'MDU6TGFiZWw3NjgxMQ==',\n",
       "    'url': 'https://api.github.com/repos/pandas-dev/pandas/labels/Bug',\n",
       "    'name': 'Bug',\n",
       "    'color': 'e10c02',\n",
       "    'default': False,\n",
       "    'description': None},\n",
       "   {'id': 1954720290,\n",
       "    'node_id': 'MDU6TGFiZWwxOTU0NzIwMjkw',\n",
       "    'url': 'https://api.github.com/repos/pandas-dev/pandas/labels/Needs%20Triage',\n",
       "    'name': 'Needs Triage',\n",
       "    'color': '0052cc',\n",
       "    'default': False,\n",
       "    'description': 'Issue that has not been reviewed by a pandas team member'}],\n",
       "  'state': 'open',\n",
       "  'locked': False,\n",
       "  'assignee': None,\n",
       "  'assignees': [],\n",
       "  'milestone': None,\n",
       "  'comments': 1,\n",
       "  'created_at': '2020-05-26T07:50:29Z',\n",
       "  'updated_at': '2020-05-26T14:24:36Z',\n",
       "  'closed_at': None,\n",
       "  'author_association': 'NONE',\n",
       "  'body': \"- [X] I have checked that this issue has not already been reported.\\r\\n\\r\\n- [X] I have confirmed this bug exists on the latest version of pandas.\\r\\n\\r\\n- [ ] (optional) I have confirmed this bug exists on the master branch of pandas.\\r\\n\\r\\n---\\r\\n**Note**: Please read [this guide](https://matthewrocklin.com/blog/work/2018/02/28/minimal-bug-reports) detailing how to provide the necessary information for us to reproduce your bug.\\r\\n\\r\\n#### Code Sample, a copy-pastable example\\r\\n\\r\\n```python\\r\\nimport pandas as pd\\r\\nfrom datetime import datetime\\r\\ndata=pd.DataFrame([[430., 630.],\\r\\n                         [540., 660.],\\r\\n                         [610., 720.]],\\r\\n                        columns=[1, 2],\\r\\n                        index=pd.date_range(datetime(2019, 1, 1, 12),\\r\\n                                            datetime(2019, 1, 1, 12, 30),\\r\\n                                            freq='15min'))\\r\\npd.tseries.frequencies.to_offset(pd.infer_freq(data.index))\\r\\n>> <15 * Minutes>\\r\\npd.tseries.frequencies.to_offset(pd.infer_freq(data.index)) / 2\\r\\n>> <450 * Secondes>\\r\\npd.tseries.offsets.DateOffset(minutes=15)\\r\\n>> <DateOffset: minutes=15>\\r\\npd.tseries.offsets.DateOffset(minutes=15) / 2\\r\\n>> TypeError: unsupported operand type(s) for /: 'DateOffset' and 'int'\\r\\n\\r\\n```\\r\\n#### Problem description\\r\\nThe function `pd.tseries.frequencies.to_offset` does not really provide a `DateOffset`object. As I understand the code right there are several types of DateOffsets e.g. Minutes, Seconds that are not compareable with the DateOffset object because they are having different properties.\\r\\n\\r\\n\\r\\n\\r\\n#### Expected Output\\r\\nOne Unified pd.DateOffset Object with same properties for all inherit Objects like Minutes and Seconds\\r\\n#### Output of ``pd.show_versions()``\\r\\n\\r\\n<details>\\r\\n\\r\\n[INSTALLED VERSIONS\\r\\n------------------\\r\\ncommit           : None\\r\\npython           : 3.6.9.final.0\\r\\npython-bits      : 64\\r\\nOS               : Linux\\r\\nOS-release       : 4.15.0-99-generic\\r\\nmachine          : x86_64\\r\\nprocessor        : x86_64\\r\\nbyteorder        : little\\r\\nLC_ALL           : None\\r\\nLANG             : de_DE.UTF-8\\r\\nLOCALE           : de_DE.UTF-8\\r\\n\\r\\npandas           : 1.0.3\\r\\nnumpy            : 1.16.0\\r\\npytz             : 2018.9\\r\\ndateutil         : 2.8.1\\r\\npip              : 20.0.2\\r\\nsetuptools       : 44.0.0\\r\\nCython           : 0.28.3\\r\\npytest           : 4.3.0\\r\\nhypothesis       : None\\r\\nsphinx           : None\\r\\nblosc            : None\\r\\nfeather          : None\\r\\nxlsxwriter       : None\\r\\nlxml.etree       : 4.2.1\\r\\nhtml5lib         : 0.999999999\\r\\npymysql          : 0.9.3\\r\\npsycopg2         : 2.8.4 (dt dec pq3 ext lo64)\\r\\njinja2           : 2.10\\r\\nIPython          : 7.11.1\\r\\npandas_datareader: None\\r\\nbs4              : 4.6.0\\r\\nbottleneck       : 1.3.0\\r\\nfastparquet      : None\\r\\ngcsfs            : None\\r\\nlxml.etree       : 4.2.1\\r\\nmatplotlib       : 2.2.2\\r\\nnumexpr          : 2.6.4\\r\\nodfpy            : None\\r\\nopenpyxl         : None\\r\\npandas_gbq       : None\\r\\npyarrow          : 0.13.0\\r\\npytables         : None\\r\\npytest           : 4.3.0\\r\\npyxlsb           : None\\r\\ns3fs             : None\\r\\nscipy            : 1.4.1\\r\\nsqlalchemy       : 1.3.16\\r\\ntables           : 3.4.2\\r\\ntabulate         : 0.8.5\\r\\nxarray           : 0.10.9\\r\\nxlrd             : 1.1.0\\r\\nxlwt             : None\\r\\nxlsxwriter       : None\\r\\nnumba            : 0.42.0\\r\\n]\\r\\n\\r\\n</details>\\r\\n\"},\n",
       " {'url': 'https://api.github.com/repos/pandas-dev/pandas/issues/34380',\n",
       "  'repository_url': 'https://api.github.com/repos/pandas-dev/pandas',\n",
       "  'labels_url': 'https://api.github.com/repos/pandas-dev/pandas/issues/34380/labels{/name}',\n",
       "  'comments_url': 'https://api.github.com/repos/pandas-dev/pandas/issues/34380/comments',\n",
       "  'events_url': 'https://api.github.com/repos/pandas-dev/pandas/issues/34380/events',\n",
       "  'html_url': 'https://github.com/pandas-dev/pandas/issues/34380',\n",
       "  'id': 624626306,\n",
       "  'node_id': 'MDU6SXNzdWU2MjQ2MjYzMDY=',\n",
       "  'number': 34380,\n",
       "  'title': 'BUG:',\n",
       "  'user': {'login': 'jesrael',\n",
       "   'id': 10682573,\n",
       "   'node_id': 'MDQ6VXNlcjEwNjgyNTcz',\n",
       "   'avatar_url': 'https://avatars2.githubusercontent.com/u/10682573?v=4',\n",
       "   'gravatar_id': '',\n",
       "   'url': 'https://api.github.com/users/jesrael',\n",
       "   'html_url': 'https://github.com/jesrael',\n",
       "   'followers_url': 'https://api.github.com/users/jesrael/followers',\n",
       "   'following_url': 'https://api.github.com/users/jesrael/following{/other_user}',\n",
       "   'gists_url': 'https://api.github.com/users/jesrael/gists{/gist_id}',\n",
       "   'starred_url': 'https://api.github.com/users/jesrael/starred{/owner}{/repo}',\n",
       "   'subscriptions_url': 'https://api.github.com/users/jesrael/subscriptions',\n",
       "   'organizations_url': 'https://api.github.com/users/jesrael/orgs',\n",
       "   'repos_url': 'https://api.github.com/users/jesrael/repos',\n",
       "   'events_url': 'https://api.github.com/users/jesrael/events{/privacy}',\n",
       "   'received_events_url': 'https://api.github.com/users/jesrael/received_events',\n",
       "   'type': 'User',\n",
       "   'site_admin': False},\n",
       "  'labels': [{'id': 76811,\n",
       "    'node_id': 'MDU6TGFiZWw3NjgxMQ==',\n",
       "    'url': 'https://api.github.com/repos/pandas-dev/pandas/labels/Bug',\n",
       "    'name': 'Bug',\n",
       "    'color': 'e10c02',\n",
       "    'default': False,\n",
       "    'description': None},\n",
       "   {'id': 1954720290,\n",
       "    'node_id': 'MDU6TGFiZWwxOTU0NzIwMjkw',\n",
       "    'url': 'https://api.github.com/repos/pandas-dev/pandas/labels/Needs%20Triage',\n",
       "    'name': 'Needs Triage',\n",
       "    'color': '0052cc',\n",
       "    'default': False,\n",
       "    'description': 'Issue that has not been reviewed by a pandas team member'}],\n",
       "  'state': 'open',\n",
       "  'locked': False,\n",
       "  'assignee': None,\n",
       "  'assignees': [],\n",
       "  'milestone': None,\n",
       "  'comments': 14,\n",
       "  'created_at': '2020-05-26T06:14:40Z',\n",
       "  'updated_at': '2020-05-27T18:17:08Z',\n",
       "  'closed_at': None,\n",
       "  'author_association': 'NONE',\n",
       "  'body': \"From [SO](https://stackoverflow.com/q/62015410/2901002):\\r\\n---\\r\\n\\r\\nAfter specified column after groupby output is incorrect.\\r\\n\\r\\n\\r\\n    df = pd.DataFrame({'token': [12345.0, 12345.0, 12345.0, 12345.0, 12345.0, 12345.0, 6789.0, 6789.0, 6789.0, 6789.0, 6789.0, 6789.0], 'name': ['abc', 'abc', 'abc', 'abc', 'abc', 'abc', 'xyz', 'xyz', 'xyz', 'xyz', 'xyz', 'xyz'], 'ltp': [2.0, 5.0, 3.0, 9.0, 5.0, 16.0, 1.0, 5.0, 3.0, 13.0, 9.0, 20.0], 'change': [np.nan, 1.5, -0.4, 2.0, -0.44444399999999995, 2.2, np.nan, 4.0, -0.4, 3.333333, -0.307692, 1.222222]})\\r\\n    print (df)\\r\\n          token name   ltp    change\\r\\n    0   12345.0  abc   2.0       NaN\\r\\n    1   12345.0  abc   5.0  1.500000\\r\\n    2   12345.0  abc   3.0 -0.400000\\r\\n    3   12345.0  abc   9.0  2.000000\\r\\n    4   12345.0  abc   5.0 -0.444444\\r\\n    5   12345.0  abc  16.0  2.200000\\r\\n    6    6789.0  xyz   1.0       NaN\\r\\n    7    6789.0  xyz   5.0  4.000000\\r\\n    8    6789.0  xyz   3.0 -0.400000\\r\\n    9    6789.0  xyz  13.0  3.333333\\r\\n    10   6789.0  xyz   9.0 -0.307692\\r\\n    11   6789.0  xyz  20.0  1.222222\\r\\n\\r\\n---\\r\\n\\r\\nCorrect using named aggregation:\\r\\n    \\r\\n    df0 = df.groupby('name').agg(pos=pd.NamedAgg(column='change',aggfunc=lambda x: x.gt(0).sum()),\\\\\\r\\n                                neg = pd.NamedAgg(column='change',aggfunc=lambda x:x.lt(0).sum()))\\r\\n    print (df0)\\r\\n          pos  neg\\r\\n    name          \\r\\n    abc   3.0  2.0\\r\\n    xyz   3.0  2.0\\r\\n\\r\\nWrong output:\\r\\n    \\r\\n    df1 = df.groupby('name')['change'].agg(pos = pd.NamedAgg(column='change',aggfunc=lambda x:x.gt(0).sum()),\\\\\\r\\n                                     neg = pd.NamedAgg(column='change',aggfunc=lambda x:x.lt(0).sum()))\\r\\n        \\r\\n    print (df1)\\r\\n          pos  neg\\r\\n    name          \\r\\n    abc   2.0  2.0\\r\\n    xyz   2.0  2.0\\r\\n\\r\\nCorrect using column after groupby:\\r\\n    \\r\\n    df2 = df.groupby('name')['change'].agg(pos = lambda x:x.gt(0).sum(),\\\\\\r\\n                                          neg = lambda x:x.lt(0).sum())\\r\\n    print (df2)\\r\\n          pos  neg\\r\\n    name          \\r\\n    abc   3.0  2.0\\r\\n    xyz   3.0  2.0\\r\\n\\r\\nIn my opinion instead wrong output it should raise error/warning.\\r\\n\\r\\nVersion of pandas:\\r\\n\\r\\n\\r\\n    INSTALLED VERSIONS\\r\\n    ------------------\\r\\n    commit           : None\\r\\n    python           : 3.7.6.final.0\\r\\n    python-bits      : 64\\r\\n    OS               : Windows\\r\\n    OS-release       : 7\\r\\n    machine          : AMD64\\r\\n    processor        : Intel64 Family 6 Model 60 Stepping 3, GenuineIntel\\r\\n    byteorder        : little\\r\\n    LC_ALL           : None\\r\\n    LANG             : en\\r\\n    LOCALE           : None.None\\r\\n    \\r\\n    pandas           : 1.0.1\\r\\n    numpy            : 1.18.1\\r\\n    pytz             : 2019.3\\r\\n    dateutil         : 2.8.1\\r\\n    pip              : 20.0.2\\r\\n    setuptools       : 45.2.0.post20200210\\r\\n    Cython           : 0.29.15\\r\\n    pytest           : 5.3.5\\r\\n    hypothesis       : 5.5.4\\r\\n    sphinx           : 2.4.0\\r\\n    blosc            : None\\r\\n    feather          : None\\r\\n    xlsxwriter       : 1.2.7\\r\\n    lxml.etree       : 4.5.0\\r\\n    html5lib         : 1.0.1\\r\\n    pymysql          : None\\r\\n    psycopg2         : None\\r\\n    jinja2           : 2.11.1\\r\\n    IPython          : 7.12.0\\r\\n    pandas_datareader: None\\r\\n    bs4              : 4.8.2\\r\\n    bottleneck       : 1.3.2\\r\\n    fastparquet      : None\\r\\n    gcsfs            : None\\r\\n    lxml.etree       : 4.5.0\\r\\n    matplotlib       : 3.1.3\\r\\n    numexpr          : 2.7.1\\r\\n    odfpy            : None\\r\\n    openpyxl         : 3.0.3\\r\\n    pandas_gbq       : None\\r\\n    pyarrow          : None\\r\\n    pytables         : None\\r\\n    pytest           : 5.3.5\\r\\n    pyxlsb           : None\\r\\n    s3fs             : None\\r\\n    scipy            : 1.4.1\\r\\n    sqlalchemy       : 1.3.13\\r\\n    tables           : 3.6.1\\r\\n    tabulate         : None\\r\\n    xarray           : None\\r\\n    xlrd             : 1.2.0\\r\\n    xlwt             : 1.3.0\\r\\n    xlsxwriter       : 1.2.7\\r\\n    numba            : 0.48.0\\r\\n    None\\r\\n\\r\\n\"},\n",
       " {'url': 'https://api.github.com/repos/pandas-dev/pandas/issues/34379',\n",
       "  'repository_url': 'https://api.github.com/repos/pandas-dev/pandas',\n",
       "  'labels_url': 'https://api.github.com/repos/pandas-dev/pandas/issues/34379/labels{/name}',\n",
       "  'comments_url': 'https://api.github.com/repos/pandas-dev/pandas/issues/34379/comments',\n",
       "  'events_url': 'https://api.github.com/repos/pandas-dev/pandas/issues/34379/events',\n",
       "  'html_url': 'https://github.com/pandas-dev/pandas/pull/34379',\n",
       "  'id': 624589609,\n",
       "  'node_id': 'MDExOlB1bGxSZXF1ZXN0NDIyOTc2NzQz',\n",
       "  'number': 34379,\n",
       "  'title': '[WIP] Bugfix/string timedelta2',\n",
       "  'user': {'login': 'pdnm',\n",
       "   'id': 12197385,\n",
       "   'node_id': 'MDQ6VXNlcjEyMTk3Mzg1',\n",
       "   'avatar_url': 'https://avatars2.githubusercontent.com/u/12197385?v=4',\n",
       "   'gravatar_id': '',\n",
       "   'url': 'https://api.github.com/users/pdnm',\n",
       "   'html_url': 'https://github.com/pdnm',\n",
       "   'followers_url': 'https://api.github.com/users/pdnm/followers',\n",
       "   'following_url': 'https://api.github.com/users/pdnm/following{/other_user}',\n",
       "   'gists_url': 'https://api.github.com/users/pdnm/gists{/gist_id}',\n",
       "   'starred_url': 'https://api.github.com/users/pdnm/starred{/owner}{/repo}',\n",
       "   'subscriptions_url': 'https://api.github.com/users/pdnm/subscriptions',\n",
       "   'organizations_url': 'https://api.github.com/users/pdnm/orgs',\n",
       "   'repos_url': 'https://api.github.com/users/pdnm/repos',\n",
       "   'events_url': 'https://api.github.com/users/pdnm/events{/privacy}',\n",
       "   'received_events_url': 'https://api.github.com/users/pdnm/received_events',\n",
       "   'type': 'User',\n",
       "   'site_admin': False},\n",
       "  'labels': [],\n",
       "  'state': 'open',\n",
       "  'locked': False,\n",
       "  'assignee': None,\n",
       "  'assignees': [],\n",
       "  'milestone': None,\n",
       "  'comments': 0,\n",
       "  'created_at': '2020-05-26T04:15:42Z',\n",
       "  'updated_at': '2020-05-27T09:33:12Z',\n",
       "  'closed_at': None,\n",
       "  'author_association': 'NONE',\n",
       "  'pull_request': {'url': 'https://api.github.com/repos/pandas-dev/pandas/pulls/34379',\n",
       "   'html_url': 'https://github.com/pandas-dev/pandas/pull/34379',\n",
       "   'diff_url': 'https://github.com/pandas-dev/pandas/pull/34379.diff',\n",
       "   'patch_url': 'https://github.com/pandas-dev/pandas/pull/34379.patch'},\n",
       "  'body': 'Supersedes #23025\\r\\n- [x] closes #xxxx\\r\\n- [ ] tests added / passed\\r\\n- [ ] passes `black pandas`\\r\\n- [ ] passes `git diff upstream/master -u -- \"*.py\" | flake8 --diff`\\r\\n- [x] whatsnew entry\\r\\n- [x] merge master\\r\\n'},\n",
       " {'url': 'https://api.github.com/repos/pandas-dev/pandas/issues/34377',\n",
       "  'repository_url': 'https://api.github.com/repos/pandas-dev/pandas',\n",
       "  'labels_url': 'https://api.github.com/repos/pandas-dev/pandas/issues/34377/labels{/name}',\n",
       "  'comments_url': 'https://api.github.com/repos/pandas-dev/pandas/issues/34377/comments',\n",
       "  'events_url': 'https://api.github.com/repos/pandas-dev/pandas/issues/34377/events',\n",
       "  'html_url': 'https://github.com/pandas-dev/pandas/pull/34377',\n",
       "  'id': 624553285,\n",
       "  'node_id': 'MDExOlB1bGxSZXF1ZXN0NDIyOTQ5MDQw',\n",
       "  'number': 34377,\n",
       "  'title': 'BUG: pd.DataFrame.transform recursively loops in some cases #34224',\n",
       "  'user': {'login': 'pedrooa',\n",
       "   'id': 26471690,\n",
       "   'node_id': 'MDQ6VXNlcjI2NDcxNjkw',\n",
       "   'avatar_url': 'https://avatars3.githubusercontent.com/u/26471690?v=4',\n",
       "   'gravatar_id': '',\n",
       "   'url': 'https://api.github.com/users/pedrooa',\n",
       "   'html_url': 'https://github.com/pedrooa',\n",
       "   'followers_url': 'https://api.github.com/users/pedrooa/followers',\n",
       "   'following_url': 'https://api.github.com/users/pedrooa/following{/other_user}',\n",
       "   'gists_url': 'https://api.github.com/users/pedrooa/gists{/gist_id}',\n",
       "   'starred_url': 'https://api.github.com/users/pedrooa/starred{/owner}{/repo}',\n",
       "   'subscriptions_url': 'https://api.github.com/users/pedrooa/subscriptions',\n",
       "   'organizations_url': 'https://api.github.com/users/pedrooa/orgs',\n",
       "   'repos_url': 'https://api.github.com/users/pedrooa/repos',\n",
       "   'events_url': 'https://api.github.com/users/pedrooa/events{/privacy}',\n",
       "   'received_events_url': 'https://api.github.com/users/pedrooa/received_events',\n",
       "   'type': 'User',\n",
       "   'site_admin': False},\n",
       "  'labels': [{'id': 13098779,\n",
       "    'node_id': 'MDU6TGFiZWwxMzA5ODc3OQ==',\n",
       "    'url': 'https://api.github.com/repos/pandas-dev/pandas/labels/Reshaping',\n",
       "    'name': 'Reshaping',\n",
       "    'color': '02d7e1',\n",
       "    'default': False,\n",
       "    'description': 'Concat, Merge/Join, Stack/Unstack'}],\n",
       "  'state': 'open',\n",
       "  'locked': False,\n",
       "  'assignee': None,\n",
       "  'assignees': [],\n",
       "  'milestone': None,\n",
       "  'comments': 3,\n",
       "  'created_at': '2020-05-26T02:02:16Z',\n",
       "  'updated_at': '2020-05-28T04:29:36Z',\n",
       "  'closed_at': None,\n",
       "  'author_association': 'NONE',\n",
       "  'pull_request': {'url': 'https://api.github.com/repos/pandas-dev/pandas/pulls/34377',\n",
       "   'html_url': 'https://github.com/pandas-dev/pandas/pull/34377',\n",
       "   'diff_url': 'https://github.com/pandas-dev/pandas/pull/34377.diff',\n",
       "   'patch_url': 'https://github.com/pandas-dev/pandas/pull/34377.patch'},\n",
       "  'body': '- [x] closes #34224 \\r\\n- [x] tests added / passed\\r\\n- [x] passes `black pandas`\\r\\n- [x] passes `git diff upstream/master -u -- \"*.py\" | flake8 --diff`\\r\\n- [x] whatsnew entry\\r\\n\\r\\nError handling within try/except in aggregate function of frame.py file\\r\\n'}]"
      ]
     },
     "execution_count": 208,
     "metadata": {},
     "output_type": "execute_result"
    }
   ],
   "source": [
    "data"
   ]
  },
  {
   "cell_type": "code",
   "execution_count": 213,
   "metadata": {},
   "outputs": [
    {
     "data": {
      "text/plain": [
       "'2020-05-28T04:26:34Z'"
      ]
     },
     "execution_count": 213,
     "metadata": {},
     "output_type": "execute_result"
    }
   ],
   "source": [
    "data[0]['created_at']"
   ]
  },
  {
   "cell_type": "code",
   "execution_count": 216,
   "metadata": {},
   "outputs": [],
   "source": [
    "issues = pd.DataFrame(data=data, columns=['number', 'id', 'title', 'created_at', 'labels', 'state'])"
   ]
  },
  {
   "cell_type": "code",
   "execution_count": 222,
   "metadata": {},
   "outputs": [
    {
     "data": {
      "text/html": [
       "<div>\n",
       "<style scoped>\n",
       "    .dataframe tbody tr th:only-of-type {\n",
       "        vertical-align: middle;\n",
       "    }\n",
       "\n",
       "    .dataframe tbody tr th {\n",
       "        vertical-align: top;\n",
       "    }\n",
       "\n",
       "    .dataframe thead th {\n",
       "        text-align: right;\n",
       "    }\n",
       "</style>\n",
       "<table border=\"1\" class=\"dataframe\">\n",
       "  <thead>\n",
       "    <tr style=\"text-align: right;\">\n",
       "      <th></th>\n",
       "      <th>number</th>\n",
       "      <th>id</th>\n",
       "      <th>title</th>\n",
       "      <th>created_at</th>\n",
       "      <th>labels</th>\n",
       "      <th>state</th>\n",
       "    </tr>\n",
       "  </thead>\n",
       "  <tbody>\n",
       "    <tr>\n",
       "      <th>0</th>\n",
       "      <td>34423</td>\n",
       "      <td>626204029</td>\n",
       "      <td>BUG: Fix failing MacPython 32bit wheels for gr...</td>\n",
       "      <td>2020-05-28T04:26:34Z</td>\n",
       "      <td>[{'id': 563047854, 'node_id': 'MDU6TGFiZWw1NjM...</td>\n",
       "      <td>open</td>\n",
       "    </tr>\n",
       "    <tr>\n",
       "      <th>1</th>\n",
       "      <td>34422</td>\n",
       "      <td>626197784</td>\n",
       "      <td>BUG: SeriesGroupBy works with any column name ...</td>\n",
       "      <td>2020-05-28T04:09:08Z</td>\n",
       "      <td>[{'id': 76811, 'node_id': 'MDU6TGFiZWw3NjgxMQ=...</td>\n",
       "      <td>open</td>\n",
       "    </tr>\n",
       "    <tr>\n",
       "      <th>2</th>\n",
       "      <td>34421</td>\n",
       "      <td>626180510</td>\n",
       "      <td>BUG: taking slices in _slice_take_blocks_ax0</td>\n",
       "      <td>2020-05-28T03:16:31Z</td>\n",
       "      <td>[]</td>\n",
       "      <td>open</td>\n",
       "    </tr>\n",
       "    <tr>\n",
       "      <th>3</th>\n",
       "      <td>34420</td>\n",
       "      <td>626160397</td>\n",
       "      <td>REF: move to_offset to liboffsets</td>\n",
       "      <td>2020-05-28T02:16:20Z</td>\n",
       "      <td>[]</td>\n",
       "      <td>open</td>\n",
       "    </tr>\n",
       "    <tr>\n",
       "      <th>4</th>\n",
       "      <td>34419</td>\n",
       "      <td>626122785</td>\n",
       "      <td>REF: make remaining offset classes cdef</td>\n",
       "      <td>2020-05-28T00:20:04Z</td>\n",
       "      <td>[]</td>\n",
       "      <td>open</td>\n",
       "    </tr>\n",
       "  </tbody>\n",
       "</table>\n",
       "</div>"
      ],
      "text/plain": [
       "   number         id                                              title  \\\n",
       "0   34423  626204029  BUG: Fix failing MacPython 32bit wheels for gr...   \n",
       "1   34422  626197784  BUG: SeriesGroupBy works with any column name ...   \n",
       "2   34421  626180510       BUG: taking slices in _slice_take_blocks_ax0   \n",
       "3   34420  626160397                  REF: move to_offset to liboffsets   \n",
       "4   34419  626122785            REF: make remaining offset classes cdef   \n",
       "\n",
       "             created_at                                             labels  \\\n",
       "0  2020-05-28T04:26:34Z  [{'id': 563047854, 'node_id': 'MDU6TGFiZWw1NjM...   \n",
       "1  2020-05-28T04:09:08Z  [{'id': 76811, 'node_id': 'MDU6TGFiZWw3NjgxMQ=...   \n",
       "2  2020-05-28T03:16:31Z                                                 []   \n",
       "3  2020-05-28T02:16:20Z                                                 []   \n",
       "4  2020-05-28T00:20:04Z                                                 []   \n",
       "\n",
       "  state  \n",
       "0  open  \n",
       "1  open  \n",
       "2  open  \n",
       "3  open  \n",
       "4  open  "
      ]
     },
     "execution_count": 222,
     "metadata": {},
     "output_type": "execute_result"
    }
   ],
   "source": [
    "issues.head()"
   ]
  },
  {
   "cell_type": "markdown",
   "metadata": {},
   "source": [
    "# 6.4 Interacting with Databases"
   ]
  },
  {
   "cell_type": "code",
   "execution_count": null,
   "metadata": {},
   "outputs": [],
   "source": [
    "#Will be using mySQL"
   ]
  }
 ],
 "metadata": {
  "kernelspec": {
   "display_name": "Python 3",
   "language": "python",
   "name": "python3"
  },
  "language_info": {
   "codemirror_mode": {
    "name": "ipython",
    "version": 3
   },
   "file_extension": ".py",
   "mimetype": "text/x-python",
   "name": "python",
   "nbconvert_exporter": "python",
   "pygments_lexer": "ipython3",
   "version": "3.7.6"
  }
 },
 "nbformat": 4,
 "nbformat_minor": 4
}
