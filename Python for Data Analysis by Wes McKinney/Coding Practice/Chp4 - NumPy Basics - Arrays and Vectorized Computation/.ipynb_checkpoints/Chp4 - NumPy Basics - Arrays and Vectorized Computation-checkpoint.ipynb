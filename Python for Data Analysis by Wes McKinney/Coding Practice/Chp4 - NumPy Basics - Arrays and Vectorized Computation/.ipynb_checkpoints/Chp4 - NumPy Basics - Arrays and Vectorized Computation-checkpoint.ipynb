{
 "cells": [
  {
   "cell_type": "code",
   "execution_count": 1,
   "metadata": {},
   "outputs": [],
   "source": [
    "import numpy as np"
   ]
  },
  {
   "cell_type": "code",
   "execution_count": 2,
   "metadata": {},
   "outputs": [],
   "source": [
    "my_arr = np.arange(1000000)"
   ]
  },
  {
   "cell_type": "code",
   "execution_count": 3,
   "metadata": {},
   "outputs": [],
   "source": [
    "my_list = list(range(1000000))"
   ]
  },
  {
   "cell_type": "code",
   "execution_count": 4,
   "metadata": {},
   "outputs": [
    {
     "name": "stdout",
     "output_type": "stream",
     "text": [
      "Wall time: 26.1 ms\n"
     ]
    }
   ],
   "source": [
    "%time for _ in range(10): my_arr = my_arr * 2 #wall time -> time taken to compute from the start to end"
   ]
  },
  {
   "cell_type": "code",
   "execution_count": 5,
   "metadata": {},
   "outputs": [
    {
     "name": "stdout",
     "output_type": "stream",
     "text": [
      "Wall time: 1.46 s\n"
     ]
    }
   ],
   "source": [
    "%time for _ in range(10): my_list = [x * 2 for x in my_list]"
   ]
  },
  {
   "cell_type": "markdown",
   "metadata": {},
   "source": [
    "NumPy-based algorithms are generally 10 to 100 times faster (or more) than their pure Python counterparts and use significantly less memory"
   ]
  },
  {
   "cell_type": "markdown",
   "metadata": {},
   "source": [
    "# 4.1 The NumPy ndarray: A Multidimensional Array Object"
   ]
  },
  {
   "cell_type": "code",
   "execution_count": 6,
   "metadata": {},
   "outputs": [],
   "source": [
    "data = np.random.randn(2, 3) #ndimensional array of random numbers from normal distribution"
   ]
  },
  {
   "cell_type": "code",
   "execution_count": 7,
   "metadata": {},
   "outputs": [
    {
     "data": {
      "text/plain": [
       "array([[-1.10612176, -0.61933746, -1.24592144],\n",
       "       [-0.99341397, -0.8320913 ,  1.26975394]])"
      ]
     },
     "execution_count": 7,
     "metadata": {},
     "output_type": "execute_result"
    }
   ],
   "source": [
    "data"
   ]
  },
  {
   "cell_type": "code",
   "execution_count": 8,
   "metadata": {},
   "outputs": [
    {
     "data": {
      "text/plain": [
       "array([[-11.06121758,  -6.19337463, -12.45921438],\n",
       "       [ -9.93413974,  -8.32091303,  12.69753938]])"
      ]
     },
     "execution_count": 8,
     "metadata": {},
     "output_type": "execute_result"
    }
   ],
   "source": [
    "data * 10"
   ]
  },
  {
   "cell_type": "code",
   "execution_count": 9,
   "metadata": {},
   "outputs": [
    {
     "data": {
      "text/plain": [
       "array([[-2.21224352, -1.23867493, -2.49184288],\n",
       "       [-1.98682795, -1.66418261,  2.53950788]])"
      ]
     },
     "execution_count": 9,
     "metadata": {},
     "output_type": "execute_result"
    }
   ],
   "source": [
    "data + data"
   ]
  },
  {
   "cell_type": "code",
   "execution_count": 10,
   "metadata": {},
   "outputs": [
    {
     "data": {
      "text/plain": [
       "array([[0., 0., 0.],\n",
       "       [0., 0., 0.]])"
      ]
     },
     "execution_count": 10,
     "metadata": {},
     "output_type": "execute_result"
    }
   ],
   "source": [
    "data - data"
   ]
  },
  {
   "cell_type": "code",
   "execution_count": 11,
   "metadata": {},
   "outputs": [
    {
     "data": {
      "text/plain": [
       "array([[1., 1., 1.],\n",
       "       [1., 1., 1.]])"
      ]
     },
     "execution_count": 11,
     "metadata": {},
     "output_type": "execute_result"
    }
   ],
   "source": [
    "data / data"
   ]
  },
  {
   "cell_type": "markdown",
   "metadata": {},
   "source": [
    "Remember: Without () is an attribute and not a method"
   ]
  },
  {
   "cell_type": "code",
   "execution_count": 12,
   "metadata": {},
   "outputs": [
    {
     "data": {
      "text/plain": [
       "(2, 3)"
      ]
     },
     "execution_count": 12,
     "metadata": {},
     "output_type": "execute_result"
    }
   ],
   "source": [
    "data.shape # returns the shape or order of array/matrix"
   ]
  },
  {
   "cell_type": "code",
   "execution_count": 13,
   "metadata": {},
   "outputs": [
    {
     "data": {
      "text/plain": [
       "dtype('float64')"
      ]
     },
     "execution_count": 13,
     "metadata": {},
     "output_type": "execute_result"
    }
   ],
   "source": [
    "data.dtype #returns the data type of array (Homogenous) "
   ]
  },
  {
   "cell_type": "markdown",
   "metadata": {},
   "source": [
    "## Creating ndarrays"
   ]
  },
  {
   "cell_type": "code",
   "execution_count": 14,
   "metadata": {},
   "outputs": [],
   "source": [
    "data1 = [6, 8, 9, 1, 7.8, 5, 10.25]"
   ]
  },
  {
   "cell_type": "code",
   "execution_count": 15,
   "metadata": {},
   "outputs": [],
   "source": [
    "arr1 = np.array(data1)"
   ]
  },
  {
   "cell_type": "code",
   "execution_count": 16,
   "metadata": {},
   "outputs": [
    {
     "data": {
      "text/plain": [
       "array([ 6.  ,  8.  ,  9.  ,  1.  ,  7.8 ,  5.  , 10.25])"
      ]
     },
     "execution_count": 16,
     "metadata": {},
     "output_type": "execute_result"
    }
   ],
   "source": [
    "arr1 #Vector of 7x1"
   ]
  },
  {
   "cell_type": "code",
   "execution_count": 17,
   "metadata": {},
   "outputs": [
    {
     "data": {
      "text/plain": [
       "(7,)"
      ]
     },
     "execution_count": 17,
     "metadata": {},
     "output_type": "execute_result"
    }
   ],
   "source": [
    "arr1.shape"
   ]
  },
  {
   "cell_type": "code",
   "execution_count": 18,
   "metadata": {},
   "outputs": [
    {
     "data": {
      "text/plain": [
       "dtype('float64')"
      ]
     },
     "execution_count": 18,
     "metadata": {},
     "output_type": "execute_result"
    }
   ],
   "source": [
    "arr1.dtype"
   ]
  },
  {
   "cell_type": "code",
   "execution_count": 19,
   "metadata": {},
   "outputs": [],
   "source": [
    "data2 = [[1, 4, 8, 7], [5, 4, 6, 2]]"
   ]
  },
  {
   "cell_type": "code",
   "execution_count": 20,
   "metadata": {},
   "outputs": [],
   "source": [
    "arr2 = np.array(data2)"
   ]
  },
  {
   "cell_type": "code",
   "execution_count": 21,
   "metadata": {},
   "outputs": [
    {
     "data": {
      "text/plain": [
       "array([[1, 4, 8, 7],\n",
       "       [5, 4, 6, 2]])"
      ]
     },
     "execution_count": 21,
     "metadata": {},
     "output_type": "execute_result"
    }
   ],
   "source": [
    "arr2 #Matrix of order: 2x4"
   ]
  },
  {
   "cell_type": "code",
   "execution_count": 22,
   "metadata": {},
   "outputs": [
    {
     "data": {
      "text/plain": [
       "(2, 4)"
      ]
     },
     "execution_count": 22,
     "metadata": {},
     "output_type": "execute_result"
    }
   ],
   "source": [
    "arr2.shape"
   ]
  },
  {
   "cell_type": "code",
   "execution_count": 23,
   "metadata": {},
   "outputs": [
    {
     "data": {
      "text/plain": [
       "dtype('float64')"
      ]
     },
     "execution_count": 23,
     "metadata": {},
     "output_type": "execute_result"
    }
   ],
   "source": [
    "arr1.dtype"
   ]
  },
  {
   "cell_type": "code",
   "execution_count": 24,
   "metadata": {},
   "outputs": [
    {
     "data": {
      "text/plain": [
       "dtype('int32')"
      ]
     },
     "execution_count": 24,
     "metadata": {},
     "output_type": "execute_result"
    }
   ],
   "source": [
    "arr2.dtype"
   ]
  },
  {
   "cell_type": "code",
   "execution_count": 25,
   "metadata": {},
   "outputs": [
    {
     "data": {
      "text/plain": [
       "array([0., 0., 0., 0., 0.])"
      ]
     },
     "execution_count": 25,
     "metadata": {},
     "output_type": "execute_result"
    }
   ],
   "source": [
    "np.zeros(5)"
   ]
  },
  {
   "cell_type": "code",
   "execution_count": 26,
   "metadata": {},
   "outputs": [
    {
     "data": {
      "text/plain": [
       "array([[0., 0., 0., 0.],\n",
       "       [0., 0., 0., 0.],\n",
       "       [0., 0., 0., 0.],\n",
       "       [0., 0., 0., 0.],\n",
       "       [0., 0., 0., 0.]])"
      ]
     },
     "execution_count": 26,
     "metadata": {},
     "output_type": "execute_result"
    }
   ],
   "source": [
    "np.zeros((5, 4))"
   ]
  },
  {
   "cell_type": "code",
   "execution_count": 27,
   "metadata": {},
   "outputs": [
    {
     "data": {
      "text/plain": [
       "array([[[0., 0.],\n",
       "        [0., 0.],\n",
       "        [0., 0.]],\n",
       "\n",
       "       [[0., 0.],\n",
       "        [0., 0.],\n",
       "        [0., 0.]]])"
      ]
     },
     "execution_count": 27,
     "metadata": {},
     "output_type": "execute_result"
    }
   ],
   "source": [
    "np.empty((2, 3, 2)) #3d array, .empty() returns the garbage value"
   ]
  },
  {
   "cell_type": "code",
   "execution_count": 28,
   "metadata": {},
   "outputs": [
    {
     "data": {
      "text/plain": [
       "array([0, 1, 2, 3, 4, 5, 6, 7, 8, 9])"
      ]
     },
     "execution_count": 28,
     "metadata": {},
     "output_type": "execute_result"
    }
   ],
   "source": [
    "np.arange(10)"
   ]
  },
  {
   "cell_type": "markdown",
   "metadata": {},
   "source": [
    "*See Table 4-1. Array creation functions.*\n",
    "\n",
    "![Array creation functions](Img/4.1.png)"
   ]
  },
  {
   "cell_type": "code",
   "execution_count": 29,
   "metadata": {},
   "outputs": [
    {
     "data": {
      "text/plain": [
       "array([[0, 1, 2, 3, 4],\n",
       "       [5, 6, 7, 8, 9]])"
      ]
     },
     "execution_count": 29,
     "metadata": {},
     "output_type": "execute_result"
    }
   ],
   "source": [
    "np.arange((10)).reshape(2, 5) #.reshape() -> changes the order wrt given arguments"
   ]
  },
  {
   "cell_type": "code",
   "execution_count": 30,
   "metadata": {},
   "outputs": [
    {
     "data": {
      "text/plain": [
       "array([1., 1., 1., 1., 1., 1., 1., 1., 1., 1., 1., 1., 1., 1.])"
      ]
     },
     "execution_count": 30,
     "metadata": {},
     "output_type": "execute_result"
    }
   ],
   "source": [
    "np.ones(14)"
   ]
  },
  {
   "cell_type": "code",
   "execution_count": 31,
   "metadata": {},
   "outputs": [
    {
     "data": {
      "text/plain": [
       "array([[1., 1.],\n",
       "       [1., 1.],\n",
       "       [1., 1.],\n",
       "       [1., 1.],\n",
       "       [1., 1.],\n",
       "       [1., 1.],\n",
       "       [1., 1.]])"
      ]
     },
     "execution_count": 31,
     "metadata": {},
     "output_type": "execute_result"
    }
   ],
   "source": [
    "np.ones((7, 2))"
   ]
  },
  {
   "cell_type": "code",
   "execution_count": 32,
   "metadata": {},
   "outputs": [
    {
     "data": {
      "text/plain": [
       "array([5, 4, 4, 8, 7])"
      ]
     },
     "execution_count": 32,
     "metadata": {},
     "output_type": "execute_result"
    }
   ],
   "source": [
    "np.asarray([5, 4, 4, 8, 7]) #Convert input to ndarray, but do not copy if the input is already an ndarray"
   ]
  },
  {
   "cell_type": "code",
   "execution_count": 33,
   "metadata": {},
   "outputs": [
    {
     "data": {
      "text/plain": [
       "array([1, 1, 1, 1])"
      ]
     },
     "execution_count": 33,
     "metadata": {},
     "output_type": "execute_result"
    }
   ],
   "source": [
    "np.ones_like([10, 5, 7, 4]) #produces a ones array of the same shape and dtype"
   ]
  },
  {
   "cell_type": "code",
   "execution_count": 34,
   "metadata": {},
   "outputs": [
    {
     "data": {
      "text/plain": [
       "array([ 6.  ,  8.  ,  9.  ,  1.  ,  7.8 ,  5.  , 10.25])"
      ]
     },
     "execution_count": 34,
     "metadata": {},
     "output_type": "execute_result"
    }
   ],
   "source": [
    "np.empty_like(data1) #Create new arrays by allocating new memory, but do not populate with any values like ones and zeros"
   ]
  },
  {
   "cell_type": "code",
   "execution_count": 35,
   "metadata": {},
   "outputs": [
    {
     "data": {
      "text/plain": [
       "array([[7, 7],\n",
       "       [7, 7],\n",
       "       [7, 7],\n",
       "       [7, 7],\n",
       "       [7, 7]])"
      ]
     },
     "execution_count": 35,
     "metadata": {},
     "output_type": "execute_result"
    }
   ],
   "source": [
    "#Produce an array of the given shape and dtype with all values set to the indicated “fill value”\n",
    "np.full(shape=(5,2), fill_value=7) "
   ]
  },
  {
   "cell_type": "code",
   "execution_count": 36,
   "metadata": {},
   "outputs": [
    {
     "data": {
      "text/plain": [
       "array([[1., 0., 0., 0., 0.],\n",
       "       [0., 1., 0., 0., 0.],\n",
       "       [0., 0., 1., 0., 0.],\n",
       "       [0., 0., 0., 1., 0.],\n",
       "       [0., 0., 0., 0., 1.]])"
      ]
     },
     "execution_count": 36,
     "metadata": {},
     "output_type": "execute_result"
    }
   ],
   "source": [
    "np.eye(5) #identity matrix (Square matrix)"
   ]
  },
  {
   "cell_type": "code",
   "execution_count": 37,
   "metadata": {},
   "outputs": [
    {
     "data": {
      "text/plain": [
       "array([[1.]])"
      ]
     },
     "execution_count": 37,
     "metadata": {},
     "output_type": "execute_result"
    }
   ],
   "source": [
    "np.eye(1)"
   ]
  },
  {
   "cell_type": "code",
   "execution_count": 38,
   "metadata": {},
   "outputs": [
    {
     "data": {
      "text/plain": [
       "array([[1, 0, 0],\n",
       "       [0, 1, 0],\n",
       "       [0, 0, 1]])"
      ]
     },
     "execution_count": 38,
     "metadata": {},
     "output_type": "execute_result"
    }
   ],
   "source": [
    "np.eye(3, dtype=int)"
   ]
  },
  {
   "cell_type": "code",
   "execution_count": 39,
   "metadata": {},
   "outputs": [
    {
     "data": {
      "text/plain": [
       "array([[1., 0., 0., 0., 0.],\n",
       "       [0., 1., 0., 0., 0.],\n",
       "       [0., 0., 1., 0., 0.],\n",
       "       [0., 0., 0., 1., 0.],\n",
       "       [0., 0., 0., 0., 1.]])"
      ]
     },
     "execution_count": 39,
     "metadata": {},
     "output_type": "execute_result"
    }
   ],
   "source": [
    "np.identity(5) #Same as above"
   ]
  },
  {
   "cell_type": "markdown",
   "metadata": {},
   "source": [
    "## Data Types for ndarrays"
   ]
  },
  {
   "cell_type": "code",
   "execution_count": 40,
   "metadata": {},
   "outputs": [],
   "source": [
    "arr1 = np.array([1, 2, 3], dtype=float)"
   ]
  },
  {
   "cell_type": "code",
   "execution_count": 41,
   "metadata": {},
   "outputs": [
    {
     "data": {
      "text/plain": [
       "array([1., 2., 3.])"
      ]
     },
     "execution_count": 41,
     "metadata": {},
     "output_type": "execute_result"
    }
   ],
   "source": [
    "arr1"
   ]
  },
  {
   "cell_type": "code",
   "execution_count": 42,
   "metadata": {},
   "outputs": [],
   "source": [
    "arr2 = np.array([7, 8, 9, 10, 11], dtype=int)"
   ]
  },
  {
   "cell_type": "code",
   "execution_count": 43,
   "metadata": {},
   "outputs": [
    {
     "data": {
      "text/plain": [
       "array([ 7,  8,  9, 10, 11])"
      ]
     },
     "execution_count": 43,
     "metadata": {},
     "output_type": "execute_result"
    }
   ],
   "source": [
    "arr2"
   ]
  },
  {
   "cell_type": "code",
   "execution_count": 44,
   "metadata": {},
   "outputs": [
    {
     "data": {
      "text/plain": [
       "dtype('int32')"
      ]
     },
     "execution_count": 44,
     "metadata": {},
     "output_type": "execute_result"
    }
   ],
   "source": [
    "arr2.dtype"
   ]
  },
  {
   "cell_type": "code",
   "execution_count": 45,
   "metadata": {},
   "outputs": [
    {
     "data": {
      "text/plain": [
       "dtype('float64')"
      ]
     },
     "execution_count": 45,
     "metadata": {},
     "output_type": "execute_result"
    }
   ],
   "source": [
    "arr1.dtype"
   ]
  },
  {
   "cell_type": "code",
   "execution_count": 46,
   "metadata": {},
   "outputs": [],
   "source": [
    "arr3 = np.array(['a', 'b', 'c'])"
   ]
  },
  {
   "cell_type": "code",
   "execution_count": 47,
   "metadata": {},
   "outputs": [
    {
     "data": {
      "text/plain": [
       "array(['a', 'b', 'c'], dtype='<U1')"
      ]
     },
     "execution_count": 47,
     "metadata": {},
     "output_type": "execute_result"
    }
   ],
   "source": [
    "arr3"
   ]
  },
  {
   "cell_type": "code",
   "execution_count": 48,
   "metadata": {},
   "outputs": [
    {
     "data": {
      "text/plain": [
       "dtype('<U1')"
      ]
     },
     "execution_count": 48,
     "metadata": {},
     "output_type": "execute_result"
    }
   ],
   "source": [
    "arr3.dtype"
   ]
  },
  {
   "cell_type": "code",
   "execution_count": 49,
   "metadata": {},
   "outputs": [],
   "source": [
    "arr4 = np.array(['stringOne', 'string_two', '$tring 3'])"
   ]
  },
  {
   "cell_type": "code",
   "execution_count": 50,
   "metadata": {},
   "outputs": [
    {
     "data": {
      "text/plain": [
       "array(['stringOne', 'string_two', '$tring 3'], dtype='<U10')"
      ]
     },
     "execution_count": 50,
     "metadata": {},
     "output_type": "execute_result"
    }
   ],
   "source": [
    "arr4"
   ]
  },
  {
   "cell_type": "markdown",
   "metadata": {},
   "source": [
    "*See Table 4-2. NumPy data types*\n",
    "\n",
    "![NumPy data types](Img/4.2.png)"
   ]
  },
  {
   "cell_type": "code",
   "execution_count": 51,
   "metadata": {},
   "outputs": [],
   "source": [
    "arr = np.array([2, 5, 7, 98])"
   ]
  },
  {
   "cell_type": "code",
   "execution_count": 52,
   "metadata": {},
   "outputs": [
    {
     "data": {
      "text/plain": [
       "array([ 2,  5,  7, 98])"
      ]
     },
     "execution_count": 52,
     "metadata": {},
     "output_type": "execute_result"
    }
   ],
   "source": [
    "arr"
   ]
  },
  {
   "cell_type": "code",
   "execution_count": 53,
   "metadata": {},
   "outputs": [
    {
     "data": {
      "text/plain": [
       "dtype('int32')"
      ]
     },
     "execution_count": 53,
     "metadata": {},
     "output_type": "execute_result"
    }
   ],
   "source": [
    "arr.dtype"
   ]
  },
  {
   "cell_type": "code",
   "execution_count": 54,
   "metadata": {},
   "outputs": [],
   "source": [
    "float_arr = arr.astype(np.float64) # .astype() converts the array to given dtype, casting"
   ]
  },
  {
   "cell_type": "code",
   "execution_count": 55,
   "metadata": {},
   "outputs": [
    {
     "data": {
      "text/plain": [
       "array([ 2.,  5.,  7., 98.])"
      ]
     },
     "execution_count": 55,
     "metadata": {},
     "output_type": "execute_result"
    }
   ],
   "source": [
    "float_arr"
   ]
  },
  {
   "cell_type": "code",
   "execution_count": 56,
   "metadata": {},
   "outputs": [],
   "source": [
    "arr = np.array([3.7, -1.2, -2.6, 0.5, 12.9, 10.1])"
   ]
  },
  {
   "cell_type": "code",
   "execution_count": 57,
   "metadata": {},
   "outputs": [],
   "source": [
    "int_arr = arr.astype(int)"
   ]
  },
  {
   "cell_type": "code",
   "execution_count": 58,
   "metadata": {},
   "outputs": [
    {
     "data": {
      "text/plain": [
       "array([ 3, -1, -2,  0, 12, 10])"
      ]
     },
     "execution_count": 58,
     "metadata": {},
     "output_type": "execute_result"
    }
   ],
   "source": [
    "int_arr"
   ]
  },
  {
   "cell_type": "code",
   "execution_count": 59,
   "metadata": {},
   "outputs": [],
   "source": [
    "arr = np.array(['5.62', '784.21', '0.2002'], dtype=np.string_)"
   ]
  },
  {
   "cell_type": "code",
   "execution_count": 60,
   "metadata": {},
   "outputs": [],
   "source": [
    "string_arr = arr.astype(np.float64)"
   ]
  },
  {
   "cell_type": "code",
   "execution_count": 61,
   "metadata": {},
   "outputs": [
    {
     "data": {
      "text/plain": [
       "array([5.6200e+00, 7.8421e+02, 2.0020e-01])"
      ]
     },
     "execution_count": 61,
     "metadata": {},
     "output_type": "execute_result"
    }
   ],
   "source": [
    "string_arr"
   ]
  },
  {
   "cell_type": "code",
   "execution_count": 62,
   "metadata": {},
   "outputs": [
    {
     "data": {
      "text/plain": [
       "array([ 3, -1, -2,  0, 12, 10])"
      ]
     },
     "execution_count": 62,
     "metadata": {},
     "output_type": "execute_result"
    }
   ],
   "source": [
    "int_arr"
   ]
  },
  {
   "cell_type": "code",
   "execution_count": 63,
   "metadata": {},
   "outputs": [
    {
     "data": {
      "text/plain": [
       "array([ 2.,  5.,  7., 98.])"
      ]
     },
     "execution_count": 63,
     "metadata": {},
     "output_type": "execute_result"
    }
   ],
   "source": [
    "float_arr"
   ]
  },
  {
   "cell_type": "code",
   "execution_count": 64,
   "metadata": {},
   "outputs": [
    {
     "data": {
      "text/plain": [
       "array([ 3., -1., -2.,  0., 12., 10.])"
      ]
     },
     "execution_count": 64,
     "metadata": {},
     "output_type": "execute_result"
    }
   ],
   "source": [
    "int_arr.astype(float_arr.dtype)"
   ]
  },
  {
   "cell_type": "markdown",
   "metadata": {},
   "source": [
    "## Arithmetic with NumPy Arrays"
   ]
  },
  {
   "cell_type": "code",
   "execution_count": 65,
   "metadata": {},
   "outputs": [],
   "source": [
    "arr = np.array([[1, 2, 3], [8, 9, 10]])"
   ]
  },
  {
   "cell_type": "code",
   "execution_count": 66,
   "metadata": {},
   "outputs": [
    {
     "data": {
      "text/plain": [
       "array([[ 1,  2,  3],\n",
       "       [ 8,  9, 10]])"
      ]
     },
     "execution_count": 66,
     "metadata": {},
     "output_type": "execute_result"
    }
   ],
   "source": [
    "arr"
   ]
  },
  {
   "cell_type": "code",
   "execution_count": 67,
   "metadata": {},
   "outputs": [
    {
     "data": {
      "text/plain": [
       "array([[ 2,  4,  6],\n",
       "       [16, 18, 20]])"
      ]
     },
     "execution_count": 67,
     "metadata": {},
     "output_type": "execute_result"
    }
   ],
   "source": [
    "arr + arr"
   ]
  },
  {
   "cell_type": "code",
   "execution_count": 68,
   "metadata": {},
   "outputs": [
    {
     "data": {
      "text/plain": [
       "array([[  1,   4,   9],\n",
       "       [ 64,  81, 100]])"
      ]
     },
     "execution_count": 68,
     "metadata": {},
     "output_type": "execute_result"
    }
   ],
   "source": [
    "arr * arr "
   ]
  },
  {
   "cell_type": "code",
   "execution_count": 69,
   "metadata": {},
   "outputs": [
    {
     "data": {
      "text/plain": [
       "array([[0, 0, 0],\n",
       "       [0, 0, 0]])"
      ]
     },
     "execution_count": 69,
     "metadata": {},
     "output_type": "execute_result"
    }
   ],
   "source": [
    "arr - arr "
   ]
  },
  {
   "cell_type": "code",
   "execution_count": 70,
   "metadata": {},
   "outputs": [
    {
     "data": {
      "text/plain": [
       "array([[1., 1., 1.],\n",
       "       [1., 1., 1.]])"
      ]
     },
     "execution_count": 70,
     "metadata": {},
     "output_type": "execute_result"
    }
   ],
   "source": [
    "arr / arr"
   ]
  },
  {
   "cell_type": "code",
   "execution_count": 71,
   "metadata": {},
   "outputs": [
    {
     "data": {
      "text/plain": [
       "array([[1.        , 0.5       , 0.33333333],\n",
       "       [0.125     , 0.11111111, 0.1       ]])"
      ]
     },
     "execution_count": 71,
     "metadata": {},
     "output_type": "execute_result"
    }
   ],
   "source": [
    "1 / arr"
   ]
  },
  {
   "cell_type": "code",
   "execution_count": 72,
   "metadata": {},
   "outputs": [
    {
     "data": {
      "text/plain": [
       "array([[1.        , 1.41421356, 1.73205081],\n",
       "       [2.82842712, 3.        , 3.16227766]])"
      ]
     },
     "execution_count": 72,
     "metadata": {},
     "output_type": "execute_result"
    }
   ],
   "source": [
    "arr ** 0.5"
   ]
  },
  {
   "cell_type": "code",
   "execution_count": 73,
   "metadata": {},
   "outputs": [],
   "source": [
    "arr2 = np.array([[0.1, 2, 4], [4, 8, 100]])"
   ]
  },
  {
   "cell_type": "code",
   "execution_count": 74,
   "metadata": {},
   "outputs": [
    {
     "data": {
      "text/plain": [
       "array([[  0.1,   2. ,   4. ],\n",
       "       [  4. ,   8. , 100. ]])"
      ]
     },
     "execution_count": 74,
     "metadata": {},
     "output_type": "execute_result"
    }
   ],
   "source": [
    "arr2"
   ]
  },
  {
   "cell_type": "code",
   "execution_count": 75,
   "metadata": {},
   "outputs": [
    {
     "data": {
      "text/plain": [
       "array([[ True, False, False],\n",
       "       [ True,  True, False]])"
      ]
     },
     "execution_count": 75,
     "metadata": {},
     "output_type": "execute_result"
    }
   ],
   "source": [
    "arr > arr2 #Comparisons between arrays of the same size yield boolean arrays"
   ]
  },
  {
   "cell_type": "markdown",
   "metadata": {},
   "source": [
    "## Basic Indexing and Slicing"
   ]
  },
  {
   "cell_type": "code",
   "execution_count": 76,
   "metadata": {},
   "outputs": [],
   "source": [
    "arr = np.arange(20)"
   ]
  },
  {
   "cell_type": "code",
   "execution_count": 77,
   "metadata": {},
   "outputs": [
    {
     "data": {
      "text/plain": [
       "array([ 0,  1,  2,  3,  4,  5,  6,  7,  8,  9, 10, 11, 12, 13, 14, 15, 16,\n",
       "       17, 18, 19])"
      ]
     },
     "execution_count": 77,
     "metadata": {},
     "output_type": "execute_result"
    }
   ],
   "source": [
    "arr"
   ]
  },
  {
   "cell_type": "code",
   "execution_count": 78,
   "metadata": {},
   "outputs": [
    {
     "data": {
      "text/plain": [
       "5"
      ]
     },
     "execution_count": 78,
     "metadata": {},
     "output_type": "execute_result"
    }
   ],
   "source": [
    "arr[5]"
   ]
  },
  {
   "cell_type": "code",
   "execution_count": 79,
   "metadata": {},
   "outputs": [
    {
     "data": {
      "text/plain": [
       "array([5, 6, 7])"
      ]
     },
     "execution_count": 79,
     "metadata": {},
     "output_type": "execute_result"
    }
   ],
   "source": [
    "arr[5:8]"
   ]
  },
  {
   "cell_type": "code",
   "execution_count": 80,
   "metadata": {},
   "outputs": [],
   "source": [
    "arr[5:8] = 71 #Broadcasting"
   ]
  },
  {
   "cell_type": "code",
   "execution_count": 81,
   "metadata": {},
   "outputs": [
    {
     "data": {
      "text/plain": [
       "array([ 0,  1,  2,  3,  4, 71, 71, 71,  8,  9, 10, 11, 12, 13, 14, 15, 16,\n",
       "       17, 18, 19])"
      ]
     },
     "execution_count": 81,
     "metadata": {},
     "output_type": "execute_result"
    }
   ],
   "source": [
    "arr"
   ]
  },
  {
   "cell_type": "code",
   "execution_count": 82,
   "metadata": {},
   "outputs": [],
   "source": [
    "arr_slice = arr[5:8]"
   ]
  },
  {
   "cell_type": "code",
   "execution_count": 83,
   "metadata": {},
   "outputs": [],
   "source": [
    "arr_slice[1] = 80000745"
   ]
  },
  {
   "cell_type": "code",
   "execution_count": 84,
   "metadata": {},
   "outputs": [
    {
     "data": {
      "text/plain": [
       "array([       0,        1,        2,        3,        4,       71,\n",
       "       80000745,       71,        8,        9,       10,       11,\n",
       "             12,       13,       14,       15,       16,       17,\n",
       "             18,       19])"
      ]
     },
     "execution_count": 84,
     "metadata": {},
     "output_type": "execute_result"
    }
   ],
   "source": [
    "arr"
   ]
  },
  {
   "cell_type": "markdown",
   "metadata": {},
   "source": [
    "The “bare” slice [:] will assign to ll values in an array"
   ]
  },
  {
   "cell_type": "code",
   "execution_count": 85,
   "metadata": {},
   "outputs": [],
   "source": [
    "arr_slice[:] = 555"
   ]
  },
  {
   "cell_type": "code",
   "execution_count": 86,
   "metadata": {},
   "outputs": [
    {
     "data": {
      "text/plain": [
       "array([  0,   1,   2,   3,   4, 555, 555, 555,   8,   9,  10,  11,  12,\n",
       "        13,  14,  15,  16,  17,  18,  19])"
      ]
     },
     "execution_count": 86,
     "metadata": {},
     "output_type": "execute_result"
    }
   ],
   "source": [
    "arr"
   ]
  },
  {
   "cell_type": "code",
   "execution_count": 87,
   "metadata": {},
   "outputs": [],
   "source": [
    "arr_copy = arr[5:8].copy() # copy() doesnt create view but copies it"
   ]
  },
  {
   "cell_type": "code",
   "execution_count": 88,
   "metadata": {},
   "outputs": [],
   "source": [
    "arr_copy[:] = 111111"
   ]
  },
  {
   "cell_type": "code",
   "execution_count": 89,
   "metadata": {},
   "outputs": [
    {
     "data": {
      "text/plain": [
       "array([  0,   1,   2,   3,   4, 555, 555, 555,   8,   9,  10,  11,  12,\n",
       "        13,  14,  15,  16,  17,  18,  19])"
      ]
     },
     "execution_count": 89,
     "metadata": {},
     "output_type": "execute_result"
    }
   ],
   "source": [
    "arr"
   ]
  },
  {
   "cell_type": "code",
   "execution_count": 90,
   "metadata": {},
   "outputs": [
    {
     "name": "stdout",
     "output_type": "stream",
     "text": [
      "arr\t arr1\t arr2\t arr3\t arr4\t arr_copy\t arr_slice\t data\t data1\t \n",
      "data2\t float_arr\t int_arr\t my_arr\t my_list\t np\t string_arr\t \n"
     ]
    }
   ],
   "source": [
    "%who"
   ]
  },
  {
   "cell_type": "code",
   "execution_count": 91,
   "metadata": {},
   "outputs": [],
   "source": [
    "arr2d = np.array([[1, 5, 9], [7, 5, 3]])"
   ]
  },
  {
   "cell_type": "code",
   "execution_count": 92,
   "metadata": {},
   "outputs": [
    {
     "data": {
      "text/plain": [
       "array([[1, 5, 9],\n",
       "       [7, 5, 3]])"
      ]
     },
     "execution_count": 92,
     "metadata": {},
     "output_type": "execute_result"
    }
   ],
   "source": [
    "arr2d"
   ]
  },
  {
   "cell_type": "code",
   "execution_count": 93,
   "metadata": {},
   "outputs": [],
   "source": [
    "arr = arr2d[1]"
   ]
  },
  {
   "cell_type": "code",
   "execution_count": 94,
   "metadata": {},
   "outputs": [
    {
     "data": {
      "text/plain": [
       "array([7, 5, 3])"
      ]
     },
     "execution_count": 94,
     "metadata": {},
     "output_type": "execute_result"
    }
   ],
   "source": [
    "arr"
   ]
  },
  {
   "cell_type": "code",
   "execution_count": 95,
   "metadata": {},
   "outputs": [
    {
     "data": {
      "text/plain": [
       "9"
      ]
     },
     "execution_count": 95,
     "metadata": {},
     "output_type": "execute_result"
    }
   ],
   "source": [
    "arr2d[0][2] #[rows][columns]"
   ]
  },
  {
   "cell_type": "code",
   "execution_count": 96,
   "metadata": {},
   "outputs": [
    {
     "data": {
      "text/plain": [
       "9"
      ]
     },
     "execution_count": 96,
     "metadata": {},
     "output_type": "execute_result"
    }
   ],
   "source": [
    "arr2d[0, 2]"
   ]
  },
  {
   "cell_type": "code",
   "execution_count": 97,
   "metadata": {},
   "outputs": [],
   "source": [
    "arr3d = np.array([[[1, 2, 3], [4, 5, 6]], [[7, 8, 9], [10, 11, 12]]])"
   ]
  },
  {
   "cell_type": "code",
   "execution_count": 98,
   "metadata": {},
   "outputs": [
    {
     "data": {
      "text/plain": [
       "array([[[ 1,  2,  3],\n",
       "        [ 4,  5,  6]],\n",
       "\n",
       "       [[ 7,  8,  9],\n",
       "        [10, 11, 12]]])"
      ]
     },
     "execution_count": 98,
     "metadata": {},
     "output_type": "execute_result"
    }
   ],
   "source": [
    "arr3d"
   ]
  },
  {
   "cell_type": "code",
   "execution_count": 99,
   "metadata": {},
   "outputs": [
    {
     "data": {
      "text/plain": [
       "array([[1, 2, 3],\n",
       "       [4, 5, 6]])"
      ]
     },
     "execution_count": 99,
     "metadata": {},
     "output_type": "execute_result"
    }
   ],
   "source": [
    "arr3d[0] #arr3d[0] is a 2 × 3 array"
   ]
  },
  {
   "cell_type": "code",
   "execution_count": 100,
   "metadata": {
    "scrolled": true
   },
   "outputs": [
    {
     "data": {
      "text/plain": [
       "array([[ 7,  8,  9],\n",
       "       [10, 11, 12]])"
      ]
     },
     "execution_count": 100,
     "metadata": {},
     "output_type": "execute_result"
    }
   ],
   "source": [
    "arr3d[1]"
   ]
  },
  {
   "cell_type": "code",
   "execution_count": 101,
   "metadata": {},
   "outputs": [],
   "source": [
    "old_values = arr3d[0].copy()"
   ]
  },
  {
   "cell_type": "code",
   "execution_count": 102,
   "metadata": {},
   "outputs": [
    {
     "data": {
      "text/plain": [
       "array([[1, 2, 3],\n",
       "       [4, 5, 6]])"
      ]
     },
     "execution_count": 102,
     "metadata": {},
     "output_type": "execute_result"
    }
   ],
   "source": [
    "old_values"
   ]
  },
  {
   "cell_type": "code",
   "execution_count": 103,
   "metadata": {},
   "outputs": [],
   "source": [
    "arr3d[0] = 42"
   ]
  },
  {
   "cell_type": "code",
   "execution_count": 104,
   "metadata": {},
   "outputs": [
    {
     "data": {
      "text/plain": [
       "array([[[42, 42, 42],\n",
       "        [42, 42, 42]],\n",
       "\n",
       "       [[ 7,  8,  9],\n",
       "        [10, 11, 12]]])"
      ]
     },
     "execution_count": 104,
     "metadata": {},
     "output_type": "execute_result"
    }
   ],
   "source": [
    "arr3d"
   ]
  },
  {
   "cell_type": "code",
   "execution_count": 105,
   "metadata": {},
   "outputs": [],
   "source": [
    "arr3d[0] = old_values"
   ]
  },
  {
   "cell_type": "code",
   "execution_count": 106,
   "metadata": {},
   "outputs": [
    {
     "data": {
      "text/plain": [
       "array([[[ 1,  2,  3],\n",
       "        [ 4,  5,  6]],\n",
       "\n",
       "       [[ 7,  8,  9],\n",
       "        [10, 11, 12]]])"
      ]
     },
     "execution_count": 106,
     "metadata": {},
     "output_type": "execute_result"
    }
   ],
   "source": [
    "arr3d"
   ]
  },
  {
   "cell_type": "code",
   "execution_count": 107,
   "metadata": {},
   "outputs": [
    {
     "data": {
      "text/plain": [
       "array([7, 8, 9])"
      ]
     },
     "execution_count": 107,
     "metadata": {},
     "output_type": "execute_result"
    }
   ],
   "source": [
    "arr3d[1, 0]"
   ]
  },
  {
   "cell_type": "code",
   "execution_count": 108,
   "metadata": {},
   "outputs": [],
   "source": [
    "x = arr3d[1]"
   ]
  },
  {
   "cell_type": "code",
   "execution_count": 109,
   "metadata": {},
   "outputs": [
    {
     "data": {
      "text/plain": [
       "array([[ 7,  8,  9],\n",
       "       [10, 11, 12]])"
      ]
     },
     "execution_count": 109,
     "metadata": {},
     "output_type": "execute_result"
    }
   ],
   "source": [
    "x"
   ]
  },
  {
   "cell_type": "code",
   "execution_count": 110,
   "metadata": {},
   "outputs": [
    {
     "data": {
      "text/plain": [
       "array([7, 8, 9])"
      ]
     },
     "execution_count": 110,
     "metadata": {},
     "output_type": "execute_result"
    }
   ],
   "source": [
    "x[0]"
   ]
  },
  {
   "cell_type": "code",
   "execution_count": 111,
   "metadata": {},
   "outputs": [],
   "source": [
    "arr = np.arange(15)"
   ]
  },
  {
   "cell_type": "code",
   "execution_count": 112,
   "metadata": {},
   "outputs": [
    {
     "data": {
      "text/plain": [
       "array([ 0,  1,  2,  3,  4,  5,  6,  7,  8,  9, 10, 11, 12, 13, 14])"
      ]
     },
     "execution_count": 112,
     "metadata": {},
     "output_type": "execute_result"
    }
   ],
   "source": [
    "arr"
   ]
  },
  {
   "cell_type": "code",
   "execution_count": 113,
   "metadata": {},
   "outputs": [
    {
     "data": {
      "text/plain": [
       "array([1, 2, 3, 4])"
      ]
     },
     "execution_count": 113,
     "metadata": {},
     "output_type": "execute_result"
    }
   ],
   "source": [
    "arr[1:5]"
   ]
  },
  {
   "cell_type": "code",
   "execution_count": 114,
   "metadata": {},
   "outputs": [
    {
     "data": {
      "text/plain": [
       "array([[1, 5, 9],\n",
       "       [7, 5, 3]])"
      ]
     },
     "execution_count": 114,
     "metadata": {},
     "output_type": "execute_result"
    }
   ],
   "source": [
    "arr2d"
   ]
  },
  {
   "cell_type": "code",
   "execution_count": 115,
   "metadata": {},
   "outputs": [
    {
     "data": {
      "text/plain": [
       "array([[1, 5, 9],\n",
       "       [7, 5, 3]])"
      ]
     },
     "execution_count": 115,
     "metadata": {},
     "output_type": "execute_result"
    }
   ],
   "source": [
    "arr2d[:2]"
   ]
  },
  {
   "cell_type": "code",
   "execution_count": 116,
   "metadata": {},
   "outputs": [
    {
     "data": {
      "text/plain": [
       "array([[5, 9],\n",
       "       [5, 3]])"
      ]
     },
     "execution_count": 116,
     "metadata": {},
     "output_type": "execute_result"
    }
   ],
   "source": [
    "arr2d[:2, 1:]"
   ]
  },
  {
   "cell_type": "code",
   "execution_count": 117,
   "metadata": {},
   "outputs": [
    {
     "data": {
      "text/plain": [
       "array([[1, 5, 9],\n",
       "       [7, 5, 3]])"
      ]
     },
     "execution_count": 117,
     "metadata": {},
     "output_type": "execute_result"
    }
   ],
   "source": [
    "arr2d"
   ]
  },
  {
   "cell_type": "code",
   "execution_count": 118,
   "metadata": {},
   "outputs": [
    {
     "data": {
      "text/plain": [
       "array([7, 5])"
      ]
     },
     "execution_count": 118,
     "metadata": {},
     "output_type": "execute_result"
    }
   ],
   "source": [
    "arr2d[1,:2]"
   ]
  },
  {
   "cell_type": "code",
   "execution_count": 119,
   "metadata": {},
   "outputs": [
    {
     "data": {
      "text/plain": [
       "array([[1],\n",
       "       [7]])"
      ]
     },
     "execution_count": 119,
     "metadata": {},
     "output_type": "execute_result"
    }
   ],
   "source": [
    "arr2d[:,:1]"
   ]
  },
  {
   "cell_type": "code",
   "execution_count": 120,
   "metadata": {},
   "outputs": [
    {
     "data": {
      "text/plain": [
       "array([1, 7])"
      ]
     },
     "execution_count": 120,
     "metadata": {},
     "output_type": "execute_result"
    }
   ],
   "source": [
    "arr2d[:,0]"
   ]
  },
  {
   "cell_type": "code",
   "execution_count": 121,
   "metadata": {},
   "outputs": [
    {
     "data": {
      "text/plain": [
       "array([[1, 5, 9],\n",
       "       [7, 5, 3]])"
      ]
     },
     "execution_count": 121,
     "metadata": {},
     "output_type": "execute_result"
    }
   ],
   "source": [
    "arr2d"
   ]
  },
  {
   "cell_type": "code",
   "execution_count": 122,
   "metadata": {},
   "outputs": [],
   "source": [
    "arr2d[0,1:] = -5875"
   ]
  },
  {
   "cell_type": "code",
   "execution_count": 123,
   "metadata": {},
   "outputs": [
    {
     "data": {
      "text/plain": [
       "array([[    1, -5875, -5875],\n",
       "       [    7,     5,     3]])"
      ]
     },
     "execution_count": 123,
     "metadata": {},
     "output_type": "execute_result"
    }
   ],
   "source": [
    "arr2d"
   ]
  },
  {
   "cell_type": "markdown",
   "metadata": {},
   "source": [
    "## Boolean Indexing"
   ]
  },
  {
   "cell_type": "code",
   "execution_count": 124,
   "metadata": {},
   "outputs": [],
   "source": [
    "names = np.array(['Bob', 'Joe', 'Will', 'Bob', 'Will', 'Joe', 'Joe'])"
   ]
  },
  {
   "cell_type": "code",
   "execution_count": 125,
   "metadata": {},
   "outputs": [
    {
     "data": {
      "text/plain": [
       "array(['Bob', 'Joe', 'Will', 'Bob', 'Will', 'Joe', 'Joe'], dtype='<U4')"
      ]
     },
     "execution_count": 125,
     "metadata": {},
     "output_type": "execute_result"
    }
   ],
   "source": [
    "names"
   ]
  },
  {
   "cell_type": "code",
   "execution_count": 126,
   "metadata": {},
   "outputs": [],
   "source": [
    "data = np.random.randn(7, 4)"
   ]
  },
  {
   "cell_type": "code",
   "execution_count": 127,
   "metadata": {},
   "outputs": [
    {
     "data": {
      "text/plain": [
       "array([[-2.70512354, -0.07575905,  0.89495033,  1.30755592],\n",
       "       [-1.50961045,  0.32414867,  1.52373745, -0.37887656],\n",
       "       [ 0.94052381, -1.03201764, -0.31868453,  0.70207418],\n",
       "       [-0.42298757,  0.83918708, -0.38322858,  0.16691783],\n",
       "       [-1.41398057, -0.25398925, -0.74674998, -0.86139921],\n",
       "       [ 0.79462755, -0.3966518 , -0.82258775,  0.66065939],\n",
       "       [-0.67019034, -1.34581887, -0.42073997,  0.4559638 ]])"
      ]
     },
     "execution_count": 127,
     "metadata": {},
     "output_type": "execute_result"
    }
   ],
   "source": [
    "data"
   ]
  },
  {
   "cell_type": "code",
   "execution_count": 128,
   "metadata": {},
   "outputs": [
    {
     "data": {
      "text/plain": [
       "array([ True, False, False,  True, False, False, False])"
      ]
     },
     "execution_count": 128,
     "metadata": {},
     "output_type": "execute_result"
    }
   ],
   "source": [
    "names == 'Bob'"
   ]
  },
  {
   "cell_type": "code",
   "execution_count": 129,
   "metadata": {},
   "outputs": [
    {
     "data": {
      "text/plain": [
       "array([[-2.70512354, -0.07575905,  0.89495033,  1.30755592],\n",
       "       [-0.42298757,  0.83918708, -0.38322858,  0.16691783]])"
      ]
     },
     "execution_count": 129,
     "metadata": {},
     "output_type": "execute_result"
    }
   ],
   "source": [
    "data[names == 'Bob']"
   ]
  },
  {
   "cell_type": "code",
   "execution_count": 130,
   "metadata": {},
   "outputs": [
    {
     "data": {
      "text/plain": [
       "array([[ 0.89495033,  1.30755592],\n",
       "       [-0.38322858,  0.16691783]])"
      ]
     },
     "execution_count": 130,
     "metadata": {},
     "output_type": "execute_result"
    }
   ],
   "source": [
    "data[names == 'Bob', 2:]"
   ]
  },
  {
   "cell_type": "code",
   "execution_count": 131,
   "metadata": {},
   "outputs": [
    {
     "data": {
      "text/plain": [
       "array([False,  True,  True, False,  True,  True,  True])"
      ]
     },
     "execution_count": 131,
     "metadata": {},
     "output_type": "execute_result"
    }
   ],
   "source": [
    "names != 'Bob'"
   ]
  },
  {
   "cell_type": "code",
   "execution_count": 132,
   "metadata": {},
   "outputs": [
    {
     "data": {
      "text/plain": [
       "array([[-1.50961045,  0.32414867,  1.52373745, -0.37887656],\n",
       "       [ 0.94052381, -1.03201764, -0.31868453,  0.70207418],\n",
       "       [-1.41398057, -0.25398925, -0.74674998, -0.86139921],\n",
       "       [ 0.79462755, -0.3966518 , -0.82258775,  0.66065939],\n",
       "       [-0.67019034, -1.34581887, -0.42073997,  0.4559638 ]])"
      ]
     },
     "execution_count": 132,
     "metadata": {},
     "output_type": "execute_result"
    }
   ],
   "source": [
    "data[names != 'Bob']"
   ]
  },
  {
   "cell_type": "code",
   "execution_count": 133,
   "metadata": {},
   "outputs": [
    {
     "data": {
      "text/plain": [
       "array([[-1.50961045,  0.32414867,  1.52373745, -0.37887656],\n",
       "       [ 0.94052381, -1.03201764, -0.31868453,  0.70207418],\n",
       "       [-1.41398057, -0.25398925, -0.74674998, -0.86139921],\n",
       "       [ 0.79462755, -0.3966518 , -0.82258775,  0.66065939],\n",
       "       [-0.67019034, -1.34581887, -0.42073997,  0.4559638 ]])"
      ]
     },
     "execution_count": 133,
     "metadata": {},
     "output_type": "execute_result"
    }
   ],
   "source": [
    "data[~(names == 'Bob')] # ~ is used to invert a general condition"
   ]
  },
  {
   "cell_type": "code",
   "execution_count": 134,
   "metadata": {},
   "outputs": [],
   "source": [
    "cond = names == 'Joe'"
   ]
  },
  {
   "cell_type": "code",
   "execution_count": 135,
   "metadata": {},
   "outputs": [
    {
     "data": {
      "text/plain": [
       "array([[-2.70512354, -0.07575905,  0.89495033,  1.30755592],\n",
       "       [ 0.94052381, -1.03201764, -0.31868453,  0.70207418],\n",
       "       [-0.42298757,  0.83918708, -0.38322858,  0.16691783],\n",
       "       [-1.41398057, -0.25398925, -0.74674998, -0.86139921]])"
      ]
     },
     "execution_count": 135,
     "metadata": {},
     "output_type": "execute_result"
    }
   ],
   "source": [
    "data[~cond]"
   ]
  },
  {
   "cell_type": "code",
   "execution_count": 136,
   "metadata": {},
   "outputs": [],
   "source": [
    "mask = (names == 'Bob') | (names == 'Joe')"
   ]
  },
  {
   "cell_type": "code",
   "execution_count": 137,
   "metadata": {},
   "outputs": [
    {
     "data": {
      "text/plain": [
       "array([[-2.70512354, -0.07575905,  0.89495033,  1.30755592],\n",
       "       [-1.50961045,  0.32414867,  1.52373745, -0.37887656],\n",
       "       [-0.42298757,  0.83918708, -0.38322858,  0.16691783],\n",
       "       [ 0.79462755, -0.3966518 , -0.82258775,  0.66065939],\n",
       "       [-0.67019034, -1.34581887, -0.42073997,  0.4559638 ]])"
      ]
     },
     "execution_count": 137,
     "metadata": {},
     "output_type": "execute_result"
    }
   ],
   "source": [
    "data[mask]"
   ]
  },
  {
   "cell_type": "code",
   "execution_count": 138,
   "metadata": {},
   "outputs": [
    {
     "data": {
      "text/plain": [
       "array([[ 0.94052381, -1.03201764, -0.31868453,  0.70207418],\n",
       "       [-1.41398057, -0.25398925, -0.74674998, -0.86139921]])"
      ]
     },
     "execution_count": 138,
     "metadata": {},
     "output_type": "execute_result"
    }
   ],
   "source": [
    "data[~mask]"
   ]
  },
  {
   "cell_type": "code",
   "execution_count": 139,
   "metadata": {},
   "outputs": [
    {
     "data": {
      "text/plain": [
       "array([[-2.70512354, -0.07575905,  0.89495033,  1.30755592],\n",
       "       [-1.50961045,  0.32414867,  1.52373745, -0.37887656],\n",
       "       [ 0.94052381, -1.03201764, -0.31868453,  0.70207418],\n",
       "       [-0.42298757,  0.83918708, -0.38322858,  0.16691783],\n",
       "       [-1.41398057, -0.25398925, -0.74674998, -0.86139921],\n",
       "       [ 0.79462755, -0.3966518 , -0.82258775,  0.66065939],\n",
       "       [-0.67019034, -1.34581887, -0.42073997,  0.4559638 ]])"
      ]
     },
     "execution_count": 139,
     "metadata": {},
     "output_type": "execute_result"
    }
   ],
   "source": [
    "data"
   ]
  },
  {
   "cell_type": "code",
   "execution_count": 140,
   "metadata": {},
   "outputs": [],
   "source": [
    "data[data < 0] = 0"
   ]
  },
  {
   "cell_type": "code",
   "execution_count": 141,
   "metadata": {},
   "outputs": [
    {
     "data": {
      "text/plain": [
       "array([[0.        , 0.        , 0.89495033, 1.30755592],\n",
       "       [0.        , 0.32414867, 1.52373745, 0.        ],\n",
       "       [0.94052381, 0.        , 0.        , 0.70207418],\n",
       "       [0.        , 0.83918708, 0.        , 0.16691783],\n",
       "       [0.        , 0.        , 0.        , 0.        ],\n",
       "       [0.79462755, 0.        , 0.        , 0.66065939],\n",
       "       [0.        , 0.        , 0.        , 0.4559638 ]])"
      ]
     },
     "execution_count": 141,
     "metadata": {},
     "output_type": "execute_result"
    }
   ],
   "source": [
    "data"
   ]
  },
  {
   "cell_type": "code",
   "execution_count": 142,
   "metadata": {},
   "outputs": [],
   "source": [
    "data[names != 'Joe'] = 7"
   ]
  },
  {
   "cell_type": "code",
   "execution_count": 143,
   "metadata": {},
   "outputs": [
    {
     "data": {
      "text/plain": [
       "array([[7.        , 7.        , 7.        , 7.        ],\n",
       "       [0.        , 0.32414867, 1.52373745, 0.        ],\n",
       "       [7.        , 7.        , 7.        , 7.        ],\n",
       "       [7.        , 7.        , 7.        , 7.        ],\n",
       "       [7.        , 7.        , 7.        , 7.        ],\n",
       "       [0.79462755, 0.        , 0.        , 0.66065939],\n",
       "       [0.        , 0.        , 0.        , 0.4559638 ]])"
      ]
     },
     "execution_count": 143,
     "metadata": {},
     "output_type": "execute_result"
    }
   ],
   "source": [
    "data"
   ]
  },
  {
   "cell_type": "markdown",
   "metadata": {},
   "source": [
    "## Fancy Indexing\n"
   ]
  },
  {
   "cell_type": "code",
   "execution_count": 144,
   "metadata": {},
   "outputs": [],
   "source": [
    "arr = np.empty((8, 5))"
   ]
  },
  {
   "cell_type": "code",
   "execution_count": 145,
   "metadata": {},
   "outputs": [
    {
     "data": {
      "text/plain": [
       "array([[1.47957721e-311, 1.47957620e-311, 2.14321575e-312,\n",
       "        2.01589600e-312, 2.22809558e-312],\n",
       "       [2.14321575e-312, 1.93101617e-312, 1.01855798e-312,\n",
       "        6.79038653e-313, 9.33678148e-313],\n",
       "       [1.16709769e-312, 6.79038653e-313, 1.97345609e-312,\n",
       "        6.79038653e-313, 2.37663529e-312],\n",
       "       [2.35541533e-312, 2.48273508e-312, 2.14321575e-312,\n",
       "        6.79038654e-313, 6.79038654e-313],\n",
       "       [2.33419537e-312, 2.44029516e-312, 2.05833592e-312,\n",
       "        2.41907520e-312, 2.56761491e-312],\n",
       "       [2.35541533e-312, 6.79038654e-313, 2.20687562e-312,\n",
       "        6.79038654e-313, 2.05833592e-312],\n",
       "       [2.14321575e-312, 2.44029516e-312, 2.05833592e-312,\n",
       "        2.14321575e-312, 2.05833592e-312],\n",
       "       [2.12199579e-312, 2.12199579e-312, 2.56761491e-312,\n",
       "        2.14321575e-312, 1.47961195e-311]])"
      ]
     },
     "execution_count": 145,
     "metadata": {},
     "output_type": "execute_result"
    }
   ],
   "source": [
    "arr"
   ]
  },
  {
   "cell_type": "code",
   "execution_count": 146,
   "metadata": {},
   "outputs": [],
   "source": [
    "for i in range(arr.shape[0]):\n",
    "    arr[i] = i"
   ]
  },
  {
   "cell_type": "code",
   "execution_count": 147,
   "metadata": {},
   "outputs": [
    {
     "data": {
      "text/plain": [
       "array([[0., 0., 0., 0., 0.],\n",
       "       [1., 1., 1., 1., 1.],\n",
       "       [2., 2., 2., 2., 2.],\n",
       "       [3., 3., 3., 3., 3.],\n",
       "       [4., 4., 4., 4., 4.],\n",
       "       [5., 5., 5., 5., 5.],\n",
       "       [6., 6., 6., 6., 6.],\n",
       "       [7., 7., 7., 7., 7.]])"
      ]
     },
     "execution_count": 147,
     "metadata": {},
     "output_type": "execute_result"
    }
   ],
   "source": [
    "arr"
   ]
  },
  {
   "cell_type": "code",
   "execution_count": 148,
   "metadata": {},
   "outputs": [
    {
     "data": {
      "text/plain": [
       "array([[5., 5., 5., 5., 5.],\n",
       "       [6., 6., 6., 6., 6.],\n",
       "       [2., 2., 2., 2., 2.],\n",
       "       [0., 0., 0., 0., 0.]])"
      ]
     },
     "execution_count": 148,
     "metadata": {},
     "output_type": "execute_result"
    }
   ],
   "source": [
    "arr[[5, 6, 2, 0]]"
   ]
  },
  {
   "cell_type": "code",
   "execution_count": 149,
   "metadata": {},
   "outputs": [
    {
     "data": {
      "text/plain": [
       "array([[6., 6., 6., 6., 6.],\n",
       "       [5., 5., 5., 5., 5.],\n",
       "       [4., 4., 4., 4., 4.]])"
      ]
     },
     "execution_count": 149,
     "metadata": {},
     "output_type": "execute_result"
    }
   ],
   "source": [
    "arr[[-2, 5, -4]]"
   ]
  },
  {
   "cell_type": "code",
   "execution_count": 150,
   "metadata": {},
   "outputs": [],
   "source": [
    "arr = np.arange(24).reshape(8,3)"
   ]
  },
  {
   "cell_type": "code",
   "execution_count": 151,
   "metadata": {},
   "outputs": [
    {
     "data": {
      "text/plain": [
       "array([[ 0,  1,  2],\n",
       "       [ 3,  4,  5],\n",
       "       [ 6,  7,  8],\n",
       "       [ 9, 10, 11],\n",
       "       [12, 13, 14],\n",
       "       [15, 16, 17],\n",
       "       [18, 19, 20],\n",
       "       [21, 22, 23]])"
      ]
     },
     "execution_count": 151,
     "metadata": {},
     "output_type": "execute_result"
    }
   ],
   "source": [
    "arr"
   ]
  },
  {
   "cell_type": "code",
   "execution_count": 152,
   "metadata": {},
   "outputs": [
    {
     "data": {
      "text/plain": [
       "array([ 0, 17,  4])"
      ]
     },
     "execution_count": 152,
     "metadata": {},
     "output_type": "execute_result"
    }
   ],
   "source": [
    "arr[[0, 5, 1] , [0, 2, 1]] #Elements (0, 0), (5, 2), (1, 1) are selected"
   ]
  },
  {
   "cell_type": "code",
   "execution_count": 153,
   "metadata": {},
   "outputs": [
    {
     "data": {
      "text/plain": [
       "array([ 4,  8, 16,  9])"
      ]
     },
     "execution_count": 153,
     "metadata": {},
     "output_type": "execute_result"
    }
   ],
   "source": [
    "arr[[1, 2, 5, 3], [1, 2, 1, 0]]"
   ]
  },
  {
   "cell_type": "code",
   "execution_count": 154,
   "metadata": {},
   "outputs": [],
   "source": [
    "arr[[1, 2, 5, 3], [1, 2, 1, 0]] = 999"
   ]
  },
  {
   "cell_type": "code",
   "execution_count": 155,
   "metadata": {},
   "outputs": [
    {
     "data": {
      "text/plain": [
       "array([[  0,   1,   2],\n",
       "       [  3, 999,   5],\n",
       "       [  6,   7, 999],\n",
       "       [999,  10,  11],\n",
       "       [ 12,  13,  14],\n",
       "       [ 15, 999,  17],\n",
       "       [ 18,  19,  20],\n",
       "       [ 21,  22,  23]])"
      ]
     },
     "execution_count": 155,
     "metadata": {},
     "output_type": "execute_result"
    }
   ],
   "source": [
    "arr"
   ]
  },
  {
   "cell_type": "code",
   "execution_count": 156,
   "metadata": {},
   "outputs": [],
   "source": [
    "arr = np.arange(32).reshape(8, 4)"
   ]
  },
  {
   "cell_type": "code",
   "execution_count": 157,
   "metadata": {},
   "outputs": [
    {
     "data": {
      "text/plain": [
       "array([[ 0,  1,  2,  3],\n",
       "       [ 4,  5,  6,  7],\n",
       "       [ 8,  9, 10, 11],\n",
       "       [12, 13, 14, 15],\n",
       "       [16, 17, 18, 19],\n",
       "       [20, 21, 22, 23],\n",
       "       [24, 25, 26, 27],\n",
       "       [28, 29, 30, 31]])"
      ]
     },
     "execution_count": 157,
     "metadata": {},
     "output_type": "execute_result"
    }
   ],
   "source": [
    "arr"
   ]
  },
  {
   "cell_type": "code",
   "execution_count": 158,
   "metadata": {},
   "outputs": [
    {
     "data": {
      "text/plain": [
       "array([ 0,  5, 10, 15])"
      ]
     },
     "execution_count": 158,
     "metadata": {},
     "output_type": "execute_result"
    }
   ],
   "source": [
    "arr[[0, 1, 2, 3], [0, 1, 2, 3]]"
   ]
  },
  {
   "cell_type": "code",
   "execution_count": 159,
   "metadata": {},
   "outputs": [
    {
     "data": {
      "text/plain": [
       "array([[ 0,  1,  2,  3],\n",
       "       [ 4,  5,  6,  7],\n",
       "       [ 8,  9, 10, 11],\n",
       "       [12, 13, 14, 15],\n",
       "       [16, 17, 18, 19],\n",
       "       [20, 21, 22, 23],\n",
       "       [24, 25, 26, 27],\n",
       "       [28, 29, 30, 31]])"
      ]
     },
     "execution_count": 159,
     "metadata": {},
     "output_type": "execute_result"
    }
   ],
   "source": [
    "arr"
   ]
  },
  {
   "cell_type": "code",
   "execution_count": 160,
   "metadata": {},
   "outputs": [
    {
     "data": {
      "text/plain": [
       "array([[ 4,  7,  5,  6],\n",
       "       [20, 23, 21, 22],\n",
       "       [28, 31, 29, 30],\n",
       "       [ 8, 11,  9, 10]])"
      ]
     },
     "execution_count": 160,
     "metadata": {},
     "output_type": "execute_result"
    }
   ],
   "source": [
    "arr[[1, 5, 7, 2]][:, [0, 3, 1, 2]]"
   ]
  },
  {
   "cell_type": "code",
   "execution_count": 161,
   "metadata": {},
   "outputs": [
    {
     "data": {
      "text/plain": [
       "array([[ 4,  7,  5,  6],\n",
       "       [20, 23, 21, 22],\n",
       "       [28, 31, 29, 30],\n",
       "       [ 8, 11,  9, 10]])"
      ]
     },
     "execution_count": 161,
     "metadata": {},
     "output_type": "execute_result"
    }
   ],
   "source": [
    "arr[[1, 5, 7, 2]][:, [0, 3, 1, 2]]"
   ]
  },
  {
   "cell_type": "code",
   "execution_count": 162,
   "metadata": {},
   "outputs": [],
   "source": [
    "arr[[1, 5, 7, 2]] = arr[[1, 5, 7, 2]][:, [0, 3, 1, 2]]"
   ]
  },
  {
   "cell_type": "code",
   "execution_count": 163,
   "metadata": {},
   "outputs": [
    {
     "data": {
      "text/plain": [
       "array([[ 0,  1,  2,  3],\n",
       "       [ 4,  7,  5,  6],\n",
       "       [ 8, 11,  9, 10],\n",
       "       [12, 13, 14, 15],\n",
       "       [16, 17, 18, 19],\n",
       "       [20, 23, 21, 22],\n",
       "       [24, 25, 26, 27],\n",
       "       [28, 31, 29, 30]])"
      ]
     },
     "execution_count": 163,
     "metadata": {},
     "output_type": "execute_result"
    }
   ],
   "source": [
    "arr"
   ]
  },
  {
   "cell_type": "markdown",
   "metadata": {},
   "source": [
    "Keep in mind that fancy indexing, unlike slicing, always copies the data into a new array."
   ]
  },
  {
   "cell_type": "markdown",
   "metadata": {},
   "source": [
    "## Transposing Arrays and Swapping Axes\n"
   ]
  },
  {
   "cell_type": "code",
   "execution_count": 164,
   "metadata": {},
   "outputs": [],
   "source": [
    "arr = np.arange(15).reshape(3, 5)"
   ]
  },
  {
   "cell_type": "code",
   "execution_count": 165,
   "metadata": {},
   "outputs": [
    {
     "data": {
      "text/plain": [
       "array([[ 0,  1,  2,  3,  4],\n",
       "       [ 5,  6,  7,  8,  9],\n",
       "       [10, 11, 12, 13, 14]])"
      ]
     },
     "execution_count": 165,
     "metadata": {},
     "output_type": "execute_result"
    }
   ],
   "source": [
    "arr"
   ]
  },
  {
   "cell_type": "code",
   "execution_count": 166,
   "metadata": {},
   "outputs": [
    {
     "data": {
      "text/plain": [
       "array([[ 0,  5, 10],\n",
       "       [ 1,  6, 11],\n",
       "       [ 2,  7, 12],\n",
       "       [ 3,  8, 13],\n",
       "       [ 4,  9, 14]])"
      ]
     },
     "execution_count": 166,
     "metadata": {},
     "output_type": "execute_result"
    }
   ],
   "source": [
    "arr.T # .T -> Transpose"
   ]
  },
  {
   "cell_type": "code",
   "execution_count": 167,
   "metadata": {},
   "outputs": [
    {
     "data": {
      "text/plain": [
       "array([[ 0,  5, 10],\n",
       "       [ 1,  6, 11],\n",
       "       [ 2,  7, 12],\n",
       "       [ 3,  8, 13],\n",
       "       [ 4,  9, 14]])"
      ]
     },
     "execution_count": 167,
     "metadata": {},
     "output_type": "execute_result"
    }
   ],
   "source": [
    "arr.transpose() # .transpose() -> Transpose"
   ]
  },
  {
   "cell_type": "code",
   "execution_count": 168,
   "metadata": {},
   "outputs": [],
   "source": [
    "arr = np.random.randn(4, 5)"
   ]
  },
  {
   "cell_type": "code",
   "execution_count": 169,
   "metadata": {},
   "outputs": [
    {
     "data": {
      "text/plain": [
       "array([[-0.25632721,  0.29349068,  0.48326009, -0.92055547, -1.17190893],\n",
       "       [-0.03437633,  0.03260024,  0.31854241, -0.18009974, -0.5053237 ],\n",
       "       [-0.18279968,  0.78497922,  0.53475608, -0.87327098,  0.34280891],\n",
       "       [ 1.56544268, -1.07230681,  0.30133432, -0.94517281,  1.20781721]])"
      ]
     },
     "execution_count": 169,
     "metadata": {},
     "output_type": "execute_result"
    }
   ],
   "source": [
    "arr"
   ]
  },
  {
   "cell_type": "code",
   "execution_count": 170,
   "metadata": {},
   "outputs": [
    {
     "data": {
      "text/plain": [
       "array([[ 2.60617364,  0.93030345,  0.93782044, -1.11572253],\n",
       "       [ 0.93030345,  0.39150174,  0.1862634 , -0.43289714],\n",
       "       [ 0.93782044,  0.1862634 ,  1.81569231,  0.27268186],\n",
       "       [-1.11572253, -0.43289714,  0.27268186,  6.04342909]])"
      ]
     },
     "execution_count": 170,
     "metadata": {},
     "output_type": "execute_result"
    }
   ],
   "source": [
    "np.dot(arr, arr.T)"
   ]
  },
  {
   "cell_type": "code",
   "execution_count": 171,
   "metadata": {},
   "outputs": [],
   "source": [
    "arr3d = np.arange(18).reshape(3, 2, 3)"
   ]
  },
  {
   "cell_type": "code",
   "execution_count": 172,
   "metadata": {
    "scrolled": false
   },
   "outputs": [
    {
     "data": {
      "text/plain": [
       "array([[[ 0,  1,  2],\n",
       "        [ 3,  4,  5]],\n",
       "\n",
       "       [[ 6,  7,  8],\n",
       "        [ 9, 10, 11]],\n",
       "\n",
       "       [[12, 13, 14],\n",
       "        [15, 16, 17]]])"
      ]
     },
     "execution_count": 172,
     "metadata": {},
     "output_type": "execute_result"
    }
   ],
   "source": [
    "arr3d"
   ]
  },
  {
   "cell_type": "code",
   "execution_count": 173,
   "metadata": {},
   "outputs": [
    {
     "data": {
      "text/plain": [
       "array([[[ 0,  6, 12],\n",
       "        [ 3,  9, 15]],\n",
       "\n",
       "       [[ 1,  7, 13],\n",
       "        [ 4, 10, 16]],\n",
       "\n",
       "       [[ 2,  8, 14],\n",
       "        [ 5, 11, 17]]])"
      ]
     },
     "execution_count": 173,
     "metadata": {},
     "output_type": "execute_result"
    }
   ],
   "source": [
    "arr3d.T"
   ]
  },
  {
   "cell_type": "code",
   "execution_count": 174,
   "metadata": {},
   "outputs": [
    {
     "data": {
      "text/plain": [
       "array([[[ 0,  1,  2],\n",
       "        [ 6,  7,  8],\n",
       "        [12, 13, 14]],\n",
       "\n",
       "       [[ 3,  4,  5],\n",
       "        [ 9, 10, 11],\n",
       "        [15, 16, 17]]])"
      ]
     },
     "execution_count": 174,
     "metadata": {},
     "output_type": "execute_result"
    }
   ],
   "source": [
    "arr3d.transpose((1, 0, 2)) # (axis0, axis1, axis2)"
   ]
  },
  {
   "cell_type": "code",
   "execution_count": 175,
   "metadata": {},
   "outputs": [
    {
     "data": {
      "text/plain": [
       "array([[[ 0,  1,  2],\n",
       "        [ 3,  4,  5]],\n",
       "\n",
       "       [[ 6,  7,  8],\n",
       "        [ 9, 10, 11]],\n",
       "\n",
       "       [[12, 13, 14],\n",
       "        [15, 16, 17]]])"
      ]
     },
     "execution_count": 175,
     "metadata": {},
     "output_type": "execute_result"
    }
   ],
   "source": [
    "arr3d"
   ]
  },
  {
   "cell_type": "code",
   "execution_count": 176,
   "metadata": {},
   "outputs": [
    {
     "data": {
      "text/plain": [
       "(3, 2, 3)"
      ]
     },
     "execution_count": 176,
     "metadata": {},
     "output_type": "execute_result"
    }
   ],
   "source": [
    "arr3d.shape"
   ]
  },
  {
   "cell_type": "code",
   "execution_count": 177,
   "metadata": {},
   "outputs": [
    {
     "data": {
      "text/plain": [
       "array([[[ 0,  6, 12],\n",
       "        [ 3,  9, 15]],\n",
       "\n",
       "       [[ 1,  7, 13],\n",
       "        [ 4, 10, 16]],\n",
       "\n",
       "       [[ 2,  8, 14],\n",
       "        [ 5, 11, 17]]])"
      ]
     },
     "execution_count": 177,
     "metadata": {},
     "output_type": "execute_result"
    }
   ],
   "source": [
    "arr3d.swapaxes(2, 0)"
   ]
  },
  {
   "cell_type": "markdown",
   "metadata": {},
   "source": [
    "# 4.2 Universal Functions: Fast Element-Wise Array Functions"
   ]
  },
  {
   "cell_type": "markdown",
   "metadata": {},
   "source": [
    "A universal function, or ufunc, is a function that performs element-wise operations on data in ndarrays. You can think of them as fast vectorized wrappers for simple functions that take one or more scalar values and produce one or more scalar results."
   ]
  },
  {
   "cell_type": "code",
   "execution_count": 178,
   "metadata": {},
   "outputs": [],
   "source": [
    "arr = np.arange(10)"
   ]
  },
  {
   "cell_type": "code",
   "execution_count": 179,
   "metadata": {},
   "outputs": [
    {
     "data": {
      "text/plain": [
       "array([0, 1, 2, 3, 4, 5, 6, 7, 8, 9])"
      ]
     },
     "execution_count": 179,
     "metadata": {},
     "output_type": "execute_result"
    }
   ],
   "source": [
    "arr"
   ]
  },
  {
   "cell_type": "code",
   "execution_count": 180,
   "metadata": {},
   "outputs": [
    {
     "data": {
      "text/plain": [
       "array([0.        , 1.        , 1.41421356, 1.73205081, 2.        ,\n",
       "       2.23606798, 2.44948974, 2.64575131, 2.82842712, 3.        ])"
      ]
     },
     "execution_count": 180,
     "metadata": {},
     "output_type": "execute_result"
    }
   ],
   "source": [
    "np.sqrt(arr)"
   ]
  },
  {
   "cell_type": "code",
   "execution_count": 181,
   "metadata": {},
   "outputs": [
    {
     "data": {
      "text/plain": [
       "array([ 0,  1,  4,  9, 16, 25, 36, 49, 64, 81], dtype=int32)"
      ]
     },
     "execution_count": 181,
     "metadata": {},
     "output_type": "execute_result"
    }
   ],
   "source": [
    "np.square(arr)"
   ]
  },
  {
   "cell_type": "code",
   "execution_count": 182,
   "metadata": {},
   "outputs": [
    {
     "data": {
      "text/plain": [
       "array([1.00000000e+00, 2.71828183e+00, 7.38905610e+00, 2.00855369e+01,\n",
       "       5.45981500e+01, 1.48413159e+02, 4.03428793e+02, 1.09663316e+03,\n",
       "       2.98095799e+03, 8.10308393e+03])"
      ]
     },
     "execution_count": 182,
     "metadata": {},
     "output_type": "execute_result"
    }
   ],
   "source": [
    "np.exp(arr)"
   ]
  },
  {
   "cell_type": "markdown",
   "metadata": {},
   "source": [
    "These are referred to as unary ufuncs as they take single object to compute on"
   ]
  },
  {
   "cell_type": "code",
   "execution_count": 183,
   "metadata": {},
   "outputs": [],
   "source": [
    "x = np.random.randn(8)"
   ]
  },
  {
   "cell_type": "code",
   "execution_count": 184,
   "metadata": {},
   "outputs": [
    {
     "data": {
      "text/plain": [
       "array([-0.02065743,  0.74197983, -0.43430276, -1.17191947,  0.52428103,\n",
       "        0.11781418, -0.23683011,  0.57151927])"
      ]
     },
     "execution_count": 184,
     "metadata": {},
     "output_type": "execute_result"
    }
   ],
   "source": [
    "x"
   ]
  },
  {
   "cell_type": "code",
   "execution_count": 185,
   "metadata": {},
   "outputs": [],
   "source": [
    "y = np.random.randn(8)"
   ]
  },
  {
   "cell_type": "code",
   "execution_count": 186,
   "metadata": {},
   "outputs": [
    {
     "data": {
      "text/plain": [
       "array([-0.82951357, -1.25929129,  0.94462761,  1.69301065, -0.32122182,\n",
       "        0.9607642 ,  0.10052215,  1.13687313])"
      ]
     },
     "execution_count": 186,
     "metadata": {},
     "output_type": "execute_result"
    }
   ],
   "source": [
    "y"
   ]
  },
  {
   "cell_type": "code",
   "execution_count": 187,
   "metadata": {},
   "outputs": [
    {
     "data": {
      "text/plain": [
       "array([-0.02065743,  0.74197983,  0.94462761,  1.69301065,  0.52428103,\n",
       "        0.9607642 ,  0.10052215,  1.13687313])"
      ]
     },
     "execution_count": 187,
     "metadata": {},
     "output_type": "execute_result"
    }
   ],
   "source": [
    "np.maximum(x, y) #Element-wise"
   ]
  },
  {
   "cell_type": "code",
   "execution_count": 188,
   "metadata": {},
   "outputs": [],
   "source": [
    "arr = np.random.randn(8) * 5"
   ]
  },
  {
   "cell_type": "code",
   "execution_count": 189,
   "metadata": {},
   "outputs": [
    {
     "data": {
      "text/plain": [
       "array([ 0.15021441,  3.31760113, -6.05196782,  0.71514648,  1.07823533,\n",
       "       -3.35485211,  6.93301971,  0.32550944])"
      ]
     },
     "execution_count": 189,
     "metadata": {},
     "output_type": "execute_result"
    }
   ],
   "source": [
    "arr"
   ]
  },
  {
   "cell_type": "code",
   "execution_count": 190,
   "metadata": {},
   "outputs": [],
   "source": [
    "remainder, whole_part = np.modf(arr) # .modf() returns 2 objects one is remainder and other one is its whole part"
   ]
  },
  {
   "cell_type": "code",
   "execution_count": 191,
   "metadata": {},
   "outputs": [
    {
     "data": {
      "text/plain": [
       "array([ 0.15021441,  0.31760113, -0.05196782,  0.71514648,  0.07823533,\n",
       "       -0.35485211,  0.93301971,  0.32550944])"
      ]
     },
     "execution_count": 191,
     "metadata": {},
     "output_type": "execute_result"
    }
   ],
   "source": [
    "remainder"
   ]
  },
  {
   "cell_type": "code",
   "execution_count": 192,
   "metadata": {},
   "outputs": [
    {
     "data": {
      "text/plain": [
       "array([ 0.,  3., -6.,  0.,  1., -3.,  6.,  0.])"
      ]
     },
     "execution_count": 192,
     "metadata": {},
     "output_type": "execute_result"
    }
   ],
   "source": [
    "whole_part"
   ]
  },
  {
   "cell_type": "code",
   "execution_count": 193,
   "metadata": {},
   "outputs": [
    {
     "data": {
      "text/plain": [
       "array([0., 3., 6., 0., 1., 3., 6., 0.])"
      ]
     },
     "execution_count": 193,
     "metadata": {},
     "output_type": "execute_result"
    }
   ],
   "source": [
    "np.abs(whole_part) #Compute the absolute value element-wise for integer, oating-point, or complex values"
   ]
  },
  {
   "cell_type": "code",
   "execution_count": 194,
   "metadata": {},
   "outputs": [
    {
     "data": {
      "text/plain": [
       "array([ 0.15021441,  3.31760113, -6.05196782,  0.71514648,  1.07823533,\n",
       "       -3.35485211,  6.93301971,  0.32550944])"
      ]
     },
     "execution_count": 194,
     "metadata": {},
     "output_type": "execute_result"
    }
   ],
   "source": [
    "arr"
   ]
  },
  {
   "cell_type": "code",
   "execution_count": 195,
   "metadata": {},
   "outputs": [
    {
     "name": "stderr",
     "output_type": "stream",
     "text": [
      "C:\\Users\\ABC\\anaconda3\\lib\\site-packages\\ipykernel_launcher.py:1: RuntimeWarning: invalid value encountered in sqrt\n",
      "  \"\"\"Entry point for launching an IPython kernel.\n"
     ]
    },
    {
     "data": {
      "text/plain": [
       "array([0.38757504, 1.82142832,        nan, 0.84566334, 1.03838111,\n",
       "              nan, 2.6330628 , 0.57053434])"
      ]
     },
     "execution_count": 195,
     "metadata": {},
     "output_type": "execute_result"
    }
   ],
   "source": [
    "np.sqrt(arr) #Compute the square root of each element (equivalent to arr ** 0.5)"
   ]
  },
  {
   "cell_type": "code",
   "execution_count": 196,
   "metadata": {},
   "outputs": [
    {
     "name": "stderr",
     "output_type": "stream",
     "text": [
      "C:\\Users\\ABC\\anaconda3\\lib\\site-packages\\ipykernel_launcher.py:1: RuntimeWarning: invalid value encountered in sqrt\n",
      "  \"\"\"Entry point for launching an IPython kernel.\n"
     ]
    },
    {
     "data": {
      "text/plain": [
       "array([0.38757504, 1.82142832,        nan, 0.84566334, 1.03838111,\n",
       "              nan, 2.6330628 , 0.57053434])"
      ]
     },
     "execution_count": 196,
     "metadata": {},
     "output_type": "execute_result"
    }
   ],
   "source": [
    "np.sqrt(arr, arr)"
   ]
  },
  {
   "cell_type": "code",
   "execution_count": 197,
   "metadata": {},
   "outputs": [],
   "source": [
    "arr = np.arange(15)"
   ]
  },
  {
   "cell_type": "code",
   "execution_count": 198,
   "metadata": {},
   "outputs": [
    {
     "name": "stderr",
     "output_type": "stream",
     "text": [
      "C:\\Users\\ABC\\anaconda3\\lib\\site-packages\\ipykernel_launcher.py:1: RuntimeWarning: divide by zero encountered in log\n",
      "  \"\"\"Entry point for launching an IPython kernel.\n"
     ]
    },
    {
     "data": {
      "text/plain": [
       "array([      -inf, 0.        , 0.69314718, 1.09861229, 1.38629436,\n",
       "       1.60943791, 1.79175947, 1.94591015, 2.07944154, 2.19722458,\n",
       "       2.30258509, 2.39789527, 2.48490665, 2.56494936, 2.63905733])"
      ]
     },
     "execution_count": 198,
     "metadata": {},
     "output_type": "execute_result"
    }
   ],
   "source": [
    "np.log(arr) #Natural logarithm (base e)"
   ]
  },
  {
   "cell_type": "code",
   "execution_count": 199,
   "metadata": {},
   "outputs": [
    {
     "data": {
      "text/plain": [
       "array([1.00000000e+00, 2.71828183e+00, 7.38905610e+00, 2.00855369e+01,\n",
       "       5.45981500e+01, 1.48413159e+02, 4.03428793e+02, 1.09663316e+03,\n",
       "       2.98095799e+03, 8.10308393e+03, 2.20264658e+04, 5.98741417e+04,\n",
       "       1.62754791e+05, 4.42413392e+05, 1.20260428e+06])"
      ]
     },
     "execution_count": 199,
     "metadata": {},
     "output_type": "execute_result"
    }
   ],
   "source": [
    "np.exp(arr) #Compute the exponent exp of each element"
   ]
  },
  {
   "cell_type": "code",
   "execution_count": 200,
   "metadata": {},
   "outputs": [],
   "source": [
    "arr[4] = -1"
   ]
  },
  {
   "cell_type": "code",
   "execution_count": 201,
   "metadata": {},
   "outputs": [
    {
     "data": {
      "text/plain": [
       "array([ 0,  1,  2,  3, -1,  5,  6,  7,  8,  9, 10, 11, 12, 13, 14])"
      ]
     },
     "execution_count": 201,
     "metadata": {},
     "output_type": "execute_result"
    }
   ],
   "source": [
    "arr"
   ]
  },
  {
   "cell_type": "code",
   "execution_count": 202,
   "metadata": {},
   "outputs": [
    {
     "data": {
      "text/plain": [
       "array([ 0,  1,  1,  1, -1,  1,  1,  1,  1,  1,  1,  1,  1,  1,  1])"
      ]
     },
     "execution_count": 202,
     "metadata": {},
     "output_type": "execute_result"
    }
   ],
   "source": [
    "np.sign(arr) #Compute the sign of each element: 1 (positive), 0 (zero), or –1 (negative)"
   ]
  },
  {
   "cell_type": "code",
   "execution_count": 203,
   "metadata": {},
   "outputs": [
    {
     "data": {
      "text/plain": [
       "array([ 0,  1,  2,  3, -1,  5,  6,  7,  8,  9, 10, 11, 12, 13, 14])"
      ]
     },
     "execution_count": 203,
     "metadata": {},
     "output_type": "execute_result"
    }
   ],
   "source": [
    "arr"
   ]
  },
  {
   "cell_type": "code",
   "execution_count": 204,
   "metadata": {},
   "outputs": [],
   "source": [
    "arr = np.array([2, 5.68, 2.0003, 7, -85.36, 985.99, 100.54])"
   ]
  },
  {
   "cell_type": "code",
   "execution_count": 205,
   "metadata": {},
   "outputs": [
    {
     "data": {
      "text/plain": [
       "array([  2.    ,   5.68  ,   2.0003,   7.    , -85.36  , 985.99  ,\n",
       "       100.54  ])"
      ]
     },
     "execution_count": 205,
     "metadata": {},
     "output_type": "execute_result"
    }
   ],
   "source": [
    "arr"
   ]
  },
  {
   "cell_type": "code",
   "execution_count": 206,
   "metadata": {},
   "outputs": [
    {
     "data": {
      "text/plain": [
       "array([  2.,   6.,   3.,   7., -85., 986., 101.])"
      ]
     },
     "execution_count": 206,
     "metadata": {},
     "output_type": "execute_result"
    }
   ],
   "source": [
    "np.ceil(arr) #Compute the ceiling of each element (i.e., the smallest integer greater than or equal to that number)"
   ]
  },
  {
   "cell_type": "code",
   "execution_count": 207,
   "metadata": {},
   "outputs": [
    {
     "data": {
      "text/plain": [
       "array([  2.,   5.,   2.,   7., -86., 985., 100.])"
      ]
     },
     "execution_count": 207,
     "metadata": {},
     "output_type": "execute_result"
    }
   ],
   "source": [
    "np.floor(arr) #Compute the foor of each element (i.e., the largest integer less than or equal to each element)"
   ]
  },
  {
   "cell_type": "code",
   "execution_count": 208,
   "metadata": {},
   "outputs": [
    {
     "data": {
      "text/plain": [
       "array([  2.,   6.,   2.,   7., -85., 986., 101.])"
      ]
     },
     "execution_count": 208,
     "metadata": {},
     "output_type": "execute_result"
    }
   ],
   "source": [
    "np.rint(arr) #Round elements to the nearest integer, preserving the dtype"
   ]
  },
  {
   "cell_type": "code",
   "execution_count": 209,
   "metadata": {},
   "outputs": [],
   "source": [
    "arr = np.array([5, 2.30, 87, np.nan])"
   ]
  },
  {
   "cell_type": "code",
   "execution_count": 210,
   "metadata": {},
   "outputs": [
    {
     "data": {
      "text/plain": [
       "array([ 5. ,  2.3, 87. ,  nan])"
      ]
     },
     "execution_count": 210,
     "metadata": {},
     "output_type": "execute_result"
    }
   ],
   "source": [
    "arr"
   ]
  },
  {
   "cell_type": "code",
   "execution_count": 211,
   "metadata": {},
   "outputs": [
    {
     "data": {
      "text/plain": [
       "array([ 5. ,  2.3, 87. ])"
      ]
     },
     "execution_count": 211,
     "metadata": {},
     "output_type": "execute_result"
    }
   ],
   "source": [
    "arr[np.isfinite(arr)]"
   ]
  },
  {
   "cell_type": "code",
   "execution_count": 212,
   "metadata": {},
   "outputs": [
    {
     "data": {
      "text/plain": [
       "array([nan])"
      ]
     },
     "execution_count": 212,
     "metadata": {},
     "output_type": "execute_result"
    }
   ],
   "source": [
    "arr[np.isnan(arr)]"
   ]
  },
  {
   "cell_type": "markdown",
   "metadata": {},
   "source": [
    "*See Table 4-3 (Unary ufuncs) and 4-4 (Binary ufuncs) for a listing of available ufuncs.*\n",
    "\n",
    "![Unary ufuncs](Img/4.3.png)"
   ]
  },
  {
   "cell_type": "markdown",
   "metadata": {},
   "source": [
    "![Binary ufuncs](Img/4.4a.png)"
   ]
  },
  {
   "cell_type": "markdown",
   "metadata": {},
   "source": [
    "![Binary ufuncs](Img/4.4b.png)"
   ]
  },
  {
   "cell_type": "markdown",
   "metadata": {},
   "source": [
    "# 4.3 Array-Oriented Programming with Arrays"
   ]
  },
  {
   "cell_type": "markdown",
   "metadata": {},
   "source": [
    "The practice of replacing explicit loops with array expressions is commonly referred to as vectorization"
   ]
  },
  {
   "cell_type": "code",
   "execution_count": 213,
   "metadata": {},
   "outputs": [],
   "source": [
    "points = np.arange(-5, 5, 0.1)"
   ]
  },
  {
   "cell_type": "code",
   "execution_count": 214,
   "metadata": {},
   "outputs": [
    {
     "data": {
      "text/plain": [
       "array([-5.00000000e+00, -4.90000000e+00, -4.80000000e+00, -4.70000000e+00,\n",
       "       -4.60000000e+00, -4.50000000e+00, -4.40000000e+00, -4.30000000e+00,\n",
       "       -4.20000000e+00, -4.10000000e+00, -4.00000000e+00, -3.90000000e+00,\n",
       "       -3.80000000e+00, -3.70000000e+00, -3.60000000e+00, -3.50000000e+00,\n",
       "       -3.40000000e+00, -3.30000000e+00, -3.20000000e+00, -3.10000000e+00,\n",
       "       -3.00000000e+00, -2.90000000e+00, -2.80000000e+00, -2.70000000e+00,\n",
       "       -2.60000000e+00, -2.50000000e+00, -2.40000000e+00, -2.30000000e+00,\n",
       "       -2.20000000e+00, -2.10000000e+00, -2.00000000e+00, -1.90000000e+00,\n",
       "       -1.80000000e+00, -1.70000000e+00, -1.60000000e+00, -1.50000000e+00,\n",
       "       -1.40000000e+00, -1.30000000e+00, -1.20000000e+00, -1.10000000e+00,\n",
       "       -1.00000000e+00, -9.00000000e-01, -8.00000000e-01, -7.00000000e-01,\n",
       "       -6.00000000e-01, -5.00000000e-01, -4.00000000e-01, -3.00000000e-01,\n",
       "       -2.00000000e-01, -1.00000000e-01, -1.77635684e-14,  1.00000000e-01,\n",
       "        2.00000000e-01,  3.00000000e-01,  4.00000000e-01,  5.00000000e-01,\n",
       "        6.00000000e-01,  7.00000000e-01,  8.00000000e-01,  9.00000000e-01,\n",
       "        1.00000000e+00,  1.10000000e+00,  1.20000000e+00,  1.30000000e+00,\n",
       "        1.40000000e+00,  1.50000000e+00,  1.60000000e+00,  1.70000000e+00,\n",
       "        1.80000000e+00,  1.90000000e+00,  2.00000000e+00,  2.10000000e+00,\n",
       "        2.20000000e+00,  2.30000000e+00,  2.40000000e+00,  2.50000000e+00,\n",
       "        2.60000000e+00,  2.70000000e+00,  2.80000000e+00,  2.90000000e+00,\n",
       "        3.00000000e+00,  3.10000000e+00,  3.20000000e+00,  3.30000000e+00,\n",
       "        3.40000000e+00,  3.50000000e+00,  3.60000000e+00,  3.70000000e+00,\n",
       "        3.80000000e+00,  3.90000000e+00,  4.00000000e+00,  4.10000000e+00,\n",
       "        4.20000000e+00,  4.30000000e+00,  4.40000000e+00,  4.50000000e+00,\n",
       "        4.60000000e+00,  4.70000000e+00,  4.80000000e+00,  4.90000000e+00])"
      ]
     },
     "execution_count": 214,
     "metadata": {},
     "output_type": "execute_result"
    }
   ],
   "source": [
    "points"
   ]
  },
  {
   "cell_type": "code",
   "execution_count": 215,
   "metadata": {},
   "outputs": [
    {
     "data": {
      "text/plain": [
       "(100,)"
      ]
     },
     "execution_count": 215,
     "metadata": {},
     "output_type": "execute_result"
    }
   ],
   "source": [
    "points.shape"
   ]
  },
  {
   "cell_type": "code",
   "execution_count": 216,
   "metadata": {},
   "outputs": [],
   "source": [
    "#The np.meshgrid function takes two 1D arrays and produces two 2D matrices\n",
    "xs, ys = np.meshgrid(points, points)"
   ]
  },
  {
   "cell_type": "code",
   "execution_count": 217,
   "metadata": {},
   "outputs": [
    {
     "name": "stdout",
     "output_type": "stream",
     "text": [
      "(100, 100)\n"
     ]
    },
    {
     "data": {
      "text/plain": [
       "array([[-5. , -4.9, -4.8, ...,  4.7,  4.8,  4.9],\n",
       "       [-5. , -4.9, -4.8, ...,  4.7,  4.8,  4.9],\n",
       "       [-5. , -4.9, -4.8, ...,  4.7,  4.8,  4.9],\n",
       "       ...,\n",
       "       [-5. , -4.9, -4.8, ...,  4.7,  4.8,  4.9],\n",
       "       [-5. , -4.9, -4.8, ...,  4.7,  4.8,  4.9],\n",
       "       [-5. , -4.9, -4.8, ...,  4.7,  4.8,  4.9]])"
      ]
     },
     "execution_count": 217,
     "metadata": {},
     "output_type": "execute_result"
    }
   ],
   "source": [
    "print(xs.shape)\n",
    "xs"
   ]
  },
  {
   "cell_type": "code",
   "execution_count": 218,
   "metadata": {},
   "outputs": [
    {
     "name": "stdout",
     "output_type": "stream",
     "text": [
      "(100, 100)\n"
     ]
    },
    {
     "data": {
      "text/plain": [
       "array([[-5. , -5. , -5. , ..., -5. , -5. , -5. ],\n",
       "       [-4.9, -4.9, -4.9, ..., -4.9, -4.9, -4.9],\n",
       "       [-4.8, -4.8, -4.8, ..., -4.8, -4.8, -4.8],\n",
       "       ...,\n",
       "       [ 4.7,  4.7,  4.7, ...,  4.7,  4.7,  4.7],\n",
       "       [ 4.8,  4.8,  4.8, ...,  4.8,  4.8,  4.8],\n",
       "       [ 4.9,  4.9,  4.9, ...,  4.9,  4.9,  4.9]])"
      ]
     },
     "execution_count": 218,
     "metadata": {},
     "output_type": "execute_result"
    }
   ],
   "source": [
    "print(ys.shape)\n",
    "ys"
   ]
  },
  {
   "cell_type": "code",
   "execution_count": 219,
   "metadata": {},
   "outputs": [],
   "source": [
    "#Evaluating z = sqrt(x^2 + y^2)"
   ]
  },
  {
   "cell_type": "code",
   "execution_count": 220,
   "metadata": {},
   "outputs": [],
   "source": [
    "z = np.sqrt(xs**2 + ys**2)"
   ]
  },
  {
   "cell_type": "code",
   "execution_count": 221,
   "metadata": {},
   "outputs": [
    {
     "data": {
      "text/plain": [
       "array([[7.07106781, 7.00071425, 6.93108938, ..., 6.86221539, 6.93108938,\n",
       "        7.00071425],\n",
       "       [7.00071425, 6.92964646, 6.85930026, ..., 6.78969808, 6.85930026,\n",
       "        6.92964646],\n",
       "       [6.93108938, 6.85930026, 6.7882251 , ..., 6.71788657, 6.7882251 ,\n",
       "        6.85930026],\n",
       "       ...,\n",
       "       [6.86221539, 6.78969808, 6.71788657, ..., 6.64680374, 6.71788657,\n",
       "        6.78969808],\n",
       "       [6.93108938, 6.85930026, 6.7882251 , ..., 6.71788657, 6.7882251 ,\n",
       "        6.85930026],\n",
       "       [7.00071425, 6.92964646, 6.85930026, ..., 6.78969808, 6.85930026,\n",
       "        6.92964646]])"
      ]
     },
     "execution_count": 221,
     "metadata": {},
     "output_type": "execute_result"
    }
   ],
   "source": [
    "z"
   ]
  },
  {
   "cell_type": "code",
   "execution_count": 222,
   "metadata": {},
   "outputs": [],
   "source": [
    "import matplotlib.pyplot as plt\n",
    "%matplotlib inline"
   ]
  },
  {
   "cell_type": "code",
   "execution_count": 223,
   "metadata": {},
   "outputs": [
    {
     "data": {
      "text/plain": [
       "Text(0.5, 1.0, 'Image Plot of $\\\\sqrt{x^2 + y^2}$ for grid values')"
      ]
     },
     "execution_count": 223,
     "metadata": {},
     "output_type": "execute_result"
    },
    {
     "data": {
      "image/png": "[encoded data removed]",
      "text/plain": [
       "<Figure size 432x288 with 2 Axes>"
      ]
     },
     "metadata": {
      "needs_background": "light"
     },
     "output_type": "display_data"
    }
   ],
   "source": [
    "plt.imshow(z, cmap=plt.cm.gray);\n",
    "plt.colorbar()\n",
    "plt.title(\"Image Plot of $\\sqrt{x^2 + y^2}$ for grid values\")"
   ]
  },
  {
   "cell_type": "markdown",
   "metadata": {},
   "source": [
    "## Expressing Conditional Logic as Array Operations"
   ]
  },
  {
   "cell_type": "code",
   "execution_count": 224,
   "metadata": {},
   "outputs": [
    {
     "data": {
      "text/plain": [
       "array([1.1, 1.2, 1.3, 1.4, 1.5])"
      ]
     },
     "execution_count": 224,
     "metadata": {},
     "output_type": "execute_result"
    }
   ],
   "source": [
    "xarr = np.array([1.1, 1.2, 1.3, 1.4, 1.5])\n",
    "xarr"
   ]
  },
  {
   "cell_type": "code",
   "execution_count": 225,
   "metadata": {},
   "outputs": [
    {
     "data": {
      "text/plain": [
       "array([2.1, 2.2, 2.3, 2.4, 2.5])"
      ]
     },
     "execution_count": 225,
     "metadata": {},
     "output_type": "execute_result"
    }
   ],
   "source": [
    "yarr = np.array([2.1, 2.2, 2.3, 2.4, 2.5])\n",
    "yarr"
   ]
  },
  {
   "cell_type": "code",
   "execution_count": 226,
   "metadata": {},
   "outputs": [
    {
     "data": {
      "text/plain": [
       "array([ True, False,  True, False,  True])"
      ]
     },
     "execution_count": 226,
     "metadata": {},
     "output_type": "execute_result"
    }
   ],
   "source": [
    "cond = np.array([True, False, True, False, True])\n",
    "cond"
   ]
  },
  {
   "cell_type": "code",
   "execution_count": 227,
   "metadata": {},
   "outputs": [
    {
     "data": {
      "text/plain": [
       "[1.1, 2.2, 1.3, 2.4, 1.5]"
      ]
     },
     "execution_count": 227,
     "metadata": {},
     "output_type": "execute_result"
    }
   ],
   "source": [
    "[x if cond else y for x, y, cond in zip(xarr, yarr, cond)]"
   ]
  },
  {
   "cell_type": "markdown",
   "metadata": {},
   "source": [
    "The above code will not be fit for large and multidimensional arrays. So:"
   ]
  },
  {
   "cell_type": "code",
   "execution_count": 228,
   "metadata": {},
   "outputs": [
    {
     "data": {
      "text/plain": [
       "array([1.1, 2.2, 1.3, 2.4, 1.5])"
      ]
     },
     "execution_count": 228,
     "metadata": {},
     "output_type": "execute_result"
    }
   ],
   "source": [
    "np.where(cond, xarr, yarr) #(condition, conditionTrue, conditionFalse)"
   ]
  },
  {
   "cell_type": "code",
   "execution_count": 229,
   "metadata": {},
   "outputs": [],
   "source": [
    "arr = np.random.randn(4,4)"
   ]
  },
  {
   "cell_type": "code",
   "execution_count": 230,
   "metadata": {},
   "outputs": [
    {
     "data": {
      "text/plain": [
       "array([[ 1.20934208,  0.24093046, -2.37198686,  0.08407902],\n",
       "       [ 0.68603202, -0.79502639,  1.52113355,  0.41322676],\n",
       "       [-0.6470193 ,  0.66342457,  1.19943647, -0.26520722],\n",
       "       [-0.64777439,  0.01709035,  0.91827106, -0.13929   ]])"
      ]
     },
     "execution_count": 230,
     "metadata": {},
     "output_type": "execute_result"
    }
   ],
   "source": [
    "arr"
   ]
  },
  {
   "cell_type": "code",
   "execution_count": 231,
   "metadata": {},
   "outputs": [
    {
     "data": {
      "text/plain": [
       "array([[ 1,  1, -1,  1],\n",
       "       [ 1, -1,  1,  1],\n",
       "       [-1,  1,  1, -1],\n",
       "       [-1,  1,  1, -1]])"
      ]
     },
     "execution_count": 231,
     "metadata": {},
     "output_type": "execute_result"
    }
   ],
   "source": [
    "np.where(arr>0, 1, -1)"
   ]
  },
  {
   "cell_type": "code",
   "execution_count": 232,
   "metadata": {},
   "outputs": [
    {
     "data": {
      "text/plain": [
       "array([[ 0.        ,  0.        , -2.37198686,  0.        ],\n",
       "       [ 0.        , -0.79502639,  0.        ,  0.        ],\n",
       "       [-0.6470193 ,  0.        ,  0.        , -0.26520722],\n",
       "       [-0.64777439,  0.        ,  0.        , -0.13929   ]])"
      ]
     },
     "execution_count": 232,
     "metadata": {},
     "output_type": "execute_result"
    }
   ],
   "source": [
    "np.where(arr >0, 0, arr)"
   ]
  },
  {
   "cell_type": "markdown",
   "metadata": {},
   "source": [
    "## Mathematical and Statistical Methods"
   ]
  },
  {
   "cell_type": "code",
   "execution_count": 233,
   "metadata": {},
   "outputs": [],
   "source": [
    "arr = np.random.randn(5, 5)"
   ]
  },
  {
   "cell_type": "code",
   "execution_count": 234,
   "metadata": {},
   "outputs": [
    {
     "data": {
      "text/plain": [
       "array([[ 2.6920922 ,  0.17151197, -0.53823396,  0.98938877, -2.08698256],\n",
       "       [-1.56961471,  0.00880806, -0.32971894, -0.45538972,  0.44656473],\n",
       "       [-0.02045842,  0.50244895,  0.68304603, -0.98862812,  0.52998557],\n",
       "       [-0.42432717,  2.38571535, -1.03590573,  1.11158292, -0.77725367],\n",
       "       [-1.07759722, -0.19776991, -0.87119018,  0.65772865, -0.57397357]])"
      ]
     },
     "execution_count": 234,
     "metadata": {},
     "output_type": "execute_result"
    }
   ],
   "source": [
    "arr"
   ]
  },
  {
   "cell_type": "code",
   "execution_count": 235,
   "metadata": {},
   "outputs": [
    {
     "data": {
      "text/plain": [
       "-0.030726828141366763"
      ]
     },
     "execution_count": 235,
     "metadata": {},
     "output_type": "execute_result"
    }
   ],
   "source": [
    "arr.mean()"
   ]
  },
  {
   "cell_type": "code",
   "execution_count": 236,
   "metadata": {},
   "outputs": [
    {
     "data": {
      "text/plain": [
       "array([-0.07998107,  0.57414288, -0.41840056,  0.2629365 , -0.4923319 ])"
      ]
     },
     "execution_count": 236,
     "metadata": {},
     "output_type": "execute_result"
    }
   ],
   "source": [
    "arr.mean(axis=0) #axis=0 -> “compute sum down the rows.”"
   ]
  },
  {
   "cell_type": "code",
   "execution_count": 237,
   "metadata": {},
   "outputs": [
    {
     "data": {
      "text/plain": [
       "array([ 0.24555528, -0.37987012,  0.1412788 ,  0.25196234, -0.41256045])"
      ]
     },
     "execution_count": 237,
     "metadata": {},
     "output_type": "execute_result"
    }
   ],
   "source": [
    "arr.mean(axis=1) #axis=1 ->  “compute mean across the columns” "
   ]
  },
  {
   "cell_type": "code",
   "execution_count": 238,
   "metadata": {},
   "outputs": [
    {
     "data": {
      "text/plain": [
       "-0.030726828141366763"
      ]
     },
     "execution_count": 238,
     "metadata": {},
     "output_type": "execute_result"
    }
   ],
   "source": [
    "np.mean(arr)"
   ]
  },
  {
   "cell_type": "code",
   "execution_count": 239,
   "metadata": {},
   "outputs": [
    {
     "data": {
      "text/plain": [
       "-0.768170703534169"
      ]
     },
     "execution_count": 239,
     "metadata": {},
     "output_type": "execute_result"
    }
   ],
   "source": [
    "np.sum(arr)"
   ]
  },
  {
   "cell_type": "code",
   "execution_count": 240,
   "metadata": {},
   "outputs": [
    {
     "data": {
      "text/plain": [
       "-0.768170703534169"
      ]
     },
     "execution_count": 240,
     "metadata": {},
     "output_type": "execute_result"
    }
   ],
   "source": [
    "arr.sum()"
   ]
  },
  {
   "cell_type": "code",
   "execution_count": 241,
   "metadata": {},
   "outputs": [
    {
     "data": {
      "text/plain": [
       "array([-0.39990533,  2.87071441, -2.09200278,  1.31468249, -2.4616595 ])"
      ]
     },
     "execution_count": 241,
     "metadata": {},
     "output_type": "execute_result"
    }
   ],
   "source": [
    "arr.sum(axis=0)"
   ]
  },
  {
   "cell_type": "code",
   "execution_count": 242,
   "metadata": {},
   "outputs": [
    {
     "data": {
      "text/plain": [
       "array([ 1.22777642, -1.89935058,  0.706394  ,  1.2598117 , -2.06280223])"
      ]
     },
     "execution_count": 242,
     "metadata": {},
     "output_type": "execute_result"
    }
   ],
   "source": [
    "arr.sum(axis=1)"
   ]
  },
  {
   "cell_type": "code",
   "execution_count": 243,
   "metadata": {},
   "outputs": [
    {
     "data": {
      "text/plain": [
       "array([ 2.6920922 ,  2.86360417,  2.32537021,  3.31475898,  1.22777642,\n",
       "       -0.3418383 , -0.33303024, -0.66274918, -1.11813889, -0.67157417,\n",
       "       -0.69203259, -0.18958365,  0.49346238, -0.49516574,  0.03481983,\n",
       "       -0.38950734,  1.99620801,  0.96030228,  2.0718852 ,  1.29463153,\n",
       "        0.21703431,  0.0192644 , -0.85192578, -0.19419713, -0.7681707 ])"
      ]
     },
     "execution_count": 243,
     "metadata": {},
     "output_type": "execute_result"
    }
   ],
   "source": [
    "arr.cumsum() #non-aggregating func, cumsum() -> cumulative sum"
   ]
  },
  {
   "cell_type": "code",
   "execution_count": 244,
   "metadata": {},
   "outputs": [
    {
     "data": {
      "text/plain": [
       "array([ 2.69209220e+00,  4.61726030e-01, -2.48516630e-01, -2.45879562e-01,\n",
       "        5.13146357e-01, -8.05442072e-01, -7.09438023e-03,  2.33915151e-03,\n",
       "       -1.06522554e-03, -4.75692152e-04,  9.73191217e-06,  4.88978903e-06,\n",
       "        3.33995097e-06, -3.30196945e-06, -1.74999617e-06,  7.42570928e-07,\n",
       "        1.77156286e-06, -1.83517211e-06, -2.03994597e-06,  1.58555549e-06,\n",
       "       -1.70859019e-06,  3.37907723e-07, -2.94381892e-07, -1.93623403e-07,\n",
       "        1.11134716e-07])"
      ]
     },
     "execution_count": 244,
     "metadata": {},
     "output_type": "execute_result"
    }
   ],
   "source": [
    "arr.cumprod() #cumprod() -> cumulative prod"
   ]
  },
  {
   "cell_type": "markdown",
   "metadata": {},
   "source": [
    "*See Table 4-5. Basic array statistical methods*\n",
    "\n",
    "![Basic array statistical methods](Img/4.5.png)"
   ]
  },
  {
   "cell_type": "code",
   "execution_count": 245,
   "metadata": {},
   "outputs": [
    {
     "data": {
      "text/plain": [
       "array([[ 0,  1,  2,  3,  4],\n",
       "       [ 5,  6,  7,  8,  9],\n",
       "       [10, 11, 12, 13, 14],\n",
       "       [15, 16, 17, 18, 19],\n",
       "       [20, 21, 22, 23, 24]])"
      ]
     },
     "execution_count": 245,
     "metadata": {},
     "output_type": "execute_result"
    }
   ],
   "source": [
    "arr = np.arange(25).reshape(5, 5)\n",
    "arr"
   ]
  },
  {
   "cell_type": "code",
   "execution_count": 246,
   "metadata": {},
   "outputs": [
    {
     "data": {
      "text/plain": [
       "array([[ 0,  1,  2,  3,  4],\n",
       "       [ 5,  7,  9, 11, 13],\n",
       "       [15, 18, 21, 24, 27],\n",
       "       [30, 34, 38, 42, 46],\n",
       "       [50, 55, 60, 65, 70]], dtype=int32)"
      ]
     },
     "execution_count": 246,
     "metadata": {},
     "output_type": "execute_result"
    }
   ],
   "source": [
    "arr.cumsum(axis=0) #down the rows"
   ]
  },
  {
   "cell_type": "code",
   "execution_count": 247,
   "metadata": {},
   "outputs": [
    {
     "data": {
      "text/plain": [
       "array([[  0,   1,   3,   6,  10],\n",
       "       [  5,  11,  18,  26,  35],\n",
       "       [ 10,  21,  33,  46,  60],\n",
       "       [ 15,  31,  48,  66,  85],\n",
       "       [ 20,  41,  63,  86, 110]], dtype=int32)"
      ]
     },
     "execution_count": 247,
     "metadata": {},
     "output_type": "execute_result"
    }
   ],
   "source": [
    "arr.cumsum(axis=1) #across the columns"
   ]
  },
  {
   "cell_type": "code",
   "execution_count": 248,
   "metadata": {},
   "outputs": [
    {
     "data": {
      "text/plain": [
       "array([[      0,       0,       0,       0,       0],\n",
       "       [      5,      30,     210,    1680,   15120],\n",
       "       [     10,     110,    1320,   17160,  240240],\n",
       "       [     15,     240,    4080,   73440, 1395360],\n",
       "       [     20,     420,    9240,  212520, 5100480]], dtype=int32)"
      ]
     },
     "execution_count": 248,
     "metadata": {},
     "output_type": "execute_result"
    }
   ],
   "source": [
    "arr.cumprod(axis=1)"
   ]
  },
  {
   "cell_type": "code",
   "execution_count": 249,
   "metadata": {},
   "outputs": [
    {
     "data": {
      "text/plain": [
       "array([[     0,      1,      2,      3,      4],\n",
       "       [     0,      6,     14,     24,     36],\n",
       "       [     0,     66,    168,    312,    504],\n",
       "       [     0,   1056,   2856,   5616,   9576],\n",
       "       [     0,  22176,  62832, 129168, 229824]], dtype=int32)"
      ]
     },
     "execution_count": 249,
     "metadata": {},
     "output_type": "execute_result"
    }
   ],
   "source": [
    "arr.cumprod(axis=0)"
   ]
  },
  {
   "cell_type": "code",
   "execution_count": 250,
   "metadata": {},
   "outputs": [
    {
     "data": {
      "text/plain": [
       "array([[ 0,  1,  2,  3,  4],\n",
       "       [ 5,  6,  7,  8,  9],\n",
       "       [10, 11, 12, 13, 14],\n",
       "       [15, 16, 17, 18, 19],\n",
       "       [20, 21, 22, 23, 24]])"
      ]
     },
     "execution_count": 250,
     "metadata": {},
     "output_type": "execute_result"
    }
   ],
   "source": [
    "arr"
   ]
  },
  {
   "cell_type": "code",
   "execution_count": 251,
   "metadata": {},
   "outputs": [
    {
     "data": {
      "text/plain": [
       "array([0, 1, 2, 3, 4])"
      ]
     },
     "execution_count": 251,
     "metadata": {},
     "output_type": "execute_result"
    }
   ],
   "source": [
    "arr.min(axis=0)"
   ]
  },
  {
   "cell_type": "code",
   "execution_count": 252,
   "metadata": {},
   "outputs": [
    {
     "data": {
      "text/plain": [
       "array([ 4,  9, 14, 19, 24])"
      ]
     },
     "execution_count": 252,
     "metadata": {},
     "output_type": "execute_result"
    }
   ],
   "source": [
    "arr.max(axis=1)"
   ]
  },
  {
   "cell_type": "code",
   "execution_count": 253,
   "metadata": {},
   "outputs": [
    {
     "data": {
      "text/plain": [
       "array([0, 0, 0, 0, 0], dtype=int64)"
      ]
     },
     "execution_count": 253,
     "metadata": {},
     "output_type": "execute_result"
    }
   ],
   "source": [
    "arr.argmin(axis=0)"
   ]
  },
  {
   "cell_type": "code",
   "execution_count": 254,
   "metadata": {},
   "outputs": [
    {
     "data": {
      "text/plain": [
       "array([4, 4, 4, 4, 4], dtype=int64)"
      ]
     },
     "execution_count": 254,
     "metadata": {},
     "output_type": "execute_result"
    }
   ],
   "source": [
    "arr.argmax(axis=1)"
   ]
  },
  {
   "cell_type": "markdown",
   "metadata": {},
   "source": [
    "## Methods for Boolean Arrays"
   ]
  },
  {
   "cell_type": "code",
   "execution_count": 255,
   "metadata": {},
   "outputs": [],
   "source": [
    "arr = np.random.randn(100)"
   ]
  },
  {
   "cell_type": "code",
   "execution_count": 256,
   "metadata": {},
   "outputs": [
    {
     "data": {
      "text/plain": [
       "array([-0.65434795, -1.13293941, -0.44922047,  1.93076667,  0.23894357,\n",
       "        1.44530102,  2.07473441, -1.14015798,  0.99078037,  0.73131191,\n",
       "        1.10943077,  1.80270528,  1.18627466, -0.40718143,  0.31570903,\n",
       "        1.00873266,  0.30838972,  0.96245167, -1.01192019,  0.35021278,\n",
       "       -0.42539258,  0.36752144, -0.50121542, -0.85717816,  1.43423521,\n",
       "        0.56597655,  1.43785041, -0.00635522,  0.43477711, -1.31705882,\n",
       "        0.80192261,  0.17596933,  0.88356225, -1.67074492,  2.58063491,\n",
       "       -0.21030565, -1.16784971,  0.62856781,  1.08507433, -0.37042102,\n",
       "        0.4003693 , -1.13948516,  1.78640713,  0.18145189,  0.1906817 ,\n",
       "        0.27989005,  0.50934487,  0.64339719, -0.93535433, -0.66891426,\n",
       "        1.36841642,  0.27380033, -1.2531544 ,  1.842013  ,  1.39046044,\n",
       "        1.05799259, -1.0651003 , -0.03681432, -0.59922734, -2.09479422,\n",
       "        0.92396158, -1.32122238, -1.64224406,  0.61201995,  0.59282002,\n",
       "       -1.26973784,  0.76828907, -0.57627158,  0.20045075, -0.10001936,\n",
       "        0.40410621,  1.93196172, -1.96185804, -0.43168556,  0.13651449,\n",
       "        0.11298469, -1.38854232, -0.07780307,  0.09597008, -2.00195235,\n",
       "        0.11431732,  3.20136957, -0.61170984, -1.1724201 ,  1.92634498,\n",
       "        0.56304377,  0.36366451, -0.26217997,  0.96018299, -0.77513531,\n",
       "        0.37717726, -1.52019544, -2.60735685, -0.21560446, -0.46628771,\n",
       "        0.73475789,  1.03581435, -1.47483475, -0.86567893,  0.50594366])"
      ]
     },
     "execution_count": 256,
     "metadata": {},
     "output_type": "execute_result"
    }
   ],
   "source": [
    "arr"
   ]
  },
  {
   "cell_type": "code",
   "execution_count": 257,
   "metadata": {},
   "outputs": [
    {
     "data": {
      "text/plain": [
       "57"
      ]
     },
     "execution_count": 257,
     "metadata": {},
     "output_type": "execute_result"
    }
   ],
   "source": [
    "(arr > 0).sum()"
   ]
  },
  {
   "cell_type": "code",
   "execution_count": 258,
   "metadata": {},
   "outputs": [
    {
     "data": {
      "text/plain": [
       "57"
      ]
     },
     "execution_count": 258,
     "metadata": {},
     "output_type": "execute_result"
    }
   ],
   "source": [
    "len(arr[arr > 0])"
   ]
  },
  {
   "cell_type": "code",
   "execution_count": 259,
   "metadata": {},
   "outputs": [
    {
     "data": {
      "text/plain": [
       "True"
      ]
     },
     "execution_count": 259,
     "metadata": {},
     "output_type": "execute_result"
    }
   ],
   "source": [
    "(arr > 0).any() #checks if any value in array is True, returns True"
   ]
  },
  {
   "cell_type": "code",
   "execution_count": 260,
   "metadata": {},
   "outputs": [
    {
     "data": {
      "text/plain": [
       "False"
      ]
     },
     "execution_count": 260,
     "metadata": {},
     "output_type": "execute_result"
    }
   ],
   "source": [
    "(arr > 0).all() #checks if whether all values False or not, returns True if all values are True"
   ]
  },
  {
   "cell_type": "code",
   "execution_count": 261,
   "metadata": {},
   "outputs": [],
   "source": [
    "bools = np.array([True, True, np.nan, True])"
   ]
  },
  {
   "cell_type": "code",
   "execution_count": 262,
   "metadata": {},
   "outputs": [
    {
     "data": {
      "text/plain": [
       "True"
      ]
     },
     "execution_count": 262,
     "metadata": {},
     "output_type": "execute_result"
    }
   ],
   "source": [
    "bools.any()"
   ]
  },
  {
   "cell_type": "code",
   "execution_count": 263,
   "metadata": {},
   "outputs": [
    {
     "data": {
      "text/plain": [
       "True"
      ]
     },
     "execution_count": 263,
     "metadata": {},
     "output_type": "execute_result"
    }
   ],
   "source": [
    "bools.all() #Takes np.nan as True value"
   ]
  },
  {
   "cell_type": "markdown",
   "metadata": {},
   "source": [
    "## Sorting"
   ]
  },
  {
   "cell_type": "code",
   "execution_count": 264,
   "metadata": {},
   "outputs": [],
   "source": [
    "arr = np.random.randn(15)"
   ]
  },
  {
   "cell_type": "code",
   "execution_count": 265,
   "metadata": {},
   "outputs": [
    {
     "data": {
      "text/plain": [
       "array([ 0.03387559, -0.01438009, -1.77076366,  0.84820442,  2.69148638,\n",
       "        1.24011384, -0.06634311, -0.79124253,  0.02011782,  0.61270101,\n",
       "       -2.2991277 , -0.5066371 ,  0.15252935, -0.80430106,  2.33916997])"
      ]
     },
     "execution_count": 265,
     "metadata": {},
     "output_type": "execute_result"
    }
   ],
   "source": [
    "arr"
   ]
  },
  {
   "cell_type": "code",
   "execution_count": 266,
   "metadata": {},
   "outputs": [],
   "source": [
    "arr.sort()"
   ]
  },
  {
   "cell_type": "code",
   "execution_count": 267,
   "metadata": {},
   "outputs": [
    {
     "data": {
      "text/plain": [
       "array([-2.2991277 , -1.77076366, -0.80430106, -0.79124253, -0.5066371 ,\n",
       "       -0.06634311, -0.01438009,  0.02011782,  0.03387559,  0.15252935,\n",
       "        0.61270101,  0.84820442,  1.24011384,  2.33916997,  2.69148638])"
      ]
     },
     "execution_count": 267,
     "metadata": {},
     "output_type": "execute_result"
    }
   ],
   "source": [
    "arr"
   ]
  },
  {
   "cell_type": "markdown",
   "metadata": {},
   "source": [
    "Sorting each one-dimensional section of values in a multidimensional array inplace along an axis by passing the axis number to sort:"
   ]
  },
  {
   "cell_type": "code",
   "execution_count": 268,
   "metadata": {},
   "outputs": [],
   "source": [
    "arr = np.random.randn(5, 5)"
   ]
  },
  {
   "cell_type": "code",
   "execution_count": 269,
   "metadata": {},
   "outputs": [
    {
     "data": {
      "text/plain": [
       "array([[-1.05224892,  1.0588927 ,  1.73151333,  0.1201194 ,  0.20305645],\n",
       "       [-0.08079296, -0.9157025 ,  0.41773667,  1.70209844, -1.34453696],\n",
       "       [ 0.38691131, -0.64470301, -1.73364284,  2.48257403,  0.24281343],\n",
       "       [ 1.7476279 , -0.37077227,  0.73614948,  0.46646885,  0.60638026],\n",
       "       [ 0.66931118,  1.23217965,  0.02772894, -1.11782171,  0.24488869]])"
      ]
     },
     "execution_count": 269,
     "metadata": {},
     "output_type": "execute_result"
    }
   ],
   "source": [
    "arr"
   ]
  },
  {
   "cell_type": "code",
   "execution_count": 270,
   "metadata": {},
   "outputs": [],
   "source": [
    "arr.sort(axis=0)"
   ]
  },
  {
   "cell_type": "code",
   "execution_count": 271,
   "metadata": {},
   "outputs": [
    {
     "data": {
      "text/plain": [
       "array([[-1.05224892, -0.9157025 , -1.73364284, -1.11782171, -1.34453696],\n",
       "       [-0.08079296, -0.64470301,  0.02772894,  0.1201194 ,  0.20305645],\n",
       "       [ 0.38691131, -0.37077227,  0.41773667,  0.46646885,  0.24281343],\n",
       "       [ 0.66931118,  1.0588927 ,  0.73614948,  1.70209844,  0.24488869],\n",
       "       [ 1.7476279 ,  1.23217965,  1.73151333,  2.48257403,  0.60638026]])"
      ]
     },
     "execution_count": 271,
     "metadata": {},
     "output_type": "execute_result"
    }
   ],
   "source": [
    "arr"
   ]
  },
  {
   "cell_type": "code",
   "execution_count": 272,
   "metadata": {},
   "outputs": [],
   "source": [
    "arr.sort(axis=1)"
   ]
  },
  {
   "cell_type": "code",
   "execution_count": 273,
   "metadata": {},
   "outputs": [
    {
     "data": {
      "text/plain": [
       "array([[-1.73364284, -1.34453696, -1.11782171, -1.05224892, -0.9157025 ],\n",
       "       [-0.64470301, -0.08079296,  0.02772894,  0.1201194 ,  0.20305645],\n",
       "       [-0.37077227,  0.24281343,  0.38691131,  0.41773667,  0.46646885],\n",
       "       [ 0.24488869,  0.66931118,  0.73614948,  1.0588927 ,  1.70209844],\n",
       "       [ 0.60638026,  1.23217965,  1.73151333,  1.7476279 ,  2.48257403]])"
      ]
     },
     "execution_count": 273,
     "metadata": {},
     "output_type": "execute_result"
    }
   ],
   "source": [
    "arr"
   ]
  },
  {
   "cell_type": "code",
   "execution_count": 274,
   "metadata": {},
   "outputs": [],
   "source": [
    "arr = np.random.randn(5, 5)"
   ]
  },
  {
   "cell_type": "code",
   "execution_count": 275,
   "metadata": {},
   "outputs": [
    {
     "data": {
      "text/plain": [
       "array([[-0.24520506,  0.04048326,  0.58089477,  0.85733826,  1.67290912],\n",
       "       [-0.98879059,  0.00264333,  0.0293478 ,  0.57322296,  2.23083411],\n",
       "       [-1.59747076, -0.58682213, -0.24483093,  1.69307483,  1.81249252],\n",
       "       [-0.84013816, -0.29654607, -0.16856021,  0.28827323,  1.2100032 ],\n",
       "       [-0.65113923, -0.642761  , -0.36741751, -0.28403661,  2.22548788]])"
      ]
     },
     "execution_count": 275,
     "metadata": {},
     "output_type": "execute_result"
    }
   ],
   "source": [
    "arr.sort()\n",
    "arr"
   ]
  },
  {
   "cell_type": "code",
   "execution_count": 276,
   "metadata": {},
   "outputs": [],
   "source": [
    "arr = np.random.randn(1000)"
   ]
  },
  {
   "cell_type": "code",
   "execution_count": 277,
   "metadata": {},
   "outputs": [
    {
     "data": {
      "text/plain": [
       "array([ 5.74165689e-01,  5.10776692e-01,  3.29073330e-01,  7.24874816e-01,\n",
       "       -1.03974961e+00, -1.10796729e+00, -1.06917939e+00, -2.25250783e+00,\n",
       "       -1.19883319e+00,  1.72785067e+00,  4.62776686e-02,  1.40054789e+00,\n",
       "       -8.27462062e-01,  1.23548946e+00, -1.04038239e+00,  7.57034020e-01,\n",
       "       -5.95455483e-03, -9.28632079e-01,  8.48457708e-01,  1.34269506e+00,\n",
       "       -3.78461697e-03, -1.04481310e+00,  1.82272467e+00, -3.05710840e-01,\n",
       "        3.42276072e-01, -5.30856860e-01, -4.78724538e-01, -2.68422213e-01,\n",
       "        5.89592135e-01, -1.42358836e-01, -1.88236794e+00,  9.96643817e-01,\n",
       "        4.52046988e-01,  2.24897805e+00,  6.41765452e-01,  8.03438081e-01,\n",
       "       -4.00045170e-01,  1.39895670e+00,  1.48645346e+00,  1.47593622e-01,\n",
       "       -2.27593573e+00,  8.75089146e-02, -2.23604106e-01, -1.16083034e-01,\n",
       "        2.06435235e+00, -2.39159484e-01, -2.03096587e-01,  7.30108139e-01,\n",
       "        1.80765406e+00, -3.23516494e-02, -1.42947818e+00,  1.07571431e+00,\n",
       "       -2.78712763e-01, -5.21909988e-01,  1.06721419e+00,  1.02438931e+00,\n",
       "       -8.43381531e-01,  1.27918163e+00, -2.00483654e+00,  6.26514504e-01,\n",
       "        3.12650296e+00, -5.41412258e-01,  7.42886410e-02,  1.35566936e+00,\n",
       "        1.76156561e+00, -8.96610773e-01, -5.33384254e-01, -1.22152668e+00,\n",
       "        3.70917991e-01, -1.20439597e+00, -1.06367957e+00,  8.99836599e-01,\n",
       "        1.16805537e+00, -9.11893151e-02,  2.29342552e+00, -8.03284307e-01,\n",
       "        1.16182107e+00,  9.33674407e-01,  1.32996320e+00,  8.07805442e-02,\n",
       "       -7.08624762e-01,  6.12818114e-02, -3.90867561e-01, -1.56204060e+00,\n",
       "        2.29731737e+00, -6.54870491e-01,  2.81454991e-01,  3.06498745e+00,\n",
       "        1.07079732e+00,  1.19917771e-01,  6.60207632e-01,  1.69410665e+00,\n",
       "        3.01445482e-01, -4.59148976e-01,  5.20841000e-01, -2.46625939e-01,\n",
       "       -5.63212623e-01, -1.34758781e+00,  8.26645289e-03,  6.47316020e-01,\n",
       "        3.83110886e-01, -1.12290054e+00, -8.05730217e-01, -1.08065292e+00,\n",
       "        4.12079467e-01, -2.82994506e-02,  5.86712305e-01,  7.58737039e-01,\n",
       "        4.55110974e-01,  2.02930946e-01, -6.28136055e-01,  9.51522153e-01,\n",
       "        4.03933687e-01, -1.71290468e+00, -2.64565275e-01, -4.46014553e-01,\n",
       "       -9.91722596e-01, -1.87152025e-01,  8.52082934e-01,  1.51947107e+00,\n",
       "       -7.51788967e-01, -6.06410869e-01, -1.04172220e+00,  2.93064320e-01,\n",
       "        1.40378102e+00, -3.39500265e-01,  1.56171052e+00,  1.13709473e+00,\n",
       "       -2.94736559e-01, -8.75256212e-01,  1.39173457e+00, -1.52335336e-01,\n",
       "        1.36108645e+00, -2.30941754e+00, -5.13159378e-01,  4.59698805e-02,\n",
       "        6.28910936e-01,  1.54007299e-01, -1.09088590e-01,  9.73851358e-02,\n",
       "        2.28995667e-01,  1.28991934e+00, -9.46107361e-02, -1.62102818e+00,\n",
       "       -7.20208535e-01, -9.26411605e-01, -1.20582102e+00, -1.55031234e+00,\n",
       "        1.34868576e+00,  3.73375486e-01, -8.25689540e-01,  6.05214213e-01,\n",
       "        6.75755906e-01, -1.80142336e-01, -9.86026666e-01, -1.45604904e+00,\n",
       "       -1.49636758e-01,  1.14267210e+00,  3.52310590e-01,  1.18350844e-01,\n",
       "        8.37582888e-01,  4.15287207e-01,  4.42402270e-01,  1.24851159e+00,\n",
       "        1.24203335e+00, -9.32053479e-01, -8.00780050e-01, -1.47673690e+00,\n",
       "        1.10997129e+00,  2.08164950e-01,  1.80137227e-01, -5.17938369e-01,\n",
       "        9.87314320e-01, -4.67699527e-01,  1.32291375e+00, -7.18122166e-01,\n",
       "        5.08921077e-01, -8.77192347e-01, -2.07030429e+00,  7.87798746e-01,\n",
       "        4.03256516e-01,  1.28376561e+00, -2.30199471e+00,  1.00437244e+00,\n",
       "        2.82925935e-01, -3.34781905e-01, -5.43251652e-02, -2.29250908e+00,\n",
       "       -2.35118869e+00,  1.01507966e+00,  1.91722522e+00,  7.44434986e-01,\n",
       "        8.36052278e-01,  1.27323305e+00, -1.05532863e+00, -8.40052284e-01,\n",
       "        7.46651328e-01,  1.48318564e+00,  1.61840722e-02,  6.19972732e-01,\n",
       "       -6.03926796e-01, -1.03161368e+00, -4.00717872e-01, -8.14306724e-01,\n",
       "       -1.44894421e+00,  1.88017309e+00, -3.31952005e-01,  7.12340020e-01,\n",
       "       -9.25596044e-01, -7.58915691e-01, -5.88722377e-01,  1.69742516e-01,\n",
       "        9.91358395e-01,  1.15731197e-01, -3.81613153e-01,  3.04995341e-01,\n",
       "        1.26645571e-02, -4.27021036e-01, -2.07208689e+00,  5.54936585e-01,\n",
       "       -1.15488095e+00,  1.74978413e+00,  1.17641578e+00, -2.58618705e-01,\n",
       "        1.26093443e+00,  2.52735691e-02, -3.58948488e-01,  5.11703555e-01,\n",
       "        5.74362592e-01, -8.66651149e-01,  3.08790997e-02,  1.15086950e-01,\n",
       "        8.20797474e-01,  1.41202017e+00,  8.02180308e-01,  6.52836242e-01,\n",
       "       -6.60497764e-01,  4.11885415e-01, -3.74591301e-01,  1.71643924e+00,\n",
       "        4.54618270e-01, -4.48491344e-01, -8.81550615e-02,  8.03780256e-01,\n",
       "        1.26367690e+00,  3.37241035e-01,  3.98911437e-02, -9.53255232e-01,\n",
       "       -3.50663299e-01, -3.32825489e-01, -5.80793210e-01,  2.10511905e+00,\n",
       "        7.42144533e-03,  1.04273718e+00,  9.40461342e-03, -5.26956504e-01,\n",
       "        4.44722894e-01, -1.01012420e+00,  2.02224905e-01, -1.64369879e+00,\n",
       "        4.90029921e-01,  5.98630320e-01, -8.15870916e-01, -1.03598398e+00,\n",
       "       -4.24604011e-02, -7.13455010e-01, -9.38145171e-01,  1.34565015e+00,\n",
       "       -1.23981568e+00,  1.54631918e-01,  9.28521215e-01,  1.56924458e+00,\n",
       "        2.23492189e+00,  2.14303852e+00, -4.90084810e-01, -1.73055978e+00,\n",
       "       -1.43558813e+00,  7.20215747e-01, -5.77701850e-01, -6.09905505e-01,\n",
       "       -8.81551363e-01,  3.24639795e-01, -2.49441876e-01, -6.52698016e-01,\n",
       "        1.54701382e-01,  3.21918138e-01, -2.11473894e-01,  5.77077195e-01,\n",
       "        9.31993186e-01, -8.18891129e-01, -2.34020758e+00,  2.79553892e-01,\n",
       "       -3.37691855e-01,  6.23326792e-01, -1.81102011e+00,  1.97377401e+00,\n",
       "        5.24752733e-01, -1.14784071e+00, -3.54957389e-01, -2.34058626e-01,\n",
       "        4.35553221e-01,  1.33358251e+00, -2.16733701e-01,  8.60071537e-01,\n",
       "        8.99794227e-01, -2.10461738e-01,  2.99412300e-01,  1.20171855e+00,\n",
       "        6.71721688e-01, -1.84612968e-01,  3.59248628e-01,  3.56711809e-01,\n",
       "       -2.13363620e+00, -6.05893953e-01, -7.79853709e-01, -1.07126509e+00,\n",
       "       -7.48911967e-01, -5.06228620e-01,  4.09742140e-01, -1.30438205e+00,\n",
       "        4.03354275e-01,  1.68895953e+00,  6.36461433e-01, -9.23173799e-01,\n",
       "       -9.43047823e-01, -9.11880274e-01,  2.32177201e-01,  1.65966312e+00,\n",
       "       -1.65371483e+00, -6.33243012e-01, -1.10606728e+00,  1.35070633e+00,\n",
       "        3.46682837e-01, -8.68647595e-01, -1.51403697e-01,  7.67384844e-01,\n",
       "        4.73641193e-01,  1.84707961e-01, -4.84022005e-01, -7.80530050e-01,\n",
       "        9.57663236e-01,  1.50115701e+00, -6.69501195e-01, -6.82811197e-01,\n",
       "       -5.60903546e-01, -8.12765837e-01, -2.76388779e-01,  6.41192595e-02,\n",
       "        6.60698210e-01,  4.79001276e-01, -4.50163471e-01, -8.19817585e-02,\n",
       "       -6.80442569e-01, -1.29498220e-01, -1.46848455e+00, -9.73452161e-01,\n",
       "        4.43344215e-01, -6.88032941e-01, -8.82608674e-02, -1.00636755e+00,\n",
       "       -9.38818467e-01, -1.57573682e+00, -1.20229622e+00, -4.87571571e-01,\n",
       "        1.38834198e+00,  7.75632587e-01, -7.81763375e-01, -9.94541171e-01,\n",
       "       -4.94477937e-02, -2.82063631e-01, -1.43312714e+00,  1.42596973e+00,\n",
       "       -8.78020338e-01,  4.12101147e-02, -6.45698799e-01,  1.72270893e-01,\n",
       "       -2.97339978e-01,  2.51970467e+00,  4.79207435e-01, -2.47506551e-02,\n",
       "       -5.15092301e-01,  5.22273058e-01,  1.19567329e+00, -4.69305422e-01,\n",
       "        1.77406570e+00,  1.67796214e+00, -2.67895787e+00, -5.54417641e-01,\n",
       "        8.01677042e-01,  2.02823355e+00, -5.61226418e-01,  1.43559054e+00,\n",
       "        1.41294128e+00,  6.04757837e-01,  2.12102680e-02, -5.42357396e-02,\n",
       "        3.40944317e-01, -1.60304245e+00, -7.92097377e-03, -1.26143928e-01,\n",
       "       -1.02833295e+00,  2.22191700e+00,  1.09276565e+00, -2.23864932e-01,\n",
       "       -7.36026402e-01,  2.88660361e-01, -9.02921621e-01, -8.78250396e-01,\n",
       "        9.41033033e-01,  1.41462269e-02, -6.19341197e-01, -6.19927324e-01,\n",
       "        5.39845824e-01,  9.69669771e-02, -2.50870389e-01,  1.68008420e+00,\n",
       "        1.01937390e+00, -2.58750953e-01,  6.83863574e-01, -7.77773175e-01,\n",
       "        6.36467055e-01,  1.11344751e+00, -1.76483626e-01,  2.26277291e-01,\n",
       "        1.03158898e+00,  5.82679044e-01,  2.96812997e-01, -1.81394298e-01,\n",
       "        4.11911157e-01, -3.12556021e-01, -8.54985558e-01,  2.43186575e-01,\n",
       "        1.38522033e+00, -2.47577542e+00, -4.36674210e-01,  2.67799871e-01,\n",
       "        1.31061085e+00,  4.10222470e-01, -5.62011053e-01,  6.85041919e-01,\n",
       "       -3.57526361e-01, -1.18909912e+00,  1.15004717e-01,  1.30226165e-01,\n",
       "       -9.39290491e-01,  3.76501407e-01,  7.16533854e-01,  4.20413598e-01,\n",
       "        1.39779812e+00,  1.89049063e+00, -1.05049212e+00,  4.44631194e-01,\n",
       "       -1.21664086e+00, -1.25084821e-01,  8.43501798e-01,  3.45432163e-01,\n",
       "       -2.28393137e-02,  1.75638583e+00, -4.53612223e-01, -4.40660910e-01,\n",
       "        6.38392957e-01,  3.93518646e-01,  1.42533179e+00, -5.56730775e-01,\n",
       "        6.81993870e-01,  6.94351507e-01,  4.44284885e-01, -2.05998851e-01,\n",
       "        5.44444702e-01, -1.74633616e+00,  4.10649789e-01, -3.04434137e-01,\n",
       "        1.93432230e+00, -4.04577598e-01,  2.94000959e-02, -1.99133376e+00,\n",
       "       -1.82669920e+00, -5.91392076e-01, -1.42005560e+00,  1.42674471e-01,\n",
       "       -2.76806781e+00,  8.11274996e-02,  5.37450699e-01,  1.70651420e+00,\n",
       "        2.95117590e-01,  5.18451377e-01,  1.35830722e-01, -6.08586229e-01,\n",
       "       -2.45846919e+00,  7.56975735e-01, -1.79444401e-01,  1.47002208e-01,\n",
       "        5.03475044e-01, -1.99338938e+00, -1.39480708e+00,  1.97687862e+00,\n",
       "        6.78339792e-01, -9.13594335e-01,  2.05686280e+00,  8.23948570e-03,\n",
       "       -2.20740054e+00, -5.57510810e-01, -8.27612054e-02,  1.88755907e+00,\n",
       "        5.13548518e-01, -7.81174435e-01,  8.49343261e-01, -1.67785106e+00,\n",
       "       -2.32909880e-01,  1.14953307e+00,  1.24495423e+00, -1.63582652e+00,\n",
       "       -1.41010349e+00, -2.71858352e-01,  2.28116001e-01,  6.95933884e-01,\n",
       "        1.21393759e+00,  1.28173947e+00,  3.09091920e-01,  6.74676523e-01,\n",
       "        2.60943484e-01, -6.97282914e-01, -6.09036317e-01, -1.07159559e+00,\n",
       "       -7.22387185e-01, -9.03968039e-01,  8.13135626e-01,  8.21496367e-01,\n",
       "        1.35407808e+00,  8.01356469e-01, -3.47894940e-01, -6.65734056e-01,\n",
       "        1.31880810e+00, -6.51124689e-02, -4.09460559e-01,  1.57547246e+00,\n",
       "        5.42243881e-01, -2.94855116e-01, -8.81605113e-01, -2.39829575e-01,\n",
       "        4.79871175e-01, -1.25961501e+00,  1.89368499e+00, -4.04431812e-01,\n",
       "        2.52731399e-01, -1.24462339e+00,  2.26701383e+00, -1.11496751e+00,\n",
       "        1.53173190e-01, -1.07481715e+00, -1.07103165e+00, -5.47350218e-01,\n",
       "        8.47456835e-01, -8.01618646e-01,  1.40724261e+00,  2.04340424e-01,\n",
       "       -2.33471994e-02,  1.04616264e+00, -1.08281177e+00,  2.29147538e-01,\n",
       "        1.15295946e-02, -6.10965124e-02,  1.84783523e-01,  1.35101471e+00,\n",
       "        1.25507232e+00, -2.33371916e-01,  1.17274653e+00, -5.39761226e-01,\n",
       "        1.30123016e+00,  5.28095237e-02, -9.59649140e-01,  9.68478646e-01,\n",
       "       -6.97332480e-01,  1.19300148e+00,  8.77728755e-01, -8.78848270e-01,\n",
       "        3.51953026e-01,  1.46553356e+00,  1.22641518e+00,  3.66987481e-01,\n",
       "       -1.08137783e+00, -1.69877880e-01,  2.10334391e+00,  1.11149592e+00,\n",
       "       -1.57557506e+00, -6.20002796e-01, -7.32190900e-01, -1.76739364e+00,\n",
       "       -7.50654028e-01, -2.94556617e+00,  1.32504033e+00, -1.20060501e-01,\n",
       "       -2.87136490e+00,  1.76247054e+00, -9.79758623e-01,  7.96238146e-01,\n",
       "        4.93865686e-01,  1.50284332e+00, -3.56603071e-01,  5.50189935e-01,\n",
       "        8.42900112e-01,  2.44524404e-01,  1.13228285e-01,  1.04166386e+00,\n",
       "       -5.42168198e-01,  3.13333812e-01,  1.85593812e-01,  1.68730878e-01,\n",
       "       -6.06753022e-01, -3.91507843e-01, -5.06111297e-01, -6.11846373e-01,\n",
       "       -7.38185677e-01, -2.91471026e-01,  6.40328649e-01,  2.88109202e-01,\n",
       "       -9.27583274e-01,  1.82845852e-01, -2.17826484e-01,  2.77761668e-01,\n",
       "        4.40150774e-01,  1.72543582e-01, -3.23292846e-01, -8.75183331e-01,\n",
       "        4.71798359e-01,  3.12032356e-01, -4.37409666e-01,  5.92777136e-01,\n",
       "       -2.30295796e+00,  1.41082845e-01, -7.23335590e-02, -1.30198066e+00,\n",
       "       -1.36165690e+00,  8.74933922e-01,  2.43675018e-01, -5.92732658e-01,\n",
       "        1.30056027e+00,  1.11644015e-01,  1.35545861e+00,  7.18710984e-01,\n",
       "       -2.93516397e-01, -2.52119724e+00, -1.31874970e+00, -6.51510212e-01,\n",
       "       -3.22255367e-01,  5.99798636e-01, -5.97358124e-01,  5.94510574e-01,\n",
       "        1.88816739e+00,  1.41717872e-01, -4.48763646e-01,  1.34945138e-01,\n",
       "       -6.59138750e-01,  9.77024113e-02,  2.09503646e-01,  1.28909606e+00,\n",
       "        5.38621248e-01, -1.26551765e+00, -5.22238072e-01, -1.14111368e+00,\n",
       "       -2.68299929e-01,  7.73270284e-02, -1.89352354e+00, -9.35004527e-01,\n",
       "       -5.31927466e-01,  1.33982010e+00, -3.53499773e-01, -3.55577540e-01,\n",
       "        5.96688817e-01,  1.52532300e+00,  3.33799867e-01, -1.98709600e-01,\n",
       "        2.29176538e-01, -2.36573512e+00, -2.13005369e-01, -8.13668598e-01,\n",
       "       -2.19328405e-01,  2.00320875e-01,  4.76148704e-01, -1.21483801e+00,\n",
       "        7.27137723e-01,  1.32563211e+00, -8.00703694e-01,  2.11811028e-04,\n",
       "        6.50404188e-01, -1.63062797e+00, -3.25496317e-01, -4.98002404e-01,\n",
       "        8.71250122e-01,  7.94453653e-01,  9.55060112e-01, -1.30681008e+00,\n",
       "       -1.73971690e+00, -1.16499733e-01, -9.98870191e-01,  4.05370549e-01,\n",
       "        1.27742479e+00, -8.85653608e-01, -1.28447178e+00, -2.58978465e-01,\n",
       "        5.87286009e-01,  1.54619110e-01,  2.29618640e-01, -1.80052234e+00,\n",
       "       -9.43109235e-03, -8.65717841e-01,  9.20244843e-01,  1.37769842e+00,\n",
       "       -1.00873675e+00, -2.56847172e-01,  7.83579719e-01,  1.00804089e+00,\n",
       "       -1.35005589e+00, -1.45804851e+00, -7.63734130e-01,  5.33710395e-01,\n",
       "        1.03071464e+00, -1.91491885e+00,  9.66348600e-01, -1.15183612e+00,\n",
       "       -3.03879512e-01,  7.39223094e-01, -4.12458335e-01,  1.27119235e-01,\n",
       "       -3.08098493e-01, -5.36462368e-01, -4.93580001e-01, -7.64571081e-01,\n",
       "        1.40123768e-01,  4.59613712e-01,  2.50107848e-01,  1.46758046e+00,\n",
       "        1.60077800e+00, -6.25618391e-01, -2.00359737e-01, -1.10599175e-01,\n",
       "       -3.66293266e-01, -1.62792326e-01, -2.01891828e-01,  2.79054496e+00,\n",
       "       -1.75170688e-01,  8.96903013e-02,  1.78208777e+00,  1.69571480e+00,\n",
       "       -6.31912365e-01, -1.26634061e+00,  1.33869497e-01,  1.78045024e+00,\n",
       "       -1.44375787e+00, -1.23157420e+00,  1.27265272e+00,  1.13018150e-01,\n",
       "        2.65120235e-01,  4.82365990e-01, -7.22036546e-03, -3.29310582e-01,\n",
       "        1.50693304e+00,  1.96601771e+00,  1.12596750e+00, -3.92472158e-01,\n",
       "       -1.82343952e+00, -4.21760639e-02, -1.00904551e+00,  7.18444139e-01,\n",
       "        1.02820566e+00,  2.78458562e-01, -3.04116718e-01,  6.51206699e-02,\n",
       "        2.88890943e+00,  2.46643666e-01, -4.98658302e-01, -5.82261646e-01,\n",
       "        3.28950035e-02,  6.51099318e-01, -1.09652356e+00,  5.47642337e-01,\n",
       "       -5.88214648e-01, -1.07419147e+00,  5.70311191e-01, -3.50205711e-01,\n",
       "        2.59987065e+00,  1.08512556e+00, -9.00377338e-01,  6.16518904e-01,\n",
       "       -1.03376594e+00,  9.13758733e-02,  7.21086016e-01,  1.30762529e+00,\n",
       "       -3.88883303e-01, -6.03199151e-01,  5.07866030e-01,  1.11488379e-01,\n",
       "        6.66986050e-01,  2.21067786e+00,  7.22434361e-01, -1.09742210e+00,\n",
       "        7.44060035e-01,  3.55367314e-01, -4.69815691e-01,  9.22101977e-01,\n",
       "        8.48476720e-01, -1.27473432e+00,  7.32504865e-01, -8.75031056e-01,\n",
       "        4.62995815e-01, -7.34534825e-02,  1.09696206e+00, -1.69026149e+00,\n",
       "        4.40205981e-01,  1.98321977e+00, -8.83644691e-01,  1.27237343e+00,\n",
       "       -3.89268577e-01, -7.21460019e-01, -2.68030260e-01, -1.00533023e+00,\n",
       "        1.17275177e+00,  7.77765211e-01,  7.02932787e-01, -7.42871380e-01,\n",
       "        1.38846515e+00, -9.98091210e-01,  8.25006607e-01, -1.35441356e-01,\n",
       "       -1.88379614e+00,  1.47503256e+00,  6.36145728e-01, -9.50858738e-01,\n",
       "        1.74611532e+00,  1.70017968e+00, -6.06294225e-01, -8.16179202e-01,\n",
       "        2.25486687e-01, -1.20182233e+00, -9.98075304e-02,  7.29717824e-01,\n",
       "        1.89255638e+00, -1.75198225e+00,  3.63255596e-01, -1.14411057e-01,\n",
       "        1.56994140e-01,  6.14055257e-01, -1.21365402e+00, -2.93257987e-01,\n",
       "       -6.32959831e-02,  5.28476512e-01,  8.40108843e-01,  9.41709252e-02,\n",
       "        1.21009936e+00, -5.50431259e-01,  3.10858602e-01, -7.34950369e-01,\n",
       "       -1.16771393e+00,  7.64454460e-01,  1.19581638e+00, -8.79642445e-02,\n",
       "       -2.17574839e+00, -1.69414719e+00,  9.26456862e-01,  5.35501471e-01,\n",
       "       -1.76680460e+00,  7.90296149e-01, -9.97614601e-01,  8.65595518e-01,\n",
       "       -1.13080776e+00, -4.21639721e-01, -1.72448413e+00, -1.90910179e+00,\n",
       "        5.16530802e-01,  1.46616756e+00, -3.30972517e-02, -8.06421244e-01,\n",
       "       -3.07086482e-01,  5.90133447e-01, -1.41666182e+00, -2.02593684e-01,\n",
       "        1.42241540e-01, -1.18677619e-01,  6.19258820e-01,  8.41294965e-01,\n",
       "       -1.89253253e+00,  1.06350052e+00, -2.12427863e-01, -4.36661557e-01,\n",
       "       -1.52795465e+00,  6.15425127e-01, -1.35639383e-01, -4.98763934e-01,\n",
       "        1.91378785e+00,  8.82078551e-01, -3.98178035e-01, -2.42263648e-01,\n",
       "        1.15319038e+00,  3.06252435e-01, -9.84039486e-01, -7.93357871e-01,\n",
       "        7.65911642e-01, -6.96558467e-01, -2.90255125e-01, -1.59927557e+00,\n",
       "       -1.94641783e+00,  7.84534398e-01,  1.51207677e+00,  3.32649972e-01,\n",
       "       -1.57883247e+00, -9.09641567e-01, -1.01854125e+00,  9.03337705e-01,\n",
       "       -2.56653826e-02, -5.55137303e-01, -4.62278561e-01, -1.48419138e+00,\n",
       "       -1.35597966e+00, -1.27286510e+00, -1.29646063e+00, -4.50485888e-01,\n",
       "        1.68278608e+00, -1.99603008e+00,  5.29226888e-01,  5.43144859e-01,\n",
       "       -1.07914376e+00,  3.52348262e-01, -3.60710867e-01,  1.78297111e+00,\n",
       "       -1.36974155e+00,  1.99559724e+00,  6.35169323e-01, -1.19842313e+00,\n",
       "       -9.57755489e-01,  4.13004727e-01,  6.85789221e-01,  1.32163259e-01,\n",
       "       -5.01966726e-01, -6.34518083e-01, -6.07323435e-01, -3.29087001e-01,\n",
       "        3.90501273e-01,  7.15518961e-01, -5.55486322e-01, -1.49428160e-03,\n",
       "       -3.18544686e-01,  1.16108008e-01,  7.19937474e-01,  5.19174862e-01,\n",
       "       -4.52514698e-01,  8.64597937e-01, -8.01227923e-01,  1.00341790e-02,\n",
       "       -2.20499567e+00, -4.73367441e-01, -2.19862253e-01, -1.62666747e-01,\n",
       "        1.58113742e+00, -7.99362206e-01,  5.90021745e-01, -1.14886291e+00,\n",
       "       -1.71357724e+00,  1.84341801e+00, -1.61749786e-01, -9.69328929e-01,\n",
       "        1.70296586e-01, -1.38315449e+00, -1.00096095e+00, -1.02103133e+00,\n",
       "       -3.70442777e-01, -1.09846305e-01, -1.29164252e+00, -2.01673244e+00,\n",
       "       -1.45456634e+00, -9.90739417e-01, -7.37629961e-01, -9.26664956e-01,\n",
       "       -1.30050831e-01, -4.89804387e-01,  3.88600820e-01,  8.36442048e-01,\n",
       "        1.53412051e+00,  7.06019903e-01,  1.35274180e+00, -4.42613384e-01,\n",
       "        4.56649636e-01,  7.72053971e-01,  4.16003284e-01, -6.44230622e-01,\n",
       "       -3.76229411e-01,  3.92824168e-01,  8.71996536e-01,  1.17425620e+00,\n",
       "       -1.24106008e-01,  3.81541359e-01,  7.97441270e-02, -5.76052511e-01,\n",
       "        2.77896104e-02, -2.85584786e-01, -1.53203975e+00,  4.30219857e-01,\n",
       "        1.01868844e+00,  7.21959103e-01, -1.31214691e+00,  3.81657323e-01])"
      ]
     },
     "execution_count": 277,
     "metadata": {},
     "output_type": "execute_result"
    }
   ],
   "source": [
    "arr"
   ]
  },
  {
   "cell_type": "code",
   "execution_count": 278,
   "metadata": {},
   "outputs": [],
   "source": [
    "arr.sort()"
   ]
  },
  {
   "cell_type": "code",
   "execution_count": 279,
   "metadata": {},
   "outputs": [
    {
     "data": {
      "text/plain": [
       "array([-2.94556617e+00, -2.87136490e+00, -2.76806781e+00, -2.67895787e+00,\n",
       "       -2.52119724e+00, -2.47577542e+00, -2.45846919e+00, -2.36573512e+00,\n",
       "       -2.35118869e+00, -2.34020758e+00, -2.30941754e+00, -2.30295796e+00,\n",
       "       -2.30199471e+00, -2.29250908e+00, -2.27593573e+00, -2.25250783e+00,\n",
       "       -2.20740054e+00, -2.20499567e+00, -2.17574839e+00, -2.13363620e+00,\n",
       "       -2.07208689e+00, -2.07030429e+00, -2.01673244e+00, -2.00483654e+00,\n",
       "       -1.99603008e+00, -1.99338938e+00, -1.99133376e+00, -1.94641783e+00,\n",
       "       -1.91491885e+00, -1.90910179e+00, -1.89352354e+00, -1.89253253e+00,\n",
       "       -1.88379614e+00, -1.88236794e+00, -1.82669920e+00, -1.82343952e+00,\n",
       "       -1.81102011e+00, -1.80052234e+00, -1.76739364e+00, -1.76680460e+00,\n",
       "       -1.75198225e+00, -1.74633616e+00, -1.73971690e+00, -1.73055978e+00,\n",
       "       -1.72448413e+00, -1.71357724e+00, -1.71290468e+00, -1.69414719e+00,\n",
       "       -1.69026149e+00, -1.67785106e+00, -1.65371483e+00, -1.64369879e+00,\n",
       "       -1.63582652e+00, -1.63062797e+00, -1.62102818e+00, -1.60304245e+00,\n",
       "       -1.59927557e+00, -1.57883247e+00, -1.57573682e+00, -1.57557506e+00,\n",
       "       -1.56204060e+00, -1.55031234e+00, -1.53203975e+00, -1.52795465e+00,\n",
       "       -1.48419138e+00, -1.47673690e+00, -1.46848455e+00, -1.45804851e+00,\n",
       "       -1.45604904e+00, -1.45456634e+00, -1.44894421e+00, -1.44375787e+00,\n",
       "       -1.43558813e+00, -1.43312714e+00, -1.42947818e+00, -1.42005560e+00,\n",
       "       -1.41666182e+00, -1.41010349e+00, -1.39480708e+00, -1.38315449e+00,\n",
       "       -1.36974155e+00, -1.36165690e+00, -1.35597966e+00, -1.35005589e+00,\n",
       "       -1.34758781e+00, -1.31874970e+00, -1.31214691e+00, -1.30681008e+00,\n",
       "       -1.30438205e+00, -1.30198066e+00, -1.29646063e+00, -1.29164252e+00,\n",
       "       -1.28447178e+00, -1.27473432e+00, -1.27286510e+00, -1.26634061e+00,\n",
       "       -1.26551765e+00, -1.25961501e+00, -1.24462339e+00, -1.23981568e+00,\n",
       "       -1.23157420e+00, -1.22152668e+00, -1.21664086e+00, -1.21483801e+00,\n",
       "       -1.21365402e+00, -1.20582102e+00, -1.20439597e+00, -1.20229622e+00,\n",
       "       -1.20182233e+00, -1.19883319e+00, -1.19842313e+00, -1.18909912e+00,\n",
       "       -1.16771393e+00, -1.15488095e+00, -1.15183612e+00, -1.14886291e+00,\n",
       "       -1.14784071e+00, -1.14111368e+00, -1.13080776e+00, -1.12290054e+00,\n",
       "       -1.11496751e+00, -1.10796729e+00, -1.10606728e+00, -1.09742210e+00,\n",
       "       -1.09652356e+00, -1.08281177e+00, -1.08137783e+00, -1.08065292e+00,\n",
       "       -1.07914376e+00, -1.07481715e+00, -1.07419147e+00, -1.07159559e+00,\n",
       "       -1.07126509e+00, -1.07103165e+00, -1.06917939e+00, -1.06367957e+00,\n",
       "       -1.05532863e+00, -1.05049212e+00, -1.04481310e+00, -1.04172220e+00,\n",
       "       -1.04038239e+00, -1.03974961e+00, -1.03598398e+00, -1.03376594e+00,\n",
       "       -1.03161368e+00, -1.02833295e+00, -1.02103133e+00, -1.01854125e+00,\n",
       "       -1.01012420e+00, -1.00904551e+00, -1.00873675e+00, -1.00636755e+00,\n",
       "       -1.00533023e+00, -1.00096095e+00, -9.98870191e-01, -9.98091210e-01,\n",
       "       -9.97614601e-01, -9.94541171e-01, -9.91722596e-01, -9.90739417e-01,\n",
       "       -9.86026666e-01, -9.84039486e-01, -9.79758623e-01, -9.73452161e-01,\n",
       "       -9.69328929e-01, -9.59649140e-01, -9.57755489e-01, -9.53255232e-01,\n",
       "       -9.50858738e-01, -9.43047823e-01, -9.39290491e-01, -9.38818467e-01,\n",
       "       -9.38145171e-01, -9.35004527e-01, -9.32053479e-01, -9.28632079e-01,\n",
       "       -9.27583274e-01, -9.26664956e-01, -9.26411605e-01, -9.25596044e-01,\n",
       "       -9.23173799e-01, -9.13594335e-01, -9.11880274e-01, -9.09641567e-01,\n",
       "       -9.03968039e-01, -9.02921621e-01, -9.00377338e-01, -8.96610773e-01,\n",
       "       -8.85653608e-01, -8.83644691e-01, -8.81605113e-01, -8.81551363e-01,\n",
       "       -8.78848270e-01, -8.78250396e-01, -8.78020338e-01, -8.77192347e-01,\n",
       "       -8.75256212e-01, -8.75183331e-01, -8.75031056e-01, -8.68647595e-01,\n",
       "       -8.66651149e-01, -8.65717841e-01, -8.54985558e-01, -8.43381531e-01,\n",
       "       -8.40052284e-01, -8.27462062e-01, -8.25689540e-01, -8.18891129e-01,\n",
       "       -8.16179202e-01, -8.15870916e-01, -8.14306724e-01, -8.13668598e-01,\n",
       "       -8.12765837e-01, -8.06421244e-01, -8.05730217e-01, -8.03284307e-01,\n",
       "       -8.01618646e-01, -8.01227923e-01, -8.00780050e-01, -8.00703694e-01,\n",
       "       -7.99362206e-01, -7.93357871e-01, -7.81763375e-01, -7.81174435e-01,\n",
       "       -7.80530050e-01, -7.79853709e-01, -7.77773175e-01, -7.64571081e-01,\n",
       "       -7.63734130e-01, -7.58915691e-01, -7.51788967e-01, -7.50654028e-01,\n",
       "       -7.48911967e-01, -7.42871380e-01, -7.38185677e-01, -7.37629961e-01,\n",
       "       -7.36026402e-01, -7.34950369e-01, -7.32190900e-01, -7.22387185e-01,\n",
       "       -7.21460019e-01, -7.20208535e-01, -7.18122166e-01, -7.13455010e-01,\n",
       "       -7.08624762e-01, -6.97332480e-01, -6.97282914e-01, -6.96558467e-01,\n",
       "       -6.88032941e-01, -6.82811197e-01, -6.80442569e-01, -6.69501195e-01,\n",
       "       -6.65734056e-01, -6.60497764e-01, -6.59138750e-01, -6.54870491e-01,\n",
       "       -6.52698016e-01, -6.51510212e-01, -6.45698799e-01, -6.44230622e-01,\n",
       "       -6.34518083e-01, -6.33243012e-01, -6.31912365e-01, -6.28136055e-01,\n",
       "       -6.25618391e-01, -6.20002796e-01, -6.19927324e-01, -6.19341197e-01,\n",
       "       -6.11846373e-01, -6.09905505e-01, -6.09036317e-01, -6.08586229e-01,\n",
       "       -6.07323435e-01, -6.06753022e-01, -6.06410869e-01, -6.06294225e-01,\n",
       "       -6.05893953e-01, -6.03926796e-01, -6.03199151e-01, -5.97358124e-01,\n",
       "       -5.92732658e-01, -5.91392076e-01, -5.88722377e-01, -5.88214648e-01,\n",
       "       -5.82261646e-01, -5.80793210e-01, -5.77701850e-01, -5.76052511e-01,\n",
       "       -5.63212623e-01, -5.62011053e-01, -5.61226418e-01, -5.60903546e-01,\n",
       "       -5.57510810e-01, -5.56730775e-01, -5.55486322e-01, -5.55137303e-01,\n",
       "       -5.54417641e-01, -5.50431259e-01, -5.47350218e-01, -5.42168198e-01,\n",
       "       -5.41412258e-01, -5.39761226e-01, -5.36462368e-01, -5.33384254e-01,\n",
       "       -5.31927466e-01, -5.30856860e-01, -5.26956504e-01, -5.22238072e-01,\n",
       "       -5.21909988e-01, -5.17938369e-01, -5.15092301e-01, -5.13159378e-01,\n",
       "       -5.06228620e-01, -5.06111297e-01, -5.01966726e-01, -4.98763934e-01,\n",
       "       -4.98658302e-01, -4.98002404e-01, -4.93580001e-01, -4.90084810e-01,\n",
       "       -4.89804387e-01, -4.87571571e-01, -4.84022005e-01, -4.78724538e-01,\n",
       "       -4.73367441e-01, -4.69815691e-01, -4.69305422e-01, -4.67699527e-01,\n",
       "       -4.62278561e-01, -4.59148976e-01, -4.53612223e-01, -4.52514698e-01,\n",
       "       -4.50485888e-01, -4.50163471e-01, -4.48763646e-01, -4.48491344e-01,\n",
       "       -4.46014553e-01, -4.42613384e-01, -4.40660910e-01, -4.37409666e-01,\n",
       "       -4.36674210e-01, -4.36661557e-01, -4.27021036e-01, -4.21639721e-01,\n",
       "       -4.12458335e-01, -4.09460559e-01, -4.04577598e-01, -4.04431812e-01,\n",
       "       -4.00717872e-01, -4.00045170e-01, -3.98178035e-01, -3.92472158e-01,\n",
       "       -3.91507843e-01, -3.90867561e-01, -3.89268577e-01, -3.88883303e-01,\n",
       "       -3.81613153e-01, -3.76229411e-01, -3.74591301e-01, -3.70442777e-01,\n",
       "       -3.66293266e-01, -3.60710867e-01, -3.58948488e-01, -3.57526361e-01,\n",
       "       -3.56603071e-01, -3.55577540e-01, -3.54957389e-01, -3.53499773e-01,\n",
       "       -3.50663299e-01, -3.50205711e-01, -3.47894940e-01, -3.39500265e-01,\n",
       "       -3.37691855e-01, -3.34781905e-01, -3.32825489e-01, -3.31952005e-01,\n",
       "       -3.29310582e-01, -3.29087001e-01, -3.25496317e-01, -3.23292846e-01,\n",
       "       -3.22255367e-01, -3.18544686e-01, -3.12556021e-01, -3.08098493e-01,\n",
       "       -3.07086482e-01, -3.05710840e-01, -3.04434137e-01, -3.04116718e-01,\n",
       "       -3.03879512e-01, -2.97339978e-01, -2.94855116e-01, -2.94736559e-01,\n",
       "       -2.93516397e-01, -2.93257987e-01, -2.91471026e-01, -2.90255125e-01,\n",
       "       -2.85584786e-01, -2.82063631e-01, -2.78712763e-01, -2.76388779e-01,\n",
       "       -2.71858352e-01, -2.68422213e-01, -2.68299929e-01, -2.68030260e-01,\n",
       "       -2.64565275e-01, -2.58978465e-01, -2.58750953e-01, -2.58618705e-01,\n",
       "       -2.56847172e-01, -2.50870389e-01, -2.49441876e-01, -2.46625939e-01,\n",
       "       -2.42263648e-01, -2.39829575e-01, -2.39159484e-01, -2.34058626e-01,\n",
       "       -2.33371916e-01, -2.32909880e-01, -2.23864932e-01, -2.23604106e-01,\n",
       "       -2.19862253e-01, -2.19328405e-01, -2.17826484e-01, -2.16733701e-01,\n",
       "       -2.13005369e-01, -2.12427863e-01, -2.11473894e-01, -2.10461738e-01,\n",
       "       -2.05998851e-01, -2.03096587e-01, -2.02593684e-01, -2.01891828e-01,\n",
       "       -2.00359737e-01, -1.98709600e-01, -1.87152025e-01, -1.84612968e-01,\n",
       "       -1.81394298e-01, -1.80142336e-01, -1.79444401e-01, -1.76483626e-01,\n",
       "       -1.75170688e-01, -1.69877880e-01, -1.62792326e-01, -1.62666747e-01,\n",
       "       -1.61749786e-01, -1.52335336e-01, -1.51403697e-01, -1.49636758e-01,\n",
       "       -1.42358836e-01, -1.35639383e-01, -1.35441356e-01, -1.30050831e-01,\n",
       "       -1.29498220e-01, -1.26143928e-01, -1.25084821e-01, -1.24106008e-01,\n",
       "       -1.20060501e-01, -1.18677619e-01, -1.16499733e-01, -1.16083034e-01,\n",
       "       -1.14411057e-01, -1.10599175e-01, -1.09846305e-01, -1.09088590e-01,\n",
       "       -9.98075304e-02, -9.46107361e-02, -9.11893151e-02, -8.82608674e-02,\n",
       "       -8.81550615e-02, -8.79642445e-02, -8.27612054e-02, -8.19817585e-02,\n",
       "       -7.34534825e-02, -7.23335590e-02, -6.51124689e-02, -6.32959831e-02,\n",
       "       -6.10965124e-02, -5.43251652e-02, -5.42357396e-02, -4.94477937e-02,\n",
       "       -4.24604011e-02, -4.21760639e-02, -3.30972517e-02, -3.23516494e-02,\n",
       "       -2.82994506e-02, -2.56653826e-02, -2.47506551e-02, -2.33471994e-02,\n",
       "       -2.28393137e-02, -9.43109235e-03, -7.92097377e-03, -7.22036546e-03,\n",
       "       -5.95455483e-03, -3.78461697e-03, -1.49428160e-03,  2.11811028e-04,\n",
       "        7.42144533e-03,  8.23948570e-03,  8.26645289e-03,  9.40461342e-03,\n",
       "        1.00341790e-02,  1.15295946e-02,  1.26645571e-02,  1.41462269e-02,\n",
       "        1.61840722e-02,  2.12102680e-02,  2.52735691e-02,  2.77896104e-02,\n",
       "        2.94000959e-02,  3.08790997e-02,  3.28950035e-02,  3.98911437e-02,\n",
       "        4.12101147e-02,  4.59698805e-02,  4.62776686e-02,  5.28095237e-02,\n",
       "        6.12818114e-02,  6.41192595e-02,  6.51206699e-02,  7.42886410e-02,\n",
       "        7.73270284e-02,  7.97441270e-02,  8.07805442e-02,  8.11274996e-02,\n",
       "        8.75089146e-02,  8.96903013e-02,  9.13758733e-02,  9.41709252e-02,\n",
       "        9.69669771e-02,  9.73851358e-02,  9.77024113e-02,  1.11488379e-01,\n",
       "        1.11644015e-01,  1.13018150e-01,  1.13228285e-01,  1.15004717e-01,\n",
       "        1.15086950e-01,  1.15731197e-01,  1.16108008e-01,  1.18350844e-01,\n",
       "        1.19917771e-01,  1.27119235e-01,  1.30226165e-01,  1.32163259e-01,\n",
       "        1.33869497e-01,  1.34945138e-01,  1.35830722e-01,  1.40123768e-01,\n",
       "        1.41082845e-01,  1.41717872e-01,  1.42241540e-01,  1.42674471e-01,\n",
       "        1.47002208e-01,  1.47593622e-01,  1.53173190e-01,  1.54007299e-01,\n",
       "        1.54619110e-01,  1.54631918e-01,  1.54701382e-01,  1.56994140e-01,\n",
       "        1.68730878e-01,  1.69742516e-01,  1.70296586e-01,  1.72270893e-01,\n",
       "        1.72543582e-01,  1.80137227e-01,  1.82845852e-01,  1.84707961e-01,\n",
       "        1.84783523e-01,  1.85593812e-01,  2.00320875e-01,  2.02224905e-01,\n",
       "        2.02930946e-01,  2.04340424e-01,  2.08164950e-01,  2.09503646e-01,\n",
       "        2.25486687e-01,  2.26277291e-01,  2.28116001e-01,  2.28995667e-01,\n",
       "        2.29147538e-01,  2.29176538e-01,  2.29618640e-01,  2.32177201e-01,\n",
       "        2.43186575e-01,  2.43675018e-01,  2.44524404e-01,  2.46643666e-01,\n",
       "        2.50107848e-01,  2.52731399e-01,  2.60943484e-01,  2.65120235e-01,\n",
       "        2.67799871e-01,  2.77761668e-01,  2.78458562e-01,  2.79553892e-01,\n",
       "        2.81454991e-01,  2.82925935e-01,  2.88109202e-01,  2.88660361e-01,\n",
       "        2.93064320e-01,  2.95117590e-01,  2.96812997e-01,  2.99412300e-01,\n",
       "        3.01445482e-01,  3.04995341e-01,  3.06252435e-01,  3.09091920e-01,\n",
       "        3.10858602e-01,  3.12032356e-01,  3.13333812e-01,  3.21918138e-01,\n",
       "        3.24639795e-01,  3.29073330e-01,  3.32649972e-01,  3.33799867e-01,\n",
       "        3.37241035e-01,  3.40944317e-01,  3.42276072e-01,  3.45432163e-01,\n",
       "        3.46682837e-01,  3.51953026e-01,  3.52310590e-01,  3.52348262e-01,\n",
       "        3.55367314e-01,  3.56711809e-01,  3.59248628e-01,  3.63255596e-01,\n",
       "        3.66987481e-01,  3.70917991e-01,  3.73375486e-01,  3.76501407e-01,\n",
       "        3.81541359e-01,  3.81657323e-01,  3.83110886e-01,  3.88600820e-01,\n",
       "        3.90501273e-01,  3.92824168e-01,  3.93518646e-01,  4.03256516e-01,\n",
       "        4.03354275e-01,  4.03933687e-01,  4.05370549e-01,  4.09742140e-01,\n",
       "        4.10222470e-01,  4.10649789e-01,  4.11885415e-01,  4.11911157e-01,\n",
       "        4.12079467e-01,  4.13004727e-01,  4.15287207e-01,  4.16003284e-01,\n",
       "        4.20413598e-01,  4.30219857e-01,  4.35553221e-01,  4.40150774e-01,\n",
       "        4.40205981e-01,  4.42402270e-01,  4.43344215e-01,  4.44284885e-01,\n",
       "        4.44631194e-01,  4.44722894e-01,  4.52046988e-01,  4.54618270e-01,\n",
       "        4.55110974e-01,  4.56649636e-01,  4.59613712e-01,  4.62995815e-01,\n",
       "        4.71798359e-01,  4.73641193e-01,  4.76148704e-01,  4.79001276e-01,\n",
       "        4.79207435e-01,  4.79871175e-01,  4.82365990e-01,  4.90029921e-01,\n",
       "        4.93865686e-01,  5.03475044e-01,  5.07866030e-01,  5.08921077e-01,\n",
       "        5.10776692e-01,  5.11703555e-01,  5.13548518e-01,  5.16530802e-01,\n",
       "        5.18451377e-01,  5.19174862e-01,  5.20841000e-01,  5.22273058e-01,\n",
       "        5.24752733e-01,  5.28476512e-01,  5.29226888e-01,  5.33710395e-01,\n",
       "        5.35501471e-01,  5.37450699e-01,  5.38621248e-01,  5.39845824e-01,\n",
       "        5.42243881e-01,  5.43144859e-01,  5.44444702e-01,  5.47642337e-01,\n",
       "        5.50189935e-01,  5.54936585e-01,  5.70311191e-01,  5.74165689e-01,\n",
       "        5.74362592e-01,  5.77077195e-01,  5.82679044e-01,  5.86712305e-01,\n",
       "        5.87286009e-01,  5.89592135e-01,  5.90021745e-01,  5.90133447e-01,\n",
       "        5.92777136e-01,  5.94510574e-01,  5.96688817e-01,  5.98630320e-01,\n",
       "        5.99798636e-01,  6.04757837e-01,  6.05214213e-01,  6.14055257e-01,\n",
       "        6.15425127e-01,  6.16518904e-01,  6.19258820e-01,  6.19972732e-01,\n",
       "        6.23326792e-01,  6.26514504e-01,  6.28910936e-01,  6.35169323e-01,\n",
       "        6.36145728e-01,  6.36461433e-01,  6.36467055e-01,  6.38392957e-01,\n",
       "        6.40328649e-01,  6.41765452e-01,  6.47316020e-01,  6.50404188e-01,\n",
       "        6.51099318e-01,  6.52836242e-01,  6.60207632e-01,  6.60698210e-01,\n",
       "        6.66986050e-01,  6.71721688e-01,  6.74676523e-01,  6.75755906e-01,\n",
       "        6.78339792e-01,  6.81993870e-01,  6.83863574e-01,  6.85041919e-01,\n",
       "        6.85789221e-01,  6.94351507e-01,  6.95933884e-01,  7.02932787e-01,\n",
       "        7.06019903e-01,  7.12340020e-01,  7.15518961e-01,  7.16533854e-01,\n",
       "        7.18444139e-01,  7.18710984e-01,  7.19937474e-01,  7.20215747e-01,\n",
       "        7.21086016e-01,  7.21959103e-01,  7.22434361e-01,  7.24874816e-01,\n",
       "        7.27137723e-01,  7.29717824e-01,  7.30108139e-01,  7.32504865e-01,\n",
       "        7.39223094e-01,  7.44060035e-01,  7.44434986e-01,  7.46651328e-01,\n",
       "        7.56975735e-01,  7.57034020e-01,  7.58737039e-01,  7.64454460e-01,\n",
       "        7.65911642e-01,  7.67384844e-01,  7.72053971e-01,  7.75632587e-01,\n",
       "        7.77765211e-01,  7.83579719e-01,  7.84534398e-01,  7.87798746e-01,\n",
       "        7.90296149e-01,  7.94453653e-01,  7.96238146e-01,  8.01356469e-01,\n",
       "        8.01677042e-01,  8.02180308e-01,  8.03438081e-01,  8.03780256e-01,\n",
       "        8.13135626e-01,  8.20797474e-01,  8.21496367e-01,  8.25006607e-01,\n",
       "        8.36052278e-01,  8.36442048e-01,  8.37582888e-01,  8.40108843e-01,\n",
       "        8.41294965e-01,  8.42900112e-01,  8.43501798e-01,  8.47456835e-01,\n",
       "        8.48457708e-01,  8.48476720e-01,  8.49343261e-01,  8.52082934e-01,\n",
       "        8.60071537e-01,  8.64597937e-01,  8.65595518e-01,  8.71250122e-01,\n",
       "        8.71996536e-01,  8.74933922e-01,  8.77728755e-01,  8.82078551e-01,\n",
       "        8.99794227e-01,  8.99836599e-01,  9.03337705e-01,  9.20244843e-01,\n",
       "        9.22101977e-01,  9.26456862e-01,  9.28521215e-01,  9.31993186e-01,\n",
       "        9.33674407e-01,  9.41033033e-01,  9.51522153e-01,  9.55060112e-01,\n",
       "        9.57663236e-01,  9.66348600e-01,  9.68478646e-01,  9.87314320e-01,\n",
       "        9.91358395e-01,  9.96643817e-01,  1.00437244e+00,  1.00804089e+00,\n",
       "        1.01507966e+00,  1.01868844e+00,  1.01937390e+00,  1.02438931e+00,\n",
       "        1.02820566e+00,  1.03071464e+00,  1.03158898e+00,  1.04166386e+00,\n",
       "        1.04273718e+00,  1.04616264e+00,  1.06350052e+00,  1.06721419e+00,\n",
       "        1.07079732e+00,  1.07571431e+00,  1.08512556e+00,  1.09276565e+00,\n",
       "        1.09696206e+00,  1.10997129e+00,  1.11149592e+00,  1.11344751e+00,\n",
       "        1.12596750e+00,  1.13709473e+00,  1.14267210e+00,  1.14953307e+00,\n",
       "        1.15319038e+00,  1.16182107e+00,  1.16805537e+00,  1.17274653e+00,\n",
       "        1.17275177e+00,  1.17425620e+00,  1.17641578e+00,  1.19300148e+00,\n",
       "        1.19567329e+00,  1.19581638e+00,  1.20171855e+00,  1.21009936e+00,\n",
       "        1.21393759e+00,  1.22641518e+00,  1.23548946e+00,  1.24203335e+00,\n",
       "        1.24495423e+00,  1.24851159e+00,  1.25507232e+00,  1.26093443e+00,\n",
       "        1.26367690e+00,  1.27237343e+00,  1.27265272e+00,  1.27323305e+00,\n",
       "        1.27742479e+00,  1.27918163e+00,  1.28173947e+00,  1.28376561e+00,\n",
       "        1.28909606e+00,  1.28991934e+00,  1.30056027e+00,  1.30123016e+00,\n",
       "        1.30762529e+00,  1.31061085e+00,  1.31880810e+00,  1.32291375e+00,\n",
       "        1.32504033e+00,  1.32563211e+00,  1.32996320e+00,  1.33358251e+00,\n",
       "        1.33982010e+00,  1.34269506e+00,  1.34565015e+00,  1.34868576e+00,\n",
       "        1.35070633e+00,  1.35101471e+00,  1.35274180e+00,  1.35407808e+00,\n",
       "        1.35545861e+00,  1.35566936e+00,  1.36108645e+00,  1.37769842e+00,\n",
       "        1.38522033e+00,  1.38834198e+00,  1.38846515e+00,  1.39173457e+00,\n",
       "        1.39779812e+00,  1.39895670e+00,  1.40054789e+00,  1.40378102e+00,\n",
       "        1.40724261e+00,  1.41202017e+00,  1.41294128e+00,  1.42533179e+00,\n",
       "        1.42596973e+00,  1.43559054e+00,  1.46553356e+00,  1.46616756e+00,\n",
       "        1.46758046e+00,  1.47503256e+00,  1.48318564e+00,  1.48645346e+00,\n",
       "        1.50115701e+00,  1.50284332e+00,  1.50693304e+00,  1.51207677e+00,\n",
       "        1.51947107e+00,  1.52532300e+00,  1.53412051e+00,  1.56171052e+00,\n",
       "        1.56924458e+00,  1.57547246e+00,  1.58113742e+00,  1.60077800e+00,\n",
       "        1.65966312e+00,  1.67796214e+00,  1.68008420e+00,  1.68278608e+00,\n",
       "        1.68895953e+00,  1.69410665e+00,  1.69571480e+00,  1.70017968e+00,\n",
       "        1.70651420e+00,  1.71643924e+00,  1.72785067e+00,  1.74611532e+00,\n",
       "        1.74978413e+00,  1.75638583e+00,  1.76156561e+00,  1.76247054e+00,\n",
       "        1.77406570e+00,  1.78045024e+00,  1.78208777e+00,  1.78297111e+00,\n",
       "        1.80765406e+00,  1.82272467e+00,  1.84341801e+00,  1.88017309e+00,\n",
       "        1.88755907e+00,  1.88816739e+00,  1.89049063e+00,  1.89255638e+00,\n",
       "        1.89368499e+00,  1.91378785e+00,  1.91722522e+00,  1.93432230e+00,\n",
       "        1.96601771e+00,  1.97377401e+00,  1.97687862e+00,  1.98321977e+00,\n",
       "        1.99559724e+00,  2.02823355e+00,  2.05686280e+00,  2.06435235e+00,\n",
       "        2.10334391e+00,  2.10511905e+00,  2.14303852e+00,  2.21067786e+00,\n",
       "        2.22191700e+00,  2.23492189e+00,  2.24897805e+00,  2.26701383e+00,\n",
       "        2.29342552e+00,  2.29731737e+00,  2.51970467e+00,  2.59987065e+00,\n",
       "        2.79054496e+00,  2.88890943e+00,  3.06498745e+00,  3.12650296e+00])"
      ]
     },
     "execution_count": 279,
     "metadata": {},
     "output_type": "execute_result"
    }
   ],
   "source": [
    "arr"
   ]
  },
  {
   "cell_type": "code",
   "execution_count": 280,
   "metadata": {},
   "outputs": [
    {
     "data": {
      "text/plain": [
       "-1.6537148347368313"
      ]
     },
     "execution_count": 280,
     "metadata": {},
     "output_type": "execute_result"
    }
   ],
   "source": [
    "arr[int(len(arr)*0.05)] #5% Quartile"
   ]
  },
  {
   "cell_type": "code",
   "execution_count": 281,
   "metadata": {},
   "outputs": [
    {
     "data": {
      "text/plain": [
       "50.0"
      ]
     },
     "execution_count": 281,
     "metadata": {},
     "output_type": "execute_result"
    }
   ],
   "source": [
    "len(arr)*0.05 #5% Quartile"
   ]
  },
  {
   "cell_type": "code",
   "execution_count": 282,
   "metadata": {},
   "outputs": [
    {
     "data": {
      "text/plain": [
       "1000"
      ]
     },
     "execution_count": 282,
     "metadata": {},
     "output_type": "execute_result"
    }
   ],
   "source": [
    "len(arr)"
   ]
  },
  {
   "cell_type": "code",
   "execution_count": 283,
   "metadata": {},
   "outputs": [
    {
     "data": {
      "text/plain": [
       "-0.6804425693439127"
      ]
     },
     "execution_count": 283,
     "metadata": {},
     "output_type": "execute_result"
    }
   ],
   "source": [
    "arr[int(len(arr)*0.25)]"
   ]
  },
  {
   "cell_type": "code",
   "execution_count": 284,
   "metadata": {},
   "outputs": [
    {
     "data": {
      "text/plain": [
       "-0.6804425693439127"
      ]
     },
     "execution_count": 284,
     "metadata": {},
     "output_type": "execute_result"
    }
   ],
   "source": [
    "arr[250]"
   ]
  },
  {
   "cell_type": "markdown",
   "metadata": {},
   "source": [
    "## Unique and Other Set Logic"
   ]
  },
  {
   "cell_type": "code",
   "execution_count": 285,
   "metadata": {},
   "outputs": [],
   "source": [
    "names = np.array(['Jill', 'Bill', 'Jill', 'John', 'John'])"
   ]
  },
  {
   "cell_type": "code",
   "execution_count": 286,
   "metadata": {},
   "outputs": [
    {
     "data": {
      "text/plain": [
       "array(['Bill', 'Jill', 'John'], dtype='<U4')"
      ]
     },
     "execution_count": 286,
     "metadata": {},
     "output_type": "execute_result"
    }
   ],
   "source": [
    "np.unique(names)"
   ]
  },
  {
   "cell_type": "code",
   "execution_count": 287,
   "metadata": {},
   "outputs": [
    {
     "data": {
      "text/plain": [
       "['Bill', 'Jill', 'John']"
      ]
     },
     "execution_count": 287,
     "metadata": {},
     "output_type": "execute_result"
    }
   ],
   "source": [
    "sorted(set(names))"
   ]
  },
  {
   "cell_type": "code",
   "execution_count": 288,
   "metadata": {},
   "outputs": [],
   "source": [
    "vec = np.array([9, 9, 9, 9, 7, 7, 7, 7, 7, 7, 3, 3,])"
   ]
  },
  {
   "cell_type": "code",
   "execution_count": 289,
   "metadata": {},
   "outputs": [
    {
     "data": {
      "text/plain": [
       "array([9, 9, 9, 9, 7, 7, 7, 7, 7, 7, 3, 3])"
      ]
     },
     "execution_count": 289,
     "metadata": {},
     "output_type": "execute_result"
    }
   ],
   "source": [
    "vec"
   ]
  },
  {
   "cell_type": "code",
   "execution_count": 290,
   "metadata": {},
   "outputs": [
    {
     "data": {
      "text/plain": [
       "array([3, 7, 9])"
      ]
     },
     "execution_count": 290,
     "metadata": {},
     "output_type": "execute_result"
    }
   ],
   "source": [
    "np.unique(vec) #unique() returns the unique value from given array in sorted fashion"
   ]
  },
  {
   "cell_type": "code",
   "execution_count": 291,
   "metadata": {},
   "outputs": [
    {
     "data": {
      "text/plain": [
       "array([False, False, False, False, False, False, False, False, False,\n",
       "       False,  True,  True])"
      ]
     },
     "execution_count": 291,
     "metadata": {},
     "output_type": "execute_result"
    }
   ],
   "source": [
    "#np.in1d, tests membership of the values in one array in another\n",
    "np.in1d(vec, [1, 2, 3])"
   ]
  },
  {
   "cell_type": "markdown",
   "metadata": {},
   "source": [
    "*See Table 4-6 for a listing of set functions in NumPy.*\n",
    "\n",
    "![Listing of set functions in NumPy](Img/4.6.png)"
   ]
  },
  {
   "cell_type": "markdown",
   "metadata": {},
   "source": [
    "The given below are numpy set functions:"
   ]
  },
  {
   "cell_type": "code",
   "execution_count": 292,
   "metadata": {},
   "outputs": [
    {
     "data": {
      "text/plain": [
       "array([3, 9])"
      ]
     },
     "execution_count": 292,
     "metadata": {},
     "output_type": "execute_result"
    }
   ],
   "source": [
    "np.intersect1d(vec, [3,5,9]) #intersect1d(x, y) Compute the sorted, common elements in x and y"
   ]
  },
  {
   "cell_type": "code",
   "execution_count": 293,
   "metadata": {},
   "outputs": [
    {
     "data": {
      "text/plain": [
       "array([0, 1, 2, 3, 7, 9])"
      ]
     },
     "execution_count": 293,
     "metadata": {},
     "output_type": "execute_result"
    }
   ],
   "source": [
    "np.union1d(vec, [0,1,2]) #union1d(x, y) Compute the sorted union of elements"
   ]
  },
  {
   "cell_type": "code",
   "execution_count": 294,
   "metadata": {},
   "outputs": [
    {
     "data": {
      "text/plain": [
       "array([7, 9])"
      ]
     },
     "execution_count": 294,
     "metadata": {},
     "output_type": "execute_result"
    }
   ],
   "source": [
    "np.setdiff1d(vec, [1, 3]) #setdiff1d(x, y) Set difference, elements in x that are not in y"
   ]
  },
  {
   "cell_type": "code",
   "execution_count": 295,
   "metadata": {},
   "outputs": [
    {
     "data": {
      "text/plain": [
       "array([1, 2, 3, 9])"
      ]
     },
     "execution_count": 295,
     "metadata": {},
     "output_type": "execute_result"
    }
   ],
   "source": [
    "np.setxor1d(vec, [1, 2, 7]) #setxor1d(x, y) Set symmetric differences; elements that are in either of the arrays, but not both"
   ]
  },
  {
   "cell_type": "markdown",
   "metadata": {},
   "source": [
    "# 4.4 File Input and Output with Arrays"
   ]
  },
  {
   "cell_type": "code",
   "execution_count": 296,
   "metadata": {},
   "outputs": [],
   "source": [
    "arr = np.arange(10000)"
   ]
  },
  {
   "cell_type": "code",
   "execution_count": 297,
   "metadata": {},
   "outputs": [
    {
     "data": {
      "text/plain": [
       "array([   0,    1,    2, ..., 9997, 9998, 9999])"
      ]
     },
     "execution_count": 297,
     "metadata": {},
     "output_type": "execute_result"
    }
   ],
   "source": [
    "arr"
   ]
  },
  {
   "cell_type": "code",
   "execution_count": 298,
   "metadata": {},
   "outputs": [],
   "source": [
    "np.save('some_arrayA', arr) #Saved by default in an uncompressed raw binary format with file extension .npy"
   ]
  },
  {
   "cell_type": "code",
   "execution_count": 299,
   "metadata": {},
   "outputs": [],
   "source": [
    "arr = np.load('some_arrayA.npy') #Loads the data"
   ]
  },
  {
   "cell_type": "code",
   "execution_count": 300,
   "metadata": {},
   "outputs": [
    {
     "data": {
      "text/plain": [
       "array([   0,    1,    2, ..., 9997, 9998, 9999])"
      ]
     },
     "execution_count": 300,
     "metadata": {},
     "output_type": "execute_result"
    }
   ],
   "source": [
    "arr"
   ]
  },
  {
   "cell_type": "markdown",
   "metadata": {},
   "source": [
    "To save multi dimensional array:"
   ]
  },
  {
   "cell_type": "code",
   "execution_count": 301,
   "metadata": {},
   "outputs": [],
   "source": [
    "arr = np.arange(20).reshape(10,2)"
   ]
  },
  {
   "cell_type": "code",
   "execution_count": 302,
   "metadata": {},
   "outputs": [
    {
     "data": {
      "text/plain": [
       "array([[ 0,  1],\n",
       "       [ 2,  3],\n",
       "       [ 4,  5],\n",
       "       [ 6,  7],\n",
       "       [ 8,  9],\n",
       "       [10, 11],\n",
       "       [12, 13],\n",
       "       [14, 15],\n",
       "       [16, 17],\n",
       "       [18, 19]])"
      ]
     },
     "execution_count": 302,
     "metadata": {},
     "output_type": "execute_result"
    }
   ],
   "source": [
    "arr"
   ]
  },
  {
   "cell_type": "code",
   "execution_count": 303,
   "metadata": {},
   "outputs": [],
   "source": [
    "np.savez('some_2darray', a=arr[:,0], b=arr[:,1]) #Save as dictionary with keys 'a' and 'b'"
   ]
  },
  {
   "cell_type": "code",
   "execution_count": 304,
   "metadata": {},
   "outputs": [],
   "source": [
    "arr_2d = np.load('some_2darray.npz')"
   ]
  },
  {
   "cell_type": "code",
   "execution_count": 305,
   "metadata": {},
   "outputs": [
    {
     "data": {
      "text/plain": [
       "<numpy.lib.npyio.NpzFile at 0x2b946aacc48>"
      ]
     },
     "execution_count": 305,
     "metadata": {},
     "output_type": "execute_result"
    }
   ],
   "source": [
    "arr_2d"
   ]
  },
  {
   "cell_type": "code",
   "execution_count": 306,
   "metadata": {},
   "outputs": [
    {
     "data": {
      "text/plain": [
       "array([ 0,  2,  4,  6,  8, 10, 12, 14, 16, 18])"
      ]
     },
     "execution_count": 306,
     "metadata": {},
     "output_type": "execute_result"
    }
   ],
   "source": [
    "arr_2d['a']"
   ]
  },
  {
   "cell_type": "code",
   "execution_count": 307,
   "metadata": {},
   "outputs": [
    {
     "data": {
      "text/plain": [
       "array([ 1,  3,  5,  7,  9, 11, 13, 15, 17, 19])"
      ]
     },
     "execution_count": 307,
     "metadata": {},
     "output_type": "execute_result"
    }
   ],
   "source": [
    "arr_2d['b']"
   ]
  },
  {
   "cell_type": "markdown",
   "metadata": {},
   "source": [
    " To compresses data well, you may wish to use numpy.savez_compressed instead:"
   ]
  },
  {
   "cell_type": "code",
   "execution_count": 308,
   "metadata": {},
   "outputs": [],
   "source": [
    "np.savez_compressed('compressed_arr', a=arr[:,0], b=arr[:,1])"
   ]
  },
  {
   "cell_type": "markdown",
   "metadata": {},
   "source": [
    "# 4.5 Linear Algebra"
   ]
  },
  {
   "cell_type": "code",
   "execution_count": 309,
   "metadata": {},
   "outputs": [
    {
     "data": {
      "text/plain": [
       "array([[0, 1, 2],\n",
       "       [3, 4, 5]])"
      ]
     },
     "execution_count": 309,
     "metadata": {},
     "output_type": "execute_result"
    }
   ],
   "source": [
    "x = np.arange(6).reshape(2,3)\n",
    "x"
   ]
  },
  {
   "cell_type": "code",
   "execution_count": 310,
   "metadata": {},
   "outputs": [
    {
     "data": {
      "text/plain": [
       "array([[10, 11, 12],\n",
       "       [13, 14, 15]])"
      ]
     },
     "execution_count": 310,
     "metadata": {},
     "output_type": "execute_result"
    }
   ],
   "source": [
    "y = np.arange(10,16).reshape(2,3)\n",
    "y"
   ]
  },
  {
   "cell_type": "code",
   "execution_count": 311,
   "metadata": {},
   "outputs": [
    {
     "data": {
      "text/plain": [
       "array([[ 0, 11, 24],\n",
       "       [39, 56, 75]])"
      ]
     },
     "execution_count": 311,
     "metadata": {},
     "output_type": "execute_result"
    }
   ],
   "source": [
    "x * y #Element wise multiplication"
   ]
  },
  {
   "cell_type": "code",
   "execution_count": 312,
   "metadata": {},
   "outputs": [
    {
     "data": {
      "text/plain": [
       "array([[10, 11],\n",
       "       [12, 13],\n",
       "       [14, 15]])"
      ]
     },
     "execution_count": 312,
     "metadata": {},
     "output_type": "execute_result"
    }
   ],
   "source": [
    "y = np.arange(10,16).reshape(3,2)\n",
    "y"
   ]
  },
  {
   "cell_type": "code",
   "execution_count": 314,
   "metadata": {},
   "outputs": [
    {
     "data": {
      "text/plain": [
       "array([[ 40,  43],\n",
       "       [148, 160]])"
      ]
     },
     "execution_count": 314,
     "metadata": {},
     "output_type": "execute_result"
    }
   ],
   "source": [
    "x.dot(y) #Dot product of x and y"
   ]
  },
  {
   "cell_type": "code",
   "execution_count": 315,
   "metadata": {},
   "outputs": [
    {
     "data": {
      "text/plain": [
       "array([[ 40,  43],\n",
       "       [148, 160]])"
      ]
     },
     "execution_count": 315,
     "metadata": {},
     "output_type": "execute_result"
    }
   ],
   "source": [
    "np.dot(x, y) #Same as the above"
   ]
  },
  {
   "cell_type": "code",
   "execution_count": 326,
   "metadata": {},
   "outputs": [
    {
     "data": {
      "text/plain": [
       "array([ 3., 12.])"
      ]
     },
     "execution_count": 326,
     "metadata": {},
     "output_type": "execute_result"
    }
   ],
   "source": [
    "np.dot(x, np.ones(3))"
   ]
  },
  {
   "cell_type": "markdown",
   "metadata": {},
   "source": [
    "The @ symbol (as of Python 3.5) also works as an infix operator that performs matrix multiplication"
   ]
  },
  {
   "cell_type": "code",
   "execution_count": 325,
   "metadata": {},
   "outputs": [
    {
     "data": {
      "text/plain": [
       "array([ 3., 12.])"
      ]
     },
     "execution_count": 325,
     "metadata": {},
     "output_type": "execute_result"
    }
   ],
   "source": [
    "x @ np.ones(3)"
   ]
  },
  {
   "cell_type": "markdown",
   "metadata": {},
   "source": [
    "numpy.linalg has a standard set of matrix decompositions and things like inverse and determinant."
   ]
  },
  {
   "cell_type": "code",
   "execution_count": 374,
   "metadata": {},
   "outputs": [],
   "source": [
    "from numpy.linalg import inv, qr, det"
   ]
  },
  {
   "cell_type": "code",
   "execution_count": 328,
   "metadata": {},
   "outputs": [],
   "source": [
    "X = np.random.randn(5,5)"
   ]
  },
  {
   "cell_type": "code",
   "execution_count": 329,
   "metadata": {},
   "outputs": [
    {
     "data": {
      "text/plain": [
       "array([[ 0.77573735,  0.63587274, -0.26245578,  0.01840518,  2.26310304],\n",
       "       [-0.40978539,  0.70327551, -1.03655945,  1.18164295, -1.0397453 ],\n",
       "       [-1.15711736, -0.2086081 , -0.1662675 ,  0.12082236, -0.92477171],\n",
       "       [-2.36774817, -0.30444563,  0.09768019,  1.27086843,  0.20623732],\n",
       "       [-1.23975092, -0.41120002,  1.29857183,  0.20249664,  1.24463892]])"
      ]
     },
     "execution_count": 329,
     "metadata": {},
     "output_type": "execute_result"
    }
   ],
   "source": [
    "X"
   ]
  },
  {
   "cell_type": "code",
   "execution_count": 331,
   "metadata": {},
   "outputs": [],
   "source": [
    "mat = (X.T).dot(X)"
   ]
  },
  {
   "cell_type": "code",
   "execution_count": 332,
   "metadata": {},
   "outputs": [
    {
     "data": {
      "text/plain": [
       "array([[ 9.25182682,  1.67709844, -1.42762653, -3.86988988,  1.22035512],\n",
       "       [ 1.67709844,  1.20422052, -1.42490167,  0.34734242,  0.32614941],\n",
       "       [-1.42762653, -1.42490167,  2.86681365, -0.86266745,  2.27395117],\n",
       "       [-3.86988988,  0.34734242, -0.86266745,  3.06732832, -0.78455229],\n",
       "       [ 1.22035512,  0.32614941,  2.27395117, -0.78455229,  8.64956824]])"
      ]
     },
     "execution_count": 332,
     "metadata": {},
     "output_type": "execute_result"
    }
   ],
   "source": [
    "mat"
   ]
  },
  {
   "cell_type": "code",
   "execution_count": 333,
   "metadata": {},
   "outputs": [
    {
     "data": {
      "text/plain": [
       "array([[ 2.05360949, -4.17274799, -0.31856631,  3.03175139,  0.22634403],\n",
       "       [-4.17274799, 13.88748003,  4.28188413, -6.04441129, -1.60887929],\n",
       "       [-0.31856631,  4.28188413,  2.96230476, -0.28937566, -0.92154157],\n",
       "       [ 3.03175139, -6.04441129, -0.28937566,  4.83461148,  0.3147671 ],\n",
       "       [ 0.22634403, -1.60887929, -0.92154157,  0.3147671 ,  0.41516601]])"
      ]
     },
     "execution_count": 333,
     "metadata": {},
     "output_type": "execute_result"
    }
   ],
   "source": [
    "inv(mat)"
   ]
  },
  {
   "cell_type": "code",
   "execution_count": 338,
   "metadata": {},
   "outputs": [
    {
     "data": {
      "text/plain": [
       "array([[ 1.00000000e+00, -3.41791751e-15,  2.88823329e-16,\n",
       "         6.36344071e-16, -1.23678231e-16],\n",
       "       [ 2.98720745e-16,  1.00000000e+00,  4.35864211e-17,\n",
       "         1.74444637e-16,  3.40518684e-16],\n",
       "       [-6.76381181e-16, -1.57137302e-15,  1.00000000e+00,\n",
       "        -6.61611012e-16, -1.46423349e-16],\n",
       "       [ 9.68541063e-16,  2.99363915e-15,  9.93869448e-16,\n",
       "         1.00000000e+00,  3.32177453e-17],\n",
       "       [-4.27508919e-17, -4.22028645e-17, -7.85936058e-16,\n",
       "         6.33721486e-16,  1.00000000e+00]])"
      ]
     },
     "execution_count": 338,
     "metadata": {},
     "output_type": "execute_result"
    }
   ],
   "source": [
    "mat.dot(inv(mat))"
   ]
  },
  {
   "cell_type": "code",
   "execution_count": 348,
   "metadata": {},
   "outputs": [
    {
     "data": {
      "text/plain": [
       "array([[1, 0, 0, 0, 0],\n",
       "       [0, 1, 0, 0, 0],\n",
       "       [0, 0, 1, 0, 0],\n",
       "       [0, 0, 0, 1, 0],\n",
       "       [0, 0, 0, 0, 1]])"
      ]
     },
     "execution_count": 348,
     "metadata": {},
     "output_type": "execute_result"
    }
   ],
   "source": [
    "np.round_(mat.dot(inv(mat))).astype(int) #The above matrix is identiy mat as A.(A^-1) = I"
   ]
  },
  {
   "cell_type": "code",
   "execution_count": 340,
   "metadata": {},
   "outputs": [],
   "source": [
    "q, r = qr(mat)"
   ]
  },
  {
   "cell_type": "code",
   "execution_count": 341,
   "metadata": {},
   "outputs": [
    {
     "data": {
      "text/plain": [
       "array([[-0.89477424, -0.03616212,  0.05256222, -0.42624476,  0.11672175],\n",
       "       [-0.16219764, -0.50392106, -0.1044229 ,  0.14316589, -0.82967155],\n",
       "       [ 0.1380704 ,  0.64985769, -0.27211832, -0.50866103, -0.47522323],\n",
       "       [ 0.37426963, -0.56436146, -0.11809354, -0.70790149,  0.16232001],\n",
       "       [-0.11802451, -0.06274546, -0.94780726,  0.19482907,  0.21409401]])"
      ]
     },
     "execution_count": 341,
     "metadata": {},
     "output_type": "execute_result"
    }
   ],
   "source": [
    "q"
   ]
  },
  {
   "cell_type": "code",
   "execution_count": 352,
   "metadata": {},
   "outputs": [
    {
     "data": {
      "text/plain": [
       "array([[-10.3398448 ,  -1.80117687,   1.31308906,   4.52783507,\n",
       "         -2.14537279],\n",
       "       [  0.        ,  -1.80995389,   2.97686101,  -2.27755561,\n",
       "          1.16931042],\n",
       "       [  0.        ,   0.        ,  -2.75975135,   0.37643979,\n",
       "         -8.6941697 ],\n",
       "       [  0.        ,   0.        ,   0.        ,  -0.18616668,\n",
       "          0.61042622],\n",
       "       [  0.        ,   0.        ,   0.        ,   0.        ,\n",
       "          0.51568291]])"
      ]
     },
     "execution_count": 352,
     "metadata": {},
     "output_type": "execute_result"
    }
   ],
   "source": [
    "r"
   ]
  },
  {
   "cell_type": "code",
   "execution_count": 353,
   "metadata": {},
   "outputs": [
    {
     "data": {
      "text/plain": [
       "array([[ 9.25182682,  1.67709844, -1.42762653, -3.86988988,  1.22035512],\n",
       "       [ 1.67709844,  1.20422052, -1.42490167,  0.34734242,  0.32614941],\n",
       "       [-1.42762653, -1.42490167,  2.86681365, -0.86266745,  2.27395117],\n",
       "       [-3.86988988,  0.34734242, -0.86266745,  3.06732832, -0.78455229],\n",
       "       [ 1.22035512,  0.32614941,  2.27395117, -0.78455229,  8.64956824]])"
      ]
     },
     "execution_count": 353,
     "metadata": {},
     "output_type": "execute_result"
    }
   ],
   "source": [
    "mat"
   ]
  },
  {
   "cell_type": "markdown",
   "metadata": {},
   "source": [
    "*See Table 4-7. Commonly used numpy.linalg functions*\n",
    "\n",
    "![Commonly used numpy.linalg functions](Img/4.7a.png)"
   ]
  },
  {
   "cell_type": "markdown",
   "metadata": {},
   "source": [
    "![Commonly used numpy.linalg functions](Img/4.7b.png)"
   ]
  },
  {
   "cell_type": "code",
   "execution_count": 364,
   "metadata": {},
   "outputs": [
    {
     "data": {
      "text/plain": [
       "array([9.25182682, 1.20422052, 2.86681365, 3.06732832, 8.64956824])"
      ]
     },
     "execution_count": 364,
     "metadata": {},
     "output_type": "execute_result"
    }
   ],
   "source": [
    "mat.diagonal() #returns the diagonal as 1d array"
   ]
  },
  {
   "cell_type": "code",
   "execution_count": 368,
   "metadata": {},
   "outputs": [
    {
     "data": {
      "text/plain": [
       "25.039757554954654"
      ]
     },
     "execution_count": 368,
     "metadata": {},
     "output_type": "execute_result"
    }
   ],
   "source": [
    "np.trace(mat, offset=0) #returns the sum of diagonal and changing value of offset changes diagonal orientation"
   ]
  },
  {
   "cell_type": "code",
   "execution_count": 376,
   "metadata": {},
   "outputs": [
    {
     "data": {
      "text/plain": [
       "4.958338611915771"
      ]
     },
     "execution_count": 376,
     "metadata": {},
     "output_type": "execute_result"
    }
   ],
   "source": [
    "det(mat)"
   ]
  },
  {
   "cell_type": "code",
   "execution_count": 377,
   "metadata": {},
   "outputs": [
    {
     "data": {
      "text/plain": [
       "4.958338611915771"
      ]
     },
     "execution_count": 377,
     "metadata": {},
     "output_type": "execute_result"
    }
   ],
   "source": [
    "np.linalg.det(mat)"
   ]
  },
  {
   "cell_type": "markdown",
   "metadata": {},
   "source": [
    "# 4.6 Pseudorandom Number Generation"
   ]
  },
  {
   "cell_type": "code",
   "execution_count": 378,
   "metadata": {},
   "outputs": [],
   "source": [
    "samples = np.random.normal(size=(4,4)) #4x4 array generated from normal distribution"
   ]
  },
  {
   "cell_type": "code",
   "execution_count": 379,
   "metadata": {},
   "outputs": [
    {
     "data": {
      "text/plain": [
       "array([[ 1.22774389, -0.65537398, -0.02246932,  1.026878  ],\n",
       "       [ 0.29116875,  0.64068814, -0.00832504,  1.16067584],\n",
       "       [-0.51394504,  0.14083247, -0.58099216,  0.20211729],\n",
       "       [ 0.14806108, -0.40346457,  0.72799316, -0.3546165 ]])"
      ]
     },
     "execution_count": 379,
     "metadata": {},
     "output_type": "execute_result"
    }
   ],
   "source": [
    "samples"
   ]
  },
  {
   "cell_type": "code",
   "execution_count": 380,
   "metadata": {},
   "outputs": [],
   "source": [
    "from random import normalvariate"
   ]
  },
  {
   "cell_type": "code",
   "execution_count": 381,
   "metadata": {},
   "outputs": [],
   "source": [
    "N = 1000"
   ]
  },
  {
   "cell_type": "code",
   "execution_count": 382,
   "metadata": {},
   "outputs": [
    {
     "name": "stdout",
     "output_type": "stream",
     "text": [
      "2.54 ms ± 450 µs per loop (mean ± std. dev. of 7 runs, 100 loops each)\n"
     ]
    }
   ],
   "source": [
    "%timeit samples = [normalvariate(0,1) for _ in range(N)]"
   ]
  },
  {
   "cell_type": "code",
   "execution_count": 385,
   "metadata": {},
   "outputs": [
    {
     "name": "stdout",
     "output_type": "stream",
     "text": [
      "85.2 µs ± 12.7 µs per loop (mean ± std. dev. of 7 runs, 10000 loops each)\n"
     ]
    }
   ],
   "source": [
    "%timeit samples = np.random.normal(size=N)"
   ]
  },
  {
   "cell_type": "markdown",
   "metadata": {},
   "source": [
    "We say that these are pseudorandom numbers because they are generated by an algorithm with deterministic behavior based on the seed of the random number generator. You can change NumPy’s random number generation seed using np.random.seed"
   ]
  },
  {
   "cell_type": "code",
   "execution_count": 384,
   "metadata": {},
   "outputs": [],
   "source": [
    "np.random.seed(1234)"
   ]
  },
  {
   "cell_type": "code",
   "execution_count": 400,
   "metadata": {},
   "outputs": [],
   "source": [
    "rng = np.random.RandomState(1234)"
   ]
  },
  {
   "cell_type": "code",
   "execution_count": 401,
   "metadata": {},
   "outputs": [
    {
     "data": {
      "text/plain": [
       "RandomState(MT19937) at 0x2B949387D08"
      ]
     },
     "execution_count": 401,
     "metadata": {},
     "output_type": "execute_result"
    }
   ],
   "source": [
    "rng #Random state object"
   ]
  },
  {
   "cell_type": "code",
   "execution_count": 402,
   "metadata": {},
   "outputs": [
    {
     "data": {
      "text/plain": [
       "array([ 0.47143516, -1.19097569,  1.43270697, -0.3126519 , -0.72058873,\n",
       "        0.88716294,  0.85958841, -0.6365235 ,  0.01569637, -2.24268495])"
      ]
     },
     "execution_count": 402,
     "metadata": {},
     "output_type": "execute_result"
    }
   ],
   "source": [
    "rng.randn(10)"
   ]
  },
  {
   "cell_type": "markdown",
   "metadata": {},
   "source": [
    "*See Table 4-8 for a partial list of functions available in numpy.random*\n",
    "\n",
    "![Partial list of functions available in numpy.random](Img/4.8.png)"
   ]
  },
  {
   "cell_type": "code",
   "execution_count": 403,
   "metadata": {},
   "outputs": [],
   "source": [
    "np.random.seed(100)"
   ]
  },
  {
   "cell_type": "code",
   "execution_count": 407,
   "metadata": {},
   "outputs": [
    {
     "data": {
      "text/plain": [
       "array([-0.9374954 ,  0.38421144, -0.66167997,  2.58785597, -1.08310212,\n",
       "       -2.06634065, -1.27064503, -2.09572442, -2.13740639,  0.91584868])"
      ]
     },
     "execution_count": 407,
     "metadata": {},
     "output_type": "execute_result"
    }
   ],
   "source": [
    "np.random.randn(10)"
   ]
  },
  {
   "cell_type": "code",
   "execution_count": 409,
   "metadata": {},
   "outputs": [
    {
     "data": {
      "text/plain": [
       "array([ 5, 14,  0,  1,  8,  7,  2,  4, 11,  6,  3, 10, 12,  9, 13])"
      ]
     },
     "execution_count": 409,
     "metadata": {},
     "output_type": "execute_result"
    }
   ],
   "source": [
    "np.random.permutation(15) #Return a random permutation of a sequence, or return a permuted range"
   ]
  },
  {
   "cell_type": "code",
   "execution_count": 413,
   "metadata": {},
   "outputs": [],
   "source": [
    "np.random.shuffle(arr) #Randomly permute a sequence in-place"
   ]
  },
  {
   "cell_type": "code",
   "execution_count": 414,
   "metadata": {},
   "outputs": [
    {
     "data": {
      "text/plain": [
       "array([[ 6,  7],\n",
       "       [ 0,  1],\n",
       "       [12, 13],\n",
       "       [ 2,  3],\n",
       "       [16, 17],\n",
       "       [10, 11],\n",
       "       [18, 19],\n",
       "       [14, 15],\n",
       "       [ 8,  9],\n",
       "       [ 4,  5]])"
      ]
     },
     "execution_count": 414,
     "metadata": {},
     "output_type": "execute_result"
    }
   ],
   "source": [
    "arr"
   ]
  },
  {
   "cell_type": "code",
   "execution_count": 415,
   "metadata": {},
   "outputs": [
    {
     "data": {
      "text/plain": [
       "array([0.94637988, 0.60229666, 0.38776628, 0.363188  , 0.20434528,\n",
       "       0.27676506, 0.24653588, 0.173608  , 0.96660969, 0.9570126 ,\n",
       "       0.59797368, 0.73130075, 0.34038522, 0.0920556 , 0.46349802])"
      ]
     },
     "execution_count": 415,
     "metadata": {},
     "output_type": "execute_result"
    }
   ],
   "source": [
    "np.random.rand(15) #Draw samples from a uniform distribution"
   ]
  },
  {
   "cell_type": "code",
   "execution_count": 418,
   "metadata": {},
   "outputs": [
    {
     "data": {
      "text/plain": [
       "81"
      ]
     },
     "execution_count": 418,
     "metadata": {},
     "output_type": "execute_result"
    }
   ],
   "source": [
    "np.random.randint(low=15, high=100) #Draw random integers from a given low-to-high range"
   ]
  },
  {
   "cell_type": "code",
   "execution_count": 424,
   "metadata": {},
   "outputs": [
    {
     "data": {
      "text/plain": [
       "7"
      ]
     },
     "execution_count": 424,
     "metadata": {},
     "output_type": "execute_result"
    }
   ],
   "source": [
    "np.random.binomial(15, 0.75) #Draw samples from a binomial distribution"
   ]
  },
  {
   "cell_type": "markdown",
   "metadata": {},
   "source": [
    "Table 4-8. Partial list of numpy.random functions"
   ]
  },
  {
   "cell_type": "markdown",
   "metadata": {},
   "source": [
    "# 4.7 Example: Random Walks"
   ]
  },
  {
   "cell_type": "code",
   "execution_count": 425,
   "metadata": {},
   "outputs": [],
   "source": [
    "import random"
   ]
  },
  {
   "cell_type": "code",
   "execution_count": 427,
   "metadata": {},
   "outputs": [],
   "source": [
    "pos = 0\n",
    "walk = [pos]\n",
    "steps = 1000"
   ]
  },
  {
   "cell_type": "code",
   "execution_count": 428,
   "metadata": {},
   "outputs": [],
   "source": [
    "for i in range(steps): #Random Walk\n",
    "    step = 1 if random.randint(0,1) else -1\n",
    "    pos += step\n",
    "    walk.append(pos)"
   ]
  },
  {
   "cell_type": "code",
   "execution_count": 431,
   "metadata": {},
   "outputs": [
    {
     "data": {
      "text/plain": [
       "[0,\n",
       " -1,\n",
       " -2,\n",
       " -1,\n",
       " -2,\n",
       " -3,\n",
       " -2,\n",
       " -1,\n",
       " 0,\n",
       " 1,\n",
       " 0,\n",
       " 1,\n",
       " 2,\n",
       " 1,\n",
       " 2,\n",
       " 3,\n",
       " 4,\n",
       " 3,\n",
       " 2,\n",
       " 1,\n",
       " 2,\n",
       " 3,\n",
       " 4,\n",
       " 3,\n",
       " 2,\n",
       " 3,\n",
       " 2,\n",
       " 1,\n",
       " 2,\n",
       " 3,\n",
       " 2,\n",
       " 3,\n",
       " 2,\n",
       " 1,\n",
       " 0,\n",
       " -1,\n",
       " -2,\n",
       " -3,\n",
       " -2,\n",
       " -1,\n",
       " 0,\n",
       " 1,\n",
       " 0,\n",
       " -1,\n",
       " -2,\n",
       " -3,\n",
       " -4,\n",
       " -5,\n",
       " -6,\n",
       " -5,\n",
       " -4,\n",
       " -3,\n",
       " -4,\n",
       " -3,\n",
       " -2,\n",
       " -1,\n",
       " 0,\n",
       " 1,\n",
       " 0,\n",
       " 1,\n",
       " 0,\n",
       " -1,\n",
       " 0,\n",
       " 1,\n",
       " 0,\n",
       " 1,\n",
       " 2,\n",
       " 1,\n",
       " 0,\n",
       " 1,\n",
       " 0,\n",
       " -1,\n",
       " -2,\n",
       " -1,\n",
       " 0,\n",
       " 1,\n",
       " 2,\n",
       " 3,\n",
       " 2,\n",
       " 1,\n",
       " 0,\n",
       " 1,\n",
       " 2,\n",
       " 1,\n",
       " 2,\n",
       " 3,\n",
       " 4,\n",
       " 3,\n",
       " 2,\n",
       " 3,\n",
       " 2,\n",
       " 1,\n",
       " 0,\n",
       " -1,\n",
       " -2,\n",
       " -3,\n",
       " -2,\n",
       " -3,\n",
       " -2,\n",
       " -3,\n",
       " -2,\n",
       " -1,\n",
       " 0,\n",
       " 1,\n",
       " 0,\n",
       " -1,\n",
       " 0,\n",
       " -1,\n",
       " 0,\n",
       " -1,\n",
       " 0,\n",
       " -1,\n",
       " -2,\n",
       " -1,\n",
       " 0,\n",
       " 1,\n",
       " 2,\n",
       " 3,\n",
       " 4,\n",
       " 3,\n",
       " 4,\n",
       " 3,\n",
       " 4,\n",
       " 3,\n",
       " 2,\n",
       " 1,\n",
       " 2,\n",
       " 3,\n",
       " 2,\n",
       " 3,\n",
       " 2,\n",
       " 1,\n",
       " 2,\n",
       " 3,\n",
       " 2,\n",
       " 3,\n",
       " 2,\n",
       " 1,\n",
       " 0,\n",
       " 1,\n",
       " 2,\n",
       " 1,\n",
       " 0,\n",
       " 1,\n",
       " 2,\n",
       " 1,\n",
       " 0,\n",
       " -1,\n",
       " 0,\n",
       " -1,\n",
       " 0,\n",
       " 1,\n",
       " 2,\n",
       " 1,\n",
       " 2,\n",
       " 3,\n",
       " 2,\n",
       " 1,\n",
       " 0,\n",
       " 1,\n",
       " 0,\n",
       " -1,\n",
       " -2,\n",
       " -3,\n",
       " -2,\n",
       " -1,\n",
       " -2,\n",
       " -1,\n",
       " -2,\n",
       " -3,\n",
       " -4,\n",
       " -3,\n",
       " -4,\n",
       " -5,\n",
       " -6,\n",
       " -5,\n",
       " -6,\n",
       " -5,\n",
       " -4,\n",
       " -3,\n",
       " -4,\n",
       " -3,\n",
       " -2,\n",
       " -3,\n",
       " -2,\n",
       " -3,\n",
       " -4,\n",
       " -3,\n",
       " -2,\n",
       " -1,\n",
       " -2,\n",
       " -3,\n",
       " -2,\n",
       " -3,\n",
       " -4,\n",
       " -5,\n",
       " -4,\n",
       " -5,\n",
       " -6,\n",
       " -7,\n",
       " -6,\n",
       " -7,\n",
       " -8,\n",
       " -7,\n",
       " -6,\n",
       " -7,\n",
       " -6,\n",
       " -7,\n",
       " -8,\n",
       " -7,\n",
       " -6,\n",
       " -5,\n",
       " -6,\n",
       " -5,\n",
       " -6,\n",
       " -5,\n",
       " -4,\n",
       " -5,\n",
       " -6,\n",
       " -7,\n",
       " -8,\n",
       " -9,\n",
       " -8,\n",
       " -9,\n",
       " -8,\n",
       " -9,\n",
       " -10,\n",
       " -9,\n",
       " -10,\n",
       " -11,\n",
       " -10,\n",
       " -11,\n",
       " -12,\n",
       " -11,\n",
       " -12,\n",
       " -11,\n",
       " -12,\n",
       " -11,\n",
       " -10,\n",
       " -11,\n",
       " -10,\n",
       " -9,\n",
       " -8,\n",
       " -9,\n",
       " -10,\n",
       " -11,\n",
       " -10,\n",
       " -11,\n",
       " -10,\n",
       " -11,\n",
       " -10,\n",
       " -11,\n",
       " -12,\n",
       " -11,\n",
       " -12,\n",
       " -11,\n",
       " -10,\n",
       " -11,\n",
       " -12,\n",
       " -11,\n",
       " -10,\n",
       " -11,\n",
       " -12,\n",
       " -11,\n",
       " -12,\n",
       " -13,\n",
       " -12,\n",
       " -11,\n",
       " -12,\n",
       " -11,\n",
       " -10,\n",
       " -11,\n",
       " -10,\n",
       " -9,\n",
       " -8,\n",
       " -9,\n",
       " -8,\n",
       " -7,\n",
       " -6,\n",
       " -7,\n",
       " -8,\n",
       " -9,\n",
       " -10,\n",
       " -11,\n",
       " -10,\n",
       " -9,\n",
       " -8,\n",
       " -9,\n",
       " -8,\n",
       " -7,\n",
       " -8,\n",
       " -9,\n",
       " -8,\n",
       " -9,\n",
       " -10,\n",
       " -9,\n",
       " -10,\n",
       " -11,\n",
       " -10,\n",
       " -9,\n",
       " -8,\n",
       " -7,\n",
       " -8,\n",
       " -9,\n",
       " -8,\n",
       " -7,\n",
       " -6,\n",
       " -7,\n",
       " -6,\n",
       " -5,\n",
       " -4,\n",
       " -5,\n",
       " -4,\n",
       " -3,\n",
       " -2,\n",
       " -3,\n",
       " -4,\n",
       " -3,\n",
       " -2,\n",
       " -1,\n",
       " -2,\n",
       " -1,\n",
       " -2,\n",
       " -1,\n",
       " 0,\n",
       " -1,\n",
       " 0,\n",
       " -1,\n",
       " 0,\n",
       " 1,\n",
       " 0,\n",
       " -1,\n",
       " 0,\n",
       " -1,\n",
       " -2,\n",
       " -1,\n",
       " -2,\n",
       " -3,\n",
       " -2,\n",
       " -3,\n",
       " -4,\n",
       " -3,\n",
       " -4,\n",
       " -3,\n",
       " -4,\n",
       " -3,\n",
       " -2,\n",
       " -1,\n",
       " -2,\n",
       " -1,\n",
       " 0,\n",
       " 1,\n",
       " 0,\n",
       " 1,\n",
       " 2,\n",
       " 3,\n",
       " 4,\n",
       " 5,\n",
       " 4,\n",
       " 5,\n",
       " 4,\n",
       " 3,\n",
       " 4,\n",
       " 5,\n",
       " 4,\n",
       " 3,\n",
       " 4,\n",
       " 5,\n",
       " 4,\n",
       " 5,\n",
       " 6,\n",
       " 7,\n",
       " 8,\n",
       " 7,\n",
       " 6,\n",
       " 7,\n",
       " 8,\n",
       " 9,\n",
       " 8,\n",
       " 9,\n",
       " 10,\n",
       " 11,\n",
       " 12,\n",
       " 13,\n",
       " 12,\n",
       " 13,\n",
       " 12,\n",
       " 13,\n",
       " 12,\n",
       " 11,\n",
       " 10,\n",
       " 9,\n",
       " 10,\n",
       " 11,\n",
       " 12,\n",
       " 13,\n",
       " 12,\n",
       " 11,\n",
       " 12,\n",
       " 11,\n",
       " 10,\n",
       " 9,\n",
       " 10,\n",
       " 9,\n",
       " 8,\n",
       " 7,\n",
       " 6,\n",
       " 7,\n",
       " 8,\n",
       " 9,\n",
       " 10,\n",
       " 11,\n",
       " 12,\n",
       " 11,\n",
       " 10,\n",
       " 9,\n",
       " 8,\n",
       " 7,\n",
       " 6,\n",
       " 5,\n",
       " 4,\n",
       " 3,\n",
       " 2,\n",
       " 1,\n",
       " 0,\n",
       " 1,\n",
       " 2,\n",
       " 3,\n",
       " 2,\n",
       " 3,\n",
       " 2,\n",
       " 3,\n",
       " 2,\n",
       " 1,\n",
       " 2,\n",
       " 1,\n",
       " 2,\n",
       " 3,\n",
       " 2,\n",
       " 3,\n",
       " 4,\n",
       " 5,\n",
       " 6,\n",
       " 5,\n",
       " 4,\n",
       " 5,\n",
       " 4,\n",
       " 3,\n",
       " 4,\n",
       " 3,\n",
       " 4,\n",
       " 3,\n",
       " 4,\n",
       " 5,\n",
       " 6,\n",
       " 7,\n",
       " 8,\n",
       " 9,\n",
       " 10,\n",
       " 11,\n",
       " 12,\n",
       " 13,\n",
       " 12,\n",
       " 11,\n",
       " 10,\n",
       " 11,\n",
       " 12,\n",
       " 13,\n",
       " 14,\n",
       " 13,\n",
       " 14,\n",
       " 15,\n",
       " 16,\n",
       " 15,\n",
       " 16,\n",
       " 15,\n",
       " 14,\n",
       " 13,\n",
       " 12,\n",
       " 13,\n",
       " 14,\n",
       " 15,\n",
       " 14,\n",
       " 13,\n",
       " 12,\n",
       " 13,\n",
       " 12,\n",
       " 13,\n",
       " 12,\n",
       " 11,\n",
       " 10,\n",
       " 9,\n",
       " 10,\n",
       " 9,\n",
       " 8,\n",
       " 7,\n",
       " 8,\n",
       " 7,\n",
       " 6,\n",
       " 7,\n",
       " 8,\n",
       " 7,\n",
       " 6,\n",
       " 5,\n",
       " 4,\n",
       " 3,\n",
       " 2,\n",
       " 3,\n",
       " 2,\n",
       " 1,\n",
       " 0,\n",
       " 1,\n",
       " 2,\n",
       " 1,\n",
       " 2,\n",
       " 3,\n",
       " 2,\n",
       " 3,\n",
       " 2,\n",
       " 3,\n",
       " 4,\n",
       " 3,\n",
       " 4,\n",
       " 5,\n",
       " 6,\n",
       " 7,\n",
       " 6,\n",
       " 7,\n",
       " 6,\n",
       " 5,\n",
       " 4,\n",
       " 5,\n",
       " 6,\n",
       " 7,\n",
       " 8,\n",
       " 9,\n",
       " 10,\n",
       " 11,\n",
       " 12,\n",
       " 13,\n",
       " 12,\n",
       " 11,\n",
       " 12,\n",
       " 13,\n",
       " 14,\n",
       " 13,\n",
       " 14,\n",
       " 13,\n",
       " 12,\n",
       " 11,\n",
       " 12,\n",
       " 11,\n",
       " 10,\n",
       " 11,\n",
       " 10,\n",
       " 9,\n",
       " 10,\n",
       " 11,\n",
       " 12,\n",
       " 13,\n",
       " 12,\n",
       " 13,\n",
       " 14,\n",
       " 13,\n",
       " 14,\n",
       " 15,\n",
       " 14,\n",
       " 13,\n",
       " 12,\n",
       " 11,\n",
       " 10,\n",
       " 9,\n",
       " 8,\n",
       " 7,\n",
       " 8,\n",
       " 9,\n",
       " 10,\n",
       " 9,\n",
       " 8,\n",
       " 9,\n",
       " 10,\n",
       " 9,\n",
       " 10,\n",
       " 9,\n",
       " 8,\n",
       " 7,\n",
       " 8,\n",
       " 7,\n",
       " 6,\n",
       " 7,\n",
       " 8,\n",
       " 9,\n",
       " 10,\n",
       " 11,\n",
       " 10,\n",
       " 9,\n",
       " 8,\n",
       " 9,\n",
       " 10,\n",
       " 9,\n",
       " 10,\n",
       " 9,\n",
       " 10,\n",
       " 9,\n",
       " 8,\n",
       " 9,\n",
       " 10,\n",
       " 11,\n",
       " 12,\n",
       " 11,\n",
       " 10,\n",
       " 9,\n",
       " 10,\n",
       " 9,\n",
       " 8,\n",
       " 9,\n",
       " 10,\n",
       " 11,\n",
       " 12,\n",
       " 11,\n",
       " 10,\n",
       " 11,\n",
       " 12,\n",
       " 13,\n",
       " 14,\n",
       " 13,\n",
       " 14,\n",
       " 13,\n",
       " 14,\n",
       " 15,\n",
       " 14,\n",
       " 13,\n",
       " 12,\n",
       " 11,\n",
       " 12,\n",
       " 11,\n",
       " 12,\n",
       " 13,\n",
       " 12,\n",
       " 13,\n",
       " 12,\n",
       " 11,\n",
       " 10,\n",
       " 11,\n",
       " 12,\n",
       " 13,\n",
       " 12,\n",
       " 13,\n",
       " 14,\n",
       " 15,\n",
       " 16,\n",
       " 17,\n",
       " 16,\n",
       " 15,\n",
       " 14,\n",
       " 13,\n",
       " 12,\n",
       " 11,\n",
       " 12,\n",
       " 13,\n",
       " 14,\n",
       " 13,\n",
       " 12,\n",
       " 11,\n",
       " 10,\n",
       " 11,\n",
       " 12,\n",
       " 13,\n",
       " 12,\n",
       " 13,\n",
       " 12,\n",
       " 13,\n",
       " 12,\n",
       " 11,\n",
       " 10,\n",
       " 11,\n",
       " 10,\n",
       " 11,\n",
       " 12,\n",
       " 13,\n",
       " 14,\n",
       " 13,\n",
       " 12,\n",
       " 11,\n",
       " 12,\n",
       " 13,\n",
       " 12,\n",
       " 13,\n",
       " 12,\n",
       " 13,\n",
       " 12,\n",
       " 13,\n",
       " 14,\n",
       " 13,\n",
       " 12,\n",
       " 13,\n",
       " 12,\n",
       " 11,\n",
       " 10,\n",
       " 9,\n",
       " 10,\n",
       " 11,\n",
       " 10,\n",
       " 9,\n",
       " 8,\n",
       " 7,\n",
       " 8,\n",
       " 7,\n",
       " 6,\n",
       " 7,\n",
       " 6,\n",
       " 7,\n",
       " 6,\n",
       " 7,\n",
       " 6,\n",
       " 7,\n",
       " 6,\n",
       " 7,\n",
       " 8,\n",
       " 7,\n",
       " 8,\n",
       " 7,\n",
       " 6,\n",
       " 5,\n",
       " 4,\n",
       " 5,\n",
       " 4,\n",
       " 3,\n",
       " 2,\n",
       " 3,\n",
       " 2,\n",
       " 3,\n",
       " 4,\n",
       " 3,\n",
       " 4,\n",
       " 5,\n",
       " 4,\n",
       " 5,\n",
       " 4,\n",
       " 5,\n",
       " 6,\n",
       " 5,\n",
       " 6,\n",
       " 7,\n",
       " 8,\n",
       " 7,\n",
       " 6,\n",
       " 5,\n",
       " 6,\n",
       " 7,\n",
       " 6,\n",
       " 5,\n",
       " 4,\n",
       " 5,\n",
       " 4,\n",
       " 5,\n",
       " 4,\n",
       " 5,\n",
       " 6,\n",
       " 7,\n",
       " 8,\n",
       " 7,\n",
       " 6,\n",
       " 7,\n",
       " 6,\n",
       " 5,\n",
       " 4,\n",
       " 5,\n",
       " 6,\n",
       " 5,\n",
       " 6,\n",
       " 7,\n",
       " 6,\n",
       " 7,\n",
       " 6,\n",
       " 5,\n",
       " 4,\n",
       " 5,\n",
       " 6,\n",
       " 7,\n",
       " 8,\n",
       " 7,\n",
       " 8,\n",
       " 9,\n",
       " 10,\n",
       " 11,\n",
       " 12,\n",
       " 13,\n",
       " 14,\n",
       " 13,\n",
       " 14,\n",
       " 15,\n",
       " 16,\n",
       " 17,\n",
       " 16,\n",
       " 17,\n",
       " 18,\n",
       " 17,\n",
       " 18,\n",
       " 19,\n",
       " 18,\n",
       " 17,\n",
       " 18,\n",
       " 17,\n",
       " 16,\n",
       " 17,\n",
       " 16,\n",
       " 15,\n",
       " 14,\n",
       " 15,\n",
       " 14,\n",
       " 13,\n",
       " 14,\n",
       " 15,\n",
       " 14,\n",
       " 15,\n",
       " 14,\n",
       " 13,\n",
       " 12,\n",
       " 13,\n",
       " 14,\n",
       " 15,\n",
       " 16,\n",
       " 17,\n",
       " 16,\n",
       " 17,\n",
       " 18,\n",
       " 19,\n",
       " 18,\n",
       " 17,\n",
       " 18,\n",
       " 19,\n",
       " 20,\n",
       " 21,\n",
       " 20,\n",
       " 21,\n",
       " 22,\n",
       " 21,\n",
       " 22,\n",
       " 21,\n",
       " 20,\n",
       " 19,\n",
       " 20,\n",
       " 21,\n",
       " 20,\n",
       " 19,\n",
       " 20,\n",
       " 19,\n",
       " 18,\n",
       " 17,\n",
       " 16,\n",
       " 15,\n",
       " 16,\n",
       " 15,\n",
       " 14,\n",
       " 13,\n",
       " 12,\n",
       " 13,\n",
       " 14,\n",
       " 13,\n",
       " 14,\n",
       " 13,\n",
       " 12,\n",
       " 11,\n",
       " 10,\n",
       " 11,\n",
       " 10,\n",
       " 9,\n",
       " 8,\n",
       " 7,\n",
       " 6,\n",
       " 5,\n",
       " 6,\n",
       " 7,\n",
       " 6,\n",
       " 7,\n",
       " 6,\n",
       " 5,\n",
       " 4,\n",
       " 3,\n",
       " 2,\n",
       " 3,\n",
       " 2,\n",
       " 3,\n",
       " 2,\n",
       " 3,\n",
       " 4,\n",
       " 5,\n",
       " 4,\n",
       " 5,\n",
       " 6,\n",
       " 5,\n",
       " 6,\n",
       " 5,\n",
       " 4,\n",
       " 3,\n",
       " 4,\n",
       " 5,\n",
       " 4,\n",
       " 3,\n",
       " 4,\n",
       " 3,\n",
       " 2,\n",
       " 1,\n",
       " 0,\n",
       " 1,\n",
       " 2,\n",
       " 3,\n",
       " 2,\n",
       " 3,\n",
       " 2,\n",
       " 3,\n",
       " 4,\n",
       " 5,\n",
       " 4,\n",
       " 5,\n",
       " 4,\n",
       " 5,\n",
       " 6,\n",
       " 5,\n",
       " 6,\n",
       " 7,\n",
       " 8,\n",
       " 9,\n",
       " 8,\n",
       " 9,\n",
       " 10,\n",
       " 11,\n",
       " 12,\n",
       " 11,\n",
       " 12,\n",
       " 13,\n",
       " 12,\n",
       " 13,\n",
       " 12,\n",
       " 13,\n",
       " 12,\n",
       " 13,\n",
       " 12,\n",
       " 11,\n",
       " 10,\n",
       " 11,\n",
       " 12,\n",
       " 11,\n",
       " 12,\n",
       " 11,\n",
       " 10,\n",
       " 9,\n",
       " 8,\n",
       " 7,\n",
       " 8,\n",
       " 7,\n",
       " 6,\n",
       " 7,\n",
       " 8,\n",
       " 9,\n",
       " 10,\n",
       " 11,\n",
       " 12,\n",
       " 13,\n",
       " 12,\n",
       " 11,\n",
       " 10,\n",
       " 11,\n",
       " 10,\n",
       " 9,\n",
       " 10,\n",
       " 9,\n",
       " 8,\n",
       " 7,\n",
       " 8,\n",
       " 7,\n",
       " 6,\n",
       " 5,\n",
       " 4,\n",
       " 5,\n",
       " 6,\n",
       " 7,\n",
       " 8,\n",
       " 9,\n",
       " 10,\n",
       " 9,\n",
       " 10,\n",
       " 11,\n",
       " 10,\n",
       " 11,\n",
       " 10,\n",
       " 9,\n",
       " 8,\n",
       " 9,\n",
       " 8,\n",
       " 9,\n",
       " 10,\n",
       " 11,\n",
       " 10,\n",
       " 11,\n",
       " 10,\n",
       " 9,\n",
       " 10,\n",
       " 9,\n",
       " ...]"
      ]
     },
     "execution_count": 431,
     "metadata": {},
     "output_type": "execute_result"
    }
   ],
   "source": [
    "walk"
   ]
  },
  {
   "cell_type": "code",
   "execution_count": 444,
   "metadata": {
    "scrolled": true
   },
   "outputs": [
    {
     "data": {
      "text/plain": [
       "[<matplotlib.lines.Line2D at 0x2b9487e5d48>]"
      ]
     },
     "execution_count": 444,
     "metadata": {},
     "output_type": "execute_result"
    },
    {
     "data": {
      "image/png": "[encoded data removed]",
      "text/plain": [
       "<Figure size 432x288 with 1 Axes>"
      ]
     },
     "metadata": {
      "needs_background": "light"
     },
     "output_type": "display_data"
    }
   ],
   "source": [
    "plt.plot(walk[:100])"
   ]
  },
  {
   "cell_type": "code",
   "execution_count": 445,
   "metadata": {},
   "outputs": [],
   "source": [
    "nsteps = 1000"
   ]
  },
  {
   "cell_type": "code",
   "execution_count": 447,
   "metadata": {},
   "outputs": [
    {
     "data": {
      "text/plain": [
       "array([1, 0, 0, 0, 1, 1, 0, 0, 0, 1, 1, 1, 1, 0, 1, 1, 1, 0, 0, 1, 0, 0,\n",
       "       1, 0, 0, 0, 0, 0, 1, 1, 1, 1, 1, 1, 1, 0, 0, 0, 0, 1, 1, 1, 0, 0,\n",
       "       1, 1, 1, 0, 1, 0, 1, 0, 0, 1, 0, 1, 1, 0, 1, 1, 0, 1, 0, 1, 0, 0,\n",
       "       1, 1, 1, 1, 1, 0, 1, 0, 0, 1, 1, 1, 0, 1, 1, 1, 1, 0, 1, 1, 0, 1,\n",
       "       0, 1, 0, 0, 0, 0, 0, 0, 0, 0, 0, 1, 1, 1, 1, 0, 0, 0, 1, 1, 0, 1,\n",
       "       1, 1, 0, 0, 0, 0, 0, 1, 0, 0, 0, 0, 1, 0, 0, 1, 0, 0, 1, 1, 0, 1,\n",
       "       1, 0, 0, 0, 0, 1, 0, 1, 0, 1, 0, 1, 0, 0, 0, 0, 1, 1, 1, 1, 0, 0,\n",
       "       0, 0, 0, 1, 0, 1, 1, 1, 1, 1, 1, 0, 0, 0, 1, 1, 0, 0, 1, 1, 0, 0,\n",
       "       0, 0, 1, 0, 1, 0, 0, 0, 1, 1, 1, 0, 1, 0, 1, 1, 0, 1, 0, 0, 1, 1,\n",
       "       0, 0, 1, 0, 0, 1, 1, 0, 1, 0, 0, 1, 0, 0, 1, 1, 0, 1, 1, 1, 0, 0,\n",
       "       0, 0, 1, 0, 1, 0, 0, 0, 0, 0, 1, 0, 1, 1, 1, 1, 0, 1, 0, 0, 1, 0,\n",
       "       0, 0, 1, 1, 0, 0, 0, 1, 0, 0, 0, 1, 1, 1, 0, 0, 1, 1, 0, 1, 0, 1,\n",
       "       0, 1, 0, 0, 1, 1, 0, 0, 1, 0, 1, 0, 0, 0, 0, 0, 1, 0, 0, 0, 1, 0,\n",
       "       1, 1, 0, 1, 0, 1, 0, 1, 1, 1, 1, 0, 1, 1, 1, 1, 0, 1, 0, 0, 0, 0,\n",
       "       1, 0, 1, 0, 0, 1, 1, 0, 1, 1, 1, 0, 0, 0, 1, 1, 1, 1, 0, 1, 1, 0,\n",
       "       1, 0, 1, 1, 1, 0, 1, 1, 0, 0, 0, 0, 1, 0, 1, 1, 0, 1, 0, 0, 0, 1,\n",
       "       1, 0, 1, 1, 1, 0, 0, 0, 0, 0, 1, 0, 1, 0, 1, 1, 1, 0, 1, 1, 0, 1,\n",
       "       0, 1, 1, 0, 1, 0, 0, 1, 0, 0, 0, 1, 0, 1, 0, 0, 0, 0, 0, 0, 1, 0,\n",
       "       1, 0, 0, 0, 1, 0, 1, 0, 0, 1, 0, 0, 1, 0, 0, 1, 0, 1, 1, 0, 0, 0,\n",
       "       1, 0, 0, 1, 1, 1, 0, 0, 0, 0, 0, 0, 0, 1, 1, 0, 0, 1, 1, 0, 1, 1,\n",
       "       1, 1, 1, 1, 0, 1, 1, 1, 1, 0, 0, 0, 1, 0, 1, 1, 1, 0, 1, 0, 1, 1,\n",
       "       1, 0, 1, 1, 0, 1, 1, 0, 0, 1, 1, 0, 0, 0, 1, 0, 0, 0, 1, 0, 0, 1,\n",
       "       0, 1, 0, 0, 0, 1, 0, 0, 1, 0, 1, 0, 1, 0, 1, 0, 1, 1, 0, 1, 1, 0,\n",
       "       0, 0, 0, 1, 0, 0, 1, 1, 1, 0, 0, 0, 1, 0, 0, 1, 0, 1, 1, 0, 1, 0,\n",
       "       1, 1, 0, 0, 0, 1, 0, 0, 0, 1, 0, 1, 1, 0, 0, 1, 0, 0, 0, 0, 0, 1,\n",
       "       0, 0, 0, 0, 1, 1, 1, 0, 1, 0, 1, 0, 1, 1, 0, 1, 0, 1, 0, 0, 1, 0,\n",
       "       0, 0, 1, 1, 0, 1, 0, 1, 1, 1, 1, 0, 0, 0, 1, 0, 0, 1, 1, 0, 0, 0,\n",
       "       0, 1, 0, 0, 0, 0, 0, 1, 0, 1, 0, 1, 1, 1, 1, 0, 0, 1, 0, 1, 0, 1,\n",
       "       1, 1, 0, 1, 0, 1, 1, 1, 0, 1, 0, 0, 1, 0, 1, 1, 1, 1, 1, 1, 1, 0,\n",
       "       0, 0, 0, 0, 1, 1, 1, 0, 1, 0, 0, 0, 0, 1, 1, 1, 1, 0, 1, 1, 0, 1,\n",
       "       0, 0, 0, 0, 1, 1, 0, 0, 1, 0, 0, 0, 1, 0, 1, 1, 1, 1, 0, 0, 0, 1,\n",
       "       0, 1, 0, 1, 1, 0, 0, 0, 1, 0, 1, 1, 0, 1, 1, 1, 0, 0, 0, 0, 0, 1,\n",
       "       1, 1, 0, 1, 1, 0, 1, 0, 0, 0, 0, 0, 0, 0, 1, 0, 1, 1, 1, 1, 0, 1,\n",
       "       0, 0, 1, 0, 0, 0, 0, 0, 0, 0, 1, 1, 0, 1, 1, 0, 0, 1, 1, 0, 1, 1,\n",
       "       0, 1, 1, 1, 1, 0, 0, 0, 1, 0, 0, 1, 0, 0, 0, 0, 0, 0, 0, 1, 1, 0,\n",
       "       1, 0, 0, 1, 0, 1, 1, 0, 1, 1, 1, 1, 0, 1, 1, 1, 1, 1, 0, 0, 1, 0,\n",
       "       1, 0, 0, 0, 1, 1, 1, 0, 1, 0, 0, 1, 0, 0, 0, 0, 0, 0, 0, 1, 1, 1,\n",
       "       0, 0, 1, 0, 0, 1, 1, 0, 0, 1, 1, 0, 0, 1, 1, 0, 1, 0, 1, 0, 0, 0,\n",
       "       0, 1, 0, 0, 1, 0, 1, 1, 0, 0, 0, 1, 0, 0, 1, 1, 0, 0, 1, 1, 1, 0,\n",
       "       0, 0, 0, 1, 0, 1, 0, 0, 0, 0, 0, 1, 0, 0, 1, 1, 0, 1, 1, 0, 1, 0,\n",
       "       0, 0, 0, 0, 0, 0, 1, 0, 0, 0, 1, 1, 1, 0, 1, 0, 1, 1, 0, 1, 1, 1,\n",
       "       0, 1, 1, 1, 0, 0, 1, 0, 1, 1, 0, 0, 0, 1, 0, 0, 0, 1, 0, 1, 1, 0,\n",
       "       0, 0, 0, 0, 1, 1, 0, 1, 0, 0, 0, 1, 0, 1, 1, 0, 0, 1, 1, 0, 0, 0,\n",
       "       0, 1, 1, 1, 1, 1, 0, 0, 1, 0, 1, 0, 0, 0, 1, 0, 0, 0, 1, 1, 0, 0,\n",
       "       1, 1, 0, 0, 1, 0, 0, 1, 1, 0, 0, 0, 1, 1, 1, 1, 1, 0, 0, 1, 1, 0,\n",
       "       1, 1, 1, 0, 0, 0, 1, 1, 0, 1])"
      ]
     },
     "execution_count": 447,
     "metadata": {},
     "output_type": "execute_result"
    }
   ],
   "source": [
    "draws = np.random.randint(0, 2, size=nsteps)\n",
    "draws"
   ]
  },
  {
   "cell_type": "code",
   "execution_count": 451,
   "metadata": {},
   "outputs": [
    {
     "data": {
      "text/plain": [
       "array([ 1, -1, -1, -1,  1,  1, -1, -1, -1,  1,  1,  1,  1, -1,  1,  1,  1,\n",
       "       -1, -1,  1, -1, -1,  1, -1, -1, -1, -1, -1,  1,  1,  1,  1,  1,  1,\n",
       "        1, -1, -1, -1, -1,  1,  1,  1, -1, -1,  1,  1,  1, -1,  1, -1,  1,\n",
       "       -1, -1,  1, -1,  1,  1, -1,  1,  1, -1,  1, -1,  1, -1, -1,  1,  1,\n",
       "        1,  1,  1, -1,  1, -1, -1,  1,  1,  1, -1,  1,  1,  1,  1, -1,  1,\n",
       "        1, -1,  1, -1,  1, -1, -1, -1, -1, -1, -1, -1, -1, -1,  1,  1,  1,\n",
       "        1, -1, -1, -1,  1,  1, -1,  1,  1,  1, -1, -1, -1, -1, -1,  1, -1,\n",
       "       -1, -1, -1,  1, -1, -1,  1, -1, -1,  1,  1, -1,  1,  1, -1, -1, -1,\n",
       "       -1,  1, -1,  1, -1,  1, -1,  1, -1, -1, -1, -1,  1,  1,  1,  1, -1,\n",
       "       -1, -1, -1, -1,  1, -1,  1,  1,  1,  1,  1,  1, -1, -1, -1,  1,  1,\n",
       "       -1, -1,  1,  1, -1, -1, -1, -1,  1, -1,  1, -1, -1, -1,  1,  1,  1,\n",
       "       -1,  1, -1,  1,  1, -1,  1, -1, -1,  1,  1, -1, -1,  1, -1, -1,  1,\n",
       "        1, -1,  1, -1, -1,  1, -1, -1,  1,  1, -1,  1,  1,  1, -1, -1, -1,\n",
       "       -1,  1, -1,  1, -1, -1, -1, -1, -1,  1, -1,  1,  1,  1,  1, -1,  1,\n",
       "       -1, -1,  1, -1, -1, -1,  1,  1, -1, -1, -1,  1, -1, -1, -1,  1,  1,\n",
       "        1, -1, -1,  1,  1, -1,  1, -1,  1, -1,  1, -1, -1,  1,  1, -1, -1,\n",
       "        1, -1,  1, -1, -1, -1, -1, -1,  1, -1, -1, -1,  1, -1,  1,  1, -1,\n",
       "        1, -1,  1, -1,  1,  1,  1,  1, -1,  1,  1,  1,  1, -1,  1, -1, -1,\n",
       "       -1, -1,  1, -1,  1, -1, -1,  1,  1, -1,  1,  1,  1, -1, -1, -1,  1,\n",
       "        1,  1,  1, -1,  1,  1, -1,  1, -1,  1,  1,  1, -1,  1,  1, -1, -1,\n",
       "       -1, -1,  1, -1,  1,  1, -1,  1, -1, -1, -1,  1,  1, -1,  1,  1,  1,\n",
       "       -1, -1, -1, -1, -1,  1, -1,  1, -1,  1,  1,  1, -1,  1,  1, -1,  1,\n",
       "       -1,  1,  1, -1,  1, -1, -1,  1, -1, -1, -1,  1, -1,  1, -1, -1, -1,\n",
       "       -1, -1, -1,  1, -1,  1, -1, -1, -1,  1, -1,  1, -1, -1,  1, -1, -1,\n",
       "        1, -1, -1,  1, -1,  1,  1, -1, -1, -1,  1, -1, -1,  1,  1,  1, -1,\n",
       "       -1, -1, -1, -1, -1, -1,  1,  1, -1, -1,  1,  1, -1,  1,  1,  1,  1,\n",
       "        1,  1, -1,  1,  1,  1,  1, -1, -1, -1,  1, -1,  1,  1,  1, -1,  1,\n",
       "       -1,  1,  1,  1, -1,  1,  1, -1,  1,  1, -1, -1,  1,  1, -1, -1, -1,\n",
       "        1, -1, -1, -1,  1, -1, -1,  1, -1,  1, -1, -1, -1,  1, -1, -1,  1,\n",
       "       -1,  1, -1,  1, -1,  1, -1,  1,  1, -1,  1,  1, -1, -1, -1, -1,  1,\n",
       "       -1, -1,  1,  1,  1, -1, -1, -1,  1, -1, -1,  1, -1,  1,  1, -1,  1,\n",
       "       -1,  1,  1, -1, -1, -1,  1, -1, -1, -1,  1, -1,  1,  1, -1, -1,  1,\n",
       "       -1, -1, -1, -1, -1,  1, -1, -1, -1, -1,  1,  1,  1, -1,  1, -1,  1,\n",
       "       -1,  1,  1, -1,  1, -1,  1, -1, -1,  1, -1, -1, -1,  1,  1, -1,  1,\n",
       "       -1,  1,  1,  1,  1, -1, -1, -1,  1, -1, -1,  1,  1, -1, -1, -1, -1,\n",
       "        1, -1, -1, -1, -1, -1,  1, -1,  1, -1,  1,  1,  1,  1, -1, -1,  1,\n",
       "       -1,  1, -1,  1,  1,  1, -1,  1, -1,  1,  1,  1, -1,  1, -1, -1,  1,\n",
       "       -1,  1,  1,  1,  1,  1,  1,  1, -1, -1, -1, -1, -1,  1,  1,  1, -1,\n",
       "        1, -1, -1, -1, -1,  1,  1,  1,  1, -1,  1,  1, -1,  1, -1, -1, -1,\n",
       "       -1,  1,  1, -1, -1,  1, -1, -1, -1,  1, -1,  1,  1,  1,  1, -1, -1,\n",
       "       -1,  1, -1,  1, -1,  1,  1, -1, -1, -1,  1, -1,  1,  1, -1,  1,  1,\n",
       "        1, -1, -1, -1, -1, -1,  1,  1,  1, -1,  1,  1, -1,  1, -1, -1, -1,\n",
       "       -1, -1, -1, -1,  1, -1,  1,  1,  1,  1, -1,  1, -1, -1,  1, -1, -1,\n",
       "       -1, -1, -1, -1, -1,  1,  1, -1,  1,  1, -1, -1,  1,  1, -1,  1,  1,\n",
       "       -1,  1,  1,  1,  1, -1, -1, -1,  1, -1, -1,  1, -1, -1, -1, -1, -1,\n",
       "       -1, -1,  1,  1, -1,  1, -1, -1,  1, -1,  1,  1, -1,  1,  1,  1,  1,\n",
       "       -1,  1,  1,  1,  1,  1, -1, -1,  1, -1,  1, -1, -1, -1,  1,  1,  1,\n",
       "       -1,  1, -1, -1,  1, -1, -1, -1, -1, -1, -1, -1,  1,  1,  1, -1, -1,\n",
       "        1, -1, -1,  1,  1, -1, -1,  1,  1, -1, -1,  1,  1, -1,  1, -1,  1,\n",
       "       -1, -1, -1, -1,  1, -1, -1,  1, -1,  1,  1, -1, -1, -1,  1, -1, -1,\n",
       "        1,  1, -1, -1,  1,  1,  1, -1, -1, -1, -1,  1, -1,  1, -1, -1, -1,\n",
       "       -1, -1,  1, -1, -1,  1,  1, -1,  1,  1, -1,  1, -1, -1, -1, -1, -1,\n",
       "       -1, -1,  1, -1, -1, -1,  1,  1,  1, -1,  1, -1,  1,  1, -1,  1,  1,\n",
       "        1, -1,  1,  1,  1, -1, -1,  1, -1,  1,  1, -1, -1, -1,  1, -1, -1,\n",
       "       -1,  1, -1,  1,  1, -1, -1, -1, -1, -1,  1,  1, -1,  1, -1, -1, -1,\n",
       "        1, -1,  1,  1, -1, -1,  1,  1, -1, -1, -1, -1,  1,  1,  1,  1,  1,\n",
       "       -1, -1,  1, -1,  1, -1, -1, -1,  1, -1, -1, -1,  1,  1, -1, -1,  1,\n",
       "        1, -1, -1,  1, -1, -1,  1,  1, -1, -1, -1,  1,  1,  1,  1,  1, -1,\n",
       "       -1,  1,  1, -1,  1,  1,  1, -1, -1, -1,  1,  1, -1,  1])"
      ]
     },
     "execution_count": 451,
     "metadata": {},
     "output_type": "execute_result"
    }
   ],
   "source": [
    "steps = np.where(draws>0, 1, -1)\n",
    "steps"
   ]
  },
  {
   "cell_type": "code",
   "execution_count": 449,
   "metadata": {},
   "outputs": [],
   "source": [
    "walk = steps.cumsum()"
   ]
  },
  {
   "cell_type": "code",
   "execution_count": 450,
   "metadata": {},
   "outputs": [
    {
     "data": {
      "text/plain": [
       "array([  1,   0,  -1,  -2,  -1,   0,  -1,  -2,  -3,  -2,  -1,   0,   1,\n",
       "         0,   1,   2,   3,   2,   1,   2,   1,   0,   1,   0,  -1,  -2,\n",
       "        -3,  -4,  -3,  -2,  -1,   0,   1,   2,   3,   2,   1,   0,  -1,\n",
       "         0,   1,   2,   1,   0,   1,   2,   3,   2,   3,   2,   3,   2,\n",
       "         1,   2,   1,   2,   3,   2,   3,   4,   3,   4,   3,   4,   3,\n",
       "         2,   3,   4,   5,   6,   7,   6,   7,   6,   5,   6,   7,   8,\n",
       "         7,   8,   9,  10,  11,  10,  11,  12,  11,  12,  11,  12,  11,\n",
       "        10,   9,   8,   7,   6,   5,   4,   3,   4,   5,   6,   7,   6,\n",
       "         5,   4,   5,   6,   5,   6,   7,   8,   7,   6,   5,   4,   3,\n",
       "         4,   3,   2,   1,   0,   1,   0,  -1,   0,  -1,  -2,  -1,   0,\n",
       "        -1,   0,   1,   0,  -1,  -2,  -3,  -2,  -3,  -2,  -3,  -2,  -3,\n",
       "        -2,  -3,  -4,  -5,  -6,  -5,  -4,  -3,  -2,  -3,  -4,  -5,  -6,\n",
       "        -7,  -6,  -7,  -6,  -5,  -4,  -3,  -2,  -1,  -2,  -3,  -4,  -3,\n",
       "        -2,  -3,  -4,  -3,  -2,  -3,  -4,  -5,  -6,  -5,  -6,  -5,  -6,\n",
       "        -7,  -8,  -7,  -6,  -5,  -6,  -5,  -6,  -5,  -4,  -5,  -4,  -5,\n",
       "        -6,  -5,  -4,  -5,  -6,  -5,  -6,  -7,  -6,  -5,  -6,  -5,  -6,\n",
       "        -7,  -6,  -7,  -8,  -7,  -6,  -7,  -6,  -5,  -4,  -5,  -6,  -7,\n",
       "        -8,  -7,  -8,  -7,  -8,  -9, -10, -11, -12, -11, -12, -11, -10,\n",
       "        -9,  -8,  -9,  -8,  -9, -10,  -9, -10, -11, -12, -11, -10, -11,\n",
       "       -12, -13, -12, -13, -14, -15, -14, -13, -12, -13, -14, -13, -12,\n",
       "       -13, -12, -13, -12, -13, -12, -13, -14, -13, -12, -13, -14, -13,\n",
       "       -14, -13, -14, -15, -16, -17, -18, -17, -18, -19, -20, -19, -20,\n",
       "       -19, -18, -19, -18, -19, -18, -19, -18, -17, -16, -15, -16, -15,\n",
       "       -14, -13, -12, -13, -12, -13, -14, -15, -16, -15, -16, -15, -16,\n",
       "       -17, -16, -15, -16, -15, -14, -13, -14, -15, -16, -15, -14, -13,\n",
       "       -12, -13, -12, -11, -12, -11, -12, -11, -10,  -9, -10,  -9,  -8,\n",
       "        -9, -10, -11, -12, -11, -12, -11, -10, -11, -10, -11, -12, -13,\n",
       "       -12, -11, -12, -11, -10,  -9, -10, -11, -12, -13, -14, -13, -14,\n",
       "       -13, -14, -13, -12, -11, -12, -11, -10, -11, -10, -11, -10,  -9,\n",
       "       -10,  -9, -10, -11, -10, -11, -12, -13, -12, -13, -12, -13, -14,\n",
       "       -15, -16, -17, -18, -17, -18, -17, -18, -19, -20, -19, -20, -19,\n",
       "       -20, -21, -20, -21, -22, -21, -22, -23, -22, -23, -22, -21, -22,\n",
       "       -23, -24, -23, -24, -25, -24, -23, -22, -23, -24, -25, -26, -27,\n",
       "       -28, -29, -28, -27, -28, -29, -28, -27, -28, -27, -26, -25, -24,\n",
       "       -23, -22, -23, -22, -21, -20, -19, -20, -21, -22, -21, -22, -21,\n",
       "       -20, -19, -20, -19, -20, -19, -18, -17, -18, -17, -16, -17, -16,\n",
       "       -15, -16, -17, -16, -15, -16, -17, -18, -17, -18, -19, -20, -19,\n",
       "       -20, -21, -20, -21, -20, -21, -22, -23, -22, -23, -24, -23, -24,\n",
       "       -23, -24, -23, -24, -23, -24, -23, -22, -23, -22, -21, -22, -23,\n",
       "       -24, -25, -24, -25, -26, -25, -24, -23, -24, -25, -26, -25, -26,\n",
       "       -27, -26, -27, -26, -25, -26, -25, -26, -25, -24, -25, -26, -27,\n",
       "       -26, -27, -28, -29, -28, -29, -28, -27, -28, -29, -28, -29, -30,\n",
       "       -31, -32, -33, -32, -33, -34, -35, -36, -35, -34, -33, -34, -33,\n",
       "       -34, -33, -34, -33, -32, -33, -32, -33, -32, -33, -34, -33, -34,\n",
       "       -35, -36, -35, -34, -35, -34, -35, -34, -33, -32, -31, -32, -33,\n",
       "       -34, -33, -34, -35, -34, -33, -34, -35, -36, -37, -36, -37, -38,\n",
       "       -39, -40, -41, -40, -41, -40, -41, -40, -39, -38, -37, -38, -39,\n",
       "       -38, -39, -38, -39, -38, -37, -36, -37, -36, -37, -36, -35, -34,\n",
       "       -35, -34, -35, -36, -35, -36, -35, -34, -33, -32, -31, -30, -29,\n",
       "       -30, -31, -32, -33, -34, -33, -32, -31, -32, -31, -32, -33, -34,\n",
       "       -35, -34, -33, -32, -31, -32, -31, -30, -31, -30, -31, -32, -33,\n",
       "       -34, -33, -32, -33, -34, -33, -34, -35, -36, -35, -36, -35, -34,\n",
       "       -33, -32, -33, -34, -35, -34, -35, -34, -35, -34, -33, -34, -35,\n",
       "       -36, -35, -36, -35, -34, -35, -34, -33, -32, -33, -34, -35, -36,\n",
       "       -37, -36, -35, -34, -35, -34, -33, -34, -33, -34, -35, -36, -37,\n",
       "       -38, -39, -40, -39, -40, -39, -38, -37, -36, -37, -36, -37, -38,\n",
       "       -37, -38, -39, -40, -41, -42, -43, -44, -43, -42, -43, -42, -41,\n",
       "       -42, -43, -42, -41, -42, -41, -40, -41, -40, -39, -38, -37, -38,\n",
       "       -39, -40, -39, -40, -41, -40, -41, -42, -43, -44, -45, -46, -47,\n",
       "       -46, -45, -46, -45, -46, -47, -46, -47, -46, -45, -46, -45, -44,\n",
       "       -43, -42, -43, -42, -41, -40, -39, -38, -39, -40, -39, -40, -39,\n",
       "       -40, -41, -42, -41, -40, -39, -40, -39, -40, -41, -40, -41, -42,\n",
       "       -43, -44, -45, -46, -47, -46, -45, -44, -45, -46, -45, -46, -47,\n",
       "       -46, -45, -46, -47, -46, -45, -46, -47, -46, -45, -46, -45, -46,\n",
       "       -45, -46, -47, -48, -49, -48, -49, -50, -49, -50, -49, -48, -49,\n",
       "       -50, -51, -50, -51, -52, -51, -50, -51, -52, -51, -50, -49, -50,\n",
       "       -51, -52, -53, -52, -53, -52, -53, -54, -55, -56, -57, -56, -57,\n",
       "       -58, -57, -56, -57, -56, -55, -56, -55, -56, -57, -58, -59, -60,\n",
       "       -61, -62, -61, -62, -63, -64, -63, -62, -61, -62, -61, -62, -61,\n",
       "       -60, -61, -60, -59, -58, -59, -58, -57, -56, -57, -58, -57, -58,\n",
       "       -57, -56, -57, -58, -59, -58, -59, -60, -61, -60, -61, -60, -59,\n",
       "       -60, -61, -62, -63, -64, -63, -62, -63, -62, -63, -64, -65, -64,\n",
       "       -65, -64, -63, -64, -65, -64, -63, -64, -65, -66, -67, -66, -65,\n",
       "       -64, -63, -62, -63, -64, -63, -64, -63, -64, -65, -66, -65, -66,\n",
       "       -67, -68, -67, -66, -67, -68, -67, -66, -67, -68, -67, -68, -69,\n",
       "       -68, -67, -68, -69, -70, -69, -68, -67, -66, -65, -66, -67, -66,\n",
       "       -65, -66, -65, -64, -63, -64, -65, -66, -65, -64, -65, -64],\n",
       "      dtype=int32)"
      ]
     },
     "execution_count": 450,
     "metadata": {},
     "output_type": "execute_result"
    }
   ],
   "source": [
    "walk"
   ]
  },
  {
   "cell_type": "code",
   "execution_count": 452,
   "metadata": {},
   "outputs": [
    {
     "data": {
      "text/plain": [
       "-70"
      ]
     },
     "execution_count": 452,
     "metadata": {},
     "output_type": "execute_result"
    }
   ],
   "source": [
    "walk.min()"
   ]
  },
  {
   "cell_type": "code",
   "execution_count": 453,
   "metadata": {},
   "outputs": [
    {
     "data": {
      "text/plain": [
       "12"
      ]
     },
     "execution_count": 453,
     "metadata": {},
     "output_type": "execute_result"
    }
   ],
   "source": [
    "walk.max()"
   ]
  },
  {
   "cell_type": "code",
   "execution_count": 465,
   "metadata": {},
   "outputs": [
    {
     "data": {
      "text/plain": [
       "81"
      ]
     },
     "execution_count": 465,
     "metadata": {},
     "output_type": "execute_result"
    }
   ],
   "source": [
    "(np.abs(walk) >= 10).argmax()"
   ]
  },
  {
   "cell_type": "code",
   "execution_count": 466,
   "metadata": {},
   "outputs": [
    {
     "data": {
      "text/plain": [
       "10"
      ]
     },
     "execution_count": 466,
     "metadata": {},
     "output_type": "execute_result"
    }
   ],
   "source": [
    "walk[81]"
   ]
  },
  {
   "cell_type": "code",
   "execution_count": 476,
   "metadata": {
    "scrolled": true
   },
   "outputs": [
    {
     "data": {
      "text/plain": [
       "[<matplotlib.lines.Line2D at 0x2b94a402a88>]"
      ]
     },
     "execution_count": 476,
     "metadata": {},
     "output_type": "execute_result"
    },
    {
     "data": {
      "image/png": "[encoded data removed]",
      "text/plain": [
       "<Figure size 432x288 with 1 Axes>"
      ]
     },
     "metadata": {
      "needs_background": "light"
     },
     "output_type": "display_data"
    }
   ],
   "source": [
    "plt.plot(walk[:10])"
   ]
  },
  {
   "cell_type": "code",
   "execution_count": 477,
   "metadata": {},
   "outputs": [],
   "source": [
    "nwalks = 5000"
   ]
  },
  {
   "cell_type": "code",
   "execution_count": 478,
   "metadata": {},
   "outputs": [],
   "source": [
    "nsteps = 1000"
   ]
  },
  {
   "cell_type": "code",
   "execution_count": 479,
   "metadata": {},
   "outputs": [],
   "source": [
    "draws = np.random.randint(0, 2, size=(nwalks, nsteps))"
   ]
  },
  {
   "cell_type": "code",
   "execution_count": 483,
   "metadata": {},
   "outputs": [
    {
     "data": {
      "text/plain": [
       "array([[0, 1, 1, ..., 0, 0, 1],\n",
       "       [0, 1, 0, ..., 0, 1, 1],\n",
       "       [0, 1, 1, ..., 0, 1, 0],\n",
       "       ...,\n",
       "       [0, 0, 1, ..., 1, 1, 1],\n",
       "       [0, 1, 1, ..., 0, 1, 1],\n",
       "       [1, 0, 1, ..., 0, 0, 1]])"
      ]
     },
     "execution_count": 483,
     "metadata": {},
     "output_type": "execute_result"
    }
   ],
   "source": [
    "draws"
   ]
  },
  {
   "cell_type": "code",
   "execution_count": 484,
   "metadata": {},
   "outputs": [
    {
     "data": {
      "text/plain": [
       "(5000, 1000)"
      ]
     },
     "execution_count": 484,
     "metadata": {},
     "output_type": "execute_result"
    }
   ],
   "source": [
    "draws.shape"
   ]
  },
  {
   "cell_type": "code",
   "execution_count": 486,
   "metadata": {},
   "outputs": [],
   "source": [
    "steps = np.where(draws > 0, 1, -1)"
   ]
  },
  {
   "cell_type": "code",
   "execution_count": 487,
   "metadata": {},
   "outputs": [
    {
     "data": {
      "text/plain": [
       "array([[-1,  1,  1, ..., -1, -1,  1],\n",
       "       [-1,  1, -1, ..., -1,  1,  1],\n",
       "       [-1,  1,  1, ..., -1,  1, -1],\n",
       "       ...,\n",
       "       [-1, -1,  1, ...,  1,  1,  1],\n",
       "       [-1,  1,  1, ..., -1,  1,  1],\n",
       "       [ 1, -1,  1, ..., -1, -1,  1]])"
      ]
     },
     "execution_count": 487,
     "metadata": {},
     "output_type": "execute_result"
    }
   ],
   "source": [
    "steps"
   ]
  },
  {
   "cell_type": "code",
   "execution_count": 488,
   "metadata": {},
   "outputs": [],
   "source": [
    "walks = steps.cumsum(axis=1)"
   ]
  },
  {
   "cell_type": "code",
   "execution_count": 489,
   "metadata": {},
   "outputs": [
    {
     "data": {
      "text/plain": [
       "array([[ -1,   0,   1, ..., -52, -53, -52],\n",
       "       [ -1,   0,  -1, ...,   2,   3,   4],\n",
       "       [ -1,   0,   1, ...,  28,  29,  28],\n",
       "       ...,\n",
       "       [ -1,  -2,  -1, ..., -10,  -9,  -8],\n",
       "       [ -1,   0,   1, ..., -24, -23, -22],\n",
       "       [  1,   0,   1, ...,  20,  19,  20]], dtype=int32)"
      ]
     },
     "execution_count": 489,
     "metadata": {},
     "output_type": "execute_result"
    }
   ],
   "source": [
    "walks"
   ]
  },
  {
   "cell_type": "code",
   "execution_count": 490,
   "metadata": {},
   "outputs": [
    {
     "data": {
      "text/plain": [
       "-119"
      ]
     },
     "execution_count": 490,
     "metadata": {},
     "output_type": "execute_result"
    }
   ],
   "source": [
    "walks.min()"
   ]
  },
  {
   "cell_type": "code",
   "execution_count": 491,
   "metadata": {},
   "outputs": [
    {
     "data": {
      "text/plain": [
       "131"
      ]
     },
     "execution_count": 491,
     "metadata": {},
     "output_type": "execute_result"
    }
   ],
   "source": [
    "walks.max()"
   ]
  },
  {
   "cell_type": "code",
   "execution_count": 524,
   "metadata": {},
   "outputs": [
    {
     "data": {
      "text/plain": [
       "array([ True, False,  True, ..., False,  True,  True])"
      ]
     },
     "execution_count": 524,
     "metadata": {},
     "output_type": "execute_result"
    }
   ],
   "source": [
    "hits_30 = (np.abs(walks) >= 30).any(1)\n",
    "hits_30"
   ]
  },
  {
   "cell_type": "code",
   "execution_count": 508,
   "metadata": {},
   "outputs": [
    {
     "data": {
      "text/plain": [
       "3409"
      ]
     },
     "execution_count": 508,
     "metadata": {},
     "output_type": "execute_result"
    }
   ],
   "source": [
    "hits_30.sum()"
   ]
  },
  {
   "cell_type": "code",
   "execution_count": 513,
   "metadata": {},
   "outputs": [
    {
     "data": {
      "text/plain": [
       "array([377, 987, 471, ..., 197, 679, 813], dtype=int64)"
      ]
     },
     "execution_count": 513,
     "metadata": {},
     "output_type": "execute_result"
    }
   ],
   "source": [
    "(np.abs(walks[hits_30]) >= 30).argmax(axis=1)"
   ]
  },
  {
   "cell_type": "code",
   "execution_count": 540,
   "metadata": {},
   "outputs": [],
   "source": [
    "crossing_times = (np.abs(walks[hits_30]) >= 30).argmax(1)"
   ]
  },
  {
   "cell_type": "code",
   "execution_count": 541,
   "metadata": {},
   "outputs": [
    {
     "data": {
      "text/plain": [
       "array([377, 987, 471, ..., 197, 679, 813], dtype=int64)"
      ]
     },
     "execution_count": 541,
     "metadata": {},
     "output_type": "execute_result"
    }
   ],
   "source": [
    "crossing_times "
   ]
  },
  {
   "cell_type": "code",
   "execution_count": 542,
   "metadata": {},
   "outputs": [
    {
     "data": {
      "text/plain": [
       "502.24787327662074"
      ]
     },
     "execution_count": 542,
     "metadata": {},
     "output_type": "execute_result"
    }
   ],
   "source": [
    "crossing_times.mean()"
   ]
  },
  {
   "cell_type": "code",
   "execution_count": 555,
   "metadata": {},
   "outputs": [
    {
     "data": {
      "image/png": "[encoded data removed]",
      "text/plain": [
       "<Figure size 432x288 with 1 Axes>"
      ]
     },
     "metadata": {
      "needs_background": "light"
     },
     "output_type": "display_data"
    }
   ],
   "source": [
    "for i in range(1000):\n",
    "    plt.plot(walks[i][:100]);"
   ]
  },
  {
   "cell_type": "code",
   "execution_count": 561,
   "metadata": {},
   "outputs": [
    {
     "data": {
      "image/png": "[encoded data removed]",
      "text/plain": [
       "<Figure size 432x288 with 1 Axes>"
      ]
     },
     "metadata": {
      "needs_background": "light"
     },
     "output_type": "display_data"
    }
   ],
   "source": [
    "plt.plot(walks[:10]);"
   ]
  },
  {
   "cell_type": "code",
   "execution_count": null,
   "metadata": {},
   "outputs": [],
   "source": []
  }
 ],
 "metadata": {
  "kernelspec": {
   "display_name": "Python 3",
   "language": "python",
   "name": "python3"
  },
  "language_info": {
   "codemirror_mode": {
    "name": "ipython",
    "version": 3
   },
   "file_extension": ".py",
   "mimetype": "text/x-python",
   "name": "python",
   "nbconvert_exporter": "python",
   "pygments_lexer": "ipython3",
   "version": "3.7.6"
  }
 },
 "nbformat": 4,
 "nbformat_minor": 4
}
