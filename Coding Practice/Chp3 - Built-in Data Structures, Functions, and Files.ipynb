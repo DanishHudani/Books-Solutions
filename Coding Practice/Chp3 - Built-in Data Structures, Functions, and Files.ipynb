{
 "cells": [
  {
   "cell_type": "markdown",
   "metadata": {},
   "source": [
    "# 3.1 - Data Structures & Sequences"
   ]
  },
  {
   "cell_type": "code",
   "execution_count": 1,
   "metadata": {},
   "outputs": [],
   "source": [
    "tup = 4, 5, 6"
   ]
  },
  {
   "cell_type": "code",
   "execution_count": 2,
   "metadata": {},
   "outputs": [
    {
     "data": {
      "text/plain": [
       "(4, 5, 6)"
      ]
     },
     "execution_count": 2,
     "metadata": {},
     "output_type": "execute_result"
    }
   ],
   "source": [
    "tup"
   ]
  },
  {
   "cell_type": "code",
   "execution_count": 3,
   "metadata": {},
   "outputs": [],
   "source": [
    "nested_tuple = (4, 5, 6), (2, 1) #nested tuples"
   ]
  },
  {
   "cell_type": "code",
   "execution_count": 4,
   "metadata": {},
   "outputs": [
    {
     "data": {
      "text/plain": [
       "((4, 5, 6), (2, 1))"
      ]
     },
     "execution_count": 4,
     "metadata": {},
     "output_type": "execute_result"
    }
   ],
   "source": [
    "nested_tuple"
   ]
  },
  {
   "cell_type": "code",
   "execution_count": 5,
   "metadata": {},
   "outputs": [
    {
     "data": {
      "text/plain": [
       "(0, 1, 2, 3)"
      ]
     },
     "execution_count": 5,
     "metadata": {},
     "output_type": "execute_result"
    }
   ],
   "source": [
    "tuple([0, 1, 2, 3]) #casting list to tuple"
   ]
  },
  {
   "cell_type": "code",
   "execution_count": 6,
   "metadata": {},
   "outputs": [],
   "source": [
    "tup = tuple('Hello World!') #casting string to tuple"
   ]
  },
  {
   "cell_type": "code",
   "execution_count": 7,
   "metadata": {},
   "outputs": [
    {
     "data": {
      "text/plain": [
       "('H', 'e', 'l', 'l', 'o', ' ', 'W', 'o', 'r', 'l', 'd', '!')"
      ]
     },
     "execution_count": 7,
     "metadata": {},
     "output_type": "execute_result"
    }
   ],
   "source": [
    "tup"
   ]
  },
  {
   "cell_type": "code",
   "execution_count": 8,
   "metadata": {},
   "outputs": [
    {
     "data": {
      "text/plain": [
       "'W'"
      ]
     },
     "execution_count": 8,
     "metadata": {},
     "output_type": "execute_result"
    }
   ],
   "source": [
    "tup[6] #accessing elements from tuple"
   ]
  },
  {
   "cell_type": "code",
   "execution_count": 9,
   "metadata": {},
   "outputs": [],
   "source": [
    "tup = tuple([['foo', 'bar'], 2, False])"
   ]
  },
  {
   "cell_type": "code",
   "execution_count": 10,
   "metadata": {},
   "outputs": [
    {
     "data": {
      "text/plain": [
       "(['foo', 'bar'], 2, False)"
      ]
     },
     "execution_count": 10,
     "metadata": {},
     "output_type": "execute_result"
    }
   ],
   "source": [
    "tup"
   ]
  },
  {
   "cell_type": "code",
   "execution_count": 11,
   "metadata": {},
   "outputs": [
    {
     "ename": "TypeError",
     "evalue": "'tuple' object does not support item assignment",
     "output_type": "error",
     "traceback": [
      "\u001b[1;31m---------------------------------------------------------------------------\u001b[0m",
      "\u001b[1;31mTypeError\u001b[0m                                 Traceback (most recent call last)",
      "\u001b[1;32m<ipython-input-11-917564e8db30>\u001b[0m in \u001b[0;36m<module>\u001b[1;34m\u001b[0m\n\u001b[1;32m----> 1\u001b[1;33m \u001b[0mtup\u001b[0m\u001b[1;33m[\u001b[0m\u001b[1;36m2\u001b[0m\u001b[1;33m]\u001b[0m \u001b[1;33m=\u001b[0m \u001b[1;32mTrue\u001b[0m \u001b[1;31m#Tuples are immutable object.\u001b[0m\u001b[1;33m\u001b[0m\u001b[1;33m\u001b[0m\u001b[0m\n\u001b[0m",
      "\u001b[1;31mTypeError\u001b[0m: 'tuple' object does not support item assignment"
     ]
    }
   ],
   "source": [
    "tup[2] = True #Tuples are immutable object."
   ]
  },
  {
   "cell_type": "code",
   "execution_count": null,
   "metadata": {},
   "outputs": [],
   "source": [
    "tup"
   ]
  },
  {
   "cell_type": "code",
   "execution_count": 12,
   "metadata": {},
   "outputs": [
    {
     "data": {
      "text/plain": [
       "['foo', 'bar']"
      ]
     },
     "execution_count": 12,
     "metadata": {},
     "output_type": "execute_result"
    }
   ],
   "source": [
    "tup[0]"
   ]
  },
  {
   "cell_type": "code",
   "execution_count": 13,
   "metadata": {},
   "outputs": [],
   "source": [
    "tup[0].append('appended_element') #Beacuse the object inside the tuple is mutable."
   ]
  },
  {
   "cell_type": "code",
   "execution_count": 14,
   "metadata": {},
   "outputs": [
    {
     "data": {
      "text/plain": [
       "(['foo', 'bar', 'appended_element'], 2, False)"
      ]
     },
     "execution_count": 14,
     "metadata": {},
     "output_type": "execute_result"
    }
   ],
   "source": [
    "tup"
   ]
  },
  {
   "cell_type": "code",
   "execution_count": 15,
   "metadata": {},
   "outputs": [
    {
     "data": {
      "text/plain": [
       "(4, None, False, 5, 'foo')"
      ]
     },
     "execution_count": 15,
     "metadata": {},
     "output_type": "execute_result"
    }
   ],
   "source": [
    "(4, None, False) + (5, 'foo') #tuple concatenation"
   ]
  },
  {
   "cell_type": "code",
   "execution_count": 16,
   "metadata": {},
   "outputs": [
    {
     "data": {
      "text/plain": [
       "('foo', 254, 'foo', 254, 'foo', 254, 'foo', 254)"
      ]
     },
     "execution_count": 16,
     "metadata": {},
     "output_type": "execute_result"
    }
   ],
   "source": [
    "('foo', 254) * 4 #Multiplying a tuple by an integer like lists will concatenate together the copies of the tuple"
   ]
  },
  {
   "cell_type": "code",
   "execution_count": 17,
   "metadata": {},
   "outputs": [],
   "source": [
    "tup = ('a', 'b', 'c')"
   ]
  },
  {
   "cell_type": "code",
   "execution_count": 18,
   "metadata": {},
   "outputs": [],
   "source": [
    "x, y, z = tup #tuple unpacking"
   ]
  },
  {
   "cell_type": "code",
   "execution_count": 19,
   "metadata": {},
   "outputs": [
    {
     "name": "stdout",
     "output_type": "stream",
     "text": [
      "a b c\n"
     ]
    }
   ],
   "source": [
    "print(x, y, z)"
   ]
  },
  {
   "cell_type": "code",
   "execution_count": 20,
   "metadata": {},
   "outputs": [
    {
     "data": {
      "text/plain": [
       "('a', 'b')"
      ]
     },
     "execution_count": 20,
     "metadata": {},
     "output_type": "execute_result"
    }
   ],
   "source": [
    "x, y"
   ]
  },
  {
   "cell_type": "code",
   "execution_count": 21,
   "metadata": {},
   "outputs": [],
   "source": [
    "y, x = x, y #swapping"
   ]
  },
  {
   "cell_type": "code",
   "execution_count": 22,
   "metadata": {},
   "outputs": [
    {
     "data": {
      "text/plain": [
       "('b', 'a')"
      ]
     },
     "execution_count": 22,
     "metadata": {},
     "output_type": "execute_result"
    }
   ],
   "source": [
    "x, y"
   ]
  },
  {
   "cell_type": "code",
   "execution_count": 23,
   "metadata": {},
   "outputs": [],
   "source": [
    "seq = [('a', 'b', 'c'), ('e', 'f', 'g'), ('h', 'i', 'j')]"
   ]
  },
  {
   "cell_type": "code",
   "execution_count": 24,
   "metadata": {},
   "outputs": [
    {
     "name": "stdout",
     "output_type": "stream",
     "text": [
      "a = a, b = b, c = c\n",
      "a = e, b = f, c = g\n",
      "a = h, b = i, c = j\n"
     ]
    }
   ],
   "source": [
    "for x, y, z in seq:\n",
    "    print(f\"a = {x}, b = {y}, c = {z}\")"
   ]
  },
  {
   "cell_type": "code",
   "execution_count": 25,
   "metadata": {},
   "outputs": [],
   "source": [
    "values = 1, 2, 3, 4, 5"
   ]
  },
  {
   "cell_type": "code",
   "execution_count": 26,
   "metadata": {},
   "outputs": [
    {
     "data": {
      "text/plain": [
       "(1, 2, 3, 4, 5)"
      ]
     },
     "execution_count": 26,
     "metadata": {},
     "output_type": "execute_result"
    }
   ],
   "source": [
    "values"
   ]
  },
  {
   "cell_type": "code",
   "execution_count": 27,
   "metadata": {},
   "outputs": [],
   "source": [
    "a, b, *rest = values #*rest will store all the values except the first 2 elements from values in unpacking."
   ]
  },
  {
   "cell_type": "code",
   "execution_count": 28,
   "metadata": {},
   "outputs": [
    {
     "name": "stdout",
     "output_type": "stream",
     "text": [
      "1\n",
      "2\n"
     ]
    }
   ],
   "source": [
    "print(a)\n",
    "print(b)"
   ]
  },
  {
   "cell_type": "code",
   "execution_count": 29,
   "metadata": {},
   "outputs": [],
   "source": [
    "a, b, c, *rest = values #*_ will discard all the values except the first 2 elements from values in unpacking."
   ]
  },
  {
   "cell_type": "code",
   "execution_count": 30,
   "metadata": {},
   "outputs": [
    {
     "name": "stdout",
     "output_type": "stream",
     "text": [
      "1\n",
      "2\n",
      "3\n"
     ]
    }
   ],
   "source": [
    "print(a)\n",
    "print(b)\n",
    "print(c)"
   ]
  },
  {
   "cell_type": "code",
   "execution_count": 31,
   "metadata": {},
   "outputs": [],
   "source": [
    "a = (1, 2, 2, 3, 4, 4, 5, 5, 5)"
   ]
  },
  {
   "cell_type": "code",
   "execution_count": 32,
   "metadata": {},
   "outputs": [
    {
     "data": {
      "text/plain": [
       "3"
      ]
     },
     "execution_count": 32,
     "metadata": {},
     "output_type": "execute_result"
    }
   ],
   "source": [
    "a.count(5) #count() will count the number of instances in the tuple"
   ]
  },
  {
   "cell_type": "code",
   "execution_count": 33,
   "metadata": {},
   "outputs": [
    {
     "data": {
      "text/plain": [
       "2"
      ]
     },
     "execution_count": 33,
     "metadata": {},
     "output_type": "execute_result"
    }
   ],
   "source": [
    "a.count(2)"
   ]
  },
  {
   "cell_type": "code",
   "execution_count": 34,
   "metadata": {},
   "outputs": [],
   "source": [
    "a_list = [2, 3, 7, None]"
   ]
  },
  {
   "cell_type": "code",
   "execution_count": 35,
   "metadata": {},
   "outputs": [
    {
     "data": {
      "text/plain": [
       "['a', 'b', 'c']"
      ]
     },
     "execution_count": 35,
     "metadata": {},
     "output_type": "execute_result"
    }
   ],
   "source": [
    "b_list = list(tup) #casting tuple to list\n",
    "b_list"
   ]
  },
  {
   "cell_type": "code",
   "execution_count": 36,
   "metadata": {},
   "outputs": [
    {
     "data": {
      "text/plain": [
       "'b'"
      ]
     },
     "execution_count": 36,
     "metadata": {},
     "output_type": "execute_result"
    }
   ],
   "source": [
    "b_list[1]"
   ]
  },
  {
   "cell_type": "code",
   "execution_count": 37,
   "metadata": {},
   "outputs": [],
   "source": [
    "b_list[1] = 'pikachu' #assigning value to index: list are mutable objects"
   ]
  },
  {
   "cell_type": "code",
   "execution_count": 38,
   "metadata": {},
   "outputs": [
    {
     "data": {
      "text/plain": [
       "['a', 'pikachu', 'c']"
      ]
     },
     "execution_count": 38,
     "metadata": {},
     "output_type": "execute_result"
    }
   ],
   "source": [
    "b_list"
   ]
  },
  {
   "cell_type": "code",
   "execution_count": 39,
   "metadata": {},
   "outputs": [],
   "source": [
    "gen = list(range(10))"
   ]
  },
  {
   "cell_type": "code",
   "execution_count": 40,
   "metadata": {},
   "outputs": [
    {
     "data": {
      "text/plain": [
       "[0, 1, 2, 3, 4, 5, 6, 7, 8, 9]"
      ]
     },
     "execution_count": 40,
     "metadata": {},
     "output_type": "execute_result"
    }
   ],
   "source": [
    "gen"
   ]
  },
  {
   "cell_type": "code",
   "execution_count": 41,
   "metadata": {},
   "outputs": [],
   "source": [
    "b_list.append('snow')"
   ]
  },
  {
   "cell_type": "code",
   "execution_count": 42,
   "metadata": {},
   "outputs": [
    {
     "data": {
      "text/plain": [
       "['a', 'pikachu', 'c', 'snow']"
      ]
     },
     "execution_count": 42,
     "metadata": {},
     "output_type": "execute_result"
    }
   ],
   "source": [
    "b_list"
   ]
  },
  {
   "cell_type": "code",
   "execution_count": 43,
   "metadata": {},
   "outputs": [],
   "source": [
    "b_list.insert(1, 'jon')"
   ]
  },
  {
   "cell_type": "code",
   "execution_count": 44,
   "metadata": {},
   "outputs": [
    {
     "data": {
      "text/plain": [
       "['a', 'jon', 'pikachu', 'c', 'snow']"
      ]
     },
     "execution_count": 44,
     "metadata": {},
     "output_type": "execute_result"
    }
   ],
   "source": [
    "b_list"
   ]
  },
  {
   "cell_type": "code",
   "execution_count": 45,
   "metadata": {},
   "outputs": [
    {
     "data": {
      "text/plain": [
       "'pikachu'"
      ]
     },
     "execution_count": 45,
     "metadata": {},
     "output_type": "execute_result"
    }
   ],
   "source": [
    "b_list.pop(2) #pop(index), from pop you can also store the value"
   ]
  },
  {
   "cell_type": "code",
   "execution_count": 46,
   "metadata": {},
   "outputs": [
    {
     "data": {
      "text/plain": [
       "['a', 'jon', 'c', 'snow']"
      ]
     },
     "execution_count": 46,
     "metadata": {},
     "output_type": "execute_result"
    }
   ],
   "source": [
    "b_list"
   ]
  },
  {
   "cell_type": "code",
   "execution_count": 47,
   "metadata": {},
   "outputs": [],
   "source": [
    "b_list.append('foo')"
   ]
  },
  {
   "cell_type": "code",
   "execution_count": 48,
   "metadata": {},
   "outputs": [
    {
     "data": {
      "text/plain": [
       "['a', 'jon', 'c', 'snow', 'foo']"
      ]
     },
     "execution_count": 48,
     "metadata": {},
     "output_type": "execute_result"
    }
   ],
   "source": [
    "b_list"
   ]
  },
  {
   "cell_type": "code",
   "execution_count": 49,
   "metadata": {},
   "outputs": [],
   "source": [
    "b_list.remove('foo') #remove(value), remove will delete the value from list"
   ]
  },
  {
   "cell_type": "code",
   "execution_count": 50,
   "metadata": {},
   "outputs": [
    {
     "data": {
      "text/plain": [
       "['a', 'jon', 'c', 'snow']"
      ]
     },
     "execution_count": 50,
     "metadata": {},
     "output_type": "execute_result"
    }
   ],
   "source": [
    "b_list"
   ]
  },
  {
   "cell_type": "code",
   "execution_count": 51,
   "metadata": {},
   "outputs": [
    {
     "data": {
      "text/plain": [
       "True"
      ]
     },
     "execution_count": 51,
     "metadata": {},
     "output_type": "execute_result"
    }
   ],
   "source": [
    "'jon' in b_list #'in' is a membership operator, checks if the value exists in the object"
   ]
  },
  {
   "cell_type": "code",
   "execution_count": 52,
   "metadata": {},
   "outputs": [
    {
     "data": {
      "text/plain": [
       "False"
      ]
     },
     "execution_count": 52,
     "metadata": {},
     "output_type": "execute_result"
    }
   ],
   "source": [
    "'jon' not in b_list"
   ]
  },
  {
   "cell_type": "code",
   "execution_count": 53,
   "metadata": {},
   "outputs": [
    {
     "data": {
      "text/plain": [
       "[2, 3, 7, None, 'a', 'jon', 'c', 'snow']"
      ]
     },
     "execution_count": 53,
     "metadata": {},
     "output_type": "execute_result"
    }
   ],
   "source": [
    "a_list + b_list #list concatenating"
   ]
  },
  {
   "cell_type": "code",
   "execution_count": 54,
   "metadata": {},
   "outputs": [
    {
     "data": {
      "text/plain": [
       "[2, 3, 7, None]"
      ]
     },
     "execution_count": 54,
     "metadata": {},
     "output_type": "execute_result"
    }
   ],
   "source": [
    "a_list"
   ]
  },
  {
   "cell_type": "code",
   "execution_count": 55,
   "metadata": {},
   "outputs": [
    {
     "ename": "SyntaxError",
     "evalue": "invalid syntax (<ipython-input-55-24887c39f61d>, line 1)",
     "output_type": "error",
     "traceback": [
      "\u001b[1;36m  File \u001b[1;32m\"<ipython-input-55-24887c39f61d>\"\u001b[1;36m, line \u001b[1;32m1\u001b[0m\n\u001b[1;33m    c_list =\u001b[0m\n\u001b[1;37m             ^\u001b[0m\n\u001b[1;31mSyntaxError\u001b[0m\u001b[1;31m:\u001b[0m invalid syntax\n"
     ]
    }
   ],
   "source": [
    "c_list = "
   ]
  },
  {
   "cell_type": "code",
   "execution_count": 56,
   "metadata": {},
   "outputs": [],
   "source": [
    "a_list.extend(['a', True, None]) #appends the object(list) to the end of the list. Less expensive then concatenation op +"
   ]
  },
  {
   "cell_type": "code",
   "execution_count": 57,
   "metadata": {},
   "outputs": [
    {
     "data": {
      "text/plain": [
       "[2, 3, 7, None, 'a', True, None]"
      ]
     },
     "execution_count": 57,
     "metadata": {},
     "output_type": "execute_result"
    }
   ],
   "source": [
    "a_list"
   ]
  },
  {
   "cell_type": "code",
   "execution_count": 58,
   "metadata": {},
   "outputs": [],
   "source": [
    "a = [7, 2, 5, 1, 3]"
   ]
  },
  {
   "cell_type": "code",
   "execution_count": 59,
   "metadata": {},
   "outputs": [],
   "source": [
    "a.sort()"
   ]
  },
  {
   "cell_type": "code",
   "execution_count": 60,
   "metadata": {},
   "outputs": [
    {
     "data": {
      "text/plain": [
       "[1, 2, 3, 5, 7]"
      ]
     },
     "execution_count": 60,
     "metadata": {},
     "output_type": "execute_result"
    }
   ],
   "source": [
    "a"
   ]
  },
  {
   "cell_type": "code",
   "execution_count": 61,
   "metadata": {},
   "outputs": [],
   "source": [
    "b = ['saw', 'small', 'He', 'foxes', 'six']"
   ]
  },
  {
   "cell_type": "code",
   "execution_count": 62,
   "metadata": {},
   "outputs": [],
   "source": [
    "b.sort(key=len)"
   ]
  },
  {
   "cell_type": "code",
   "execution_count": 63,
   "metadata": {},
   "outputs": [
    {
     "data": {
      "text/plain": [
       "['He', 'saw', 'six', 'small', 'foxes']"
      ]
     },
     "execution_count": 63,
     "metadata": {},
     "output_type": "execute_result"
    }
   ],
   "source": [
    "b"
   ]
  },
  {
   "cell_type": "code",
   "execution_count": 64,
   "metadata": {},
   "outputs": [],
   "source": [
    "import bisect"
   ]
  },
  {
   "cell_type": "code",
   "execution_count": 65,
   "metadata": {},
   "outputs": [
    {
     "data": {
      "text/plain": [
       "[1, 2, 3, 5, 7]"
      ]
     },
     "execution_count": 65,
     "metadata": {},
     "output_type": "execute_result"
    }
   ],
   "source": [
    "a"
   ]
  },
  {
   "cell_type": "code",
   "execution_count": 66,
   "metadata": {},
   "outputs": [
    {
     "data": {
      "text/plain": [
       "3"
      ]
     },
     "execution_count": 66,
     "metadata": {},
     "output_type": "execute_result"
    }
   ],
   "source": [
    "bisect.bisect(a, 4) #bisect.bisect(object, value)->index, for value to be inserted at index to keep it sorted"
   ]
  },
  {
   "cell_type": "code",
   "execution_count": 67,
   "metadata": {},
   "outputs": [],
   "source": [
    "bisect.insort(a, 4) #bisort.bisort(object, value) -> inserts the value to list so that it remains sorted"
   ]
  },
  {
   "cell_type": "code",
   "execution_count": 68,
   "metadata": {},
   "outputs": [
    {
     "data": {
      "text/plain": [
       "[1, 2, 3, 4, 5, 7]"
      ]
     },
     "execution_count": 68,
     "metadata": {},
     "output_type": "execute_result"
    }
   ],
   "source": [
    "a"
   ]
  },
  {
   "cell_type": "code",
   "execution_count": 69,
   "metadata": {},
   "outputs": [],
   "source": [
    "seq = list(range(15))"
   ]
  },
  {
   "cell_type": "code",
   "execution_count": 70,
   "metadata": {},
   "outputs": [
    {
     "data": {
      "text/plain": [
       "[0, 1, 2, 3, 4, 5, 6, 7, 8, 9, 10, 11, 12, 13, 14]"
      ]
     },
     "execution_count": 70,
     "metadata": {},
     "output_type": "execute_result"
    }
   ],
   "source": [
    "seq"
   ]
  },
  {
   "cell_type": "code",
   "execution_count": 71,
   "metadata": {},
   "outputs": [
    {
     "data": {
      "text/plain": [
       "5"
      ]
     },
     "execution_count": 71,
     "metadata": {},
     "output_type": "execute_result"
    }
   ],
   "source": [
    "seq[5] #indexing -> returns the value from object"
   ]
  },
  {
   "cell_type": "code",
   "execution_count": 72,
   "metadata": {},
   "outputs": [
    {
     "data": {
      "text/plain": [
       "[2, 3, 4, 5]"
      ]
     },
     "execution_count": 72,
     "metadata": {},
     "output_type": "execute_result"
    }
   ],
   "source": [
    "seq[2:6] #slicing -> returns the subset of an object, list[start:(stop):step]"
   ]
  },
  {
   "cell_type": "code",
   "execution_count": 73,
   "metadata": {},
   "outputs": [
    {
     "data": {
      "text/plain": [
       "[0, 2, 4, 6, 8, 10, 12, 14]"
      ]
     },
     "execution_count": 73,
     "metadata": {},
     "output_type": "execute_result"
    }
   ],
   "source": [
    "seq[::2]"
   ]
  },
  {
   "cell_type": "code",
   "execution_count": 74,
   "metadata": {},
   "outputs": [
    {
     "data": {
      "text/plain": [
       "[3, 4, 5, 6, 7, 8, 9, 10, 11, 12, 13, 14]"
      ]
     },
     "execution_count": 74,
     "metadata": {},
     "output_type": "execute_result"
    }
   ],
   "source": [
    "seq[3:]"
   ]
  },
  {
   "cell_type": "code",
   "execution_count": 75,
   "metadata": {},
   "outputs": [
    {
     "data": {
      "text/plain": [
       "[14, 13, 12, 11, 10, 9, 8, 7, 6, 5, 4, 3, 2, 1, 0]"
      ]
     },
     "execution_count": 75,
     "metadata": {},
     "output_type": "execute_result"
    }
   ],
   "source": [
    "seq[::-1]"
   ]
  },
  {
   "cell_type": "code",
   "execution_count": 76,
   "metadata": {},
   "outputs": [
    {
     "data": {
      "text/plain": [
       "[13, 14]"
      ]
     },
     "execution_count": 76,
     "metadata": {},
     "output_type": "execute_result"
    }
   ],
   "source": [
    "seq[-2:]"
   ]
  },
  {
   "cell_type": "code",
   "execution_count": 77,
   "metadata": {},
   "outputs": [
    {
     "data": {
      "text/plain": [
       "['a', 'jon', 'c', 'snow']"
      ]
     },
     "execution_count": 77,
     "metadata": {},
     "output_type": "execute_result"
    }
   ],
   "source": [
    "b_list"
   ]
  },
  {
   "cell_type": "code",
   "execution_count": 78,
   "metadata": {},
   "outputs": [],
   "source": [
    "b_dict = {}"
   ]
  },
  {
   "cell_type": "code",
   "execution_count": 79,
   "metadata": {},
   "outputs": [],
   "source": [
    "for i, value in enumerate(b_list): #enumerate runs an default iterator for indexing\n",
    "    b_dict[i] = value"
   ]
  },
  {
   "cell_type": "code",
   "execution_count": 80,
   "metadata": {},
   "outputs": [
    {
     "data": {
      "text/plain": [
       "{0: 'a', 1: 'jon', 2: 'c', 3: 'snow'}"
      ]
     },
     "execution_count": 80,
     "metadata": {},
     "output_type": "execute_result"
    }
   ],
   "source": [
    "b_dict"
   ]
  },
  {
   "cell_type": "code",
   "execution_count": 81,
   "metadata": {},
   "outputs": [
    {
     "data": {
      "text/plain": [
       "[0, 1, 3, 5, 7, 9, 12, 14]"
      ]
     },
     "execution_count": 81,
     "metadata": {},
     "output_type": "execute_result"
    }
   ],
   "source": [
    "sorted([7, 5, 1, 9, 12, 3, 14, 0]) #sorted() returns the object sorted"
   ]
  },
  {
   "cell_type": "code",
   "execution_count": 82,
   "metadata": {},
   "outputs": [
    {
     "data": {
      "text/plain": [
       "[' ', ' ', ' ', 'M', 'a', 'a', 'd', 'e', 'i', 'm', 'n', 'n', 's', 'y']"
      ]
     },
     "execution_count": 82,
     "metadata": {},
     "output_type": "execute_result"
    }
   ],
   "source": [
    "sorted(\"My name is dan\")"
   ]
  },
  {
   "cell_type": "code",
   "execution_count": 83,
   "metadata": {},
   "outputs": [
    {
     "data": {
      "text/plain": [
       "['a', 'b', 'c']"
      ]
     },
     "execution_count": 83,
     "metadata": {},
     "output_type": "execute_result"
    }
   ],
   "source": [
    "a_list = ['a', 'b', 'c']\n",
    "a_list"
   ]
  },
  {
   "cell_type": "code",
   "execution_count": 84,
   "metadata": {},
   "outputs": [
    {
     "data": {
      "text/plain": [
       "[1, 2, 3]"
      ]
     },
     "execution_count": 84,
     "metadata": {},
     "output_type": "execute_result"
    }
   ],
   "source": [
    "b_list = [1, 2, 3]\n",
    "b_list"
   ]
  },
  {
   "cell_type": "code",
   "execution_count": 85,
   "metadata": {},
   "outputs": [],
   "source": [
    "zipped = zip(a_list, b_list) #binds the element from first object with second in tuple"
   ]
  },
  {
   "cell_type": "code",
   "execution_count": 86,
   "metadata": {},
   "outputs": [
    {
     "data": {
      "text/plain": [
       "<zip at 0x2c097435588>"
      ]
     },
     "execution_count": 86,
     "metadata": {},
     "output_type": "execute_result"
    }
   ],
   "source": [
    "zipped"
   ]
  },
  {
   "cell_type": "code",
   "execution_count": 87,
   "metadata": {},
   "outputs": [
    {
     "data": {
      "text/plain": [
       "[('a', 1), ('b', 2), ('c', 3)]"
      ]
     },
     "execution_count": 87,
     "metadata": {},
     "output_type": "execute_result"
    }
   ],
   "source": [
    "list(zipped)"
   ]
  },
  {
   "cell_type": "code",
   "execution_count": 88,
   "metadata": {},
   "outputs": [],
   "source": [
    "c_list = (False, True, None)"
   ]
  },
  {
   "cell_type": "code",
   "execution_count": 89,
   "metadata": {},
   "outputs": [],
   "source": [
    "zipped = zip(a_list, b_list, c_list)"
   ]
  },
  {
   "cell_type": "code",
   "execution_count": 90,
   "metadata": {},
   "outputs": [
    {
     "data": {
      "text/plain": [
       "[('a', 1, False), ('b', 2, True), ('c', 3, None)]"
      ]
     },
     "execution_count": 90,
     "metadata": {},
     "output_type": "execute_result"
    }
   ],
   "source": [
    "list(zipped)"
   ]
  },
  {
   "cell_type": "code",
   "execution_count": 91,
   "metadata": {},
   "outputs": [
    {
     "name": "stdout",
     "output_type": "stream",
     "text": [
      "0: a, 1, False\n",
      "1: b, 2, True\n",
      "2: c, 3, None\n"
     ]
    }
   ],
   "source": [
    "for i, (a, b, c) in enumerate(zip(a_list, b_list, c_list)):\n",
    "    print(f\"{i}: {a}, {b}, {c}\")"
   ]
  },
  {
   "cell_type": "code",
   "execution_count": 92,
   "metadata": {},
   "outputs": [],
   "source": [
    "fullNames = [('Dan', 'Hud'), ('Kim', 'Yu'), ('Sal', 'Fung')]"
   ]
  },
  {
   "cell_type": "code",
   "execution_count": 93,
   "metadata": {},
   "outputs": [],
   "source": [
    "firstName, lastName = zip(*fullNames) #unzipping syntax"
   ]
  },
  {
   "cell_type": "code",
   "execution_count": 94,
   "metadata": {},
   "outputs": [
    {
     "data": {
      "text/plain": [
       "('Dan', 'Kim', 'Sal')"
      ]
     },
     "execution_count": 94,
     "metadata": {},
     "output_type": "execute_result"
    }
   ],
   "source": [
    "firstName"
   ]
  },
  {
   "cell_type": "code",
   "execution_count": 95,
   "metadata": {},
   "outputs": [
    {
     "data": {
      "text/plain": [
       "('Hud', 'Yu', 'Fung')"
      ]
     },
     "execution_count": 95,
     "metadata": {},
     "output_type": "execute_result"
    }
   ],
   "source": [
    "lastName"
   ]
  },
  {
   "cell_type": "code",
   "execution_count": 96,
   "metadata": {},
   "outputs": [
    {
     "data": {
      "text/plain": [
       "[9, 8, 7, 6, 5, 4, 3, 2, 1, 0]"
      ]
     },
     "execution_count": 96,
     "metadata": {},
     "output_type": "execute_result"
    }
   ],
   "source": [
    "list(reversed(range(10))) #reversed function reverses the iterable object"
   ]
  },
  {
   "cell_type": "code",
   "execution_count": 97,
   "metadata": {},
   "outputs": [],
   "source": [
    "empty_dict = {}"
   ]
  },
  {
   "cell_type": "code",
   "execution_count": 98,
   "metadata": {},
   "outputs": [],
   "source": [
    "d1 = {'a': 'some values', 'b': [1, 2, 4, 8]}"
   ]
  },
  {
   "cell_type": "code",
   "execution_count": 99,
   "metadata": {},
   "outputs": [
    {
     "data": {
      "text/plain": [
       "{'a': 'some values', 'b': [1, 2, 4, 8]}"
      ]
     },
     "execution_count": 99,
     "metadata": {},
     "output_type": "execute_result"
    }
   ],
   "source": [
    "d1 #{key:value}"
   ]
  },
  {
   "cell_type": "code",
   "execution_count": 100,
   "metadata": {},
   "outputs": [],
   "source": [
    "d1[7] = 'valueR' #d1[key] = value (assignment)"
   ]
  },
  {
   "cell_type": "code",
   "execution_count": 101,
   "metadata": {},
   "outputs": [
    {
     "data": {
      "text/plain": [
       "{'a': 'some values', 'b': [1, 2, 4, 8], 7: 'valueR'}"
      ]
     },
     "execution_count": 101,
     "metadata": {},
     "output_type": "execute_result"
    }
   ],
   "source": [
    "d1"
   ]
  },
  {
   "cell_type": "code",
   "execution_count": 102,
   "metadata": {},
   "outputs": [],
   "source": [
    "d1['b'] = 'another valueR'"
   ]
  },
  {
   "cell_type": "code",
   "execution_count": 103,
   "metadata": {},
   "outputs": [
    {
     "data": {
      "text/plain": [
       "{'a': 'some values', 'b': 'another valueR', 7: 'valueR'}"
      ]
     },
     "execution_count": 103,
     "metadata": {},
     "output_type": "execute_result"
    }
   ],
   "source": [
    "d1"
   ]
  },
  {
   "cell_type": "code",
   "execution_count": 104,
   "metadata": {},
   "outputs": [
    {
     "data": {
      "text/plain": [
       "True"
      ]
     },
     "execution_count": 104,
     "metadata": {},
     "output_type": "execute_result"
    }
   ],
   "source": [
    "'b' in d1"
   ]
  },
  {
   "cell_type": "code",
   "execution_count": 105,
   "metadata": {},
   "outputs": [
    {
     "data": {
      "text/plain": [
       "False"
      ]
     },
     "execution_count": 105,
     "metadata": {},
     "output_type": "execute_result"
    }
   ],
   "source": [
    "'another valueR' in d1"
   ]
  },
  {
   "cell_type": "code",
   "execution_count": 106,
   "metadata": {},
   "outputs": [
    {
     "data": {
      "text/plain": [
       "{'a': 'some values', 'b': 'another valueR', 7: 'valueR'}"
      ]
     },
     "execution_count": 106,
     "metadata": {},
     "output_type": "execute_result"
    }
   ],
   "source": [
    "d1"
   ]
  },
  {
   "cell_type": "code",
   "execution_count": 107,
   "metadata": {},
   "outputs": [],
   "source": [
    "del d1[7] #deleted the value at key=7"
   ]
  },
  {
   "cell_type": "code",
   "execution_count": 108,
   "metadata": {},
   "outputs": [
    {
     "data": {
      "text/plain": [
       "{'a': 'some values', 'b': 'another valueR'}"
      ]
     },
     "execution_count": 108,
     "metadata": {},
     "output_type": "execute_result"
    }
   ],
   "source": [
    "d1"
   ]
  },
  {
   "cell_type": "code",
   "execution_count": 109,
   "metadata": {},
   "outputs": [
    {
     "data": {
      "text/plain": [
       "'another valueR'"
      ]
     },
     "execution_count": 109,
     "metadata": {},
     "output_type": "execute_result"
    }
   ],
   "source": [
    "d1.pop('b') #pops the value corresponding to the given key"
   ]
  },
  {
   "cell_type": "code",
   "execution_count": 110,
   "metadata": {},
   "outputs": [
    {
     "data": {
      "text/plain": [
       "dict_values(['some values'])"
      ]
     },
     "execution_count": 110,
     "metadata": {},
     "output_type": "execute_result"
    }
   ],
   "source": [
    "d1.values() #returns the all the values from dict"
   ]
  },
  {
   "cell_type": "code",
   "execution_count": 111,
   "metadata": {},
   "outputs": [
    {
     "data": {
      "text/plain": [
       "dict_keys(['a'])"
      ]
     },
     "execution_count": 111,
     "metadata": {},
     "output_type": "execute_result"
    }
   ],
   "source": [
    "d1.keys() #returns the all the keys from dict"
   ]
  },
  {
   "cell_type": "code",
   "execution_count": 112,
   "metadata": {},
   "outputs": [],
   "source": [
    "d1.update({7: 'hahaha', 8: 'abcde', 9: (True, None)}) #update extends the given dictionary"
   ]
  },
  {
   "cell_type": "code",
   "execution_count": 113,
   "metadata": {},
   "outputs": [
    {
     "data": {
      "text/plain": [
       "{'a': 'some values', 7: 'hahaha', 8: 'abcde', 9: (True, None)}"
      ]
     },
     "execution_count": 113,
     "metadata": {},
     "output_type": "execute_result"
    }
   ],
   "source": [
    "d1"
   ]
  },
  {
   "cell_type": "code",
   "execution_count": 114,
   "metadata": {},
   "outputs": [],
   "source": [
    "words = ['apple', 'bat', 'bar', 'yellow', 'red']\n",
    "by_letter = {}"
   ]
  },
  {
   "cell_type": "code",
   "execution_count": 115,
   "metadata": {},
   "outputs": [],
   "source": [
    "for word in words:\n",
    "    letter = word[0]\n",
    "    if letter not in by_letter:\n",
    "        by_letter[letter] = [word]\n",
    "    else:\n",
    "        by_letter[letter].append(word)"
   ]
  },
  {
   "cell_type": "code",
   "execution_count": 116,
   "metadata": {},
   "outputs": [
    {
     "data": {
      "text/plain": [
       "{'a': ['apple'], 'b': ['bat', 'bar'], 'y': ['yellow'], 'r': ['red']}"
      ]
     },
     "execution_count": 116,
     "metadata": {},
     "output_type": "execute_result"
    }
   ],
   "source": [
    "by_letter"
   ]
  },
  {
   "cell_type": "markdown",
   "metadata": {},
   "source": [
    "The above code can be replaced by using setdefault()"
   ]
  },
  {
   "cell_type": "code",
   "execution_count": 117,
   "metadata": {},
   "outputs": [],
   "source": [
    "words = ['apple', 'bat', 'bar', 'yellow', 'red']\n",
    "by_letter = {}"
   ]
  },
  {
   "cell_type": "code",
   "execution_count": 118,
   "metadata": {},
   "outputs": [],
   "source": [
    "for word in words:\n",
    "    letter = word[0]\n",
    "    by_letter.setdefault(letter, []).append(word)"
   ]
  },
  {
   "cell_type": "code",
   "execution_count": 119,
   "metadata": {},
   "outputs": [
    {
     "data": {
      "text/plain": [
       "{'a': ['apple'], 'b': ['bat', 'bar'], 'y': ['yellow'], 'r': ['red']}"
      ]
     },
     "execution_count": 119,
     "metadata": {},
     "output_type": "execute_result"
    }
   ],
   "source": [
    "by_letter"
   ]
  },
  {
   "cell_type": "code",
   "execution_count": 120,
   "metadata": {},
   "outputs": [],
   "source": [
    "from collections import defaultdict"
   ]
  },
  {
   "cell_type": "code",
   "execution_count": 121,
   "metadata": {},
   "outputs": [],
   "source": [
    "by_letters = defaultdict(list)"
   ]
  },
  {
   "cell_type": "code",
   "execution_count": 122,
   "metadata": {},
   "outputs": [
    {
     "data": {
      "text/plain": [
       "defaultdict(list, {})"
      ]
     },
     "execution_count": 122,
     "metadata": {},
     "output_type": "execute_result"
    }
   ],
   "source": [
    "by_letters"
   ]
  },
  {
   "cell_type": "code",
   "execution_count": 123,
   "metadata": {},
   "outputs": [],
   "source": [
    "for word in words:\n",
    "    by_letters[word[0]].append(word)"
   ]
  },
  {
   "cell_type": "code",
   "execution_count": 124,
   "metadata": {},
   "outputs": [
    {
     "data": {
      "text/plain": [
       "defaultdict(list,\n",
       "            {'a': ['apple'],\n",
       "             'b': ['bat', 'bar'],\n",
       "             'y': ['yellow'],\n",
       "             'r': ['red']})"
      ]
     },
     "execution_count": 124,
     "metadata": {},
     "output_type": "execute_result"
    }
   ],
   "source": [
    "by_letters"
   ]
  },
  {
   "cell_type": "code",
   "execution_count": 125,
   "metadata": {},
   "outputs": [
    {
     "data": {
      "text/plain": [
       "5425950276767883722"
      ]
     },
     "execution_count": 125,
     "metadata": {},
     "output_type": "execute_result"
    }
   ],
   "source": [
    "hash('string')"
   ]
  },
  {
   "cell_type": "code",
   "execution_count": 126,
   "metadata": {},
   "outputs": [
    {
     "data": {
      "text/plain": [
       "2528502973978491464"
      ]
     },
     "execution_count": 126,
     "metadata": {},
     "output_type": "execute_result"
    }
   ],
   "source": [
    "hash((1,2,2))"
   ]
  },
  {
   "cell_type": "code",
   "execution_count": 127,
   "metadata": {},
   "outputs": [
    {
     "ename": "TypeError",
     "evalue": "unhashable type: 'list'",
     "output_type": "error",
     "traceback": [
      "\u001b[1;31m---------------------------------------------------------------------------\u001b[0m",
      "\u001b[1;31mTypeError\u001b[0m                                 Traceback (most recent call last)",
      "\u001b[1;32m<ipython-input-127-107c3051c14a>\u001b[0m in \u001b[0;36m<module>\u001b[1;34m\u001b[0m\n\u001b[1;32m----> 1\u001b[1;33m \u001b[0mhash\u001b[0m\u001b[1;33m(\u001b[0m\u001b[1;33m[\u001b[0m\u001b[1;36m1\u001b[0m\u001b[1;33m,\u001b[0m \u001b[1;36m2\u001b[0m\u001b[1;33m,\u001b[0m \u001b[1;36m3\u001b[0m\u001b[1;33m]\u001b[0m\u001b[1;33m)\u001b[0m \u001b[1;31m#hash() takes only immutable object as its parameter and converts it to hash value, used for keys in dict\u001b[0m\u001b[1;33m\u001b[0m\u001b[1;33m\u001b[0m\u001b[0m\n\u001b[0m",
      "\u001b[1;31mTypeError\u001b[0m: unhashable type: 'list'"
     ]
    }
   ],
   "source": [
    "hash([1, 2, 3]) #hash() takes only immutable object as its parameter and converts it to hash value, used for keys in dict"
   ]
  },
  {
   "cell_type": "markdown",
   "metadata": {},
   "source": [
    "How to use list as keys?"
   ]
  },
  {
   "cell_type": "code",
   "execution_count": 128,
   "metadata": {},
   "outputs": [],
   "source": [
    "d = {}"
   ]
  },
  {
   "cell_type": "code",
   "execution_count": 129,
   "metadata": {},
   "outputs": [],
   "source": [
    "d[tuple([5, 6, 7])] = 78 #convert list into an immutable tuple then store it as key"
   ]
  },
  {
   "cell_type": "code",
   "execution_count": 130,
   "metadata": {},
   "outputs": [
    {
     "data": {
      "text/plain": [
       "{(5, 6, 7): 78}"
      ]
     },
     "execution_count": 130,
     "metadata": {},
     "output_type": "execute_result"
    }
   ],
   "source": [
    "d"
   ]
  },
  {
   "cell_type": "markdown",
   "metadata": {},
   "source": [
    "Note: An immutable object cannot be treated as keys"
   ]
  },
  {
   "cell_type": "code",
   "execution_count": 131,
   "metadata": {},
   "outputs": [
    {
     "data": {
      "text/plain": [
       "{5, 7, 8, 9}"
      ]
     },
     "execution_count": 131,
     "metadata": {},
     "output_type": "execute_result"
    }
   ],
   "source": [
    "{5, 7, 8, 9} #dict with no keys and unique values are sets"
   ]
  },
  {
   "cell_type": "code",
   "execution_count": 132,
   "metadata": {},
   "outputs": [
    {
     "data": {
      "text/plain": [
       "{2, 8, 9}"
      ]
     },
     "execution_count": 132,
     "metadata": {},
     "output_type": "execute_result"
    }
   ],
   "source": [
    "set([2, 8, 8, 8, 9])"
   ]
  },
  {
   "cell_type": "code",
   "execution_count": 133,
   "metadata": {},
   "outputs": [],
   "source": [
    "a = {1, 2, 3, 3, 4, 5}\n",
    "b = {1, 'a', 'b', 'c', 'd', 'e' 'e'}"
   ]
  },
  {
   "cell_type": "code",
   "execution_count": 134,
   "metadata": {},
   "outputs": [
    {
     "data": {
      "text/plain": [
       "{1, 2, 3, 4, 5, 'a', 'b', 'c', 'd', 'ee'}"
      ]
     },
     "execution_count": 134,
     "metadata": {},
     "output_type": "execute_result"
    }
   ],
   "source": [
    "a.union(b) "
   ]
  },
  {
   "cell_type": "code",
   "execution_count": 135,
   "metadata": {},
   "outputs": [
    {
     "data": {
      "text/plain": [
       "{1, 2, 3, 4, 5, 'a', 'b', 'c', 'd', 'ee'}"
      ]
     },
     "execution_count": 135,
     "metadata": {},
     "output_type": "execute_result"
    }
   ],
   "source": [
    "a | b #also a union b"
   ]
  },
  {
   "cell_type": "code",
   "execution_count": 136,
   "metadata": {},
   "outputs": [
    {
     "data": {
      "text/plain": [
       "{1}"
      ]
     },
     "execution_count": 136,
     "metadata": {},
     "output_type": "execute_result"
    }
   ],
   "source": [
    "a.intersection(b) "
   ]
  },
  {
   "cell_type": "code",
   "execution_count": 137,
   "metadata": {},
   "outputs": [
    {
     "data": {
      "text/plain": [
       "{1}"
      ]
     },
     "execution_count": 137,
     "metadata": {},
     "output_type": "execute_result"
    }
   ],
   "source": [
    "a & b #also a intersection b"
   ]
  },
  {
   "cell_type": "code",
   "execution_count": 138,
   "metadata": {},
   "outputs": [],
   "source": [
    "c = a.copy()"
   ]
  },
  {
   "cell_type": "code",
   "execution_count": 139,
   "metadata": {},
   "outputs": [
    {
     "data": {
      "text/plain": [
       "{1, 2, 3, 4, 5}"
      ]
     },
     "execution_count": 139,
     "metadata": {},
     "output_type": "execute_result"
    }
   ],
   "source": [
    "c"
   ]
  },
  {
   "cell_type": "code",
   "execution_count": 140,
   "metadata": {},
   "outputs": [],
   "source": [
    "c |= b"
   ]
  },
  {
   "cell_type": "code",
   "execution_count": 141,
   "metadata": {},
   "outputs": [
    {
     "data": {
      "text/plain": [
       "{1, 2, 3, 4, 5, 'a', 'b', 'c', 'd', 'ee'}"
      ]
     },
     "execution_count": 141,
     "metadata": {},
     "output_type": "execute_result"
    }
   ],
   "source": [
    "c"
   ]
  },
  {
   "cell_type": "code",
   "execution_count": 142,
   "metadata": {},
   "outputs": [],
   "source": [
    "d = a.copy()"
   ]
  },
  {
   "cell_type": "code",
   "execution_count": 143,
   "metadata": {},
   "outputs": [],
   "source": [
    "d &= b"
   ]
  },
  {
   "cell_type": "code",
   "execution_count": 144,
   "metadata": {},
   "outputs": [
    {
     "data": {
      "text/plain": [
       "{1}"
      ]
     },
     "execution_count": 144,
     "metadata": {},
     "output_type": "execute_result"
    }
   ],
   "source": [
    "d"
   ]
  },
  {
   "cell_type": "code",
   "execution_count": 145,
   "metadata": {},
   "outputs": [],
   "source": [
    "data = list(range(5))"
   ]
  },
  {
   "cell_type": "code",
   "execution_count": 146,
   "metadata": {},
   "outputs": [],
   "source": [
    "a_set = {tuple(data)}"
   ]
  },
  {
   "cell_type": "code",
   "execution_count": 147,
   "metadata": {},
   "outputs": [
    {
     "data": {
      "text/plain": [
       "{(0, 1, 2, 3, 4)}"
      ]
     },
     "execution_count": 147,
     "metadata": {},
     "output_type": "execute_result"
    }
   ],
   "source": [
    "a_set #set of 1 tuple"
   ]
  },
  {
   "cell_type": "code",
   "execution_count": 148,
   "metadata": {},
   "outputs": [],
   "source": [
    "a_set = {1, 2, 3, 4}"
   ]
  },
  {
   "cell_type": "code",
   "execution_count": 149,
   "metadata": {},
   "outputs": [
    {
     "data": {
      "text/plain": [
       "True"
      ]
     },
     "execution_count": 149,
     "metadata": {},
     "output_type": "execute_result"
    }
   ],
   "source": [
    "{1, 2}.issubset(a_set)"
   ]
  },
  {
   "cell_type": "code",
   "execution_count": 150,
   "metadata": {},
   "outputs": [
    {
     "data": {
      "text/plain": [
       "True"
      ]
     },
     "execution_count": 150,
     "metadata": {},
     "output_type": "execute_result"
    }
   ],
   "source": [
    "a_set.issuperset({1, 2})"
   ]
  },
  {
   "cell_type": "code",
   "execution_count": 151,
   "metadata": {},
   "outputs": [
    {
     "data": {
      "text/plain": [
       "{1, 2, 3, 4}"
      ]
     },
     "execution_count": 151,
     "metadata": {},
     "output_type": "execute_result"
    }
   ],
   "source": [
    "a_set"
   ]
  },
  {
   "cell_type": "code",
   "execution_count": 152,
   "metadata": {},
   "outputs": [
    {
     "data": {
      "text/plain": [
       "{1, 'a', 'b', 'c', 'd', 'ee'}"
      ]
     },
     "execution_count": 152,
     "metadata": {},
     "output_type": "execute_result"
    }
   ],
   "source": [
    "b"
   ]
  },
  {
   "cell_type": "code",
   "execution_count": 153,
   "metadata": {},
   "outputs": [
    {
     "data": {
      "text/plain": [
       "False"
      ]
     },
     "execution_count": 153,
     "metadata": {},
     "output_type": "execute_result"
    }
   ],
   "source": [
    "a_set == b"
   ]
  },
  {
   "cell_type": "code",
   "execution_count": 154,
   "metadata": {},
   "outputs": [],
   "source": [
    "strings = ['apple', 'bee', 'cat', 'a', 'as'] #list comprehension"
   ]
  },
  {
   "cell_type": "code",
   "execution_count": 155,
   "metadata": {},
   "outputs": [
    {
     "data": {
      "text/plain": [
       "['APPLE', 'BEE', 'CAT']"
      ]
     },
     "execution_count": 155,
     "metadata": {},
     "output_type": "execute_result"
    }
   ],
   "source": [
    "[word.upper() for word in strings if len(word)>2]"
   ]
  },
  {
   "cell_type": "code",
   "execution_count": 156,
   "metadata": {},
   "outputs": [
    {
     "data": {
      "text/plain": [
       "['B', 'D', 'F', 'H', 'J', 'L', 'N', 'P', 'R', 'T', 'V', 'X', 'Z']"
      ]
     },
     "execution_count": 156,
     "metadata": {},
     "output_type": "execute_result"
    }
   ],
   "source": [
    "[chr(i) for i in range(65, 65+26) if i%2 == 0]"
   ]
  },
  {
   "cell_type": "code",
   "execution_count": 157,
   "metadata": {},
   "outputs": [
    {
     "data": {
      "text/plain": [
       "{0: 5, 1: 3, 2: 3, 3: 1, 4: 2}"
      ]
     },
     "execution_count": 157,
     "metadata": {},
     "output_type": "execute_result"
    }
   ],
   "source": [
    "{i: len(word) for i, word in enumerate(strings)} #dict comprehension"
   ]
  },
  {
   "cell_type": "code",
   "execution_count": 158,
   "metadata": {},
   "outputs": [
    {
     "data": {
      "text/plain": [
       "{1, 2, 3, 5}"
      ]
     },
     "execution_count": 158,
     "metadata": {},
     "output_type": "execute_result"
    }
   ],
   "source": [
    "{len(word) for word in strings} #set comprehension"
   ]
  },
  {
   "cell_type": "code",
   "execution_count": 159,
   "metadata": {},
   "outputs": [
    {
     "data": {
      "text/plain": [
       "{1, 2, 3, 5}"
      ]
     },
     "execution_count": 159,
     "metadata": {},
     "output_type": "execute_result"
    }
   ],
   "source": [
    "set(map(len, strings))"
   ]
  },
  {
   "cell_type": "code",
   "execution_count": 160,
   "metadata": {},
   "outputs": [
    {
     "data": {
      "text/plain": [
       "{'A',\n",
       " 'B',\n",
       " 'C',\n",
       " 'D',\n",
       " 'E',\n",
       " 'F',\n",
       " 'G',\n",
       " 'H',\n",
       " 'I',\n",
       " 'J',\n",
       " 'K',\n",
       " 'L',\n",
       " 'M',\n",
       " 'N',\n",
       " 'O',\n",
       " 'P',\n",
       " 'Q',\n",
       " 'R',\n",
       " 'S',\n",
       " 'T',\n",
       " 'U',\n",
       " 'V',\n",
       " 'W',\n",
       " 'X',\n",
       " 'Y',\n",
       " 'Z'}"
      ]
     },
     "execution_count": 160,
     "metadata": {},
     "output_type": "execute_result"
    }
   ],
   "source": [
    "set(map(chr, range(65,65+26)))"
   ]
  },
  {
   "cell_type": "code",
   "execution_count": 161,
   "metadata": {},
   "outputs": [],
   "source": [
    "all_data = [['dan', 'edu', 'uft', 'parse'], ['print', 'len', 'den', 'kicwosky']] #nested list"
   ]
  },
  {
   "cell_type": "code",
   "execution_count": 162,
   "metadata": {},
   "outputs": [
    {
     "data": {
      "text/plain": [
       "['LEN', 'DEN']"
      ]
     },
     "execution_count": 162,
     "metadata": {},
     "output_type": "execute_result"
    }
   ],
   "source": [
    "[name.upper() for names in all_data for name in names if name[1] == 'e'] #nested for in list comprehension"
   ]
  },
  {
   "cell_type": "code",
   "execution_count": 163,
   "metadata": {},
   "outputs": [],
   "source": [
    "tup = [(1, 2, 3, 4, 5), ('a', 'b', 'c'), (True, False, None)]"
   ]
  },
  {
   "cell_type": "code",
   "execution_count": 164,
   "metadata": {},
   "outputs": [
    {
     "data": {
      "text/plain": [
       "[1, 2, 3, 4, 5, 'a', 'b', 'c', True, False, None]"
      ]
     },
     "execution_count": 164,
     "metadata": {},
     "output_type": "execute_result"
    }
   ],
   "source": [
    "[value for t in tup for value in t] #flattening the list of tuples"
   ]
  },
  {
   "cell_type": "code",
   "execution_count": 165,
   "metadata": {},
   "outputs": [
    {
     "data": {
      "text/plain": [
       "[[1, 2, 3, 4, 5], ['a', 'b', 'c'], [True, False, None]]"
      ]
     },
     "execution_count": 165,
     "metadata": {},
     "output_type": "execute_result"
    }
   ],
   "source": [
    "[[value for value in t] for t in tup] #nested list comprehension"
   ]
  },
  {
   "cell_type": "markdown",
   "metadata": {},
   "source": [
    "# 3.2 - Functions"
   ]
  },
  {
   "cell_type": "code",
   "execution_count": 166,
   "metadata": {},
   "outputs": [],
   "source": [
    "def my_function(x, y, z=1.5): #Positional and Keyword Arguments\n",
    "    if z > 1:\n",
    "        return z * (x + y)\n",
    "    else:\n",
    "        return z / (x + y)"
   ]
  },
  {
   "cell_type": "code",
   "execution_count": 167,
   "metadata": {},
   "outputs": [
    {
     "data": {
      "text/plain": [
       "15.0"
      ]
     },
     "execution_count": 167,
     "metadata": {},
     "output_type": "execute_result"
    }
   ],
   "source": [
    "my_function(5, 5)"
   ]
  },
  {
   "cell_type": "code",
   "execution_count": 168,
   "metadata": {},
   "outputs": [
    {
     "data": {
      "text/plain": [
       "780"
      ]
     },
     "execution_count": 168,
     "metadata": {},
     "output_type": "execute_result"
    }
   ],
   "source": [
    "my_function(5, 5, 78)"
   ]
  },
  {
   "cell_type": "code",
   "execution_count": 169,
   "metadata": {},
   "outputs": [
    {
     "data": {
      "text/plain": [
       "80"
      ]
     },
     "execution_count": 169,
     "metadata": {},
     "output_type": "execute_result"
    }
   ],
   "source": [
    "my_function(5, 5, z=8)"
   ]
  },
  {
   "cell_type": "code",
   "execution_count": 170,
   "metadata": {},
   "outputs": [
    {
     "data": {
      "text/plain": [
       "415"
      ]
     },
     "execution_count": 170,
     "metadata": {},
     "output_type": "execute_result"
    }
   ],
   "source": [
    "my_function(y=5, z=5, x=78)"
   ]
  },
  {
   "cell_type": "code",
   "execution_count": 171,
   "metadata": {},
   "outputs": [],
   "source": [
    "a = 0"
   ]
  },
  {
   "cell_type": "code",
   "execution_count": 172,
   "metadata": {},
   "outputs": [],
   "source": [
    "def func(): \n",
    "    a = []\n",
    "    for i in range(5):\n",
    "        a.append(i)"
   ]
  },
  {
   "cell_type": "code",
   "execution_count": 173,
   "metadata": {},
   "outputs": [],
   "source": [
    "func() #Because a is declared in local namespace"
   ]
  },
  {
   "cell_type": "code",
   "execution_count": 174,
   "metadata": {},
   "outputs": [
    {
     "data": {
      "text/plain": [
       "0"
      ]
     },
     "execution_count": 174,
     "metadata": {},
     "output_type": "execute_result"
    }
   ],
   "source": [
    "a"
   ]
  },
  {
   "cell_type": "code",
   "execution_count": 175,
   "metadata": {},
   "outputs": [],
   "source": [
    "a = []\n",
    "def func(): \n",
    "    for i in range(5):\n",
    "        a.append(i)"
   ]
  },
  {
   "cell_type": "code",
   "execution_count": 176,
   "metadata": {},
   "outputs": [
    {
     "data": {
      "text/plain": [
       "[]"
      ]
     },
     "execution_count": 176,
     "metadata": {},
     "output_type": "execute_result"
    }
   ],
   "source": [
    "a #Still wont work"
   ]
  },
  {
   "cell_type": "code",
   "execution_count": 177,
   "metadata": {},
   "outputs": [],
   "source": [
    "a = None\n",
    "def func():\n",
    "    global a #We'll have to use keyword global\n",
    "    a = []\n",
    "    for i in range(5):\n",
    "        a.append(i)"
   ]
  },
  {
   "cell_type": "code",
   "execution_count": 178,
   "metadata": {},
   "outputs": [],
   "source": [
    "func()"
   ]
  },
  {
   "cell_type": "code",
   "execution_count": 179,
   "metadata": {},
   "outputs": [
    {
     "data": {
      "text/plain": [
       "[0, 1, 2, 3, 4]"
      ]
     },
     "execution_count": 179,
     "metadata": {},
     "output_type": "execute_result"
    }
   ],
   "source": [
    "a"
   ]
  },
  {
   "cell_type": "markdown",
   "metadata": {},
   "source": [
    "Avoid using global too much, if needed then approach to object oriented"
   ]
  },
  {
   "cell_type": "code",
   "execution_count": 180,
   "metadata": {},
   "outputs": [],
   "source": [
    "def f():\n",
    "    a = 5\n",
    "    b = 6\n",
    "    c = 7\n",
    "    \n",
    "    return a, b, c #return multiple values in form of tuple"
   ]
  },
  {
   "cell_type": "code",
   "execution_count": 181,
   "metadata": {},
   "outputs": [
    {
     "data": {
      "text/plain": [
       "(5, 6, 7)"
      ]
     },
     "execution_count": 181,
     "metadata": {},
     "output_type": "execute_result"
    }
   ],
   "source": [
    "f()"
   ]
  },
  {
   "cell_type": "code",
   "execution_count": 182,
   "metadata": {},
   "outputs": [],
   "source": [
    "a, b, c = f()"
   ]
  },
  {
   "cell_type": "code",
   "execution_count": 183,
   "metadata": {},
   "outputs": [
    {
     "data": {
      "text/plain": [
       "5"
      ]
     },
     "execution_count": 183,
     "metadata": {},
     "output_type": "execute_result"
    }
   ],
   "source": [
    "a"
   ]
  },
  {
   "cell_type": "code",
   "execution_count": 184,
   "metadata": {},
   "outputs": [
    {
     "data": {
      "text/plain": [
       "6"
      ]
     },
     "execution_count": 184,
     "metadata": {},
     "output_type": "execute_result"
    }
   ],
   "source": [
    "b"
   ]
  },
  {
   "cell_type": "code",
   "execution_count": 185,
   "metadata": {},
   "outputs": [
    {
     "data": {
      "text/plain": [
       "7"
      ]
     },
     "execution_count": 185,
     "metadata": {},
     "output_type": "execute_result"
    }
   ],
   "source": [
    "c"
   ]
  },
  {
   "cell_type": "code",
   "execution_count": 186,
   "metadata": {},
   "outputs": [],
   "source": [
    "def f():\n",
    "    a = 5\n",
    "    b = 6\n",
    "    c = 7\n",
    "    \n",
    "    return {'a': a, 'b': b, 'c':c}"
   ]
  },
  {
   "cell_type": "code",
   "execution_count": 187,
   "metadata": {},
   "outputs": [
    {
     "data": {
      "text/plain": [
       "{'a': 5, 'b': 6, 'c': 7}"
      ]
     },
     "execution_count": 187,
     "metadata": {},
     "output_type": "execute_result"
    }
   ],
   "source": [
    "f()"
   ]
  },
  {
   "cell_type": "code",
   "execution_count": 188,
   "metadata": {},
   "outputs": [],
   "source": [
    "import re # re -> regular expression"
   ]
  },
  {
   "cell_type": "code",
   "execution_count": 189,
   "metadata": {},
   "outputs": [],
   "source": [
    "states = [' Alabama ', 'Georgia!', 'Georgia', 'georgia', 'FlOrIda', 'south carolina##', 'West virginia?']"
   ]
  },
  {
   "cell_type": "code",
   "execution_count": 190,
   "metadata": {},
   "outputs": [],
   "source": [
    "def clean_strings(strings):\n",
    "    result = []\n",
    "    for value in strings:\n",
    "        value = value.strip() #.strip() removes the spaces from front and back\n",
    "        value = re.sub('[!#?]', '', value)\n",
    "        value = value.title()\n",
    "        result.append(value)\n",
    "    return result"
   ]
  },
  {
   "cell_type": "code",
   "execution_count": 191,
   "metadata": {},
   "outputs": [
    {
     "data": {
      "text/plain": [
       "['Alabama',\n",
       " 'Georgia',\n",
       " 'Georgia',\n",
       " 'Georgia',\n",
       " 'Florida',\n",
       " 'South Carolina',\n",
       " 'West Virginia']"
      ]
     },
     "execution_count": 191,
     "metadata": {},
     "output_type": "execute_result"
    }
   ],
   "source": [
    "clean_strings(states)"
   ]
  },
  {
   "cell_type": "markdown",
   "metadata": {},
   "source": [
    "An alternative approach for cleaning string is:"
   ]
  },
  {
   "cell_type": "code",
   "execution_count": 192,
   "metadata": {},
   "outputs": [],
   "source": [
    "def remove_punc(value):\n",
    "    return re.sub('[#!?]', '', value)"
   ]
  },
  {
   "cell_type": "code",
   "execution_count": 193,
   "metadata": {},
   "outputs": [],
   "source": [
    "cleans_op = [remove_punc, str.title, str.strip] #list of function"
   ]
  },
  {
   "cell_type": "code",
   "execution_count": 194,
   "metadata": {},
   "outputs": [],
   "source": [
    "def clean_str(string, cleans_op):\n",
    "    result = []\n",
    "    for value in string:\n",
    "        for op in cleans_op:\n",
    "            value = op(value)\n",
    "        result.append(value)\n",
    "    return result"
   ]
  },
  {
   "cell_type": "code",
   "execution_count": 195,
   "metadata": {},
   "outputs": [
    {
     "data": {
      "text/plain": [
       "['Alabama',\n",
       " 'Georgia',\n",
       " 'Georgia',\n",
       " 'Georgia',\n",
       " 'Florida',\n",
       " 'South Carolina',\n",
       " 'West Virginia']"
      ]
     },
     "execution_count": 195,
     "metadata": {},
     "output_type": "execute_result"
    }
   ],
   "source": [
    "clean_str(states, cleans_op)"
   ]
  },
  {
   "cell_type": "code",
   "execution_count": 196,
   "metadata": {},
   "outputs": [],
   "source": [
    "def short_exp(x):\n",
    "    return x*2"
   ]
  },
  {
   "cell_type": "code",
   "execution_count": 197,
   "metadata": {},
   "outputs": [],
   "source": [
    "equiv_not = lambda x: x*2 #lambda notation"
   ]
  },
  {
   "cell_type": "code",
   "execution_count": 198,
   "metadata": {},
   "outputs": [],
   "source": [
    "def apply_to_list(some_list, f):\n",
    "     return [f(x) for x in some_list]"
   ]
  },
  {
   "cell_type": "code",
   "execution_count": 199,
   "metadata": {},
   "outputs": [],
   "source": [
    "ints = [4, 0, 1, 5, 6]"
   ]
  },
  {
   "cell_type": "code",
   "execution_count": 200,
   "metadata": {},
   "outputs": [
    {
     "data": {
      "text/plain": [
       "[8, 0, 2, 10, 12]"
      ]
     },
     "execution_count": 200,
     "metadata": {},
     "output_type": "execute_result"
    }
   ],
   "source": [
    "apply_to_list(ints, lambda x: x * 2) #passing lambda function as argument"
   ]
  },
  {
   "cell_type": "code",
   "execution_count": 201,
   "metadata": {},
   "outputs": [
    {
     "data": {
      "text/plain": [
       "[8, 0, 2, 10, 12]"
      ]
     },
     "execution_count": 201,
     "metadata": {},
     "output_type": "execute_result"
    }
   ],
   "source": [
    "list(map(lambda x: x*2, ints))"
   ]
  },
  {
   "cell_type": "code",
   "execution_count": 202,
   "metadata": {},
   "outputs": [],
   "source": [
    "strings = ['foo', 'bar', 'dede', 'bouraa']"
   ]
  },
  {
   "cell_type": "code",
   "execution_count": 203,
   "metadata": {},
   "outputs": [],
   "source": [
    "strings.sort(key = lambda x: len(set(list(x))))"
   ]
  },
  {
   "cell_type": "code",
   "execution_count": 204,
   "metadata": {},
   "outputs": [
    {
     "data": {
      "text/plain": [
       "['foo', 'dede', 'bar', 'bouraa']"
      ]
     },
     "execution_count": 204,
     "metadata": {},
     "output_type": "execute_result"
    }
   ],
   "source": [
    "strings"
   ]
  },
  {
   "cell_type": "markdown",
   "metadata": {},
   "source": [
    "Currying: Using pre existing function to derive new function"
   ]
  },
  {
   "cell_type": "code",
   "execution_count": 205,
   "metadata": {},
   "outputs": [],
   "source": [
    "def add_numbers(x, y):\n",
    "    return x + y"
   ]
  },
  {
   "cell_type": "code",
   "execution_count": 206,
   "metadata": {},
   "outputs": [],
   "source": [
    "add_five = lambda y: add_numbers(5, y)"
   ]
  },
  {
   "cell_type": "code",
   "execution_count": 207,
   "metadata": {},
   "outputs": [
    {
     "data": {
      "text/plain": [
       "20"
      ]
     },
     "execution_count": 207,
     "metadata": {},
     "output_type": "execute_result"
    }
   ],
   "source": [
    "add_five(15)"
   ]
  },
  {
   "cell_type": "markdown",
   "metadata": {},
   "source": [
    "We can done the above task by calling partial() from functools module"
   ]
  },
  {
   "cell_type": "code",
   "execution_count": 208,
   "metadata": {},
   "outputs": [],
   "source": [
    "from functools import partial"
   ]
  },
  {
   "cell_type": "code",
   "execution_count": 209,
   "metadata": {},
   "outputs": [],
   "source": [
    "add_five = partial(add_numbers, 5)"
   ]
  },
  {
   "cell_type": "code",
   "execution_count": 210,
   "metadata": {},
   "outputs": [
    {
     "data": {
      "text/plain": [
       "12"
      ]
     },
     "execution_count": 210,
     "metadata": {},
     "output_type": "execute_result"
    }
   ],
   "source": [
    "add_five(7)"
   ]
  },
  {
   "cell_type": "markdown",
   "metadata": {},
   "source": [
    "A generator is a concise way to construct a new iterable object. "
   ]
  },
  {
   "cell_type": "code",
   "execution_count": 211,
   "metadata": {},
   "outputs": [],
   "source": [
    "some_dict = {0:'a', 1:'b', 2:'c', 3:'d'}"
   ]
  },
  {
   "cell_type": "code",
   "execution_count": 212,
   "metadata": {},
   "outputs": [],
   "source": [
    "dict_iterator = iter(some_dict)"
   ]
  },
  {
   "cell_type": "code",
   "execution_count": 213,
   "metadata": {},
   "outputs": [
    {
     "data": {
      "text/plain": [
       "<dict_keyiterator at 0x2c097430408>"
      ]
     },
     "execution_count": 213,
     "metadata": {},
     "output_type": "execute_result"
    }
   ],
   "source": [
    "dict_iterator"
   ]
  },
  {
   "cell_type": "code",
   "execution_count": 214,
   "metadata": {},
   "outputs": [
    {
     "data": {
      "text/plain": [
       "[0, 1, 2, 3]"
      ]
     },
     "execution_count": 214,
     "metadata": {},
     "output_type": "execute_result"
    }
   ],
   "source": [
    "list(dict_iterator)"
   ]
  },
  {
   "cell_type": "code",
   "execution_count": 215,
   "metadata": {},
   "outputs": [],
   "source": [
    "def cubes(n=10):\n",
    "    print(f'Generating cubes from 1 to {n ** 3}')\n",
    "    for i in range(1, n+1):\n",
    "        yield i ** 3 #used keyword yield to create generator"
   ]
  },
  {
   "cell_type": "code",
   "execution_count": 216,
   "metadata": {},
   "outputs": [],
   "source": [
    "gen = cubes()"
   ]
  },
  {
   "cell_type": "code",
   "execution_count": 217,
   "metadata": {},
   "outputs": [
    {
     "data": {
      "text/plain": [
       "<generator object cubes at 0x000002C09744E148>"
      ]
     },
     "execution_count": 217,
     "metadata": {},
     "output_type": "execute_result"
    }
   ],
   "source": [
    "gen"
   ]
  },
  {
   "cell_type": "code",
   "execution_count": 218,
   "metadata": {},
   "outputs": [
    {
     "name": "stdout",
     "output_type": "stream",
     "text": [
      "Generating cubes from 1 to 1000\n",
      "1 8 27 64 125 216 343 512 729 1000 "
     ]
    }
   ],
   "source": [
    "for x in gen:\n",
    "    print(x, end=' ')"
   ]
  },
  {
   "cell_type": "code",
   "execution_count": 219,
   "metadata": {},
   "outputs": [],
   "source": [
    "#Another way to create generator is to used () as:"
   ]
  },
  {
   "cell_type": "code",
   "execution_count": 220,
   "metadata": {},
   "outputs": [],
   "source": [
    "gen_a = (x ** 2 for x in range(1, 1001)) #generator expression"
   ]
  },
  {
   "cell_type": "code",
   "execution_count": 221,
   "metadata": {},
   "outputs": [
    {
     "data": {
      "text/plain": [
       "<generator object <genexpr> at 0x000002C09744E248>"
      ]
     },
     "execution_count": 221,
     "metadata": {},
     "output_type": "execute_result"
    }
   ],
   "source": [
    "gen_a"
   ]
  },
  {
   "cell_type": "code",
   "execution_count": 222,
   "metadata": {},
   "outputs": [
    {
     "data": {
      "text/plain": [
       "250500250000"
      ]
     },
     "execution_count": 222,
     "metadata": {},
     "output_type": "execute_result"
    }
   ],
   "source": [
    "sum(x ** 3 for x in range(1, 1001)) #using gen exp with sum"
   ]
  },
  {
   "cell_type": "code",
   "execution_count": 223,
   "metadata": {},
   "outputs": [
    {
     "data": {
      "text/plain": [
       "1000000000"
      ]
     },
     "execution_count": 223,
     "metadata": {},
     "output_type": "execute_result"
    }
   ],
   "source": [
    "max(x ** 3 for x in range(1, 1001))"
   ]
  },
  {
   "cell_type": "code",
   "execution_count": 224,
   "metadata": {},
   "outputs": [
    {
     "data": {
      "text/plain": [
       "1"
      ]
     },
     "execution_count": 224,
     "metadata": {},
     "output_type": "execute_result"
    }
   ],
   "source": [
    "min(x ** 3 for x in range(1, 1001))"
   ]
  },
  {
   "cell_type": "code",
   "execution_count": 225,
   "metadata": {},
   "outputs": [
    {
     "data": {
      "text/plain": [
       "{1: 1,\n",
       " 2: 8,\n",
       " 3: 27,\n",
       " 4: 64,\n",
       " 5: 125,\n",
       " 6: 216,\n",
       " 7: 343,\n",
       " 8: 512,\n",
       " 9: 729,\n",
       " 10: 1000,\n",
       " 11: 1331,\n",
       " 12: 1728,\n",
       " 13: 2197,\n",
       " 14: 2744,\n",
       " 15: 3375,\n",
       " 16: 4096,\n",
       " 17: 4913,\n",
       " 18: 5832,\n",
       " 19: 6859,\n",
       " 20: 8000,\n",
       " 21: 9261,\n",
       " 22: 10648,\n",
       " 23: 12167,\n",
       " 24: 13824,\n",
       " 25: 15625,\n",
       " 26: 17576,\n",
       " 27: 19683,\n",
       " 28: 21952,\n",
       " 29: 24389,\n",
       " 30: 27000,\n",
       " 31: 29791,\n",
       " 32: 32768,\n",
       " 33: 35937,\n",
       " 34: 39304,\n",
       " 35: 42875,\n",
       " 36: 46656,\n",
       " 37: 50653,\n",
       " 38: 54872,\n",
       " 39: 59319,\n",
       " 40: 64000,\n",
       " 41: 68921,\n",
       " 42: 74088,\n",
       " 43: 79507,\n",
       " 44: 85184,\n",
       " 45: 91125,\n",
       " 46: 97336,\n",
       " 47: 103823,\n",
       " 48: 110592,\n",
       " 49: 117649,\n",
       " 50: 125000,\n",
       " 51: 132651,\n",
       " 52: 140608,\n",
       " 53: 148877,\n",
       " 54: 157464,\n",
       " 55: 166375,\n",
       " 56: 175616,\n",
       " 57: 185193,\n",
       " 58: 195112,\n",
       " 59: 205379,\n",
       " 60: 216000,\n",
       " 61: 226981,\n",
       " 62: 238328,\n",
       " 63: 250047,\n",
       " 64: 262144,\n",
       " 65: 274625,\n",
       " 66: 287496,\n",
       " 67: 300763,\n",
       " 68: 314432,\n",
       " 69: 328509,\n",
       " 70: 343000,\n",
       " 71: 357911,\n",
       " 72: 373248,\n",
       " 73: 389017,\n",
       " 74: 405224,\n",
       " 75: 421875,\n",
       " 76: 438976,\n",
       " 77: 456533,\n",
       " 78: 474552,\n",
       " 79: 493039,\n",
       " 80: 512000,\n",
       " 81: 531441,\n",
       " 82: 551368,\n",
       " 83: 571787,\n",
       " 84: 592704,\n",
       " 85: 614125,\n",
       " 86: 636056,\n",
       " 87: 658503,\n",
       " 88: 681472,\n",
       " 89: 704969,\n",
       " 90: 729000,\n",
       " 91: 753571,\n",
       " 92: 778688,\n",
       " 93: 804357,\n",
       " 94: 830584,\n",
       " 95: 857375,\n",
       " 96: 884736,\n",
       " 97: 912673,\n",
       " 98: 941192,\n",
       " 99: 970299,\n",
       " 100: 1000000,\n",
       " 101: 1030301,\n",
       " 102: 1061208,\n",
       " 103: 1092727,\n",
       " 104: 1124864,\n",
       " 105: 1157625,\n",
       " 106: 1191016,\n",
       " 107: 1225043,\n",
       " 108: 1259712,\n",
       " 109: 1295029,\n",
       " 110: 1331000,\n",
       " 111: 1367631,\n",
       " 112: 1404928,\n",
       " 113: 1442897,\n",
       " 114: 1481544,\n",
       " 115: 1520875,\n",
       " 116: 1560896,\n",
       " 117: 1601613,\n",
       " 118: 1643032,\n",
       " 119: 1685159,\n",
       " 120: 1728000,\n",
       " 121: 1771561,\n",
       " 122: 1815848,\n",
       " 123: 1860867,\n",
       " 124: 1906624,\n",
       " 125: 1953125,\n",
       " 126: 2000376,\n",
       " 127: 2048383,\n",
       " 128: 2097152,\n",
       " 129: 2146689,\n",
       " 130: 2197000,\n",
       " 131: 2248091,\n",
       " 132: 2299968,\n",
       " 133: 2352637,\n",
       " 134: 2406104,\n",
       " 135: 2460375,\n",
       " 136: 2515456,\n",
       " 137: 2571353,\n",
       " 138: 2628072,\n",
       " 139: 2685619,\n",
       " 140: 2744000,\n",
       " 141: 2803221,\n",
       " 142: 2863288,\n",
       " 143: 2924207,\n",
       " 144: 2985984,\n",
       " 145: 3048625,\n",
       " 146: 3112136,\n",
       " 147: 3176523,\n",
       " 148: 3241792,\n",
       " 149: 3307949,\n",
       " 150: 3375000,\n",
       " 151: 3442951,\n",
       " 152: 3511808,\n",
       " 153: 3581577,\n",
       " 154: 3652264,\n",
       " 155: 3723875,\n",
       " 156: 3796416,\n",
       " 157: 3869893,\n",
       " 158: 3944312,\n",
       " 159: 4019679,\n",
       " 160: 4096000,\n",
       " 161: 4173281,\n",
       " 162: 4251528,\n",
       " 163: 4330747,\n",
       " 164: 4410944,\n",
       " 165: 4492125,\n",
       " 166: 4574296,\n",
       " 167: 4657463,\n",
       " 168: 4741632,\n",
       " 169: 4826809,\n",
       " 170: 4913000,\n",
       " 171: 5000211,\n",
       " 172: 5088448,\n",
       " 173: 5177717,\n",
       " 174: 5268024,\n",
       " 175: 5359375,\n",
       " 176: 5451776,\n",
       " 177: 5545233,\n",
       " 178: 5639752,\n",
       " 179: 5735339,\n",
       " 180: 5832000,\n",
       " 181: 5929741,\n",
       " 182: 6028568,\n",
       " 183: 6128487,\n",
       " 184: 6229504,\n",
       " 185: 6331625,\n",
       " 186: 6434856,\n",
       " 187: 6539203,\n",
       " 188: 6644672,\n",
       " 189: 6751269,\n",
       " 190: 6859000,\n",
       " 191: 6967871,\n",
       " 192: 7077888,\n",
       " 193: 7189057,\n",
       " 194: 7301384,\n",
       " 195: 7414875,\n",
       " 196: 7529536,\n",
       " 197: 7645373,\n",
       " 198: 7762392,\n",
       " 199: 7880599,\n",
       " 200: 8000000,\n",
       " 201: 8120601,\n",
       " 202: 8242408,\n",
       " 203: 8365427,\n",
       " 204: 8489664,\n",
       " 205: 8615125,\n",
       " 206: 8741816,\n",
       " 207: 8869743,\n",
       " 208: 8998912,\n",
       " 209: 9129329,\n",
       " 210: 9261000,\n",
       " 211: 9393931,\n",
       " 212: 9528128,\n",
       " 213: 9663597,\n",
       " 214: 9800344,\n",
       " 215: 9938375,\n",
       " 216: 10077696,\n",
       " 217: 10218313,\n",
       " 218: 10360232,\n",
       " 219: 10503459,\n",
       " 220: 10648000,\n",
       " 221: 10793861,\n",
       " 222: 10941048,\n",
       " 223: 11089567,\n",
       " 224: 11239424,\n",
       " 225: 11390625,\n",
       " 226: 11543176,\n",
       " 227: 11697083,\n",
       " 228: 11852352,\n",
       " 229: 12008989,\n",
       " 230: 12167000,\n",
       " 231: 12326391,\n",
       " 232: 12487168,\n",
       " 233: 12649337,\n",
       " 234: 12812904,\n",
       " 235: 12977875,\n",
       " 236: 13144256,\n",
       " 237: 13312053,\n",
       " 238: 13481272,\n",
       " 239: 13651919,\n",
       " 240: 13824000,\n",
       " 241: 13997521,\n",
       " 242: 14172488,\n",
       " 243: 14348907,\n",
       " 244: 14526784,\n",
       " 245: 14706125,\n",
       " 246: 14886936,\n",
       " 247: 15069223,\n",
       " 248: 15252992,\n",
       " 249: 15438249,\n",
       " 250: 15625000,\n",
       " 251: 15813251,\n",
       " 252: 16003008,\n",
       " 253: 16194277,\n",
       " 254: 16387064,\n",
       " 255: 16581375,\n",
       " 256: 16777216,\n",
       " 257: 16974593,\n",
       " 258: 17173512,\n",
       " 259: 17373979,\n",
       " 260: 17576000,\n",
       " 261: 17779581,\n",
       " 262: 17984728,\n",
       " 263: 18191447,\n",
       " 264: 18399744,\n",
       " 265: 18609625,\n",
       " 266: 18821096,\n",
       " 267: 19034163,\n",
       " 268: 19248832,\n",
       " 269: 19465109,\n",
       " 270: 19683000,\n",
       " 271: 19902511,\n",
       " 272: 20123648,\n",
       " 273: 20346417,\n",
       " 274: 20570824,\n",
       " 275: 20796875,\n",
       " 276: 21024576,\n",
       " 277: 21253933,\n",
       " 278: 21484952,\n",
       " 279: 21717639,\n",
       " 280: 21952000,\n",
       " 281: 22188041,\n",
       " 282: 22425768,\n",
       " 283: 22665187,\n",
       " 284: 22906304,\n",
       " 285: 23149125,\n",
       " 286: 23393656,\n",
       " 287: 23639903,\n",
       " 288: 23887872,\n",
       " 289: 24137569,\n",
       " 290: 24389000,\n",
       " 291: 24642171,\n",
       " 292: 24897088,\n",
       " 293: 25153757,\n",
       " 294: 25412184,\n",
       " 295: 25672375,\n",
       " 296: 25934336,\n",
       " 297: 26198073,\n",
       " 298: 26463592,\n",
       " 299: 26730899,\n",
       " 300: 27000000,\n",
       " 301: 27270901,\n",
       " 302: 27543608,\n",
       " 303: 27818127,\n",
       " 304: 28094464,\n",
       " 305: 28372625,\n",
       " 306: 28652616,\n",
       " 307: 28934443,\n",
       " 308: 29218112,\n",
       " 309: 29503629,\n",
       " 310: 29791000,\n",
       " 311: 30080231,\n",
       " 312: 30371328,\n",
       " 313: 30664297,\n",
       " 314: 30959144,\n",
       " 315: 31255875,\n",
       " 316: 31554496,\n",
       " 317: 31855013,\n",
       " 318: 32157432,\n",
       " 319: 32461759,\n",
       " 320: 32768000,\n",
       " 321: 33076161,\n",
       " 322: 33386248,\n",
       " 323: 33698267,\n",
       " 324: 34012224,\n",
       " 325: 34328125,\n",
       " 326: 34645976,\n",
       " 327: 34965783,\n",
       " 328: 35287552,\n",
       " 329: 35611289,\n",
       " 330: 35937000,\n",
       " 331: 36264691,\n",
       " 332: 36594368,\n",
       " 333: 36926037,\n",
       " 334: 37259704,\n",
       " 335: 37595375,\n",
       " 336: 37933056,\n",
       " 337: 38272753,\n",
       " 338: 38614472,\n",
       " 339: 38958219,\n",
       " 340: 39304000,\n",
       " 341: 39651821,\n",
       " 342: 40001688,\n",
       " 343: 40353607,\n",
       " 344: 40707584,\n",
       " 345: 41063625,\n",
       " 346: 41421736,\n",
       " 347: 41781923,\n",
       " 348: 42144192,\n",
       " 349: 42508549,\n",
       " 350: 42875000,\n",
       " 351: 43243551,\n",
       " 352: 43614208,\n",
       " 353: 43986977,\n",
       " 354: 44361864,\n",
       " 355: 44738875,\n",
       " 356: 45118016,\n",
       " 357: 45499293,\n",
       " 358: 45882712,\n",
       " 359: 46268279,\n",
       " 360: 46656000,\n",
       " 361: 47045881,\n",
       " 362: 47437928,\n",
       " 363: 47832147,\n",
       " 364: 48228544,\n",
       " 365: 48627125,\n",
       " 366: 49027896,\n",
       " 367: 49430863,\n",
       " 368: 49836032,\n",
       " 369: 50243409,\n",
       " 370: 50653000,\n",
       " 371: 51064811,\n",
       " 372: 51478848,\n",
       " 373: 51895117,\n",
       " 374: 52313624,\n",
       " 375: 52734375,\n",
       " 376: 53157376,\n",
       " 377: 53582633,\n",
       " 378: 54010152,\n",
       " 379: 54439939,\n",
       " 380: 54872000,\n",
       " 381: 55306341,\n",
       " 382: 55742968,\n",
       " 383: 56181887,\n",
       " 384: 56623104,\n",
       " 385: 57066625,\n",
       " 386: 57512456,\n",
       " 387: 57960603,\n",
       " 388: 58411072,\n",
       " 389: 58863869,\n",
       " 390: 59319000,\n",
       " 391: 59776471,\n",
       " 392: 60236288,\n",
       " 393: 60698457,\n",
       " 394: 61162984,\n",
       " 395: 61629875,\n",
       " 396: 62099136,\n",
       " 397: 62570773,\n",
       " 398: 63044792,\n",
       " 399: 63521199,\n",
       " 400: 64000000,\n",
       " 401: 64481201,\n",
       " 402: 64964808,\n",
       " 403: 65450827,\n",
       " 404: 65939264,\n",
       " 405: 66430125,\n",
       " 406: 66923416,\n",
       " 407: 67419143,\n",
       " 408: 67917312,\n",
       " 409: 68417929,\n",
       " 410: 68921000,\n",
       " 411: 69426531,\n",
       " 412: 69934528,\n",
       " 413: 70444997,\n",
       " 414: 70957944,\n",
       " 415: 71473375,\n",
       " 416: 71991296,\n",
       " 417: 72511713,\n",
       " 418: 73034632,\n",
       " 419: 73560059,\n",
       " 420: 74088000,\n",
       " 421: 74618461,\n",
       " 422: 75151448,\n",
       " 423: 75686967,\n",
       " 424: 76225024,\n",
       " 425: 76765625,\n",
       " 426: 77308776,\n",
       " 427: 77854483,\n",
       " 428: 78402752,\n",
       " 429: 78953589,\n",
       " 430: 79507000,\n",
       " 431: 80062991,\n",
       " 432: 80621568,\n",
       " 433: 81182737,\n",
       " 434: 81746504,\n",
       " 435: 82312875,\n",
       " 436: 82881856,\n",
       " 437: 83453453,\n",
       " 438: 84027672,\n",
       " 439: 84604519,\n",
       " 440: 85184000,\n",
       " 441: 85766121,\n",
       " 442: 86350888,\n",
       " 443: 86938307,\n",
       " 444: 87528384,\n",
       " 445: 88121125,\n",
       " 446: 88716536,\n",
       " 447: 89314623,\n",
       " 448: 89915392,\n",
       " 449: 90518849,\n",
       " 450: 91125000,\n",
       " 451: 91733851,\n",
       " 452: 92345408,\n",
       " 453: 92959677,\n",
       " 454: 93576664,\n",
       " 455: 94196375,\n",
       " 456: 94818816,\n",
       " 457: 95443993,\n",
       " 458: 96071912,\n",
       " 459: 96702579,\n",
       " 460: 97336000,\n",
       " 461: 97972181,\n",
       " 462: 98611128,\n",
       " 463: 99252847,\n",
       " 464: 99897344,\n",
       " 465: 100544625,\n",
       " 466: 101194696,\n",
       " 467: 101847563,\n",
       " 468: 102503232,\n",
       " 469: 103161709,\n",
       " 470: 103823000,\n",
       " 471: 104487111,\n",
       " 472: 105154048,\n",
       " 473: 105823817,\n",
       " 474: 106496424,\n",
       " 475: 107171875,\n",
       " 476: 107850176,\n",
       " 477: 108531333,\n",
       " 478: 109215352,\n",
       " 479: 109902239,\n",
       " 480: 110592000,\n",
       " 481: 111284641,\n",
       " 482: 111980168,\n",
       " 483: 112678587,\n",
       " 484: 113379904,\n",
       " 485: 114084125,\n",
       " 486: 114791256,\n",
       " 487: 115501303,\n",
       " 488: 116214272,\n",
       " 489: 116930169,\n",
       " 490: 117649000,\n",
       " 491: 118370771,\n",
       " 492: 119095488,\n",
       " 493: 119823157,\n",
       " 494: 120553784,\n",
       " 495: 121287375,\n",
       " 496: 122023936,\n",
       " 497: 122763473,\n",
       " 498: 123505992,\n",
       " 499: 124251499,\n",
       " 500: 125000000,\n",
       " 501: 125751501,\n",
       " 502: 126506008,\n",
       " 503: 127263527,\n",
       " 504: 128024064,\n",
       " 505: 128787625,\n",
       " 506: 129554216,\n",
       " 507: 130323843,\n",
       " 508: 131096512,\n",
       " 509: 131872229,\n",
       " 510: 132651000,\n",
       " 511: 133432831,\n",
       " 512: 134217728,\n",
       " 513: 135005697,\n",
       " 514: 135796744,\n",
       " 515: 136590875,\n",
       " 516: 137388096,\n",
       " 517: 138188413,\n",
       " 518: 138991832,\n",
       " 519: 139798359,\n",
       " 520: 140608000,\n",
       " 521: 141420761,\n",
       " 522: 142236648,\n",
       " 523: 143055667,\n",
       " 524: 143877824,\n",
       " 525: 144703125,\n",
       " 526: 145531576,\n",
       " 527: 146363183,\n",
       " 528: 147197952,\n",
       " 529: 148035889,\n",
       " 530: 148877000,\n",
       " 531: 149721291,\n",
       " 532: 150568768,\n",
       " 533: 151419437,\n",
       " 534: 152273304,\n",
       " 535: 153130375,\n",
       " 536: 153990656,\n",
       " 537: 154854153,\n",
       " 538: 155720872,\n",
       " 539: 156590819,\n",
       " 540: 157464000,\n",
       " 541: 158340421,\n",
       " 542: 159220088,\n",
       " 543: 160103007,\n",
       " 544: 160989184,\n",
       " 545: 161878625,\n",
       " 546: 162771336,\n",
       " 547: 163667323,\n",
       " 548: 164566592,\n",
       " 549: 165469149,\n",
       " 550: 166375000,\n",
       " 551: 167284151,\n",
       " 552: 168196608,\n",
       " 553: 169112377,\n",
       " 554: 170031464,\n",
       " 555: 170953875,\n",
       " 556: 171879616,\n",
       " 557: 172808693,\n",
       " 558: 173741112,\n",
       " 559: 174676879,\n",
       " 560: 175616000,\n",
       " 561: 176558481,\n",
       " 562: 177504328,\n",
       " 563: 178453547,\n",
       " 564: 179406144,\n",
       " 565: 180362125,\n",
       " 566: 181321496,\n",
       " 567: 182284263,\n",
       " 568: 183250432,\n",
       " 569: 184220009,\n",
       " 570: 185193000,\n",
       " 571: 186169411,\n",
       " 572: 187149248,\n",
       " 573: 188132517,\n",
       " 574: 189119224,\n",
       " 575: 190109375,\n",
       " 576: 191102976,\n",
       " 577: 192100033,\n",
       " 578: 193100552,\n",
       " 579: 194104539,\n",
       " 580: 195112000,\n",
       " 581: 196122941,\n",
       " 582: 197137368,\n",
       " 583: 198155287,\n",
       " 584: 199176704,\n",
       " 585: 200201625,\n",
       " 586: 201230056,\n",
       " 587: 202262003,\n",
       " 588: 203297472,\n",
       " 589: 204336469,\n",
       " 590: 205379000,\n",
       " 591: 206425071,\n",
       " 592: 207474688,\n",
       " 593: 208527857,\n",
       " 594: 209584584,\n",
       " 595: 210644875,\n",
       " 596: 211708736,\n",
       " 597: 212776173,\n",
       " 598: 213847192,\n",
       " 599: 214921799,\n",
       " 600: 216000000,\n",
       " 601: 217081801,\n",
       " 602: 218167208,\n",
       " 603: 219256227,\n",
       " 604: 220348864,\n",
       " 605: 221445125,\n",
       " 606: 222545016,\n",
       " 607: 223648543,\n",
       " 608: 224755712,\n",
       " 609: 225866529,\n",
       " 610: 226981000,\n",
       " 611: 228099131,\n",
       " 612: 229220928,\n",
       " 613: 230346397,\n",
       " 614: 231475544,\n",
       " 615: 232608375,\n",
       " 616: 233744896,\n",
       " 617: 234885113,\n",
       " 618: 236029032,\n",
       " 619: 237176659,\n",
       " 620: 238328000,\n",
       " 621: 239483061,\n",
       " 622: 240641848,\n",
       " 623: 241804367,\n",
       " 624: 242970624,\n",
       " 625: 244140625,\n",
       " 626: 245314376,\n",
       " 627: 246491883,\n",
       " 628: 247673152,\n",
       " 629: 248858189,\n",
       " 630: 250047000,\n",
       " 631: 251239591,\n",
       " 632: 252435968,\n",
       " 633: 253636137,\n",
       " 634: 254840104,\n",
       " 635: 256047875,\n",
       " 636: 257259456,\n",
       " 637: 258474853,\n",
       " 638: 259694072,\n",
       " 639: 260917119,\n",
       " 640: 262144000,\n",
       " 641: 263374721,\n",
       " 642: 264609288,\n",
       " 643: 265847707,\n",
       " 644: 267089984,\n",
       " 645: 268336125,\n",
       " 646: 269586136,\n",
       " 647: 270840023,\n",
       " 648: 272097792,\n",
       " 649: 273359449,\n",
       " 650: 274625000,\n",
       " 651: 275894451,\n",
       " 652: 277167808,\n",
       " 653: 278445077,\n",
       " 654: 279726264,\n",
       " 655: 281011375,\n",
       " 656: 282300416,\n",
       " 657: 283593393,\n",
       " 658: 284890312,\n",
       " 659: 286191179,\n",
       " 660: 287496000,\n",
       " 661: 288804781,\n",
       " 662: 290117528,\n",
       " 663: 291434247,\n",
       " 664: 292754944,\n",
       " 665: 294079625,\n",
       " 666: 295408296,\n",
       " 667: 296740963,\n",
       " 668: 298077632,\n",
       " 669: 299418309,\n",
       " 670: 300763000,\n",
       " 671: 302111711,\n",
       " 672: 303464448,\n",
       " 673: 304821217,\n",
       " 674: 306182024,\n",
       " 675: 307546875,\n",
       " 676: 308915776,\n",
       " 677: 310288733,\n",
       " 678: 311665752,\n",
       " 679: 313046839,\n",
       " 680: 314432000,\n",
       " 681: 315821241,\n",
       " 682: 317214568,\n",
       " 683: 318611987,\n",
       " 684: 320013504,\n",
       " 685: 321419125,\n",
       " 686: 322828856,\n",
       " 687: 324242703,\n",
       " 688: 325660672,\n",
       " 689: 327082769,\n",
       " 690: 328509000,\n",
       " 691: 329939371,\n",
       " 692: 331373888,\n",
       " 693: 332812557,\n",
       " 694: 334255384,\n",
       " 695: 335702375,\n",
       " 696: 337153536,\n",
       " 697: 338608873,\n",
       " 698: 340068392,\n",
       " 699: 341532099,\n",
       " 700: 343000000,\n",
       " 701: 344472101,\n",
       " 702: 345948408,\n",
       " 703: 347428927,\n",
       " 704: 348913664,\n",
       " 705: 350402625,\n",
       " 706: 351895816,\n",
       " 707: 353393243,\n",
       " 708: 354894912,\n",
       " 709: 356400829,\n",
       " 710: 357911000,\n",
       " 711: 359425431,\n",
       " 712: 360944128,\n",
       " 713: 362467097,\n",
       " 714: 363994344,\n",
       " 715: 365525875,\n",
       " 716: 367061696,\n",
       " 717: 368601813,\n",
       " 718: 370146232,\n",
       " 719: 371694959,\n",
       " 720: 373248000,\n",
       " 721: 374805361,\n",
       " 722: 376367048,\n",
       " 723: 377933067,\n",
       " 724: 379503424,\n",
       " 725: 381078125,\n",
       " 726: 382657176,\n",
       " 727: 384240583,\n",
       " 728: 385828352,\n",
       " 729: 387420489,\n",
       " 730: 389017000,\n",
       " 731: 390617891,\n",
       " 732: 392223168,\n",
       " 733: 393832837,\n",
       " 734: 395446904,\n",
       " 735: 397065375,\n",
       " 736: 398688256,\n",
       " 737: 400315553,\n",
       " 738: 401947272,\n",
       " 739: 403583419,\n",
       " 740: 405224000,\n",
       " 741: 406869021,\n",
       " 742: 408518488,\n",
       " 743: 410172407,\n",
       " 744: 411830784,\n",
       " 745: 413493625,\n",
       " 746: 415160936,\n",
       " 747: 416832723,\n",
       " 748: 418508992,\n",
       " 749: 420189749,\n",
       " 750: 421875000,\n",
       " 751: 423564751,\n",
       " 752: 425259008,\n",
       " 753: 426957777,\n",
       " 754: 428661064,\n",
       " 755: 430368875,\n",
       " 756: 432081216,\n",
       " 757: 433798093,\n",
       " 758: 435519512,\n",
       " 759: 437245479,\n",
       " 760: 438976000,\n",
       " 761: 440711081,\n",
       " 762: 442450728,\n",
       " 763: 444194947,\n",
       " 764: 445943744,\n",
       " 765: 447697125,\n",
       " 766: 449455096,\n",
       " 767: 451217663,\n",
       " 768: 452984832,\n",
       " 769: 454756609,\n",
       " 770: 456533000,\n",
       " 771: 458314011,\n",
       " 772: 460099648,\n",
       " 773: 461889917,\n",
       " 774: 463684824,\n",
       " 775: 465484375,\n",
       " 776: 467288576,\n",
       " 777: 469097433,\n",
       " 778: 470910952,\n",
       " 779: 472729139,\n",
       " 780: 474552000,\n",
       " 781: 476379541,\n",
       " 782: 478211768,\n",
       " 783: 480048687,\n",
       " 784: 481890304,\n",
       " 785: 483736625,\n",
       " 786: 485587656,\n",
       " 787: 487443403,\n",
       " 788: 489303872,\n",
       " 789: 491169069,\n",
       " 790: 493039000,\n",
       " 791: 494913671,\n",
       " 792: 496793088,\n",
       " 793: 498677257,\n",
       " 794: 500566184,\n",
       " 795: 502459875,\n",
       " 796: 504358336,\n",
       " 797: 506261573,\n",
       " 798: 508169592,\n",
       " 799: 510082399,\n",
       " 800: 512000000,\n",
       " 801: 513922401,\n",
       " 802: 515849608,\n",
       " 803: 517781627,\n",
       " 804: 519718464,\n",
       " 805: 521660125,\n",
       " 806: 523606616,\n",
       " 807: 525557943,\n",
       " 808: 527514112,\n",
       " 809: 529475129,\n",
       " 810: 531441000,\n",
       " 811: 533411731,\n",
       " 812: 535387328,\n",
       " 813: 537367797,\n",
       " 814: 539353144,\n",
       " 815: 541343375,\n",
       " 816: 543338496,\n",
       " 817: 545338513,\n",
       " 818: 547343432,\n",
       " 819: 549353259,\n",
       " 820: 551368000,\n",
       " 821: 553387661,\n",
       " 822: 555412248,\n",
       " 823: 557441767,\n",
       " 824: 559476224,\n",
       " 825: 561515625,\n",
       " 826: 563559976,\n",
       " 827: 565609283,\n",
       " 828: 567663552,\n",
       " 829: 569722789,\n",
       " 830: 571787000,\n",
       " 831: 573856191,\n",
       " 832: 575930368,\n",
       " 833: 578009537,\n",
       " 834: 580093704,\n",
       " 835: 582182875,\n",
       " 836: 584277056,\n",
       " 837: 586376253,\n",
       " 838: 588480472,\n",
       " 839: 590589719,\n",
       " 840: 592704000,\n",
       " 841: 594823321,\n",
       " 842: 596947688,\n",
       " 843: 599077107,\n",
       " 844: 601211584,\n",
       " 845: 603351125,\n",
       " 846: 605495736,\n",
       " 847: 607645423,\n",
       " 848: 609800192,\n",
       " 849: 611960049,\n",
       " 850: 614125000,\n",
       " 851: 616295051,\n",
       " 852: 618470208,\n",
       " 853: 620650477,\n",
       " 854: 622835864,\n",
       " 855: 625026375,\n",
       " 856: 627222016,\n",
       " 857: 629422793,\n",
       " 858: 631628712,\n",
       " 859: 633839779,\n",
       " 860: 636056000,\n",
       " 861: 638277381,\n",
       " 862: 640503928,\n",
       " 863: 642735647,\n",
       " 864: 644972544,\n",
       " 865: 647214625,\n",
       " 866: 649461896,\n",
       " 867: 651714363,\n",
       " 868: 653972032,\n",
       " 869: 656234909,\n",
       " 870: 658503000,\n",
       " 871: 660776311,\n",
       " 872: 663054848,\n",
       " 873: 665338617,\n",
       " 874: 667627624,\n",
       " 875: 669921875,\n",
       " 876: 672221376,\n",
       " 877: 674526133,\n",
       " 878: 676836152,\n",
       " 879: 679151439,\n",
       " 880: 681472000,\n",
       " 881: 683797841,\n",
       " 882: 686128968,\n",
       " 883: 688465387,\n",
       " 884: 690807104,\n",
       " 885: 693154125,\n",
       " 886: 695506456,\n",
       " 887: 697864103,\n",
       " 888: 700227072,\n",
       " 889: 702595369,\n",
       " 890: 704969000,\n",
       " 891: 707347971,\n",
       " 892: 709732288,\n",
       " 893: 712121957,\n",
       " 894: 714516984,\n",
       " 895: 716917375,\n",
       " 896: 719323136,\n",
       " 897: 721734273,\n",
       " 898: 724150792,\n",
       " 899: 726572699,\n",
       " 900: 729000000,\n",
       " 901: 731432701,\n",
       " 902: 733870808,\n",
       " 903: 736314327,\n",
       " 904: 738763264,\n",
       " 905: 741217625,\n",
       " 906: 743677416,\n",
       " 907: 746142643,\n",
       " 908: 748613312,\n",
       " 909: 751089429,\n",
       " 910: 753571000,\n",
       " 911: 756058031,\n",
       " 912: 758550528,\n",
       " 913: 761048497,\n",
       " 914: 763551944,\n",
       " 915: 766060875,\n",
       " 916: 768575296,\n",
       " 917: 771095213,\n",
       " 918: 773620632,\n",
       " 919: 776151559,\n",
       " 920: 778688000,\n",
       " 921: 781229961,\n",
       " 922: 783777448,\n",
       " 923: 786330467,\n",
       " 924: 788889024,\n",
       " 925: 791453125,\n",
       " 926: 794022776,\n",
       " 927: 796597983,\n",
       " 928: 799178752,\n",
       " 929: 801765089,\n",
       " 930: 804357000,\n",
       " 931: 806954491,\n",
       " 932: 809557568,\n",
       " 933: 812166237,\n",
       " 934: 814780504,\n",
       " 935: 817400375,\n",
       " 936: 820025856,\n",
       " 937: 822656953,\n",
       " 938: 825293672,\n",
       " 939: 827936019,\n",
       " 940: 830584000,\n",
       " 941: 833237621,\n",
       " 942: 835896888,\n",
       " 943: 838561807,\n",
       " 944: 841232384,\n",
       " 945: 843908625,\n",
       " 946: 846590536,\n",
       " 947: 849278123,\n",
       " 948: 851971392,\n",
       " 949: 854670349,\n",
       " 950: 857375000,\n",
       " 951: 860085351,\n",
       " 952: 862801408,\n",
       " 953: 865523177,\n",
       " 954: 868250664,\n",
       " 955: 870983875,\n",
       " 956: 873722816,\n",
       " 957: 876467493,\n",
       " 958: 879217912,\n",
       " 959: 881974079,\n",
       " 960: 884736000,\n",
       " 961: 887503681,\n",
       " 962: 890277128,\n",
       " 963: 893056347,\n",
       " 964: 895841344,\n",
       " 965: 898632125,\n",
       " 966: 901428696,\n",
       " 967: 904231063,\n",
       " 968: 907039232,\n",
       " 969: 909853209,\n",
       " 970: 912673000,\n",
       " 971: 915498611,\n",
       " 972: 918330048,\n",
       " 973: 921167317,\n",
       " 974: 924010424,\n",
       " 975: 926859375,\n",
       " 976: 929714176,\n",
       " 977: 932574833,\n",
       " 978: 935441352,\n",
       " 979: 938313739,\n",
       " 980: 941192000,\n",
       " 981: 944076141,\n",
       " 982: 946966168,\n",
       " 983: 949862087,\n",
       " 984: 952763904,\n",
       " 985: 955671625,\n",
       " 986: 958585256,\n",
       " 987: 961504803,\n",
       " 988: 964430272,\n",
       " 989: 967361669,\n",
       " 990: 970299000,\n",
       " 991: 973242271,\n",
       " 992: 976191488,\n",
       " 993: 979146657,\n",
       " 994: 982107784,\n",
       " 995: 985074875,\n",
       " 996: 988047936,\n",
       " 997: 991026973,\n",
       " 998: 994011992,\n",
       " 999: 997002999,\n",
       " 1000: 1000000000}"
      ]
     },
     "execution_count": 225,
     "metadata": {},
     "output_type": "execute_result"
    }
   ],
   "source": [
    "dict((x, x ** 3) for x in range(1, 1001))"
   ]
  },
  {
   "cell_type": "code",
   "execution_count": 226,
   "metadata": {},
   "outputs": [],
   "source": [
    "import itertools"
   ]
  },
  {
   "cell_type": "code",
   "execution_count": 227,
   "metadata": {},
   "outputs": [],
   "source": [
    "first_letter = lambda x: x[0]"
   ]
  },
  {
   "cell_type": "code",
   "execution_count": 228,
   "metadata": {},
   "outputs": [],
   "source": [
    "names = ['Alan','Alli' , 'Sal', 'Dan', 'Karm', 'Ali', 'DH']"
   ]
  },
  {
   "cell_type": "code",
   "execution_count": 229,
   "metadata": {},
   "outputs": [
    {
     "name": "stdout",
     "output_type": "stream",
     "text": [
      "A: ['Alan', 'Alli']\n",
      "S: ['Sal']\n",
      "D: ['Dan']\n",
      "K: ['Karm']\n",
      "A: ['Ali']\n",
      "D: ['DH']\n"
     ]
    }
   ],
   "source": [
    "for letter, names in itertools.groupby(names, first_letter):\n",
    "    print(f'{letter}: {list(names)}')"
   ]
  },
  {
   "cell_type": "markdown",
   "metadata": {},
   "source": [
    "### Errors and Exceptional Handling"
   ]
  },
  {
   "cell_type": "code",
   "execution_count": 230,
   "metadata": {},
   "outputs": [
    {
     "data": {
      "text/plain": [
       "1.234"
      ]
     },
     "execution_count": 230,
     "metadata": {},
     "output_type": "execute_result"
    }
   ],
   "source": [
    "float('1.234')"
   ]
  },
  {
   "cell_type": "code",
   "execution_count": 231,
   "metadata": {},
   "outputs": [
    {
     "ename": "ValueError",
     "evalue": "could not convert string to float: 'hello'",
     "output_type": "error",
     "traceback": [
      "\u001b[1;31m---------------------------------------------------------------------------\u001b[0m",
      "\u001b[1;31mValueError\u001b[0m                                Traceback (most recent call last)",
      "\u001b[1;32m<ipython-input-231-73c7ac696c5a>\u001b[0m in \u001b[0;36m<module>\u001b[1;34m\u001b[0m\n\u001b[1;32m----> 1\u001b[1;33m \u001b[0mfloat\u001b[0m\u001b[1;33m(\u001b[0m\u001b[1;34m'hello'\u001b[0m\u001b[1;33m)\u001b[0m \u001b[1;31m#We want to execute our code gracefully, so using exception will be better\u001b[0m\u001b[1;33m\u001b[0m\u001b[1;33m\u001b[0m\u001b[0m\n\u001b[0m",
      "\u001b[1;31mValueError\u001b[0m: could not convert string to float: 'hello'"
     ]
    }
   ],
   "source": [
    "float('hello') #We want to execute our code gracefully, so using exception will be better"
   ]
  },
  {
   "cell_type": "code",
   "execution_count": 232,
   "metadata": {},
   "outputs": [],
   "source": [
    "def attempt_float(x):\n",
    "    try:\n",
    "        return float(x)\n",
    "    except:\n",
    "        return x"
   ]
  },
  {
   "cell_type": "code",
   "execution_count": 233,
   "metadata": {},
   "outputs": [
    {
     "data": {
      "text/plain": [
       "1.2354"
      ]
     },
     "execution_count": 233,
     "metadata": {},
     "output_type": "execute_result"
    }
   ],
   "source": [
    "attempt_float('1.2354')"
   ]
  },
  {
   "cell_type": "code",
   "execution_count": 234,
   "metadata": {},
   "outputs": [
    {
     "data": {
      "text/plain": [
       "'hello'"
      ]
     },
     "execution_count": 234,
     "metadata": {},
     "output_type": "execute_result"
    }
   ],
   "source": [
    "attempt_float('hello')"
   ]
  },
  {
   "cell_type": "code",
   "execution_count": 235,
   "metadata": {},
   "outputs": [
    {
     "ename": "TypeError",
     "evalue": "float() argument must be a string or a number, not 'tuple'",
     "output_type": "error",
     "traceback": [
      "\u001b[1;31m---------------------------------------------------------------------------\u001b[0m",
      "\u001b[1;31mTypeError\u001b[0m                                 Traceback (most recent call last)",
      "\u001b[1;32m<ipython-input-235-cb00200f9261>\u001b[0m in \u001b[0;36m<module>\u001b[1;34m\u001b[0m\n\u001b[1;32m----> 1\u001b[1;33m \u001b[0mfloat\u001b[0m\u001b[1;33m(\u001b[0m\u001b[1;33m(\u001b[0m\u001b[1;36m2\u001b[0m\u001b[1;33m,\u001b[0m\u001b[1;36m3\u001b[0m\u001b[1;33m)\u001b[0m\u001b[1;33m)\u001b[0m\u001b[1;33m\u001b[0m\u001b[1;33m\u001b[0m\u001b[0m\n\u001b[0m",
      "\u001b[1;31mTypeError\u001b[0m: float() argument must be a string or a number, not 'tuple'"
     ]
    }
   ],
   "source": [
    "float((2,3))"
   ]
  },
  {
   "cell_type": "code",
   "execution_count": 236,
   "metadata": {},
   "outputs": [],
   "source": [
    "def attempt_float(x):\n",
    "    try:\n",
    "        return float(x)\n",
    "    except ValueError:\n",
    "        return print('Value Error!', x, sep='\\n')\n",
    "    except TypeError:\n",
    "        return print('Type Error!', x, sep='\\n')"
   ]
  },
  {
   "cell_type": "code",
   "execution_count": 237,
   "metadata": {},
   "outputs": [
    {
     "name": "stdout",
     "output_type": "stream",
     "text": [
      "Value Error!\n",
      "hello\n"
     ]
    }
   ],
   "source": [
    "attempt_float('hello')"
   ]
  },
  {
   "cell_type": "code",
   "execution_count": 238,
   "metadata": {},
   "outputs": [
    {
     "name": "stdout",
     "output_type": "stream",
     "text": [
      "Type Error!\n",
      "(2, 3)\n"
     ]
    }
   ],
   "source": [
    "attempt_float((2,3))"
   ]
  },
  {
   "cell_type": "markdown",
   "metadata": {},
   "source": [
    "Below is another way to write exceptions will mixture of else and finally. Finally will always run regardless if try block runs\n",
    "or not"
   ]
  },
  {
   "cell_type": "code",
   "execution_count": 239,
   "metadata": {},
   "outputs": [
    {
     "data": {
      "text/plain": [
       "\"\\nf = open(path, 'w')\\ntry:\\n write_to_file(f)\\nexcept:\\n print('Failed')\\nelse:\\n print('Succeeded')\\nfinally:\\n f.close()\\n\\n\""
      ]
     },
     "execution_count": 239,
     "metadata": {},
     "output_type": "execute_result"
    }
   ],
   "source": [
    "\"\"\"\n",
    "f = open(path, 'w')\n",
    "try:\n",
    " write_to_file(f)\n",
    "except:\n",
    " print('Failed')\n",
    "else:\n",
    " print('Succeeded')\n",
    "finally:\n",
    " f.close()\n",
    "\n",
    "\"\"\""
   ]
  },
  {
   "cell_type": "code",
   "execution_count": 240,
   "metadata": {},
   "outputs": [],
   "source": [
    "# To be continued..."
   ]
  },
  {
   "cell_type": "code",
   "execution_count": null,
   "metadata": {},
   "outputs": [],
   "source": []
  },
  {
   "cell_type": "code",
   "execution_count": null,
   "metadata": {},
   "outputs": [],
   "source": []
  },
  {
   "cell_type": "code",
   "execution_count": null,
   "metadata": {},
   "outputs": [],
   "source": []
  }
 ],
 "metadata": {
  "kernelspec": {
   "display_name": "Python 3",
   "language": "python",
   "name": "python3"
  },
  "language_info": {
   "codemirror_mode": {
    "name": "ipython",
    "version": 3
   },
   "file_extension": ".py",
   "mimetype": "text/x-python",
   "name": "python",
   "nbconvert_exporter": "python",
   "pygments_lexer": "ipython3",
   "version": "3.7.6"
  }
 },
 "nbformat": 4,
 "nbformat_minor": 4
}
